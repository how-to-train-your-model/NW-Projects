{
  "nbformat": 4,
  "nbformat_minor": 0,
  "metadata": {
    "colab": {
      "name": "Chatbot_Foodie_Development_PP.ipynb",
      "provenance": [],
      "collapsed_sections": [],
      "toc_visible": true,
      "authorship_tag": "ABX9TyMUEwCqhUBWfz+MVLH4ZjUb",
      "include_colab_link": true
    },
    "kernelspec": {
      "name": "python3",
      "display_name": "Python 3"
    },
    "language_info": {
      "name": "python"
    }
  },
  "cells": [
    {
      "cell_type": "markdown",
      "metadata": {
        "id": "view-in-github",
        "colab_type": "text"
      },
      "source": [
        "<a href=\"https://colab.research.google.com/github/how-to-train-your-model/data-science-portfolio/blob/main/Chatbot_Foodie_Development_PP.ipynb\" target=\"_parent\"><img src=\"https://colab.research.google.com/assets/colab-badge.svg\" alt=\"Open In Colab\"/></a>"
      ]
    },
    {
      "cell_type": "markdown",
      "metadata": {
        "id": "nSVUW_pod6i3"
      },
      "source": [
        "# Chatbot to find healthy recipes and notritional facts"
      ]
    },
    {
      "cell_type": "markdown",
      "metadata": {
        "id": "aabmwf04d6i3"
      },
      "source": [
        "What's On Your Plate is a platform that collects the recipes from restaurants all over the world , allowing their customers to view the ingredients, nutrition facts and preparation methods for more than 50,000 recipes.\n",
        "\n",
        "They conducted a survey on customers interested tin the restaurant menu. People wanted to know all the ingredients and the nutritional facts of the food, so we decided to provide answers to customers’ questions about their food.\n",
        "\n",
        "Recipe 1M+ is a large-scale, structured corpus of over one million cooking recipes and 13 million food images.\n",
        "\n",
        "Today, I am introducing the chatbot “Foodie”. Foodie will help you find food based on your cravings, food allergies and dietary restrictions.\n",
        "The bot will respond to questions regarding different recipes, preparation directions, and nutrition facts."
      ]
    },
    {
      "cell_type": "markdown",
      "metadata": {
        "id": "-nJOsS3qd6i4"
      },
      "source": [
        "## Importing Packages"
      ]
    },
    {
      "cell_type": "code",
      "execution_count": 1,
      "metadata": {
        "id": "KK9TsSNqgGvP"
      },
      "outputs": [],
      "source": [
        "import re\n",
        "import pandas as pd\n",
        "import numpy as np\n",
        "import spacy\n",
        "from spacy import displacy\n",
        "import seaborn as sns\n",
        "\n",
        "import os\n",
        "import re\n",
        "import string\n",
        "from packaging import version\n",
        "\n",
        "\n",
        "from spacy.matcher import Matcher \n",
        "from spacy.tokens import Span \n",
        "\n",
        "import networkx as nx\n",
        "import matplotlib.pyplot as plt\n",
        "from tqdm import tqdm\n",
        "#from rake_nltk import Rake\n",
        "\n",
        "import re,string\n",
        "import nltk\n",
        "from nltk.corpus import stopwords\n",
        "from nltk.stem import PorterStemmer\n",
        "from nltk.tokenize import word_tokenize \n",
        "from nltk.tokenize import RegexpTokenizer\n",
        "from nltk.stem.wordnet import WordNetLemmatizer\n",
        "from nltk import ngrams, FreqDist\n",
        "from nltk.stem import WordNetLemmatizer\n",
        "\n",
        "import tensorflow as tf\n",
        "from tensorflow import keras\n",
        "from sklearn.model_selection import train_test_split\n",
        "import pickle\n",
        "from keras.models import Sequential\n",
        "from keras.layers import Embedding, LSTM, Dense, Dropout\n",
        "\n",
        "import datetime\n",
        "from packaging import version\n",
        "from collections import Counter\n",
        "import time\n",
        "from timeit import default_timer as timer #import a timer\n",
        "from datetime import datetime\n",
        "\n",
        "\n",
        "\n",
        "from numpy import array\n",
        "from numpy import argmax\n",
        "\n",
        "import seaborn as sns\n",
        "import matplotlib.pyplot as plt\n",
        "from matplotlib import pyplot\n",
        "\n",
        "import nltk\n",
        "from nltk.corpus import stopwords\n",
        "from nltk.stem import PorterStemmer\n",
        "from nltk.tokenize import word_tokenize \n",
        "from nltk.tokenize import RegexpTokenizer\n",
        "from nltk.stem.wordnet import WordNetLemmatizer\n",
        "from nltk import ngrams, FreqDist\n",
        "\n",
        "from sklearn.feature_extraction.text import TfidfVectorizer\n",
        "from sklearn.feature_extraction.text import CountVectorizer\n",
        "from sklearn.metrics.pairwise import cosine_similarity\n",
        "from sklearn.cluster import KMeans\n",
        "from sklearn.manifold import MDS\n",
        "from sklearn.preprocessing import LabelEncoder, OneHotEncoder\n",
        "from sklearn.ensemble import RandomForestClassifier\n",
        "from sklearn.metrics import roc_auc_score, accuracy_score, confusion_matrix, silhouette_score\n",
        "from sklearn.model_selection import cross_val_score, StratifiedKFold\n",
        "from sklearn.tree import DecisionTreeClassifier\n",
        "from sklearn.model_selection import train_test_split, KFold\n",
        "from sklearn.manifold import TSNE\n",
        "\n",
        "import gensim\n",
        "from gensim.models import Word2Vec,LdaMulticore, TfidfModel\n",
        "from gensim import corpora\n",
        "from gensim.models.doc2vec import Doc2Vec, TaggedDocument"
      ]
    },
    {
      "cell_type": "code",
      "source": [
        "# Only run this once, they will be downloaded.\n",
        "nltk.download('stopwords')\n",
        "nltk.download('wordnet')\n",
        "nltk.download('punkt')"
      ],
      "metadata": {
        "colab": {
          "base_uri": "https://localhost:8080/"
        },
        "id": "3uMLgx_28x29",
        "outputId": "384729fb-ef2f-4bb1-db95-5107826b1c5f"
      },
      "execution_count": 2,
      "outputs": [
        {
          "output_type": "stream",
          "name": "stdout",
          "text": [
            "[nltk_data] Downloading package stopwords to /root/nltk_data...\n",
            "[nltk_data]   Package stopwords is already up-to-date!\n",
            "[nltk_data] Downloading package wordnet to /root/nltk_data...\n",
            "[nltk_data]   Package wordnet is already up-to-date!\n",
            "[nltk_data] Downloading package punkt to /root/nltk_data...\n",
            "[nltk_data]   Package punkt is already up-to-date!\n"
          ]
        },
        {
          "output_type": "execute_result",
          "data": {
            "text/plain": [
              "True"
            ]
          },
          "metadata": {},
          "execution_count": 2
        }
      ]
    },
    {
      "cell_type": "code",
      "execution_count": 3,
      "metadata": {
        "id": "fm2fOJECd6i6"
      },
      "outputs": [],
      "source": [
        "import warnings\n",
        "warnings.filterwarnings('ignore')"
      ]
    },
    {
      "cell_type": "markdown",
      "metadata": {
        "id": "i4ipKBZtd6i7"
      },
      "source": [
        "## Mount Google Drive to Colab Environment"
      ]
    },
    {
      "cell_type": "code",
      "execution_count": 4,
      "metadata": {
        "colab": {
          "base_uri": "https://localhost:8080/"
        },
        "id": "-_1jVvcyd6i7",
        "outputId": "e403247a-06dc-43de-ce45-f11ae19af282"
      },
      "outputs": [
        {
          "output_type": "stream",
          "name": "stdout",
          "text": [
            "Drive already mounted at /content/drive; to attempt to forcibly remount, call drive.mount(\"/content/drive\", force_remount=True).\n"
          ]
        }
      ],
      "source": [
        "from google.colab import drive\n",
        "drive.mount('/content/drive')"
      ]
    },
    {
      "cell_type": "code",
      "source": [
        "import warnings\n",
        "warnings.filterwarnings(\"ignore\", category=FutureWarning)\n",
        "warnings.filterwarnings(\"ignore\", category=DeprecationWarning)\n",
        "from sklearn.utils._testing import ignore_warnings\n",
        "from sklearn.exceptions import ConvergenceWarning"
      ],
      "metadata": {
        "id": "aaIY_6XLiEY8"
      },
      "execution_count": 5,
      "outputs": []
    },
    {
      "cell_type": "code",
      "source": [
        "# Allows for muliple output in one cell window\n",
        "from IPython.core.interactiveshell import InteractiveShell\n",
        "InteractiveShell.ast_node_interactivity = \"all\"\n",
        "\n",
        "#Allows for viewing the complete data in a single window \n",
        "pd.set_option('display.max_rows', 500)\n",
        "pd.set_option('display.max_columns', 500)\n",
        "pd.set_option('display.width', 1000)"
      ],
      "metadata": {
        "id": "IamFniqFiGMg"
      },
      "execution_count": 6,
      "outputs": []
    },
    {
      "cell_type": "markdown",
      "metadata": {
        "id": "tRyAkvY0d6i7"
      },
      "source": [
        "<div class=\"alert alert-block alert-info\">\n",
        "    <b>Spacy </b><br>\n",
        "    https://spacy.io/usage/models\n",
        "    </div>"
      ]
    },
    {
      "cell_type": "code",
      "execution_count": 7,
      "metadata": {
        "id": "cEO79H_Td6i8"
      },
      "outputs": [],
      "source": [
        "nlp = spacy.load('en_core_web_sm')"
      ]
    },
    {
      "cell_type": "markdown",
      "source": [
        "## Data processing"
      ],
      "metadata": {
        "id": "IJhQcwnYrtik"
      }
    },
    {
      "cell_type": "code",
      "source": [
        "#stop_words = set(stopwords.words('english'))\n",
        "stopwords = nltk.corpus.stopwords.words('english')\n"
      ],
      "metadata": {
        "id": "E7pAzdAOsZC8"
      },
      "execution_count": 8,
      "outputs": []
    },
    {
      "cell_type": "code",
      "source": [
        " stopwords = nltk.corpus.stopwords.words('english')\n",
        "# newStopWords = ['g'. 're']\n",
        "# stopwords.extend(newStopWords)"
      ],
      "metadata": {
        "id": "aJP6qjChsbMW"
      },
      "execution_count": 9,
      "outputs": []
    },
    {
      "cell_type": "code",
      "source": [
        "# #Removing duplicate stop words\n",
        "# def Remove(duplicate):\n",
        "#     final_list = []\n",
        "#     for num in duplicate:\n",
        "#         if num not in final_list:\n",
        "#             final_list.append(num)\n",
        "#     return final_list\n",
        "     \n",
        "# stop_words_final = Remove(stopwords)\n",
        "# print(stop_words_final)"
      ],
      "metadata": {
        "id": "uQEFBF4vsgTg"
      },
      "execution_count": 10,
      "outputs": []
    },
    {
      "cell_type": "code",
      "source": [
        "def remove_stop_words(in_text):\n",
        "    #stop_words = set(stopwords.words('english')) \n",
        "    stop_words = set(stopwords)\n",
        "    word_tokens = word_tokenize(in_text)  \n",
        "    filtered_sentence = [w for w in word_tokens if not w in stop_words] \n",
        "    filtered_sentence = [] \n",
        "    for w in word_tokens: \n",
        "        if w not in stop_words: \n",
        "            filtered_sentence.append(w) \n",
        "\n",
        "    return filtered_sentence"
      ],
      "metadata": {
        "id": "Vj7r7LVTszgX"
      },
      "execution_count": 11,
      "outputs": []
    },
    {
      "cell_type": "markdown",
      "source": [
        "### Clean doc function"
      ],
      "metadata": {
        "id": "3h0TsZzw0fR2"
      }
    },
    {
      "cell_type": "code",
      "source": [
        "def clean_doc(doc): \n",
        "    #split document into individual words\n",
        "    doc = ' '.join(remove_stop_words(doc))\n",
        "    tokens=doc.split()\n",
        "    re_punc = re.compile('[%s]' % re.escape(string.punctuation))\n",
        "    # remove punctuation from each word\n",
        "    tokens = [re_punc.sub('', w) for w in tokens]\n",
        "    # remove remaining tokens that are not alphabetic\n",
        "    tokens = [word for word in tokens if word.isalpha()]\n",
        "    # filter out short tokens\n",
        "    tokens = [word for word in tokens if len(word) > 4]\n",
        "    #lowercase all words\n",
        "    tokens = [word.lower() for word in tokens]\n",
        "    # filter out stop words\n",
        "    #tokens = [w for w in tokens if not w in stop_words]  \n",
        "       \n",
        "\n",
        "    return tokens    "
      ],
      "metadata": {
        "id": "2n2U7PDE8Cge"
      },
      "execution_count": 12,
      "outputs": []
    },
    {
      "cell_type": "markdown",
      "metadata": {
        "id": "pkFjJnNhd6i9"
      },
      "source": [
        "### Load Data"
      ]
    },
    {
      "cell_type": "code",
      "source": [
        "!ls -l \"/content/drive/My Drive/Colab_Notebooks/MSDS-453/Final_Project\""
      ],
      "metadata": {
        "colab": {
          "base_uri": "https://localhost:8080/"
        },
        "id": "bxF0UWjMhN5z",
        "outputId": "d7bc1a4c-4383-4636-d739-553e0750181e"
      },
      "execution_count": 13,
      "outputs": [
        {
          "output_type": "stream",
          "name": "stdout",
          "text": [
            "total 223398\n",
            "-rw------- 1 root root    216479 Mar  1 22:22 kg_data_cleanup.csv\n",
            "-rw------- 1 root root     15255 Mar  1 22:52 kg_data_cleanup_done.csv\n",
            "-rw------- 1 root root       143 Mar  1 22:52 kg_data_cleanup.gsheet\n",
            "-rw------- 1 root root    701048 Mar  2 16:43 Recipe_Book_final.csv\n",
            "-rw------- 1 root root       143 Mar  8 22:07 Recipe_Book_final.gsheet\n",
            "-rw------- 1 root root       143 Mar  1 05:51 Recipe_Book.gsheet\n",
            "-rw------- 1 root root       143 Mar  2 16:33 Recipe_Book_v1.gsheet\n",
            "-rw------- 1 root root   5127867 Mar 10 00:00 Recipe_Chatbot_Data_Analysis.ipynb\n",
            "-rw------- 1 root root    158099 Mar 10 00:22 Recipe_Chatbot_Model_Development.ipynb\n",
            "-rw------- 1 root root 222537053 Mar  1 01:34 recipes_with_nutritional_info.json\n"
          ]
        }
      ]
    },
    {
      "cell_type": "code",
      "execution_count": 14,
      "metadata": {
        "colab": {
          "base_uri": "https://localhost:8080/",
          "height": 677
        },
        "id": "1aK0tOHPd6i-",
        "outputId": "d857d920-6e39-429f-83cf-ff582dbc0427"
      },
      "outputs": [
        {
          "output_type": "execute_result",
          "data": {
            "text/html": [
              "\n",
              "  <div id=\"df-5e6be0ef-ac4d-4ce5-817b-ee1513307915\">\n",
              "    <div class=\"colab-df-container\">\n",
              "      <div>\n",
              "<style scoped>\n",
              "    .dataframe tbody tr th:only-of-type {\n",
              "        vertical-align: middle;\n",
              "    }\n",
              "\n",
              "    .dataframe tbody tr th {\n",
              "        vertical-align: top;\n",
              "    }\n",
              "\n",
              "    .dataframe thead th {\n",
              "        text-align: right;\n",
              "    }\n",
              "</style>\n",
              "<table border=\"1\" class=\"dataframe\">\n",
              "  <thead>\n",
              "    <tr style=\"text-align: right;\">\n",
              "      <th></th>\n",
              "      <th>Doc_ID</th>\n",
              "      <th>Meal_ID</th>\n",
              "      <th>Ingredients_Directions</th>\n",
              "    </tr>\n",
              "  </thead>\n",
              "  <tbody>\n",
              "    <tr>\n",
              "      <th>0</th>\n",
              "      <td>0</td>\n",
              "      <td>Fluffiest_Blueberry_Pancakes</td>\n",
              "      <td>Super thick and fluffy blueberry pancakes! Mel...</td>\n",
              "    </tr>\n",
              "    <tr>\n",
              "      <th>1</th>\n",
              "      <td>1</td>\n",
              "      <td>The_Best_Green_Smoothie</td>\n",
              "      <td>A healthy breakfast - The Best Green Smoothie\\...</td>\n",
              "    </tr>\n",
              "    <tr>\n",
              "      <th>2</th>\n",
              "      <td>2</td>\n",
              "      <td>Lemon_Poppyseed_Zucchini_Bread</td>\n",
              "      <td>Lemon Poppyseed Zucchini Bread with zucchini, ...</td>\n",
              "    </tr>\n",
              "    <tr>\n",
              "      <th>3</th>\n",
              "      <td>3</td>\n",
              "      <td>Spicy_Shrimp_Tacos_with_Garlic_Cilantro_Lime_Slaw</td>\n",
              "      <td>The BEST Shrimp Tacos with Garlic Cilantro Lim...</td>\n",
              "    </tr>\n",
              "    <tr>\n",
              "      <th>4</th>\n",
              "      <td>4</td>\n",
              "      <td>Chipotle_Tahini_Bowls</td>\n",
              "      <td>Healthy and versatile bowls that come together...</td>\n",
              "    </tr>\n",
              "    <tr>\n",
              "      <th>5</th>\n",
              "      <td>5</td>\n",
              "      <td>Sheet_Pan_Chicken_Pitas_with_Tzatziki</td>\n",
              "      <td>Sheet Pan Chicken Pitas that are salty-briney-...</td>\n",
              "    </tr>\n",
              "    <tr>\n",
              "      <th>6</th>\n",
              "      <td>6</td>\n",
              "      <td>The_Best_Soft_Chocolate_Chip_Cookies</td>\n",
              "      <td>These are THE BEST soft chocolate chip cookies...</td>\n",
              "    </tr>\n",
              "    <tr>\n",
              "      <th>7</th>\n",
              "      <td>7</td>\n",
              "      <td>Raspberry_Crumble_Bars</td>\n",
              "      <td>These Raspberry Crumble Bars are one of the be...</td>\n",
              "    </tr>\n",
              "    <tr>\n",
              "      <th>8</th>\n",
              "      <td>8</td>\n",
              "      <td>Best_Peach_Cobbler</td>\n",
              "      <td>I have tried so many peach cobbler recipes and...</td>\n",
              "    </tr>\n",
              "    <tr>\n",
              "      <th>9</th>\n",
              "      <td>9</td>\n",
              "      <td>Yogurt_Parfaits</td>\n",
              "      <td>'yogurt, greek, plain, nonfat',  'strawberrie...</td>\n",
              "    </tr>\n",
              "    <tr>\n",
              "      <th>10</th>\n",
              "      <td>10</td>\n",
              "      <td>Salt_Free,_Low_Cholesterol_Sugar_Cookies_Recipe</td>\n",
              "      <td>'sugars, granulated',  'oil, corn, peanut, an...</td>\n",
              "    </tr>\n",
              "    <tr>\n",
              "      <th>11</th>\n",
              "      <td>11</td>\n",
              "      <td>Honey_Sriracha_Chicken_Wings</td>\n",
              "      <td>'chicken, broilers or fryers, wing, meat and ...</td>\n",
              "    </tr>\n",
              "    <tr>\n",
              "      <th>12</th>\n",
              "      <td>12</td>\n",
              "      <td>Shrimp_and_Caper_Salad</td>\n",
              "      <td>'crustaceans, shrimp, raw (not previously fro...</td>\n",
              "    </tr>\n",
              "    <tr>\n",
              "      <th>13</th>\n",
              "      <td>13</td>\n",
              "      <td>Natural_Peanut_Butter_Chocolate_Bon_Bons</td>\n",
              "      <td>'cocoa, dry powder, unsweetened',  'honey',  ...</td>\n",
              "    </tr>\n",
              "    <tr>\n",
              "      <th>14</th>\n",
              "      <td>14</td>\n",
              "      <td>Easy_Cheese_Sauce</td>\n",
              "      <td>'cheese, pasteurized process, american, witho...</td>\n",
              "    </tr>\n",
              "    <tr>\n",
              "      <th>15</th>\n",
              "      <td>15</td>\n",
              "      <td>Easy_Chocolate_Frosting_Recipe</td>\n",
              "      <td>'spartan, real semi-sweet chocolate baking ch...</td>\n",
              "    </tr>\n",
              "    <tr>\n",
              "      <th>16</th>\n",
              "      <td>16</td>\n",
              "      <td>Cornmeal_Crackers_with_Pumpkin_Seeds</td>\n",
              "      <td>'cornmeal, degermed, unenriched, yellow',  'w...</td>\n",
              "    </tr>\n",
              "    <tr>\n",
              "      <th>17</th>\n",
              "      <td>17</td>\n",
              "      <td>Chocolate-Orange_Angel_Food_Cake</td>\n",
              "      <td>'sugars, powdered',  'wheat flour, white, cak...</td>\n",
              "    </tr>\n",
              "    <tr>\n",
              "      <th>18</th>\n",
              "      <td>18</td>\n",
              "      <td>Rice_With_Lemon,_Capers_&amp;_Parsley</td>\n",
              "      <td>'rice, white, long-grain, regular, unenriched...</td>\n",
              "    </tr>\n",
              "    <tr>\n",
              "      <th>19</th>\n",
              "      <td>19</td>\n",
              "      <td>Cheryl's_Veggie-Nut_Patties</td>\n",
              "      <td>'squash, winter, butternut, raw',  'cauliflow...</td>\n",
              "    </tr>\n",
              "  </tbody>\n",
              "</table>\n",
              "</div>\n",
              "      <button class=\"colab-df-convert\" onclick=\"convertToInteractive('df-5e6be0ef-ac4d-4ce5-817b-ee1513307915')\"\n",
              "              title=\"Convert this dataframe to an interactive table.\"\n",
              "              style=\"display:none;\">\n",
              "        \n",
              "  <svg xmlns=\"http://www.w3.org/2000/svg\" height=\"24px\"viewBox=\"0 0 24 24\"\n",
              "       width=\"24px\">\n",
              "    <path d=\"M0 0h24v24H0V0z\" fill=\"none\"/>\n",
              "    <path d=\"M18.56 5.44l.94 2.06.94-2.06 2.06-.94-2.06-.94-.94-2.06-.94 2.06-2.06.94zm-11 1L8.5 8.5l.94-2.06 2.06-.94-2.06-.94L8.5 2.5l-.94 2.06-2.06.94zm10 10l.94 2.06.94-2.06 2.06-.94-2.06-.94-.94-2.06-.94 2.06-2.06.94z\"/><path d=\"M17.41 7.96l-1.37-1.37c-.4-.4-.92-.59-1.43-.59-.52 0-1.04.2-1.43.59L10.3 9.45l-7.72 7.72c-.78.78-.78 2.05 0 2.83L4 21.41c.39.39.9.59 1.41.59.51 0 1.02-.2 1.41-.59l7.78-7.78 2.81-2.81c.8-.78.8-2.07 0-2.86zM5.41 20L4 18.59l7.72-7.72 1.47 1.35L5.41 20z\"/>\n",
              "  </svg>\n",
              "      </button>\n",
              "      \n",
              "  <style>\n",
              "    .colab-df-container {\n",
              "      display:flex;\n",
              "      flex-wrap:wrap;\n",
              "      gap: 12px;\n",
              "    }\n",
              "\n",
              "    .colab-df-convert {\n",
              "      background-color: #E8F0FE;\n",
              "      border: none;\n",
              "      border-radius: 50%;\n",
              "      cursor: pointer;\n",
              "      display: none;\n",
              "      fill: #1967D2;\n",
              "      height: 32px;\n",
              "      padding: 0 0 0 0;\n",
              "      width: 32px;\n",
              "    }\n",
              "\n",
              "    .colab-df-convert:hover {\n",
              "      background-color: #E2EBFA;\n",
              "      box-shadow: 0px 1px 2px rgba(60, 64, 67, 0.3), 0px 1px 3px 1px rgba(60, 64, 67, 0.15);\n",
              "      fill: #174EA6;\n",
              "    }\n",
              "\n",
              "    [theme=dark] .colab-df-convert {\n",
              "      background-color: #3B4455;\n",
              "      fill: #D2E3FC;\n",
              "    }\n",
              "\n",
              "    [theme=dark] .colab-df-convert:hover {\n",
              "      background-color: #434B5C;\n",
              "      box-shadow: 0px 1px 3px 1px rgba(0, 0, 0, 0.15);\n",
              "      filter: drop-shadow(0px 1px 2px rgba(0, 0, 0, 0.3));\n",
              "      fill: #FFFFFF;\n",
              "    }\n",
              "  </style>\n",
              "\n",
              "      <script>\n",
              "        const buttonEl =\n",
              "          document.querySelector('#df-5e6be0ef-ac4d-4ce5-817b-ee1513307915 button.colab-df-convert');\n",
              "        buttonEl.style.display =\n",
              "          google.colab.kernel.accessAllowed ? 'block' : 'none';\n",
              "\n",
              "        async function convertToInteractive(key) {\n",
              "          const element = document.querySelector('#df-5e6be0ef-ac4d-4ce5-817b-ee1513307915');\n",
              "          const dataTable =\n",
              "            await google.colab.kernel.invokeFunction('convertToInteractive',\n",
              "                                                     [key], {});\n",
              "          if (!dataTable) return;\n",
              "\n",
              "          const docLinkHtml = 'Like what you see? Visit the ' +\n",
              "            '<a target=\"_blank\" href=https://colab.research.google.com/notebooks/data_table.ipynb>data table notebook</a>'\n",
              "            + ' to learn more about interactive tables.';\n",
              "          element.innerHTML = '';\n",
              "          dataTable['output_type'] = 'display_data';\n",
              "          await google.colab.output.renderOutput(dataTable, element);\n",
              "          const docLink = document.createElement('div');\n",
              "          docLink.innerHTML = docLinkHtml;\n",
              "          element.appendChild(docLink);\n",
              "        }\n",
              "      </script>\n",
              "    </div>\n",
              "  </div>\n",
              "  "
            ],
            "text/plain": [
              "    Doc_ID                                            Meal_ID                             Ingredients_Directions\n",
              "0        0                       Fluffiest_Blueberry_Pancakes  Super thick and fluffy blueberry pancakes! Mel...\n",
              "1        1                            The_Best_Green_Smoothie  A healthy breakfast - The Best Green Smoothie\\...\n",
              "2        2                     Lemon_Poppyseed_Zucchini_Bread  Lemon Poppyseed Zucchini Bread with zucchini, ...\n",
              "3        3  Spicy_Shrimp_Tacos_with_Garlic_Cilantro_Lime_Slaw  The BEST Shrimp Tacos with Garlic Cilantro Lim...\n",
              "4        4                              Chipotle_Tahini_Bowls  Healthy and versatile bowls that come together...\n",
              "5        5              Sheet_Pan_Chicken_Pitas_with_Tzatziki  Sheet Pan Chicken Pitas that are salty-briney-...\n",
              "6        6               The_Best_Soft_Chocolate_Chip_Cookies  These are THE BEST soft chocolate chip cookies...\n",
              "7        7                             Raspberry_Crumble_Bars  These Raspberry Crumble Bars are one of the be...\n",
              "8        8                                 Best_Peach_Cobbler  I have tried so many peach cobbler recipes and...\n",
              "9        9                                    Yogurt_Parfaits   'yogurt, greek, plain, nonfat',  'strawberrie...\n",
              "10      10    Salt_Free,_Low_Cholesterol_Sugar_Cookies_Recipe   'sugars, granulated',  'oil, corn, peanut, an...\n",
              "11      11                       Honey_Sriracha_Chicken_Wings   'chicken, broilers or fryers, wing, meat and ...\n",
              "12      12                             Shrimp_and_Caper_Salad   'crustaceans, shrimp, raw (not previously fro...\n",
              "13      13           Natural_Peanut_Butter_Chocolate_Bon_Bons   'cocoa, dry powder, unsweetened',  'honey',  ...\n",
              "14      14                                  Easy_Cheese_Sauce   'cheese, pasteurized process, american, witho...\n",
              "15      15                     Easy_Chocolate_Frosting_Recipe   'spartan, real semi-sweet chocolate baking ch...\n",
              "16      16               Cornmeal_Crackers_with_Pumpkin_Seeds   'cornmeal, degermed, unenriched, yellow',  'w...\n",
              "17      17                   Chocolate-Orange_Angel_Food_Cake   'sugars, powdered',  'wheat flour, white, cak...\n",
              "18      18                  Rice_With_Lemon,_Capers_&_Parsley   'rice, white, long-grain, regular, unenriched...\n",
              "19      19                        Cheryl's_Veggie-Nut_Patties   'squash, winter, butternut, raw',  'cauliflow..."
            ]
          },
          "metadata": {},
          "execution_count": 14
        }
      ],
      "source": [
        "path_to_file=('/content/drive/My Drive/Colab_Notebooks/MSDS-453/Final_Project/Recipe_Book_final.csv')\n",
        "data = pd.read_csv(path_to_file)\n",
        "data.head(20)\n",
        "\n"
      ]
    },
    {
      "cell_type": "code",
      "source": [
        "#adding two columns to the dataframe to store the processed text and tokenized text\n",
        "data['processed_text'] = data['Ingredients_Directions'].apply(lambda x: clean_doc(x))\n",
        "\n",
        "recipe_data = data.copy()\n",
        "recipe_data.head(2)"
      ],
      "metadata": {
        "colab": {
          "base_uri": "https://localhost:8080/",
          "height": 112
        },
        "id": "zLjZ5wN8yhCR",
        "outputId": "4e96ee10-6573-4aa4-9781-a83940f8faee"
      },
      "execution_count": 15,
      "outputs": [
        {
          "output_type": "execute_result",
          "data": {
            "text/html": [
              "\n",
              "  <div id=\"df-000d5e45-14d2-447c-92ca-6d4e65546fd1\">\n",
              "    <div class=\"colab-df-container\">\n",
              "      <div>\n",
              "<style scoped>\n",
              "    .dataframe tbody tr th:only-of-type {\n",
              "        vertical-align: middle;\n",
              "    }\n",
              "\n",
              "    .dataframe tbody tr th {\n",
              "        vertical-align: top;\n",
              "    }\n",
              "\n",
              "    .dataframe thead th {\n",
              "        text-align: right;\n",
              "    }\n",
              "</style>\n",
              "<table border=\"1\" class=\"dataframe\">\n",
              "  <thead>\n",
              "    <tr style=\"text-align: right;\">\n",
              "      <th></th>\n",
              "      <th>Doc_ID</th>\n",
              "      <th>Meal_ID</th>\n",
              "      <th>Ingredients_Directions</th>\n",
              "      <th>processed_text</th>\n",
              "    </tr>\n",
              "  </thead>\n",
              "  <tbody>\n",
              "    <tr>\n",
              "      <th>0</th>\n",
              "      <td>0</td>\n",
              "      <td>Fluffiest_Blueberry_Pancakes</td>\n",
              "      <td>Super thick and fluffy blueberry pancakes! Mel...</td>\n",
              "      <td>[super, thick, fluffy, blueberry, pancakes, mo...</td>\n",
              "    </tr>\n",
              "    <tr>\n",
              "      <th>1</th>\n",
              "      <td>1</td>\n",
              "      <td>The_Best_Green_Smoothie</td>\n",
              "      <td>A healthy breakfast - The Best Green Smoothie\\...</td>\n",
              "      <td>[healthy, breakfast, green, smoothie, reviews,...</td>\n",
              "    </tr>\n",
              "  </tbody>\n",
              "</table>\n",
              "</div>\n",
              "      <button class=\"colab-df-convert\" onclick=\"convertToInteractive('df-000d5e45-14d2-447c-92ca-6d4e65546fd1')\"\n",
              "              title=\"Convert this dataframe to an interactive table.\"\n",
              "              style=\"display:none;\">\n",
              "        \n",
              "  <svg xmlns=\"http://www.w3.org/2000/svg\" height=\"24px\"viewBox=\"0 0 24 24\"\n",
              "       width=\"24px\">\n",
              "    <path d=\"M0 0h24v24H0V0z\" fill=\"none\"/>\n",
              "    <path d=\"M18.56 5.44l.94 2.06.94-2.06 2.06-.94-2.06-.94-.94-2.06-.94 2.06-2.06.94zm-11 1L8.5 8.5l.94-2.06 2.06-.94-2.06-.94L8.5 2.5l-.94 2.06-2.06.94zm10 10l.94 2.06.94-2.06 2.06-.94-2.06-.94-.94-2.06-.94 2.06-2.06.94z\"/><path d=\"M17.41 7.96l-1.37-1.37c-.4-.4-.92-.59-1.43-.59-.52 0-1.04.2-1.43.59L10.3 9.45l-7.72 7.72c-.78.78-.78 2.05 0 2.83L4 21.41c.39.39.9.59 1.41.59.51 0 1.02-.2 1.41-.59l7.78-7.78 2.81-2.81c.8-.78.8-2.07 0-2.86zM5.41 20L4 18.59l7.72-7.72 1.47 1.35L5.41 20z\"/>\n",
              "  </svg>\n",
              "      </button>\n",
              "      \n",
              "  <style>\n",
              "    .colab-df-container {\n",
              "      display:flex;\n",
              "      flex-wrap:wrap;\n",
              "      gap: 12px;\n",
              "    }\n",
              "\n",
              "    .colab-df-convert {\n",
              "      background-color: #E8F0FE;\n",
              "      border: none;\n",
              "      border-radius: 50%;\n",
              "      cursor: pointer;\n",
              "      display: none;\n",
              "      fill: #1967D2;\n",
              "      height: 32px;\n",
              "      padding: 0 0 0 0;\n",
              "      width: 32px;\n",
              "    }\n",
              "\n",
              "    .colab-df-convert:hover {\n",
              "      background-color: #E2EBFA;\n",
              "      box-shadow: 0px 1px 2px rgba(60, 64, 67, 0.3), 0px 1px 3px 1px rgba(60, 64, 67, 0.15);\n",
              "      fill: #174EA6;\n",
              "    }\n",
              "\n",
              "    [theme=dark] .colab-df-convert {\n",
              "      background-color: #3B4455;\n",
              "      fill: #D2E3FC;\n",
              "    }\n",
              "\n",
              "    [theme=dark] .colab-df-convert:hover {\n",
              "      background-color: #434B5C;\n",
              "      box-shadow: 0px 1px 3px 1px rgba(0, 0, 0, 0.15);\n",
              "      filter: drop-shadow(0px 1px 2px rgba(0, 0, 0, 0.3));\n",
              "      fill: #FFFFFF;\n",
              "    }\n",
              "  </style>\n",
              "\n",
              "      <script>\n",
              "        const buttonEl =\n",
              "          document.querySelector('#df-000d5e45-14d2-447c-92ca-6d4e65546fd1 button.colab-df-convert');\n",
              "        buttonEl.style.display =\n",
              "          google.colab.kernel.accessAllowed ? 'block' : 'none';\n",
              "\n",
              "        async function convertToInteractive(key) {\n",
              "          const element = document.querySelector('#df-000d5e45-14d2-447c-92ca-6d4e65546fd1');\n",
              "          const dataTable =\n",
              "            await google.colab.kernel.invokeFunction('convertToInteractive',\n",
              "                                                     [key], {});\n",
              "          if (!dataTable) return;\n",
              "\n",
              "          const docLinkHtml = 'Like what you see? Visit the ' +\n",
              "            '<a target=\"_blank\" href=https://colab.research.google.com/notebooks/data_table.ipynb>data table notebook</a>'\n",
              "            + ' to learn more about interactive tables.';\n",
              "          element.innerHTML = '';\n",
              "          dataTable['output_type'] = 'display_data';\n",
              "          await google.colab.output.renderOutput(dataTable, element);\n",
              "          const docLink = document.createElement('div');\n",
              "          docLink.innerHTML = docLinkHtml;\n",
              "          element.appendChild(docLink);\n",
              "        }\n",
              "      </script>\n",
              "    </div>\n",
              "  </div>\n",
              "  "
            ],
            "text/plain": [
              "   Doc_ID                       Meal_ID                             Ingredients_Directions                                     processed_text\n",
              "0       0  Fluffiest_Blueberry_Pancakes  Super thick and fluffy blueberry pancakes! Mel...  [super, thick, fluffy, blueberry, pancakes, mo...\n",
              "1       1       The_Best_Green_Smoothie  A healthy breakfast - The Best Green Smoothie\\...  [healthy, breakfast, green, smoothie, reviews,..."
            ]
          },
          "metadata": {},
          "execution_count": 15
        }
      ]
    },
    {
      "cell_type": "code",
      "source": [
        "data.head()\n",
        "data.shape\n",
        "data['Meal_ID'].head().unique()"
      ],
      "metadata": {
        "colab": {
          "base_uri": "https://localhost:8080/",
          "height": 411
        },
        "id": "zvOmYBZUh2kS",
        "outputId": "8c753351-e287-4e4c-c5e8-ec78b3084cac"
      },
      "execution_count": 16,
      "outputs": [
        {
          "output_type": "execute_result",
          "data": {
            "text/html": [
              "\n",
              "  <div id=\"df-71386246-9b79-4470-ade2-14a50a09bf78\">\n",
              "    <div class=\"colab-df-container\">\n",
              "      <div>\n",
              "<style scoped>\n",
              "    .dataframe tbody tr th:only-of-type {\n",
              "        vertical-align: middle;\n",
              "    }\n",
              "\n",
              "    .dataframe tbody tr th {\n",
              "        vertical-align: top;\n",
              "    }\n",
              "\n",
              "    .dataframe thead th {\n",
              "        text-align: right;\n",
              "    }\n",
              "</style>\n",
              "<table border=\"1\" class=\"dataframe\">\n",
              "  <thead>\n",
              "    <tr style=\"text-align: right;\">\n",
              "      <th></th>\n",
              "      <th>Doc_ID</th>\n",
              "      <th>Meal_ID</th>\n",
              "      <th>Ingredients_Directions</th>\n",
              "      <th>processed_text</th>\n",
              "    </tr>\n",
              "  </thead>\n",
              "  <tbody>\n",
              "    <tr>\n",
              "      <th>0</th>\n",
              "      <td>0</td>\n",
              "      <td>Fluffiest_Blueberry_Pancakes</td>\n",
              "      <td>Super thick and fluffy blueberry pancakes! Mel...</td>\n",
              "      <td>[super, thick, fluffy, blueberry, pancakes, mo...</td>\n",
              "    </tr>\n",
              "    <tr>\n",
              "      <th>1</th>\n",
              "      <td>1</td>\n",
              "      <td>The_Best_Green_Smoothie</td>\n",
              "      <td>A healthy breakfast - The Best Green Smoothie\\...</td>\n",
              "      <td>[healthy, breakfast, green, smoothie, reviews,...</td>\n",
              "    </tr>\n",
              "    <tr>\n",
              "      <th>2</th>\n",
              "      <td>2</td>\n",
              "      <td>Lemon_Poppyseed_Zucchini_Bread</td>\n",
              "      <td>Lemon Poppyseed Zucchini Bread with zucchini, ...</td>\n",
              "      <td>[lemon, poppyseed, zucchini, bread, zucchini, ...</td>\n",
              "    </tr>\n",
              "    <tr>\n",
              "      <th>3</th>\n",
              "      <td>3</td>\n",
              "      <td>Spicy_Shrimp_Tacos_with_Garlic_Cilantro_Lime_Slaw</td>\n",
              "      <td>The BEST Shrimp Tacos with Garlic Cilantro Lim...</td>\n",
              "      <td>[shrimp, tacos, garlic, cilantro, ready, minut...</td>\n",
              "    </tr>\n",
              "    <tr>\n",
              "      <th>4</th>\n",
              "      <td>4</td>\n",
              "      <td>Chipotle_Tahini_Bowls</td>\n",
              "      <td>Healthy and versatile bowls that come together...</td>\n",
              "      <td>[healthy, versatile, bowls, together, generous...</td>\n",
              "    </tr>\n",
              "  </tbody>\n",
              "</table>\n",
              "</div>\n",
              "      <button class=\"colab-df-convert\" onclick=\"convertToInteractive('df-71386246-9b79-4470-ade2-14a50a09bf78')\"\n",
              "              title=\"Convert this dataframe to an interactive table.\"\n",
              "              style=\"display:none;\">\n",
              "        \n",
              "  <svg xmlns=\"http://www.w3.org/2000/svg\" height=\"24px\"viewBox=\"0 0 24 24\"\n",
              "       width=\"24px\">\n",
              "    <path d=\"M0 0h24v24H0V0z\" fill=\"none\"/>\n",
              "    <path d=\"M18.56 5.44l.94 2.06.94-2.06 2.06-.94-2.06-.94-.94-2.06-.94 2.06-2.06.94zm-11 1L8.5 8.5l.94-2.06 2.06-.94-2.06-.94L8.5 2.5l-.94 2.06-2.06.94zm10 10l.94 2.06.94-2.06 2.06-.94-2.06-.94-.94-2.06-.94 2.06-2.06.94z\"/><path d=\"M17.41 7.96l-1.37-1.37c-.4-.4-.92-.59-1.43-.59-.52 0-1.04.2-1.43.59L10.3 9.45l-7.72 7.72c-.78.78-.78 2.05 0 2.83L4 21.41c.39.39.9.59 1.41.59.51 0 1.02-.2 1.41-.59l7.78-7.78 2.81-2.81c.8-.78.8-2.07 0-2.86zM5.41 20L4 18.59l7.72-7.72 1.47 1.35L5.41 20z\"/>\n",
              "  </svg>\n",
              "      </button>\n",
              "      \n",
              "  <style>\n",
              "    .colab-df-container {\n",
              "      display:flex;\n",
              "      flex-wrap:wrap;\n",
              "      gap: 12px;\n",
              "    }\n",
              "\n",
              "    .colab-df-convert {\n",
              "      background-color: #E8F0FE;\n",
              "      border: none;\n",
              "      border-radius: 50%;\n",
              "      cursor: pointer;\n",
              "      display: none;\n",
              "      fill: #1967D2;\n",
              "      height: 32px;\n",
              "      padding: 0 0 0 0;\n",
              "      width: 32px;\n",
              "    }\n",
              "\n",
              "    .colab-df-convert:hover {\n",
              "      background-color: #E2EBFA;\n",
              "      box-shadow: 0px 1px 2px rgba(60, 64, 67, 0.3), 0px 1px 3px 1px rgba(60, 64, 67, 0.15);\n",
              "      fill: #174EA6;\n",
              "    }\n",
              "\n",
              "    [theme=dark] .colab-df-convert {\n",
              "      background-color: #3B4455;\n",
              "      fill: #D2E3FC;\n",
              "    }\n",
              "\n",
              "    [theme=dark] .colab-df-convert:hover {\n",
              "      background-color: #434B5C;\n",
              "      box-shadow: 0px 1px 3px 1px rgba(0, 0, 0, 0.15);\n",
              "      filter: drop-shadow(0px 1px 2px rgba(0, 0, 0, 0.3));\n",
              "      fill: #FFFFFF;\n",
              "    }\n",
              "  </style>\n",
              "\n",
              "      <script>\n",
              "        const buttonEl =\n",
              "          document.querySelector('#df-71386246-9b79-4470-ade2-14a50a09bf78 button.colab-df-convert');\n",
              "        buttonEl.style.display =\n",
              "          google.colab.kernel.accessAllowed ? 'block' : 'none';\n",
              "\n",
              "        async function convertToInteractive(key) {\n",
              "          const element = document.querySelector('#df-71386246-9b79-4470-ade2-14a50a09bf78');\n",
              "          const dataTable =\n",
              "            await google.colab.kernel.invokeFunction('convertToInteractive',\n",
              "                                                     [key], {});\n",
              "          if (!dataTable) return;\n",
              "\n",
              "          const docLinkHtml = 'Like what you see? Visit the ' +\n",
              "            '<a target=\"_blank\" href=https://colab.research.google.com/notebooks/data_table.ipynb>data table notebook</a>'\n",
              "            + ' to learn more about interactive tables.';\n",
              "          element.innerHTML = '';\n",
              "          dataTable['output_type'] = 'display_data';\n",
              "          await google.colab.output.renderOutput(dataTable, element);\n",
              "          const docLink = document.createElement('div');\n",
              "          docLink.innerHTML = docLinkHtml;\n",
              "          element.appendChild(docLink);\n",
              "        }\n",
              "      </script>\n",
              "    </div>\n",
              "  </div>\n",
              "  "
            ],
            "text/plain": [
              "   Doc_ID                                            Meal_ID                             Ingredients_Directions                                     processed_text\n",
              "0       0                       Fluffiest_Blueberry_Pancakes  Super thick and fluffy blueberry pancakes! Mel...  [super, thick, fluffy, blueberry, pancakes, mo...\n",
              "1       1                            The_Best_Green_Smoothie  A healthy breakfast - The Best Green Smoothie\\...  [healthy, breakfast, green, smoothie, reviews,...\n",
              "2       2                     Lemon_Poppyseed_Zucchini_Bread  Lemon Poppyseed Zucchini Bread with zucchini, ...  [lemon, poppyseed, zucchini, bread, zucchini, ...\n",
              "3       3  Spicy_Shrimp_Tacos_with_Garlic_Cilantro_Lime_Slaw  The BEST Shrimp Tacos with Garlic Cilantro Lim...  [shrimp, tacos, garlic, cilantro, ready, minut...\n",
              "4       4                              Chipotle_Tahini_Bowls  Healthy and versatile bowls that come together...  [healthy, versatile, bowls, together, generous..."
            ]
          },
          "metadata": {},
          "execution_count": 16
        },
        {
          "output_type": "execute_result",
          "data": {
            "text/plain": [
              "(501, 4)"
            ]
          },
          "metadata": {},
          "execution_count": 16
        },
        {
          "output_type": "execute_result",
          "data": {
            "text/plain": [
              "array(['Fluffiest_Blueberry_Pancakes', 'The_Best_Green_Smoothie',\n",
              "       'Lemon_Poppyseed_Zucchini_Bread',\n",
              "       'Spicy_Shrimp_Tacos_with_Garlic_Cilantro_Lime_Slaw',\n",
              "       'Chipotle_Tahini_Bowls'], dtype=object)"
            ]
          },
          "metadata": {},
          "execution_count": 16
        }
      ]
    },
    {
      "cell_type": "markdown",
      "source": [
        "## Chatbot Data prep"
      ],
      "metadata": {
        "id": "YxzxcxTTCi8-"
      }
    },
    {
      "cell_type": "code",
      "source": [
        "from google.colab import drive\n",
        "drive.mount('/content/drive')\n",
        "\n",
        "import warnings\n",
        "warnings.filterwarnings(\"ignore\", category=FutureWarning)\n",
        "warnings.filterwarnings(\"ignore\", category=DeprecationWarning)\n",
        "from sklearn.utils._testing import ignore_warnings\n",
        "from sklearn.exceptions import ConvergenceWarning\n",
        "\n",
        "# Allows for muliple output in one cell window\n",
        "from IPython.core.interactiveshell import InteractiveShell\n",
        "InteractiveShell.ast_node_interactivity = \"all\"\n",
        "\n",
        "#Allows for viewing the complete data in a single window \n",
        "pd.set_option('display.max_rows', 500)\n",
        "pd.set_option('display.max_columns', 500)\n",
        "pd.set_option('display.width', 1000)"
      ],
      "metadata": {
        "colab": {
          "base_uri": "https://localhost:8080/"
        },
        "id": "x_ECyFMAfRke",
        "outputId": "d015d344-0a24-4ca1-afde-d022944ae69b"
      },
      "execution_count": 17,
      "outputs": [
        {
          "output_type": "stream",
          "name": "stdout",
          "text": [
            "Drive already mounted at /content/drive; to attempt to forcibly remount, call drive.mount(\"/content/drive\", force_remount=True).\n"
          ]
        }
      ]
    },
    {
      "cell_type": "code",
      "source": [
        "!ls -l '/content/drive/My Drive/Colab_Notebooks/MSDS-453/Final_Project'"
      ],
      "metadata": {
        "colab": {
          "base_uri": "https://localhost:8080/"
        },
        "id": "UUHMEwUZxQ_l",
        "outputId": "e18e4f0f-a47a-4c5e-c2a5-195d20a93432"
      },
      "execution_count": 18,
      "outputs": [
        {
          "output_type": "stream",
          "name": "stdout",
          "text": [
            "total 223398\n",
            "-rw------- 1 root root    216479 Mar  1 22:22 kg_data_cleanup.csv\n",
            "-rw------- 1 root root     15255 Mar  1 22:52 kg_data_cleanup_done.csv\n",
            "-rw------- 1 root root       143 Mar  1 22:52 kg_data_cleanup.gsheet\n",
            "-rw------- 1 root root    701048 Mar  2 16:43 Recipe_Book_final.csv\n",
            "-rw------- 1 root root       143 Mar  8 22:07 Recipe_Book_final.gsheet\n",
            "-rw------- 1 root root       143 Mar  1 05:51 Recipe_Book.gsheet\n",
            "-rw------- 1 root root       143 Mar  2 16:33 Recipe_Book_v1.gsheet\n",
            "-rw------- 1 root root   5127867 Mar 10 00:00 Recipe_Chatbot_Data_Analysis.ipynb\n",
            "-rw------- 1 root root    158099 Mar 10 00:22 Recipe_Chatbot_Model_Development.ipynb\n",
            "-rw------- 1 root root 222537053 Mar  1 01:34 recipes_with_nutritional_info.json\n"
          ]
        }
      ]
    },
    {
      "cell_type": "code",
      "source": [
        "path_to_file=('/content/drive/My Drive/Colab_Notebooks/MSDS-453/Final_Project/Recipe_Book_final.csv')\n",
        "data1 = pd.read_csv(path_to_file)\n",
        "data1.head(20)\n",
        "\n"
      ],
      "metadata": {
        "colab": {
          "base_uri": "https://localhost:8080/",
          "height": 677
        },
        "id": "yyiUuF_Fwydy",
        "outputId": "5510529d-242d-4c9d-dcf3-1e96d9907647"
      },
      "execution_count": 19,
      "outputs": [
        {
          "output_type": "execute_result",
          "data": {
            "text/html": [
              "\n",
              "  <div id=\"df-0fb19611-70ad-478a-accb-b9763caf9111\">\n",
              "    <div class=\"colab-df-container\">\n",
              "      <div>\n",
              "<style scoped>\n",
              "    .dataframe tbody tr th:only-of-type {\n",
              "        vertical-align: middle;\n",
              "    }\n",
              "\n",
              "    .dataframe tbody tr th {\n",
              "        vertical-align: top;\n",
              "    }\n",
              "\n",
              "    .dataframe thead th {\n",
              "        text-align: right;\n",
              "    }\n",
              "</style>\n",
              "<table border=\"1\" class=\"dataframe\">\n",
              "  <thead>\n",
              "    <tr style=\"text-align: right;\">\n",
              "      <th></th>\n",
              "      <th>Doc_ID</th>\n",
              "      <th>Meal_ID</th>\n",
              "      <th>Ingredients_Directions</th>\n",
              "    </tr>\n",
              "  </thead>\n",
              "  <tbody>\n",
              "    <tr>\n",
              "      <th>0</th>\n",
              "      <td>0</td>\n",
              "      <td>Fluffiest_Blueberry_Pancakes</td>\n",
              "      <td>Super thick and fluffy blueberry pancakes! Mel...</td>\n",
              "    </tr>\n",
              "    <tr>\n",
              "      <th>1</th>\n",
              "      <td>1</td>\n",
              "      <td>The_Best_Green_Smoothie</td>\n",
              "      <td>A healthy breakfast - The Best Green Smoothie\\...</td>\n",
              "    </tr>\n",
              "    <tr>\n",
              "      <th>2</th>\n",
              "      <td>2</td>\n",
              "      <td>Lemon_Poppyseed_Zucchini_Bread</td>\n",
              "      <td>Lemon Poppyseed Zucchini Bread with zucchini, ...</td>\n",
              "    </tr>\n",
              "    <tr>\n",
              "      <th>3</th>\n",
              "      <td>3</td>\n",
              "      <td>Spicy_Shrimp_Tacos_with_Garlic_Cilantro_Lime_Slaw</td>\n",
              "      <td>The BEST Shrimp Tacos with Garlic Cilantro Lim...</td>\n",
              "    </tr>\n",
              "    <tr>\n",
              "      <th>4</th>\n",
              "      <td>4</td>\n",
              "      <td>Chipotle_Tahini_Bowls</td>\n",
              "      <td>Healthy and versatile bowls that come together...</td>\n",
              "    </tr>\n",
              "    <tr>\n",
              "      <th>5</th>\n",
              "      <td>5</td>\n",
              "      <td>Sheet_Pan_Chicken_Pitas_with_Tzatziki</td>\n",
              "      <td>Sheet Pan Chicken Pitas that are salty-briney-...</td>\n",
              "    </tr>\n",
              "    <tr>\n",
              "      <th>6</th>\n",
              "      <td>6</td>\n",
              "      <td>The_Best_Soft_Chocolate_Chip_Cookies</td>\n",
              "      <td>These are THE BEST soft chocolate chip cookies...</td>\n",
              "    </tr>\n",
              "    <tr>\n",
              "      <th>7</th>\n",
              "      <td>7</td>\n",
              "      <td>Raspberry_Crumble_Bars</td>\n",
              "      <td>These Raspberry Crumble Bars are one of the be...</td>\n",
              "    </tr>\n",
              "    <tr>\n",
              "      <th>8</th>\n",
              "      <td>8</td>\n",
              "      <td>Best_Peach_Cobbler</td>\n",
              "      <td>I have tried so many peach cobbler recipes and...</td>\n",
              "    </tr>\n",
              "    <tr>\n",
              "      <th>9</th>\n",
              "      <td>9</td>\n",
              "      <td>Yogurt_Parfaits</td>\n",
              "      <td>'yogurt, greek, plain, nonfat',  'strawberrie...</td>\n",
              "    </tr>\n",
              "    <tr>\n",
              "      <th>10</th>\n",
              "      <td>10</td>\n",
              "      <td>Salt_Free,_Low_Cholesterol_Sugar_Cookies_Recipe</td>\n",
              "      <td>'sugars, granulated',  'oil, corn, peanut, an...</td>\n",
              "    </tr>\n",
              "    <tr>\n",
              "      <th>11</th>\n",
              "      <td>11</td>\n",
              "      <td>Honey_Sriracha_Chicken_Wings</td>\n",
              "      <td>'chicken, broilers or fryers, wing, meat and ...</td>\n",
              "    </tr>\n",
              "    <tr>\n",
              "      <th>12</th>\n",
              "      <td>12</td>\n",
              "      <td>Shrimp_and_Caper_Salad</td>\n",
              "      <td>'crustaceans, shrimp, raw (not previously fro...</td>\n",
              "    </tr>\n",
              "    <tr>\n",
              "      <th>13</th>\n",
              "      <td>13</td>\n",
              "      <td>Natural_Peanut_Butter_Chocolate_Bon_Bons</td>\n",
              "      <td>'cocoa, dry powder, unsweetened',  'honey',  ...</td>\n",
              "    </tr>\n",
              "    <tr>\n",
              "      <th>14</th>\n",
              "      <td>14</td>\n",
              "      <td>Easy_Cheese_Sauce</td>\n",
              "      <td>'cheese, pasteurized process, american, witho...</td>\n",
              "    </tr>\n",
              "    <tr>\n",
              "      <th>15</th>\n",
              "      <td>15</td>\n",
              "      <td>Easy_Chocolate_Frosting_Recipe</td>\n",
              "      <td>'spartan, real semi-sweet chocolate baking ch...</td>\n",
              "    </tr>\n",
              "    <tr>\n",
              "      <th>16</th>\n",
              "      <td>16</td>\n",
              "      <td>Cornmeal_Crackers_with_Pumpkin_Seeds</td>\n",
              "      <td>'cornmeal, degermed, unenriched, yellow',  'w...</td>\n",
              "    </tr>\n",
              "    <tr>\n",
              "      <th>17</th>\n",
              "      <td>17</td>\n",
              "      <td>Chocolate-Orange_Angel_Food_Cake</td>\n",
              "      <td>'sugars, powdered',  'wheat flour, white, cak...</td>\n",
              "    </tr>\n",
              "    <tr>\n",
              "      <th>18</th>\n",
              "      <td>18</td>\n",
              "      <td>Rice_With_Lemon,_Capers_&amp;_Parsley</td>\n",
              "      <td>'rice, white, long-grain, regular, unenriched...</td>\n",
              "    </tr>\n",
              "    <tr>\n",
              "      <th>19</th>\n",
              "      <td>19</td>\n",
              "      <td>Cheryl's_Veggie-Nut_Patties</td>\n",
              "      <td>'squash, winter, butternut, raw',  'cauliflow...</td>\n",
              "    </tr>\n",
              "  </tbody>\n",
              "</table>\n",
              "</div>\n",
              "      <button class=\"colab-df-convert\" onclick=\"convertToInteractive('df-0fb19611-70ad-478a-accb-b9763caf9111')\"\n",
              "              title=\"Convert this dataframe to an interactive table.\"\n",
              "              style=\"display:none;\">\n",
              "        \n",
              "  <svg xmlns=\"http://www.w3.org/2000/svg\" height=\"24px\"viewBox=\"0 0 24 24\"\n",
              "       width=\"24px\">\n",
              "    <path d=\"M0 0h24v24H0V0z\" fill=\"none\"/>\n",
              "    <path d=\"M18.56 5.44l.94 2.06.94-2.06 2.06-.94-2.06-.94-.94-2.06-.94 2.06-2.06.94zm-11 1L8.5 8.5l.94-2.06 2.06-.94-2.06-.94L8.5 2.5l-.94 2.06-2.06.94zm10 10l.94 2.06.94-2.06 2.06-.94-2.06-.94-.94-2.06-.94 2.06-2.06.94z\"/><path d=\"M17.41 7.96l-1.37-1.37c-.4-.4-.92-.59-1.43-.59-.52 0-1.04.2-1.43.59L10.3 9.45l-7.72 7.72c-.78.78-.78 2.05 0 2.83L4 21.41c.39.39.9.59 1.41.59.51 0 1.02-.2 1.41-.59l7.78-7.78 2.81-2.81c.8-.78.8-2.07 0-2.86zM5.41 20L4 18.59l7.72-7.72 1.47 1.35L5.41 20z\"/>\n",
              "  </svg>\n",
              "      </button>\n",
              "      \n",
              "  <style>\n",
              "    .colab-df-container {\n",
              "      display:flex;\n",
              "      flex-wrap:wrap;\n",
              "      gap: 12px;\n",
              "    }\n",
              "\n",
              "    .colab-df-convert {\n",
              "      background-color: #E8F0FE;\n",
              "      border: none;\n",
              "      border-radius: 50%;\n",
              "      cursor: pointer;\n",
              "      display: none;\n",
              "      fill: #1967D2;\n",
              "      height: 32px;\n",
              "      padding: 0 0 0 0;\n",
              "      width: 32px;\n",
              "    }\n",
              "\n",
              "    .colab-df-convert:hover {\n",
              "      background-color: #E2EBFA;\n",
              "      box-shadow: 0px 1px 2px rgba(60, 64, 67, 0.3), 0px 1px 3px 1px rgba(60, 64, 67, 0.15);\n",
              "      fill: #174EA6;\n",
              "    }\n",
              "\n",
              "    [theme=dark] .colab-df-convert {\n",
              "      background-color: #3B4455;\n",
              "      fill: #D2E3FC;\n",
              "    }\n",
              "\n",
              "    [theme=dark] .colab-df-convert:hover {\n",
              "      background-color: #434B5C;\n",
              "      box-shadow: 0px 1px 3px 1px rgba(0, 0, 0, 0.15);\n",
              "      filter: drop-shadow(0px 1px 2px rgba(0, 0, 0, 0.3));\n",
              "      fill: #FFFFFF;\n",
              "    }\n",
              "  </style>\n",
              "\n",
              "      <script>\n",
              "        const buttonEl =\n",
              "          document.querySelector('#df-0fb19611-70ad-478a-accb-b9763caf9111 button.colab-df-convert');\n",
              "        buttonEl.style.display =\n",
              "          google.colab.kernel.accessAllowed ? 'block' : 'none';\n",
              "\n",
              "        async function convertToInteractive(key) {\n",
              "          const element = document.querySelector('#df-0fb19611-70ad-478a-accb-b9763caf9111');\n",
              "          const dataTable =\n",
              "            await google.colab.kernel.invokeFunction('convertToInteractive',\n",
              "                                                     [key], {});\n",
              "          if (!dataTable) return;\n",
              "\n",
              "          const docLinkHtml = 'Like what you see? Visit the ' +\n",
              "            '<a target=\"_blank\" href=https://colab.research.google.com/notebooks/data_table.ipynb>data table notebook</a>'\n",
              "            + ' to learn more about interactive tables.';\n",
              "          element.innerHTML = '';\n",
              "          dataTable['output_type'] = 'display_data';\n",
              "          await google.colab.output.renderOutput(dataTable, element);\n",
              "          const docLink = document.createElement('div');\n",
              "          docLink.innerHTML = docLinkHtml;\n",
              "          element.appendChild(docLink);\n",
              "        }\n",
              "      </script>\n",
              "    </div>\n",
              "  </div>\n",
              "  "
            ],
            "text/plain": [
              "    Doc_ID                                            Meal_ID                             Ingredients_Directions\n",
              "0        0                       Fluffiest_Blueberry_Pancakes  Super thick and fluffy blueberry pancakes! Mel...\n",
              "1        1                            The_Best_Green_Smoothie  A healthy breakfast - The Best Green Smoothie\\...\n",
              "2        2                     Lemon_Poppyseed_Zucchini_Bread  Lemon Poppyseed Zucchini Bread with zucchini, ...\n",
              "3        3  Spicy_Shrimp_Tacos_with_Garlic_Cilantro_Lime_Slaw  The BEST Shrimp Tacos with Garlic Cilantro Lim...\n",
              "4        4                              Chipotle_Tahini_Bowls  Healthy and versatile bowls that come together...\n",
              "5        5              Sheet_Pan_Chicken_Pitas_with_Tzatziki  Sheet Pan Chicken Pitas that are salty-briney-...\n",
              "6        6               The_Best_Soft_Chocolate_Chip_Cookies  These are THE BEST soft chocolate chip cookies...\n",
              "7        7                             Raspberry_Crumble_Bars  These Raspberry Crumble Bars are one of the be...\n",
              "8        8                                 Best_Peach_Cobbler  I have tried so many peach cobbler recipes and...\n",
              "9        9                                    Yogurt_Parfaits   'yogurt, greek, plain, nonfat',  'strawberrie...\n",
              "10      10    Salt_Free,_Low_Cholesterol_Sugar_Cookies_Recipe   'sugars, granulated',  'oil, corn, peanut, an...\n",
              "11      11                       Honey_Sriracha_Chicken_Wings   'chicken, broilers or fryers, wing, meat and ...\n",
              "12      12                             Shrimp_and_Caper_Salad   'crustaceans, shrimp, raw (not previously fro...\n",
              "13      13           Natural_Peanut_Butter_Chocolate_Bon_Bons   'cocoa, dry powder, unsweetened',  'honey',  ...\n",
              "14      14                                  Easy_Cheese_Sauce   'cheese, pasteurized process, american, witho...\n",
              "15      15                     Easy_Chocolate_Frosting_Recipe   'spartan, real semi-sweet chocolate baking ch...\n",
              "16      16               Cornmeal_Crackers_with_Pumpkin_Seeds   'cornmeal, degermed, unenriched, yellow',  'w...\n",
              "17      17                   Chocolate-Orange_Angel_Food_Cake   'sugars, powdered',  'wheat flour, white, cak...\n",
              "18      18                  Rice_With_Lemon,_Capers_&_Parsley   'rice, white, long-grain, regular, unenriched...\n",
              "19      19                        Cheryl's_Veggie-Nut_Patties   'squash, winter, butternut, raw',  'cauliflow..."
            ]
          },
          "metadata": {},
          "execution_count": 19
        }
      ]
    },
    {
      "cell_type": "code",
      "source": [
        "recipe_data1 = data1.copy()\n",
        "recipe_data1.head(10)\n",
        "recipe_data1.shape"
      ],
      "metadata": {
        "colab": {
          "base_uri": "https://localhost:8080/",
          "height": 381
        },
        "id": "Um7j57JKEYCE",
        "outputId": "69f2d2ab-c945-4d91-d6c8-27a6cdaae3c0"
      },
      "execution_count": 20,
      "outputs": [
        {
          "output_type": "execute_result",
          "data": {
            "text/html": [
              "\n",
              "  <div id=\"df-ed2f5222-5b17-4426-9adc-ecb6147b544b\">\n",
              "    <div class=\"colab-df-container\">\n",
              "      <div>\n",
              "<style scoped>\n",
              "    .dataframe tbody tr th:only-of-type {\n",
              "        vertical-align: middle;\n",
              "    }\n",
              "\n",
              "    .dataframe tbody tr th {\n",
              "        vertical-align: top;\n",
              "    }\n",
              "\n",
              "    .dataframe thead th {\n",
              "        text-align: right;\n",
              "    }\n",
              "</style>\n",
              "<table border=\"1\" class=\"dataframe\">\n",
              "  <thead>\n",
              "    <tr style=\"text-align: right;\">\n",
              "      <th></th>\n",
              "      <th>Doc_ID</th>\n",
              "      <th>Meal_ID</th>\n",
              "      <th>Ingredients_Directions</th>\n",
              "    </tr>\n",
              "  </thead>\n",
              "  <tbody>\n",
              "    <tr>\n",
              "      <th>0</th>\n",
              "      <td>0</td>\n",
              "      <td>Fluffiest_Blueberry_Pancakes</td>\n",
              "      <td>Super thick and fluffy blueberry pancakes! Mel...</td>\n",
              "    </tr>\n",
              "    <tr>\n",
              "      <th>1</th>\n",
              "      <td>1</td>\n",
              "      <td>The_Best_Green_Smoothie</td>\n",
              "      <td>A healthy breakfast - The Best Green Smoothie\\...</td>\n",
              "    </tr>\n",
              "    <tr>\n",
              "      <th>2</th>\n",
              "      <td>2</td>\n",
              "      <td>Lemon_Poppyseed_Zucchini_Bread</td>\n",
              "      <td>Lemon Poppyseed Zucchini Bread with zucchini, ...</td>\n",
              "    </tr>\n",
              "    <tr>\n",
              "      <th>3</th>\n",
              "      <td>3</td>\n",
              "      <td>Spicy_Shrimp_Tacos_with_Garlic_Cilantro_Lime_Slaw</td>\n",
              "      <td>The BEST Shrimp Tacos with Garlic Cilantro Lim...</td>\n",
              "    </tr>\n",
              "    <tr>\n",
              "      <th>4</th>\n",
              "      <td>4</td>\n",
              "      <td>Chipotle_Tahini_Bowls</td>\n",
              "      <td>Healthy and versatile bowls that come together...</td>\n",
              "    </tr>\n",
              "    <tr>\n",
              "      <th>5</th>\n",
              "      <td>5</td>\n",
              "      <td>Sheet_Pan_Chicken_Pitas_with_Tzatziki</td>\n",
              "      <td>Sheet Pan Chicken Pitas that are salty-briney-...</td>\n",
              "    </tr>\n",
              "    <tr>\n",
              "      <th>6</th>\n",
              "      <td>6</td>\n",
              "      <td>The_Best_Soft_Chocolate_Chip_Cookies</td>\n",
              "      <td>These are THE BEST soft chocolate chip cookies...</td>\n",
              "    </tr>\n",
              "    <tr>\n",
              "      <th>7</th>\n",
              "      <td>7</td>\n",
              "      <td>Raspberry_Crumble_Bars</td>\n",
              "      <td>These Raspberry Crumble Bars are one of the be...</td>\n",
              "    </tr>\n",
              "    <tr>\n",
              "      <th>8</th>\n",
              "      <td>8</td>\n",
              "      <td>Best_Peach_Cobbler</td>\n",
              "      <td>I have tried so many peach cobbler recipes and...</td>\n",
              "    </tr>\n",
              "    <tr>\n",
              "      <th>9</th>\n",
              "      <td>9</td>\n",
              "      <td>Yogurt_Parfaits</td>\n",
              "      <td>'yogurt, greek, plain, nonfat',  'strawberrie...</td>\n",
              "    </tr>\n",
              "  </tbody>\n",
              "</table>\n",
              "</div>\n",
              "      <button class=\"colab-df-convert\" onclick=\"convertToInteractive('df-ed2f5222-5b17-4426-9adc-ecb6147b544b')\"\n",
              "              title=\"Convert this dataframe to an interactive table.\"\n",
              "              style=\"display:none;\">\n",
              "        \n",
              "  <svg xmlns=\"http://www.w3.org/2000/svg\" height=\"24px\"viewBox=\"0 0 24 24\"\n",
              "       width=\"24px\">\n",
              "    <path d=\"M0 0h24v24H0V0z\" fill=\"none\"/>\n",
              "    <path d=\"M18.56 5.44l.94 2.06.94-2.06 2.06-.94-2.06-.94-.94-2.06-.94 2.06-2.06.94zm-11 1L8.5 8.5l.94-2.06 2.06-.94-2.06-.94L8.5 2.5l-.94 2.06-2.06.94zm10 10l.94 2.06.94-2.06 2.06-.94-2.06-.94-.94-2.06-.94 2.06-2.06.94z\"/><path d=\"M17.41 7.96l-1.37-1.37c-.4-.4-.92-.59-1.43-.59-.52 0-1.04.2-1.43.59L10.3 9.45l-7.72 7.72c-.78.78-.78 2.05 0 2.83L4 21.41c.39.39.9.59 1.41.59.51 0 1.02-.2 1.41-.59l7.78-7.78 2.81-2.81c.8-.78.8-2.07 0-2.86zM5.41 20L4 18.59l7.72-7.72 1.47 1.35L5.41 20z\"/>\n",
              "  </svg>\n",
              "      </button>\n",
              "      \n",
              "  <style>\n",
              "    .colab-df-container {\n",
              "      display:flex;\n",
              "      flex-wrap:wrap;\n",
              "      gap: 12px;\n",
              "    }\n",
              "\n",
              "    .colab-df-convert {\n",
              "      background-color: #E8F0FE;\n",
              "      border: none;\n",
              "      border-radius: 50%;\n",
              "      cursor: pointer;\n",
              "      display: none;\n",
              "      fill: #1967D2;\n",
              "      height: 32px;\n",
              "      padding: 0 0 0 0;\n",
              "      width: 32px;\n",
              "    }\n",
              "\n",
              "    .colab-df-convert:hover {\n",
              "      background-color: #E2EBFA;\n",
              "      box-shadow: 0px 1px 2px rgba(60, 64, 67, 0.3), 0px 1px 3px 1px rgba(60, 64, 67, 0.15);\n",
              "      fill: #174EA6;\n",
              "    }\n",
              "\n",
              "    [theme=dark] .colab-df-convert {\n",
              "      background-color: #3B4455;\n",
              "      fill: #D2E3FC;\n",
              "    }\n",
              "\n",
              "    [theme=dark] .colab-df-convert:hover {\n",
              "      background-color: #434B5C;\n",
              "      box-shadow: 0px 1px 3px 1px rgba(0, 0, 0, 0.15);\n",
              "      filter: drop-shadow(0px 1px 2px rgba(0, 0, 0, 0.3));\n",
              "      fill: #FFFFFF;\n",
              "    }\n",
              "  </style>\n",
              "\n",
              "      <script>\n",
              "        const buttonEl =\n",
              "          document.querySelector('#df-ed2f5222-5b17-4426-9adc-ecb6147b544b button.colab-df-convert');\n",
              "        buttonEl.style.display =\n",
              "          google.colab.kernel.accessAllowed ? 'block' : 'none';\n",
              "\n",
              "        async function convertToInteractive(key) {\n",
              "          const element = document.querySelector('#df-ed2f5222-5b17-4426-9adc-ecb6147b544b');\n",
              "          const dataTable =\n",
              "            await google.colab.kernel.invokeFunction('convertToInteractive',\n",
              "                                                     [key], {});\n",
              "          if (!dataTable) return;\n",
              "\n",
              "          const docLinkHtml = 'Like what you see? Visit the ' +\n",
              "            '<a target=\"_blank\" href=https://colab.research.google.com/notebooks/data_table.ipynb>data table notebook</a>'\n",
              "            + ' to learn more about interactive tables.';\n",
              "          element.innerHTML = '';\n",
              "          dataTable['output_type'] = 'display_data';\n",
              "          await google.colab.output.renderOutput(dataTable, element);\n",
              "          const docLink = document.createElement('div');\n",
              "          docLink.innerHTML = docLinkHtml;\n",
              "          element.appendChild(docLink);\n",
              "        }\n",
              "      </script>\n",
              "    </div>\n",
              "  </div>\n",
              "  "
            ],
            "text/plain": [
              "   Doc_ID                                            Meal_ID                             Ingredients_Directions\n",
              "0       0                       Fluffiest_Blueberry_Pancakes  Super thick and fluffy blueberry pancakes! Mel...\n",
              "1       1                            The_Best_Green_Smoothie  A healthy breakfast - The Best Green Smoothie\\...\n",
              "2       2                     Lemon_Poppyseed_Zucchini_Bread  Lemon Poppyseed Zucchini Bread with zucchini, ...\n",
              "3       3  Spicy_Shrimp_Tacos_with_Garlic_Cilantro_Lime_Slaw  The BEST Shrimp Tacos with Garlic Cilantro Lim...\n",
              "4       4                              Chipotle_Tahini_Bowls  Healthy and versatile bowls that come together...\n",
              "5       5              Sheet_Pan_Chicken_Pitas_with_Tzatziki  Sheet Pan Chicken Pitas that are salty-briney-...\n",
              "6       6               The_Best_Soft_Chocolate_Chip_Cookies  These are THE BEST soft chocolate chip cookies...\n",
              "7       7                             Raspberry_Crumble_Bars  These Raspberry Crumble Bars are one of the be...\n",
              "8       8                                 Best_Peach_Cobbler  I have tried so many peach cobbler recipes and...\n",
              "9       9                                    Yogurt_Parfaits   'yogurt, greek, plain, nonfat',  'strawberrie..."
            ]
          },
          "metadata": {},
          "execution_count": 20
        },
        {
          "output_type": "execute_result",
          "data": {
            "text/plain": [
              "(501, 3)"
            ]
          },
          "metadata": {},
          "execution_count": 20
        }
      ]
    },
    {
      "cell_type": "code",
      "source": [
        "recipe_data1['Ingredients_Directions'][0]\n"
      ],
      "metadata": {
        "colab": {
          "base_uri": "https://localhost:8080/",
          "height": 183
        },
        "id": "7n1tlDPFFY1b",
        "outputId": "25dd3b33-7e5f-4378-9582-3b84d8567a3c"
      },
      "execution_count": 21,
      "outputs": [
        {
          "output_type": "execute_result",
          "data": {
            "application/vnd.google.colaboratory.intrinsic+json": {
              "type": "string"
            },
            "text/plain": [
              "'Super thick and fluffy blueberry pancakes! Melt in your mouth, golden brown, and bursting with blueberries for breakfast.\\nIngredients\\nScale\\n\\n3/4 cup milk\\n2 tablespoons white vinegar\\n1 cup flour\\n2 tablespoons sugar\\n1 teaspoon baking powder\\n1/2 teaspoon baking soda\\n1/2 teaspoon salt\\n1 egg\\n2 tablespoons melted butter\\n1+ cup fresh blueberries\\nmore butter for the pan\\n\\nInstructions\\n\\nMix the milk and vinegar and let it sit for a minute or two (you’re making “buttermilk” here).\\nWhisk the dry ingredients together. Whisk the egg, milk, and melted butter into the dry ingredients until just combined.\\nHeat a nonstick pan over medium heat. Melt a little smear of butter in the pan (essential for giving a yummy golden brown crust).\\nPour about 1/3 cup of batter into the hot skillet and spread it flat-like (it will be pretty thick). Arrange a few blueberries on top. Cook until you see little bubbles on top and the edges starting to firm up. Flip and cook for another 1-2 minutes until the pancakes are sky-high fluffy and cooked through.\\n Serve with butter and maple syrup. But honestly, sometimes I just like to eat these plain. YUM, YUM, YUM.\\n\\nNotes\\nTexture: For thick pancakes, use 3/4 cup milk as directed. For lighter, slightly less fluffy pancakes, use 1 cup milk.\\nDairy Free: Use almond milk or another non-dairy milk, and melted coconut oil in place of the butter.\\n\\nNutrition Facts\\nServes 2\\nCalories Per Serving: 509\\n% Daily Value\\n21% Total Fat 16.6g\\n44% Cholesterol 130.9mg\\n43% Sodium 983.3mg\\n28% Total Carbohydrate 77.9g\\n13% Dietary Fiber 3.6g\\nSugars 24.8g\\n27% Protein 13.3g\\n18% Vitamin A 165.2µg\\n8% Vitamin C 7.4mg\\n22% Iron 4mg\\n17% Potassium 796.6mg\\n45% Phosphorus 558.2mg\"'"
            ]
          },
          "metadata": {},
          "execution_count": 21
        }
      ]
    },
    {
      "cell_type": "code",
      "source": [
        "word_tokens1 = []\n",
        "for i in range(0,len(recipe_data1)):\n",
        "  word_tokens = nltk.word_tokenize(recipe_data1['Ingredients_Directions'][i])\n",
        "  word_tokens1.append(nltk.word_tokenize(recipe_data1['Ingredients_Directions'][i]))\n",
        "#word_tokens[:1]\n",
        "#word_tokens1[:2]\n",
        "type(word_tokens)\n",
        "#type(word_tokens1)\n",
        "#temp_data = [line.strip() for line in word_tokens1]\n",
        "#word_tokens2 = [[word.lower() for word in text.split()] for text in temp_data]\n",
        "#word_tokens2[:1]\n",
        "\n",
        "#type(word_tokens2)\n"
      ],
      "metadata": {
        "colab": {
          "base_uri": "https://localhost:8080/"
        },
        "id": "dlV-_Fd4FIA3",
        "outputId": "bb6c820f-fe5b-42aa-fa79-3397e4a37dfb"
      },
      "execution_count": 22,
      "outputs": [
        {
          "output_type": "execute_result",
          "data": {
            "text/plain": [
              "list"
            ]
          },
          "metadata": {},
          "execution_count": 22
        }
      ]
    },
    {
      "cell_type": "code",
      "source": [
        "sent_tokens1 = []\n",
        "for i in range(0,len(recipe_data1)):\n",
        "  #sent_tokens = nltk.sent_tokenize(recipe_data1['Ingredients_Directions'][i])\n",
        "  sent_tokens1.append(nltk.sent_tokenize(recipe_data1['Ingredients_Directions'][i]))\n",
        "sent_tokens1[:2]\n",
        "type(sent_tokens1)"
      ],
      "metadata": {
        "colab": {
          "base_uri": "https://localhost:8080/"
        },
        "id": "dJAPppR5FWJl",
        "outputId": "4b47d2c0-e336-440f-b586-b7ecd066e6e8"
      },
      "execution_count": 23,
      "outputs": [
        {
          "output_type": "execute_result",
          "data": {
            "text/plain": [
              "[['Super thick and fluffy blueberry pancakes!',\n",
              "  'Melt in your mouth, golden brown, and bursting with blueberries for breakfast.',\n",
              "  'Ingredients\\nScale\\n\\n3/4 cup milk\\n2 tablespoons white vinegar\\n1 cup flour\\n2 tablespoons sugar\\n1 teaspoon baking powder\\n1/2 teaspoon baking soda\\n1/2 teaspoon salt\\n1 egg\\n2 tablespoons melted butter\\n1+ cup fresh blueberries\\nmore butter for the pan\\n\\nInstructions\\n\\nMix the milk and vinegar and let it sit for a minute or two (you’re making “buttermilk” here).',\n",
              "  'Whisk the dry ingredients together.',\n",
              "  'Whisk the egg, milk, and melted butter into the dry ingredients until just combined.',\n",
              "  'Heat a nonstick pan over medium heat.',\n",
              "  'Melt a little smear of butter in the pan (essential for giving a yummy golden brown crust).',\n",
              "  'Pour about 1/3 cup of batter into the hot skillet and spread it flat-like (it will be pretty thick).',\n",
              "  'Arrange a few blueberries on top.',\n",
              "  'Cook until you see little bubbles on top and the edges starting to firm up.',\n",
              "  'Flip and cook for another 1-2 minutes until the pancakes are sky-high fluffy and cooked through.',\n",
              "  'Serve with butter and maple syrup.',\n",
              "  'But honestly, sometimes I just like to eat these plain.',\n",
              "  'YUM, YUM, YUM.',\n",
              "  'Notes\\nTexture: For thick pancakes, use 3/4 cup milk as directed.',\n",
              "  'For lighter, slightly less fluffy pancakes, use 1 cup milk.',\n",
              "  'Dairy Free: Use almond milk or another non-dairy milk, and melted coconut oil in place of the butter.',\n",
              "  'Nutrition Facts\\nServes 2\\nCalories Per Serving: 509\\n% Daily Value\\n21% Total Fat 16.6g\\n44% Cholesterol 130.9mg\\n43% Sodium 983.3mg\\n28% Total Carbohydrate 77.9g\\n13% Dietary Fiber 3.6g\\nSugars 24.8g\\n27% Protein 13.3g\\n18% Vitamin A 165.2µg\\n8% Vitamin C 7.4mg\\n22% Iron 4mg\\n17% Potassium 796.6mg\\n45% Phosphorus 558.2mg\"'],\n",
              " ['A healthy breakfast - The Best Green Smoothie\\n \\n4.8 from 17 reviews\\n\\nThe best basic, smooth, creamy green smoothie.',\n",
              "  'So easy – just blend peaches, mango, kale, almond milk, and ginger.',\n",
              "  'Honey or cinnamon if you want, too!',\n",
              "  '_\\nIngredients\\nUnits\\nScale\\n\\n1 cup frozen mango chunks\\n1/2 cup frozen peach slices\\na handful of kale (stems removed) or spinach\\n1–2 cups almond milk\\n1/2 inch slice of fresh ginger\\nsprinkle of cinnamon\\nhoney to taste\\n\\nInstructions\\n\\nBlend until smooth!',\n",
              "  'Enjoy!',\n",
              "  'Notes\\n\\nAdd more or less almond milk to make this more like a smoothie vs. more like a juice.',\n",
              "  'You can also use water instead of almond milk if you prefer.',\n",
              "  'Coconut water is also nice although it has a bit more natural sugar.',\n",
              "  'Sometimes I find adding a tiny pinch of salt helps the flavor a little bit.',\n",
              "  'This works best with frozen fruit so you get a nice smooth and creamy texture.',\n",
              "  'Protein powder would be a great addition.',\n",
              "  'I’ve also added coconut oil and/or cashews for an extra fat/protein boost.',\n",
              "  'You will get the best results with a high-speed blender, like the Vitamix or the Blendtec.',\n",
              "  'We use both (one at home, one at the studio) and I don’t really have a preference between them.',\n",
              "  'They’re both great.',\n",
              "  'For a good blender that doesn’t cost quite so much, the Ninja brand is pretty good, too.',\n",
              "  'Drink this right after you blend it.',\n",
              "  'You can keep it for later, but be sure shake it up.',\n",
              "  'I don’t recommend drinking it more than 24 hours after you make it.',\n",
              "  'Nutritional Facts\\nServes 1\\nCalories Per Serving: 224\\n% Daily Value\\n7% Total Fat 5.3g\\n0% Cholesterol 0mg\\n12% Sodium 287.4mg\\n16% Total Carbohydrate 43.7g\\n21% Dietary Fiber 5.8g\\nSugars 35.1g\\n10% Protein 5.2g\\n39% Vitamin A 350.8µg\\n94% Vitamin C 84.5mg\\n13% Iron 2.3mg\\n17% Potassium 784.7mg\\n8% Phosphorus 94.8mg']]"
            ]
          },
          "metadata": {},
          "execution_count": 23
        },
        {
          "output_type": "execute_result",
          "data": {
            "text/plain": [
              "list"
            ]
          },
          "metadata": {},
          "execution_count": 23
        }
      ]
    },
    {
      "cell_type": "markdown",
      "source": [
        "### Pre-processing the raw text"
      ],
      "metadata": {
        "id": "yn3TLypwF-s_"
      }
    },
    {
      "cell_type": "code",
      "source": [
        "from collections import Iterable\n",
        "def flatten(lis):\n",
        "     for item in lis:\n",
        "         if isinstance(item, Iterable) and not isinstance(item, str):\n",
        "             for x in flatten(item):\n",
        "                 yield x\n",
        "         else:        \n",
        "             yield item\n",
        "\n",
        "word_tokens1 = list(flatten(word_tokens1))\n",
        "sent_tokens1 = list(flatten(sent_tokens1))\n",
        "\n",
        "sent_tokens1[:2]\n",
        "\n"
      ],
      "metadata": {
        "id": "9kr93gfE6qkl",
        "colab": {
          "base_uri": "https://localhost:8080/"
        },
        "outputId": "8367ff21-7428-40a8-e6cd-1e69bc8e7f5e"
      },
      "execution_count": 24,
      "outputs": [
        {
          "output_type": "execute_result",
          "data": {
            "text/plain": [
              "['Super thick and fluffy blueberry pancakes!',\n",
              " 'Melt in your mouth, golden brown, and bursting with blueberries for breakfast.']"
            ]
          },
          "metadata": {},
          "execution_count": 24
        }
      ]
    },
    {
      "cell_type": "code",
      "source": [
        "def clean_doc(doc): \n",
        "    #split document into individual words\n",
        "    #doc = ' '.join(remove_stop_words(doc))\n",
        "    tokens=doc.split()\n",
        "    re_punc = re.compile('[%s]' % re.escape(string.punctuation))\n",
        "    # remove punctuation from each word\n",
        "    tokens = [re_punc.sub('', w) for w in tokens]\n",
        "    # remove remaining tokens that are not alphabetic\n",
        "    tokens = [word for word in tokens if word.isalpha()]\n",
        "    # filter out short tokens\n",
        "    tokens = [word for word in tokens if len(word) > 4]\n",
        "    #lowercase all words\n",
        "    tokens = [word.lower() for word in tokens]\n",
        "    # filter out stop words\n",
        "    #tokens = [w for w in tokens if not w in stop_words]  \n",
        "       \n",
        "\n",
        "    return tokens    "
      ],
      "metadata": {
        "id": "L-hf293wUC6Q"
      },
      "execution_count": 25,
      "outputs": []
    },
    {
      "cell_type": "code",
      "source": [
        "lemmer = nltk.stem.WordNetLemmatizer()\n",
        "#WordNet is a semantically-oriented dictionary of English included in NLTK.\n",
        "def LemTokens(tokens):\n",
        "    return [lemmer.lemmatize(token) for token in tokens]\n",
        "remove_punct_dict = dict((ord(punct), None) for punct in string.punctuation)\n",
        "def LemNormalize(text):\n",
        "    #return LemTokens(nltk.word_tokenize(text.lower().translate(remove_punct_dict)))\n",
        "    #return LemTokens(nltk.word_tokenize(text.translate(remove_punct_dict)))\n",
        "    return clean_doc(text)\n",
        "\n",
        "\n"
      ],
      "metadata": {
        "id": "GapR0tA3FmCQ"
      },
      "execution_count": 26,
      "outputs": []
    },
    {
      "cell_type": "markdown",
      "source": [
        "### Keyword matching"
      ],
      "metadata": {
        "id": "t1sy1jLJGAB7"
      }
    },
    {
      "cell_type": "code",
      "source": [
        "import random\n",
        "GREETING_INPUTS = (\"hello\", \"hi\", \"greetings\", \"sup\", \"what's up\",\"hey\", \"I am doing well\")\n",
        "GREETING_RESPONSES = [\"hi - how are you?\", \"hey - how are you\", \"hola - how are you\", \"hi there - how are you\", \"hello - how are you\", \"I am glad! You are talking to me\", \"How can I help\"]\n",
        "\n",
        "def greeting(sentence):\n",
        "    for word in sentence.split():\n",
        "        if word.lower() in GREETING_INPUTS:\n",
        "            return random.choice(GREETING_RESPONSES)"
      ],
      "metadata": {
        "id": "HEP3bFLsGDVO"
      },
      "execution_count": 27,
      "outputs": []
    },
    {
      "cell_type": "code",
      "source": [
        "def response(user_response):\n",
        "    Foodie_response=''\n",
        "    TfidfVec = TfidfVectorizer(tokenizer=LemNormalize, stop_words='english')\n",
        "    tfidf = TfidfVec.fit_transform(sent_tokens1)\n",
        "    vals = cosine_similarity(tfidf[-1], tfidf)\n",
        "    idx=vals.argsort()[0][-2]\n",
        "    flat = vals.flatten()\n",
        "    flat.sort()\n",
        "    req_tfidf = flat[-2]\n",
        "    if(req_tfidf==0):\n",
        "        Foodie_response=Foodie_response+\"I am sorry! I don't understand you\"\n",
        "        return Foodie_response\n",
        "    else:\n",
        "        Foodie_response = Foodie_response+sent_tokens1[idx]\n",
        "        return Foodie_response"
      ],
      "metadata": {
        "id": "_E8DJ5ttGE9e"
      },
      "execution_count": 28,
      "outputs": []
    },
    {
      "cell_type": "code",
      "source": [
        "flag=True\n",
        "print(\"Foodie: Welcome to What's on your Plate, Foodie at your service!\\n If you are here by mistake, type Bye and I will see you soon!\")\n",
        "while(flag==True):\n",
        "    user_response = input()\n",
        "    #user_response=user_response.lower()\n",
        "    if(user_response!='bye'):\n",
        "        if(user_response=='thanks' or user_response=='thank you' ):\n",
        "            flag=False\n",
        "            print(\"Foodie: You are welcome..\")\n",
        "        else:\n",
        "            if(greeting(user_response)!=None):\n",
        "                print(\"Foodie: \"+greeting(user_response))\n",
        "            else:\n",
        "                sent_tokens1.append(user_response)\n",
        "                word_tokens1=word_tokens1+nltk.word_tokenize(user_response)\n",
        "                final_words=word_tokens1\n",
        "                #final_words=list(set(word_tokens1))\n",
        "                print(\"Foodie: \",end=\"\")\n",
        "                print(response(user_response))\n",
        "                sent_tokens1.remove(user_response)\n",
        "    else:\n",
        "        flag=False\n",
        "        print(\"Foodie: Bye! take care..\")"
      ],
      "metadata": {
        "colab": {
          "base_uri": "https://localhost:8080/"
        },
        "id": "J5W7QB3fGU_L",
        "outputId": "ac96be30-9b6d-4984-f506-cca3f3977630"
      },
      "execution_count": 29,
      "outputs": [
        {
          "output_type": "stream",
          "name": "stdout",
          "text": [
            "Foodie: Welcome to What's on your Plate, Foodie at your service!\n",
            " If you are here by mistake, type Bye and I will see you soon!\n",
            "hello\n",
            "Foodie: I am glad! You are talking to me\n",
            "ginger\n",
            "Foodie: ',  'If peaches are very ripe, add 1/2 cup ginger ale; otherwise, add 1 cup.\n",
            "bye\n",
            "Foodie: Bye! take care..\n"
          ]
        }
      ]
    },
    {
      "cell_type": "markdown",
      "source": [
        "## ChatBot using BERT (didn't work)"
      ],
      "metadata": {
        "id": "TFSH6JvPfd6T"
      }
    },
    {
      "cell_type": "code",
      "source": [
        "#!pip install transformers\n",
        "!pip install pytorch_lightning"
      ],
      "metadata": {
        "colab": {
          "base_uri": "https://localhost:8080/"
        },
        "id": "cVNm2LKQgGAg",
        "outputId": "3161215d-af3b-4339-8f0e-048121b3ef88"
      },
      "execution_count": 30,
      "outputs": [
        {
          "output_type": "stream",
          "name": "stdout",
          "text": [
            "Requirement already satisfied: pytorch_lightning in /usr/local/lib/python3.7/dist-packages (1.5.10)\n",
            "Requirement already satisfied: future>=0.17.1 in /usr/local/lib/python3.7/dist-packages (from pytorch_lightning) (0.18.2)\n",
            "Requirement already satisfied: tensorboard>=2.2.0 in /usr/local/lib/python3.7/dist-packages (from pytorch_lightning) (2.8.0)\n",
            "Requirement already satisfied: fsspec[http]!=2021.06.0,>=2021.05.0 in /usr/local/lib/python3.7/dist-packages (from pytorch_lightning) (2022.2.0)\n",
            "Requirement already satisfied: pyDeprecate==0.3.1 in /usr/local/lib/python3.7/dist-packages (from pytorch_lightning) (0.3.1)\n",
            "Requirement already satisfied: typing-extensions in /usr/local/lib/python3.7/dist-packages (from pytorch_lightning) (3.10.0.2)\n",
            "Requirement already satisfied: packaging>=17.0 in /usr/local/lib/python3.7/dist-packages (from pytorch_lightning) (21.3)\n",
            "Requirement already satisfied: torch>=1.7.* in /usr/local/lib/python3.7/dist-packages (from pytorch_lightning) (1.10.0+cu111)\n",
            "Requirement already satisfied: setuptools==59.5.0 in /usr/local/lib/python3.7/dist-packages (from pytorch_lightning) (59.5.0)\n",
            "Requirement already satisfied: tqdm>=4.41.0 in /usr/local/lib/python3.7/dist-packages (from pytorch_lightning) (4.63.0)\n",
            "Requirement already satisfied: PyYAML>=5.1 in /usr/local/lib/python3.7/dist-packages (from pytorch_lightning) (6.0)\n",
            "Requirement already satisfied: torchmetrics>=0.4.1 in /usr/local/lib/python3.7/dist-packages (from pytorch_lightning) (0.7.2)\n",
            "Requirement already satisfied: numpy>=1.17.2 in /usr/local/lib/python3.7/dist-packages (from pytorch_lightning) (1.21.5)\n",
            "Requirement already satisfied: requests in /usr/local/lib/python3.7/dist-packages (from fsspec[http]!=2021.06.0,>=2021.05.0->pytorch_lightning) (2.23.0)\n",
            "Requirement already satisfied: aiohttp in /usr/local/lib/python3.7/dist-packages (from fsspec[http]!=2021.06.0,>=2021.05.0->pytorch_lightning) (3.8.1)\n",
            "Requirement already satisfied: pyparsing!=3.0.5,>=2.0.2 in /usr/local/lib/python3.7/dist-packages (from packaging>=17.0->pytorch_lightning) (3.0.7)\n",
            "Requirement already satisfied: markdown>=2.6.8 in /usr/local/lib/python3.7/dist-packages (from tensorboard>=2.2.0->pytorch_lightning) (3.3.6)\n",
            "Requirement already satisfied: tensorboard-data-server<0.7.0,>=0.6.0 in /usr/local/lib/python3.7/dist-packages (from tensorboard>=2.2.0->pytorch_lightning) (0.6.1)\n",
            "Requirement already satisfied: google-auth-oauthlib<0.5,>=0.4.1 in /usr/local/lib/python3.7/dist-packages (from tensorboard>=2.2.0->pytorch_lightning) (0.4.6)\n",
            "Requirement already satisfied: grpcio>=1.24.3 in /usr/local/lib/python3.7/dist-packages (from tensorboard>=2.2.0->pytorch_lightning) (1.44.0)\n",
            "Requirement already satisfied: tensorboard-plugin-wit>=1.6.0 in /usr/local/lib/python3.7/dist-packages (from tensorboard>=2.2.0->pytorch_lightning) (1.8.1)\n",
            "Requirement already satisfied: google-auth<3,>=1.6.3 in /usr/local/lib/python3.7/dist-packages (from tensorboard>=2.2.0->pytorch_lightning) (1.35.0)\n",
            "Requirement already satisfied: absl-py>=0.4 in /usr/local/lib/python3.7/dist-packages (from tensorboard>=2.2.0->pytorch_lightning) (1.0.0)\n",
            "Requirement already satisfied: protobuf>=3.6.0 in /usr/local/lib/python3.7/dist-packages (from tensorboard>=2.2.0->pytorch_lightning) (3.17.3)\n",
            "Requirement already satisfied: werkzeug>=0.11.15 in /usr/local/lib/python3.7/dist-packages (from tensorboard>=2.2.0->pytorch_lightning) (1.0.1)\n",
            "Requirement already satisfied: wheel>=0.26 in /usr/local/lib/python3.7/dist-packages (from tensorboard>=2.2.0->pytorch_lightning) (0.37.1)\n",
            "Requirement already satisfied: six in /usr/local/lib/python3.7/dist-packages (from absl-py>=0.4->tensorboard>=2.2.0->pytorch_lightning) (1.15.0)\n",
            "Requirement already satisfied: cachetools<5.0,>=2.0.0 in /usr/local/lib/python3.7/dist-packages (from google-auth<3,>=1.6.3->tensorboard>=2.2.0->pytorch_lightning) (4.2.4)\n",
            "Requirement already satisfied: pyasn1-modules>=0.2.1 in /usr/local/lib/python3.7/dist-packages (from google-auth<3,>=1.6.3->tensorboard>=2.2.0->pytorch_lightning) (0.2.8)\n",
            "Requirement already satisfied: rsa<5,>=3.1.4 in /usr/local/lib/python3.7/dist-packages (from google-auth<3,>=1.6.3->tensorboard>=2.2.0->pytorch_lightning) (4.8)\n",
            "Requirement already satisfied: requests-oauthlib>=0.7.0 in /usr/local/lib/python3.7/dist-packages (from google-auth-oauthlib<0.5,>=0.4.1->tensorboard>=2.2.0->pytorch_lightning) (1.3.1)\n",
            "Requirement already satisfied: importlib-metadata>=4.4 in /usr/local/lib/python3.7/dist-packages (from markdown>=2.6.8->tensorboard>=2.2.0->pytorch_lightning) (4.11.2)\n",
            "Requirement already satisfied: zipp>=0.5 in /usr/local/lib/python3.7/dist-packages (from importlib-metadata>=4.4->markdown>=2.6.8->tensorboard>=2.2.0->pytorch_lightning) (3.7.0)\n",
            "Requirement already satisfied: pyasn1<0.5.0,>=0.4.6 in /usr/local/lib/python3.7/dist-packages (from pyasn1-modules>=0.2.1->google-auth<3,>=1.6.3->tensorboard>=2.2.0->pytorch_lightning) (0.4.8)\n",
            "Requirement already satisfied: urllib3!=1.25.0,!=1.25.1,<1.26,>=1.21.1 in /usr/local/lib/python3.7/dist-packages (from requests->fsspec[http]!=2021.06.0,>=2021.05.0->pytorch_lightning) (1.24.3)\n",
            "Requirement already satisfied: chardet<4,>=3.0.2 in /usr/local/lib/python3.7/dist-packages (from requests->fsspec[http]!=2021.06.0,>=2021.05.0->pytorch_lightning) (3.0.4)\n",
            "Requirement already satisfied: idna<3,>=2.5 in /usr/local/lib/python3.7/dist-packages (from requests->fsspec[http]!=2021.06.0,>=2021.05.0->pytorch_lightning) (2.10)\n",
            "Requirement already satisfied: certifi>=2017.4.17 in /usr/local/lib/python3.7/dist-packages (from requests->fsspec[http]!=2021.06.0,>=2021.05.0->pytorch_lightning) (2021.10.8)\n",
            "Requirement already satisfied: oauthlib>=3.0.0 in /usr/local/lib/python3.7/dist-packages (from requests-oauthlib>=0.7.0->google-auth-oauthlib<0.5,>=0.4.1->tensorboard>=2.2.0->pytorch_lightning) (3.2.0)\n",
            "Requirement already satisfied: asynctest==0.13.0 in /usr/local/lib/python3.7/dist-packages (from aiohttp->fsspec[http]!=2021.06.0,>=2021.05.0->pytorch_lightning) (0.13.0)\n",
            "Requirement already satisfied: charset-normalizer<3.0,>=2.0 in /usr/local/lib/python3.7/dist-packages (from aiohttp->fsspec[http]!=2021.06.0,>=2021.05.0->pytorch_lightning) (2.0.12)\n",
            "Requirement already satisfied: yarl<2.0,>=1.0 in /usr/local/lib/python3.7/dist-packages (from aiohttp->fsspec[http]!=2021.06.0,>=2021.05.0->pytorch_lightning) (1.7.2)\n",
            "Requirement already satisfied: async-timeout<5.0,>=4.0.0a3 in /usr/local/lib/python3.7/dist-packages (from aiohttp->fsspec[http]!=2021.06.0,>=2021.05.0->pytorch_lightning) (4.0.2)\n",
            "Requirement already satisfied: attrs>=17.3.0 in /usr/local/lib/python3.7/dist-packages (from aiohttp->fsspec[http]!=2021.06.0,>=2021.05.0->pytorch_lightning) (21.4.0)\n",
            "Requirement already satisfied: multidict<7.0,>=4.5 in /usr/local/lib/python3.7/dist-packages (from aiohttp->fsspec[http]!=2021.06.0,>=2021.05.0->pytorch_lightning) (6.0.2)\n",
            "Requirement already satisfied: aiosignal>=1.1.2 in /usr/local/lib/python3.7/dist-packages (from aiohttp->fsspec[http]!=2021.06.0,>=2021.05.0->pytorch_lightning) (1.2.0)\n",
            "Requirement already satisfied: frozenlist>=1.1.1 in /usr/local/lib/python3.7/dist-packages (from aiohttp->fsspec[http]!=2021.06.0,>=2021.05.0->pytorch_lightning) (1.3.0)\n"
          ]
        }
      ]
    },
    {
      "cell_type": "code",
      "source": [
        "import pandas as pd\n",
        "import numpy as np\n",
        "import torch\n",
        "from transformers import BertForQuestionAnswering\n",
        "from transformers import BertTokenizer\n",
        "from transformers import LongformerConfig, LongformerModel, LongformerTokenizer\n",
        "\n",
        "import pytorch_lightning as pl"
      ],
      "metadata": {
        "id": "8mJW_HMXgBxo"
      },
      "execution_count": 31,
      "outputs": []
    },
    {
      "cell_type": "code",
      "source": [
        "from google.colab import drive\n",
        "drive.mount('/content/drive')\n",
        "\n",
        "import warnings\n",
        "warnings.filterwarnings(\"ignore\", category=FutureWarning)\n",
        "warnings.filterwarnings(\"ignore\", category=DeprecationWarning)\n",
        "from sklearn.utils._testing import ignore_warnings\n",
        "from sklearn.exceptions import ConvergenceWarning\n",
        "\n",
        "# Allows for muliple output in one cell window\n",
        "from IPython.core.interactiveshell import InteractiveShell\n",
        "InteractiveShell.ast_node_interactivity = \"all\"\n",
        "\n",
        "#Allows for viewing the complete data in a single window \n",
        "pd.set_option('display.max_rows', 500)\n",
        "pd.set_option('display.max_columns', 500)\n",
        "pd.set_option('display.width', 1000)"
      ],
      "metadata": {
        "colab": {
          "base_uri": "https://localhost:8080/"
        },
        "id": "EW8o7fNFfmFu",
        "outputId": "5567d169-1b92-429b-ed41-78afde2e25f0"
      },
      "execution_count": 32,
      "outputs": [
        {
          "output_type": "stream",
          "name": "stdout",
          "text": [
            "Drive already mounted at /content/drive; to attempt to forcibly remount, call drive.mount(\"/content/drive\", force_remount=True).\n"
          ]
        }
      ]
    },
    {
      "cell_type": "code",
      "source": [
        "# Initializing a Longformer configuration\n",
        "configuration = LongformerConfig()\n",
        "\n",
        "# Initializing a model from the configuration\n",
        "model = LongformerModel(configuration)\n",
        "\n",
        "# Accessing the model configuration\n",
        "configuration = model.config"
      ],
      "metadata": {
        "id": "ecTuurN83Wj-"
      },
      "execution_count": 33,
      "outputs": []
    },
    {
      "cell_type": "code",
      "source": [
        "model = BertForQuestionAnswering.from_pretrained('bert-large-uncased-whole-word-masking-finetuned-squad')\n",
        "tokenizer = BertTokenizer.from_pretrained('bert-large-uncased-whole-word-masking-finetuned-squad')"
      ],
      "metadata": {
        "id": "lh8OvMgmfzfv"
      },
      "execution_count": 48,
      "outputs": []
    },
    {
      "cell_type": "code",
      "source": [
        "#model = LongformerModel.from_pretrained(\"allenai/longformer-base-4096\")\n",
        "#tokenizer = LongformerTokenizer.from_pretrained(\"allenai/longformer-base-4096\")"
      ],
      "metadata": {
        "colab": {
          "base_uri": "https://localhost:8080/"
        },
        "id": "cU64ijio4Qm2",
        "outputId": "eb7c2976-eca5-48d2-abb7-88a7ddd9ffd0"
      },
      "execution_count": 36,
      "outputs": [
        {
          "output_type": "stream",
          "name": "stderr",
          "text": [
            "Some weights of the model checkpoint at allenai/longformer-base-4096 were not used when initializing LongformerModel: ['lm_head.bias', 'lm_head.dense.weight', 'lm_head.layer_norm.weight', 'lm_head.layer_norm.bias', 'lm_head.dense.bias', 'lm_head.decoder.weight']\n",
            "- This IS expected if you are initializing LongformerModel from the checkpoint of a model trained on another task or with another architecture (e.g. initializing a BertForSequenceClassification model from a BertForPreTraining model).\n",
            "- This IS NOT expected if you are initializing LongformerModel from the checkpoint of a model that you expect to be exactly identical (initializing a BertForSequenceClassification model from a BertForSequenceClassification model).\n"
          ]
        }
      ]
    },
    {
      "cell_type": "code",
      "source": [
        "def question_answer(question, text):\n",
        "    \n",
        "    #tokenize question and text as a pair\n",
        "    input_ids = tokenizer.encode(question, text)\n",
        "    answer = \"\"\n",
        "    #string version of tokenized ids\n",
        "    tokens = tokenizer.convert_ids_to_tokens(input_ids)\n",
        "    \n",
        "    \n",
        "    #segment IDs\n",
        "    #first occurence of [SEP] token\n",
        "    sep_idx = input_ids.index(tokenizer.sep_token_id)    #number of tokens in segment A (question)\n",
        "    num_seg_a = sep_idx+1    #number of tokens in segment B (text)\n",
        "    num_seg_b = len(input_ids) - num_seg_a\n",
        "    \n",
        "    #list of 0s and 1s for segment embeddings\n",
        "    segment_ids = [0]*num_seg_a + [1]*num_seg_b    \n",
        "    \n",
        "    assert len(segment_ids) == len(input_ids)\n",
        "    \n",
        "    #model output using input_ids and segment_ids\n",
        "    output = model(torch.tensor([input_ids]), token_type_ids=torch.tensor([segment_ids]))\n",
        "    \n",
        "    #reconstructing the answer\n",
        "    answer_start = torch.argmax(output.start_logits)\n",
        "    answer_end = torch.argmax(output.end_logits)    \n",
        "    \n",
        "    if answer_end >= answer_start:\n",
        "        answer = tokens[answer_start]\n",
        "        for i in range(answer_start+1, answer_end+1):\n",
        "            if tokens[i][0:2] == \"##\":\n",
        "                answer += tokens[i][2:]\n",
        "            else:\n",
        "                answer += \" \" + tokens[i]\n",
        "                \n",
        "    if answer.startswith(\"[CLS]\"):\n",
        "        answer = \"Unable to find the answer to your question.\"\n",
        "    \n",
        "    print(\"\\nPredicted answer:\\n{}\".format(answer.capitalize()))"
      ],
      "metadata": {
        "id": "M61QFfXeorRn"
      },
      "execution_count": 49,
      "outputs": []
    },
    {
      "cell_type": "code",
      "source": [
        "recipe_data1.head()"
      ],
      "metadata": {
        "colab": {
          "base_uri": "https://localhost:8080/",
          "height": 206
        },
        "id": "gxo-jhK-FkLl",
        "outputId": "fdc2f8c1-7528-44f8-bcf9-15c16a062d5d"
      },
      "execution_count": 50,
      "outputs": [
        {
          "output_type": "execute_result",
          "data": {
            "text/html": [
              "\n",
              "  <div id=\"df-656196a2-d4ca-415e-9c5d-505103a3b726\">\n",
              "    <div class=\"colab-df-container\">\n",
              "      <div>\n",
              "<style scoped>\n",
              "    .dataframe tbody tr th:only-of-type {\n",
              "        vertical-align: middle;\n",
              "    }\n",
              "\n",
              "    .dataframe tbody tr th {\n",
              "        vertical-align: top;\n",
              "    }\n",
              "\n",
              "    .dataframe thead th {\n",
              "        text-align: right;\n",
              "    }\n",
              "</style>\n",
              "<table border=\"1\" class=\"dataframe\">\n",
              "  <thead>\n",
              "    <tr style=\"text-align: right;\">\n",
              "      <th></th>\n",
              "      <th>Doc_ID</th>\n",
              "      <th>Meal_ID</th>\n",
              "      <th>Ingredients_Directions</th>\n",
              "    </tr>\n",
              "  </thead>\n",
              "  <tbody>\n",
              "    <tr>\n",
              "      <th>0</th>\n",
              "      <td>0</td>\n",
              "      <td>Fluffiest_Blueberry_Pancakes</td>\n",
              "      <td>Super thick and fluffy blueberry pancakes! Mel...</td>\n",
              "    </tr>\n",
              "    <tr>\n",
              "      <th>1</th>\n",
              "      <td>1</td>\n",
              "      <td>The_Best_Green_Smoothie</td>\n",
              "      <td>A healthy breakfast - The Best Green Smoothie\\...</td>\n",
              "    </tr>\n",
              "    <tr>\n",
              "      <th>2</th>\n",
              "      <td>2</td>\n",
              "      <td>Lemon_Poppyseed_Zucchini_Bread</td>\n",
              "      <td>Lemon Poppyseed Zucchini Bread with zucchini, ...</td>\n",
              "    </tr>\n",
              "    <tr>\n",
              "      <th>3</th>\n",
              "      <td>3</td>\n",
              "      <td>Spicy_Shrimp_Tacos_with_Garlic_Cilantro_Lime_Slaw</td>\n",
              "      <td>The BEST Shrimp Tacos with Garlic Cilantro Lim...</td>\n",
              "    </tr>\n",
              "    <tr>\n",
              "      <th>4</th>\n",
              "      <td>4</td>\n",
              "      <td>Chipotle_Tahini_Bowls</td>\n",
              "      <td>Healthy and versatile bowls that come together...</td>\n",
              "    </tr>\n",
              "  </tbody>\n",
              "</table>\n",
              "</div>\n",
              "      <button class=\"colab-df-convert\" onclick=\"convertToInteractive('df-656196a2-d4ca-415e-9c5d-505103a3b726')\"\n",
              "              title=\"Convert this dataframe to an interactive table.\"\n",
              "              style=\"display:none;\">\n",
              "        \n",
              "  <svg xmlns=\"http://www.w3.org/2000/svg\" height=\"24px\"viewBox=\"0 0 24 24\"\n",
              "       width=\"24px\">\n",
              "    <path d=\"M0 0h24v24H0V0z\" fill=\"none\"/>\n",
              "    <path d=\"M18.56 5.44l.94 2.06.94-2.06 2.06-.94-2.06-.94-.94-2.06-.94 2.06-2.06.94zm-11 1L8.5 8.5l.94-2.06 2.06-.94-2.06-.94L8.5 2.5l-.94 2.06-2.06.94zm10 10l.94 2.06.94-2.06 2.06-.94-2.06-.94-.94-2.06-.94 2.06-2.06.94z\"/><path d=\"M17.41 7.96l-1.37-1.37c-.4-.4-.92-.59-1.43-.59-.52 0-1.04.2-1.43.59L10.3 9.45l-7.72 7.72c-.78.78-.78 2.05 0 2.83L4 21.41c.39.39.9.59 1.41.59.51 0 1.02-.2 1.41-.59l7.78-7.78 2.81-2.81c.8-.78.8-2.07 0-2.86zM5.41 20L4 18.59l7.72-7.72 1.47 1.35L5.41 20z\"/>\n",
              "  </svg>\n",
              "      </button>\n",
              "      \n",
              "  <style>\n",
              "    .colab-df-container {\n",
              "      display:flex;\n",
              "      flex-wrap:wrap;\n",
              "      gap: 12px;\n",
              "    }\n",
              "\n",
              "    .colab-df-convert {\n",
              "      background-color: #E8F0FE;\n",
              "      border: none;\n",
              "      border-radius: 50%;\n",
              "      cursor: pointer;\n",
              "      display: none;\n",
              "      fill: #1967D2;\n",
              "      height: 32px;\n",
              "      padding: 0 0 0 0;\n",
              "      width: 32px;\n",
              "    }\n",
              "\n",
              "    .colab-df-convert:hover {\n",
              "      background-color: #E2EBFA;\n",
              "      box-shadow: 0px 1px 2px rgba(60, 64, 67, 0.3), 0px 1px 3px 1px rgba(60, 64, 67, 0.15);\n",
              "      fill: #174EA6;\n",
              "    }\n",
              "\n",
              "    [theme=dark] .colab-df-convert {\n",
              "      background-color: #3B4455;\n",
              "      fill: #D2E3FC;\n",
              "    }\n",
              "\n",
              "    [theme=dark] .colab-df-convert:hover {\n",
              "      background-color: #434B5C;\n",
              "      box-shadow: 0px 1px 3px 1px rgba(0, 0, 0, 0.15);\n",
              "      filter: drop-shadow(0px 1px 2px rgba(0, 0, 0, 0.3));\n",
              "      fill: #FFFFFF;\n",
              "    }\n",
              "  </style>\n",
              "\n",
              "      <script>\n",
              "        const buttonEl =\n",
              "          document.querySelector('#df-656196a2-d4ca-415e-9c5d-505103a3b726 button.colab-df-convert');\n",
              "        buttonEl.style.display =\n",
              "          google.colab.kernel.accessAllowed ? 'block' : 'none';\n",
              "\n",
              "        async function convertToInteractive(key) {\n",
              "          const element = document.querySelector('#df-656196a2-d4ca-415e-9c5d-505103a3b726');\n",
              "          const dataTable =\n",
              "            await google.colab.kernel.invokeFunction('convertToInteractive',\n",
              "                                                     [key], {});\n",
              "          if (!dataTable) return;\n",
              "\n",
              "          const docLinkHtml = 'Like what you see? Visit the ' +\n",
              "            '<a target=\"_blank\" href=https://colab.research.google.com/notebooks/data_table.ipynb>data table notebook</a>'\n",
              "            + ' to learn more about interactive tables.';\n",
              "          element.innerHTML = '';\n",
              "          dataTable['output_type'] = 'display_data';\n",
              "          await google.colab.output.renderOutput(dataTable, element);\n",
              "          const docLink = document.createElement('div');\n",
              "          docLink.innerHTML = docLinkHtml;\n",
              "          element.appendChild(docLink);\n",
              "        }\n",
              "      </script>\n",
              "    </div>\n",
              "  </div>\n",
              "  "
            ],
            "text/plain": [
              "   Doc_ID                                            Meal_ID                             Ingredients_Directions\n",
              "0       0                       Fluffiest_Blueberry_Pancakes  Super thick and fluffy blueberry pancakes! Mel...\n",
              "1       1                            The_Best_Green_Smoothie  A healthy breakfast - The Best Green Smoothie\\...\n",
              "2       2                     Lemon_Poppyseed_Zucchini_Bread  Lemon Poppyseed Zucchini Bread with zucchini, ...\n",
              "3       3  Spicy_Shrimp_Tacos_with_Garlic_Cilantro_Lime_Slaw  The BEST Shrimp Tacos with Garlic Cilantro Lim...\n",
              "4       4                              Chipotle_Tahini_Bowls  Healthy and versatile bowls that come together..."
            ]
          },
          "metadata": {},
          "execution_count": 50
        }
      ]
    },
    {
      "cell_type": "code",
      "source": [
        "text = ' '.join([x for x in recipe_data1['Ingredients_Directions']]).split('.')\n"
      ],
      "metadata": {
        "id": "9Bs7sUglbd_B"
      },
      "execution_count": 51,
      "outputs": []
    },
    {
      "cell_type": "code",
      "source": [
        "whole_doc = \"\"\n",
        "recipe_data2 = recipe_data1.head(2).reset_index()  \n",
        "# make sure indexes pair with number of rows\n",
        "for index, row in recipe_data2.iterrows():\n",
        "  whole_doc1 = whole_doc.join(recipe_data2['Ingredients_Directions'][index])\n",
        "    \n",
        "    \n",
        "#print(index)\n",
        "type(whole_doc1)\n",
        "\n",
        "\n"
      ],
      "metadata": {
        "colab": {
          "base_uri": "https://localhost:8080/"
        },
        "id": "Xp31t2i86JzS",
        "outputId": "98cac53f-0081-45d3-a9fa-adc2c43b78ed"
      },
      "execution_count": 52,
      "outputs": [
        {
          "output_type": "execute_result",
          "data": {
            "text/plain": [
              "str"
            ]
          },
          "metadata": {},
          "execution_count": 52
        }
      ]
    },
    {
      "cell_type": "code",
      "source": [
        "\n",
        "print('string length:',len(whole_doc1))\n",
        "a = recipe_data2['Ingredients_Directions'][1]\n",
        "a\n"
      ],
      "metadata": {
        "colab": {
          "base_uri": "https://localhost:8080/",
          "height": 201
        },
        "id": "UFWWdPFjOXay",
        "outputId": "31bfd7ae-8c12-4971-ff18-595d09f4bc28"
      },
      "execution_count": 53,
      "outputs": [
        {
          "output_type": "stream",
          "name": "stdout",
          "text": [
            "string length: 1731\n"
          ]
        },
        {
          "output_type": "execute_result",
          "data": {
            "application/vnd.google.colaboratory.intrinsic+json": {
              "type": "string"
            },
            "text/plain": [
              "'A healthy breakfast - The Best Green Smoothie\\n \\n4.8 from 17 reviews\\n\\nThe best basic, smooth, creamy green smoothie. So easy – just blend peaches, mango, kale, almond milk, and ginger. Honey or cinnamon if you want, too! _\\nIngredients\\nUnits\\nScale\\n\\n1 cup frozen mango chunks\\n1/2 cup frozen peach slices\\na handful of kale (stems removed) or spinach\\n1–2 cups almond milk\\n1/2 inch slice of fresh ginger\\nsprinkle of cinnamon\\nhoney to taste\\n\\nInstructions\\n\\nBlend until smooth!\\nEnjoy!\\n\\nNotes\\n\\nAdd more or less almond milk to make this more like a smoothie vs. more like a juice. You can also use water instead of almond milk if you prefer. Coconut water is also nice although it has a bit more natural sugar. Sometimes I find adding a tiny pinch of salt helps the flavor a little bit. This works best with frozen fruit so you get a nice smooth and creamy texture. Protein powder would be a great addition. I’ve also added coconut oil and/or cashews for an extra fat/protein boost. You will get the best results with a high-speed blender, like the Vitamix or the Blendtec. We use both (one at home, one at the studio) and I don’t really have a preference between them. They’re both great. For a good blender that doesn’t cost quite so much, the Ninja brand is pretty good, too. Drink this right after you blend it. You can keep it for later, but be sure shake it up. I don’t recommend drinking it more than 24 hours after you make it.\\n\\nNutritional Facts\\nServes 1\\nCalories Per Serving: 224\\n% Daily Value\\n7% Total Fat 5.3g\\n0% Cholesterol 0mg\\n12% Sodium 287.4mg\\n16% Total Carbohydrate 43.7g\\n21% Dietary Fiber 5.8g\\nSugars 35.1g\\n10% Protein 5.2g\\n39% Vitamin A 350.8µg\\n94% Vitamin C 84.5mg\\n13% Iron 2.3mg\\n17% Potassium 784.7mg\\n8% Phosphorus 94.8mg'"
            ]
          },
          "metadata": {},
          "execution_count": 53
        }
      ]
    },
    {
      "cell_type": "code",
      "source": [
        "\n",
        "\n",
        "question = \"Anything with a hint of ginger\""
      ],
      "metadata": {
        "id": "ModFxeee0t0Z"
      },
      "execution_count": 54,
      "outputs": []
    },
    {
      "cell_type": "code",
      "source": [
        "question_answer(question, whole_doc1)\n",
        "\n",
        "#original answer from the dataset\n",
        "#print(\"Original answer:\\n\", data.loc[data[\"question\"] == question][\"answer\"].values[0])\n"
      ],
      "metadata": {
        "colab": {
          "base_uri": "https://localhost:8080/"
        },
        "id": "27Xc0QIM9m23",
        "outputId": "f022c1e3-898e-46a1-c437-7ba43f01375a"
      },
      "execution_count": 55,
      "outputs": [
        {
          "output_type": "stream",
          "name": "stdout",
          "text": [
            "\n",
            "Predicted answer:\n",
            "Unable to find the answer to your question.\n"
          ]
        }
      ]
    }
  ]
}