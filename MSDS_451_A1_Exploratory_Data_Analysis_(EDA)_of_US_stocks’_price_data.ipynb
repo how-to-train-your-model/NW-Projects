{
  "nbformat": 4,
  "nbformat_minor": 0,
  "metadata": {
    "colab": {
      "provenance": [],
      "toc_visible": true,
      "authorship_tag": "ABX9TyMmQu2XhDJ8LWBvHYHqHPvY",
      "include_colab_link": true
    },
    "kernelspec": {
      "name": "python3",
      "display_name": "Python 3"
    },
    "language_info": {
      "name": "python"
    }
  },
  "cells": [
    {
      "cell_type": "markdown",
      "metadata": {
        "id": "view-in-github",
        "colab_type": "text"
      },
      "source": [
        "<a href=\"https://colab.research.google.com/github/how-to-train-your-model/data-science-portfolio/blob/main/MSDS_451_A1_Exploratory_Data_Analysis_(EDA)_of_US_stocks%E2%80%99_price_data.ipynb\" target=\"_parent\"><img src=\"https://colab.research.google.com/assets/colab-badge.svg\" alt=\"Open In Colab\"/></a>"
      ]
    },
    {
      "cell_type": "markdown",
      "source": [
        "# MSDS451 - Assignment 1"
      ],
      "metadata": {
        "id": "LWxodnDMUSlw"
      }
    },
    {
      "cell_type": "code",
      "execution_count": null,
      "metadata": {
        "id": "PUt9iEzRdnzN"
      },
      "outputs": [],
      "source": [
        "import pandas as pd\n",
        "import bz2\n",
        "import os\n",
        "import matplotlib.pyplot as plt\n",
        "plt.style.use('classic')\n",
        "%matplotlib inline\n",
        "import numpy as np\n",
        "import pandas as pd\n",
        "\n",
        "\n",
        "import seaborn as sns\n",
        "sns.set()\n",
        "import datetime as dt\n",
        "\n"
      ]
    },
    {
      "cell_type": "code",
      "source": [
        "import warnings\n",
        "warnings.filterwarnings(\"ignore\", category=FutureWarning)\n",
        "warnings.filterwarnings(\"ignore\", category=DeprecationWarning)\n",
        "from sklearn.utils._testing import ignore_warnings\n",
        "from sklearn.exceptions import ConvergenceWarning"
      ],
      "metadata": {
        "id": "spDQS3BmeOVY"
      },
      "execution_count": null,
      "outputs": []
    },
    {
      "cell_type": "code",
      "source": [
        "# Allows for muliple output in one cell window\n",
        "from IPython.core.interactiveshell import InteractiveShell\n",
        "InteractiveShell.ast_node_interactivity = \"all\"\n",
        "\n",
        "#Allows for viewing the complete data in a single window \n",
        "pd.set_option('display.max_rows', 500)\n",
        "pd.set_option('display.max_columns', 500)\n",
        "pd.set_option('display.width', 1000)"
      ],
      "metadata": {
        "id": "nKFOqNCVeXVz"
      },
      "execution_count": null,
      "outputs": []
    },
    {
      "cell_type": "code",
      "source": [
        "from google.colab import drive\n",
        "drive.mount('/content/drive')"
      ],
      "metadata": {
        "colab": {
          "base_uri": "https://localhost:8080/"
        },
        "id": "R0wPR7tddqFR",
        "outputId": "a9b9d51f-8566-4ab7-dd7d-314117391c27"
      },
      "execution_count": null,
      "outputs": [
        {
          "output_type": "stream",
          "name": "stdout",
          "text": [
            "Drive already mounted at /content/drive; to attempt to forcibly remount, call drive.mount(\"/content/drive\", force_remount=True).\n"
          ]
        }
      ]
    },
    {
      "cell_type": "code",
      "source": [
        "!ls -l \"/content/drive/My Drive/Colab_Notebooks/MSDS-451/W1\""
      ],
      "metadata": {
        "colab": {
          "base_uri": "https://localhost:8080/"
        },
        "id": "ZSqq8f_PehhA",
        "outputId": "87272ca6-d993-4ef5-cb04-2546f6d063e2"
      },
      "execution_count": null,
      "outputs": [
        {
          "output_type": "stream",
          "name": "stdout",
          "text": [
            "total 211327\n",
            "-rw------- 1 root root    264756 Jan 14 23:48 'MSDS 451-A1-Exploratory Data Analysis (EDA) of US stocks’ price data.ipynb'\n",
            "-rw------- 1 root root 216132826 Jan 12 04:03  R3K_Daily\n"
          ]
        }
      ]
    },
    {
      "cell_type": "code",
      "source": [
        "w1_files = \"/content/drive/My Drive/Colab_Notebooks/MSDS-451/W1\""
      ],
      "metadata": {
        "id": "L-XzJOoXglpG"
      },
      "execution_count": null,
      "outputs": []
    },
    {
      "cell_type": "code",
      "source": [
        "df = pd.read_pickle(w1_files+\"/R3K_Daily\")\n",
        "df.shape\n",
        "df.head()\n"
      ],
      "metadata": {
        "colab": {
          "base_uri": "https://localhost:8080/",
          "height": 224
        },
        "id": "pmQUkKHjgdAB",
        "outputId": "8835c96e-2ddd-44cb-aa3b-cc1d13e5579b"
      },
      "execution_count": null,
      "outputs": [
        {
          "output_type": "execute_result",
          "data": {
            "text/plain": [
              "(3894844, 8)"
            ]
          },
          "metadata": {},
          "execution_count": 51
        },
        {
          "output_type": "execute_result",
          "data": {
            "text/plain": [
              "        Date       Open       High        Low      Close  UnAdjustedClose Volume Symbol\n",
              "0 2000-12-01  33.287973  34.388402  33.170070  33.327274          53.0000  36286      A\n",
              "1 2000-12-04  32.737759  33.366575  31.755233  32.069641          51.0000  28951      A\n",
              "2 2000-12-05  33.170070  35.017219  33.052167  34.624208          55.0625  54723      A\n",
              "3 2000-12-06  34.742111  35.803239  32.698458  32.698458          52.0000  43669      A\n",
              "4 2000-12-07  33.012866  34.506305  32.305447  33.956091          54.0000  30599      A"
            ],
            "text/html": [
              "\n",
              "  <div id=\"df-8c0a0034-11ce-487a-b1c0-3421d56ba4cf\">\n",
              "    <div class=\"colab-df-container\">\n",
              "      <div>\n",
              "<style scoped>\n",
              "    .dataframe tbody tr th:only-of-type {\n",
              "        vertical-align: middle;\n",
              "    }\n",
              "\n",
              "    .dataframe tbody tr th {\n",
              "        vertical-align: top;\n",
              "    }\n",
              "\n",
              "    .dataframe thead th {\n",
              "        text-align: right;\n",
              "    }\n",
              "</style>\n",
              "<table border=\"1\" class=\"dataframe\">\n",
              "  <thead>\n",
              "    <tr style=\"text-align: right;\">\n",
              "      <th></th>\n",
              "      <th>Date</th>\n",
              "      <th>Open</th>\n",
              "      <th>High</th>\n",
              "      <th>Low</th>\n",
              "      <th>Close</th>\n",
              "      <th>UnAdjustedClose</th>\n",
              "      <th>Volume</th>\n",
              "      <th>Symbol</th>\n",
              "    </tr>\n",
              "  </thead>\n",
              "  <tbody>\n",
              "    <tr>\n",
              "      <th>0</th>\n",
              "      <td>2000-12-01</td>\n",
              "      <td>33.287973</td>\n",
              "      <td>34.388402</td>\n",
              "      <td>33.170070</td>\n",
              "      <td>33.327274</td>\n",
              "      <td>53.0000</td>\n",
              "      <td>36286</td>\n",
              "      <td>A</td>\n",
              "    </tr>\n",
              "    <tr>\n",
              "      <th>1</th>\n",
              "      <td>2000-12-04</td>\n",
              "      <td>32.737759</td>\n",
              "      <td>33.366575</td>\n",
              "      <td>31.755233</td>\n",
              "      <td>32.069641</td>\n",
              "      <td>51.0000</td>\n",
              "      <td>28951</td>\n",
              "      <td>A</td>\n",
              "    </tr>\n",
              "    <tr>\n",
              "      <th>2</th>\n",
              "      <td>2000-12-05</td>\n",
              "      <td>33.170070</td>\n",
              "      <td>35.017219</td>\n",
              "      <td>33.052167</td>\n",
              "      <td>34.624208</td>\n",
              "      <td>55.0625</td>\n",
              "      <td>54723</td>\n",
              "      <td>A</td>\n",
              "    </tr>\n",
              "    <tr>\n",
              "      <th>3</th>\n",
              "      <td>2000-12-06</td>\n",
              "      <td>34.742111</td>\n",
              "      <td>35.803239</td>\n",
              "      <td>32.698458</td>\n",
              "      <td>32.698458</td>\n",
              "      <td>52.0000</td>\n",
              "      <td>43669</td>\n",
              "      <td>A</td>\n",
              "    </tr>\n",
              "    <tr>\n",
              "      <th>4</th>\n",
              "      <td>2000-12-07</td>\n",
              "      <td>33.012866</td>\n",
              "      <td>34.506305</td>\n",
              "      <td>32.305447</td>\n",
              "      <td>33.956091</td>\n",
              "      <td>54.0000</td>\n",
              "      <td>30599</td>\n",
              "      <td>A</td>\n",
              "    </tr>\n",
              "  </tbody>\n",
              "</table>\n",
              "</div>\n",
              "      <button class=\"colab-df-convert\" onclick=\"convertToInteractive('df-8c0a0034-11ce-487a-b1c0-3421d56ba4cf')\"\n",
              "              title=\"Convert this dataframe to an interactive table.\"\n",
              "              style=\"display:none;\">\n",
              "        \n",
              "  <svg xmlns=\"http://www.w3.org/2000/svg\" height=\"24px\"viewBox=\"0 0 24 24\"\n",
              "       width=\"24px\">\n",
              "    <path d=\"M0 0h24v24H0V0z\" fill=\"none\"/>\n",
              "    <path d=\"M18.56 5.44l.94 2.06.94-2.06 2.06-.94-2.06-.94-.94-2.06-.94 2.06-2.06.94zm-11 1L8.5 8.5l.94-2.06 2.06-.94-2.06-.94L8.5 2.5l-.94 2.06-2.06.94zm10 10l.94 2.06.94-2.06 2.06-.94-2.06-.94-.94-2.06-.94 2.06-2.06.94z\"/><path d=\"M17.41 7.96l-1.37-1.37c-.4-.4-.92-.59-1.43-.59-.52 0-1.04.2-1.43.59L10.3 9.45l-7.72 7.72c-.78.78-.78 2.05 0 2.83L4 21.41c.39.39.9.59 1.41.59.51 0 1.02-.2 1.41-.59l7.78-7.78 2.81-2.81c.8-.78.8-2.07 0-2.86zM5.41 20L4 18.59l7.72-7.72 1.47 1.35L5.41 20z\"/>\n",
              "  </svg>\n",
              "      </button>\n",
              "      \n",
              "  <style>\n",
              "    .colab-df-container {\n",
              "      display:flex;\n",
              "      flex-wrap:wrap;\n",
              "      gap: 12px;\n",
              "    }\n",
              "\n",
              "    .colab-df-convert {\n",
              "      background-color: #E8F0FE;\n",
              "      border: none;\n",
              "      border-radius: 50%;\n",
              "      cursor: pointer;\n",
              "      display: none;\n",
              "      fill: #1967D2;\n",
              "      height: 32px;\n",
              "      padding: 0 0 0 0;\n",
              "      width: 32px;\n",
              "    }\n",
              "\n",
              "    .colab-df-convert:hover {\n",
              "      background-color: #E2EBFA;\n",
              "      box-shadow: 0px 1px 2px rgba(60, 64, 67, 0.3), 0px 1px 3px 1px rgba(60, 64, 67, 0.15);\n",
              "      fill: #174EA6;\n",
              "    }\n",
              "\n",
              "    [theme=dark] .colab-df-convert {\n",
              "      background-color: #3B4455;\n",
              "      fill: #D2E3FC;\n",
              "    }\n",
              "\n",
              "    [theme=dark] .colab-df-convert:hover {\n",
              "      background-color: #434B5C;\n",
              "      box-shadow: 0px 1px 3px 1px rgba(0, 0, 0, 0.15);\n",
              "      filter: drop-shadow(0px 1px 2px rgba(0, 0, 0, 0.3));\n",
              "      fill: #FFFFFF;\n",
              "    }\n",
              "  </style>\n",
              "\n",
              "      <script>\n",
              "        const buttonEl =\n",
              "          document.querySelector('#df-8c0a0034-11ce-487a-b1c0-3421d56ba4cf button.colab-df-convert');\n",
              "        buttonEl.style.display =\n",
              "          google.colab.kernel.accessAllowed ? 'block' : 'none';\n",
              "\n",
              "        async function convertToInteractive(key) {\n",
              "          const element = document.querySelector('#df-8c0a0034-11ce-487a-b1c0-3421d56ba4cf');\n",
              "          const dataTable =\n",
              "            await google.colab.kernel.invokeFunction('convertToInteractive',\n",
              "                                                     [key], {});\n",
              "          if (!dataTable) return;\n",
              "\n",
              "          const docLinkHtml = 'Like what you see? Visit the ' +\n",
              "            '<a target=\"_blank\" href=https://colab.research.google.com/notebooks/data_table.ipynb>data table notebook</a>'\n",
              "            + ' to learn more about interactive tables.';\n",
              "          element.innerHTML = '';\n",
              "          dataTable['output_type'] = 'display_data';\n",
              "          await google.colab.output.renderOutput(dataTable, element);\n",
              "          const docLink = document.createElement('div');\n",
              "          docLink.innerHTML = docLinkHtml;\n",
              "          element.appendChild(docLink);\n",
              "        }\n",
              "      </script>\n",
              "    </div>\n",
              "  </div>\n",
              "  "
            ]
          },
          "metadata": {},
          "execution_count": 51
        }
      ]
    },
    {
      "cell_type": "markdown",
      "source": [
        "## Question 2"
      ],
      "metadata": {
        "id": "GmPLb1_hUfCe"
      }
    },
    {
      "cell_type": "code",
      "source": [
        "df[df['Symbol'].str.contains('.', regex=False, na=True)]\n",
        "\n"
      ],
      "metadata": {
        "colab": {
          "base_uri": "https://localhost:8080/",
          "height": 424
        },
        "id": "xwGnc88qhjp-",
        "outputId": "932a1165-e723-4f56-abc9-ee34cadd12e1"
      },
      "execution_count": null,
      "outputs": [
        {
          "output_type": "execute_result",
          "data": {
            "text/plain": [
              "              Date       Open       High        Low      Close  UnAdjustedClose Volume Symbol\n",
              "462782  2000-12-01   3.330639   3.340311   3.330639   3.340311          64.7500     25   BF.A\n",
              "462783  2000-12-04   3.347700   3.422238   3.347700   3.422238          66.0000    829   BF.A\n",
              "462784  2000-12-05   3.415756   3.487053   3.415756   3.435201          66.2500    741   BF.A\n",
              "462785  2000-12-06   3.448164   3.512979   3.441682   3.451404          66.5625   1004   BF.A\n",
              "462786  2000-12-07   3.451404   3.564831   3.451404   3.525942          68.0000    854   BF.A\n",
              "...            ...        ...        ...        ...        ...              ...    ...    ...\n",
              "2311818 2019-03-04  94.470000  94.500000  91.420000  91.580000          91.5800   2042  MOG.A\n",
              "2311819 2019-03-05  91.600000  92.370000  91.280000  91.360000          91.3600   1604  MOG.A\n",
              "2311820 2019-03-06  91.180000  91.680000  89.770000  89.850000          89.8500   1522  MOG.A\n",
              "2311821 2019-03-07  89.960000  89.960000  88.340000  88.530000          88.5300   1462  MOG.A\n",
              "2311822 2019-03-08  88.100000  88.260000  87.090000  88.140000          88.1400   1619  MOG.A\n",
              "\n",
              "[40676 rows x 8 columns]"
            ],
            "text/html": [
              "\n",
              "  <div id=\"df-9ae1158b-d687-41cd-8bd7-a1647cc47913\">\n",
              "    <div class=\"colab-df-container\">\n",
              "      <div>\n",
              "<style scoped>\n",
              "    .dataframe tbody tr th:only-of-type {\n",
              "        vertical-align: middle;\n",
              "    }\n",
              "\n",
              "    .dataframe tbody tr th {\n",
              "        vertical-align: top;\n",
              "    }\n",
              "\n",
              "    .dataframe thead th {\n",
              "        text-align: right;\n",
              "    }\n",
              "</style>\n",
              "<table border=\"1\" class=\"dataframe\">\n",
              "  <thead>\n",
              "    <tr style=\"text-align: right;\">\n",
              "      <th></th>\n",
              "      <th>Date</th>\n",
              "      <th>Open</th>\n",
              "      <th>High</th>\n",
              "      <th>Low</th>\n",
              "      <th>Close</th>\n",
              "      <th>UnAdjustedClose</th>\n",
              "      <th>Volume</th>\n",
              "      <th>Symbol</th>\n",
              "    </tr>\n",
              "  </thead>\n",
              "  <tbody>\n",
              "    <tr>\n",
              "      <th>462782</th>\n",
              "      <td>2000-12-01</td>\n",
              "      <td>3.330639</td>\n",
              "      <td>3.340311</td>\n",
              "      <td>3.330639</td>\n",
              "      <td>3.340311</td>\n",
              "      <td>64.7500</td>\n",
              "      <td>25</td>\n",
              "      <td>BF.A</td>\n",
              "    </tr>\n",
              "    <tr>\n",
              "      <th>462783</th>\n",
              "      <td>2000-12-04</td>\n",
              "      <td>3.347700</td>\n",
              "      <td>3.422238</td>\n",
              "      <td>3.347700</td>\n",
              "      <td>3.422238</td>\n",
              "      <td>66.0000</td>\n",
              "      <td>829</td>\n",
              "      <td>BF.A</td>\n",
              "    </tr>\n",
              "    <tr>\n",
              "      <th>462784</th>\n",
              "      <td>2000-12-05</td>\n",
              "      <td>3.415756</td>\n",
              "      <td>3.487053</td>\n",
              "      <td>3.415756</td>\n",
              "      <td>3.435201</td>\n",
              "      <td>66.2500</td>\n",
              "      <td>741</td>\n",
              "      <td>BF.A</td>\n",
              "    </tr>\n",
              "    <tr>\n",
              "      <th>462785</th>\n",
              "      <td>2000-12-06</td>\n",
              "      <td>3.448164</td>\n",
              "      <td>3.512979</td>\n",
              "      <td>3.441682</td>\n",
              "      <td>3.451404</td>\n",
              "      <td>66.5625</td>\n",
              "      <td>1004</td>\n",
              "      <td>BF.A</td>\n",
              "    </tr>\n",
              "    <tr>\n",
              "      <th>462786</th>\n",
              "      <td>2000-12-07</td>\n",
              "      <td>3.451404</td>\n",
              "      <td>3.564831</td>\n",
              "      <td>3.451404</td>\n",
              "      <td>3.525942</td>\n",
              "      <td>68.0000</td>\n",
              "      <td>854</td>\n",
              "      <td>BF.A</td>\n",
              "    </tr>\n",
              "    <tr>\n",
              "      <th>...</th>\n",
              "      <td>...</td>\n",
              "      <td>...</td>\n",
              "      <td>...</td>\n",
              "      <td>...</td>\n",
              "      <td>...</td>\n",
              "      <td>...</td>\n",
              "      <td>...</td>\n",
              "      <td>...</td>\n",
              "    </tr>\n",
              "    <tr>\n",
              "      <th>2311818</th>\n",
              "      <td>2019-03-04</td>\n",
              "      <td>94.470000</td>\n",
              "      <td>94.500000</td>\n",
              "      <td>91.420000</td>\n",
              "      <td>91.580000</td>\n",
              "      <td>91.5800</td>\n",
              "      <td>2042</td>\n",
              "      <td>MOG.A</td>\n",
              "    </tr>\n",
              "    <tr>\n",
              "      <th>2311819</th>\n",
              "      <td>2019-03-05</td>\n",
              "      <td>91.600000</td>\n",
              "      <td>92.370000</td>\n",
              "      <td>91.280000</td>\n",
              "      <td>91.360000</td>\n",
              "      <td>91.3600</td>\n",
              "      <td>1604</td>\n",
              "      <td>MOG.A</td>\n",
              "    </tr>\n",
              "    <tr>\n",
              "      <th>2311820</th>\n",
              "      <td>2019-03-06</td>\n",
              "      <td>91.180000</td>\n",
              "      <td>91.680000</td>\n",
              "      <td>89.770000</td>\n",
              "      <td>89.850000</td>\n",
              "      <td>89.8500</td>\n",
              "      <td>1522</td>\n",
              "      <td>MOG.A</td>\n",
              "    </tr>\n",
              "    <tr>\n",
              "      <th>2311821</th>\n",
              "      <td>2019-03-07</td>\n",
              "      <td>89.960000</td>\n",
              "      <td>89.960000</td>\n",
              "      <td>88.340000</td>\n",
              "      <td>88.530000</td>\n",
              "      <td>88.5300</td>\n",
              "      <td>1462</td>\n",
              "      <td>MOG.A</td>\n",
              "    </tr>\n",
              "    <tr>\n",
              "      <th>2311822</th>\n",
              "      <td>2019-03-08</td>\n",
              "      <td>88.100000</td>\n",
              "      <td>88.260000</td>\n",
              "      <td>87.090000</td>\n",
              "      <td>88.140000</td>\n",
              "      <td>88.1400</td>\n",
              "      <td>1619</td>\n",
              "      <td>MOG.A</td>\n",
              "    </tr>\n",
              "  </tbody>\n",
              "</table>\n",
              "<p>40676 rows × 8 columns</p>\n",
              "</div>\n",
              "      <button class=\"colab-df-convert\" onclick=\"convertToInteractive('df-9ae1158b-d687-41cd-8bd7-a1647cc47913')\"\n",
              "              title=\"Convert this dataframe to an interactive table.\"\n",
              "              style=\"display:none;\">\n",
              "        \n",
              "  <svg xmlns=\"http://www.w3.org/2000/svg\" height=\"24px\"viewBox=\"0 0 24 24\"\n",
              "       width=\"24px\">\n",
              "    <path d=\"M0 0h24v24H0V0z\" fill=\"none\"/>\n",
              "    <path d=\"M18.56 5.44l.94 2.06.94-2.06 2.06-.94-2.06-.94-.94-2.06-.94 2.06-2.06.94zm-11 1L8.5 8.5l.94-2.06 2.06-.94-2.06-.94L8.5 2.5l-.94 2.06-2.06.94zm10 10l.94 2.06.94-2.06 2.06-.94-2.06-.94-.94-2.06-.94 2.06-2.06.94z\"/><path d=\"M17.41 7.96l-1.37-1.37c-.4-.4-.92-.59-1.43-.59-.52 0-1.04.2-1.43.59L10.3 9.45l-7.72 7.72c-.78.78-.78 2.05 0 2.83L4 21.41c.39.39.9.59 1.41.59.51 0 1.02-.2 1.41-.59l7.78-7.78 2.81-2.81c.8-.78.8-2.07 0-2.86zM5.41 20L4 18.59l7.72-7.72 1.47 1.35L5.41 20z\"/>\n",
              "  </svg>\n",
              "      </button>\n",
              "      \n",
              "  <style>\n",
              "    .colab-df-container {\n",
              "      display:flex;\n",
              "      flex-wrap:wrap;\n",
              "      gap: 12px;\n",
              "    }\n",
              "\n",
              "    .colab-df-convert {\n",
              "      background-color: #E8F0FE;\n",
              "      border: none;\n",
              "      border-radius: 50%;\n",
              "      cursor: pointer;\n",
              "      display: none;\n",
              "      fill: #1967D2;\n",
              "      height: 32px;\n",
              "      padding: 0 0 0 0;\n",
              "      width: 32px;\n",
              "    }\n",
              "\n",
              "    .colab-df-convert:hover {\n",
              "      background-color: #E2EBFA;\n",
              "      box-shadow: 0px 1px 2px rgba(60, 64, 67, 0.3), 0px 1px 3px 1px rgba(60, 64, 67, 0.15);\n",
              "      fill: #174EA6;\n",
              "    }\n",
              "\n",
              "    [theme=dark] .colab-df-convert {\n",
              "      background-color: #3B4455;\n",
              "      fill: #D2E3FC;\n",
              "    }\n",
              "\n",
              "    [theme=dark] .colab-df-convert:hover {\n",
              "      background-color: #434B5C;\n",
              "      box-shadow: 0px 1px 3px 1px rgba(0, 0, 0, 0.15);\n",
              "      filter: drop-shadow(0px 1px 2px rgba(0, 0, 0, 0.3));\n",
              "      fill: #FFFFFF;\n",
              "    }\n",
              "  </style>\n",
              "\n",
              "      <script>\n",
              "        const buttonEl =\n",
              "          document.querySelector('#df-9ae1158b-d687-41cd-8bd7-a1647cc47913 button.colab-df-convert');\n",
              "        buttonEl.style.display =\n",
              "          google.colab.kernel.accessAllowed ? 'block' : 'none';\n",
              "\n",
              "        async function convertToInteractive(key) {\n",
              "          const element = document.querySelector('#df-9ae1158b-d687-41cd-8bd7-a1647cc47913');\n",
              "          const dataTable =\n",
              "            await google.colab.kernel.invokeFunction('convertToInteractive',\n",
              "                                                     [key], {});\n",
              "          if (!dataTable) return;\n",
              "\n",
              "          const docLinkHtml = 'Like what you see? Visit the ' +\n",
              "            '<a target=\"_blank\" href=https://colab.research.google.com/notebooks/data_table.ipynb>data table notebook</a>'\n",
              "            + ' to learn more about interactive tables.';\n",
              "          element.innerHTML = '';\n",
              "          dataTable['output_type'] = 'display_data';\n",
              "          await google.colab.output.renderOutput(dataTable, element);\n",
              "          const docLink = document.createElement('div');\n",
              "          docLink.innerHTML = docLinkHtml;\n",
              "          element.appendChild(docLink);\n",
              "        }\n",
              "      </script>\n",
              "    </div>\n",
              "  </div>\n",
              "  "
            ]
          },
          "metadata": {},
          "execution_count": 52
        }
      ]
    },
    {
      "cell_type": "code",
      "source": [
        "# return the dtype of each column\n",
        "result = df.dtypes\n",
        "  \n",
        "# Print the result\n",
        "print(result)"
      ],
      "metadata": {
        "colab": {
          "base_uri": "https://localhost:8080/"
        },
        "id": "LuiY3637IstJ",
        "outputId": "1382cd19-b380-4fd4-af76-3dc4010cb2b8"
      },
      "execution_count": null,
      "outputs": [
        {
          "output_type": "stream",
          "name": "stdout",
          "text": [
            "Date               datetime64[ns]\n",
            "Open                      float64\n",
            "High                      float64\n",
            "Low                       float64\n",
            "Close                     float64\n",
            "UnAdjustedClose           float64\n",
            "Volume                     object\n",
            "Symbol                     object\n",
            "dtype: object\n"
          ]
        }
      ]
    },
    {
      "cell_type": "code",
      "source": [
        "dual_df = df[df['Symbol'].str.contains('.', regex=False, na=True)]\n",
        "dual_df['Symbol'].unique()"
      ],
      "metadata": {
        "colab": {
          "base_uri": "https://localhost:8080/"
        },
        "id": "HK8eUKkaCQEV",
        "outputId": "edfa7dad-4db0-4d49-e7cf-62289c7da457"
      },
      "execution_count": null,
      "outputs": [
        {
          "output_type": "execute_result",
          "data": {
            "text/plain": [
              "array(['BF.A', 'BF.B', 'BRK.B', 'CRD.B', \"FCE.A'\", 'HEI.A', 'JW.A',\n",
              "       'LEN.B', 'MOG.A'], dtype=object)"
            ]
          },
          "metadata": {},
          "execution_count": 54
        }
      ]
    },
    {
      "cell_type": "markdown",
      "source": [
        "## Question 3"
      ],
      "metadata": {
        "id": "OShKG-5-UsFf"
      }
    },
    {
      "cell_type": "code",
      "source": [
        "#3 a\n",
        "minvalues = df.min()\n",
        "  \n",
        "minvalues\n",
        "\n",
        "df2 = df[df['Close'] <= 0.009]\n",
        "df2"
      ],
      "metadata": {
        "colab": {
          "base_uri": "https://localhost:8080/",
          "height": 237
        },
        "id": "Cet1T8LuHtHE",
        "outputId": "1aac8103-e4eb-403c-90d8-32826d1c6ff4"
      },
      "execution_count": null,
      "outputs": [
        {
          "output_type": "execute_result",
          "data": {
            "text/plain": [
              "Date               2000-12-01 00:00:00\n",
              "Open                          0.008893\n",
              "High                          0.008893\n",
              "Low                           0.008893\n",
              "Close                         0.008893\n",
              "UnAdjustedClose                  0.003\n",
              "Volume                               0\n",
              "Symbol                               A\n",
              "dtype: object"
            ]
          },
          "metadata": {},
          "execution_count": 55
        },
        {
          "output_type": "execute_result",
          "data": {
            "text/plain": [
              "              Date      Open      High       Low     Close  UnAdjustedClose Volume Symbol\n",
              "3707037 2004-10-25  0.008893  0.008893  0.008893  0.008893             0.01     11   WETF"
            ],
            "text/html": [
              "\n",
              "  <div id=\"df-fefb2643-72ad-463a-b385-8728b22dcb63\">\n",
              "    <div class=\"colab-df-container\">\n",
              "      <div>\n",
              "<style scoped>\n",
              "    .dataframe tbody tr th:only-of-type {\n",
              "        vertical-align: middle;\n",
              "    }\n",
              "\n",
              "    .dataframe tbody tr th {\n",
              "        vertical-align: top;\n",
              "    }\n",
              "\n",
              "    .dataframe thead th {\n",
              "        text-align: right;\n",
              "    }\n",
              "</style>\n",
              "<table border=\"1\" class=\"dataframe\">\n",
              "  <thead>\n",
              "    <tr style=\"text-align: right;\">\n",
              "      <th></th>\n",
              "      <th>Date</th>\n",
              "      <th>Open</th>\n",
              "      <th>High</th>\n",
              "      <th>Low</th>\n",
              "      <th>Close</th>\n",
              "      <th>UnAdjustedClose</th>\n",
              "      <th>Volume</th>\n",
              "      <th>Symbol</th>\n",
              "    </tr>\n",
              "  </thead>\n",
              "  <tbody>\n",
              "    <tr>\n",
              "      <th>3707037</th>\n",
              "      <td>2004-10-25</td>\n",
              "      <td>0.008893</td>\n",
              "      <td>0.008893</td>\n",
              "      <td>0.008893</td>\n",
              "      <td>0.008893</td>\n",
              "      <td>0.01</td>\n",
              "      <td>11</td>\n",
              "      <td>WETF</td>\n",
              "    </tr>\n",
              "  </tbody>\n",
              "</table>\n",
              "</div>\n",
              "      <button class=\"colab-df-convert\" onclick=\"convertToInteractive('df-fefb2643-72ad-463a-b385-8728b22dcb63')\"\n",
              "              title=\"Convert this dataframe to an interactive table.\"\n",
              "              style=\"display:none;\">\n",
              "        \n",
              "  <svg xmlns=\"http://www.w3.org/2000/svg\" height=\"24px\"viewBox=\"0 0 24 24\"\n",
              "       width=\"24px\">\n",
              "    <path d=\"M0 0h24v24H0V0z\" fill=\"none\"/>\n",
              "    <path d=\"M18.56 5.44l.94 2.06.94-2.06 2.06-.94-2.06-.94-.94-2.06-.94 2.06-2.06.94zm-11 1L8.5 8.5l.94-2.06 2.06-.94-2.06-.94L8.5 2.5l-.94 2.06-2.06.94zm10 10l.94 2.06.94-2.06 2.06-.94-2.06-.94-.94-2.06-.94 2.06-2.06.94z\"/><path d=\"M17.41 7.96l-1.37-1.37c-.4-.4-.92-.59-1.43-.59-.52 0-1.04.2-1.43.59L10.3 9.45l-7.72 7.72c-.78.78-.78 2.05 0 2.83L4 21.41c.39.39.9.59 1.41.59.51 0 1.02-.2 1.41-.59l7.78-7.78 2.81-2.81c.8-.78.8-2.07 0-2.86zM5.41 20L4 18.59l7.72-7.72 1.47 1.35L5.41 20z\"/>\n",
              "  </svg>\n",
              "      </button>\n",
              "      \n",
              "  <style>\n",
              "    .colab-df-container {\n",
              "      display:flex;\n",
              "      flex-wrap:wrap;\n",
              "      gap: 12px;\n",
              "    }\n",
              "\n",
              "    .colab-df-convert {\n",
              "      background-color: #E8F0FE;\n",
              "      border: none;\n",
              "      border-radius: 50%;\n",
              "      cursor: pointer;\n",
              "      display: none;\n",
              "      fill: #1967D2;\n",
              "      height: 32px;\n",
              "      padding: 0 0 0 0;\n",
              "      width: 32px;\n",
              "    }\n",
              "\n",
              "    .colab-df-convert:hover {\n",
              "      background-color: #E2EBFA;\n",
              "      box-shadow: 0px 1px 2px rgba(60, 64, 67, 0.3), 0px 1px 3px 1px rgba(60, 64, 67, 0.15);\n",
              "      fill: #174EA6;\n",
              "    }\n",
              "\n",
              "    [theme=dark] .colab-df-convert {\n",
              "      background-color: #3B4455;\n",
              "      fill: #D2E3FC;\n",
              "    }\n",
              "\n",
              "    [theme=dark] .colab-df-convert:hover {\n",
              "      background-color: #434B5C;\n",
              "      box-shadow: 0px 1px 3px 1px rgba(0, 0, 0, 0.15);\n",
              "      filter: drop-shadow(0px 1px 2px rgba(0, 0, 0, 0.3));\n",
              "      fill: #FFFFFF;\n",
              "    }\n",
              "  </style>\n",
              "\n",
              "      <script>\n",
              "        const buttonEl =\n",
              "          document.querySelector('#df-fefb2643-72ad-463a-b385-8728b22dcb63 button.colab-df-convert');\n",
              "        buttonEl.style.display =\n",
              "          google.colab.kernel.accessAllowed ? 'block' : 'none';\n",
              "\n",
              "        async function convertToInteractive(key) {\n",
              "          const element = document.querySelector('#df-fefb2643-72ad-463a-b385-8728b22dcb63');\n",
              "          const dataTable =\n",
              "            await google.colab.kernel.invokeFunction('convertToInteractive',\n",
              "                                                     [key], {});\n",
              "          if (!dataTable) return;\n",
              "\n",
              "          const docLinkHtml = 'Like what you see? Visit the ' +\n",
              "            '<a target=\"_blank\" href=https://colab.research.google.com/notebooks/data_table.ipynb>data table notebook</a>'\n",
              "            + ' to learn more about interactive tables.';\n",
              "          element.innerHTML = '';\n",
              "          dataTable['output_type'] = 'display_data';\n",
              "          await google.colab.output.renderOutput(dataTable, element);\n",
              "          const docLink = document.createElement('div');\n",
              "          docLink.innerHTML = docLinkHtml;\n",
              "          element.appendChild(docLink);\n",
              "        }\n",
              "      </script>\n",
              "    </div>\n",
              "  </div>\n",
              "  "
            ]
          },
          "metadata": {},
          "execution_count": 55
        }
      ]
    },
    {
      "cell_type": "code",
      "source": [
        "x = df['High']\n",
        "y = df['Close']\n",
        "plt.scatter(x, y) \n",
        "plt.show()"
      ],
      "metadata": {
        "colab": {
          "base_uri": "https://localhost:8080/",
          "height": 296
        },
        "id": "WAuNQD1tILeG",
        "outputId": "ccf037a3-dadd-4ac2-adf0-c5fe992bfa4d"
      },
      "execution_count": null,
      "outputs": [
        {
          "output_type": "execute_result",
          "data": {
            "text/plain": [
              "<matplotlib.collections.PathCollection at 0x7f0345400a60>"
            ]
          },
          "metadata": {},
          "execution_count": 56
        },
        {
          "output_type": "display_data",
          "data": {
            "text/plain": [
              "<Figure size 432x288 with 1 Axes>"
            ],
            "image/png": "[encoded data removed]"
          },
          "metadata": {}
        }
      ]
    },
    {
      "cell_type": "markdown",
      "source": [
        "## Question 4"
      ],
      "metadata": {
        "id": "-xwJ7iwPU5HD"
      }
    },
    {
      "cell_type": "code",
      "source": [
        "corr = df.corr()\n",
        "ax = sns.heatmap(\n",
        "    corr, \n",
        "    vmin=-1, vmax=1, center=0,\n",
        "    cmap=sns.diverging_palette(20, 220, n=200),\n",
        "    square=True\n",
        ")\n",
        "ax.set_xticklabels(\n",
        "    ax.get_xticklabels(),\n",
        "    rotation=45,\n",
        "    horizontalalignment='right'\n",
        ");"
      ],
      "metadata": {
        "colab": {
          "base_uri": "https://localhost:8080/",
          "height": 342
        },
        "id": "GDGXAiMjSXK6",
        "outputId": "462d8cee-15a5-42da-98fc-28708e13dbf2"
      },
      "execution_count": null,
      "outputs": [
        {
          "output_type": "display_data",
          "data": {
            "text/plain": [
              "<Figure size 432x288 with 2 Axes>"
            ],
            "image/png": "[encoded data removed]"
          },
          "metadata": {}
        }
      ]
    },
    {
      "cell_type": "code",
      "source": [
        "df_ques5 = df[df['Symbol'].isin (['KORS','CPRI'])]\n",
        "\n",
        "#df_ques5.reset_index(inplace = True,drop = True)\n"
      ],
      "metadata": {
        "id": "YsBB86pEZPIX"
      },
      "execution_count": null,
      "outputs": []
    },
    {
      "cell_type": "markdown",
      "source": [
        "## Question 5"
      ],
      "metadata": {
        "id": "ywmFOzZjU8VV"
      }
    },
    {
      "cell_type": "code",
      "source": [
        "df_ques5.set_index('Date', inplace=True)\n",
        "df_ques5.groupby('Symbol')['Open'].plot(legend=True)\n"
      ],
      "metadata": {
        "colab": {
          "base_uri": "https://localhost:8080/",
          "height": 357
        },
        "id": "oJLnHW-1R2Zc",
        "outputId": "be7a006d-f50f-434f-ecad-08ffa8cb7162"
      },
      "execution_count": null,
      "outputs": [
        {
          "output_type": "execute_result",
          "data": {
            "text/plain": [
              "Symbol\n",
              "CPRI    AxesSubplot(0.125,0.2;0.775x0.7)\n",
              "KORS    AxesSubplot(0.125,0.2;0.775x0.7)\n",
              "Name: Open, dtype: object"
            ]
          },
          "metadata": {},
          "execution_count": 59
        },
        {
          "output_type": "display_data",
          "data": {
            "text/plain": [
              "<Figure size 432x288 with 1 Axes>"
            ],
            "image/png": "[encoded data removed]"
          },
          "metadata": {}
        }
      ]
    },
    {
      "cell_type": "code",
      "source": [
        "df_ques5.groupby('Symbol')['Close'].plot(legend=True)"
      ],
      "metadata": {
        "colab": {
          "base_uri": "https://localhost:8080/",
          "height": 357
        },
        "id": "50JuhTm4ajJc",
        "outputId": "071c9876-2b1a-4b48-c934-843d1faf80bd"
      },
      "execution_count": null,
      "outputs": [
        {
          "output_type": "execute_result",
          "data": {
            "text/plain": [
              "Symbol\n",
              "CPRI    AxesSubplot(0.125,0.2;0.775x0.7)\n",
              "KORS    AxesSubplot(0.125,0.2;0.775x0.7)\n",
              "Name: Close, dtype: object"
            ]
          },
          "metadata": {},
          "execution_count": 60
        },
        {
          "output_type": "display_data",
          "data": {
            "text/plain": [
              "<Figure size 432x288 with 1 Axes>"
            ],
            "image/png": "[encoded data removed]"
          },
          "metadata": {}
        }
      ]
    },
    {
      "cell_type": "markdown",
      "source": [
        "## Question 6"
      ],
      "metadata": {
        "id": "WMiryPbjU9wy"
      }
    },
    {
      "cell_type": "code",
      "source": [
        "df_ques6 = df[df['Symbol'].isin (['GOOG','GOOGL'])]\n",
        "\n",
        "df_ques6.set_index('Date', inplace=True)\n",
        "df_ques6.groupby('Symbol')['Open'].plot(legend=True)"
      ],
      "metadata": {
        "colab": {
          "base_uri": "https://localhost:8080/",
          "height": 357
        },
        "id": "STFKpQhfqf8e",
        "outputId": "156f2af3-2d72-47a9-8a88-b6462e060c6a"
      },
      "execution_count": null,
      "outputs": [
        {
          "output_type": "execute_result",
          "data": {
            "text/plain": [
              "Symbol\n",
              "GOOG     AxesSubplot(0.125,0.2;0.775x0.7)\n",
              "GOOGL    AxesSubplot(0.125,0.2;0.775x0.7)\n",
              "Name: Open, dtype: object"
            ]
          },
          "metadata": {},
          "execution_count": 61
        },
        {
          "output_type": "display_data",
          "data": {
            "text/plain": [
              "<Figure size 432x288 with 1 Axes>"
            ],
            "image/png": "[encoded data removed]"
          },
          "metadata": {}
        }
      ]
    },
    {
      "cell_type": "markdown",
      "source": [
        "## Question 7"
      ],
      "metadata": {
        "id": "iTPfTAslU_AL"
      }
    },
    {
      "cell_type": "code",
      "source": [
        "df_ques7 = df[df['Symbol'].isin (['GOV','OPI'])]\n",
        "\n",
        "df_ques7.set_index('Date', inplace=True)\n",
        "df_ques7.groupby('Symbol')['Open'].plot(legend=True)"
      ],
      "metadata": {
        "colab": {
          "base_uri": "https://localhost:8080/",
          "height": 357
        },
        "id": "C50e1IJFq7TD",
        "outputId": "76c147e3-73ad-4861-86e8-7352354c5caf"
      },
      "execution_count": null,
      "outputs": [
        {
          "output_type": "execute_result",
          "data": {
            "text/plain": [
              "Symbol\n",
              "GOV    AxesSubplot(0.125,0.2;0.775x0.7)\n",
              "OPI    AxesSubplot(0.125,0.2;0.775x0.7)\n",
              "Name: Open, dtype: object"
            ]
          },
          "metadata": {},
          "execution_count": 62
        },
        {
          "output_type": "display_data",
          "data": {
            "text/plain": [
              "<Figure size 432x288 with 1 Axes>"
            ],
            "image/png": "[encoded data removed]"
          },
          "metadata": {}
        }
      ]
    },
    {
      "cell_type": "markdown",
      "source": [
        "## Question 7a"
      ],
      "metadata": {
        "id": "BKdXG04oVAId"
      }
    },
    {
      "cell_type": "code",
      "source": [
        "df_ques7a = df[df['Symbol'].isin (['GOV','OPI', \"SIR\"])]\n",
        "\n",
        "df_ques7a.set_index('Date', inplace=True)\n",
        "df_ques7a.groupby('Symbol')['Open'].plot(legend=True)"
      ],
      "metadata": {
        "colab": {
          "base_uri": "https://localhost:8080/",
          "height": 357
        },
        "id": "ZuJS-KW7q7P7",
        "outputId": "cd67ab68-d267-4109-f8a8-3481cea41295"
      },
      "execution_count": null,
      "outputs": [
        {
          "output_type": "execute_result",
          "data": {
            "text/plain": [
              "Symbol\n",
              "GOV    AxesSubplot(0.125,0.2;0.775x0.7)\n",
              "OPI    AxesSubplot(0.125,0.2;0.775x0.7)\n",
              "Name: Open, dtype: object"
            ]
          },
          "metadata": {},
          "execution_count": 63
        },
        {
          "output_type": "display_data",
          "data": {
            "text/plain": [
              "<Figure size 432x288 with 1 Axes>"
            ],
            "image/png": "[encoded data removed]"
          },
          "metadata": {}
        }
      ]
    },
    {
      "cell_type": "markdown",
      "source": [
        "## Question 8"
      ],
      "metadata": {
        "id": "woe7UXt9VCqZ"
      }
    },
    {
      "cell_type": "code",
      "source": [
        "df_ques8 = df[df['Symbol'].isin (['BF.A','BF.B'])]\n",
        "\n",
        "df_ques8.set_index('Date', inplace=True)\n",
        "df_ques8.groupby('Symbol')['Open'].plot(legend=True)"
      ],
      "metadata": {
        "colab": {
          "base_uri": "https://localhost:8080/",
          "height": 357
        },
        "id": "dYH0c-Qgq7Gx",
        "outputId": "67ecc806-5dd6-4060-83c2-9a3e7a84a4ed"
      },
      "execution_count": null,
      "outputs": [
        {
          "output_type": "execute_result",
          "data": {
            "text/plain": [
              "Symbol\n",
              "BF.A    AxesSubplot(0.125,0.2;0.775x0.7)\n",
              "BF.B    AxesSubplot(0.125,0.2;0.775x0.7)\n",
              "Name: Open, dtype: object"
            ]
          },
          "metadata": {},
          "execution_count": 64
        },
        {
          "output_type": "display_data",
          "data": {
            "text/plain": [
              "<Figure size 432x288 with 1 Axes>"
            ],
            "image/png": "[encoded data removed]"
          },
          "metadata": {}
        }
      ]
    },
    {
      "cell_type": "code",
      "source": [
        "df = pd.read_pickle(w1_files+\"/R3K_Daily\")\n",
        "df.shape\n",
        "df.head()\n",
        "\n",
        "from scipy import stats\n",
        "import pandas as pd\n",
        "import numpy as np\n",
        "from datetime import datetime\n",
        "\n",
        "\n"
      ],
      "metadata": {
        "id": "yil0RaR109kc",
        "colab": {
          "base_uri": "https://localhost:8080/",
          "height": 224
        },
        "outputId": "9fad1bcd-30b2-4851-e34e-28841c9681d7"
      },
      "execution_count": null,
      "outputs": [
        {
          "output_type": "execute_result",
          "data": {
            "text/plain": [
              "(3894844, 8)"
            ]
          },
          "metadata": {},
          "execution_count": 75
        },
        {
          "output_type": "execute_result",
          "data": {
            "text/plain": [
              "        Date       Open       High        Low      Close  UnAdjustedClose Volume Symbol\n",
              "0 2000-12-01  33.287973  34.388402  33.170070  33.327274          53.0000  36286      A\n",
              "1 2000-12-04  32.737759  33.366575  31.755233  32.069641          51.0000  28951      A\n",
              "2 2000-12-05  33.170070  35.017219  33.052167  34.624208          55.0625  54723      A\n",
              "3 2000-12-06  34.742111  35.803239  32.698458  32.698458          52.0000  43669      A\n",
              "4 2000-12-07  33.012866  34.506305  32.305447  33.956091          54.0000  30599      A"
            ],
            "text/html": [
              "\n",
              "  <div id=\"df-1094f886-5bdd-4a5d-af17-2fd2d595ac0a\">\n",
              "    <div class=\"colab-df-container\">\n",
              "      <div>\n",
              "<style scoped>\n",
              "    .dataframe tbody tr th:only-of-type {\n",
              "        vertical-align: middle;\n",
              "    }\n",
              "\n",
              "    .dataframe tbody tr th {\n",
              "        vertical-align: top;\n",
              "    }\n",
              "\n",
              "    .dataframe thead th {\n",
              "        text-align: right;\n",
              "    }\n",
              "</style>\n",
              "<table border=\"1\" class=\"dataframe\">\n",
              "  <thead>\n",
              "    <tr style=\"text-align: right;\">\n",
              "      <th></th>\n",
              "      <th>Date</th>\n",
              "      <th>Open</th>\n",
              "      <th>High</th>\n",
              "      <th>Low</th>\n",
              "      <th>Close</th>\n",
              "      <th>UnAdjustedClose</th>\n",
              "      <th>Volume</th>\n",
              "      <th>Symbol</th>\n",
              "    </tr>\n",
              "  </thead>\n",
              "  <tbody>\n",
              "    <tr>\n",
              "      <th>0</th>\n",
              "      <td>2000-12-01</td>\n",
              "      <td>33.287973</td>\n",
              "      <td>34.388402</td>\n",
              "      <td>33.170070</td>\n",
              "      <td>33.327274</td>\n",
              "      <td>53.0000</td>\n",
              "      <td>36286</td>\n",
              "      <td>A</td>\n",
              "    </tr>\n",
              "    <tr>\n",
              "      <th>1</th>\n",
              "      <td>2000-12-04</td>\n",
              "      <td>32.737759</td>\n",
              "      <td>33.366575</td>\n",
              "      <td>31.755233</td>\n",
              "      <td>32.069641</td>\n",
              "      <td>51.0000</td>\n",
              "      <td>28951</td>\n",
              "      <td>A</td>\n",
              "    </tr>\n",
              "    <tr>\n",
              "      <th>2</th>\n",
              "      <td>2000-12-05</td>\n",
              "      <td>33.170070</td>\n",
              "      <td>35.017219</td>\n",
              "      <td>33.052167</td>\n",
              "      <td>34.624208</td>\n",
              "      <td>55.0625</td>\n",
              "      <td>54723</td>\n",
              "      <td>A</td>\n",
              "    </tr>\n",
              "    <tr>\n",
              "      <th>3</th>\n",
              "      <td>2000-12-06</td>\n",
              "      <td>34.742111</td>\n",
              "      <td>35.803239</td>\n",
              "      <td>32.698458</td>\n",
              "      <td>32.698458</td>\n",
              "      <td>52.0000</td>\n",
              "      <td>43669</td>\n",
              "      <td>A</td>\n",
              "    </tr>\n",
              "    <tr>\n",
              "      <th>4</th>\n",
              "      <td>2000-12-07</td>\n",
              "      <td>33.012866</td>\n",
              "      <td>34.506305</td>\n",
              "      <td>32.305447</td>\n",
              "      <td>33.956091</td>\n",
              "      <td>54.0000</td>\n",
              "      <td>30599</td>\n",
              "      <td>A</td>\n",
              "    </tr>\n",
              "  </tbody>\n",
              "</table>\n",
              "</div>\n",
              "      <button class=\"colab-df-convert\" onclick=\"convertToInteractive('df-1094f886-5bdd-4a5d-af17-2fd2d595ac0a')\"\n",
              "              title=\"Convert this dataframe to an interactive table.\"\n",
              "              style=\"display:none;\">\n",
              "        \n",
              "  <svg xmlns=\"http://www.w3.org/2000/svg\" height=\"24px\"viewBox=\"0 0 24 24\"\n",
              "       width=\"24px\">\n",
              "    <path d=\"M0 0h24v24H0V0z\" fill=\"none\"/>\n",
              "    <path d=\"M18.56 5.44l.94 2.06.94-2.06 2.06-.94-2.06-.94-.94-2.06-.94 2.06-2.06.94zm-11 1L8.5 8.5l.94-2.06 2.06-.94-2.06-.94L8.5 2.5l-.94 2.06-2.06.94zm10 10l.94 2.06.94-2.06 2.06-.94-2.06-.94-.94-2.06-.94 2.06-2.06.94z\"/><path d=\"M17.41 7.96l-1.37-1.37c-.4-.4-.92-.59-1.43-.59-.52 0-1.04.2-1.43.59L10.3 9.45l-7.72 7.72c-.78.78-.78 2.05 0 2.83L4 21.41c.39.39.9.59 1.41.59.51 0 1.02-.2 1.41-.59l7.78-7.78 2.81-2.81c.8-.78.8-2.07 0-2.86zM5.41 20L4 18.59l7.72-7.72 1.47 1.35L5.41 20z\"/>\n",
              "  </svg>\n",
              "      </button>\n",
              "      \n",
              "  <style>\n",
              "    .colab-df-container {\n",
              "      display:flex;\n",
              "      flex-wrap:wrap;\n",
              "      gap: 12px;\n",
              "    }\n",
              "\n",
              "    .colab-df-convert {\n",
              "      background-color: #E8F0FE;\n",
              "      border: none;\n",
              "      border-radius: 50%;\n",
              "      cursor: pointer;\n",
              "      display: none;\n",
              "      fill: #1967D2;\n",
              "      height: 32px;\n",
              "      padding: 0 0 0 0;\n",
              "      width: 32px;\n",
              "    }\n",
              "\n",
              "    .colab-df-convert:hover {\n",
              "      background-color: #E2EBFA;\n",
              "      box-shadow: 0px 1px 2px rgba(60, 64, 67, 0.3), 0px 1px 3px 1px rgba(60, 64, 67, 0.15);\n",
              "      fill: #174EA6;\n",
              "    }\n",
              "\n",
              "    [theme=dark] .colab-df-convert {\n",
              "      background-color: #3B4455;\n",
              "      fill: #D2E3FC;\n",
              "    }\n",
              "\n",
              "    [theme=dark] .colab-df-convert:hover {\n",
              "      background-color: #434B5C;\n",
              "      box-shadow: 0px 1px 3px 1px rgba(0, 0, 0, 0.15);\n",
              "      filter: drop-shadow(0px 1px 2px rgba(0, 0, 0, 0.3));\n",
              "      fill: #FFFFFF;\n",
              "    }\n",
              "  </style>\n",
              "\n",
              "      <script>\n",
              "        const buttonEl =\n",
              "          document.querySelector('#df-1094f886-5bdd-4a5d-af17-2fd2d595ac0a button.colab-df-convert');\n",
              "        buttonEl.style.display =\n",
              "          google.colab.kernel.accessAllowed ? 'block' : 'none';\n",
              "\n",
              "        async function convertToInteractive(key) {\n",
              "          const element = document.querySelector('#df-1094f886-5bdd-4a5d-af17-2fd2d595ac0a');\n",
              "          const dataTable =\n",
              "            await google.colab.kernel.invokeFunction('convertToInteractive',\n",
              "                                                     [key], {});\n",
              "          if (!dataTable) return;\n",
              "\n",
              "          const docLinkHtml = 'Like what you see? Visit the ' +\n",
              "            '<a target=\"_blank\" href=https://colab.research.google.com/notebooks/data_table.ipynb>data table notebook</a>'\n",
              "            + ' to learn more about interactive tables.';\n",
              "          element.innerHTML = '';\n",
              "          dataTable['output_type'] = 'display_data';\n",
              "          await google.colab.output.renderOutput(dataTable, element);\n",
              "          const docLink = document.createElement('div');\n",
              "          docLink.innerHTML = docLinkHtml;\n",
              "          element.appendChild(docLink);\n",
              "        }\n",
              "      </script>\n",
              "    </div>\n",
              "  </div>\n",
              "  "
            ]
          },
          "metadata": {},
          "execution_count": 75
        }
      ]
    },
    {
      "cell_type": "markdown",
      "source": [
        "## Question 9"
      ],
      "metadata": {
        "id": "VmqKjY1KVGqb"
      }
    },
    {
      "cell_type": "code",
      "source": [
        "\n",
        "# Add a column to indicate whether a stock is currently in the database\n",
        "df['in_database'] = 1\n",
        "\n",
        "# Create a list of stock symbols that have been removed from the database\n",
        "removed_symbols = ['AAPL', 'GOOG', 'FB', 'AMZN', 'MSFT', 'KORS']\n",
        "removed_df = df[df['Symbol'].isin(removed_symbols)]\n",
        "removed_df['in_database'] = 0\n",
        "removed_df.head()\n",
        "\n",
        "# Remove the stocks from the dataframe\n",
        "df1 = df[~df['Symbol'].isin(removed_symbols)]\n",
        "df1.head()\n",
        "# Create a new dataframe with all stocks\n",
        "all_df = pd.concat([df1, removed_df], ignore_index=True)\n",
        "\n",
        "# Group the dataframe by whether the stock is in the database or not\n",
        "grouped_df = all_df.groupby('in_database')\n",
        "\n",
        "# Calculate the mean performance for each group\n",
        "means = grouped_df['UnAdjustedClose'].mean()\n",
        "\n",
        "# Check if there is a significant difference in mean performance between the two groups\n",
        "t, p = stats.ttest_ind(grouped_df.get_group(1)['UnAdjustedClose'], grouped_df.get_group(0)['UnAdjustedClose'])\n",
        "\n",
        "if p < 0.05 and means[0] > means[1]:\n",
        "    print(\"Survivorship bias detected\")\n",
        "else:\n",
        "    print(\"No survivorship bias detected\")"
      ],
      "metadata": {
        "colab": {
          "base_uri": "https://localhost:8080/",
          "height": 517
        },
        "id": "0uizZASGf94N",
        "outputId": "7710b13e-3658-4b03-e854-d2d60df16d72"
      },
      "execution_count": null,
      "outputs": [
        {
          "output_type": "stream",
          "name": "stderr",
          "text": [
            "<ipython-input-82-94c6ede730f8>:7: SettingWithCopyWarning: \n",
            "A value is trying to be set on a copy of a slice from a DataFrame.\n",
            "Try using .loc[row_indexer,col_indexer] = value instead\n",
            "\n",
            "See the caveats in the documentation: https://pandas.pydata.org/pandas-docs/stable/user_guide/indexing.html#returning-a-view-versus-a-copy\n",
            "  removed_df['in_database'] = 0\n"
          ]
        },
        {
          "output_type": "execute_result",
          "data": {
            "text/plain": [
              "             Date     Open     High     Low    Close  UnAdjustedClose  Volume Symbol  in_database\n",
              "227010 2000-12-01  24.9375  26.7500  23.000  24.6250          24.6250   77574   AMZN            0\n",
              "227011 2000-12-04  25.1875  27.1875  23.250  26.5625          26.5625   82555   AMZN            0\n",
              "227012 2000-12-05  27.1250  27.6250  24.750  25.3750          25.3750   99699   AMZN            0\n",
              "227013 2000-12-06  24.6875  26.0000  23.625  23.6250          23.6250   88258   AMZN            0\n",
              "227014 2000-12-07  23.0625  23.4375  20.125  21.3750          21.3750  106475   AMZN            0"
            ],
            "text/html": [
              "\n",
              "  <div id=\"df-7c22af2e-6e76-4e84-ac45-5f13ffe5ecbf\">\n",
              "    <div class=\"colab-df-container\">\n",
              "      <div>\n",
              "<style scoped>\n",
              "    .dataframe tbody tr th:only-of-type {\n",
              "        vertical-align: middle;\n",
              "    }\n",
              "\n",
              "    .dataframe tbody tr th {\n",
              "        vertical-align: top;\n",
              "    }\n",
              "\n",
              "    .dataframe thead th {\n",
              "        text-align: right;\n",
              "    }\n",
              "</style>\n",
              "<table border=\"1\" class=\"dataframe\">\n",
              "  <thead>\n",
              "    <tr style=\"text-align: right;\">\n",
              "      <th></th>\n",
              "      <th>Date</th>\n",
              "      <th>Open</th>\n",
              "      <th>High</th>\n",
              "      <th>Low</th>\n",
              "      <th>Close</th>\n",
              "      <th>UnAdjustedClose</th>\n",
              "      <th>Volume</th>\n",
              "      <th>Symbol</th>\n",
              "      <th>in_database</th>\n",
              "    </tr>\n",
              "  </thead>\n",
              "  <tbody>\n",
              "    <tr>\n",
              "      <th>227010</th>\n",
              "      <td>2000-12-01</td>\n",
              "      <td>24.9375</td>\n",
              "      <td>26.7500</td>\n",
              "      <td>23.000</td>\n",
              "      <td>24.6250</td>\n",
              "      <td>24.6250</td>\n",
              "      <td>77574</td>\n",
              "      <td>AMZN</td>\n",
              "      <td>0</td>\n",
              "    </tr>\n",
              "    <tr>\n",
              "      <th>227011</th>\n",
              "      <td>2000-12-04</td>\n",
              "      <td>25.1875</td>\n",
              "      <td>27.1875</td>\n",
              "      <td>23.250</td>\n",
              "      <td>26.5625</td>\n",
              "      <td>26.5625</td>\n",
              "      <td>82555</td>\n",
              "      <td>AMZN</td>\n",
              "      <td>0</td>\n",
              "    </tr>\n",
              "    <tr>\n",
              "      <th>227012</th>\n",
              "      <td>2000-12-05</td>\n",
              "      <td>27.1250</td>\n",
              "      <td>27.6250</td>\n",
              "      <td>24.750</td>\n",
              "      <td>25.3750</td>\n",
              "      <td>25.3750</td>\n",
              "      <td>99699</td>\n",
              "      <td>AMZN</td>\n",
              "      <td>0</td>\n",
              "    </tr>\n",
              "    <tr>\n",
              "      <th>227013</th>\n",
              "      <td>2000-12-06</td>\n",
              "      <td>24.6875</td>\n",
              "      <td>26.0000</td>\n",
              "      <td>23.625</td>\n",
              "      <td>23.6250</td>\n",
              "      <td>23.6250</td>\n",
              "      <td>88258</td>\n",
              "      <td>AMZN</td>\n",
              "      <td>0</td>\n",
              "    </tr>\n",
              "    <tr>\n",
              "      <th>227014</th>\n",
              "      <td>2000-12-07</td>\n",
              "      <td>23.0625</td>\n",
              "      <td>23.4375</td>\n",
              "      <td>20.125</td>\n",
              "      <td>21.3750</td>\n",
              "      <td>21.3750</td>\n",
              "      <td>106475</td>\n",
              "      <td>AMZN</td>\n",
              "      <td>0</td>\n",
              "    </tr>\n",
              "  </tbody>\n",
              "</table>\n",
              "</div>\n",
              "      <button class=\"colab-df-convert\" onclick=\"convertToInteractive('df-7c22af2e-6e76-4e84-ac45-5f13ffe5ecbf')\"\n",
              "              title=\"Convert this dataframe to an interactive table.\"\n",
              "              style=\"display:none;\">\n",
              "        \n",
              "  <svg xmlns=\"http://www.w3.org/2000/svg\" height=\"24px\"viewBox=\"0 0 24 24\"\n",
              "       width=\"24px\">\n",
              "    <path d=\"M0 0h24v24H0V0z\" fill=\"none\"/>\n",
              "    <path d=\"M18.56 5.44l.94 2.06.94-2.06 2.06-.94-2.06-.94-.94-2.06-.94 2.06-2.06.94zm-11 1L8.5 8.5l.94-2.06 2.06-.94-2.06-.94L8.5 2.5l-.94 2.06-2.06.94zm10 10l.94 2.06.94-2.06 2.06-.94-2.06-.94-.94-2.06-.94 2.06-2.06.94z\"/><path d=\"M17.41 7.96l-1.37-1.37c-.4-.4-.92-.59-1.43-.59-.52 0-1.04.2-1.43.59L10.3 9.45l-7.72 7.72c-.78.78-.78 2.05 0 2.83L4 21.41c.39.39.9.59 1.41.59.51 0 1.02-.2 1.41-.59l7.78-7.78 2.81-2.81c.8-.78.8-2.07 0-2.86zM5.41 20L4 18.59l7.72-7.72 1.47 1.35L5.41 20z\"/>\n",
              "  </svg>\n",
              "      </button>\n",
              "      \n",
              "  <style>\n",
              "    .colab-df-container {\n",
              "      display:flex;\n",
              "      flex-wrap:wrap;\n",
              "      gap: 12px;\n",
              "    }\n",
              "\n",
              "    .colab-df-convert {\n",
              "      background-color: #E8F0FE;\n",
              "      border: none;\n",
              "      border-radius: 50%;\n",
              "      cursor: pointer;\n",
              "      display: none;\n",
              "      fill: #1967D2;\n",
              "      height: 32px;\n",
              "      padding: 0 0 0 0;\n",
              "      width: 32px;\n",
              "    }\n",
              "\n",
              "    .colab-df-convert:hover {\n",
              "      background-color: #E2EBFA;\n",
              "      box-shadow: 0px 1px 2px rgba(60, 64, 67, 0.3), 0px 1px 3px 1px rgba(60, 64, 67, 0.15);\n",
              "      fill: #174EA6;\n",
              "    }\n",
              "\n",
              "    [theme=dark] .colab-df-convert {\n",
              "      background-color: #3B4455;\n",
              "      fill: #D2E3FC;\n",
              "    }\n",
              "\n",
              "    [theme=dark] .colab-df-convert:hover {\n",
              "      background-color: #434B5C;\n",
              "      box-shadow: 0px 1px 3px 1px rgba(0, 0, 0, 0.15);\n",
              "      filter: drop-shadow(0px 1px 2px rgba(0, 0, 0, 0.3));\n",
              "      fill: #FFFFFF;\n",
              "    }\n",
              "  </style>\n",
              "\n",
              "      <script>\n",
              "        const buttonEl =\n",
              "          document.querySelector('#df-7c22af2e-6e76-4e84-ac45-5f13ffe5ecbf button.colab-df-convert');\n",
              "        buttonEl.style.display =\n",
              "          google.colab.kernel.accessAllowed ? 'block' : 'none';\n",
              "\n",
              "        async function convertToInteractive(key) {\n",
              "          const element = document.querySelector('#df-7c22af2e-6e76-4e84-ac45-5f13ffe5ecbf');\n",
              "          const dataTable =\n",
              "            await google.colab.kernel.invokeFunction('convertToInteractive',\n",
              "                                                     [key], {});\n",
              "          if (!dataTable) return;\n",
              "\n",
              "          const docLinkHtml = 'Like what you see? Visit the ' +\n",
              "            '<a target=\"_blank\" href=https://colab.research.google.com/notebooks/data_table.ipynb>data table notebook</a>'\n",
              "            + ' to learn more about interactive tables.';\n",
              "          element.innerHTML = '';\n",
              "          dataTable['output_type'] = 'display_data';\n",
              "          await google.colab.output.renderOutput(dataTable, element);\n",
              "          const docLink = document.createElement('div');\n",
              "          docLink.innerHTML = docLinkHtml;\n",
              "          element.appendChild(docLink);\n",
              "        }\n",
              "      </script>\n",
              "    </div>\n",
              "  </div>\n",
              "  "
            ]
          },
          "metadata": {},
          "execution_count": 82
        },
        {
          "output_type": "execute_result",
          "data": {
            "text/plain": [
              "        Date       Open       High        Low      Close  UnAdjustedClose Volume Symbol  in_database\n",
              "0 2000-12-01  33.287973  34.388402  33.170070  33.327274          53.0000  36286      A            1\n",
              "1 2000-12-04  32.737759  33.366575  31.755233  32.069641          51.0000  28951      A            1\n",
              "2 2000-12-05  33.170070  35.017219  33.052167  34.624208          55.0625  54723      A            1\n",
              "3 2000-12-06  34.742111  35.803239  32.698458  32.698458          52.0000  43669      A            1\n",
              "4 2000-12-07  33.012866  34.506305  32.305447  33.956091          54.0000  30599      A            1"
            ],
            "text/html": [
              "\n",
              "  <div id=\"df-3d3f0b4a-1571-419d-9775-63887834c3d1\">\n",
              "    <div class=\"colab-df-container\">\n",
              "      <div>\n",
              "<style scoped>\n",
              "    .dataframe tbody tr th:only-of-type {\n",
              "        vertical-align: middle;\n",
              "    }\n",
              "\n",
              "    .dataframe tbody tr th {\n",
              "        vertical-align: top;\n",
              "    }\n",
              "\n",
              "    .dataframe thead th {\n",
              "        text-align: right;\n",
              "    }\n",
              "</style>\n",
              "<table border=\"1\" class=\"dataframe\">\n",
              "  <thead>\n",
              "    <tr style=\"text-align: right;\">\n",
              "      <th></th>\n",
              "      <th>Date</th>\n",
              "      <th>Open</th>\n",
              "      <th>High</th>\n",
              "      <th>Low</th>\n",
              "      <th>Close</th>\n",
              "      <th>UnAdjustedClose</th>\n",
              "      <th>Volume</th>\n",
              "      <th>Symbol</th>\n",
              "      <th>in_database</th>\n",
              "    </tr>\n",
              "  </thead>\n",
              "  <tbody>\n",
              "    <tr>\n",
              "      <th>0</th>\n",
              "      <td>2000-12-01</td>\n",
              "      <td>33.287973</td>\n",
              "      <td>34.388402</td>\n",
              "      <td>33.170070</td>\n",
              "      <td>33.327274</td>\n",
              "      <td>53.0000</td>\n",
              "      <td>36286</td>\n",
              "      <td>A</td>\n",
              "      <td>1</td>\n",
              "    </tr>\n",
              "    <tr>\n",
              "      <th>1</th>\n",
              "      <td>2000-12-04</td>\n",
              "      <td>32.737759</td>\n",
              "      <td>33.366575</td>\n",
              "      <td>31.755233</td>\n",
              "      <td>32.069641</td>\n",
              "      <td>51.0000</td>\n",
              "      <td>28951</td>\n",
              "      <td>A</td>\n",
              "      <td>1</td>\n",
              "    </tr>\n",
              "    <tr>\n",
              "      <th>2</th>\n",
              "      <td>2000-12-05</td>\n",
              "      <td>33.170070</td>\n",
              "      <td>35.017219</td>\n",
              "      <td>33.052167</td>\n",
              "      <td>34.624208</td>\n",
              "      <td>55.0625</td>\n",
              "      <td>54723</td>\n",
              "      <td>A</td>\n",
              "      <td>1</td>\n",
              "    </tr>\n",
              "    <tr>\n",
              "      <th>3</th>\n",
              "      <td>2000-12-06</td>\n",
              "      <td>34.742111</td>\n",
              "      <td>35.803239</td>\n",
              "      <td>32.698458</td>\n",
              "      <td>32.698458</td>\n",
              "      <td>52.0000</td>\n",
              "      <td>43669</td>\n",
              "      <td>A</td>\n",
              "      <td>1</td>\n",
              "    </tr>\n",
              "    <tr>\n",
              "      <th>4</th>\n",
              "      <td>2000-12-07</td>\n",
              "      <td>33.012866</td>\n",
              "      <td>34.506305</td>\n",
              "      <td>32.305447</td>\n",
              "      <td>33.956091</td>\n",
              "      <td>54.0000</td>\n",
              "      <td>30599</td>\n",
              "      <td>A</td>\n",
              "      <td>1</td>\n",
              "    </tr>\n",
              "  </tbody>\n",
              "</table>\n",
              "</div>\n",
              "      <button class=\"colab-df-convert\" onclick=\"convertToInteractive('df-3d3f0b4a-1571-419d-9775-63887834c3d1')\"\n",
              "              title=\"Convert this dataframe to an interactive table.\"\n",
              "              style=\"display:none;\">\n",
              "        \n",
              "  <svg xmlns=\"http://www.w3.org/2000/svg\" height=\"24px\"viewBox=\"0 0 24 24\"\n",
              "       width=\"24px\">\n",
              "    <path d=\"M0 0h24v24H0V0z\" fill=\"none\"/>\n",
              "    <path d=\"M18.56 5.44l.94 2.06.94-2.06 2.06-.94-2.06-.94-.94-2.06-.94 2.06-2.06.94zm-11 1L8.5 8.5l.94-2.06 2.06-.94-2.06-.94L8.5 2.5l-.94 2.06-2.06.94zm10 10l.94 2.06.94-2.06 2.06-.94-2.06-.94-.94-2.06-.94 2.06-2.06.94z\"/><path d=\"M17.41 7.96l-1.37-1.37c-.4-.4-.92-.59-1.43-.59-.52 0-1.04.2-1.43.59L10.3 9.45l-7.72 7.72c-.78.78-.78 2.05 0 2.83L4 21.41c.39.39.9.59 1.41.59.51 0 1.02-.2 1.41-.59l7.78-7.78 2.81-2.81c.8-.78.8-2.07 0-2.86zM5.41 20L4 18.59l7.72-7.72 1.47 1.35L5.41 20z\"/>\n",
              "  </svg>\n",
              "      </button>\n",
              "      \n",
              "  <style>\n",
              "    .colab-df-container {\n",
              "      display:flex;\n",
              "      flex-wrap:wrap;\n",
              "      gap: 12px;\n",
              "    }\n",
              "\n",
              "    .colab-df-convert {\n",
              "      background-color: #E8F0FE;\n",
              "      border: none;\n",
              "      border-radius: 50%;\n",
              "      cursor: pointer;\n",
              "      display: none;\n",
              "      fill: #1967D2;\n",
              "      height: 32px;\n",
              "      padding: 0 0 0 0;\n",
              "      width: 32px;\n",
              "    }\n",
              "\n",
              "    .colab-df-convert:hover {\n",
              "      background-color: #E2EBFA;\n",
              "      box-shadow: 0px 1px 2px rgba(60, 64, 67, 0.3), 0px 1px 3px 1px rgba(60, 64, 67, 0.15);\n",
              "      fill: #174EA6;\n",
              "    }\n",
              "\n",
              "    [theme=dark] .colab-df-convert {\n",
              "      background-color: #3B4455;\n",
              "      fill: #D2E3FC;\n",
              "    }\n",
              "\n",
              "    [theme=dark] .colab-df-convert:hover {\n",
              "      background-color: #434B5C;\n",
              "      box-shadow: 0px 1px 3px 1px rgba(0, 0, 0, 0.15);\n",
              "      filter: drop-shadow(0px 1px 2px rgba(0, 0, 0, 0.3));\n",
              "      fill: #FFFFFF;\n",
              "    }\n",
              "  </style>\n",
              "\n",
              "      <script>\n",
              "        const buttonEl =\n",
              "          document.querySelector('#df-3d3f0b4a-1571-419d-9775-63887834c3d1 button.colab-df-convert');\n",
              "        buttonEl.style.display =\n",
              "          google.colab.kernel.accessAllowed ? 'block' : 'none';\n",
              "\n",
              "        async function convertToInteractive(key) {\n",
              "          const element = document.querySelector('#df-3d3f0b4a-1571-419d-9775-63887834c3d1');\n",
              "          const dataTable =\n",
              "            await google.colab.kernel.invokeFunction('convertToInteractive',\n",
              "                                                     [key], {});\n",
              "          if (!dataTable) return;\n",
              "\n",
              "          const docLinkHtml = 'Like what you see? Visit the ' +\n",
              "            '<a target=\"_blank\" href=https://colab.research.google.com/notebooks/data_table.ipynb>data table notebook</a>'\n",
              "            + ' to learn more about interactive tables.';\n",
              "          element.innerHTML = '';\n",
              "          dataTable['output_type'] = 'display_data';\n",
              "          await google.colab.output.renderOutput(dataTable, element);\n",
              "          const docLink = document.createElement('div');\n",
              "          docLink.innerHTML = docLinkHtml;\n",
              "          element.appendChild(docLink);\n",
              "        }\n",
              "      </script>\n",
              "    </div>\n",
              "  </div>\n",
              "  "
            ]
          },
          "metadata": {},
          "execution_count": 82
        },
        {
          "output_type": "stream",
          "name": "stdout",
          "text": [
            "Survivorship bias detected\n"
          ]
        }
      ]
    },
    {
      "cell_type": "code",
      "source": [
        "df.sort_values(by=\"Volume\", ascending=False).head()"
      ],
      "metadata": {
        "colab": {
          "base_uri": "https://localhost:8080/",
          "height": 206
        },
        "id": "Rimek-sFuV-D",
        "outputId": "76990b3e-c82a-4462-f12c-95d9dd4e320e"
      },
      "execution_count": null,
      "outputs": [
        {
          "output_type": "execute_result",
          "data": {
            "text/plain": [
              "              Date       Open       High        Low      Close  UnAdjustedClose   Volume Symbol  in_database\n",
              "1492479 2009-03-04   5.091154   5.098186   4.127773   4.704395             6.69  7830206     GE            1\n",
              "3187341 2010-04-07   0.847478   0.924521   0.837847   0.914891             0.95  6098345   SIRI            1\n",
              "3186001 2004-12-08   7.588779   7.800649   6.336823   6.644997             6.90  5804534   SIRI            1\n",
              "2980425 2009-05-21   3.405841   3.602168   3.329017   3.499736             4.10  5709817     RF            1\n",
              "896605  2011-02-10  15.635041  15.674824  14.950759  15.054197            18.92  5600402   CSCO            1"
            ],
            "text/html": [
              "\n",
              "  <div id=\"df-34444e38-6c98-47e8-b249-d5e63f318e2f\">\n",
              "    <div class=\"colab-df-container\">\n",
              "      <div>\n",
              "<style scoped>\n",
              "    .dataframe tbody tr th:only-of-type {\n",
              "        vertical-align: middle;\n",
              "    }\n",
              "\n",
              "    .dataframe tbody tr th {\n",
              "        vertical-align: top;\n",
              "    }\n",
              "\n",
              "    .dataframe thead th {\n",
              "        text-align: right;\n",
              "    }\n",
              "</style>\n",
              "<table border=\"1\" class=\"dataframe\">\n",
              "  <thead>\n",
              "    <tr style=\"text-align: right;\">\n",
              "      <th></th>\n",
              "      <th>Date</th>\n",
              "      <th>Open</th>\n",
              "      <th>High</th>\n",
              "      <th>Low</th>\n",
              "      <th>Close</th>\n",
              "      <th>UnAdjustedClose</th>\n",
              "      <th>Volume</th>\n",
              "      <th>Symbol</th>\n",
              "      <th>in_database</th>\n",
              "    </tr>\n",
              "  </thead>\n",
              "  <tbody>\n",
              "    <tr>\n",
              "      <th>1492479</th>\n",
              "      <td>2009-03-04</td>\n",
              "      <td>5.091154</td>\n",
              "      <td>5.098186</td>\n",
              "      <td>4.127773</td>\n",
              "      <td>4.704395</td>\n",
              "      <td>6.69</td>\n",
              "      <td>7830206</td>\n",
              "      <td>GE</td>\n",
              "      <td>1</td>\n",
              "    </tr>\n",
              "    <tr>\n",
              "      <th>3187341</th>\n",
              "      <td>2010-04-07</td>\n",
              "      <td>0.847478</td>\n",
              "      <td>0.924521</td>\n",
              "      <td>0.837847</td>\n",
              "      <td>0.914891</td>\n",
              "      <td>0.95</td>\n",
              "      <td>6098345</td>\n",
              "      <td>SIRI</td>\n",
              "      <td>1</td>\n",
              "    </tr>\n",
              "    <tr>\n",
              "      <th>3186001</th>\n",
              "      <td>2004-12-08</td>\n",
              "      <td>7.588779</td>\n",
              "      <td>7.800649</td>\n",
              "      <td>6.336823</td>\n",
              "      <td>6.644997</td>\n",
              "      <td>6.90</td>\n",
              "      <td>5804534</td>\n",
              "      <td>SIRI</td>\n",
              "      <td>1</td>\n",
              "    </tr>\n",
              "    <tr>\n",
              "      <th>2980425</th>\n",
              "      <td>2009-05-21</td>\n",
              "      <td>3.405841</td>\n",
              "      <td>3.602168</td>\n",
              "      <td>3.329017</td>\n",
              "      <td>3.499736</td>\n",
              "      <td>4.10</td>\n",
              "      <td>5709817</td>\n",
              "      <td>RF</td>\n",
              "      <td>1</td>\n",
              "    </tr>\n",
              "    <tr>\n",
              "      <th>896605</th>\n",
              "      <td>2011-02-10</td>\n",
              "      <td>15.635041</td>\n",
              "      <td>15.674824</td>\n",
              "      <td>14.950759</td>\n",
              "      <td>15.054197</td>\n",
              "      <td>18.92</td>\n",
              "      <td>5600402</td>\n",
              "      <td>CSCO</td>\n",
              "      <td>1</td>\n",
              "    </tr>\n",
              "  </tbody>\n",
              "</table>\n",
              "</div>\n",
              "      <button class=\"colab-df-convert\" onclick=\"convertToInteractive('df-34444e38-6c98-47e8-b249-d5e63f318e2f')\"\n",
              "              title=\"Convert this dataframe to an interactive table.\"\n",
              "              style=\"display:none;\">\n",
              "        \n",
              "  <svg xmlns=\"http://www.w3.org/2000/svg\" height=\"24px\"viewBox=\"0 0 24 24\"\n",
              "       width=\"24px\">\n",
              "    <path d=\"M0 0h24v24H0V0z\" fill=\"none\"/>\n",
              "    <path d=\"M18.56 5.44l.94 2.06.94-2.06 2.06-.94-2.06-.94-.94-2.06-.94 2.06-2.06.94zm-11 1L8.5 8.5l.94-2.06 2.06-.94-2.06-.94L8.5 2.5l-.94 2.06-2.06.94zm10 10l.94 2.06.94-2.06 2.06-.94-2.06-.94-.94-2.06-.94 2.06-2.06.94z\"/><path d=\"M17.41 7.96l-1.37-1.37c-.4-.4-.92-.59-1.43-.59-.52 0-1.04.2-1.43.59L10.3 9.45l-7.72 7.72c-.78.78-.78 2.05 0 2.83L4 21.41c.39.39.9.59 1.41.59.51 0 1.02-.2 1.41-.59l7.78-7.78 2.81-2.81c.8-.78.8-2.07 0-2.86zM5.41 20L4 18.59l7.72-7.72 1.47 1.35L5.41 20z\"/>\n",
              "  </svg>\n",
              "      </button>\n",
              "      \n",
              "  <style>\n",
              "    .colab-df-container {\n",
              "      display:flex;\n",
              "      flex-wrap:wrap;\n",
              "      gap: 12px;\n",
              "    }\n",
              "\n",
              "    .colab-df-convert {\n",
              "      background-color: #E8F0FE;\n",
              "      border: none;\n",
              "      border-radius: 50%;\n",
              "      cursor: pointer;\n",
              "      display: none;\n",
              "      fill: #1967D2;\n",
              "      height: 32px;\n",
              "      padding: 0 0 0 0;\n",
              "      width: 32px;\n",
              "    }\n",
              "\n",
              "    .colab-df-convert:hover {\n",
              "      background-color: #E2EBFA;\n",
              "      box-shadow: 0px 1px 2px rgba(60, 64, 67, 0.3), 0px 1px 3px 1px rgba(60, 64, 67, 0.15);\n",
              "      fill: #174EA6;\n",
              "    }\n",
              "\n",
              "    [theme=dark] .colab-df-convert {\n",
              "      background-color: #3B4455;\n",
              "      fill: #D2E3FC;\n",
              "    }\n",
              "\n",
              "    [theme=dark] .colab-df-convert:hover {\n",
              "      background-color: #434B5C;\n",
              "      box-shadow: 0px 1px 3px 1px rgba(0, 0, 0, 0.15);\n",
              "      filter: drop-shadow(0px 1px 2px rgba(0, 0, 0, 0.3));\n",
              "      fill: #FFFFFF;\n",
              "    }\n",
              "  </style>\n",
              "\n",
              "      <script>\n",
              "        const buttonEl =\n",
              "          document.querySelector('#df-34444e38-6c98-47e8-b249-d5e63f318e2f button.colab-df-convert');\n",
              "        buttonEl.style.display =\n",
              "          google.colab.kernel.accessAllowed ? 'block' : 'none';\n",
              "\n",
              "        async function convertToInteractive(key) {\n",
              "          const element = document.querySelector('#df-34444e38-6c98-47e8-b249-d5e63f318e2f');\n",
              "          const dataTable =\n",
              "            await google.colab.kernel.invokeFunction('convertToInteractive',\n",
              "                                                     [key], {});\n",
              "          if (!dataTable) return;\n",
              "\n",
              "          const docLinkHtml = 'Like what you see? Visit the ' +\n",
              "            '<a target=\"_blank\" href=https://colab.research.google.com/notebooks/data_table.ipynb>data table notebook</a>'\n",
              "            + ' to learn more about interactive tables.';\n",
              "          element.innerHTML = '';\n",
              "          dataTable['output_type'] = 'display_data';\n",
              "          await google.colab.output.renderOutput(dataTable, element);\n",
              "          const docLink = document.createElement('div');\n",
              "          docLink.innerHTML = docLinkHtml;\n",
              "          element.appendChild(docLink);\n",
              "        }\n",
              "      </script>\n",
              "    </div>\n",
              "  </div>\n",
              "  "
            ]
          },
          "metadata": {},
          "execution_count": 85
        }
      ]
    },
    {
      "cell_type": "code",
      "source": [
        "df9 = df.drop(['Date','in_database'], axis = 1)\n",
        "#df9.sort_values(by=\"Symbol\", ascending=False).head()\n",
        "df9a = df9.groupby('Symbol', as_index=False).mean().head()"
      ],
      "metadata": {
        "id": "-1GwVKjqunHq"
      },
      "execution_count": null,
      "outputs": []
    },
    {
      "cell_type": "code",
      "source": [
        "df9a.head()\n",
        "df9adup = df9a[df9a.duplicated()]\n",
        "df9adup.head()"
      ],
      "metadata": {
        "colab": {
          "base_uri": "https://localhost:8080/",
          "height": 239
        },
        "id": "Hzph0Qe8yVJ5",
        "outputId": "e2745ee0-3810-4f3d-c7fd-4bee750eb8f5"
      },
      "execution_count": null,
      "outputs": [
        {
          "output_type": "execute_result",
          "data": {
            "text/plain": [
              "  Symbol        Open        High         Low       Close  UnAdjustedClose\n",
              "0      A   29.044509   29.389103   28.709057   29.059044        38.014613\n",
              "1    AAC   16.025328   16.475914   15.556048   15.995296        15.995296\n",
              "2    AAL   26.110706   26.580832   25.615495   26.090347        26.968044\n",
              "3   AAMC  229.442214  235.694091  223.462559  230.067779       230.067779\n",
              "4    AAN   20.354733   20.583942   20.131470   20.362000        25.677995"
            ],
            "text/html": [
              "\n",
              "  <div id=\"df-6183c9f4-e5fd-4e1a-ae18-07beeb3d02ee\">\n",
              "    <div class=\"colab-df-container\">\n",
              "      <div>\n",
              "<style scoped>\n",
              "    .dataframe tbody tr th:only-of-type {\n",
              "        vertical-align: middle;\n",
              "    }\n",
              "\n",
              "    .dataframe tbody tr th {\n",
              "        vertical-align: top;\n",
              "    }\n",
              "\n",
              "    .dataframe thead th {\n",
              "        text-align: right;\n",
              "    }\n",
              "</style>\n",
              "<table border=\"1\" class=\"dataframe\">\n",
              "  <thead>\n",
              "    <tr style=\"text-align: right;\">\n",
              "      <th></th>\n",
              "      <th>Symbol</th>\n",
              "      <th>Open</th>\n",
              "      <th>High</th>\n",
              "      <th>Low</th>\n",
              "      <th>Close</th>\n",
              "      <th>UnAdjustedClose</th>\n",
              "    </tr>\n",
              "  </thead>\n",
              "  <tbody>\n",
              "    <tr>\n",
              "      <th>0</th>\n",
              "      <td>A</td>\n",
              "      <td>29.044509</td>\n",
              "      <td>29.389103</td>\n",
              "      <td>28.709057</td>\n",
              "      <td>29.059044</td>\n",
              "      <td>38.014613</td>\n",
              "    </tr>\n",
              "    <tr>\n",
              "      <th>1</th>\n",
              "      <td>AAC</td>\n",
              "      <td>16.025328</td>\n",
              "      <td>16.475914</td>\n",
              "      <td>15.556048</td>\n",
              "      <td>15.995296</td>\n",
              "      <td>15.995296</td>\n",
              "    </tr>\n",
              "    <tr>\n",
              "      <th>2</th>\n",
              "      <td>AAL</td>\n",
              "      <td>26.110706</td>\n",
              "      <td>26.580832</td>\n",
              "      <td>25.615495</td>\n",
              "      <td>26.090347</td>\n",
              "      <td>26.968044</td>\n",
              "    </tr>\n",
              "    <tr>\n",
              "      <th>3</th>\n",
              "      <td>AAMC</td>\n",
              "      <td>229.442214</td>\n",
              "      <td>235.694091</td>\n",
              "      <td>223.462559</td>\n",
              "      <td>230.067779</td>\n",
              "      <td>230.067779</td>\n",
              "    </tr>\n",
              "    <tr>\n",
              "      <th>4</th>\n",
              "      <td>AAN</td>\n",
              "      <td>20.354733</td>\n",
              "      <td>20.583942</td>\n",
              "      <td>20.131470</td>\n",
              "      <td>20.362000</td>\n",
              "      <td>25.677995</td>\n",
              "    </tr>\n",
              "  </tbody>\n",
              "</table>\n",
              "</div>\n",
              "      <button class=\"colab-df-convert\" onclick=\"convertToInteractive('df-6183c9f4-e5fd-4e1a-ae18-07beeb3d02ee')\"\n",
              "              title=\"Convert this dataframe to an interactive table.\"\n",
              "              style=\"display:none;\">\n",
              "        \n",
              "  <svg xmlns=\"http://www.w3.org/2000/svg\" height=\"24px\"viewBox=\"0 0 24 24\"\n",
              "       width=\"24px\">\n",
              "    <path d=\"M0 0h24v24H0V0z\" fill=\"none\"/>\n",
              "    <path d=\"M18.56 5.44l.94 2.06.94-2.06 2.06-.94-2.06-.94-.94-2.06-.94 2.06-2.06.94zm-11 1L8.5 8.5l.94-2.06 2.06-.94-2.06-.94L8.5 2.5l-.94 2.06-2.06.94zm10 10l.94 2.06.94-2.06 2.06-.94-2.06-.94-.94-2.06-.94 2.06-2.06.94z\"/><path d=\"M17.41 7.96l-1.37-1.37c-.4-.4-.92-.59-1.43-.59-.52 0-1.04.2-1.43.59L10.3 9.45l-7.72 7.72c-.78.78-.78 2.05 0 2.83L4 21.41c.39.39.9.59 1.41.59.51 0 1.02-.2 1.41-.59l7.78-7.78 2.81-2.81c.8-.78.8-2.07 0-2.86zM5.41 20L4 18.59l7.72-7.72 1.47 1.35L5.41 20z\"/>\n",
              "  </svg>\n",
              "      </button>\n",
              "      \n",
              "  <style>\n",
              "    .colab-df-container {\n",
              "      display:flex;\n",
              "      flex-wrap:wrap;\n",
              "      gap: 12px;\n",
              "    }\n",
              "\n",
              "    .colab-df-convert {\n",
              "      background-color: #E8F0FE;\n",
              "      border: none;\n",
              "      border-radius: 50%;\n",
              "      cursor: pointer;\n",
              "      display: none;\n",
              "      fill: #1967D2;\n",
              "      height: 32px;\n",
              "      padding: 0 0 0 0;\n",
              "      width: 32px;\n",
              "    }\n",
              "\n",
              "    .colab-df-convert:hover {\n",
              "      background-color: #E2EBFA;\n",
              "      box-shadow: 0px 1px 2px rgba(60, 64, 67, 0.3), 0px 1px 3px 1px rgba(60, 64, 67, 0.15);\n",
              "      fill: #174EA6;\n",
              "    }\n",
              "\n",
              "    [theme=dark] .colab-df-convert {\n",
              "      background-color: #3B4455;\n",
              "      fill: #D2E3FC;\n",
              "    }\n",
              "\n",
              "    [theme=dark] .colab-df-convert:hover {\n",
              "      background-color: #434B5C;\n",
              "      box-shadow: 0px 1px 3px 1px rgba(0, 0, 0, 0.15);\n",
              "      filter: drop-shadow(0px 1px 2px rgba(0, 0, 0, 0.3));\n",
              "      fill: #FFFFFF;\n",
              "    }\n",
              "  </style>\n",
              "\n",
              "      <script>\n",
              "        const buttonEl =\n",
              "          document.querySelector('#df-6183c9f4-e5fd-4e1a-ae18-07beeb3d02ee button.colab-df-convert');\n",
              "        buttonEl.style.display =\n",
              "          google.colab.kernel.accessAllowed ? 'block' : 'none';\n",
              "\n",
              "        async function convertToInteractive(key) {\n",
              "          const element = document.querySelector('#df-6183c9f4-e5fd-4e1a-ae18-07beeb3d02ee');\n",
              "          const dataTable =\n",
              "            await google.colab.kernel.invokeFunction('convertToInteractive',\n",
              "                                                     [key], {});\n",
              "          if (!dataTable) return;\n",
              "\n",
              "          const docLinkHtml = 'Like what you see? Visit the ' +\n",
              "            '<a target=\"_blank\" href=https://colab.research.google.com/notebooks/data_table.ipynb>data table notebook</a>'\n",
              "            + ' to learn more about interactive tables.';\n",
              "          element.innerHTML = '';\n",
              "          dataTable['output_type'] = 'display_data';\n",
              "          await google.colab.output.renderOutput(dataTable, element);\n",
              "          const docLink = document.createElement('div');\n",
              "          docLink.innerHTML = docLinkHtml;\n",
              "          element.appendChild(docLink);\n",
              "        }\n",
              "      </script>\n",
              "    </div>\n",
              "  </div>\n",
              "  "
            ]
          },
          "metadata": {},
          "execution_count": 98
        },
        {
          "output_type": "execute_result",
          "data": {
            "text/plain": [
              "Empty DataFrame\n",
              "Columns: [Symbol, Open, High, Low, Close, UnAdjustedClose]\n",
              "Index: []"
            ],
            "text/html": [
              "\n",
              "  <div id=\"df-0840020f-c242-4711-86da-c99cd4dfd11e\">\n",
              "    <div class=\"colab-df-container\">\n",
              "      <div>\n",
              "<style scoped>\n",
              "    .dataframe tbody tr th:only-of-type {\n",
              "        vertical-align: middle;\n",
              "    }\n",
              "\n",
              "    .dataframe tbody tr th {\n",
              "        vertical-align: top;\n",
              "    }\n",
              "\n",
              "    .dataframe thead th {\n",
              "        text-align: right;\n",
              "    }\n",
              "</style>\n",
              "<table border=\"1\" class=\"dataframe\">\n",
              "  <thead>\n",
              "    <tr style=\"text-align: right;\">\n",
              "      <th></th>\n",
              "      <th>Symbol</th>\n",
              "      <th>Open</th>\n",
              "      <th>High</th>\n",
              "      <th>Low</th>\n",
              "      <th>Close</th>\n",
              "      <th>UnAdjustedClose</th>\n",
              "    </tr>\n",
              "  </thead>\n",
              "  <tbody>\n",
              "  </tbody>\n",
              "</table>\n",
              "</div>\n",
              "      <button class=\"colab-df-convert\" onclick=\"convertToInteractive('df-0840020f-c242-4711-86da-c99cd4dfd11e')\"\n",
              "              title=\"Convert this dataframe to an interactive table.\"\n",
              "              style=\"display:none;\">\n",
              "        \n",
              "  <svg xmlns=\"http://www.w3.org/2000/svg\" height=\"24px\"viewBox=\"0 0 24 24\"\n",
              "       width=\"24px\">\n",
              "    <path d=\"M0 0h24v24H0V0z\" fill=\"none\"/>\n",
              "    <path d=\"M18.56 5.44l.94 2.06.94-2.06 2.06-.94-2.06-.94-.94-2.06-.94 2.06-2.06.94zm-11 1L8.5 8.5l.94-2.06 2.06-.94-2.06-.94L8.5 2.5l-.94 2.06-2.06.94zm10 10l.94 2.06.94-2.06 2.06-.94-2.06-.94-.94-2.06-.94 2.06-2.06.94z\"/><path d=\"M17.41 7.96l-1.37-1.37c-.4-.4-.92-.59-1.43-.59-.52 0-1.04.2-1.43.59L10.3 9.45l-7.72 7.72c-.78.78-.78 2.05 0 2.83L4 21.41c.39.39.9.59 1.41.59.51 0 1.02-.2 1.41-.59l7.78-7.78 2.81-2.81c.8-.78.8-2.07 0-2.86zM5.41 20L4 18.59l7.72-7.72 1.47 1.35L5.41 20z\"/>\n",
              "  </svg>\n",
              "      </button>\n",
              "      \n",
              "  <style>\n",
              "    .colab-df-container {\n",
              "      display:flex;\n",
              "      flex-wrap:wrap;\n",
              "      gap: 12px;\n",
              "    }\n",
              "\n",
              "    .colab-df-convert {\n",
              "      background-color: #E8F0FE;\n",
              "      border: none;\n",
              "      border-radius: 50%;\n",
              "      cursor: pointer;\n",
              "      display: none;\n",
              "      fill: #1967D2;\n",
              "      height: 32px;\n",
              "      padding: 0 0 0 0;\n",
              "      width: 32px;\n",
              "    }\n",
              "\n",
              "    .colab-df-convert:hover {\n",
              "      background-color: #E2EBFA;\n",
              "      box-shadow: 0px 1px 2px rgba(60, 64, 67, 0.3), 0px 1px 3px 1px rgba(60, 64, 67, 0.15);\n",
              "      fill: #174EA6;\n",
              "    }\n",
              "\n",
              "    [theme=dark] .colab-df-convert {\n",
              "      background-color: #3B4455;\n",
              "      fill: #D2E3FC;\n",
              "    }\n",
              "\n",
              "    [theme=dark] .colab-df-convert:hover {\n",
              "      background-color: #434B5C;\n",
              "      box-shadow: 0px 1px 3px 1px rgba(0, 0, 0, 0.15);\n",
              "      filter: drop-shadow(0px 1px 2px rgba(0, 0, 0, 0.3));\n",
              "      fill: #FFFFFF;\n",
              "    }\n",
              "  </style>\n",
              "\n",
              "      <script>\n",
              "        const buttonEl =\n",
              "          document.querySelector('#df-0840020f-c242-4711-86da-c99cd4dfd11e button.colab-df-convert');\n",
              "        buttonEl.style.display =\n",
              "          google.colab.kernel.accessAllowed ? 'block' : 'none';\n",
              "\n",
              "        async function convertToInteractive(key) {\n",
              "          const element = document.querySelector('#df-0840020f-c242-4711-86da-c99cd4dfd11e');\n",
              "          const dataTable =\n",
              "            await google.colab.kernel.invokeFunction('convertToInteractive',\n",
              "                                                     [key], {});\n",
              "          if (!dataTable) return;\n",
              "\n",
              "          const docLinkHtml = 'Like what you see? Visit the ' +\n",
              "            '<a target=\"_blank\" href=https://colab.research.google.com/notebooks/data_table.ipynb>data table notebook</a>'\n",
              "            + ' to learn more about interactive tables.';\n",
              "          element.innerHTML = '';\n",
              "          dataTable['output_type'] = 'display_data';\n",
              "          await google.colab.output.renderOutput(dataTable, element);\n",
              "          const docLink = document.createElement('div');\n",
              "          docLink.innerHTML = docLinkHtml;\n",
              "          element.appendChild(docLink);\n",
              "        }\n",
              "      </script>\n",
              "    </div>\n",
              "  </div>\n",
              "  "
            ]
          },
          "metadata": {},
          "execution_count": 98
        }
      ]
    },
    {
      "cell_type": "code",
      "source": [],
      "metadata": {
        "id": "pn4gr9Fv3Se1"
      },
      "execution_count": null,
      "outputs": []
    }
  ]
}