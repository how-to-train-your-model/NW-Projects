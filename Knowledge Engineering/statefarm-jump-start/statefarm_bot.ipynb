{
 "cells": [
  {
   "cell_type": "code",
   "execution_count": null,
   "id": "dc625000-035b-4361-92a2-12ae3ff54ebb",
   "metadata": {},
   "outputs": [],
   "source": [
    "%run -i 'statefarm_bot.py'"
   ]
  },
  {
   "cell_type": "code",
   "execution_count": null,
   "id": "03f4a3ea-368b-4359-aa4a-566135a7cacd",
   "metadata": {},
   "outputs": [],
   "source": [
    "print('Hello')"
   ]
  },
  {
   "cell_type": "code",
   "execution_count": null,
   "id": "1199694f-b1be-434d-b440-85301f907f52",
   "metadata": {},
   "outputs": [],
   "source": []
  }
 ],
 "metadata": {
  "kernelspec": {
   "display_name": "",
   "name": ""
  },
  "language_info": {
   "name": ""
  }
 },
 "nbformat": 4,
 "nbformat_minor": 5
}
