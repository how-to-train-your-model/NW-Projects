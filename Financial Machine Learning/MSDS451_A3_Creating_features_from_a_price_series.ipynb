{
  "nbformat": 4,
  "nbformat_minor": 0,
  "metadata": {
    "colab": {
      "provenance": [],
      "toc_visible": true,
      "machine_shape": "hm",
      "authorship_tag": "ABX9TyODKIGpqvq8Nneh0Zb08/Il",
      "include_colab_link": true
    },
    "kernelspec": {
      "name": "python3",
      "display_name": "Python 3"
    },
    "language_info": {
      "name": "python"
    },
    "accelerator": "GPU",
    "gpuClass": "standard"
  },
  "cells": [
    {
      "cell_type": "markdown",
      "metadata": {
        "id": "view-in-github",
        "colab_type": "text"
      },
      "source": [
        "<a href=\"https://colab.research.google.com/github/how-to-train-your-model/data-science-portfolio/blob/main/MSDS451_A3_Creating_features_from_a_price_series.ipynb\" target=\"_parent\"><img src=\"https://colab.research.google.com/assets/colab-badge.svg\" alt=\"Open In Colab\"/></a>"
      ]
    },
    {
      "cell_type": "code",
      "execution_count": null,
      "metadata": {
        "id": "0uE7MpRYhQFx"
      },
      "outputs": [],
      "source": [
        "import pandas as pd\n",
        "import bz2\n",
        "import os\n",
        "import numpy as np\n",
        "import pandas as pd\n",
        "import seaborn as sns\n",
        "sns.set()\n",
        "import datetime as dt\n",
        "\n",
        "%matplotlib inline\n",
        "import matplotlib.pyplot as plt\n",
        "from matplotlib import pyplot\n",
        "from matplotlib.pyplot import figure\n",
        "plt.style.use('classic')\n",
        "\n",
        "from statsmodels.tsa.stattools import adfuller\n",
        "\n"
      ]
    },
    {
      "cell_type": "code",
      "source": [
        "# Allows for muliple output in one cell window\n",
        "from IPython.core.interactiveshell import InteractiveShell\n",
        "InteractiveShell.ast_node_interactivity = \"all\"\n",
        "\n",
        "#Allows for viewing the complete data in a single window \n",
        "pd.set_option('display.max_rows', 500)\n",
        "pd.set_option('display.max_columns', 500)\n",
        "pd.set_option('display.width', 1000)"
      ],
      "metadata": {
        "id": "2EjO_Z6_hUn5"
      },
      "execution_count": null,
      "outputs": []
    },
    {
      "cell_type": "code",
      "source": [
        "from google.colab import drive\n",
        "drive.mount('/content/drive')"
      ],
      "metadata": {
        "colab": {
          "base_uri": "https://localhost:8080/"
        },
        "id": "wmylFstS9Hnb",
        "outputId": "a6e565c7-6f03-419d-d738-700896a1a3ef"
      },
      "execution_count": null,
      "outputs": [
        {
          "output_type": "stream",
          "name": "stdout",
          "text": [
            "Drive already mounted at /content/drive; to attempt to forcibly remount, call drive.mount(\"/content/drive\", force_remount=True).\n"
          ]
        }
      ]
    },
    {
      "cell_type": "code",
      "source": [
        "!ls -l \"/content/drive/My Drive/Colab_Notebooks/MSDS-451/W3\""
      ],
      "metadata": {
        "colab": {
          "base_uri": "https://localhost:8080/"
        },
        "id": "DnRenFGe9YV8",
        "outputId": "9c9dae1f-cb95-4086-f04b-9bf4f14c996b"
      },
      "execution_count": null,
      "outputs": [
        {
          "output_type": "stream",
          "name": "stdout",
          "text": [
            "total 1017\n",
            "-rw------- 1 root root 654072 Feb  6 02:58 'A3_MSDS451_Pant_Creating features from a price series.docx'\n",
            "-rw------- 1 root root 124919 Feb  6 02:49 'MSDS451_A3_Pant_Creating features from a price series.ipynb'\n",
            "-rw------- 1 root root 261387 Feb  4 22:18  USO.CSV\n"
          ]
        }
      ]
    },
    {
      "cell_type": "code",
      "source": [
        "w3_files = \"/content/drive/My Drive/Colab_Notebooks/MSDS-451/W3\""
      ],
      "metadata": {
        "id": "_AObGZ3cE-UL"
      },
      "execution_count": null,
      "outputs": []
    },
    {
      "cell_type": "code",
      "source": [
        "df = pd.read_csv(w3_files+\"/USO.CSV\")\n",
        "df.shape\n",
        "df.head(10)\n",
        "\n",
        "df.dtypes\n"
      ],
      "metadata": {
        "colab": {
          "base_uri": "https://localhost:8080/",
          "height": 519
        },
        "id": "a0y9W-s59gQZ",
        "outputId": "8f5d2df6-818c-46b3-ccc0-1fd781b3a1f7"
      },
      "execution_count": null,
      "outputs": [
        {
          "output_type": "execute_result",
          "data": {
            "text/plain": [
              "(3308, 7)"
            ]
          },
          "metadata": {},
          "execution_count": 44
        },
        {
          "output_type": "execute_result",
          "data": {
            "text/plain": [
              "       Date   Open   High    Low   Close   UnAdjustedClose   Volume\n",
              "0  20060410  68.25  68.50  67.67   68.02             68.02    38779\n",
              "1  20060411  68.32  68.39  67.30   68.20             68.20    12971\n",
              "2  20060412  68.22  68.81  67.81   67.84             67.84    12483\n",
              "3  20060413  67.50  68.99  67.40   68.82             68.82     5607\n",
              "4  20060417  69.20  69.90  68.68   69.79             69.79     9177\n",
              "5  20060418  70.10  71.05  69.57   70.75             70.75     9227\n",
              "6  20060419  70.58  72.16  70.49   71.85             71.85     7898\n",
              "7  20060420  71.92  72.16  70.51   71.09             71.09     8432\n",
              "8  20060421  70.89  73.23  70.80   72.81             72.81    10658\n",
              "9  20060424  71.40  72.45  70.79   71.01             71.01    10423"
            ],
            "text/html": [
              "\n",
              "  <div id=\"df-40a4a6a6-9f1a-4c2c-94e8-431e67b03c34\">\n",
              "    <div class=\"colab-df-container\">\n",
              "      <div>\n",
              "<style scoped>\n",
              "    .dataframe tbody tr th:only-of-type {\n",
              "        vertical-align: middle;\n",
              "    }\n",
              "\n",
              "    .dataframe tbody tr th {\n",
              "        vertical-align: top;\n",
              "    }\n",
              "\n",
              "    .dataframe thead th {\n",
              "        text-align: right;\n",
              "    }\n",
              "</style>\n",
              "<table border=\"1\" class=\"dataframe\">\n",
              "  <thead>\n",
              "    <tr style=\"text-align: right;\">\n",
              "      <th></th>\n",
              "      <th>Date</th>\n",
              "      <th>Open</th>\n",
              "      <th>High</th>\n",
              "      <th>Low</th>\n",
              "      <th>Close</th>\n",
              "      <th>UnAdjustedClose</th>\n",
              "      <th>Volume</th>\n",
              "    </tr>\n",
              "  </thead>\n",
              "  <tbody>\n",
              "    <tr>\n",
              "      <th>0</th>\n",
              "      <td>20060410</td>\n",
              "      <td>68.25</td>\n",
              "      <td>68.50</td>\n",
              "      <td>67.67</td>\n",
              "      <td>68.02</td>\n",
              "      <td>68.02</td>\n",
              "      <td>38779</td>\n",
              "    </tr>\n",
              "    <tr>\n",
              "      <th>1</th>\n",
              "      <td>20060411</td>\n",
              "      <td>68.32</td>\n",
              "      <td>68.39</td>\n",
              "      <td>67.30</td>\n",
              "      <td>68.20</td>\n",
              "      <td>68.20</td>\n",
              "      <td>12971</td>\n",
              "    </tr>\n",
              "    <tr>\n",
              "      <th>2</th>\n",
              "      <td>20060412</td>\n",
              "      <td>68.22</td>\n",
              "      <td>68.81</td>\n",
              "      <td>67.81</td>\n",
              "      <td>67.84</td>\n",
              "      <td>67.84</td>\n",
              "      <td>12483</td>\n",
              "    </tr>\n",
              "    <tr>\n",
              "      <th>3</th>\n",
              "      <td>20060413</td>\n",
              "      <td>67.50</td>\n",
              "      <td>68.99</td>\n",
              "      <td>67.40</td>\n",
              "      <td>68.82</td>\n",
              "      <td>68.82</td>\n",
              "      <td>5607</td>\n",
              "    </tr>\n",
              "    <tr>\n",
              "      <th>4</th>\n",
              "      <td>20060417</td>\n",
              "      <td>69.20</td>\n",
              "      <td>69.90</td>\n",
              "      <td>68.68</td>\n",
              "      <td>69.79</td>\n",
              "      <td>69.79</td>\n",
              "      <td>9177</td>\n",
              "    </tr>\n",
              "    <tr>\n",
              "      <th>5</th>\n",
              "      <td>20060418</td>\n",
              "      <td>70.10</td>\n",
              "      <td>71.05</td>\n",
              "      <td>69.57</td>\n",
              "      <td>70.75</td>\n",
              "      <td>70.75</td>\n",
              "      <td>9227</td>\n",
              "    </tr>\n",
              "    <tr>\n",
              "      <th>6</th>\n",
              "      <td>20060419</td>\n",
              "      <td>70.58</td>\n",
              "      <td>72.16</td>\n",
              "      <td>70.49</td>\n",
              "      <td>71.85</td>\n",
              "      <td>71.85</td>\n",
              "      <td>7898</td>\n",
              "    </tr>\n",
              "    <tr>\n",
              "      <th>7</th>\n",
              "      <td>20060420</td>\n",
              "      <td>71.92</td>\n",
              "      <td>72.16</td>\n",
              "      <td>70.51</td>\n",
              "      <td>71.09</td>\n",
              "      <td>71.09</td>\n",
              "      <td>8432</td>\n",
              "    </tr>\n",
              "    <tr>\n",
              "      <th>8</th>\n",
              "      <td>20060421</td>\n",
              "      <td>70.89</td>\n",
              "      <td>73.23</td>\n",
              "      <td>70.80</td>\n",
              "      <td>72.81</td>\n",
              "      <td>72.81</td>\n",
              "      <td>10658</td>\n",
              "    </tr>\n",
              "    <tr>\n",
              "      <th>9</th>\n",
              "      <td>20060424</td>\n",
              "      <td>71.40</td>\n",
              "      <td>72.45</td>\n",
              "      <td>70.79</td>\n",
              "      <td>71.01</td>\n",
              "      <td>71.01</td>\n",
              "      <td>10423</td>\n",
              "    </tr>\n",
              "  </tbody>\n",
              "</table>\n",
              "</div>\n",
              "      <button class=\"colab-df-convert\" onclick=\"convertToInteractive('df-40a4a6a6-9f1a-4c2c-94e8-431e67b03c34')\"\n",
              "              title=\"Convert this dataframe to an interactive table.\"\n",
              "              style=\"display:none;\">\n",
              "        \n",
              "  <svg xmlns=\"http://www.w3.org/2000/svg\" height=\"24px\"viewBox=\"0 0 24 24\"\n",
              "       width=\"24px\">\n",
              "    <path d=\"M0 0h24v24H0V0z\" fill=\"none\"/>\n",
              "    <path d=\"M18.56 5.44l.94 2.06.94-2.06 2.06-.94-2.06-.94-.94-2.06-.94 2.06-2.06.94zm-11 1L8.5 8.5l.94-2.06 2.06-.94-2.06-.94L8.5 2.5l-.94 2.06-2.06.94zm10 10l.94 2.06.94-2.06 2.06-.94-2.06-.94-.94-2.06-.94 2.06-2.06.94z\"/><path d=\"M17.41 7.96l-1.37-1.37c-.4-.4-.92-.59-1.43-.59-.52 0-1.04.2-1.43.59L10.3 9.45l-7.72 7.72c-.78.78-.78 2.05 0 2.83L4 21.41c.39.39.9.59 1.41.59.51 0 1.02-.2 1.41-.59l7.78-7.78 2.81-2.81c.8-.78.8-2.07 0-2.86zM5.41 20L4 18.59l7.72-7.72 1.47 1.35L5.41 20z\"/>\n",
              "  </svg>\n",
              "      </button>\n",
              "      \n",
              "  <style>\n",
              "    .colab-df-container {\n",
              "      display:flex;\n",
              "      flex-wrap:wrap;\n",
              "      gap: 12px;\n",
              "    }\n",
              "\n",
              "    .colab-df-convert {\n",
              "      background-color: #E8F0FE;\n",
              "      border: none;\n",
              "      border-radius: 50%;\n",
              "      cursor: pointer;\n",
              "      display: none;\n",
              "      fill: #1967D2;\n",
              "      height: 32px;\n",
              "      padding: 0 0 0 0;\n",
              "      width: 32px;\n",
              "    }\n",
              "\n",
              "    .colab-df-convert:hover {\n",
              "      background-color: #E2EBFA;\n",
              "      box-shadow: 0px 1px 2px rgba(60, 64, 67, 0.3), 0px 1px 3px 1px rgba(60, 64, 67, 0.15);\n",
              "      fill: #174EA6;\n",
              "    }\n",
              "\n",
              "    [theme=dark] .colab-df-convert {\n",
              "      background-color: #3B4455;\n",
              "      fill: #D2E3FC;\n",
              "    }\n",
              "\n",
              "    [theme=dark] .colab-df-convert:hover {\n",
              "      background-color: #434B5C;\n",
              "      box-shadow: 0px 1px 3px 1px rgba(0, 0, 0, 0.15);\n",
              "      filter: drop-shadow(0px 1px 2px rgba(0, 0, 0, 0.3));\n",
              "      fill: #FFFFFF;\n",
              "    }\n",
              "  </style>\n",
              "\n",
              "      <script>\n",
              "        const buttonEl =\n",
              "          document.querySelector('#df-40a4a6a6-9f1a-4c2c-94e8-431e67b03c34 button.colab-df-convert');\n",
              "        buttonEl.style.display =\n",
              "          google.colab.kernel.accessAllowed ? 'block' : 'none';\n",
              "\n",
              "        async function convertToInteractive(key) {\n",
              "          const element = document.querySelector('#df-40a4a6a6-9f1a-4c2c-94e8-431e67b03c34');\n",
              "          const dataTable =\n",
              "            await google.colab.kernel.invokeFunction('convertToInteractive',\n",
              "                                                     [key], {});\n",
              "          if (!dataTable) return;\n",
              "\n",
              "          const docLinkHtml = 'Like what you see? Visit the ' +\n",
              "            '<a target=\"_blank\" href=https://colab.research.google.com/notebooks/data_table.ipynb>data table notebook</a>'\n",
              "            + ' to learn more about interactive tables.';\n",
              "          element.innerHTML = '';\n",
              "          dataTable['output_type'] = 'display_data';\n",
              "          await google.colab.output.renderOutput(dataTable, element);\n",
              "          const docLink = document.createElement('div');\n",
              "          docLink.innerHTML = docLinkHtml;\n",
              "          element.appendChild(docLink);\n",
              "        }\n",
              "      </script>\n",
              "    </div>\n",
              "  </div>\n",
              "  "
            ]
          },
          "metadata": {},
          "execution_count": 44
        },
        {
          "output_type": "execute_result",
          "data": {
            "text/plain": [
              "Date                  int64\n",
              " Open               float64\n",
              " High               float64\n",
              " Low                float64\n",
              " Close              float64\n",
              " UnAdjustedClose    float64\n",
              " Volume               int64\n",
              "dtype: object"
            ]
          },
          "metadata": {},
          "execution_count": 44
        }
      ]
    },
    {
      "cell_type": "markdown",
      "source": [
        "# Question 1\n",
        "\n",
        "Download the USO.csv Download USO.csvfile which contains the daily bars of the US Oil (Exchange Traded) Fund. Use the provided functions getWeights_FFD, fractDiff.FFD, and findMinD, to find the minimum fractional dimension d that will turn this price series into a stationary series. "
      ],
      "metadata": {
        "id": "KEJ4laeIbAJk"
      }
    },
    {
      "cell_type": "code",
      "source": [
        "def getWeights_FFD(d,thres):\n",
        "    w,k=[1.],1\n",
        "    while True:\n",
        "        w_=-w[-1]/k*(d-k+1)\n",
        "        if abs(w_)<thres:break\n",
        "        w.append(w_);k+=1\n",
        "    return np.array(w[::-1]).reshape(-1,1)\n",
        "\n",
        "def fracDiff_FFD(series,d,thres=1e-5):\n",
        "    # Constant width window (new solution)\n",
        "    w=getWeights_FFD(d,thres)\n",
        "    df={}\n",
        "    for name in series.columns:\n",
        "        df_=pd.Series(series[name].values,index=series.index).fillna(method='ffill').dropna()\n",
        "        x=pd.Series(0,index=df_.index)\n",
        "        for k in range(w.shape[0]):\n",
        "            x=x+w[k,0]*df_.shift(-k)\n",
        "    #df[name]=x.dropna().copy(deep=True)\n",
        "    df[name]=x.shift(k).copy(deep=True)\n",
        "    df=pd.concat(df,axis=1)\n",
        "    return df\n",
        "\n",
        "def findMinD(series):\n",
        "    for d in np.linspace(0,1,11):\n",
        "        df_=fracDiff_FFD(series,d,thres=0.01).dropna()\n",
        "        res=adfuller(df_.iloc[:,0].values,maxlag=1,regression='c',autolag=None)\n",
        "        print(\"ADF Test Result using adfuller in findMinD :\")\n",
        "        print(\"Test Statistic: \", res[0])\n",
        "        print(\"p-value: \", res[1])\n",
        "        print(\"critical_values: \", res[4])\n",
        "        if (res[0]<=res[4]['5%']):\n",
        "            return d\n",
        "    return 1.0"
      ],
      "metadata": {
        "id": "394u735VFOe0"
      },
      "execution_count": null,
      "outputs": []
    },
    {
      "cell_type": "markdown",
      "source": [
        "For Q1&2, using log(close price) helps stabilize the time series variance, making it easier to detect stationarity. I also learned that taking a log(close price) helps to capture the relative changes in the time series, as opposed to the absolute changes.\n"
      ],
      "metadata": {
        "id": "ySYPFuc-lOpL"
      }
    },
    {
      "cell_type": "code",
      "source": [
        "df1 = df.copy()\n",
        "# Take log of close price\n",
        "log_close = np.log(df1[\" Close\"].dropna().to_frame())\n",
        "#df1[\" Close\"].head()\n",
        "#log_close\n",
        "\n",
        "mdf1= findMinD(log_close)\n",
        "\n",
        "print(\"\\n\\n minimum fractional dimension d:\", mdf1)\n",
        "\n",
        "#Plot the fractional differece\n",
        "plt.plot(log_close)"
      ],
      "metadata": {
        "colab": {
          "base_uri": "https://localhost:8080/",
          "height": 926
        },
        "id": "xPFrJr1qdZTH",
        "outputId": "e5440870-da08-4dbc-e14d-fd0e4e9106fb"
      },
      "execution_count": null,
      "outputs": [
        {
          "output_type": "stream",
          "name": "stdout",
          "text": [
            "ADF Test Result using adfuller in findMinD :\n",
            "Test Statistic:  -0.8419108949235792\n",
            "p-value:  0.8065001056314948\n",
            "critical_values:  {'1%': -3.432329547701947, '5%': -2.8624146474183876, '10%': -2.56723559276082}\n",
            "ADF Test Result using adfuller in findMinD :\n",
            "Test Statistic:  -1.0866187064159143\n",
            "p-value:  0.7203786036771909\n",
            "critical_values:  {'1%': -3.432333751290419, '5%': -2.8624165041219203, '10%': -2.567236581227688}\n",
            "ADF Test Result using adfuller in findMinD :\n",
            "Test Statistic:  -1.374054275964656\n",
            "p-value:  0.5946496973784144\n",
            "critical_values:  {'1%': -3.4323355582984356, '5%': -2.8624173022673167, '10%': -2.5672370061423377}\n",
            "ADF Test Result using adfuller in findMinD :\n",
            "Test Statistic:  -1.9068887432205486\n",
            "p-value:  0.32882740050245163\n",
            "critical_values:  {'1%': -3.432336161366224, '5%': -2.8624175686388993, '10%': -2.567237147952593}\n",
            "ADF Test Result using adfuller in findMinD :\n",
            "Test Statistic:  -2.651044648969326\n",
            "p-value:  0.08289947507581824\n",
            "critical_values:  {'1%': -3.4323355582984356, '5%': -2.8624173022673167, '10%': -2.5672370061423377}\n",
            "ADF Test Result using adfuller in findMinD :\n",
            "Test Statistic:  -3.756688620019525\n",
            "p-value:  0.0033828660986461668\n",
            "critical_values:  {'1%': -3.4323349555967604, '5%': -2.862417036057391, '10%': -2.5672368644181542}\n",
            "\n",
            "\n",
            " minimum fractional dimension d: 0.5\n"
          ]
        },
        {
          "output_type": "execute_result",
          "data": {
            "text/plain": [
              "[<matplotlib.lines.Line2D at 0x7fabc3fd7850>]"
            ]
          },
          "metadata": {},
          "execution_count": 46
        },
        {
          "output_type": "display_data",
          "data": {
            "text/plain": [
              "<Figure size 640x480 with 1 Axes>"
            ],
            "image/png": "[encoded data removed]"
          },
          "metadata": {}
        }
      ]
    },
    {
      "cell_type": "code",
      "source": [],
      "metadata": {
        "id": "yqy2YuPOEVlK"
      },
      "execution_count": null,
      "outputs": []
    },
    {
      "cell_type": "markdown",
      "source": [
        "# Question 2\n",
        "Using the d you found in part 1 to fractionally differentiate the USO daily price series. Use adfuller from statsmodels.tsa.stattools to determine the ADF statistics of the resulting time series. Can you conclude from these statistics that the fractionally differentiated time series is stationary?"
      ],
      "metadata": {
        "id": "tivjXP_3h403"
      }
    },
    {
      "cell_type": "markdown",
      "source": [
        "If the p-value is less than the critical values, it means that the series is stationary. In that case, the number of differences taken can be used as the value for d. \n",
        "\n"
      ],
      "metadata": {
        "id": "RE7_yTKCcgF0"
      }
    },
    {
      "cell_type": "markdown",
      "source": [
        "## 2.1 fractionally differentiate\n",
        "\n",
        "Using the d you found in part 1 to fractionally differentiate the USO daily price series."
      ],
      "metadata": {
        "id": "cxIPE9AUfXjJ"
      }
    },
    {
      "cell_type": "code",
      "source": [
        "\n",
        "# Compute the fractional difference of the bars data based on the d value from Q1\n",
        "fd2 = fracDiff_FFD(log_close,mdf1,thres=0.01).dropna()\n",
        "fd2.head(10)\n",
        "fd2.shape\n",
        "\n",
        "#Plot the fractional differece\n",
        "plt.plot(fd2)\n",
        "\n"
      ],
      "metadata": {
        "colab": {
          "base_uri": "https://localhost:8080/",
          "height": 803
        },
        "id": "CW9PnuFFI47X",
        "outputId": "b14d2388-a653-43ca-f6fe-aa4474ff4e74"
      },
      "execution_count": null,
      "outputs": [
        {
          "output_type": "execute_result",
          "data": {
            "text/plain": [
              "       Close\n",
              "9   0.780229\n",
              "10  0.783744\n",
              "11  0.771654\n",
              "12  0.768047\n",
              "13  0.789676\n",
              "14  0.812389\n",
              "15  0.810698\n",
              "16  0.772169\n",
              "17  0.756771\n",
              "18  0.768218"
            ],
            "text/html": [
              "\n",
              "  <div id=\"df-a92dd023-1192-4093-abdd-7ad912108598\">\n",
              "    <div class=\"colab-df-container\">\n",
              "      <div>\n",
              "<style scoped>\n",
              "    .dataframe tbody tr th:only-of-type {\n",
              "        vertical-align: middle;\n",
              "    }\n",
              "\n",
              "    .dataframe tbody tr th {\n",
              "        vertical-align: top;\n",
              "    }\n",
              "\n",
              "    .dataframe thead th {\n",
              "        text-align: right;\n",
              "    }\n",
              "</style>\n",
              "<table border=\"1\" class=\"dataframe\">\n",
              "  <thead>\n",
              "    <tr style=\"text-align: right;\">\n",
              "      <th></th>\n",
              "      <th>Close</th>\n",
              "    </tr>\n",
              "  </thead>\n",
              "  <tbody>\n",
              "    <tr>\n",
              "      <th>9</th>\n",
              "      <td>0.780229</td>\n",
              "    </tr>\n",
              "    <tr>\n",
              "      <th>10</th>\n",
              "      <td>0.783744</td>\n",
              "    </tr>\n",
              "    <tr>\n",
              "      <th>11</th>\n",
              "      <td>0.771654</td>\n",
              "    </tr>\n",
              "    <tr>\n",
              "      <th>12</th>\n",
              "      <td>0.768047</td>\n",
              "    </tr>\n",
              "    <tr>\n",
              "      <th>13</th>\n",
              "      <td>0.789676</td>\n",
              "    </tr>\n",
              "    <tr>\n",
              "      <th>14</th>\n",
              "      <td>0.812389</td>\n",
              "    </tr>\n",
              "    <tr>\n",
              "      <th>15</th>\n",
              "      <td>0.810698</td>\n",
              "    </tr>\n",
              "    <tr>\n",
              "      <th>16</th>\n",
              "      <td>0.772169</td>\n",
              "    </tr>\n",
              "    <tr>\n",
              "      <th>17</th>\n",
              "      <td>0.756771</td>\n",
              "    </tr>\n",
              "    <tr>\n",
              "      <th>18</th>\n",
              "      <td>0.768218</td>\n",
              "    </tr>\n",
              "  </tbody>\n",
              "</table>\n",
              "</div>\n",
              "      <button class=\"colab-df-convert\" onclick=\"convertToInteractive('df-a92dd023-1192-4093-abdd-7ad912108598')\"\n",
              "              title=\"Convert this dataframe to an interactive table.\"\n",
              "              style=\"display:none;\">\n",
              "        \n",
              "  <svg xmlns=\"http://www.w3.org/2000/svg\" height=\"24px\"viewBox=\"0 0 24 24\"\n",
              "       width=\"24px\">\n",
              "    <path d=\"M0 0h24v24H0V0z\" fill=\"none\"/>\n",
              "    <path d=\"M18.56 5.44l.94 2.06.94-2.06 2.06-.94-2.06-.94-.94-2.06-.94 2.06-2.06.94zm-11 1L8.5 8.5l.94-2.06 2.06-.94-2.06-.94L8.5 2.5l-.94 2.06-2.06.94zm10 10l.94 2.06.94-2.06 2.06-.94-2.06-.94-.94-2.06-.94 2.06-2.06.94z\"/><path d=\"M17.41 7.96l-1.37-1.37c-.4-.4-.92-.59-1.43-.59-.52 0-1.04.2-1.43.59L10.3 9.45l-7.72 7.72c-.78.78-.78 2.05 0 2.83L4 21.41c.39.39.9.59 1.41.59.51 0 1.02-.2 1.41-.59l7.78-7.78 2.81-2.81c.8-.78.8-2.07 0-2.86zM5.41 20L4 18.59l7.72-7.72 1.47 1.35L5.41 20z\"/>\n",
              "  </svg>\n",
              "      </button>\n",
              "      \n",
              "  <style>\n",
              "    .colab-df-container {\n",
              "      display:flex;\n",
              "      flex-wrap:wrap;\n",
              "      gap: 12px;\n",
              "    }\n",
              "\n",
              "    .colab-df-convert {\n",
              "      background-color: #E8F0FE;\n",
              "      border: none;\n",
              "      border-radius: 50%;\n",
              "      cursor: pointer;\n",
              "      display: none;\n",
              "      fill: #1967D2;\n",
              "      height: 32px;\n",
              "      padding: 0 0 0 0;\n",
              "      width: 32px;\n",
              "    }\n",
              "\n",
              "    .colab-df-convert:hover {\n",
              "      background-color: #E2EBFA;\n",
              "      box-shadow: 0px 1px 2px rgba(60, 64, 67, 0.3), 0px 1px 3px 1px rgba(60, 64, 67, 0.15);\n",
              "      fill: #174EA6;\n",
              "    }\n",
              "\n",
              "    [theme=dark] .colab-df-convert {\n",
              "      background-color: #3B4455;\n",
              "      fill: #D2E3FC;\n",
              "    }\n",
              "\n",
              "    [theme=dark] .colab-df-convert:hover {\n",
              "      background-color: #434B5C;\n",
              "      box-shadow: 0px 1px 3px 1px rgba(0, 0, 0, 0.15);\n",
              "      filter: drop-shadow(0px 1px 2px rgba(0, 0, 0, 0.3));\n",
              "      fill: #FFFFFF;\n",
              "    }\n",
              "  </style>\n",
              "\n",
              "      <script>\n",
              "        const buttonEl =\n",
              "          document.querySelector('#df-a92dd023-1192-4093-abdd-7ad912108598 button.colab-df-convert');\n",
              "        buttonEl.style.display =\n",
              "          google.colab.kernel.accessAllowed ? 'block' : 'none';\n",
              "\n",
              "        async function convertToInteractive(key) {\n",
              "          const element = document.querySelector('#df-a92dd023-1192-4093-abdd-7ad912108598');\n",
              "          const dataTable =\n",
              "            await google.colab.kernel.invokeFunction('convertToInteractive',\n",
              "                                                     [key], {});\n",
              "          if (!dataTable) return;\n",
              "\n",
              "          const docLinkHtml = 'Like what you see? Visit the ' +\n",
              "            '<a target=\"_blank\" href=https://colab.research.google.com/notebooks/data_table.ipynb>data table notebook</a>'\n",
              "            + ' to learn more about interactive tables.';\n",
              "          element.innerHTML = '';\n",
              "          dataTable['output_type'] = 'display_data';\n",
              "          await google.colab.output.renderOutput(dataTable, element);\n",
              "          const docLink = document.createElement('div');\n",
              "          docLink.innerHTML = docLinkHtml;\n",
              "          element.appendChild(docLink);\n",
              "        }\n",
              "      </script>\n",
              "    </div>\n",
              "  </div>\n",
              "  "
            ]
          },
          "metadata": {},
          "execution_count": 47
        },
        {
          "output_type": "execute_result",
          "data": {
            "text/plain": [
              "(3299, 1)"
            ]
          },
          "metadata": {},
          "execution_count": 47
        },
        {
          "output_type": "execute_result",
          "data": {
            "text/plain": [
              "[<matplotlib.lines.Line2D at 0x7fabc3f31e20>]"
            ]
          },
          "metadata": {},
          "execution_count": 47
        },
        {
          "output_type": "display_data",
          "data": {
            "text/plain": [
              "<Figure size 640x480 with 1 Axes>"
            ],
            "image/png": "[encoded data removed]"
          },
          "metadata": {}
        }
      ]
    },
    {
      "cell_type": "code",
      "source": [
        "#log_close.head()\n",
        "results=adfuller(fd2[\" Close\"], maxlag=1, regression='c', autolag=None)\n",
        "print(results)\n"
      ],
      "metadata": {
        "colab": {
          "base_uri": "https://localhost:8080/"
        },
        "id": "aBpv3GdyEAVZ",
        "outputId": "3e53e55c-67e2-4d4d-9a16-918a368a58a0"
      },
      "execution_count": null,
      "outputs": [
        {
          "output_type": "stream",
          "name": "stdout",
          "text": [
            "(-3.756688620019525, 0.0033828660986461668, 1, 3297, {'1%': -3.4323349555967604, '5%': -2.862417036057391, '10%': -2.5672368644181542})\n"
          ]
        }
      ]
    },
    {
      "cell_type": "markdown",
      "source": [
        "## 2.2 ADF statistics\n",
        "\n",
        "Use adfuller from statsmodels.tsa.stattools to determine the ADF statistics of the resulting time series. "
      ],
      "metadata": {
        "id": "2zkkNoZmfh0o"
      }
    },
    {
      "cell_type": "code",
      "source": [
        "\n",
        "mdf2= findMinD(log_close)\n",
        "print(\"\\n\\n minimum fractional dimension d:\", mdf2)\n"
      ],
      "metadata": {
        "colab": {
          "base_uri": "https://localhost:8080/"
        },
        "id": "oqlpVE8AM8cR",
        "outputId": "9995fdf9-4bf2-44b7-9c12-ac38f7c23c07"
      },
      "execution_count": null,
      "outputs": [
        {
          "output_type": "stream",
          "name": "stdout",
          "text": [
            "ADF Test Result using adfuller in findMinD :\n",
            "Test Statistic:  -0.8419108949235792\n",
            "p-value:  0.8065001056314948\n",
            "critical_values:  {'1%': -3.432329547701947, '5%': -2.8624146474183876, '10%': -2.56723559276082}\n",
            "ADF Test Result using adfuller in findMinD :\n",
            "Test Statistic:  -1.0866187064159143\n",
            "p-value:  0.7203786036771909\n",
            "critical_values:  {'1%': -3.432333751290419, '5%': -2.8624165041219203, '10%': -2.567236581227688}\n",
            "ADF Test Result using adfuller in findMinD :\n",
            "Test Statistic:  -1.374054275964656\n",
            "p-value:  0.5946496973784144\n",
            "critical_values:  {'1%': -3.4323355582984356, '5%': -2.8624173022673167, '10%': -2.5672370061423377}\n",
            "ADF Test Result using adfuller in findMinD :\n",
            "Test Statistic:  -1.9068887432205486\n",
            "p-value:  0.32882740050245163\n",
            "critical_values:  {'1%': -3.432336161366224, '5%': -2.8624175686388993, '10%': -2.567237147952593}\n",
            "ADF Test Result using adfuller in findMinD :\n",
            "Test Statistic:  -2.651044648969326\n",
            "p-value:  0.08289947507581824\n",
            "critical_values:  {'1%': -3.4323355582984356, '5%': -2.8624173022673167, '10%': -2.5672370061423377}\n",
            "ADF Test Result using adfuller in findMinD :\n",
            "Test Statistic:  -3.756688620019525\n",
            "p-value:  0.0033828660986461668\n",
            "critical_values:  {'1%': -3.4323349555967604, '5%': -2.862417036057391, '10%': -2.5672368644181542}\n",
            "\n",
            "\n",
            " minimum fractional dimension d: 0.5\n"
          ]
        }
      ]
    },
    {
      "cell_type": "code",
      "source": [
        "def stationary_check(series):\n",
        "    result =adfuller(series,maxlag=1,regression='c',autolag=None)\n",
        "    p_value = result[1]\n",
        "    print(\"ADF Test Result using adfuller :\")\n",
        "    print(\"Test Statistic: \", result[0])\n",
        "    print(\"p-value: \", result[1])\n",
        "    print(\"critical_values: \", result[4])\n",
        "    # Determine the order of integration based on the p-value\n",
        "    if p_value < 0.05:\n",
        "      order_of_integration = 0\n",
        "    else:\n",
        "      order_of_integration = 1\n",
        "    print(\"Order of Integration: \", order_of_integration)\n",
        "    critical_values = result[4]\n",
        "    d = 0\n",
        "    if p_value < critical_values['5%']:\n",
        "        d = 1\n",
        "    return d\n",
        "\n",
        "\n",
        "price_series = fd2[\" Close\"]\n",
        "stationary_check(price_series)\n",
        "\n",
        "# # Testing with provided function and it's matching\n",
        "# print(\"\\n\\n*********************\")\n",
        "# findMinD(price_series)\n",
        "\n"
      ],
      "metadata": {
        "colab": {
          "base_uri": "https://localhost:8080/"
        },
        "id": "sf9VHY1jIzO2",
        "outputId": "87045e98-141d-4a03-e846-ffa3a9dc4c52"
      },
      "execution_count": null,
      "outputs": [
        {
          "output_type": "stream",
          "name": "stdout",
          "text": [
            "ADF Test Result using adfuller :\n",
            "Test Statistic:  -3.756688620019525\n",
            "p-value:  0.0033828660986461668\n",
            "critical_values:  {'1%': -3.4323349555967604, '5%': -2.862417036057391, '10%': -2.5672368644181542}\n",
            "Order of Integration:  0\n"
          ]
        },
        {
          "output_type": "execute_result",
          "data": {
            "text/plain": [
              "0"
            ]
          },
          "metadata": {},
          "execution_count": 50
        }
      ]
    },
    {
      "cell_type": "markdown",
      "source": [
        "In the ADF test, if the calculated test statistic is less than the critical value for the chosen significance level, we reject the null hypothesis and conclude that the time series is stationary. In other words, if the p-value of the ADF test is below a certain threshold (e.g. 0.05), we reject the null hypothesis and say that the time series is stationary.\n",
        "\n",
        "## Series is stationary\n",
        "\n",
        "Below are the reasons:\n",
        "\n",
        " - Test Statistics is less than the critical values\n",
        " - p-value < 0.05 (assuming significance level)\n",
        " - d=0"
      ],
      "metadata": {
        "id": "BiAuXR7xcwoY"
      }
    },
    {
      "cell_type": "markdown",
      "source": [
        "# Question 3\n",
        "Generate a time series from an IID Gaussian random process. This is a memoryless, stationary series:\n",
        "\n",
        "1. Compute the ADF statistic on this series. What is the p-value? --> p-value = 1\n",
        "2. Compute the cumulative sum of the observations. This is a non-stationary series without memory.\n",
        "*   What is the order of integration of this cumulative series?\n",
        "*   Compute the ADF statistic on this series. What is the p-value?\n",
        "    \n",
        "3. Differentiate the series twice. What is the p-value of this over-differentiated series?"
      ],
      "metadata": {
        "id": "PvjBWnqqhvm1"
      }
    },
    {
      "cell_type": "code",
      "source": [
        "df.shape"
      ],
      "metadata": {
        "colab": {
          "base_uri": "https://localhost:8080/"
        },
        "id": "n0ZAsfMbmFsi",
        "outputId": "37a6fc93-073d-45c2-ccd5-23f4b5e63e64"
      },
      "execution_count": null,
      "outputs": [
        {
          "output_type": "execute_result",
          "data": {
            "text/plain": [
              "(3308, 7)"
            ]
          },
          "metadata": {},
          "execution_count": 51
        }
      ]
    },
    {
      "cell_type": "markdown",
      "source": [
        "A time series generated from an IID Gaussian random process is a white noise time series. White noise is a type of time series where the samples are independent and identically distributed random variables with a mean of zero and a constant variance. In the case of an IID Gaussian random process, the random variables are Gaussian distributed.\n",
        "\n",
        "In other words, a time series generated from an IID Gaussian random process is a sequence of uncorrelated, identically distributed random variables with a mean of zero and a constant variance."
      ],
      "metadata": {
        "id": "CW3TiaY41417"
      }
    },
    {
      "cell_type": "code",
      "source": [
        "# Set the number of observations in the time series\n",
        "N = 12000\n",
        "np.random.seed(0)\n",
        "# Generate the time series from an IID Gaussian random process\n",
        "#time_series3 = pd.Series(np.random.normal(size=num_obs))\n",
        "time_series3 = pd.Series(np.random.randn(N))\n",
        "#  df_=pd.Series(series[name].values,index=series.index).fillna(method='ffill').dropna()\n",
        "\n",
        "\n",
        "dfq3 = pd.DataFrame(time_series3, columns = ['time_series3'])\n",
        "#log_random_series = np.log(dfq3[\"random_series\"].fillna(method='ffill').dropna().to_frame())\n",
        "#log_random_series\n"
      ],
      "metadata": {
        "id": "93j-huNflj7Y"
      },
      "execution_count": null,
      "outputs": []
    },
    {
      "cell_type": "markdown",
      "source": [
        "## 3.1 Augmented Dickey-Fuller test (ADF)\n",
        "The output will show the test statistic and p-value for the ADF test, as well as the critical values. The d value can be determined by the minimum number of differences required to make the series stationary, based on the p-value being less than the critical values."
      ],
      "metadata": {
        "id": "BxnYJ2qFa2D7"
      }
    },
    {
      "cell_type": "code",
      "source": [
        "# # ADF Statistics using functions provided\n",
        "\n",
        "def findMinD3(series):\n",
        "    d=0\n",
        "    for d in np.linspace(0,1,11):\n",
        "        df_=fracDiff_FFD(series,d,thres=0.01).dropna()\n",
        "        res=adfuller(df_.iloc[:,0].values,maxlag=1,regression='c',autolag=None)\n",
        "        print(\"ADF Test Result with findMinD:\")\n",
        "        print(\"Test Statistic: \", res[0])\n",
        "        print(\"p-value: \", res[1])\n",
        "        print(\"critical-value: \", res[4])\n",
        "        p_value = res[1]\n",
        "        # Determine the order of integration based on the p-value\n",
        "        if p_value < 0.05:\n",
        "          order_of_integration = 0\n",
        "        else:\n",
        "          order_of_integration = 1\n",
        "        print(\"Order of Integration: \", order_of_integration)\n",
        "        if (res[0]<=res[4]['5%']):\n",
        "            return d\n",
        "    return 1.0\n"
      ],
      "metadata": {
        "id": "R-pKgRntxWum"
      },
      "execution_count": null,
      "outputs": []
    },
    {
      "cell_type": "code",
      "source": [
        "print(\"\\n\\n****Using findMinD function*****************\")\n",
        "\n",
        "findMinD3(dfq3)\n",
        "print(\"\\n\\n****stationary_check*****************\")\n",
        "\n",
        "stationary_check(dfq3)"
      ],
      "metadata": {
        "colab": {
          "base_uri": "https://localhost:8080/"
        },
        "id": "KciLYygky1aS",
        "outputId": "c7b27587-07e7-4728-c16d-1a4ec188a1bf"
      },
      "execution_count": null,
      "outputs": [
        {
          "output_type": "stream",
          "name": "stdout",
          "text": [
            "\n",
            "\n",
            "****Using findMinD function*****************\n",
            "ADF Test Result with findMinD:\n",
            "Test Statistic:  -76.54344594341781\n",
            "p-value:  0.0\n",
            "critical-value:  {'1%': -3.4308951491597193, '5%': -2.861780927918845, '10%': -2.5668982408836767}\n",
            "Order of Integration:  0\n"
          ]
        },
        {
          "output_type": "execute_result",
          "data": {
            "text/plain": [
              "0.0"
            ]
          },
          "metadata": {},
          "execution_count": 54
        },
        {
          "output_type": "stream",
          "name": "stdout",
          "text": [
            "\n",
            "\n",
            "****stationary_check*****************\n",
            "ADF Test Result using adfuller :\n",
            "Test Statistic:  -76.54344594341781\n",
            "p-value:  0.0\n",
            "critical_values:  {'1%': -3.4308951491597193, '5%': -2.861780927918845, '10%': -2.5668982408836767}\n",
            "Order of Integration:  0\n"
          ]
        },
        {
          "output_type": "execute_result",
          "data": {
            "text/plain": [
              "0"
            ]
          },
          "metadata": {},
          "execution_count": 54
        }
      ]
    },
    {
      "cell_type": "markdown",
      "source": [
        "## 3.2 - Cummulative Sum\n",
        "\n",
        "Compute the cumulative sum of the observations. This is a non-stationary series without memory.\n",
        " - What is the order of integration of this cumulative series? --> Order of Integration:  1\n",
        "\n",
        " - Compute the ADF statistic on this series. What is the p-value? --> ADF Statistic: -3.472273\n",
        "p-value: 0.008728\n"
      ],
      "metadata": {
        "id": "QtVmmIdfkWFn"
      }
    },
    {
      "cell_type": "code",
      "source": [
        "\n",
        "\n",
        "# Compute the cumulative sum of the observations\n",
        "cumulative_series3 = time_series3.cumsum()\n",
        "cumulative_series3\n"
      ],
      "metadata": {
        "colab": {
          "base_uri": "https://localhost:8080/"
        },
        "id": "liCuCszUIy5l",
        "outputId": "5026e84b-2e22-4996-a162-96a925cdb2eb"
      },
      "execution_count": null,
      "outputs": [
        {
          "output_type": "execute_result",
          "data": {
            "text/plain": [
              "0          1.764052\n",
              "1          2.164210\n",
              "2          3.142948\n",
              "3          5.383841\n",
              "4          7.251399\n",
              "            ...    \n",
              "11995   -186.191711\n",
              "11996   -184.652843\n",
              "11997   -186.650272\n",
              "11998   -186.682193\n",
              "11999   -186.458227\n",
              "Length: 12000, dtype: float64"
            ]
          },
          "metadata": {},
          "execution_count": 55
        }
      ]
    },
    {
      "cell_type": "markdown",
      "source": [
        "The order of integration of a time series refers to the number of differences required to make the series stationary. The most common way to determine the order of integration of a cumulative series is to perform a unit root test, such as the Augmented Dickey-Fuller (ADF) test.\n",
        "\n",
        "\n"
      ],
      "metadata": {
        "id": "sw7q5-0-oWc1"
      }
    },
    {
      "cell_type": "code",
      "source": [
        "# Perform an ADF test on the cumulative series\n",
        "print(\"\\n\\n****findMinD function*****************\")\n",
        "findMinD3(cumulative_series3.to_frame())\n",
        "\n",
        "print(\"\\n\\n****stationary_check*****************\")\n",
        "stationary_check(cumulative_series3.to_frame())"
      ],
      "metadata": {
        "colab": {
          "base_uri": "https://localhost:8080/"
        },
        "id": "phIQHKmUoe9d",
        "outputId": "be28395c-a2ac-47fb-9274-434ad092bbd9"
      },
      "execution_count": null,
      "outputs": [
        {
          "output_type": "stream",
          "name": "stdout",
          "text": [
            "\n",
            "\n",
            "****findMinD function*****************\n",
            "ADF Test Result with findMinD:\n",
            "Test Statistic:  -1.3704402314893047\n",
            "p-value:  0.5963625665563386\n",
            "critical-value:  {'1%': -3.4308951491597193, '5%': -2.861780927918845, '10%': -2.5668982408836767}\n",
            "Order of Integration:  1\n",
            "ADF Test Result with findMinD:\n",
            "Test Statistic:  -1.5999763453512292\n",
            "p-value:  0.4836053522090522\n",
            "critical-value:  {'1%': -3.4308954674702434, '5%': -2.861781068582823, '10%': -2.5668983157584044}\n",
            "Order of Integration:  1\n",
            "ADF Test Result with findMinD:\n",
            "Test Statistic:  -1.9723832884203263\n",
            "p-value:  0.29881176793744535\n",
            "critical-value:  {'1%': -3.43089560400286, '5%': -2.861781128917679, '10%': -2.5668983478743455}\n",
            "Order of Integration:  1\n",
            "ADF Test Result with findMinD:\n",
            "Test Statistic:  -2.554680436153522\n",
            "p-value:  0.1027302391823034\n",
            "critical-value:  {'1%': -3.4308956495289222, '5%': -2.8617811490360094, '10%': -2.5668983585832317}\n",
            "Order of Integration:  1\n",
            "ADF Test Result with findMinD:\n",
            "Test Statistic:  -3.3378728715269457\n",
            "p-value:  0.013268134966614647\n",
            "critical-value:  {'1%': -3.43089560400286, '5%': -2.861781128917679, '10%': -2.5668983478743455}\n",
            "Order of Integration:  0\n"
          ]
        },
        {
          "output_type": "execute_result",
          "data": {
            "text/plain": [
              "0.4"
            ]
          },
          "metadata": {},
          "execution_count": 56
        },
        {
          "output_type": "stream",
          "name": "stdout",
          "text": [
            "\n",
            "\n",
            "****stationary_check*****************\n",
            "ADF Test Result using adfuller :\n",
            "Test Statistic:  -1.3704402314893047\n",
            "p-value:  0.5963625665563386\n",
            "critical_values:  {'1%': -3.4308951491597193, '5%': -2.861780927918845, '10%': -2.5668982408836767}\n",
            "Order of Integration:  1\n"
          ]
        },
        {
          "output_type": "execute_result",
          "data": {
            "text/plain": [
              "0"
            ]
          },
          "metadata": {},
          "execution_count": 56
        }
      ]
    },
    {
      "cell_type": "markdown",
      "source": [
        "## 3.3 Differentiate the series twice"
      ],
      "metadata": {
        "id": "Xy8WsSpx2E2t"
      }
    },
    {
      "cell_type": "code",
      "source": [
        "differentiated_cumulative_series3 = np.diff(cumulative_series3, n=2)\n",
        "print(differentiated_cumulative_series3)\n",
        "print(type(differentiated_cumulative_series3))"
      ],
      "metadata": {
        "colab": {
          "base_uri": "https://localhost:8080/"
        },
        "id": "lihbI7w1U7OR",
        "outputId": "70f50856-7c4d-402c-e6b9-6970e363b5e4"
      },
      "execution_count": null,
      "outputs": [
        {
          "output_type": "stream",
          "name": "stdout",
          "text": [
            "[ 0.57858078  1.26215522 -0.37333521 ... -3.53629814  1.96550888\n",
            "  0.25588667]\n",
            "<class 'numpy.ndarray'>\n"
          ]
        }
      ]
    },
    {
      "cell_type": "code",
      "source": [
        "df3_3 = pd.DataFrame(differentiated_cumulative_series3, columns = ['cum_series'])\n",
        "\n",
        "df3_3.head()\n",
        "print(type(df3_3))"
      ],
      "metadata": {
        "colab": {
          "base_uri": "https://localhost:8080/",
          "height": 224
        },
        "id": "LDBcGr4lVOor",
        "outputId": "bae525a5-2ef8-4f00-f7a3-185fa75bdbf4"
      },
      "execution_count": null,
      "outputs": [
        {
          "output_type": "execute_result",
          "data": {
            "text/plain": [
              "   cum_series\n",
              "0    0.578581\n",
              "1    1.262155\n",
              "2   -0.373335\n",
              "3   -2.844836\n",
              "4    1.927366"
            ],
            "text/html": [
              "\n",
              "  <div id=\"df-623225c1-3530-40fa-a27e-cba01b8fb276\">\n",
              "    <div class=\"colab-df-container\">\n",
              "      <div>\n",
              "<style scoped>\n",
              "    .dataframe tbody tr th:only-of-type {\n",
              "        vertical-align: middle;\n",
              "    }\n",
              "\n",
              "    .dataframe tbody tr th {\n",
              "        vertical-align: top;\n",
              "    }\n",
              "\n",
              "    .dataframe thead th {\n",
              "        text-align: right;\n",
              "    }\n",
              "</style>\n",
              "<table border=\"1\" class=\"dataframe\">\n",
              "  <thead>\n",
              "    <tr style=\"text-align: right;\">\n",
              "      <th></th>\n",
              "      <th>cum_series</th>\n",
              "    </tr>\n",
              "  </thead>\n",
              "  <tbody>\n",
              "    <tr>\n",
              "      <th>0</th>\n",
              "      <td>0.578581</td>\n",
              "    </tr>\n",
              "    <tr>\n",
              "      <th>1</th>\n",
              "      <td>1.262155</td>\n",
              "    </tr>\n",
              "    <tr>\n",
              "      <th>2</th>\n",
              "      <td>-0.373335</td>\n",
              "    </tr>\n",
              "    <tr>\n",
              "      <th>3</th>\n",
              "      <td>-2.844836</td>\n",
              "    </tr>\n",
              "    <tr>\n",
              "      <th>4</th>\n",
              "      <td>1.927366</td>\n",
              "    </tr>\n",
              "  </tbody>\n",
              "</table>\n",
              "</div>\n",
              "      <button class=\"colab-df-convert\" onclick=\"convertToInteractive('df-623225c1-3530-40fa-a27e-cba01b8fb276')\"\n",
              "              title=\"Convert this dataframe to an interactive table.\"\n",
              "              style=\"display:none;\">\n",
              "        \n",
              "  <svg xmlns=\"http://www.w3.org/2000/svg\" height=\"24px\"viewBox=\"0 0 24 24\"\n",
              "       width=\"24px\">\n",
              "    <path d=\"M0 0h24v24H0V0z\" fill=\"none\"/>\n",
              "    <path d=\"M18.56 5.44l.94 2.06.94-2.06 2.06-.94-2.06-.94-.94-2.06-.94 2.06-2.06.94zm-11 1L8.5 8.5l.94-2.06 2.06-.94-2.06-.94L8.5 2.5l-.94 2.06-2.06.94zm10 10l.94 2.06.94-2.06 2.06-.94-2.06-.94-.94-2.06-.94 2.06-2.06.94z\"/><path d=\"M17.41 7.96l-1.37-1.37c-.4-.4-.92-.59-1.43-.59-.52 0-1.04.2-1.43.59L10.3 9.45l-7.72 7.72c-.78.78-.78 2.05 0 2.83L4 21.41c.39.39.9.59 1.41.59.51 0 1.02-.2 1.41-.59l7.78-7.78 2.81-2.81c.8-.78.8-2.07 0-2.86zM5.41 20L4 18.59l7.72-7.72 1.47 1.35L5.41 20z\"/>\n",
              "  </svg>\n",
              "      </button>\n",
              "      \n",
              "  <style>\n",
              "    .colab-df-container {\n",
              "      display:flex;\n",
              "      flex-wrap:wrap;\n",
              "      gap: 12px;\n",
              "    }\n",
              "\n",
              "    .colab-df-convert {\n",
              "      background-color: #E8F0FE;\n",
              "      border: none;\n",
              "      border-radius: 50%;\n",
              "      cursor: pointer;\n",
              "      display: none;\n",
              "      fill: #1967D2;\n",
              "      height: 32px;\n",
              "      padding: 0 0 0 0;\n",
              "      width: 32px;\n",
              "    }\n",
              "\n",
              "    .colab-df-convert:hover {\n",
              "      background-color: #E2EBFA;\n",
              "      box-shadow: 0px 1px 2px rgba(60, 64, 67, 0.3), 0px 1px 3px 1px rgba(60, 64, 67, 0.15);\n",
              "      fill: #174EA6;\n",
              "    }\n",
              "\n",
              "    [theme=dark] .colab-df-convert {\n",
              "      background-color: #3B4455;\n",
              "      fill: #D2E3FC;\n",
              "    }\n",
              "\n",
              "    [theme=dark] .colab-df-convert:hover {\n",
              "      background-color: #434B5C;\n",
              "      box-shadow: 0px 1px 3px 1px rgba(0, 0, 0, 0.15);\n",
              "      filter: drop-shadow(0px 1px 2px rgba(0, 0, 0, 0.3));\n",
              "      fill: #FFFFFF;\n",
              "    }\n",
              "  </style>\n",
              "\n",
              "      <script>\n",
              "        const buttonEl =\n",
              "          document.querySelector('#df-623225c1-3530-40fa-a27e-cba01b8fb276 button.colab-df-convert');\n",
              "        buttonEl.style.display =\n",
              "          google.colab.kernel.accessAllowed ? 'block' : 'none';\n",
              "\n",
              "        async function convertToInteractive(key) {\n",
              "          const element = document.querySelector('#df-623225c1-3530-40fa-a27e-cba01b8fb276');\n",
              "          const dataTable =\n",
              "            await google.colab.kernel.invokeFunction('convertToInteractive',\n",
              "                                                     [key], {});\n",
              "          if (!dataTable) return;\n",
              "\n",
              "          const docLinkHtml = 'Like what you see? Visit the ' +\n",
              "            '<a target=\"_blank\" href=https://colab.research.google.com/notebooks/data_table.ipynb>data table notebook</a>'\n",
              "            + ' to learn more about interactive tables.';\n",
              "          element.innerHTML = '';\n",
              "          dataTable['output_type'] = 'display_data';\n",
              "          await google.colab.output.renderOutput(dataTable, element);\n",
              "          const docLink = document.createElement('div');\n",
              "          docLink.innerHTML = docLinkHtml;\n",
              "          element.appendChild(docLink);\n",
              "        }\n",
              "      </script>\n",
              "    </div>\n",
              "  </div>\n",
              "  "
            ]
          },
          "metadata": {},
          "execution_count": 58
        },
        {
          "output_type": "stream",
          "name": "stdout",
          "text": [
            "<class 'pandas.core.frame.DataFrame'>\n"
          ]
        }
      ]
    },
    {
      "cell_type": "code",
      "source": [
        "\n",
        "\n",
        "# Perform an ADF test on the cumulative series\n",
        "print(\"\\n\\n****findMinD function*****************\")\n",
        "findMinD3(df3_3)\n",
        "\n",
        "print(\"\\n\\n****stationary_check*****************\")\n",
        "stationary_check(df3_3)\n"
      ],
      "metadata": {
        "colab": {
          "base_uri": "https://localhost:8080/"
        },
        "id": "YBWCdZwMIzRw",
        "outputId": "8308949a-f1bd-4104-eadc-755b11096234"
      },
      "execution_count": null,
      "outputs": [
        {
          "output_type": "stream",
          "name": "stdout",
          "text": [
            "\n",
            "\n",
            "****findMinD function*****************\n",
            "ADF Test Result with findMinD:\n",
            "Test Statistic:  -131.67469754987164\n",
            "p-value:  0.0\n",
            "critical-value:  {'1%': -3.4308952400676684, '5%': -2.8617809680917996, '10%': -2.566898262267538}\n",
            "Order of Integration:  0\n"
          ]
        },
        {
          "output_type": "execute_result",
          "data": {
            "text/plain": [
              "0.0"
            ]
          },
          "metadata": {},
          "execution_count": 59
        },
        {
          "output_type": "stream",
          "name": "stdout",
          "text": [
            "\n",
            "\n",
            "****stationary_check*****************\n",
            "ADF Test Result using adfuller :\n",
            "Test Statistic:  -131.67469754987164\n",
            "p-value:  0.0\n",
            "critical_values:  {'1%': -3.4308952400676684, '5%': -2.8617809680917996, '10%': -2.566898262267538}\n",
            "Order of Integration:  0\n"
          ]
        },
        {
          "output_type": "execute_result",
          "data": {
            "text/plain": [
              "0"
            ]
          },
          "metadata": {},
          "execution_count": 59
        }
      ]
    },
    {
      "cell_type": "markdown",
      "source": [
        "Observation: A p-value of 2.6528811443868822e-30, which is extremely close to zero, means that there is strong evidence against the null hypothesis and in favor of the alternative hypothesis. This suggests that the time series is indeed stationary"
      ],
      "metadata": {
        "id": "uvTHAznA-sm-"
      }
    },
    {
      "cell_type": "code",
      "source": [
        "orders = [0, 1, 2, 3, 4]\n",
        "\n",
        "p_val = lambda x: adfuller(x)[1]\n",
        "\n",
        "for o in orders:\n",
        "    diff_ = np.diff(cumulative_series3,o)\n",
        "    print('='*27)\n",
        "    print(f'order: {o}, pVal: {p_val(diff_)}')"
      ],
      "metadata": {
        "colab": {
          "base_uri": "https://localhost:8080/"
        },
        "id": "1UVePZHrkKth",
        "outputId": "99fd45f0-3b08-4b87-d1ce-e44360f7fc93"
      },
      "execution_count": null,
      "outputs": [
        {
          "output_type": "stream",
          "name": "stdout",
          "text": [
            "===========================\n",
            "order: 0, pVal: 0.5618156856805528\n",
            "===========================\n",
            "order: 1, pVal: 0.0\n",
            "===========================\n",
            "order: 2, pVal: 0.0\n",
            "===========================\n",
            "order: 3, pVal: 0.0\n",
            "===========================\n",
            "order: 4, pVal: 0.0\n"
          ]
        }
      ]
    },
    {
      "cell_type": "markdown",
      "source": [
        "# Question 4\n",
        "\n",
        "Can you tell the difference between the functions we provided versus the ones provided in Chapter 5 of AFML? How much time does it take to run for parts 2 and 3 respectively? "
      ],
      "metadata": {
        "id": "Laj9ldyN2PvR"
      }
    },
    {
      "cell_type": "code",
      "source": [
        "# Functions from AFML, Chapter 5\n",
        "\n",
        "def getWeights_FFD_AFML(d,thres):\n",
        "    # thres>0 drops insignificant weights\n",
        "    w,k=[1.],1\n",
        "    while True:\n",
        "        print(\"***********  getWeights_FFD_AFML CheckPoint ***********\")\n",
        "        w_=-w[-1]/k*(d-k+1)\n",
        "        if abs(w_)<thres:break\n",
        "        w.append(w_)\n",
        "        k+=1\n",
        "    w=np.array(w[::-1]).reshape(-1,1)\n",
        "    return w\n",
        "#---------------------------------------------------------------------------\n",
        "def fracDiff_FFD_AFML(series,d,thres=1e-5):\n",
        "    '''\n",
        "    Constant width window (new solution)\n",
        "    Note 1: thres determines the cut-off weight for the window\n",
        "    Note 2: d can be any positive fractional, not necessarily bounded [0,1].\n",
        "    '''\n",
        "    #1) Compute weights for the longest series\n",
        "    w=getWeights_FFD_AFML(d,thres)\n",
        "    width=len(w)-1\n",
        "    #2) Apply weights to values\n",
        "    df={}\n",
        "    for name in series.columns:\n",
        "        seriesF,df_=series[[name]].fillna(method='ffill').dropna(),pd.Series()\n",
        "        for iloc1 in range(width,seriesF.shape[0]):loc0,loc1=seriesF.index[iloc1-width],seriesF.index[iloc1]\n",
        "        if not np.isfinite(series.loc[loc1,name]):continue # exclude NAs\n",
        "        df_[loc1]=np.dot(w.T,seriesF.loc[loc0:loc1])[0,0]\n",
        "        print(\"***********  fracDiff_FFD_AFML CheckPoint ***********\")\n",
        "        df[name]=df_.copy(deep=True)\n",
        "    df=pd.concat(df,axis=1)\n",
        "    return df\n",
        "\n",
        "# Function provided by Scott\n",
        "# for name in series.columns:\n",
        "#         df_=pd.Series(series[name].values,index=series.index).fillna(method='ffill').dropna()\n",
        "#         x=pd.Series(0,index=df_.index)\n",
        "#         for k in range(w.shape[0]):\n",
        "#             x=x+w[k,0]*df_.shift(-k)\n",
        "#     #df[name]=x.dropna().copy(deep=True)\n",
        "#     df[name]=x.shift(k).copy(deep=True)\n",
        "#     df=pd.concat(df,axis=1)"
      ],
      "metadata": {
        "id": "DtJaxKzCyVXQ"
      },
      "execution_count": null,
      "outputs": []
    },
    {
      "cell_type": "code",
      "source": [
        "def findMinD_AFML(series):\n",
        "    for d in np.linspace(0,1,11):\n",
        "        df_=fracDiff_FFD_AFML(series,d,thres=0.01).dropna()\n",
        "        print(\"***********  findMinD_AFML CheckPoint ***********\")\n",
        "        res=adfuller(df_.iloc[:,0].values,maxlag=1,regression='c',autolag=None)\n",
        "        print(\"ADF Test Result with findMinD:\")\n",
        "        print(\"Test Statistic: \", res[0])\n",
        "        print(\"p-value: \", res[1])\n",
        "        p_value = res[1]\n",
        "        # Determine the order of integration based on the p-value\n",
        "        if p_value < 0.05:\n",
        "          order_of_integration = 0\n",
        "        else:\n",
        "          order_of_integration = 1\n",
        "        print(\"Order of Integration: \", order_of_integration)\n",
        "        if (res[0]<=res[4]['5%']):\n",
        "            return d\n",
        "    return 1.0\n"
      ],
      "metadata": {
        "id": "kqNTazpD_fY7"
      },
      "execution_count": null,
      "outputs": []
    },
    {
      "cell_type": "markdown",
      "source": [
        "## Q4 - part 2"
      ],
      "metadata": {
        "id": "f6J63BOhB_WH"
      }
    },
    {
      "cell_type": "code",
      "source": [
        "\n",
        "#findMinD_AFML(log_close)\n"
      ],
      "metadata": {
        "id": "3zWpHCisCECk"
      },
      "execution_count": null,
      "outputs": []
    },
    {
      "cell_type": "markdown",
      "source": [],
      "metadata": {
        "id": "AvfabK845s_2"
      }
    }
  ]
}