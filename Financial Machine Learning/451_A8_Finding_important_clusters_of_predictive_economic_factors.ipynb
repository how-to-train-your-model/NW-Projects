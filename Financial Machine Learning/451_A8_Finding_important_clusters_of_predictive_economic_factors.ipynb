{
  "cells": [
    {
      "cell_type": "markdown",
      "metadata": {
        "id": "view-in-github",
        "colab_type": "text"
      },
      "source": [
        "<a href=\"https://colab.research.google.com/github/how-to-train-your-model/data-science-portfolio/blob/main/451_A8_Finding_important_clusters_of_predictive_economic_factors.ipynb\" target=\"_parent\"><img src=\"https://colab.research.google.com/assets/colab-badge.svg\" alt=\"Open In Colab\"/></a>"
      ]
    },
    {
      "cell_type": "markdown",
      "metadata": {
        "id": "e2VhQgMRO9X6"
      },
      "source": [
        "# Module 5 Coding Assignment: \n",
        "Finding important clusters of predictive\n",
        "economic factors of SPX index\n"
      ]
    },
    {
      "cell_type": "markdown",
      "metadata": {
        "id": "iwBWqS_VcoNP"
      },
      "source": [
        "# Libraries"
      ]
    },
    {
      "cell_type": "code",
      "execution_count": 1,
      "metadata": {
        "colab": {
          "base_uri": "https://localhost:8080/"
        },
        "id": "IojZ7L098PgU",
        "outputId": "dba8aa13-d7ae-41f3-e960-f5596b5b02cb"
      },
      "outputs": [
        {
          "output_type": "stream",
          "name": "stdout",
          "text": [
            "Looking in indexes: https://pypi.org/simple, https://us-python.pkg.dev/colab-wheels/public/simple/\n",
            "Collecting sweetviz\n",
            "  Downloading sweetviz-2.1.4-py3-none-any.whl (15.1 MB)\n",
            "\u001b[2K     \u001b[90m━━━━━━━━━━━━━━━━━━━━━━━━━━━━━━━━━━━━━━━━\u001b[0m \u001b[32m15.1/15.1 MB\u001b[0m \u001b[31m80.8 MB/s\u001b[0m eta \u001b[36m0:00:00\u001b[0m\n",
            "\u001b[?25hRequirement already satisfied: pandas!=1.0.0,!=1.0.1,!=1.0.2,>=0.25.3 in /usr/local/lib/python3.9/dist-packages (from sweetviz) (1.3.5)\n",
            "Requirement already satisfied: numpy>=1.16.0 in /usr/local/lib/python3.9/dist-packages (from sweetviz) (1.22.4)\n",
            "Requirement already satisfied: tqdm>=4.43.0 in /usr/local/lib/python3.9/dist-packages (from sweetviz) (4.65.0)\n",
            "Requirement already satisfied: matplotlib>=3.1.3 in /usr/local/lib/python3.9/dist-packages (from sweetviz) (3.5.3)\n",
            "Requirement already satisfied: jinja2>=2.11.1 in /usr/local/lib/python3.9/dist-packages (from sweetviz) (3.1.2)\n",
            "Requirement already satisfied: importlib-resources>=1.2.0 in /usr/local/lib/python3.9/dist-packages (from sweetviz) (5.12.0)\n",
            "Requirement already satisfied: scipy>=1.3.2 in /usr/local/lib/python3.9/dist-packages (from sweetviz) (1.10.1)\n",
            "Requirement already satisfied: zipp>=3.1.0 in /usr/local/lib/python3.9/dist-packages (from importlib-resources>=1.2.0->sweetviz) (3.15.0)\n",
            "Requirement already satisfied: MarkupSafe>=2.0 in /usr/local/lib/python3.9/dist-packages (from jinja2>=2.11.1->sweetviz) (2.1.2)\n",
            "Requirement already satisfied: python-dateutil>=2.7 in /usr/local/lib/python3.9/dist-packages (from matplotlib>=3.1.3->sweetviz) (2.8.2)\n",
            "Requirement already satisfied: pillow>=6.2.0 in /usr/local/lib/python3.9/dist-packages (from matplotlib>=3.1.3->sweetviz) (8.4.0)\n",
            "Requirement already satisfied: packaging>=20.0 in /usr/local/lib/python3.9/dist-packages (from matplotlib>=3.1.3->sweetviz) (23.0)\n",
            "Requirement already satisfied: pyparsing>=2.2.1 in /usr/local/lib/python3.9/dist-packages (from matplotlib>=3.1.3->sweetviz) (3.0.9)\n",
            "Requirement already satisfied: kiwisolver>=1.0.1 in /usr/local/lib/python3.9/dist-packages (from matplotlib>=3.1.3->sweetviz) (1.4.4)\n",
            "Requirement already satisfied: fonttools>=4.22.0 in /usr/local/lib/python3.9/dist-packages (from matplotlib>=3.1.3->sweetviz) (4.39.0)\n",
            "Requirement already satisfied: cycler>=0.10 in /usr/local/lib/python3.9/dist-packages (from matplotlib>=3.1.3->sweetviz) (0.11.0)\n",
            "Requirement already satisfied: pytz>=2017.3 in /usr/local/lib/python3.9/dist-packages (from pandas!=1.0.0,!=1.0.1,!=1.0.2,>=0.25.3->sweetviz) (2022.7.1)\n",
            "Requirement already satisfied: six>=1.5 in /usr/local/lib/python3.9/dist-packages (from python-dateutil>=2.7->matplotlib>=3.1.3->sweetviz) (1.15.0)\n",
            "Installing collected packages: sweetviz\n",
            "Successfully installed sweetviz-2.1.4\n"
          ]
        }
      ],
      "source": [
        "!pip install sweetviz"
      ]
    },
    {
      "cell_type": "code",
      "execution_count": 2,
      "metadata": {
        "id": "sf1tKXbQOzmz"
      },
      "outputs": [],
      "source": [
        "# load libraries\n",
        "import pandas as pd\n",
        "import numpy as np\n",
        "import random\n",
        "import matplotlib.pyplot as plt\n",
        "import seaborn as sns\n",
        "from statsmodels.tsa.stattools import adfuller\n",
        "from sklearn.model_selection import RandomizedSearchCV, train_test_split\n",
        "from sklearn.ensemble import RandomForestClassifier\n",
        "from sklearn.inspection import permutation_importance\n",
        "from sklearn.model_selection import cross_val_score, cross_validate\n",
        "\n",
        "from sklearn.preprocessing import StandardScaler\n",
        "from sklearn.metrics import accuracy_score, f1_score, roc_auc_score\n",
        "import sweetviz as sv\n",
        "\n",
        "from tqdm import tqdm\n",
        "from sklearn.cluster import KMeans, MiniBatchKMeans, SpectralClustering, AgglomerativeClustering\n",
        "from sklearn.datasets import make_regression, make_classification, make_blobs\n",
        "from sklearn.metrics import silhouette_samples, log_loss, accuracy_score, r2_score, roc_auc_score, f1_score,mean_squared_error, mean_absolute_error, adjusted_rand_score\n",
        "from sklearn.preprocessing import MinMaxScaler\n",
        "#from sklearn.datasets import load_boston, load_breast_cancer\n",
        "from sklearn.model_selection import train_test_split\n",
        "from sklearn.ensemble import RandomForestRegressor, RandomForestClassifier\n",
        "from sklearn.model_selection._split import KFold\n",
        "\n",
        "\n"
      ]
    },
    {
      "cell_type": "code",
      "execution_count": 3,
      "metadata": {
        "id": "M1ZfWBTxO6c-"
      },
      "outputs": [],
      "source": [
        "# Allows for muliple output in one cell window\n",
        "from IPython.core.interactiveshell import InteractiveShell\n",
        "InteractiveShell.ast_node_interactivity = \"all\"\n",
        "\n",
        "#Allows for viewing the complete data in a single window \n",
        "pd.set_option('display.max_rows', 500)\n",
        "pd.set_option('display.max_columns', 500)\n",
        "pd.set_option('display.width', 1000)"
      ]
    },
    {
      "cell_type": "code",
      "execution_count": 4,
      "metadata": {
        "colab": {
          "base_uri": "https://localhost:8080/"
        },
        "id": "LKxcBRrrPQn0",
        "outputId": "509ee313-89dc-4935-8903-bb6462ad799b"
      },
      "outputs": [
        {
          "output_type": "stream",
          "name": "stdout",
          "text": [
            "Mounted at /content/drive\n",
            "total 852\n",
            "-rw------- 1 root root  37151 Mar 12 23:07 '451_A8_Finding important clusters of predictive economic factors.ipynb'\n",
            "-rw------- 1 root root 249811 Mar 11 03:27 'Copy of MSDS451_A5_Pant_Coding Assignment: MDA on economic factors as predictors of S&P 500 index.docx'\n",
            "-rw------- 1 root root 301093 Mar 12 00:18 'MSDS 451 Assignment_07_Chan-1.ipynb'\n",
            "-rw------- 1 root root 244386 Feb 19 18:18  S_P_mnthly_returns_input-3.csv\n",
            "-rw------- 1 root root  13711 Feb 19 18:18  S_P_mnthly_returns_output-3.csv\n",
            "-rw------- 1 root root  24148 Mar  4 18:50  SPY.csv\n"
          ]
        }
      ],
      "source": [
        "from google.colab import drive\n",
        "drive.mount('/content/drive')\n",
        "!ls -l \"/content/drive/My Drive/Colab_Notebooks/MSDS-451/W8\""
      ]
    },
    {
      "cell_type": "code",
      "execution_count": 5,
      "metadata": {
        "colab": {
          "base_uri": "https://localhost:8080/",
          "height": 255
        },
        "id": "8mUJqXWQPU8v",
        "outputId": "55bb644a-1c44-4351-8882-29adbb211263"
      },
      "outputs": [
        {
          "output_type": "stream",
          "name": "stdout",
          "text": [
            "(888, 15)\n"
          ]
        },
        {
          "output_type": "execute_result",
          "data": {
            "text/plain": [
              "                ntis      infl     ltr   corpr      svar       d/p       d/y       e/p       d/e     tms     dfy     dfr    b/m_FD   tbl_FD    lty_FD\n",
              "yyyymm                                                                                                                                               \n",
              "1945-12-01  0.025525  0.005525  0.0194  0.0133  0.001538 -3.269684 -3.337063 -2.894991 -0.374693  0.0161  0.0049 -0.0061 -0.216009 -2.99635 -1.507835\n",
              "1946-01-01  0.027969  0.000000  0.0025  0.0128  0.002645 -3.327012 -3.255014 -2.983423 -0.343589  0.0161  0.0047  0.0103 -0.264780 -2.99635 -1.486065\n",
              "1946-02-01  0.031091 -0.005495  0.0032  0.0034  0.005942 -3.245065 -3.290322 -2.932931 -0.312134  0.0160  0.0047  0.0002 -0.167204 -2.99635 -1.481915\n",
              "1946-03-01  0.031188  0.011050  0.0010  0.0034  0.001497 -3.280469 -3.317389 -3.000167 -0.280302  0.0160  0.0047  0.0024 -0.190201 -2.99635 -1.474585\n",
              "1946-04-01  0.031307  0.005464 -0.0135 -0.0043  0.001078 -3.317389 -3.339531 -3.059560 -0.257829  0.0169  0.0050  0.0092 -0.222940 -2.99635 -1.425691"
            ],
            "text/html": [
              "\n",
              "  <div id=\"df-23f28a8c-bca2-4b5c-8eab-fdd6ac049f2f\">\n",
              "    <div class=\"colab-df-container\">\n",
              "      <div>\n",
              "<style scoped>\n",
              "    .dataframe tbody tr th:only-of-type {\n",
              "        vertical-align: middle;\n",
              "    }\n",
              "\n",
              "    .dataframe tbody tr th {\n",
              "        vertical-align: top;\n",
              "    }\n",
              "\n",
              "    .dataframe thead th {\n",
              "        text-align: right;\n",
              "    }\n",
              "</style>\n",
              "<table border=\"1\" class=\"dataframe\">\n",
              "  <thead>\n",
              "    <tr style=\"text-align: right;\">\n",
              "      <th></th>\n",
              "      <th>ntis</th>\n",
              "      <th>infl</th>\n",
              "      <th>ltr</th>\n",
              "      <th>corpr</th>\n",
              "      <th>svar</th>\n",
              "      <th>d/p</th>\n",
              "      <th>d/y</th>\n",
              "      <th>e/p</th>\n",
              "      <th>d/e</th>\n",
              "      <th>tms</th>\n",
              "      <th>dfy</th>\n",
              "      <th>dfr</th>\n",
              "      <th>b/m_FD</th>\n",
              "      <th>tbl_FD</th>\n",
              "      <th>lty_FD</th>\n",
              "    </tr>\n",
              "    <tr>\n",
              "      <th>yyyymm</th>\n",
              "      <th></th>\n",
              "      <th></th>\n",
              "      <th></th>\n",
              "      <th></th>\n",
              "      <th></th>\n",
              "      <th></th>\n",
              "      <th></th>\n",
              "      <th></th>\n",
              "      <th></th>\n",
              "      <th></th>\n",
              "      <th></th>\n",
              "      <th></th>\n",
              "      <th></th>\n",
              "      <th></th>\n",
              "      <th></th>\n",
              "    </tr>\n",
              "  </thead>\n",
              "  <tbody>\n",
              "    <tr>\n",
              "      <th>1945-12-01</th>\n",
              "      <td>0.025525</td>\n",
              "      <td>0.005525</td>\n",
              "      <td>0.0194</td>\n",
              "      <td>0.0133</td>\n",
              "      <td>0.001538</td>\n",
              "      <td>-3.269684</td>\n",
              "      <td>-3.337063</td>\n",
              "      <td>-2.894991</td>\n",
              "      <td>-0.374693</td>\n",
              "      <td>0.0161</td>\n",
              "      <td>0.0049</td>\n",
              "      <td>-0.0061</td>\n",
              "      <td>-0.216009</td>\n",
              "      <td>-2.99635</td>\n",
              "      <td>-1.507835</td>\n",
              "    </tr>\n",
              "    <tr>\n",
              "      <th>1946-01-01</th>\n",
              "      <td>0.027969</td>\n",
              "      <td>0.000000</td>\n",
              "      <td>0.0025</td>\n",
              "      <td>0.0128</td>\n",
              "      <td>0.002645</td>\n",
              "      <td>-3.327012</td>\n",
              "      <td>-3.255014</td>\n",
              "      <td>-2.983423</td>\n",
              "      <td>-0.343589</td>\n",
              "      <td>0.0161</td>\n",
              "      <td>0.0047</td>\n",
              "      <td>0.0103</td>\n",
              "      <td>-0.264780</td>\n",
              "      <td>-2.99635</td>\n",
              "      <td>-1.486065</td>\n",
              "    </tr>\n",
              "    <tr>\n",
              "      <th>1946-02-01</th>\n",
              "      <td>0.031091</td>\n",
              "      <td>-0.005495</td>\n",
              "      <td>0.0032</td>\n",
              "      <td>0.0034</td>\n",
              "      <td>0.005942</td>\n",
              "      <td>-3.245065</td>\n",
              "      <td>-3.290322</td>\n",
              "      <td>-2.932931</td>\n",
              "      <td>-0.312134</td>\n",
              "      <td>0.0160</td>\n",
              "      <td>0.0047</td>\n",
              "      <td>0.0002</td>\n",
              "      <td>-0.167204</td>\n",
              "      <td>-2.99635</td>\n",
              "      <td>-1.481915</td>\n",
              "    </tr>\n",
              "    <tr>\n",
              "      <th>1946-03-01</th>\n",
              "      <td>0.031188</td>\n",
              "      <td>0.011050</td>\n",
              "      <td>0.0010</td>\n",
              "      <td>0.0034</td>\n",
              "      <td>0.001497</td>\n",
              "      <td>-3.280469</td>\n",
              "      <td>-3.317389</td>\n",
              "      <td>-3.000167</td>\n",
              "      <td>-0.280302</td>\n",
              "      <td>0.0160</td>\n",
              "      <td>0.0047</td>\n",
              "      <td>0.0024</td>\n",
              "      <td>-0.190201</td>\n",
              "      <td>-2.99635</td>\n",
              "      <td>-1.474585</td>\n",
              "    </tr>\n",
              "    <tr>\n",
              "      <th>1946-04-01</th>\n",
              "      <td>0.031307</td>\n",
              "      <td>0.005464</td>\n",
              "      <td>-0.0135</td>\n",
              "      <td>-0.0043</td>\n",
              "      <td>0.001078</td>\n",
              "      <td>-3.317389</td>\n",
              "      <td>-3.339531</td>\n",
              "      <td>-3.059560</td>\n",
              "      <td>-0.257829</td>\n",
              "      <td>0.0169</td>\n",
              "      <td>0.0050</td>\n",
              "      <td>0.0092</td>\n",
              "      <td>-0.222940</td>\n",
              "      <td>-2.99635</td>\n",
              "      <td>-1.425691</td>\n",
              "    </tr>\n",
              "  </tbody>\n",
              "</table>\n",
              "</div>\n",
              "      <button class=\"colab-df-convert\" onclick=\"convertToInteractive('df-23f28a8c-bca2-4b5c-8eab-fdd6ac049f2f')\"\n",
              "              title=\"Convert this dataframe to an interactive table.\"\n",
              "              style=\"display:none;\">\n",
              "        \n",
              "  <svg xmlns=\"http://www.w3.org/2000/svg\" height=\"24px\"viewBox=\"0 0 24 24\"\n",
              "       width=\"24px\">\n",
              "    <path d=\"M0 0h24v24H0V0z\" fill=\"none\"/>\n",
              "    <path d=\"M18.56 5.44l.94 2.06.94-2.06 2.06-.94-2.06-.94-.94-2.06-.94 2.06-2.06.94zm-11 1L8.5 8.5l.94-2.06 2.06-.94-2.06-.94L8.5 2.5l-.94 2.06-2.06.94zm10 10l.94 2.06.94-2.06 2.06-.94-2.06-.94-.94-2.06-.94 2.06-2.06.94z\"/><path d=\"M17.41 7.96l-1.37-1.37c-.4-.4-.92-.59-1.43-.59-.52 0-1.04.2-1.43.59L10.3 9.45l-7.72 7.72c-.78.78-.78 2.05 0 2.83L4 21.41c.39.39.9.59 1.41.59.51 0 1.02-.2 1.41-.59l7.78-7.78 2.81-2.81c.8-.78.8-2.07 0-2.86zM5.41 20L4 18.59l7.72-7.72 1.47 1.35L5.41 20z\"/>\n",
              "  </svg>\n",
              "      </button>\n",
              "      \n",
              "  <style>\n",
              "    .colab-df-container {\n",
              "      display:flex;\n",
              "      flex-wrap:wrap;\n",
              "      gap: 12px;\n",
              "    }\n",
              "\n",
              "    .colab-df-convert {\n",
              "      background-color: #E8F0FE;\n",
              "      border: none;\n",
              "      border-radius: 50%;\n",
              "      cursor: pointer;\n",
              "      display: none;\n",
              "      fill: #1967D2;\n",
              "      height: 32px;\n",
              "      padding: 0 0 0 0;\n",
              "      width: 32px;\n",
              "    }\n",
              "\n",
              "    .colab-df-convert:hover {\n",
              "      background-color: #E2EBFA;\n",
              "      box-shadow: 0px 1px 2px rgba(60, 64, 67, 0.3), 0px 1px 3px 1px rgba(60, 64, 67, 0.15);\n",
              "      fill: #174EA6;\n",
              "    }\n",
              "\n",
              "    [theme=dark] .colab-df-convert {\n",
              "      background-color: #3B4455;\n",
              "      fill: #D2E3FC;\n",
              "    }\n",
              "\n",
              "    [theme=dark] .colab-df-convert:hover {\n",
              "      background-color: #434B5C;\n",
              "      box-shadow: 0px 1px 3px 1px rgba(0, 0, 0, 0.15);\n",
              "      filter: drop-shadow(0px 1px 2px rgba(0, 0, 0, 0.3));\n",
              "      fill: #FFFFFF;\n",
              "    }\n",
              "  </style>\n",
              "\n",
              "      <script>\n",
              "        const buttonEl =\n",
              "          document.querySelector('#df-23f28a8c-bca2-4b5c-8eab-fdd6ac049f2f button.colab-df-convert');\n",
              "        buttonEl.style.display =\n",
              "          google.colab.kernel.accessAllowed ? 'block' : 'none';\n",
              "\n",
              "        async function convertToInteractive(key) {\n",
              "          const element = document.querySelector('#df-23f28a8c-bca2-4b5c-8eab-fdd6ac049f2f');\n",
              "          const dataTable =\n",
              "            await google.colab.kernel.invokeFunction('convertToInteractive',\n",
              "                                                     [key], {});\n",
              "          if (!dataTable) return;\n",
              "\n",
              "          const docLinkHtml = 'Like what you see? Visit the ' +\n",
              "            '<a target=\"_blank\" href=https://colab.research.google.com/notebooks/data_table.ipynb>data table notebook</a>'\n",
              "            + ' to learn more about interactive tables.';\n",
              "          element.innerHTML = '';\n",
              "          dataTable['output_type'] = 'display_data';\n",
              "          await google.colab.output.renderOutput(dataTable, element);\n",
              "          const docLink = document.createElement('div');\n",
              "          docLink.innerHTML = docLinkHtml;\n",
              "          element.appendChild(docLink);\n",
              "        }\n",
              "      </script>\n",
              "    </div>\n",
              "  </div>\n",
              "  "
            ]
          },
          "metadata": {},
          "execution_count": 5
        }
      ],
      "source": [
        "w8_files = \"/content/drive/My Drive/Colab_Notebooks/MSDS-451/W8\"\n",
        "\n",
        "X = pd.read_csv(w8_files+\"/S_P_mnthly_returns_input-3.csv\")\n",
        "Y = pd.read_csv(w8_files+\"/S_P_mnthly_returns_output-3.csv\")\n",
        "\n",
        "X.set_index('yyyymm', inplace=True)\n",
        "Y.set_index('yyyymm', inplace=True)\n",
        "#y = Y.iloc[:,0] \n",
        "# why so float64 ????????\n",
        "#y = y.astype('float64')\n",
        "\n",
        "print(X.shape)\n",
        "X.head()\n"
      ]
    },
    {
      "cell_type": "code",
      "source": [
        "print(Y.shape)\n",
        "Y.head()"
      ],
      "metadata": {
        "colab": {
          "base_uri": "https://localhost:8080/",
          "height": 255
        },
        "id": "EtJteTwiLviG",
        "outputId": "a0b1c2be-f9f1-4a2a-c59c-872e38c6197d"
      },
      "execution_count": 6,
      "outputs": [
        {
          "output_type": "stream",
          "name": "stdout",
          "text": [
            "(888, 1)\n"
          ]
        },
        {
          "output_type": "execute_result",
          "data": {
            "text/plain": [
              "            ret\n",
              "yyyymm         \n",
              "1945-12-01  1.0\n",
              "1946-01-01 -1.0\n",
              "1946-02-01  1.0\n",
              "1946-03-01  1.0\n",
              "1946-04-01  1.0"
            ],
            "text/html": [
              "\n",
              "  <div id=\"df-d921ea1d-b932-4e54-bb5a-fabdd8a17597\">\n",
              "    <div class=\"colab-df-container\">\n",
              "      <div>\n",
              "<style scoped>\n",
              "    .dataframe tbody tr th:only-of-type {\n",
              "        vertical-align: middle;\n",
              "    }\n",
              "\n",
              "    .dataframe tbody tr th {\n",
              "        vertical-align: top;\n",
              "    }\n",
              "\n",
              "    .dataframe thead th {\n",
              "        text-align: right;\n",
              "    }\n",
              "</style>\n",
              "<table border=\"1\" class=\"dataframe\">\n",
              "  <thead>\n",
              "    <tr style=\"text-align: right;\">\n",
              "      <th></th>\n",
              "      <th>ret</th>\n",
              "    </tr>\n",
              "    <tr>\n",
              "      <th>yyyymm</th>\n",
              "      <th></th>\n",
              "    </tr>\n",
              "  </thead>\n",
              "  <tbody>\n",
              "    <tr>\n",
              "      <th>1945-12-01</th>\n",
              "      <td>1.0</td>\n",
              "    </tr>\n",
              "    <tr>\n",
              "      <th>1946-01-01</th>\n",
              "      <td>-1.0</td>\n",
              "    </tr>\n",
              "    <tr>\n",
              "      <th>1946-02-01</th>\n",
              "      <td>1.0</td>\n",
              "    </tr>\n",
              "    <tr>\n",
              "      <th>1946-03-01</th>\n",
              "      <td>1.0</td>\n",
              "    </tr>\n",
              "    <tr>\n",
              "      <th>1946-04-01</th>\n",
              "      <td>1.0</td>\n",
              "    </tr>\n",
              "  </tbody>\n",
              "</table>\n",
              "</div>\n",
              "      <button class=\"colab-df-convert\" onclick=\"convertToInteractive('df-d921ea1d-b932-4e54-bb5a-fabdd8a17597')\"\n",
              "              title=\"Convert this dataframe to an interactive table.\"\n",
              "              style=\"display:none;\">\n",
              "        \n",
              "  <svg xmlns=\"http://www.w3.org/2000/svg\" height=\"24px\"viewBox=\"0 0 24 24\"\n",
              "       width=\"24px\">\n",
              "    <path d=\"M0 0h24v24H0V0z\" fill=\"none\"/>\n",
              "    <path d=\"M18.56 5.44l.94 2.06.94-2.06 2.06-.94-2.06-.94-.94-2.06-.94 2.06-2.06.94zm-11 1L8.5 8.5l.94-2.06 2.06-.94-2.06-.94L8.5 2.5l-.94 2.06-2.06.94zm10 10l.94 2.06.94-2.06 2.06-.94-2.06-.94-.94-2.06-.94 2.06-2.06.94z\"/><path d=\"M17.41 7.96l-1.37-1.37c-.4-.4-.92-.59-1.43-.59-.52 0-1.04.2-1.43.59L10.3 9.45l-7.72 7.72c-.78.78-.78 2.05 0 2.83L4 21.41c.39.39.9.59 1.41.59.51 0 1.02-.2 1.41-.59l7.78-7.78 2.81-2.81c.8-.78.8-2.07 0-2.86zM5.41 20L4 18.59l7.72-7.72 1.47 1.35L5.41 20z\"/>\n",
              "  </svg>\n",
              "      </button>\n",
              "      \n",
              "  <style>\n",
              "    .colab-df-container {\n",
              "      display:flex;\n",
              "      flex-wrap:wrap;\n",
              "      gap: 12px;\n",
              "    }\n",
              "\n",
              "    .colab-df-convert {\n",
              "      background-color: #E8F0FE;\n",
              "      border: none;\n",
              "      border-radius: 50%;\n",
              "      cursor: pointer;\n",
              "      display: none;\n",
              "      fill: #1967D2;\n",
              "      height: 32px;\n",
              "      padding: 0 0 0 0;\n",
              "      width: 32px;\n",
              "    }\n",
              "\n",
              "    .colab-df-convert:hover {\n",
              "      background-color: #E2EBFA;\n",
              "      box-shadow: 0px 1px 2px rgba(60, 64, 67, 0.3), 0px 1px 3px 1px rgba(60, 64, 67, 0.15);\n",
              "      fill: #174EA6;\n",
              "    }\n",
              "\n",
              "    [theme=dark] .colab-df-convert {\n",
              "      background-color: #3B4455;\n",
              "      fill: #D2E3FC;\n",
              "    }\n",
              "\n",
              "    [theme=dark] .colab-df-convert:hover {\n",
              "      background-color: #434B5C;\n",
              "      box-shadow: 0px 1px 3px 1px rgba(0, 0, 0, 0.15);\n",
              "      filter: drop-shadow(0px 1px 2px rgba(0, 0, 0, 0.3));\n",
              "      fill: #FFFFFF;\n",
              "    }\n",
              "  </style>\n",
              "\n",
              "      <script>\n",
              "        const buttonEl =\n",
              "          document.querySelector('#df-d921ea1d-b932-4e54-bb5a-fabdd8a17597 button.colab-df-convert');\n",
              "        buttonEl.style.display =\n",
              "          google.colab.kernel.accessAllowed ? 'block' : 'none';\n",
              "\n",
              "        async function convertToInteractive(key) {\n",
              "          const element = document.querySelector('#df-d921ea1d-b932-4e54-bb5a-fabdd8a17597');\n",
              "          const dataTable =\n",
              "            await google.colab.kernel.invokeFunction('convertToInteractive',\n",
              "                                                     [key], {});\n",
              "          if (!dataTable) return;\n",
              "\n",
              "          const docLinkHtml = 'Like what you see? Visit the ' +\n",
              "            '<a target=\"_blank\" href=https://colab.research.google.com/notebooks/data_table.ipynb>data table notebook</a>'\n",
              "            + ' to learn more about interactive tables.';\n",
              "          element.innerHTML = '';\n",
              "          dataTable['output_type'] = 'display_data';\n",
              "          await google.colab.output.renderOutput(dataTable, element);\n",
              "          const docLink = document.createElement('div');\n",
              "          docLink.innerHTML = docLinkHtml;\n",
              "          element.appendChild(docLink);\n",
              "        }\n",
              "      </script>\n",
              "    </div>\n",
              "  </div>\n",
              "  "
            ]
          },
          "metadata": {},
          "execution_count": 6
        }
      ]
    },
    {
      "cell_type": "code",
      "source": [
        "SPY_data = pd.read_csv(w8_files+ \"/SPY.csv\")\n",
        "SPY_data.head(2)"
      ],
      "metadata": {
        "colab": {
          "base_uri": "https://localhost:8080/",
          "height": 112
        },
        "id": "YGAnmPIpLT6L",
        "outputId": "274e47e2-7af8-4fa8-b66b-7bfe650f1dd3"
      },
      "execution_count": 7,
      "outputs": [
        {
          "output_type": "execute_result",
          "data": {
            "text/plain": [
              "         Date      Open      High       Low     Close  Adj Close   Volume\n",
              "0  1993-02-01  43.96875  45.12500  42.81250  44.40625  26.160336  5417600\n",
              "1  1993-03-01  44.56250  45.84375  44.21875  45.18750  26.620569  3019200"
            ],
            "text/html": [
              "\n",
              "  <div id=\"df-50207ca4-0921-4274-b4ad-5d8c45a66dfd\">\n",
              "    <div class=\"colab-df-container\">\n",
              "      <div>\n",
              "<style scoped>\n",
              "    .dataframe tbody tr th:only-of-type {\n",
              "        vertical-align: middle;\n",
              "    }\n",
              "\n",
              "    .dataframe tbody tr th {\n",
              "        vertical-align: top;\n",
              "    }\n",
              "\n",
              "    .dataframe thead th {\n",
              "        text-align: right;\n",
              "    }\n",
              "</style>\n",
              "<table border=\"1\" class=\"dataframe\">\n",
              "  <thead>\n",
              "    <tr style=\"text-align: right;\">\n",
              "      <th></th>\n",
              "      <th>Date</th>\n",
              "      <th>Open</th>\n",
              "      <th>High</th>\n",
              "      <th>Low</th>\n",
              "      <th>Close</th>\n",
              "      <th>Adj Close</th>\n",
              "      <th>Volume</th>\n",
              "    </tr>\n",
              "  </thead>\n",
              "  <tbody>\n",
              "    <tr>\n",
              "      <th>0</th>\n",
              "      <td>1993-02-01</td>\n",
              "      <td>43.96875</td>\n",
              "      <td>45.12500</td>\n",
              "      <td>42.81250</td>\n",
              "      <td>44.40625</td>\n",
              "      <td>26.160336</td>\n",
              "      <td>5417600</td>\n",
              "    </tr>\n",
              "    <tr>\n",
              "      <th>1</th>\n",
              "      <td>1993-03-01</td>\n",
              "      <td>44.56250</td>\n",
              "      <td>45.84375</td>\n",
              "      <td>44.21875</td>\n",
              "      <td>45.18750</td>\n",
              "      <td>26.620569</td>\n",
              "      <td>3019200</td>\n",
              "    </tr>\n",
              "  </tbody>\n",
              "</table>\n",
              "</div>\n",
              "      <button class=\"colab-df-convert\" onclick=\"convertToInteractive('df-50207ca4-0921-4274-b4ad-5d8c45a66dfd')\"\n",
              "              title=\"Convert this dataframe to an interactive table.\"\n",
              "              style=\"display:none;\">\n",
              "        \n",
              "  <svg xmlns=\"http://www.w3.org/2000/svg\" height=\"24px\"viewBox=\"0 0 24 24\"\n",
              "       width=\"24px\">\n",
              "    <path d=\"M0 0h24v24H0V0z\" fill=\"none\"/>\n",
              "    <path d=\"M18.56 5.44l.94 2.06.94-2.06 2.06-.94-2.06-.94-.94-2.06-.94 2.06-2.06.94zm-11 1L8.5 8.5l.94-2.06 2.06-.94-2.06-.94L8.5 2.5l-.94 2.06-2.06.94zm10 10l.94 2.06.94-2.06 2.06-.94-2.06-.94-.94-2.06-.94 2.06-2.06.94z\"/><path d=\"M17.41 7.96l-1.37-1.37c-.4-.4-.92-.59-1.43-.59-.52 0-1.04.2-1.43.59L10.3 9.45l-7.72 7.72c-.78.78-.78 2.05 0 2.83L4 21.41c.39.39.9.59 1.41.59.51 0 1.02-.2 1.41-.59l7.78-7.78 2.81-2.81c.8-.78.8-2.07 0-2.86zM5.41 20L4 18.59l7.72-7.72 1.47 1.35L5.41 20z\"/>\n",
              "  </svg>\n",
              "      </button>\n",
              "      \n",
              "  <style>\n",
              "    .colab-df-container {\n",
              "      display:flex;\n",
              "      flex-wrap:wrap;\n",
              "      gap: 12px;\n",
              "    }\n",
              "\n",
              "    .colab-df-convert {\n",
              "      background-color: #E8F0FE;\n",
              "      border: none;\n",
              "      border-radius: 50%;\n",
              "      cursor: pointer;\n",
              "      display: none;\n",
              "      fill: #1967D2;\n",
              "      height: 32px;\n",
              "      padding: 0 0 0 0;\n",
              "      width: 32px;\n",
              "    }\n",
              "\n",
              "    .colab-df-convert:hover {\n",
              "      background-color: #E2EBFA;\n",
              "      box-shadow: 0px 1px 2px rgba(60, 64, 67, 0.3), 0px 1px 3px 1px rgba(60, 64, 67, 0.15);\n",
              "      fill: #174EA6;\n",
              "    }\n",
              "\n",
              "    [theme=dark] .colab-df-convert {\n",
              "      background-color: #3B4455;\n",
              "      fill: #D2E3FC;\n",
              "    }\n",
              "\n",
              "    [theme=dark] .colab-df-convert:hover {\n",
              "      background-color: #434B5C;\n",
              "      box-shadow: 0px 1px 3px 1px rgba(0, 0, 0, 0.15);\n",
              "      filter: drop-shadow(0px 1px 2px rgba(0, 0, 0, 0.3));\n",
              "      fill: #FFFFFF;\n",
              "    }\n",
              "  </style>\n",
              "\n",
              "      <script>\n",
              "        const buttonEl =\n",
              "          document.querySelector('#df-50207ca4-0921-4274-b4ad-5d8c45a66dfd button.colab-df-convert');\n",
              "        buttonEl.style.display =\n",
              "          google.colab.kernel.accessAllowed ? 'block' : 'none';\n",
              "\n",
              "        async function convertToInteractive(key) {\n",
              "          const element = document.querySelector('#df-50207ca4-0921-4274-b4ad-5d8c45a66dfd');\n",
              "          const dataTable =\n",
              "            await google.colab.kernel.invokeFunction('convertToInteractive',\n",
              "                                                     [key], {});\n",
              "          if (!dataTable) return;\n",
              "\n",
              "          const docLinkHtml = 'Like what you see? Visit the ' +\n",
              "            '<a target=\"_blank\" href=https://colab.research.google.com/notebooks/data_table.ipynb>data table notebook</a>'\n",
              "            + ' to learn more about interactive tables.';\n",
              "          element.innerHTML = '';\n",
              "          dataTable['output_type'] = 'display_data';\n",
              "          await google.colab.output.renderOutput(dataTable, element);\n",
              "          const docLink = document.createElement('div');\n",
              "          docLink.innerHTML = docLinkHtml;\n",
              "          element.appendChild(docLink);\n",
              "        }\n",
              "      </script>\n",
              "    </div>\n",
              "  </div>\n",
              "  "
            ]
          },
          "metadata": {},
          "execution_count": 7
        }
      ]
    },
    {
      "cell_type": "markdown",
      "metadata": {
        "id": "xt5M7lRrynwO"
      },
      "source": [
        "# Functions (from Scott)"
      ]
    },
    {
      "cell_type": "code",
      "source": [
        "\n",
        "#---------------------------------------------------\n",
        "def clusterKMeansBase_0(corr0,maxNumClusters,n_init,seed):\n",
        "    x,silh=((1-corr0.fillna(0))/2.)**.5,pd.Series()# observations matrix\n",
        "    for init in range(1,n_init):\n",
        "        for i in range(2,maxNumClusters+1):\n",
        "            kmeans_=KMeans(n_clusters=i,n_jobs=1,n_init=n_init,random_state=seed)\n",
        "            kmeans_=kmeans_.fit(x)\n",
        "            silh_=silhouette_samples(x,kmeans_.labels_)\n",
        "            stat=(silh_.mean()/silh_.std(),silh.mean()/silh.std())\n",
        "            if np.isnan(stat[1]) or stat[0]>stat[1]:\n",
        "                silh,kmeans=silh_,kmeans_\n",
        "    newIdx=np.argsort(kmeans.labels_)\n",
        "    corr1=corr0.iloc[newIdx] # reorder rows\n",
        "    corr1=corr1.iloc[:,newIdx] # reorder columns\n",
        "    clstrs={i:corr0.columns[np.where(kmeans.labels_==i)[0]].tolist() \\\n",
        "        for i in np.unique(kmeans.labels_) } # cluster members\n",
        "    silh=pd.Series(silh,index=x.index)\n",
        "    return corr1,clstrs,silh\n",
        "#---------------------------------------------------\n",
        "def clusterKMeansBase(corr0):\n",
        "    x,silh=((1-corr0.fillna(0))/2.)**.5,pd.Series()# observations matrix \n",
        "    #x,silh=(1-(corr0.fillna(0))**2)**.5,pd.Series()# observations matrix \n",
        "    #kmeans_=AgglomerativeClustering(affinity='precomputed',linkage='average')\n",
        "    maxNumClusters = int(corr0.shape[1]/5)\n",
        "    for i in range(2,maxNumClusters+1):\n",
        "        kmeans_=AgglomerativeClustering(n_clusters=i, affinity='precomputed',linkage='average')\n",
        "        kmeans=kmeans_.fit(x)\n",
        "        silh_=silhouette_samples(x,kmeans_.labels_)\n",
        "        stat=(silh_.mean()/silh_.std(),silh.mean()/silh.std())\n",
        "        if np.isnan(stat[1]) or stat[0]>stat[1]:\n",
        "            silh,kmeans=silh_,kmeans_\n",
        "    newIdx=np.argsort(kmeans.labels_)\n",
        "    corr1=corr0.iloc[newIdx] # reorder rows\n",
        "    corr1=corr1.iloc[:,newIdx] # reorder columns\n",
        "    clstrs={i:corr0.columns[np.where(kmeans.labels_==i)[0]].tolist() \\\n",
        "        for i in np.unique(kmeans.labels_) } # cluster members\n",
        "    silh=pd.Series(silh,index=x.index)\n",
        "    return corr1,clstrs,silh\n",
        "#---------------------------------------------------\n",
        "def clusterKMeansTop_0(corr0):\n",
        "    corr1,clstrs,silh=clusterKMeansBase(corr0)\n",
        "    clusterTstats={i:np.mean(silh[clstrs[i]])/ \\\n",
        "        np.std(silh[clstrs[i]]) for i in clstrs.keys() if len(clstrs[i])>1}\n",
        "    tStatMean=sum(np.array(list(clusterTstats.values())))/len(clusterTstats)\n",
        "    redoClusters=[i for i in clusterTstats.keys() if \\\n",
        "        clusterTstats[i]<tStatMean]\n",
        "    if len(redoClusters)<=1:\n",
        "        return corr1,clstrs,silh\n",
        "    else:\n",
        "        keysRedo=[j for i in redoClusters for j in clstrs[i]]\n",
        "        corrTmp=corr0.loc[keysRedo,keysRedo]\n",
        "        tStatMean=np.mean([clusterTstats[i] for i in redoClusters])\n",
        "        corr2,clstrs2,silh2=clusterKMeansTop(corrTmp)\n",
        "        # Make new outputs, if necessary\n",
        "        corrNew,clstrsNew,silhNew=makeNewOutputs(corr0, \\\n",
        "            {i:clstrs[i] for i in clstrs.keys() if i not in redoClusters}, \\\n",
        "            clstrs2)\n",
        "        newTstatMean=np.mean([np.mean(silhNew[clstrsNew[i]])/ \\\n",
        "            np.std(silhNew[clstrsNew[i]]) for i in clstrsNew.keys() if len(clstrsNew[i])>1])\n",
        "        if newTstatMean<=tStatMean:\n",
        "            return corr1,clstrs,silh\n",
        "        else:\n",
        "            return corrNew,clstrsNew,silhNew\n",
        "#---------------------------------------------------\n",
        "def makeNewOutputs(corr0,clstrs,clstrs2):\n",
        "    clstrsNew={}\n",
        "    for i in clstrs.keys():\n",
        "        clstrsNew[len(clstrsNew.keys())]=list(clstrs[i])\n",
        "    for i in clstrs2.keys():\n",
        "        clstrsNew[len(clstrsNew.keys())]=list(clstrs2[i])\n",
        "    newIdx=[j for i in clstrsNew for j in clstrsNew[i]]\n",
        "    corrNew=corr0.loc[newIdx,newIdx]\n",
        "    x=((1-corr0.fillna(0))/2.)**.5\n",
        "    kmeans_labels=np.zeros(len(x.columns))\n",
        "    for i in clstrsNew.keys():\n",
        "        idxs=[x.index.get_loc(k) for k in clstrsNew[i]]\n",
        "        kmeans_labels[idxs]=i\n",
        "    silhNew=pd.Series(silhouette_samples(x,kmeans_labels),index=x.index)\n",
        "    return corrNew,clstrsNew,silhNew\n",
        "#---------------------------------------------------\n",
        "def clusterKMeansTop_0(corr0,maxNumClusters,n_init):\n",
        "    if maxNumClusters==None:maxNumClusters=corr0.shape[1]-1\n",
        "    corr1,clstrs,silh=clusterKMeansBase_0(corr0,maxNumClusters= \\\n",
        "        min(maxNumClusters,corr0.shape[1]-1),n_init=n_init)\n",
        "    clusterTstats={i:np.mean(silh[clstrs[i]])/ \\\n",
        "        np.std(silh[clstrs[i]]) for i in clstrs.keys()}\n",
        "    tStatMean=sum(clusterTstats.values())/len(clusterTstats)\n",
        "    redoClusters=[i for i in clusterTstats.keys() if \\\n",
        "        clusterTstats[i]<tStatMean]\n",
        "    if len(redoClusters)<=1:\n",
        "        return corr1,clstrs,silh\n",
        "    else:\n",
        "        keysRedo=[j for i in redoClusters for j in clstrs[i]]\n",
        "        corrTmp=corr0.loc[keysRedo,keysRedo]\n",
        "        tStatMean=np.mean([clusterTstats[i] for i in redoClusters])\n",
        "        corr2,clstrs2,silh2=clusterKMeansTop(corrTmp, \\\n",
        "            maxNumClusters=min(maxNumClusters, \\\n",
        "            corrTmp.shape[1]-1),n_init=n_init)\n",
        "        # Make new outputs, if necessary\n",
        "        corrNew,clstrsNew,silhNew=makeNewOutputs(corr0, \\\n",
        "            {i:clstrs[i] for i in clstrs.keys() if i not in redoClusters}, \\\n",
        "            clstrs2)\n",
        "        newTstatMean=np.mean([np.mean(silhNew[clstrsNew[i]])/ \\\n",
        "            np.std(silhNew[clstrsNew[i]]) for i in clstrsNew.keys()])\n",
        "        if newTstatMean<=tStatMean:\n",
        "            return corr1,clstrs,silh\n",
        "        else:\n",
        "            return corrNew,clstrsNew,silhNew\n",
        "#---------------------------------------------------\n",
        "def clusterKMeansTop(corr0):\n",
        "    corr1,clstrs,silh=clusterKMeansBase(corr0)\n",
        "    clusterTstats={i:np.mean(silh[clstrs[i]])/ \\\n",
        "        np.std(silh[clstrs[i]]) for i in clstrs.keys() if len(clstrs[i])>1}\n",
        "    tStatMean=sum(np.array(list(clusterTstats.values())))/len(clusterTstats)\n",
        "    redoClusters=[i for i in clusterTstats.keys() if \\\n",
        "        clusterTstats[i]<tStatMean]\n",
        "    if len(redoClusters)<=1:\n",
        "        return corr1,clstrs,silh\n",
        "    else:\n",
        "        keysRedo=[j for i in redoClusters for j in clstrs[i]]\n",
        "        corrTmp=corr0.loc[keysRedo,keysRedo]\n",
        "        tStatMean=np.mean([clusterTstats[i] for i in redoClusters])\n",
        "        corr2,clstrs2,silh2=clusterKMeansTop(corrTmp)\n",
        "        # Make new outputs, if necessary\n",
        "        corrNew,clstrsNew,silhNew=makeNewOutputs(corr0, \\\n",
        "            {i:clstrs[i] for i in clstrs.keys() if i not in redoClusters}, \\\n",
        "            clstrs2)\n",
        "        newTstatMean=np.mean([np.mean(silhNew[clstrsNew[i]])/ \\\n",
        "            np.std(silhNew[clstrsNew[i]]) for i in clstrsNew.keys() if len(clstrsNew[i])>1])\n",
        "        if newTstatMean<=tStatMean:\n",
        "            return corr1,clstrs,silh\n",
        "        else:\n",
        "            return corrNew,clstrsNew,silhNew\n",
        "#---------------------------------------------------\n",
        "def groupMeanStd(df0,clstrs):\n",
        "    out=pd.DataFrame(columns=['mean','std'])\n",
        "    for i,j in clstrs.iteritems():\n",
        "        df1=df0[j].sum(axis=1)\n",
        "        out.loc['C_'+str(i),'mean']=df1.mean()\n",
        "        out.loc['C_'+str(i),'std']=df1.std()*df1.shape[0]**-.5\n",
        "    return out\n",
        "#------------------------------------------------------\n",
        "def featImpMDA_Clustered_ldp(clf,X,y,clstrs,n_splits=10):\n",
        "    cvGen=KFold(n_splits=n_splits)\n",
        "    scr0,scr1=pd.Series(),pd.DataFrame(columns=clstrs.keys())\n",
        "    for i,(train,test) in enumerate(cvGen.split(X=X)):\n",
        "        X0,y0=X.iloc[train,:],y[train]\n",
        "        X1,y1=X.iloc[test,:],y[test]\n",
        "        fit=clf.fit(X=X0,y=y0)\n",
        "        prob=fit.predict_proba(X1)\n",
        "        scr0.loc[i]=-log_loss(y1,prob,labels=clf.classes_)\n",
        "        for j in scr1.columns:\n",
        "            X1_=X1.copy(deep=True)\n",
        "            for k in clstrs[j]:\n",
        "                np.random.shuffle(X1_[k].values) # shuffle cluster\n",
        "            prob=fit.predict_proba(X1_)\n",
        "            scr1.loc[i,j]=-log_loss(y1,prob,labels=clf.classes_)\n",
        "    imp=(-1*scr1).add(scr0,axis=0)\n",
        "    imp=imp/(-1*scr1)\n",
        "    imp=pd.concat({'mean':imp.mean(),'std':imp.std()*imp.shape[0]**-.5},axis=1)\n",
        "    imp.index=['C_'+str(i) for i in imp.index]\n",
        "    return imp\n",
        "#------------------------------------------------------\n",
        "def featImpMDA_Clustered(clf,X_valid,y_valid,clstrs,n_iterations=100):\n",
        "    mda_df = []\n",
        "    n_class = len(set(y_valid))\n",
        "    if n_class < 2:\n",
        "        raise ValueError(f'The number of classes for target variable is {n_class}')\n",
        "    for i in tqdm(range(n_iterations)):\n",
        "        mda_scores = {}\n",
        "        if n_class == 2:\n",
        "            acc = roc_auc_score(y_valid, clf.predict_proba(X_valid)[:,1])\n",
        "        elif n_class > 2:\n",
        "            acc = r2_score(y_valid, clf.predict(X_valid))\n",
        "        for j in clstrs.keys():\n",
        "            X_t = X_valid.copy()\n",
        "            for k in clstrs[j]:\n",
        "                np.random.shuffle(X_t[k].values)\n",
        "            if n_class == 2:\n",
        "                shuff_acc = roc_auc_score(y_valid, clf.predict_proba(X_t)[:,1])\n",
        "            elif n_class > 2:\n",
        "                shuff_acc = r2_score(y_valid, clf.predict(X_t))\n",
        "            mda_scores[f'C_{j}'] = (acc-shuff_acc)/acc\n",
        "        mda_df.append(pd.DataFrame(mda_scores,index=[0]).T)\n",
        "    mda_df = pd.concat(mda_df,axis=1).T.reset_index(drop=True)\n",
        "    imp_sorted = new_score(mda_df,mda_df.shape[1])[1]\n",
        "    top_clusters = [int(c.split('_')[1]) for c in imp_sorted[imp_sorted>=np.mean(imp_sorted)].index]\n",
        "    selected_features = []\n",
        "    for indx in top_clusters:\n",
        "        selected_features += clstrs[indx]\n",
        "    return mda_df, selected_features, top_clusters, imp_sorted\n",
        "#-----------------------------------------------------\n",
        "def new_score(df,m0):\n",
        "    rank_df = df.copy()\n",
        "    for i in range(rank_df.shape[0]):\n",
        "        rank_df.iloc[i] = rank_df.iloc[i].rank(ascending=False,method='min')\n",
        "    top_features = rank_df.mean().sort_values()\n",
        "    top_scores = (1/top_features).head(int(m0))/sum(1/top_features)\n",
        "    return sum(top_scores), top_scores\n",
        "def new_criterion(df,m0):\n",
        "    rank_df = df.copy()\n",
        "    for i in range(rank_df.shape[0]):\n",
        "        rank_df.iloc[i] = rank_df.iloc[i].rank(ascending=False,method='min')\n",
        "    top_features = rank_df.mean().sort_values().head(int(m0))\n",
        "    return np.sqrt(rank_df[top_features.index].var().mean()), top_features, rank_df[top_features.index]"
      ],
      "metadata": {
        "id": "m3Ij7FXbEzvT"
      },
      "execution_count": 8,
      "outputs": []
    },
    {
      "cell_type": "markdown",
      "metadata": {
        "id": "ohl8TGrmanJz"
      },
      "source": [
        "# EDA"
      ]
    },
    {
      "cell_type": "code",
      "execution_count": 9,
      "metadata": {
        "id": "k_FunvIQbBQ5"
      },
      "outputs": [],
      "source": [
        "df_EDA = X.copy()"
      ]
    },
    {
      "cell_type": "code",
      "execution_count": 10,
      "metadata": {
        "colab": {
          "base_uri": "https://localhost:8080/"
        },
        "id": "rm4AgOXkaU39",
        "outputId": "1d4dce28-ea96-438e-a120-d72bc942219b"
      },
      "outputs": [
        {
          "output_type": "stream",
          "name": "stdout",
          "text": [
            "\n",
            "\n",
            " Duplicates 0\n"
          ]
        }
      ],
      "source": [
        "print(\"\\n\\n Duplicates\",df_EDA.duplicated().sum())\n",
        "#my_report = sv.analyze(df_EDA)\n",
        "#my_report.show_html()"
      ]
    },
    {
      "cell_type": "code",
      "execution_count": 11,
      "metadata": {
        "colab": {
          "base_uri": "https://localhost:8080/"
        },
        "id": "kbHU2tS_8yVM",
        "outputId": "6a0e84f4-f369-4666-9b85-3d63b41e4eb9"
      },
      "outputs": [
        {
          "output_type": "stream",
          "name": "stdout",
          "text": [
            "\n",
            "\n",
            " Missing Values before dropping/Imputing \n",
            " ntis      0\n",
            "infl      0\n",
            "ltr       0\n",
            "corpr     0\n",
            "svar      0\n",
            "d/p       0\n",
            "d/y       0\n",
            "e/p       0\n",
            "d/e       0\n",
            "tms       0\n",
            "dfy       0\n",
            "dfr       0\n",
            "b/m_FD    0\n",
            "tbl_FD    0\n",
            "lty_FD    0\n",
            "dtype: int64\n"
          ]
        }
      ],
      "source": [
        "print(\"\\n\\n Missing Values before dropping/Imputing \\n\",df_EDA.isna().sum())"
      ]
    },
    {
      "cell_type": "markdown",
      "metadata": {
        "id": "MIEIXXzxQX9e"
      },
      "source": [
        "# Question 1\n",
        "\n",
        "Set the random seed to 1. Apply the distance metric based on correlations to the features used in Modules 5-7 in predicting the sign of SPX monthly returns, and apply K-means clustering to those features, using an optimal number of clusters as defined in MLAM section 4.4.2. Use Snippet 4.1 in MLAM. How many clusters did you find? What are the top 2 clusters? (2 pt)"
      ]
    },
    {
      "cell_type": "code",
      "source": [
        "start_date = '2012-06-01'\n",
        "end_date = '2019-10-01'"
      ],
      "metadata": {
        "id": "m4ng71MnJW3J"
      },
      "execution_count": 12,
      "outputs": []
    },
    {
      "cell_type": "code",
      "source": [
        "import datetime\n",
        "SPY_data['Date']= pd.to_datetime(SPY_data['Date'])\n",
        "# Lets filter out the returns file with the date range we will be using for test data.\n",
        "SPY_data_test = SPY_data.loc[( SPY_data['Date'] >= datetime.datetime(2012, 6, 1) )]\n",
        "SPY_data_test = SPY_data_test.loc[( SPY_data['Date'] <= datetime.datetime(2019, 10, 1) )]"
      ],
      "metadata": {
        "id": "YYS2zNbCMrk5"
      },
      "execution_count": 13,
      "outputs": []
    },
    {
      "cell_type": "code",
      "source": [
        "SPY_data_test.set_index('Date', inplace=True)\n",
        "SPY_data_test.head()"
      ],
      "metadata": {
        "colab": {
          "base_uri": "https://localhost:8080/",
          "height": 238
        },
        "id": "OFGQMg1HM07a",
        "outputId": "3bb6a401-4163-4974-d78d-0563d6e908e7"
      },
      "execution_count": 14,
      "outputs": [
        {
          "output_type": "execute_result",
          "data": {
            "text/plain": [
              "                  Open        High         Low       Close   Adj Close      Volume\n",
              "Date                                                                              \n",
              "2012-06-01  129.410004  136.270004  127.139999  136.100006  114.001549  3644886200\n",
              "2012-07-01  136.479996  139.339996  132.600006  137.710007  115.947792  2864743300\n",
              "2012-08-01  138.699997  143.089996  135.580002  141.160004  118.852539  2413590900\n",
              "2012-09-01  141.039993  148.110001  140.130005  143.970001  121.218559  2391233500\n",
              "2012-10-01  144.520004  147.160004  140.389999  141.350006  119.647865  2719915500"
            ],
            "text/html": [
              "\n",
              "  <div id=\"df-9aa219d4-b3ea-47b0-a19e-4296c1594de4\">\n",
              "    <div class=\"colab-df-container\">\n",
              "      <div>\n",
              "<style scoped>\n",
              "    .dataframe tbody tr th:only-of-type {\n",
              "        vertical-align: middle;\n",
              "    }\n",
              "\n",
              "    .dataframe tbody tr th {\n",
              "        vertical-align: top;\n",
              "    }\n",
              "\n",
              "    .dataframe thead th {\n",
              "        text-align: right;\n",
              "    }\n",
              "</style>\n",
              "<table border=\"1\" class=\"dataframe\">\n",
              "  <thead>\n",
              "    <tr style=\"text-align: right;\">\n",
              "      <th></th>\n",
              "      <th>Open</th>\n",
              "      <th>High</th>\n",
              "      <th>Low</th>\n",
              "      <th>Close</th>\n",
              "      <th>Adj Close</th>\n",
              "      <th>Volume</th>\n",
              "    </tr>\n",
              "    <tr>\n",
              "      <th>Date</th>\n",
              "      <th></th>\n",
              "      <th></th>\n",
              "      <th></th>\n",
              "      <th></th>\n",
              "      <th></th>\n",
              "      <th></th>\n",
              "    </tr>\n",
              "  </thead>\n",
              "  <tbody>\n",
              "    <tr>\n",
              "      <th>2012-06-01</th>\n",
              "      <td>129.410004</td>\n",
              "      <td>136.270004</td>\n",
              "      <td>127.139999</td>\n",
              "      <td>136.100006</td>\n",
              "      <td>114.001549</td>\n",
              "      <td>3644886200</td>\n",
              "    </tr>\n",
              "    <tr>\n",
              "      <th>2012-07-01</th>\n",
              "      <td>136.479996</td>\n",
              "      <td>139.339996</td>\n",
              "      <td>132.600006</td>\n",
              "      <td>137.710007</td>\n",
              "      <td>115.947792</td>\n",
              "      <td>2864743300</td>\n",
              "    </tr>\n",
              "    <tr>\n",
              "      <th>2012-08-01</th>\n",
              "      <td>138.699997</td>\n",
              "      <td>143.089996</td>\n",
              "      <td>135.580002</td>\n",
              "      <td>141.160004</td>\n",
              "      <td>118.852539</td>\n",
              "      <td>2413590900</td>\n",
              "    </tr>\n",
              "    <tr>\n",
              "      <th>2012-09-01</th>\n",
              "      <td>141.039993</td>\n",
              "      <td>148.110001</td>\n",
              "      <td>140.130005</td>\n",
              "      <td>143.970001</td>\n",
              "      <td>121.218559</td>\n",
              "      <td>2391233500</td>\n",
              "    </tr>\n",
              "    <tr>\n",
              "      <th>2012-10-01</th>\n",
              "      <td>144.520004</td>\n",
              "      <td>147.160004</td>\n",
              "      <td>140.389999</td>\n",
              "      <td>141.350006</td>\n",
              "      <td>119.647865</td>\n",
              "      <td>2719915500</td>\n",
              "    </tr>\n",
              "  </tbody>\n",
              "</table>\n",
              "</div>\n",
              "      <button class=\"colab-df-convert\" onclick=\"convertToInteractive('df-9aa219d4-b3ea-47b0-a19e-4296c1594de4')\"\n",
              "              title=\"Convert this dataframe to an interactive table.\"\n",
              "              style=\"display:none;\">\n",
              "        \n",
              "  <svg xmlns=\"http://www.w3.org/2000/svg\" height=\"24px\"viewBox=\"0 0 24 24\"\n",
              "       width=\"24px\">\n",
              "    <path d=\"M0 0h24v24H0V0z\" fill=\"none\"/>\n",
              "    <path d=\"M18.56 5.44l.94 2.06.94-2.06 2.06-.94-2.06-.94-.94-2.06-.94 2.06-2.06.94zm-11 1L8.5 8.5l.94-2.06 2.06-.94-2.06-.94L8.5 2.5l-.94 2.06-2.06.94zm10 10l.94 2.06.94-2.06 2.06-.94-2.06-.94-.94-2.06-.94 2.06-2.06.94z\"/><path d=\"M17.41 7.96l-1.37-1.37c-.4-.4-.92-.59-1.43-.59-.52 0-1.04.2-1.43.59L10.3 9.45l-7.72 7.72c-.78.78-.78 2.05 0 2.83L4 21.41c.39.39.9.59 1.41.59.51 0 1.02-.2 1.41-.59l7.78-7.78 2.81-2.81c.8-.78.8-2.07 0-2.86zM5.41 20L4 18.59l7.72-7.72 1.47 1.35L5.41 20z\"/>\n",
              "  </svg>\n",
              "      </button>\n",
              "      \n",
              "  <style>\n",
              "    .colab-df-container {\n",
              "      display:flex;\n",
              "      flex-wrap:wrap;\n",
              "      gap: 12px;\n",
              "    }\n",
              "\n",
              "    .colab-df-convert {\n",
              "      background-color: #E8F0FE;\n",
              "      border: none;\n",
              "      border-radius: 50%;\n",
              "      cursor: pointer;\n",
              "      display: none;\n",
              "      fill: #1967D2;\n",
              "      height: 32px;\n",
              "      padding: 0 0 0 0;\n",
              "      width: 32px;\n",
              "    }\n",
              "\n",
              "    .colab-df-convert:hover {\n",
              "      background-color: #E2EBFA;\n",
              "      box-shadow: 0px 1px 2px rgba(60, 64, 67, 0.3), 0px 1px 3px 1px rgba(60, 64, 67, 0.15);\n",
              "      fill: #174EA6;\n",
              "    }\n",
              "\n",
              "    [theme=dark] .colab-df-convert {\n",
              "      background-color: #3B4455;\n",
              "      fill: #D2E3FC;\n",
              "    }\n",
              "\n",
              "    [theme=dark] .colab-df-convert:hover {\n",
              "      background-color: #434B5C;\n",
              "      box-shadow: 0px 1px 3px 1px rgba(0, 0, 0, 0.15);\n",
              "      filter: drop-shadow(0px 1px 2px rgba(0, 0, 0, 0.3));\n",
              "      fill: #FFFFFF;\n",
              "    }\n",
              "  </style>\n",
              "\n",
              "      <script>\n",
              "        const buttonEl =\n",
              "          document.querySelector('#df-9aa219d4-b3ea-47b0-a19e-4296c1594de4 button.colab-df-convert');\n",
              "        buttonEl.style.display =\n",
              "          google.colab.kernel.accessAllowed ? 'block' : 'none';\n",
              "\n",
              "        async function convertToInteractive(key) {\n",
              "          const element = document.querySelector('#df-9aa219d4-b3ea-47b0-a19e-4296c1594de4');\n",
              "          const dataTable =\n",
              "            await google.colab.kernel.invokeFunction('convertToInteractive',\n",
              "                                                     [key], {});\n",
              "          if (!dataTable) return;\n",
              "\n",
              "          const docLinkHtml = 'Like what you see? Visit the ' +\n",
              "            '<a target=\"_blank\" href=https://colab.research.google.com/notebooks/data_table.ipynb>data table notebook</a>'\n",
              "            + ' to learn more about interactive tables.';\n",
              "          element.innerHTML = '';\n",
              "          dataTable['output_type'] = 'display_data';\n",
              "          await google.colab.output.renderOutput(dataTable, element);\n",
              "          const docLink = document.createElement('div');\n",
              "          docLink.innerHTML = docLinkHtml;\n",
              "          element.appendChild(docLink);\n",
              "        }\n",
              "      </script>\n",
              "    </div>\n",
              "  </div>\n",
              "  "
            ]
          },
          "metadata": {},
          "execution_count": 14
        }
      ]
    },
    {
      "cell_type": "code",
      "source": [
        "np.random.seed(1)\n",
        "x_train = X[:start_date]\n",
        "x_test = X[start_date:]\n",
        "y_train = Y[:start_date]\n",
        "y_test = Y[start_date:]"
      ],
      "metadata": {
        "id": "AWedo2ifFsxY"
      },
      "execution_count": 15,
      "outputs": []
    },
    {
      "cell_type": "code",
      "source": [
        "x_train.shape\n",
        "y_train.shape"
      ],
      "metadata": {
        "colab": {
          "base_uri": "https://localhost:8080/"
        },
        "id": "mjmMOeh7M9h3",
        "outputId": "79a44bff-5640-4433-974e-2ce1d7139603"
      },
      "execution_count": 16,
      "outputs": [
        {
          "output_type": "execute_result",
          "data": {
            "text/plain": [
              "(799, 15)"
            ]
          },
          "metadata": {},
          "execution_count": 16
        },
        {
          "output_type": "execute_result",
          "data": {
            "text/plain": [
              "(799, 1)"
            ]
          },
          "metadata": {},
          "execution_count": 16
        }
      ]
    },
    {
      "cell_type": "code",
      "source": [
        "#---------------------------------------------------\n",
        "def clusterKMeansBase_0(corr0,maxNumClusters,n_init,seed):\n",
        "    x,silh=((1-corr0.fillna(0))/2.)**.5,pd.Series()# observations matrix\n",
        "    for init in range(1,n_init):\n",
        "        for i in range(2,maxNumClusters+1):\n",
        "            kmeans_=KMeans(n_clusters=i,\n",
        "                           #n_jobs=1,\n",
        "                           max_iter = 10,\n",
        "                           n_init=n_init,random_state=seed)\n",
        "            kmeans_=kmeans_.fit(x)\n",
        "            silh_=silhouette_samples(x,kmeans_.labels_)\n",
        "            stat=(silh_.mean()/silh_.std(),silh.mean()/silh.std())\n",
        "            if np.isnan(stat[1]) or stat[0]>stat[1]:\n",
        "                silh,kmeans=silh_,kmeans_\n",
        "    newIdx=np.argsort(kmeans.labels_)\n",
        "    corr1=corr0.iloc[newIdx] # reorder rows\n",
        "    corr1=corr1.iloc[:,newIdx] # reorder columns\n",
        "    clstrs={i:corr0.columns[np.where(kmeans.labels_==i)[0]].tolist() \\\n",
        "        for i in np.unique(kmeans.labels_) } # cluster members\n",
        "    silh=pd.Series(silh,index=x.index)\n",
        "    return corr1,clstrs,silh"
      ],
      "metadata": {
        "id": "A8OGs1YSQlZt"
      },
      "execution_count": 17,
      "outputs": []
    },
    {
      "cell_type": "code",
      "source": [
        "#clusterKMeansBase_0(corr0,maxNumClusters,n_init,seed)\n",
        "corr1a,clstrs1a,silh1a = clusterKMeansBase_0(x_train.corr(),\n",
        "                                        maxNumClusters = 10,\n",
        "                                        n_init = 7, \n",
        "                                        seed = 1)"
      ],
      "metadata": {
        "colab": {
          "base_uri": "https://localhost:8080/"
        },
        "id": "w0zy3ghnM_pt",
        "outputId": "c03d75cd-3241-4249-bc30-b98a14e99701"
      },
      "execution_count": 18,
      "outputs": [
        {
          "output_type": "stream",
          "name": "stderr",
          "text": [
            "<ipython-input-17-fb9cb799cfd1>:3: DeprecationWarning: The default dtype for empty Series will be 'object' instead of 'float64' in a future version. Specify a dtype explicitly to silence this warning.\n",
            "  x,silh=((1-corr0.fillna(0))/2.)**.5,pd.Series()# observations matrix\n"
          ]
        }
      ]
    },
    {
      "cell_type": "code",
      "source": [
        "corr1a,clstrs1a,silh1a"
      ],
      "metadata": {
        "colab": {
          "base_uri": "https://localhost:8080/"
        },
        "id": "pL_Z2dMLdsoo",
        "outputId": "8fa36735-2f1b-45d9-ef40-9884775facd8"
      },
      "execution_count": 19,
      "outputs": [
        {
          "output_type": "execute_result",
          "data": {
            "text/plain": [
              "(            ntis      infl       ltr     corpr      svar       d/e       tms       dfy       dfr    tbl_FD    lty_FD       d/p       d/y       e/p    b/m_FD\n",
              " ntis    1.000000  0.103672 -0.109347 -0.100199 -0.240883  0.065750 -0.136656 -0.419595  0.039599  0.046816 -0.171648  0.224010  0.226061  0.171699  0.262926\n",
              " infl    0.103672  1.000000 -0.114806 -0.133403 -0.101489 -0.066881 -0.168796  0.030914 -0.008107  0.171720  0.204226  0.168510  0.177266  0.204729  0.249961\n",
              " ltr    -0.109347 -0.114806  1.000000  0.863032  0.140054 -0.033982  0.011898  0.148486 -0.456060 -0.038341 -0.079555 -0.027153 -0.036133 -0.003916 -0.020313\n",
              " corpr  -0.100199 -0.133403  0.863032  1.000000  0.080928  0.034088  0.061700  0.206720  0.055963 -0.066987 -0.058566 -0.021229 -0.033736 -0.042460 -0.035616\n",
              " svar   -0.240883 -0.101489  0.140054  0.080928  1.000000  0.154275  0.150383  0.309197 -0.134243 -0.205400 -0.021984 -0.088276 -0.077671 -0.184699 -0.059802\n",
              " d/e     0.065750 -0.066881 -0.033982  0.034088  0.154275  1.000000  0.202402  0.190512  0.127220 -0.193801 -0.157368  0.271839  0.271377 -0.389356  0.104776\n",
              " tms    -0.136656 -0.168796  0.011898  0.061700  0.150383  0.202402  1.000000  0.283189  0.085183 -0.418099  0.066939 -0.233105 -0.237776 -0.354580 -0.265900\n",
              " dfy    -0.419595  0.030914  0.148486  0.206720  0.309197  0.190512  0.283189  1.000000  0.070705  0.014798  0.449474  0.094103  0.090542 -0.033677  0.157400\n",
              " dfr     0.039599 -0.008107 -0.456060  0.055963 -0.134243  0.127220  0.085183  0.070705  1.000000 -0.042232  0.054062  0.016267  0.011983 -0.067065 -0.022598\n",
              " tbl_FD  0.046816  0.171720 -0.038341 -0.066987 -0.205400 -0.193801 -0.418099  0.014798 -0.042232  1.000000  0.692463  0.123834  0.124816  0.244407  0.169788\n",
              " lty_FD -0.171648  0.204226 -0.079555 -0.058566 -0.021984 -0.157368  0.066939  0.449474  0.054062  0.692463  1.000000 -0.071816 -0.069250  0.033480  0.044291\n",
              " d/p     0.224010  0.168510 -0.027153 -0.021229 -0.088276  0.271839 -0.233105  0.094103  0.016267  0.123834 -0.071816  1.000000  0.995192  0.780559  0.876660\n",
              " d/y     0.226061  0.177266 -0.036133 -0.033736 -0.077671  0.271377 -0.237776  0.090542  0.011983  0.124816 -0.069250  0.995192  1.000000  0.776258  0.877039\n",
              " e/p     0.171699  0.204729 -0.003916 -0.042460 -0.184699 -0.389356 -0.354580 -0.033677 -0.067065  0.244407  0.033480  0.780559  0.776258  1.000000  0.771022\n",
              " b/m_FD  0.262926  0.249961 -0.020313 -0.035616 -0.059802  0.104776 -0.265900  0.157400 -0.022598  0.169788  0.044291  0.876660  0.877039  0.771022  1.000000,\n",
              " {0: ['ntis',\n",
              "   'infl',\n",
              "   'ltr',\n",
              "   'corpr',\n",
              "   'svar',\n",
              "   'd/e',\n",
              "   'tms',\n",
              "   'dfy',\n",
              "   'dfr',\n",
              "   'tbl_FD',\n",
              "   'lty_FD'],\n",
              "  1: ['d/p', 'd/y', 'e/p', 'b/m_FD']},\n",
              " ntis     -0.009000\n",
              " infl      0.048449\n",
              " ltr       0.224614\n",
              " corpr     0.243523\n",
              " svar      0.242151\n",
              " d/p       0.730647\n",
              " d/y       0.730338\n",
              " e/p       0.532058\n",
              " d/e       0.151821\n",
              " tms       0.287263\n",
              " dfy       0.216198\n",
              " dfr       0.180589\n",
              " b/m_FD    0.642566\n",
              " tbl_FD    0.089176\n",
              " lty_FD    0.219890\n",
              " dtype: float64)"
            ]
          },
          "metadata": {},
          "execution_count": 19
        }
      ]
    },
    {
      "cell_type": "markdown",
      "source": [
        "# Question 2\n",
        "\n",
        "Set the random seed to 2. Repeat Part 1. Did the number of clusters change from what you found in Part 1? Did the top 2 clusters change? (I.e. Do they have identical constituents?) (2 pt)"
      ],
      "metadata": {
        "id": "eLLuPo9uiTtD"
      }
    },
    {
      "cell_type": "code",
      "source": [
        "#clusterKMeansBase_0(corr0,maxNumClusters,n_init,seed)\n",
        "corr2,clstrs2,silh2 = clusterKMeansBase_0(x_train.corr(),\n",
        "                                        maxNumClusters = 10,\n",
        "                                        n_init = 5, \n",
        "                                        seed = 2)"
      ],
      "metadata": {
        "colab": {
          "base_uri": "https://localhost:8080/"
        },
        "id": "WHAu0ioRh3kG",
        "outputId": "e59a6efa-f611-4005-ecaf-1f4cb499335d"
      },
      "execution_count": 20,
      "outputs": [
        {
          "output_type": "stream",
          "name": "stderr",
          "text": [
            "<ipython-input-17-fb9cb799cfd1>:3: DeprecationWarning: The default dtype for empty Series will be 'object' instead of 'float64' in a future version. Specify a dtype explicitly to silence this warning.\n",
            "  x,silh=((1-corr0.fillna(0))/2.)**.5,pd.Series()# observations matrix\n"
          ]
        }
      ]
    },
    {
      "cell_type": "code",
      "source": [
        "corr2,clstrs2,silh2"
      ],
      "metadata": {
        "colab": {
          "base_uri": "https://localhost:8080/"
        },
        "id": "YXz0G9zoiOiO",
        "outputId": "49bf3c9c-0c77-4ad6-d9ef-92e7b8a0a26c"
      },
      "execution_count": 21,
      "outputs": [
        {
          "output_type": "execute_result",
          "data": {
            "text/plain": [
              "(            ntis      infl       ltr     corpr      svar       d/e       tms       dfy       dfr    tbl_FD    lty_FD       d/p       d/y       e/p    b/m_FD\n",
              " ntis    1.000000  0.103672 -0.109347 -0.100199 -0.240883  0.065750 -0.136656 -0.419595  0.039599  0.046816 -0.171648  0.224010  0.226061  0.171699  0.262926\n",
              " infl    0.103672  1.000000 -0.114806 -0.133403 -0.101489 -0.066881 -0.168796  0.030914 -0.008107  0.171720  0.204226  0.168510  0.177266  0.204729  0.249961\n",
              " ltr    -0.109347 -0.114806  1.000000  0.863032  0.140054 -0.033982  0.011898  0.148486 -0.456060 -0.038341 -0.079555 -0.027153 -0.036133 -0.003916 -0.020313\n",
              " corpr  -0.100199 -0.133403  0.863032  1.000000  0.080928  0.034088  0.061700  0.206720  0.055963 -0.066987 -0.058566 -0.021229 -0.033736 -0.042460 -0.035616\n",
              " svar   -0.240883 -0.101489  0.140054  0.080928  1.000000  0.154275  0.150383  0.309197 -0.134243 -0.205400 -0.021984 -0.088276 -0.077671 -0.184699 -0.059802\n",
              " d/e     0.065750 -0.066881 -0.033982  0.034088  0.154275  1.000000  0.202402  0.190512  0.127220 -0.193801 -0.157368  0.271839  0.271377 -0.389356  0.104776\n",
              " tms    -0.136656 -0.168796  0.011898  0.061700  0.150383  0.202402  1.000000  0.283189  0.085183 -0.418099  0.066939 -0.233105 -0.237776 -0.354580 -0.265900\n",
              " dfy    -0.419595  0.030914  0.148486  0.206720  0.309197  0.190512  0.283189  1.000000  0.070705  0.014798  0.449474  0.094103  0.090542 -0.033677  0.157400\n",
              " dfr     0.039599 -0.008107 -0.456060  0.055963 -0.134243  0.127220  0.085183  0.070705  1.000000 -0.042232  0.054062  0.016267  0.011983 -0.067065 -0.022598\n",
              " tbl_FD  0.046816  0.171720 -0.038341 -0.066987 -0.205400 -0.193801 -0.418099  0.014798 -0.042232  1.000000  0.692463  0.123834  0.124816  0.244407  0.169788\n",
              " lty_FD -0.171648  0.204226 -0.079555 -0.058566 -0.021984 -0.157368  0.066939  0.449474  0.054062  0.692463  1.000000 -0.071816 -0.069250  0.033480  0.044291\n",
              " d/p     0.224010  0.168510 -0.027153 -0.021229 -0.088276  0.271839 -0.233105  0.094103  0.016267  0.123834 -0.071816  1.000000  0.995192  0.780559  0.876660\n",
              " d/y     0.226061  0.177266 -0.036133 -0.033736 -0.077671  0.271377 -0.237776  0.090542  0.011983  0.124816 -0.069250  0.995192  1.000000  0.776258  0.877039\n",
              " e/p     0.171699  0.204729 -0.003916 -0.042460 -0.184699 -0.389356 -0.354580 -0.033677 -0.067065  0.244407  0.033480  0.780559  0.776258  1.000000  0.771022\n",
              " b/m_FD  0.262926  0.249961 -0.020313 -0.035616 -0.059802  0.104776 -0.265900  0.157400 -0.022598  0.169788  0.044291  0.876660  0.877039  0.771022  1.000000,\n",
              " {0: ['ntis',\n",
              "   'infl',\n",
              "   'ltr',\n",
              "   'corpr',\n",
              "   'svar',\n",
              "   'd/e',\n",
              "   'tms',\n",
              "   'dfy',\n",
              "   'dfr',\n",
              "   'tbl_FD',\n",
              "   'lty_FD'],\n",
              "  1: ['d/p', 'd/y', 'e/p', 'b/m_FD']},\n",
              " ntis     -0.009000\n",
              " infl      0.048449\n",
              " ltr       0.224614\n",
              " corpr     0.243523\n",
              " svar      0.242151\n",
              " d/p       0.730647\n",
              " d/y       0.730338\n",
              " e/p       0.532058\n",
              " d/e       0.151821\n",
              " tms       0.287263\n",
              " dfy       0.216198\n",
              " dfr       0.180589\n",
              " b/m_FD    0.642566\n",
              " tbl_FD    0.089176\n",
              " lty_FD    0.219890\n",
              " dtype: float64)"
            ]
          },
          "metadata": {},
          "execution_count": 21
        }
      ]
    },
    {
      "cell_type": "markdown",
      "source": [
        "# Q1&2: Complete data Train and Test"
      ],
      "metadata": {
        "id": "TgI0f1aQk0_9"
      }
    },
    {
      "cell_type": "code",
      "source": [
        "x_train1, x_test1, y_train1, y_test1 = train_test_split(X, Y, test_size=0.30)\n",
        "                                                        #,random_state = 1)\n",
        "\n",
        "#clusterKMeansBase_0(corr0,maxNumClusters,n_init,seed)\n",
        "corr1,clstrs1,silh1 = clusterKMeansBase_0(x_train.corr(),\n",
        "                                        maxNumClusters = 10,\n",
        "                                        n_init = 7, \n",
        "                                        seed = 1)\n",
        "corr1,clstrs1,silh1"
      ],
      "metadata": {
        "colab": {
          "base_uri": "https://localhost:8080/"
        },
        "id": "uFWGBpg9iOf3",
        "outputId": "826ac885-b9e1-40b7-99fd-2bc062496519"
      },
      "execution_count": 22,
      "outputs": [
        {
          "output_type": "stream",
          "name": "stderr",
          "text": [
            "<ipython-input-17-fb9cb799cfd1>:3: DeprecationWarning: The default dtype for empty Series will be 'object' instead of 'float64' in a future version. Specify a dtype explicitly to silence this warning.\n",
            "  x,silh=((1-corr0.fillna(0))/2.)**.5,pd.Series()# observations matrix\n"
          ]
        },
        {
          "output_type": "execute_result",
          "data": {
            "text/plain": [
              "(            ntis      infl       ltr     corpr      svar       d/e       tms       dfy       dfr    tbl_FD    lty_FD       d/p       d/y       e/p    b/m_FD\n",
              " ntis    1.000000  0.103672 -0.109347 -0.100199 -0.240883  0.065750 -0.136656 -0.419595  0.039599  0.046816 -0.171648  0.224010  0.226061  0.171699  0.262926\n",
              " infl    0.103672  1.000000 -0.114806 -0.133403 -0.101489 -0.066881 -0.168796  0.030914 -0.008107  0.171720  0.204226  0.168510  0.177266  0.204729  0.249961\n",
              " ltr    -0.109347 -0.114806  1.000000  0.863032  0.140054 -0.033982  0.011898  0.148486 -0.456060 -0.038341 -0.079555 -0.027153 -0.036133 -0.003916 -0.020313\n",
              " corpr  -0.100199 -0.133403  0.863032  1.000000  0.080928  0.034088  0.061700  0.206720  0.055963 -0.066987 -0.058566 -0.021229 -0.033736 -0.042460 -0.035616\n",
              " svar   -0.240883 -0.101489  0.140054  0.080928  1.000000  0.154275  0.150383  0.309197 -0.134243 -0.205400 -0.021984 -0.088276 -0.077671 -0.184699 -0.059802\n",
              " d/e     0.065750 -0.066881 -0.033982  0.034088  0.154275  1.000000  0.202402  0.190512  0.127220 -0.193801 -0.157368  0.271839  0.271377 -0.389356  0.104776\n",
              " tms    -0.136656 -0.168796  0.011898  0.061700  0.150383  0.202402  1.000000  0.283189  0.085183 -0.418099  0.066939 -0.233105 -0.237776 -0.354580 -0.265900\n",
              " dfy    -0.419595  0.030914  0.148486  0.206720  0.309197  0.190512  0.283189  1.000000  0.070705  0.014798  0.449474  0.094103  0.090542 -0.033677  0.157400\n",
              " dfr     0.039599 -0.008107 -0.456060  0.055963 -0.134243  0.127220  0.085183  0.070705  1.000000 -0.042232  0.054062  0.016267  0.011983 -0.067065 -0.022598\n",
              " tbl_FD  0.046816  0.171720 -0.038341 -0.066987 -0.205400 -0.193801 -0.418099  0.014798 -0.042232  1.000000  0.692463  0.123834  0.124816  0.244407  0.169788\n",
              " lty_FD -0.171648  0.204226 -0.079555 -0.058566 -0.021984 -0.157368  0.066939  0.449474  0.054062  0.692463  1.000000 -0.071816 -0.069250  0.033480  0.044291\n",
              " d/p     0.224010  0.168510 -0.027153 -0.021229 -0.088276  0.271839 -0.233105  0.094103  0.016267  0.123834 -0.071816  1.000000  0.995192  0.780559  0.876660\n",
              " d/y     0.226061  0.177266 -0.036133 -0.033736 -0.077671  0.271377 -0.237776  0.090542  0.011983  0.124816 -0.069250  0.995192  1.000000  0.776258  0.877039\n",
              " e/p     0.171699  0.204729 -0.003916 -0.042460 -0.184699 -0.389356 -0.354580 -0.033677 -0.067065  0.244407  0.033480  0.780559  0.776258  1.000000  0.771022\n",
              " b/m_FD  0.262926  0.249961 -0.020313 -0.035616 -0.059802  0.104776 -0.265900  0.157400 -0.022598  0.169788  0.044291  0.876660  0.877039  0.771022  1.000000,\n",
              " {0: ['ntis',\n",
              "   'infl',\n",
              "   'ltr',\n",
              "   'corpr',\n",
              "   'svar',\n",
              "   'd/e',\n",
              "   'tms',\n",
              "   'dfy',\n",
              "   'dfr',\n",
              "   'tbl_FD',\n",
              "   'lty_FD'],\n",
              "  1: ['d/p', 'd/y', 'e/p', 'b/m_FD']},\n",
              " ntis     -0.009000\n",
              " infl      0.048449\n",
              " ltr       0.224614\n",
              " corpr     0.243523\n",
              " svar      0.242151\n",
              " d/p       0.730647\n",
              " d/y       0.730338\n",
              " e/p       0.532058\n",
              " d/e       0.151821\n",
              " tms       0.287263\n",
              " dfy       0.216198\n",
              " dfr       0.180589\n",
              " b/m_FD    0.642566\n",
              " tbl_FD    0.089176\n",
              " lty_FD    0.219890\n",
              " dtype: float64)"
            ]
          },
          "metadata": {},
          "execution_count": 22
        }
      ]
    },
    {
      "cell_type": "code",
      "source": [
        "x_train2, x_test2, y_train2, y_test2 = train_test_split(X, Y, test_size=0.30)\n",
        "                                                        #,random_state = 2)\n",
        "\n",
        "#clusterKMeansBase_0(corr0,maxNumClusters,n_init,seed)\n",
        "corr2,clstrs2,silh2 = clusterKMeansBase_0(x_train.corr(),\n",
        "                                        maxNumClusters = 10,\n",
        "                                        n_init = 7, \n",
        "                                        seed = 2)\n",
        "corr2,clstrs2,silh2"
      ],
      "metadata": {
        "colab": {
          "base_uri": "https://localhost:8080/"
        },
        "id": "OczvUFaeiOdO",
        "outputId": "58ce3ce7-c940-4897-b6c9-2f6d8b63b27a"
      },
      "execution_count": 23,
      "outputs": [
        {
          "output_type": "stream",
          "name": "stderr",
          "text": [
            "<ipython-input-17-fb9cb799cfd1>:3: DeprecationWarning: The default dtype for empty Series will be 'object' instead of 'float64' in a future version. Specify a dtype explicitly to silence this warning.\n",
            "  x,silh=((1-corr0.fillna(0))/2.)**.5,pd.Series()# observations matrix\n"
          ]
        },
        {
          "output_type": "execute_result",
          "data": {
            "text/plain": [
              "(            ntis      infl       ltr     corpr      svar       d/e       tms       dfy       dfr    tbl_FD    lty_FD       d/p       d/y       e/p    b/m_FD\n",
              " ntis    1.000000  0.103672 -0.109347 -0.100199 -0.240883  0.065750 -0.136656 -0.419595  0.039599  0.046816 -0.171648  0.224010  0.226061  0.171699  0.262926\n",
              " infl    0.103672  1.000000 -0.114806 -0.133403 -0.101489 -0.066881 -0.168796  0.030914 -0.008107  0.171720  0.204226  0.168510  0.177266  0.204729  0.249961\n",
              " ltr    -0.109347 -0.114806  1.000000  0.863032  0.140054 -0.033982  0.011898  0.148486 -0.456060 -0.038341 -0.079555 -0.027153 -0.036133 -0.003916 -0.020313\n",
              " corpr  -0.100199 -0.133403  0.863032  1.000000  0.080928  0.034088  0.061700  0.206720  0.055963 -0.066987 -0.058566 -0.021229 -0.033736 -0.042460 -0.035616\n",
              " svar   -0.240883 -0.101489  0.140054  0.080928  1.000000  0.154275  0.150383  0.309197 -0.134243 -0.205400 -0.021984 -0.088276 -0.077671 -0.184699 -0.059802\n",
              " d/e     0.065750 -0.066881 -0.033982  0.034088  0.154275  1.000000  0.202402  0.190512  0.127220 -0.193801 -0.157368  0.271839  0.271377 -0.389356  0.104776\n",
              " tms    -0.136656 -0.168796  0.011898  0.061700  0.150383  0.202402  1.000000  0.283189  0.085183 -0.418099  0.066939 -0.233105 -0.237776 -0.354580 -0.265900\n",
              " dfy    -0.419595  0.030914  0.148486  0.206720  0.309197  0.190512  0.283189  1.000000  0.070705  0.014798  0.449474  0.094103  0.090542 -0.033677  0.157400\n",
              " dfr     0.039599 -0.008107 -0.456060  0.055963 -0.134243  0.127220  0.085183  0.070705  1.000000 -0.042232  0.054062  0.016267  0.011983 -0.067065 -0.022598\n",
              " tbl_FD  0.046816  0.171720 -0.038341 -0.066987 -0.205400 -0.193801 -0.418099  0.014798 -0.042232  1.000000  0.692463  0.123834  0.124816  0.244407  0.169788\n",
              " lty_FD -0.171648  0.204226 -0.079555 -0.058566 -0.021984 -0.157368  0.066939  0.449474  0.054062  0.692463  1.000000 -0.071816 -0.069250  0.033480  0.044291\n",
              " d/p     0.224010  0.168510 -0.027153 -0.021229 -0.088276  0.271839 -0.233105  0.094103  0.016267  0.123834 -0.071816  1.000000  0.995192  0.780559  0.876660\n",
              " d/y     0.226061  0.177266 -0.036133 -0.033736 -0.077671  0.271377 -0.237776  0.090542  0.011983  0.124816 -0.069250  0.995192  1.000000  0.776258  0.877039\n",
              " e/p     0.171699  0.204729 -0.003916 -0.042460 -0.184699 -0.389356 -0.354580 -0.033677 -0.067065  0.244407  0.033480  0.780559  0.776258  1.000000  0.771022\n",
              " b/m_FD  0.262926  0.249961 -0.020313 -0.035616 -0.059802  0.104776 -0.265900  0.157400 -0.022598  0.169788  0.044291  0.876660  0.877039  0.771022  1.000000,\n",
              " {0: ['ntis',\n",
              "   'infl',\n",
              "   'ltr',\n",
              "   'corpr',\n",
              "   'svar',\n",
              "   'd/e',\n",
              "   'tms',\n",
              "   'dfy',\n",
              "   'dfr',\n",
              "   'tbl_FD',\n",
              "   'lty_FD'],\n",
              "  1: ['d/p', 'd/y', 'e/p', 'b/m_FD']},\n",
              " ntis     -0.009000\n",
              " infl      0.048449\n",
              " ltr       0.224614\n",
              " corpr     0.243523\n",
              " svar      0.242151\n",
              " d/p       0.730647\n",
              " d/y       0.730338\n",
              " e/p       0.532058\n",
              " d/e       0.151821\n",
              " tms       0.287263\n",
              " dfy       0.216198\n",
              " dfr       0.180589\n",
              " b/m_FD    0.642566\n",
              " tbl_FD    0.089176\n",
              " lty_FD    0.219890\n",
              " dtype: float64)"
            ]
          },
          "metadata": {},
          "execution_count": 23
        }
      ]
    },
    {
      "cell_type": "code",
      "source": [
        "x_train42, x_test42, y_train42, y_test42 = train_test_split(X, Y, test_size=0.3,\n",
        "                                                        random_state = 42)\n",
        "\n",
        "#clusterKMeansBase_0(corr0,maxNumClusters,n_init,seed)\n",
        "corr42,clstrs42,silh42 = clusterKMeansBase_0(x_train.corr(),\n",
        "                                        maxNumClusters = 10,\n",
        "                                        n_init = 7, \n",
        "                                        seed = 42)\n",
        "corr42,clstrs42,silh42"
      ],
      "metadata": {
        "colab": {
          "base_uri": "https://localhost:8080/"
        },
        "id": "ijK7ZWA7nL4m",
        "outputId": "d3b78073-b19d-42ad-e5ea-4df23f4d36eb"
      },
      "execution_count": 24,
      "outputs": [
        {
          "output_type": "stream",
          "name": "stderr",
          "text": [
            "<ipython-input-17-fb9cb799cfd1>:3: DeprecationWarning: The default dtype for empty Series will be 'object' instead of 'float64' in a future version. Specify a dtype explicitly to silence this warning.\n",
            "  x,silh=((1-corr0.fillna(0))/2.)**.5,pd.Series()# observations matrix\n"
          ]
        },
        {
          "output_type": "execute_result",
          "data": {
            "text/plain": [
              "(             d/p       d/y       e/p    b/m_FD      ntis      infl       ltr     corpr      svar       d/e       tms       dfy       dfr    tbl_FD    lty_FD\n",
              " d/p     1.000000  0.995192  0.780559  0.876660  0.224010  0.168510 -0.027153 -0.021229 -0.088276  0.271839 -0.233105  0.094103  0.016267  0.123834 -0.071816\n",
              " d/y     0.995192  1.000000  0.776258  0.877039  0.226061  0.177266 -0.036133 -0.033736 -0.077671  0.271377 -0.237776  0.090542  0.011983  0.124816 -0.069250\n",
              " e/p     0.780559  0.776258  1.000000  0.771022  0.171699  0.204729 -0.003916 -0.042460 -0.184699 -0.389356 -0.354580 -0.033677 -0.067065  0.244407  0.033480\n",
              " b/m_FD  0.876660  0.877039  0.771022  1.000000  0.262926  0.249961 -0.020313 -0.035616 -0.059802  0.104776 -0.265900  0.157400 -0.022598  0.169788  0.044291\n",
              " ntis    0.224010  0.226061  0.171699  0.262926  1.000000  0.103672 -0.109347 -0.100199 -0.240883  0.065750 -0.136656 -0.419595  0.039599  0.046816 -0.171648\n",
              " infl    0.168510  0.177266  0.204729  0.249961  0.103672  1.000000 -0.114806 -0.133403 -0.101489 -0.066881 -0.168796  0.030914 -0.008107  0.171720  0.204226\n",
              " ltr    -0.027153 -0.036133 -0.003916 -0.020313 -0.109347 -0.114806  1.000000  0.863032  0.140054 -0.033982  0.011898  0.148486 -0.456060 -0.038341 -0.079555\n",
              " corpr  -0.021229 -0.033736 -0.042460 -0.035616 -0.100199 -0.133403  0.863032  1.000000  0.080928  0.034088  0.061700  0.206720  0.055963 -0.066987 -0.058566\n",
              " svar   -0.088276 -0.077671 -0.184699 -0.059802 -0.240883 -0.101489  0.140054  0.080928  1.000000  0.154275  0.150383  0.309197 -0.134243 -0.205400 -0.021984\n",
              " d/e     0.271839  0.271377 -0.389356  0.104776  0.065750 -0.066881 -0.033982  0.034088  0.154275  1.000000  0.202402  0.190512  0.127220 -0.193801 -0.157368\n",
              " tms    -0.233105 -0.237776 -0.354580 -0.265900 -0.136656 -0.168796  0.011898  0.061700  0.150383  0.202402  1.000000  0.283189  0.085183 -0.418099  0.066939\n",
              " dfy     0.094103  0.090542 -0.033677  0.157400 -0.419595  0.030914  0.148486  0.206720  0.309197  0.190512  0.283189  1.000000  0.070705  0.014798  0.449474\n",
              " dfr     0.016267  0.011983 -0.067065 -0.022598  0.039599 -0.008107 -0.456060  0.055963 -0.134243  0.127220  0.085183  0.070705  1.000000 -0.042232  0.054062\n",
              " tbl_FD  0.123834  0.124816  0.244407  0.169788  0.046816  0.171720 -0.038341 -0.066987 -0.205400 -0.193801 -0.418099  0.014798 -0.042232  1.000000  0.692463\n",
              " lty_FD -0.071816 -0.069250  0.033480  0.044291 -0.171648  0.204226 -0.079555 -0.058566 -0.021984 -0.157368  0.066939  0.449474  0.054062  0.692463  1.000000,\n",
              " {0: ['d/p', 'd/y', 'e/p', 'b/m_FD'],\n",
              "  1: ['ntis',\n",
              "   'infl',\n",
              "   'ltr',\n",
              "   'corpr',\n",
              "   'svar',\n",
              "   'd/e',\n",
              "   'tms',\n",
              "   'dfy',\n",
              "   'dfr',\n",
              "   'tbl_FD',\n",
              "   'lty_FD']},\n",
              " ntis     -0.009000\n",
              " infl      0.048449\n",
              " ltr       0.224614\n",
              " corpr     0.243523\n",
              " svar      0.242151\n",
              " d/p       0.730647\n",
              " d/y       0.730338\n",
              " e/p       0.532058\n",
              " d/e       0.151821\n",
              " tms       0.287263\n",
              " dfy       0.216198\n",
              " dfr       0.180589\n",
              " b/m_FD    0.642566\n",
              " tbl_FD    0.089176\n",
              " lty_FD    0.219890\n",
              " dtype: float64)"
            ]
          },
          "metadata": {},
          "execution_count": 24
        }
      ]
    },
    {
      "cell_type": "markdown",
      "source": [
        "# Question 3\n",
        "Apply hierarchical clustering to the same features, as per Chan and Man 2021b (see article on Overview Page). Again, set the random seed to 1. How many clusters did you find?  What are the top 2 clusters? (3 pt)"
      ],
      "metadata": {
        "id": "UETk9uBOyheP"
      }
    },
    {
      "cell_type": "code",
      "source": [
        "np.random.seed(1)"
      ],
      "metadata": {
        "id": "yma-_XqxIrgQ"
      },
      "execution_count": 25,
      "outputs": []
    },
    {
      "cell_type": "markdown",
      "source": [
        "## Using clusterKMeansTop_0(3 param)"
      ],
      "metadata": {
        "id": "6d8IcP65RaFY"
      }
    },
    {
      "cell_type": "code",
      "source": [
        "#---------------------------------------------------\n",
        "def clusterKMeansTop_00(corr0,maxNumClusters,n_init, n_seed):\n",
        "    if maxNumClusters==None:maxNumClusters=corr0.shape[1]-1\n",
        "    corr1,clstrs,silh=clusterKMeansBase_0(corr0,maxNumClusters= \\\n",
        "        min(maxNumClusters,corr0.shape[1]-1),n_init=n_init, seed = n_seed)\n",
        "    clusterTstats={i:np.mean(silh[clstrs[i]])/ \\\n",
        "        np.std(silh[clstrs[i]]) for i in clstrs.keys()}\n",
        "    tStatMean=sum(clusterTstats.values())/len(clusterTstats)\n",
        "    redoClusters=[i for i in clusterTstats.keys() if \\\n",
        "        clusterTstats[i]<tStatMean]\n",
        "    if len(redoClusters)<=1:\n",
        "        return corr1,clstrs,silh\n",
        "    else:\n",
        "        keysRedo=[j for i in redoClusters for j in clstrs[i]]\n",
        "        corrTmp=corr0.loc[keysRedo,keysRedo]\n",
        "        tStatMean=np.mean([clusterTstats[i] for i in redoClusters])\n",
        "        corr2,clstrs2,silh2=clusterKMeansTop(corrTmp)\n",
        "        #, \\\n",
        "           # maxNumClusters=min(maxNumClusters, \\\n",
        "           # corrTmp.shape[1]-1),n_init=n_init)\n",
        "        # Make new outputs, if necessary\n",
        "        corrNew,clstrsNew,silhNew=makeNewOutputs(corr0, \\\n",
        "            {i:clstrs[i] for i in clstrs.keys() if i not in redoClusters}, \\\n",
        "            clstrs2)\n",
        "        newTstatMean=np.mean([np.mean(silhNew[clstrsNew[i]])/ \\\n",
        "            np.std(silhNew[clstrsNew[i]]) for i in clstrsNew.keys()])\n",
        "        if newTstatMean<=tStatMean:\n",
        "            return corr1,clstrs,silh\n",
        "        else:\n",
        "            return corrNew,clstrsNew,silhNew"
      ],
      "metadata": {
        "id": "RIT525-lMsRS"
      },
      "execution_count": 26,
      "outputs": []
    },
    {
      "cell_type": "code",
      "source": [
        "# def clusterKMeansTop_00(corr0,maxNumClusters,n_init):\n",
        "#            return corrNew,clstrsNew,silhNew\n",
        "\n",
        "corr3,clstrs3,silh3 = clusterKMeansTop_00(x_train1.corr(), maxNumClusters = 10,\n",
        "                                        n_init = 7, n_seed = 1)\n",
        "corr3,clstrs3,silh3"
      ],
      "metadata": {
        "colab": {
          "base_uri": "https://localhost:8080/"
        },
        "id": "okTDGyxlIMvt",
        "outputId": "c40ba82b-4834-4c1b-a1de-313266da904e"
      },
      "execution_count": 27,
      "outputs": [
        {
          "output_type": "stream",
          "name": "stderr",
          "text": [
            "<ipython-input-17-fb9cb799cfd1>:3: DeprecationWarning: The default dtype for empty Series will be 'object' instead of 'float64' in a future version. Specify a dtype explicitly to silence this warning.\n",
            "  x,silh=((1-corr0.fillna(0))/2.)**.5,pd.Series()# observations matrix\n",
            "<ipython-input-8-242de6d6205f>:21: DeprecationWarning: The default dtype for empty Series will be 'object' instead of 'float64' in a future version. Specify a dtype explicitly to silence this warning.\n",
            "  x,silh=((1-corr0.fillna(0))/2.)**.5,pd.Series()# observations matrix\n",
            "/usr/local/lib/python3.9/dist-packages/sklearn/cluster/_agglomerative.py:983: FutureWarning: Attribute `affinity` was deprecated in version 1.2 and will be removed in 1.4. Use `metric` instead\n",
            "  warnings.warn(\n"
          ]
        },
        {
          "output_type": "execute_result",
          "data": {
            "text/plain": [
              "(             ltr     corpr      svar       d/e       tms       dfy       dfr       d/p       d/y       e/p    b/m_FD      ntis      infl    tbl_FD    lty_FD\n",
              " ltr     1.000000  0.867496  0.124359 -0.009870 -0.012345  0.144381 -0.426798 -0.022039 -0.032731 -0.014742 -0.011490 -0.054186 -0.125912 -0.034961 -0.117420\n",
              " corpr   0.867496  1.000000  0.062749  0.051745  0.033279  0.207948  0.079616 -0.033954 -0.047878 -0.066854 -0.036049 -0.064883 -0.146807 -0.069127 -0.115281\n",
              " svar    0.124359  0.062749  1.000000  0.246063  0.151751  0.414724 -0.135125 -0.061987 -0.054413 -0.221998 -0.058352 -0.265416 -0.152068 -0.173458 -0.027382\n",
              " d/e    -0.009870  0.051745  0.246063  1.000000  0.175410  0.224905  0.113852  0.286564  0.288229 -0.383012  0.108340  0.073208 -0.033817 -0.054944 -0.067177\n",
              " tms    -0.012345  0.033279  0.151751  0.175410  1.000000  0.265827  0.085239 -0.241907 -0.247858 -0.348891 -0.274746 -0.156518 -0.172814 -0.417904  0.059073\n",
              " dfy     0.144381  0.207948  0.414724  0.224905  0.265827  1.000000  0.088722  0.099789  0.097909 -0.052068  0.133919 -0.387129 -0.018432 -0.016667  0.355061\n",
              " dfr    -0.426798  0.079616 -0.135125  0.113852  0.085239  0.088722  1.000000 -0.017563 -0.021452 -0.091997 -0.042514 -0.009374 -0.014580 -0.055615  0.025718\n",
              " d/p    -0.022039 -0.033954 -0.061987  0.286564 -0.241907  0.099789 -0.017563  1.000000  0.995630  0.775245  0.892570  0.324167  0.230630  0.262188  0.094241\n",
              " d/y    -0.032731 -0.047878 -0.054413  0.288229 -0.247858  0.097909 -0.021452  0.995630  1.000000  0.769934  0.891094  0.322387  0.238347  0.265261  0.098404\n",
              " e/p    -0.014742 -0.066854 -0.221998 -0.383012 -0.348891 -0.052068 -0.091997  0.775245  0.769934  1.000000  0.789169  0.264289  0.244665  0.289022  0.135155\n",
              " b/m_FD -0.011490 -0.036049 -0.058352  0.108340 -0.274746  0.133919 -0.042514  0.892570  0.891094  0.789169  1.000000  0.367240  0.287853  0.260246  0.167935\n",
              " ntis   -0.054186 -0.064883 -0.265416  0.073208 -0.156518 -0.387129 -0.009374  0.324167  0.322387  0.264289  0.367240  1.000000  0.182857  0.232560  0.087310\n",
              " infl   -0.125912 -0.146807 -0.152068 -0.033817 -0.172814 -0.018432 -0.014580  0.230630  0.238347  0.244665  0.287853  0.182857  1.000000  0.186891  0.205556\n",
              " tbl_FD -0.034961 -0.069127 -0.173458 -0.054944 -0.417904 -0.016667 -0.055615  0.262188  0.265261  0.289022  0.260246  0.232560  0.186891  1.000000  0.673224\n",
              " lty_FD -0.117420 -0.115281 -0.027382 -0.067177  0.059073  0.355061  0.025718  0.094241  0.098404  0.135155  0.167935  0.087310  0.205556  0.673224  1.000000,\n",
              " {0: ['ltr', 'corpr'],\n",
              "  1: ['svar', 'd/e', 'tms', 'dfy', 'dfr'],\n",
              "  2: ['d/p', 'd/y', 'e/p', 'b/m_FD', 'ntis', 'infl', 'tbl_FD', 'lty_FD']},\n",
              " ntis      0.137369\n",
              " infl      0.081335\n",
              " ltr       0.642837\n",
              " corpr     0.627580\n",
              " svar      0.114256\n",
              " d/p       0.410960\n",
              " d/y       0.411042\n",
              " e/p       0.375443\n",
              " d/e       0.151015\n",
              " tms       0.145204\n",
              " dfy       0.113865\n",
              " dfr       0.147668\n",
              " b/m_FD    0.402513\n",
              " tbl_FD    0.166062\n",
              " lty_FD   -0.004733\n",
              " dtype: float64)"
            ]
          },
          "metadata": {},
          "execution_count": 27
        }
      ]
    },
    {
      "cell_type": "markdown",
      "source": [
        "## Using clusterKMeansTop(1 param)\n",
        "\n"
      ],
      "metadata": {
        "id": "L_Co7J0qNzq5"
      }
    },
    {
      "cell_type": "code",
      "source": [
        "#---------------------------------------------------\n",
        "def clusterKMeansTop(corr0):\n",
        "    corr1,clstrs,silh=clusterKMeansBase(corr0)\n",
        "    clusterTstats={i:np.mean(silh[clstrs[i]])/ \\\n",
        "        np.std(silh[clstrs[i]]) for i in clstrs.keys() if len(clstrs[i])>1}\n",
        "    tStatMean=sum(np.array(list(clusterTstats.values())))/len(clusterTstats)\n",
        "    redoClusters=[i for i in clusterTstats.keys() if \\\n",
        "        clusterTstats[i]<tStatMean]\n",
        "    if len(redoClusters)<=1:\n",
        "        return corr1,clstrs,silh\n",
        "    else:\n",
        "        keysRedo=[j for i in redoClusters for j in clstrs[i]]\n",
        "        corrTmp=corr0.loc[keysRedo,keysRedo]\n",
        "        tStatMean=np.mean([clusterTstats[i] for i in redoClusters])\n",
        "        corr2,clstrs2,silh2=clusterKMeansTop(corrTmp)\n",
        "        # Make new outputs, if necessary\n",
        "        corrNew,clstrsNew,silhNew=makeNewOutputs(corr0, \\\n",
        "            {i:clstrs[i] for i in clstrs.keys() if i not in redoClusters}, \\\n",
        "            clstrs2)\n",
        "        newTstatMean=np.mean([np.mean(silhNew[clstrsNew[i]])/ \\\n",
        "            np.std(silhNew[clstrsNew[i]]) for i in clstrsNew.keys() if len(clstrsNew[i])>1])\n",
        "        if newTstatMean<=tStatMean:\n",
        "            return corr1,clstrs,silh\n",
        "        else:\n",
        "            return corrNew,clstrsNew,silhNew"
      ],
      "metadata": {
        "id": "JEthK5a9Q93v"
      },
      "execution_count": 28,
      "outputs": []
    },
    {
      "cell_type": "code",
      "source": [
        "np.random.seed(1)"
      ],
      "metadata": {
        "id": "m-z8eHnRQWos"
      },
      "execution_count": 29,
      "outputs": []
    },
    {
      "cell_type": "code",
      "source": [
        "corr3a,clstrs3a,silh3a= clusterKMeansTop(x_train1.corr())\n",
        "corr3a,clstrs3a,silh3a"
      ],
      "metadata": {
        "colab": {
          "base_uri": "https://localhost:8080/"
        },
        "id": "Qo5O2V98NqQl",
        "outputId": "080e01ce-07a4-432e-825a-c691a73192db"
      },
      "execution_count": 30,
      "outputs": [
        {
          "output_type": "stream",
          "name": "stderr",
          "text": [
            "<ipython-input-8-242de6d6205f>:21: DeprecationWarning: The default dtype for empty Series will be 'object' instead of 'float64' in a future version. Specify a dtype explicitly to silence this warning.\n",
            "  x,silh=((1-corr0.fillna(0))/2.)**.5,pd.Series()# observations matrix\n",
            "/usr/local/lib/python3.9/dist-packages/sklearn/cluster/_agglomerative.py:983: FutureWarning: Attribute `affinity` was deprecated in version 1.2 and will be removed in 1.4. Use `metric` instead\n",
            "  warnings.warn(\n",
            "/usr/local/lib/python3.9/dist-packages/sklearn/cluster/_agglomerative.py:983: FutureWarning: Attribute `affinity` was deprecated in version 1.2 and will be removed in 1.4. Use `metric` instead\n",
            "  warnings.warn(\n"
          ]
        },
        {
          "output_type": "execute_result",
          "data": {
            "text/plain": [
              "(             ltr     corpr      svar       d/e       tms       dfy      ntis      infl       d/p       d/y       e/p    b/m_FD    tbl_FD    lty_FD       dfr\n",
              " ltr     1.000000  0.867496  0.124359 -0.009870 -0.012345  0.144381 -0.054186 -0.125912 -0.022039 -0.032731 -0.014742 -0.011490 -0.034961 -0.117420 -0.426798\n",
              " corpr   0.867496  1.000000  0.062749  0.051745  0.033279  0.207948 -0.064883 -0.146807 -0.033954 -0.047878 -0.066854 -0.036049 -0.069127 -0.115281  0.079616\n",
              " svar    0.124359  0.062749  1.000000  0.246063  0.151751  0.414724 -0.265416 -0.152068 -0.061987 -0.054413 -0.221998 -0.058352 -0.173458 -0.027382 -0.135125\n",
              " d/e    -0.009870  0.051745  0.246063  1.000000  0.175410  0.224905  0.073208 -0.033817  0.286564  0.288229 -0.383012  0.108340 -0.054944 -0.067177  0.113852\n",
              " tms    -0.012345  0.033279  0.151751  0.175410  1.000000  0.265827 -0.156518 -0.172814 -0.241907 -0.247858 -0.348891 -0.274746 -0.417904  0.059073  0.085239\n",
              " dfy     0.144381  0.207948  0.414724  0.224905  0.265827  1.000000 -0.387129 -0.018432  0.099789  0.097909 -0.052068  0.133919 -0.016667  0.355061  0.088722\n",
              " ntis   -0.054186 -0.064883 -0.265416  0.073208 -0.156518 -0.387129  1.000000  0.182857  0.324167  0.322387  0.264289  0.367240  0.232560  0.087310 -0.009374\n",
              " infl   -0.125912 -0.146807 -0.152068 -0.033817 -0.172814 -0.018432  0.182857  1.000000  0.230630  0.238347  0.244665  0.287853  0.186891  0.205556 -0.014580\n",
              " d/p    -0.022039 -0.033954 -0.061987  0.286564 -0.241907  0.099789  0.324167  0.230630  1.000000  0.995630  0.775245  0.892570  0.262188  0.094241 -0.017563\n",
              " d/y    -0.032731 -0.047878 -0.054413  0.288229 -0.247858  0.097909  0.322387  0.238347  0.995630  1.000000  0.769934  0.891094  0.265261  0.098404 -0.021452\n",
              " e/p    -0.014742 -0.066854 -0.221998 -0.383012 -0.348891 -0.052068  0.264289  0.244665  0.775245  0.769934  1.000000  0.789169  0.289022  0.135155 -0.091997\n",
              " b/m_FD -0.011490 -0.036049 -0.058352  0.108340 -0.274746  0.133919  0.367240  0.287853  0.892570  0.891094  0.789169  1.000000  0.260246  0.167935 -0.042514\n",
              " tbl_FD -0.034961 -0.069127 -0.173458 -0.054944 -0.417904 -0.016667  0.232560  0.186891  0.262188  0.265261  0.289022  0.260246  1.000000  0.673224 -0.055615\n",
              " lty_FD -0.117420 -0.115281 -0.027382 -0.067177  0.059073  0.355061  0.087310  0.205556  0.094241  0.098404  0.135155  0.167935  0.673224  1.000000  0.025718\n",
              " dfr    -0.426798  0.079616 -0.135125  0.113852  0.085239  0.088722 -0.009374 -0.014580 -0.017563 -0.021452 -0.091997 -0.042514 -0.055615  0.025718  1.000000,\n",
              " {0: ['ltr', 'corpr', 'svar', 'd/e', 'tms', 'dfy'],\n",
              "  1: ['ntis', 'infl', 'd/p', 'd/y', 'e/p', 'b/m_FD', 'tbl_FD', 'lty_FD'],\n",
              "  2: ['dfr']},\n",
              " ntis      0.145593\n",
              " infl      0.105399\n",
              " ltr       0.235017\n",
              " corpr     0.268622\n",
              " svar      0.246751\n",
              " d/p       0.419621\n",
              " d/y       0.420132\n",
              " e/p       0.375693\n",
              " d/e       0.146206\n",
              " tms       0.262162\n",
              " dfy       0.203800\n",
              " dfr       0.107726\n",
              " b/m_FD    0.409844\n",
              " tbl_FD    0.174984\n",
              " lty_FD    0.036953\n",
              " dtype: float64)"
            ]
          },
          "metadata": {},
          "execution_count": 30
        }
      ]
    },
    {
      "cell_type": "code",
      "source": [
        "#---------------------------------------------------\n",
        "def clusterKMeansTop_0(corr0):\n",
        "    corr1,clstrs,silh=clusterKMeansBase(corr0)\n",
        "    clusterTstats={i:np.mean(silh[clstrs[i]])/ \\\n",
        "        np.std(silh[clstrs[i]]) for i in clstrs.keys() if len(clstrs[i])>1}\n",
        "    tStatMean=sum(np.array(list(clusterTstats.values())))/len(clusterTstats)\n",
        "    redoClusters=[i for i in clusterTstats.keys() if \\\n",
        "        clusterTstats[i]<tStatMean]\n",
        "    if len(redoClusters)<=1:\n",
        "        return corr1,clstrs,silh\n",
        "    else:\n",
        "        keysRedo=[j for i in redoClusters for j in clstrs[i]]\n",
        "        corrTmp=corr0.loc[keysRedo,keysRedo]\n",
        "        tStatMean=np.mean([clusterTstats[i] for i in redoClusters])\n",
        "        corr2,clstrs2,silh2=clusterKMeansTop(corrTmp)\n",
        "        # Make new outputs, if necessary\n",
        "        corrNew,clstrsNew,silhNew=makeNewOutputs(corr0, \\\n",
        "            {i:clstrs[i] for i in clstrs.keys() if i not in redoClusters}, \\\n",
        "            clstrs2)\n",
        "        newTstatMean=np.mean([np.mean(silhNew[clstrsNew[i]])/ \\\n",
        "            np.std(silhNew[clstrsNew[i]]) for i in clstrsNew.keys() if len(clstrsNew[i])>1])\n",
        "        if newTstatMean<=tStatMean:\n",
        "            return corr1,clstrs,silh\n",
        "        else:\n",
        "            return corrNew,clstrsNew,silhNew"
      ],
      "metadata": {
        "id": "YKLt6ILmQwHI"
      },
      "execution_count": 31,
      "outputs": []
    },
    {
      "cell_type": "markdown",
      "source": [
        "## Using clusterKMeansTop_0(1 param)\n",
        "\n",
        "\n"
      ],
      "metadata": {
        "id": "ei3aKxvBQYXi"
      }
    },
    {
      "cell_type": "code",
      "source": [
        "np.random.seed(1)"
      ],
      "metadata": {
        "id": "FjLpO70BQYXi"
      },
      "execution_count": 32,
      "outputs": []
    },
    {
      "cell_type": "code",
      "source": [
        "corr3b,clstrs3b,silh3b = clusterKMeansTop(x_train1.corr())\n",
        "corr3b,clstrs3b,silh3b"
      ],
      "metadata": {
        "colab": {
          "base_uri": "https://localhost:8080/"
        },
        "id": "DQG0A5XUN-79",
        "outputId": "930b7e68-94d5-4f58-ff49-422ced37be05"
      },
      "execution_count": 33,
      "outputs": [
        {
          "output_type": "stream",
          "name": "stderr",
          "text": [
            "<ipython-input-8-242de6d6205f>:21: DeprecationWarning: The default dtype for empty Series will be 'object' instead of 'float64' in a future version. Specify a dtype explicitly to silence this warning.\n",
            "  x,silh=((1-corr0.fillna(0))/2.)**.5,pd.Series()# observations matrix\n",
            "/usr/local/lib/python3.9/dist-packages/sklearn/cluster/_agglomerative.py:983: FutureWarning: Attribute `affinity` was deprecated in version 1.2 and will be removed in 1.4. Use `metric` instead\n",
            "  warnings.warn(\n",
            "/usr/local/lib/python3.9/dist-packages/sklearn/cluster/_agglomerative.py:983: FutureWarning: Attribute `affinity` was deprecated in version 1.2 and will be removed in 1.4. Use `metric` instead\n",
            "  warnings.warn(\n"
          ]
        },
        {
          "output_type": "execute_result",
          "data": {
            "text/plain": [
              "(             ltr     corpr      svar       d/e       tms       dfy      ntis      infl       d/p       d/y       e/p    b/m_FD    tbl_FD    lty_FD       dfr\n",
              " ltr     1.000000  0.867496  0.124359 -0.009870 -0.012345  0.144381 -0.054186 -0.125912 -0.022039 -0.032731 -0.014742 -0.011490 -0.034961 -0.117420 -0.426798\n",
              " corpr   0.867496  1.000000  0.062749  0.051745  0.033279  0.207948 -0.064883 -0.146807 -0.033954 -0.047878 -0.066854 -0.036049 -0.069127 -0.115281  0.079616\n",
              " svar    0.124359  0.062749  1.000000  0.246063  0.151751  0.414724 -0.265416 -0.152068 -0.061987 -0.054413 -0.221998 -0.058352 -0.173458 -0.027382 -0.135125\n",
              " d/e    -0.009870  0.051745  0.246063  1.000000  0.175410  0.224905  0.073208 -0.033817  0.286564  0.288229 -0.383012  0.108340 -0.054944 -0.067177  0.113852\n",
              " tms    -0.012345  0.033279  0.151751  0.175410  1.000000  0.265827 -0.156518 -0.172814 -0.241907 -0.247858 -0.348891 -0.274746 -0.417904  0.059073  0.085239\n",
              " dfy     0.144381  0.207948  0.414724  0.224905  0.265827  1.000000 -0.387129 -0.018432  0.099789  0.097909 -0.052068  0.133919 -0.016667  0.355061  0.088722\n",
              " ntis   -0.054186 -0.064883 -0.265416  0.073208 -0.156518 -0.387129  1.000000  0.182857  0.324167  0.322387  0.264289  0.367240  0.232560  0.087310 -0.009374\n",
              " infl   -0.125912 -0.146807 -0.152068 -0.033817 -0.172814 -0.018432  0.182857  1.000000  0.230630  0.238347  0.244665  0.287853  0.186891  0.205556 -0.014580\n",
              " d/p    -0.022039 -0.033954 -0.061987  0.286564 -0.241907  0.099789  0.324167  0.230630  1.000000  0.995630  0.775245  0.892570  0.262188  0.094241 -0.017563\n",
              " d/y    -0.032731 -0.047878 -0.054413  0.288229 -0.247858  0.097909  0.322387  0.238347  0.995630  1.000000  0.769934  0.891094  0.265261  0.098404 -0.021452\n",
              " e/p    -0.014742 -0.066854 -0.221998 -0.383012 -0.348891 -0.052068  0.264289  0.244665  0.775245  0.769934  1.000000  0.789169  0.289022  0.135155 -0.091997\n",
              " b/m_FD -0.011490 -0.036049 -0.058352  0.108340 -0.274746  0.133919  0.367240  0.287853  0.892570  0.891094  0.789169  1.000000  0.260246  0.167935 -0.042514\n",
              " tbl_FD -0.034961 -0.069127 -0.173458 -0.054944 -0.417904 -0.016667  0.232560  0.186891  0.262188  0.265261  0.289022  0.260246  1.000000  0.673224 -0.055615\n",
              " lty_FD -0.117420 -0.115281 -0.027382 -0.067177  0.059073  0.355061  0.087310  0.205556  0.094241  0.098404  0.135155  0.167935  0.673224  1.000000  0.025718\n",
              " dfr    -0.426798  0.079616 -0.135125  0.113852  0.085239  0.088722 -0.009374 -0.014580 -0.017563 -0.021452 -0.091997 -0.042514 -0.055615  0.025718  1.000000,\n",
              " {0: ['ltr', 'corpr', 'svar', 'd/e', 'tms', 'dfy'],\n",
              "  1: ['ntis', 'infl', 'd/p', 'd/y', 'e/p', 'b/m_FD', 'tbl_FD', 'lty_FD'],\n",
              "  2: ['dfr']},\n",
              " ntis      0.145593\n",
              " infl      0.105399\n",
              " ltr       0.235017\n",
              " corpr     0.268622\n",
              " svar      0.246751\n",
              " d/p       0.419621\n",
              " d/y       0.420132\n",
              " e/p       0.375693\n",
              " d/e       0.146206\n",
              " tms       0.262162\n",
              " dfy       0.203800\n",
              " dfr       0.107726\n",
              " b/m_FD    0.409844\n",
              " tbl_FD    0.174984\n",
              " lty_FD    0.036953\n",
              " dtype: float64)"
            ]
          },
          "metadata": {},
          "execution_count": 33
        }
      ]
    },
    {
      "cell_type": "markdown",
      "source": [
        "# Question 4\n",
        "\n",
        "Set the random seed to 2. Repeat Part 3. How many clusters did you find?  What are the top 2 clusters? (3 pt)"
      ],
      "metadata": {
        "id": "xKKHZosBRlrP"
      }
    },
    {
      "cell_type": "code",
      "source": [
        "np.random.seed(1)"
      ],
      "metadata": {
        "id": "EFlU6yzWSFJO"
      },
      "execution_count": 34,
      "outputs": []
    },
    {
      "cell_type": "markdown",
      "source": [
        "## Using clusterKMeansTop_0(3 param)"
      ],
      "metadata": {
        "id": "aECaGdVgSFJO"
      }
    },
    {
      "cell_type": "code",
      "source": [
        "#---------------------------------------------------\n",
        "def clusterKMeansTop_00(corr0,maxNumClusters,n_init, n_seed):\n",
        "    if maxNumClusters==None:maxNumClusters=corr0.shape[1]-1\n",
        "    corr1,clstrs,silh=clusterKMeansBase_0(corr0,maxNumClusters= \\\n",
        "        min(maxNumClusters,corr0.shape[1]-1),n_init=n_init, seed = n_seed)\n",
        "    clusterTstats={i:np.mean(silh[clstrs[i]])/ \\\n",
        "        np.std(silh[clstrs[i]]) for i in clstrs.keys()}\n",
        "    tStatMean=sum(clusterTstats.values())/len(clusterTstats)\n",
        "    redoClusters=[i for i in clusterTstats.keys() if \\\n",
        "        clusterTstats[i]<tStatMean]\n",
        "    if len(redoClusters)<=1:\n",
        "        return corr1,clstrs,silh\n",
        "    else:\n",
        "        keysRedo=[j for i in redoClusters for j in clstrs[i]]\n",
        "        corrTmp=corr0.loc[keysRedo,keysRedo]\n",
        "        tStatMean=np.mean([clusterTstats[i] for i in redoClusters])\n",
        "        corr2,clstrs2,silh2=clusterKMeansTop(corrTmp)\n",
        "        #, \\\n",
        "           # maxNumClusters=min(maxNumClusters, \\\n",
        "           # corrTmp.shape[1]-1),n_init=n_init)\n",
        "        # Make new outputs, if necessary\n",
        "        corrNew,clstrsNew,silhNew=makeNewOutputs(corr0, \\\n",
        "            {i:clstrs[i] for i in clstrs.keys() if i not in redoClusters}, \\\n",
        "            clstrs2)\n",
        "        newTstatMean=np.mean([np.mean(silhNew[clstrsNew[i]])/ \\\n",
        "            np.std(silhNew[clstrsNew[i]]) for i in clstrsNew.keys()])\n",
        "        if newTstatMean<=tStatMean:\n",
        "            return corr1,clstrs,silh\n",
        "        else:\n",
        "            return corrNew,clstrsNew,silhNew"
      ],
      "metadata": {
        "id": "z25b1RfMSFJO"
      },
      "execution_count": 35,
      "outputs": []
    },
    {
      "cell_type": "code",
      "source": [
        "# def clusterKMeansTop_00(corr0,maxNumClusters,n_init):\n",
        "#            return corrNew,clstrsNew,silhNew\n",
        "\n",
        "corr4,clstrs4,silh4 = clusterKMeansTop_00(x_train1.corr(), maxNumClusters = 10,\n",
        "                                        n_init = 7, n_seed = 1)\n",
        "corr4,clstrs4,silh4"
      ],
      "metadata": {
        "colab": {
          "base_uri": "https://localhost:8080/"
        },
        "outputId": "5c75863b-7026-4c18-e364-5cfe1d5c178c",
        "id": "Thnlxfj5SFJO"
      },
      "execution_count": 36,
      "outputs": [
        {
          "output_type": "stream",
          "name": "stderr",
          "text": [
            "<ipython-input-17-fb9cb799cfd1>:3: DeprecationWarning: The default dtype for empty Series will be 'object' instead of 'float64' in a future version. Specify a dtype explicitly to silence this warning.\n",
            "  x,silh=((1-corr0.fillna(0))/2.)**.5,pd.Series()# observations matrix\n",
            "<ipython-input-8-242de6d6205f>:21: DeprecationWarning: The default dtype for empty Series will be 'object' instead of 'float64' in a future version. Specify a dtype explicitly to silence this warning.\n",
            "  x,silh=((1-corr0.fillna(0))/2.)**.5,pd.Series()# observations matrix\n",
            "/usr/local/lib/python3.9/dist-packages/sklearn/cluster/_agglomerative.py:983: FutureWarning: Attribute `affinity` was deprecated in version 1.2 and will be removed in 1.4. Use `metric` instead\n",
            "  warnings.warn(\n"
          ]
        },
        {
          "output_type": "execute_result",
          "data": {
            "text/plain": [
              "(             ltr     corpr      svar       d/e       tms       dfy       dfr       d/p       d/y       e/p    b/m_FD      ntis      infl    tbl_FD    lty_FD\n",
              " ltr     1.000000  0.867496  0.124359 -0.009870 -0.012345  0.144381 -0.426798 -0.022039 -0.032731 -0.014742 -0.011490 -0.054186 -0.125912 -0.034961 -0.117420\n",
              " corpr   0.867496  1.000000  0.062749  0.051745  0.033279  0.207948  0.079616 -0.033954 -0.047878 -0.066854 -0.036049 -0.064883 -0.146807 -0.069127 -0.115281\n",
              " svar    0.124359  0.062749  1.000000  0.246063  0.151751  0.414724 -0.135125 -0.061987 -0.054413 -0.221998 -0.058352 -0.265416 -0.152068 -0.173458 -0.027382\n",
              " d/e    -0.009870  0.051745  0.246063  1.000000  0.175410  0.224905  0.113852  0.286564  0.288229 -0.383012  0.108340  0.073208 -0.033817 -0.054944 -0.067177\n",
              " tms    -0.012345  0.033279  0.151751  0.175410  1.000000  0.265827  0.085239 -0.241907 -0.247858 -0.348891 -0.274746 -0.156518 -0.172814 -0.417904  0.059073\n",
              " dfy     0.144381  0.207948  0.414724  0.224905  0.265827  1.000000  0.088722  0.099789  0.097909 -0.052068  0.133919 -0.387129 -0.018432 -0.016667  0.355061\n",
              " dfr    -0.426798  0.079616 -0.135125  0.113852  0.085239  0.088722  1.000000 -0.017563 -0.021452 -0.091997 -0.042514 -0.009374 -0.014580 -0.055615  0.025718\n",
              " d/p    -0.022039 -0.033954 -0.061987  0.286564 -0.241907  0.099789 -0.017563  1.000000  0.995630  0.775245  0.892570  0.324167  0.230630  0.262188  0.094241\n",
              " d/y    -0.032731 -0.047878 -0.054413  0.288229 -0.247858  0.097909 -0.021452  0.995630  1.000000  0.769934  0.891094  0.322387  0.238347  0.265261  0.098404\n",
              " e/p    -0.014742 -0.066854 -0.221998 -0.383012 -0.348891 -0.052068 -0.091997  0.775245  0.769934  1.000000  0.789169  0.264289  0.244665  0.289022  0.135155\n",
              " b/m_FD -0.011490 -0.036049 -0.058352  0.108340 -0.274746  0.133919 -0.042514  0.892570  0.891094  0.789169  1.000000  0.367240  0.287853  0.260246  0.167935\n",
              " ntis   -0.054186 -0.064883 -0.265416  0.073208 -0.156518 -0.387129 -0.009374  0.324167  0.322387  0.264289  0.367240  1.000000  0.182857  0.232560  0.087310\n",
              " infl   -0.125912 -0.146807 -0.152068 -0.033817 -0.172814 -0.018432 -0.014580  0.230630  0.238347  0.244665  0.287853  0.182857  1.000000  0.186891  0.205556\n",
              " tbl_FD -0.034961 -0.069127 -0.173458 -0.054944 -0.417904 -0.016667 -0.055615  0.262188  0.265261  0.289022  0.260246  0.232560  0.186891  1.000000  0.673224\n",
              " lty_FD -0.117420 -0.115281 -0.027382 -0.067177  0.059073  0.355061  0.025718  0.094241  0.098404  0.135155  0.167935  0.087310  0.205556  0.673224  1.000000,\n",
              " {0: ['ltr', 'corpr'],\n",
              "  1: ['svar', 'd/e', 'tms', 'dfy', 'dfr'],\n",
              "  2: ['d/p', 'd/y', 'e/p', 'b/m_FD', 'ntis', 'infl', 'tbl_FD', 'lty_FD']},\n",
              " ntis      0.137369\n",
              " infl      0.081335\n",
              " ltr       0.642837\n",
              " corpr     0.627580\n",
              " svar      0.114256\n",
              " d/p       0.410960\n",
              " d/y       0.411042\n",
              " e/p       0.375443\n",
              " d/e       0.151015\n",
              " tms       0.145204\n",
              " dfy       0.113865\n",
              " dfr       0.147668\n",
              " b/m_FD    0.402513\n",
              " tbl_FD    0.166062\n",
              " lty_FD   -0.004733\n",
              " dtype: float64)"
            ]
          },
          "metadata": {},
          "execution_count": 36
        }
      ]
    },
    {
      "cell_type": "markdown",
      "source": [
        "## Using clusterKMeansTop(1 param)\n",
        "\n"
      ],
      "metadata": {
        "id": "H9Lot1DdSFJO"
      }
    },
    {
      "cell_type": "code",
      "source": [
        "#---------------------------------------------------\n",
        "def clusterKMeansTop(corr0):\n",
        "    corr1,clstrs,silh=clusterKMeansBase(corr0)\n",
        "    clusterTstats={i:np.mean(silh[clstrs[i]])/ \\\n",
        "        np.std(silh[clstrs[i]]) for i in clstrs.keys() if len(clstrs[i])>1}\n",
        "    tStatMean=sum(np.array(list(clusterTstats.values())))/len(clusterTstats)\n",
        "    redoClusters=[i for i in clusterTstats.keys() if \\\n",
        "        clusterTstats[i]<tStatMean]\n",
        "    if len(redoClusters)<=1:\n",
        "        return corr1,clstrs,silh\n",
        "    else:\n",
        "        keysRedo=[j for i in redoClusters for j in clstrs[i]]\n",
        "        corrTmp=corr0.loc[keysRedo,keysRedo]\n",
        "        tStatMean=np.mean([clusterTstats[i] for i in redoClusters])\n",
        "        corr2,clstrs2,silh2=clusterKMeansTop(corrTmp)\n",
        "        # Make new outputs, if necessary\n",
        "        corrNew,clstrsNew,silhNew=makeNewOutputs(corr0, \\\n",
        "            {i:clstrs[i] for i in clstrs.keys() if i not in redoClusters}, \\\n",
        "            clstrs2)\n",
        "        newTstatMean=np.mean([np.mean(silhNew[clstrsNew[i]])/ \\\n",
        "            np.std(silhNew[clstrsNew[i]]) for i in clstrsNew.keys() if len(clstrsNew[i])>1])\n",
        "        if newTstatMean<=tStatMean:\n",
        "            return corr1,clstrs,silh\n",
        "        else:\n",
        "            return corrNew,clstrsNew,silhNew"
      ],
      "metadata": {
        "id": "8kruIuOkSFJP"
      },
      "execution_count": 37,
      "outputs": []
    },
    {
      "cell_type": "code",
      "source": [
        "np.random.seed(1)"
      ],
      "metadata": {
        "id": "eglFVj9eSFJP"
      },
      "execution_count": 38,
      "outputs": []
    },
    {
      "cell_type": "code",
      "source": [
        "corr4a,clstrs4a,silh4a= clusterKMeansTop(x_train1.corr())\n",
        "corr4a,clstrs4a,silh4a"
      ],
      "metadata": {
        "colab": {
          "base_uri": "https://localhost:8080/"
        },
        "outputId": "848b7775-9bdd-402a-de10-1f5d33ca9111",
        "id": "BkfZ-6JOSFJP"
      },
      "execution_count": 39,
      "outputs": [
        {
          "output_type": "stream",
          "name": "stderr",
          "text": [
            "<ipython-input-8-242de6d6205f>:21: DeprecationWarning: The default dtype for empty Series will be 'object' instead of 'float64' in a future version. Specify a dtype explicitly to silence this warning.\n",
            "  x,silh=((1-corr0.fillna(0))/2.)**.5,pd.Series()# observations matrix\n",
            "/usr/local/lib/python3.9/dist-packages/sklearn/cluster/_agglomerative.py:983: FutureWarning: Attribute `affinity` was deprecated in version 1.2 and will be removed in 1.4. Use `metric` instead\n",
            "  warnings.warn(\n",
            "/usr/local/lib/python3.9/dist-packages/sklearn/cluster/_agglomerative.py:983: FutureWarning: Attribute `affinity` was deprecated in version 1.2 and will be removed in 1.4. Use `metric` instead\n",
            "  warnings.warn(\n"
          ]
        },
        {
          "output_type": "execute_result",
          "data": {
            "text/plain": [
              "(             ltr     corpr      svar       d/e       tms       dfy      ntis      infl       d/p       d/y       e/p    b/m_FD    tbl_FD    lty_FD       dfr\n",
              " ltr     1.000000  0.867496  0.124359 -0.009870 -0.012345  0.144381 -0.054186 -0.125912 -0.022039 -0.032731 -0.014742 -0.011490 -0.034961 -0.117420 -0.426798\n",
              " corpr   0.867496  1.000000  0.062749  0.051745  0.033279  0.207948 -0.064883 -0.146807 -0.033954 -0.047878 -0.066854 -0.036049 -0.069127 -0.115281  0.079616\n",
              " svar    0.124359  0.062749  1.000000  0.246063  0.151751  0.414724 -0.265416 -0.152068 -0.061987 -0.054413 -0.221998 -0.058352 -0.173458 -0.027382 -0.135125\n",
              " d/e    -0.009870  0.051745  0.246063  1.000000  0.175410  0.224905  0.073208 -0.033817  0.286564  0.288229 -0.383012  0.108340 -0.054944 -0.067177  0.113852\n",
              " tms    -0.012345  0.033279  0.151751  0.175410  1.000000  0.265827 -0.156518 -0.172814 -0.241907 -0.247858 -0.348891 -0.274746 -0.417904  0.059073  0.085239\n",
              " dfy     0.144381  0.207948  0.414724  0.224905  0.265827  1.000000 -0.387129 -0.018432  0.099789  0.097909 -0.052068  0.133919 -0.016667  0.355061  0.088722\n",
              " ntis   -0.054186 -0.064883 -0.265416  0.073208 -0.156518 -0.387129  1.000000  0.182857  0.324167  0.322387  0.264289  0.367240  0.232560  0.087310 -0.009374\n",
              " infl   -0.125912 -0.146807 -0.152068 -0.033817 -0.172814 -0.018432  0.182857  1.000000  0.230630  0.238347  0.244665  0.287853  0.186891  0.205556 -0.014580\n",
              " d/p    -0.022039 -0.033954 -0.061987  0.286564 -0.241907  0.099789  0.324167  0.230630  1.000000  0.995630  0.775245  0.892570  0.262188  0.094241 -0.017563\n",
              " d/y    -0.032731 -0.047878 -0.054413  0.288229 -0.247858  0.097909  0.322387  0.238347  0.995630  1.000000  0.769934  0.891094  0.265261  0.098404 -0.021452\n",
              " e/p    -0.014742 -0.066854 -0.221998 -0.383012 -0.348891 -0.052068  0.264289  0.244665  0.775245  0.769934  1.000000  0.789169  0.289022  0.135155 -0.091997\n",
              " b/m_FD -0.011490 -0.036049 -0.058352  0.108340 -0.274746  0.133919  0.367240  0.287853  0.892570  0.891094  0.789169  1.000000  0.260246  0.167935 -0.042514\n",
              " tbl_FD -0.034961 -0.069127 -0.173458 -0.054944 -0.417904 -0.016667  0.232560  0.186891  0.262188  0.265261  0.289022  0.260246  1.000000  0.673224 -0.055615\n",
              " lty_FD -0.117420 -0.115281 -0.027382 -0.067177  0.059073  0.355061  0.087310  0.205556  0.094241  0.098404  0.135155  0.167935  0.673224  1.000000  0.025718\n",
              " dfr    -0.426798  0.079616 -0.135125  0.113852  0.085239  0.088722 -0.009374 -0.014580 -0.017563 -0.021452 -0.091997 -0.042514 -0.055615  0.025718  1.000000,\n",
              " {0: ['ltr', 'corpr', 'svar', 'd/e', 'tms', 'dfy'],\n",
              "  1: ['ntis', 'infl', 'd/p', 'd/y', 'e/p', 'b/m_FD', 'tbl_FD', 'lty_FD'],\n",
              "  2: ['dfr']},\n",
              " ntis      0.145593\n",
              " infl      0.105399\n",
              " ltr       0.235017\n",
              " corpr     0.268622\n",
              " svar      0.246751\n",
              " d/p       0.419621\n",
              " d/y       0.420132\n",
              " e/p       0.375693\n",
              " d/e       0.146206\n",
              " tms       0.262162\n",
              " dfy       0.203800\n",
              " dfr       0.107726\n",
              " b/m_FD    0.409844\n",
              " tbl_FD    0.174984\n",
              " lty_FD    0.036953\n",
              " dtype: float64)"
            ]
          },
          "metadata": {},
          "execution_count": 39
        }
      ]
    },
    {
      "cell_type": "code",
      "source": [
        "#---------------------------------------------------\n",
        "def clusterKMeansTop_0(corr0):\n",
        "    corr1,clstrs,silh=clusterKMeansBase(corr0)\n",
        "    clusterTstats={i:np.mean(silh[clstrs[i]])/ \\\n",
        "        np.std(silh[clstrs[i]]) for i in clstrs.keys() if len(clstrs[i])>1}\n",
        "    tStatMean=sum(np.array(list(clusterTstats.values())))/len(clusterTstats)\n",
        "    redoClusters=[i for i in clusterTstats.keys() if \\\n",
        "        clusterTstats[i]<tStatMean]\n",
        "    if len(redoClusters)<=1:\n",
        "        return corr1,clstrs,silh\n",
        "    else:\n",
        "        keysRedo=[j for i in redoClusters for j in clstrs[i]]\n",
        "        corrTmp=corr0.loc[keysRedo,keysRedo]\n",
        "        tStatMean=np.mean([clusterTstats[i] for i in redoClusters])\n",
        "        corr2,clstrs2,silh2=clusterKMeansTop(corrTmp)\n",
        "        # Make new outputs, if necessary\n",
        "        corrNew,clstrsNew,silhNew=makeNewOutputs(corr0, \\\n",
        "            {i:clstrs[i] for i in clstrs.keys() if i not in redoClusters}, \\\n",
        "            clstrs2)\n",
        "        newTstatMean=np.mean([np.mean(silhNew[clstrsNew[i]])/ \\\n",
        "            np.std(silhNew[clstrsNew[i]]) for i in clstrsNew.keys() if len(clstrsNew[i])>1])\n",
        "        if newTstatMean<=tStatMean:\n",
        "            return corr1,clstrs,silh\n",
        "        else:\n",
        "            return corrNew,clstrsNew,silhNew"
      ],
      "metadata": {
        "id": "SEy7kCuZSFJP"
      },
      "execution_count": 40,
      "outputs": []
    },
    {
      "cell_type": "markdown",
      "source": [
        "## Using clusterKMeansTop_0(1 param)\n",
        "\n",
        "\n"
      ],
      "metadata": {
        "id": "g93Bl0QNSFJP"
      }
    },
    {
      "cell_type": "code",
      "source": [
        "np.random.seed(4)"
      ],
      "metadata": {
        "id": "rWhzX3q8SFJP"
      },
      "execution_count": 41,
      "outputs": []
    },
    {
      "cell_type": "code",
      "source": [
        "corr4b,clstrs4b,silh4b = clusterKMeansTop(x_train1.corr())\n",
        "corr4b,clstrs4b,silh4b"
      ],
      "metadata": {
        "colab": {
          "base_uri": "https://localhost:8080/"
        },
        "outputId": "d0560752-ab7f-4663-8296-2372d0cb48bf",
        "id": "jyOfMJFuSFJP"
      },
      "execution_count": 42,
      "outputs": [
        {
          "output_type": "stream",
          "name": "stderr",
          "text": [
            "<ipython-input-8-242de6d6205f>:21: DeprecationWarning: The default dtype for empty Series will be 'object' instead of 'float64' in a future version. Specify a dtype explicitly to silence this warning.\n",
            "  x,silh=((1-corr0.fillna(0))/2.)**.5,pd.Series()# observations matrix\n",
            "/usr/local/lib/python3.9/dist-packages/sklearn/cluster/_agglomerative.py:983: FutureWarning: Attribute `affinity` was deprecated in version 1.2 and will be removed in 1.4. Use `metric` instead\n",
            "  warnings.warn(\n",
            "/usr/local/lib/python3.9/dist-packages/sklearn/cluster/_agglomerative.py:983: FutureWarning: Attribute `affinity` was deprecated in version 1.2 and will be removed in 1.4. Use `metric` instead\n",
            "  warnings.warn(\n"
          ]
        },
        {
          "output_type": "execute_result",
          "data": {
            "text/plain": [
              "(             ltr     corpr      svar       d/e       tms       dfy      ntis      infl       d/p       d/y       e/p    b/m_FD    tbl_FD    lty_FD       dfr\n",
              " ltr     1.000000  0.867496  0.124359 -0.009870 -0.012345  0.144381 -0.054186 -0.125912 -0.022039 -0.032731 -0.014742 -0.011490 -0.034961 -0.117420 -0.426798\n",
              " corpr   0.867496  1.000000  0.062749  0.051745  0.033279  0.207948 -0.064883 -0.146807 -0.033954 -0.047878 -0.066854 -0.036049 -0.069127 -0.115281  0.079616\n",
              " svar    0.124359  0.062749  1.000000  0.246063  0.151751  0.414724 -0.265416 -0.152068 -0.061987 -0.054413 -0.221998 -0.058352 -0.173458 -0.027382 -0.135125\n",
              " d/e    -0.009870  0.051745  0.246063  1.000000  0.175410  0.224905  0.073208 -0.033817  0.286564  0.288229 -0.383012  0.108340 -0.054944 -0.067177  0.113852\n",
              " tms    -0.012345  0.033279  0.151751  0.175410  1.000000  0.265827 -0.156518 -0.172814 -0.241907 -0.247858 -0.348891 -0.274746 -0.417904  0.059073  0.085239\n",
              " dfy     0.144381  0.207948  0.414724  0.224905  0.265827  1.000000 -0.387129 -0.018432  0.099789  0.097909 -0.052068  0.133919 -0.016667  0.355061  0.088722\n",
              " ntis   -0.054186 -0.064883 -0.265416  0.073208 -0.156518 -0.387129  1.000000  0.182857  0.324167  0.322387  0.264289  0.367240  0.232560  0.087310 -0.009374\n",
              " infl   -0.125912 -0.146807 -0.152068 -0.033817 -0.172814 -0.018432  0.182857  1.000000  0.230630  0.238347  0.244665  0.287853  0.186891  0.205556 -0.014580\n",
              " d/p    -0.022039 -0.033954 -0.061987  0.286564 -0.241907  0.099789  0.324167  0.230630  1.000000  0.995630  0.775245  0.892570  0.262188  0.094241 -0.017563\n",
              " d/y    -0.032731 -0.047878 -0.054413  0.288229 -0.247858  0.097909  0.322387  0.238347  0.995630  1.000000  0.769934  0.891094  0.265261  0.098404 -0.021452\n",
              " e/p    -0.014742 -0.066854 -0.221998 -0.383012 -0.348891 -0.052068  0.264289  0.244665  0.775245  0.769934  1.000000  0.789169  0.289022  0.135155 -0.091997\n",
              " b/m_FD -0.011490 -0.036049 -0.058352  0.108340 -0.274746  0.133919  0.367240  0.287853  0.892570  0.891094  0.789169  1.000000  0.260246  0.167935 -0.042514\n",
              " tbl_FD -0.034961 -0.069127 -0.173458 -0.054944 -0.417904 -0.016667  0.232560  0.186891  0.262188  0.265261  0.289022  0.260246  1.000000  0.673224 -0.055615\n",
              " lty_FD -0.117420 -0.115281 -0.027382 -0.067177  0.059073  0.355061  0.087310  0.205556  0.094241  0.098404  0.135155  0.167935  0.673224  1.000000  0.025718\n",
              " dfr    -0.426798  0.079616 -0.135125  0.113852  0.085239  0.088722 -0.009374 -0.014580 -0.017563 -0.021452 -0.091997 -0.042514 -0.055615  0.025718  1.000000,\n",
              " {0: ['ltr', 'corpr', 'svar', 'd/e', 'tms', 'dfy'],\n",
              "  1: ['ntis', 'infl', 'd/p', 'd/y', 'e/p', 'b/m_FD', 'tbl_FD', 'lty_FD'],\n",
              "  2: ['dfr']},\n",
              " ntis      0.145593\n",
              " infl      0.105399\n",
              " ltr       0.235017\n",
              " corpr     0.268622\n",
              " svar      0.246751\n",
              " d/p       0.419621\n",
              " d/y       0.420132\n",
              " e/p       0.375693\n",
              " d/e       0.146206\n",
              " tms       0.262162\n",
              " dfy       0.203800\n",
              " dfr       0.107726\n",
              " b/m_FD    0.409844\n",
              " tbl_FD    0.174984\n",
              " lty_FD    0.036953\n",
              " dtype: float64)"
            ]
          },
          "metadata": {},
          "execution_count": 42
        }
      ]
    },
    {
      "cell_type": "code",
      "source": [],
      "metadata": {
        "id": "pWd23XzrR3wt"
      },
      "execution_count": 42,
      "outputs": []
    }
  ],
  "metadata": {
    "colab": {
      "collapsed_sections": [
        "e2e4rYsOaqE3"
      ],
      "toc_visible": true,
      "provenance": [],
      "machine_shape": "hm",
      "include_colab_link": true
    },
    "kernelspec": {
      "display_name": "Python 3",
      "name": "python3"
    },
    "language_info": {
      "name": "python"
    },
    "accelerator": "GPU",
    "gpuClass": "premium"
  },
  "nbformat": 4,
  "nbformat_minor": 0
}