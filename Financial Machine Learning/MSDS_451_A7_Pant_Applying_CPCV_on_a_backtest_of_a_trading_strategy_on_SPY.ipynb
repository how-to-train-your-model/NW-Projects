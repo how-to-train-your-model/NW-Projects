{
  "nbformat": 4,
  "nbformat_minor": 0,
  "metadata": {
    "colab": {
      "provenance": [],
      "toc_visible": true,
      "authorship_tag": "ABX9TyM36zvnevVATT0E+rZ8/qfV",
      "include_colab_link": true
    },
    "kernelspec": {
      "name": "python3",
      "display_name": "Python 3"
    },
    "language_info": {
      "name": "python"
    },
    "accelerator": "GPU",
    "gpuClass": "premium"
  },
  "cells": [
    {
      "cell_type": "markdown",
      "metadata": {
        "id": "view-in-github",
        "colab_type": "text"
      },
      "source": [
        "<a href=\"https://colab.research.google.com/github/how-to-train-your-model/data-science-portfolio/blob/main/MSDS_451_A7_Pant_Applying_CPCV_on_a_backtest_of_a_trading_strategy_on_SPY.ipynb\" target=\"_parent\"><img src=\"https://colab.research.google.com/assets/colab-badge.svg\" alt=\"Open In Colab\"/></a>"
      ]
    },
    {
      "cell_type": "markdown",
      "source": [
        "# Assignment 7\n",
        "  - In last week’s coding assignment, we observed that the Sharpe ratio of a backtest can be regarded as just one sample in a distribution of possible Sharpe ratios. For a backtest of a machine-learning-based strategy, we can generate even more samples by training different models based on different subsets of data. This is the idea behind Combinatorial Purged Cross Validation. We will apply that, again, to our trading strategy based on the SPX index monthly returns prediction.\n",
        "\n"
      ],
      "metadata": {
        "id": "34YhtFP0n8vS"
      }
    },
    {
      "cell_type": "markdown",
      "source": [
        "# Libraries and prep"
      ],
      "metadata": {
        "id": "0U2FMHAasE-U"
      }
    },
    {
      "cell_type": "code",
      "source": [
        "!pip install sweetviz\n",
        "!pip install pyfolio\n",
        "# !pip install mlfinlab --no-cache-dir\n",
        "# !pip install mlfinlab\n",
        "\n"
      ],
      "metadata": {
        "colab": {
          "base_uri": "https://localhost:8080/"
        },
        "id": "nn_-Wts5r-6h",
        "outputId": "c143e052-3c26-478b-c64a-707eb44eeffb"
      },
      "execution_count": 1,
      "outputs": [
        {
          "output_type": "stream",
          "name": "stdout",
          "text": [
            "Looking in indexes: https://pypi.org/simple, https://us-python.pkg.dev/colab-wheels/public/simple/\n",
            "Collecting sweetviz\n",
            "  Downloading sweetviz-2.1.4-py3-none-any.whl (15.1 MB)\n",
            "\u001b[2K     \u001b[90m━━━━━━━━━━━━━━━━━━━━━━━━━━━━━━━━━━━━━━━━\u001b[0m \u001b[32m15.1/15.1 MB\u001b[0m \u001b[31m60.5 MB/s\u001b[0m eta \u001b[36m0:00:00\u001b[0m\n",
            "\u001b[?25hRequirement already satisfied: tqdm>=4.43.0 in /usr/local/lib/python3.8/dist-packages (from sweetviz) (4.64.1)\n",
            "Requirement already satisfied: pandas!=1.0.0,!=1.0.1,!=1.0.2,>=0.25.3 in /usr/local/lib/python3.8/dist-packages (from sweetviz) (1.3.5)\n",
            "Requirement already satisfied: importlib-resources>=1.2.0 in /usr/local/lib/python3.8/dist-packages (from sweetviz) (5.12.0)\n",
            "Requirement already satisfied: matplotlib>=3.1.3 in /usr/local/lib/python3.8/dist-packages (from sweetviz) (3.5.3)\n",
            "Requirement already satisfied: jinja2>=2.11.1 in /usr/local/lib/python3.8/dist-packages (from sweetviz) (3.1.2)\n",
            "Requirement already satisfied: numpy>=1.16.0 in /usr/local/lib/python3.8/dist-packages (from sweetviz) (1.22.4)\n",
            "Requirement already satisfied: scipy>=1.3.2 in /usr/local/lib/python3.8/dist-packages (from sweetviz) (1.10.1)\n",
            "Requirement already satisfied: zipp>=3.1.0 in /usr/local/lib/python3.8/dist-packages (from importlib-resources>=1.2.0->sweetviz) (3.15.0)\n",
            "Requirement already satisfied: MarkupSafe>=2.0 in /usr/local/lib/python3.8/dist-packages (from jinja2>=2.11.1->sweetviz) (2.1.2)\n",
            "Requirement already satisfied: pillow>=6.2.0 in /usr/local/lib/python3.8/dist-packages (from matplotlib>=3.1.3->sweetviz) (8.4.0)\n",
            "Requirement already satisfied: packaging>=20.0 in /usr/local/lib/python3.8/dist-packages (from matplotlib>=3.1.3->sweetviz) (23.0)\n",
            "Requirement already satisfied: python-dateutil>=2.7 in /usr/local/lib/python3.8/dist-packages (from matplotlib>=3.1.3->sweetviz) (2.8.2)\n",
            "Requirement already satisfied: kiwisolver>=1.0.1 in /usr/local/lib/python3.8/dist-packages (from matplotlib>=3.1.3->sweetviz) (1.4.4)\n",
            "Requirement already satisfied: cycler>=0.10 in /usr/local/lib/python3.8/dist-packages (from matplotlib>=3.1.3->sweetviz) (0.11.0)\n",
            "Requirement already satisfied: pyparsing>=2.2.1 in /usr/local/lib/python3.8/dist-packages (from matplotlib>=3.1.3->sweetviz) (3.0.9)\n",
            "Requirement already satisfied: fonttools>=4.22.0 in /usr/local/lib/python3.8/dist-packages (from matplotlib>=3.1.3->sweetviz) (4.38.0)\n",
            "Requirement already satisfied: pytz>=2017.3 in /usr/local/lib/python3.8/dist-packages (from pandas!=1.0.0,!=1.0.1,!=1.0.2,>=0.25.3->sweetviz) (2022.7.1)\n",
            "Requirement already satisfied: six>=1.5 in /usr/local/lib/python3.8/dist-packages (from python-dateutil>=2.7->matplotlib>=3.1.3->sweetviz) (1.15.0)\n",
            "Installing collected packages: sweetviz\n",
            "Successfully installed sweetviz-2.1.4\n",
            "Looking in indexes: https://pypi.org/simple, https://us-python.pkg.dev/colab-wheels/public/simple/\n",
            "Collecting pyfolio\n",
            "  Downloading pyfolio-0.9.2.tar.gz (91 kB)\n",
            "\u001b[2K     \u001b[90m━━━━━━━━━━━━━━━━━━━━━━━━━━━━━━━━━━━━━━━━\u001b[0m \u001b[32m91.1/91.1 KB\u001b[0m \u001b[31m2.6 MB/s\u001b[0m eta \u001b[36m0:00:00\u001b[0m\n",
            "\u001b[?25h  Preparing metadata (setup.py) ... \u001b[?25l\u001b[?25hdone\n",
            "Requirement already satisfied: ipython>=3.2.3 in /usr/local/lib/python3.8/dist-packages (from pyfolio) (7.9.0)\n",
            "Requirement already satisfied: matplotlib>=1.4.0 in /usr/local/lib/python3.8/dist-packages (from pyfolio) (3.5.3)\n",
            "Requirement already satisfied: numpy>=1.11.1 in /usr/local/lib/python3.8/dist-packages (from pyfolio) (1.22.4)\n",
            "Requirement already satisfied: pandas>=0.18.1 in /usr/local/lib/python3.8/dist-packages (from pyfolio) (1.3.5)\n",
            "Requirement already satisfied: pytz>=2014.10 in /usr/local/lib/python3.8/dist-packages (from pyfolio) (2022.7.1)\n",
            "Requirement already satisfied: scipy>=0.14.0 in /usr/local/lib/python3.8/dist-packages (from pyfolio) (1.10.1)\n",
            "Requirement already satisfied: scikit-learn>=0.16.1 in /usr/local/lib/python3.8/dist-packages (from pyfolio) (1.2.1)\n",
            "Requirement already satisfied: seaborn>=0.7.1 in /usr/local/lib/python3.8/dist-packages (from pyfolio) (0.11.2)\n",
            "Collecting empyrical>=0.5.0\n",
            "  Downloading empyrical-0.5.5.tar.gz (52 kB)\n",
            "\u001b[2K     \u001b[90m━━━━━━━━━━━━━━━━━━━━━━━━━━━━━━━━━━━━━━━━\u001b[0m \u001b[32m52.8/52.8 KB\u001b[0m \u001b[31m3.0 MB/s\u001b[0m eta \u001b[36m0:00:00\u001b[0m\n",
            "\u001b[?25h  Preparing metadata (setup.py) ... \u001b[?25l\u001b[?25hdone\n",
            "Requirement already satisfied: pandas-datareader>=0.2 in /usr/local/lib/python3.8/dist-packages (from empyrical>=0.5.0->pyfolio) (0.9.0)\n",
            "Requirement already satisfied: pygments in /usr/local/lib/python3.8/dist-packages (from ipython>=3.2.3->pyfolio) (2.6.1)\n",
            "Requirement already satisfied: setuptools>=18.5 in /usr/local/lib/python3.8/dist-packages (from ipython>=3.2.3->pyfolio) (57.4.0)\n",
            "Requirement already satisfied: traitlets>=4.2 in /usr/local/lib/python3.8/dist-packages (from ipython>=3.2.3->pyfolio) (5.7.1)\n",
            "Requirement already satisfied: prompt-toolkit<2.1.0,>=2.0.0 in /usr/local/lib/python3.8/dist-packages (from ipython>=3.2.3->pyfolio) (2.0.10)\n",
            "Requirement already satisfied: decorator in /usr/local/lib/python3.8/dist-packages (from ipython>=3.2.3->pyfolio) (4.4.2)\n",
            "Collecting jedi>=0.10\n",
            "  Downloading jedi-0.18.2-py2.py3-none-any.whl (1.6 MB)\n",
            "\u001b[2K     \u001b[90m━━━━━━━━━━━━━━━━━━━━━━━━━━━━━━━━━━━━━━━━\u001b[0m \u001b[32m1.6/1.6 MB\u001b[0m \u001b[31m47.1 MB/s\u001b[0m eta \u001b[36m0:00:00\u001b[0m\n",
            "\u001b[?25hRequirement already satisfied: pexpect in /usr/local/lib/python3.8/dist-packages (from ipython>=3.2.3->pyfolio) (4.8.0)\n",
            "Requirement already satisfied: pickleshare in /usr/local/lib/python3.8/dist-packages (from ipython>=3.2.3->pyfolio) (0.7.5)\n",
            "Requirement already satisfied: backcall in /usr/local/lib/python3.8/dist-packages (from ipython>=3.2.3->pyfolio) (0.2.0)\n",
            "Requirement already satisfied: kiwisolver>=1.0.1 in /usr/local/lib/python3.8/dist-packages (from matplotlib>=1.4.0->pyfolio) (1.4.4)\n",
            "Requirement already satisfied: cycler>=0.10 in /usr/local/lib/python3.8/dist-packages (from matplotlib>=1.4.0->pyfolio) (0.11.0)\n",
            "Requirement already satisfied: pillow>=6.2.0 in /usr/local/lib/python3.8/dist-packages (from matplotlib>=1.4.0->pyfolio) (8.4.0)\n",
            "Requirement already satisfied: python-dateutil>=2.7 in /usr/local/lib/python3.8/dist-packages (from matplotlib>=1.4.0->pyfolio) (2.8.2)\n",
            "Requirement already satisfied: pyparsing>=2.2.1 in /usr/local/lib/python3.8/dist-packages (from matplotlib>=1.4.0->pyfolio) (3.0.9)\n",
            "Requirement already satisfied: packaging>=20.0 in /usr/local/lib/python3.8/dist-packages (from matplotlib>=1.4.0->pyfolio) (23.0)\n",
            "Requirement already satisfied: fonttools>=4.22.0 in /usr/local/lib/python3.8/dist-packages (from matplotlib>=1.4.0->pyfolio) (4.38.0)\n",
            "Requirement already satisfied: joblib>=1.1.1 in /usr/local/lib/python3.8/dist-packages (from scikit-learn>=0.16.1->pyfolio) (1.2.0)\n",
            "Requirement already satisfied: threadpoolctl>=2.0.0 in /usr/local/lib/python3.8/dist-packages (from scikit-learn>=0.16.1->pyfolio) (3.1.0)\n",
            "Requirement already satisfied: parso<0.9.0,>=0.8.0 in /usr/local/lib/python3.8/dist-packages (from jedi>=0.10->ipython>=3.2.3->pyfolio) (0.8.3)\n",
            "Requirement already satisfied: requests>=2.19.0 in /usr/local/lib/python3.8/dist-packages (from pandas-datareader>=0.2->empyrical>=0.5.0->pyfolio) (2.25.1)\n",
            "Requirement already satisfied: lxml in /usr/local/lib/python3.8/dist-packages (from pandas-datareader>=0.2->empyrical>=0.5.0->pyfolio) (4.9.2)\n",
            "Requirement already satisfied: six>=1.9.0 in /usr/local/lib/python3.8/dist-packages (from prompt-toolkit<2.1.0,>=2.0.0->ipython>=3.2.3->pyfolio) (1.15.0)\n",
            "Requirement already satisfied: wcwidth in /usr/local/lib/python3.8/dist-packages (from prompt-toolkit<2.1.0,>=2.0.0->ipython>=3.2.3->pyfolio) (0.2.6)\n",
            "Requirement already satisfied: ptyprocess>=0.5 in /usr/local/lib/python3.8/dist-packages (from pexpect->ipython>=3.2.3->pyfolio) (0.7.0)\n",
            "Requirement already satisfied: certifi>=2017.4.17 in /usr/local/lib/python3.8/dist-packages (from requests>=2.19.0->pandas-datareader>=0.2->empyrical>=0.5.0->pyfolio) (2022.12.7)\n",
            "Requirement already satisfied: idna<3,>=2.5 in /usr/local/lib/python3.8/dist-packages (from requests>=2.19.0->pandas-datareader>=0.2->empyrical>=0.5.0->pyfolio) (2.10)\n",
            "Requirement already satisfied: urllib3<1.27,>=1.21.1 in /usr/local/lib/python3.8/dist-packages (from requests>=2.19.0->pandas-datareader>=0.2->empyrical>=0.5.0->pyfolio) (1.26.14)\n",
            "Requirement already satisfied: chardet<5,>=3.0.2 in /usr/local/lib/python3.8/dist-packages (from requests>=2.19.0->pandas-datareader>=0.2->empyrical>=0.5.0->pyfolio) (4.0.0)\n",
            "Building wheels for collected packages: pyfolio, empyrical\n",
            "  Building wheel for pyfolio (setup.py) ... \u001b[?25l\u001b[?25hdone\n",
            "  Created wheel for pyfolio: filename=pyfolio-0.9.2-py3-none-any.whl size=88681 sha256=1fbd5b68ee04efc1e3bde1d82b8050a89e440cf0f7ae850b943a67f6447a9156\n",
            "  Stored in directory: /root/.cache/pip/wheels/42/16/92/9c9d49efccc497040268960f0825101cc9b1c6e41cdc5a409e\n",
            "  Building wheel for empyrical (setup.py) ... \u001b[?25l\u001b[?25hdone\n",
            "  Created wheel for empyrical: filename=empyrical-0.5.5-py3-none-any.whl size=39778 sha256=eb7de717500cefe2e50e15d8929e4967796f231c50d1bc9a3b97209087b6dcfc\n",
            "  Stored in directory: /root/.cache/pip/wheels/0d/68/bb/926065fb744e7d7cb67334cb1a9c696722abc8303e5dc9a8d0\n",
            "Successfully built pyfolio empyrical\n",
            "Installing collected packages: jedi, empyrical, pyfolio\n",
            "Successfully installed empyrical-0.5.5 jedi-0.18.2 pyfolio-0.9.2\n"
          ]
        }
      ]
    },
    {
      "cell_type": "code",
      "execution_count": 2,
      "metadata": {
        "colab": {
          "base_uri": "https://localhost:8080/"
        },
        "id": "tyga9jTUnsHE",
        "outputId": "e07a9240-978b-4fe4-906c-06978a3aec0b"
      },
      "outputs": [
        {
          "output_type": "stream",
          "name": "stderr",
          "text": [
            "/usr/local/lib/python3.8/dist-packages/pyfolio/pos.py:26: UserWarning: Module \"zipline.assets\" not found; mutltipliers will not be applied to position notionals.\n",
            "  warnings.warn(\n"
          ]
        }
      ],
      "source": [
        "# load libraries\n",
        "import pandas as pd\n",
        "import numpy as np\n",
        "import random\n",
        "import matplotlib.pyplot as plt\n",
        "import seaborn as sns\n",
        "from statsmodels.tsa.stattools import adfuller\n",
        "from sklearn.model_selection import RandomizedSearchCV, train_test_split\n",
        "from sklearn.ensemble import RandomForestClassifier\n",
        "from sklearn.inspection import permutation_importance\n",
        "from sklearn.model_selection import cross_val_score, cross_validate\n",
        "\n",
        "from sklearn.preprocessing import StandardScaler\n",
        "from sklearn.metrics import accuracy_score, f1_score, roc_auc_score\n",
        "import sweetviz as sv\n",
        "from sklearn.impute import SimpleImputer\n",
        "from datetime import datetime\n",
        "from sklearn import preprocessing\n",
        "from sklearn import metrics\n",
        "from sklearn.metrics import log_loss,accuracy_score\n",
        "from sklearn import tree\n",
        "from sklearn.tree import DecisionTreeClassifier\n",
        "from sklearn.ensemble import BaggingClassifier\n",
        "from sklearn.ensemble import RandomForestRegressor\n",
        "import warnings\n",
        "import pickle\n",
        "import pyfolio as pf\n"
      ]
    },
    {
      "cell_type": "code",
      "source": [
        "# Allows for muliple output in one cell window\n",
        "from IPython.core.interactiveshell import InteractiveShell\n",
        "InteractiveShell.ast_node_interactivity = \"all\"\n",
        "\n",
        "#Allows for viewing the complete data in a single window \n",
        "pd.set_option('display.max_rows', 500)\n",
        "pd.set_option('display.max_columns', 500)\n",
        "pd.set_option('display.width', 1000)\n",
        "\n",
        "warnings.simplefilter('ignore')\n"
      ],
      "metadata": {
        "id": "ez6MPDDtvhIp"
      },
      "execution_count": 3,
      "outputs": []
    },
    {
      "cell_type": "code",
      "source": [
        "from google.colab import drive\n",
        "drive.mount('/content/drive')\n",
        "!ls -l \"/content/drive/My Drive/Colab_Notebooks/MSDS-451/W7\""
      ],
      "metadata": {
        "colab": {
          "base_uri": "https://localhost:8080/"
        },
        "id": "_t_6kRHpvhGU",
        "outputId": "5456e078-b23d-4c39-b586-85f907f9fe06"
      },
      "execution_count": 4,
      "outputs": [
        {
          "output_type": "stream",
          "name": "stdout",
          "text": [
            "Mounted at /content/drive\n",
            "total 9867\n",
            "-rw------- 1 root root 4721852 Mar  5 21:01  ctreeTemp.sav\n",
            "-rw------- 1 root root    4849 Feb 27 00:27 'getCPCVtestset (1).ipynb'\n",
            "-rw------- 1 root root  292271 Mar  5 23:58 'MSDS-451_A7_Pant_Applying CPCV on a backtest of a trading strategy on SPY.docx'\n",
            "-rw------- 1 root root   33160 Mar  6 00:01 'MSDS-451_A7_Pant_Applying CPCV on a backtest of a trading strategy on SPY.ipynb'\n",
            "-rw------- 1 root root  225741 Mar  5 23:35 'MSDS 451 Assignment_06_Chan-1.ipynb'\n",
            "-rw------- 1 root root 4541224 Mar  5 20:36  random_search.sav\n",
            "-rw------- 1 root root  244386 Mar  4 18:38  S_P_mnthly_returns_input-3.csv\n",
            "-rw------- 1 root root   13711 Mar  4 18:38  S_P_mnthly_returns_output-3.csv\n",
            "-rw------- 1 root root   24148 Mar  4 18:50  SPY.csv\n"
          ]
        }
      ]
    },
    {
      "cell_type": "code",
      "source": [
        "w7_files = \"/content/drive/My Drive/Colab_Notebooks/MSDS-451/W7\""
      ],
      "metadata": {
        "id": "y9LzbIL3vhDo"
      },
      "execution_count": 5,
      "outputs": []
    },
    {
      "cell_type": "markdown",
      "source": [
        "#Q1\n",
        "Suppose you have a data set of 10 bars, which include a test set of 2 bars. Denote those bars 1,2, 3...10. Produce 3 examples of distinct backtest paths, identify the train sets and test sets used in each path. (3 pt)"
      ],
      "metadata": {
        "id": "EHqpgrsB2Ukr"
      }
    },
    {
      "cell_type": "markdown",
      "source": [
        "## Response:\n",
        "\n",
        "With test set of 2 bars out of 10 bars; we can have total of 45 possible combinations of train and test sets that can be used for backtesting this data set.\n",
        "\n",
        "10C2 = 10! / (2! * (10-2)!)\n",
        "\n",
        "**=45**"
      ],
      "metadata": {
        "id": "1k1PsEkrg93Z"
      }
    },
    {
      "cell_type": "markdown",
      "source": [
        "# Q2\n",
        "\n",
        "For our SPX data set, suppose we pick 5 groups of training sets, and with test sets of size 2, create the set of backtest paths using get CPCVtestset function provided and compute their Sharpe ratios. What are the mean and standard deviation of this set of Sharpe ratios? How do they compare with the Sharpe ratios computed on the train and test sets in the Parts 1 and 3 of last week’s assignment? (7 pt)"
      ],
      "metadata": {
        "id": "gULYGcZrOYfr"
      }
    },
    {
      "cell_type": "code",
      "source": [
        "X_data = pd.read_csv(w7_files+\"/S_P_mnthly_returns_input-3.csv\")\n",
        "y_data = pd.read_csv(w7_files+\"/S_P_mnthly_returns_output-3.csv\")\n",
        "\n",
        "X_data.head(2)\n",
        "y_data.head(2)\n",
        "X_data.dtypes\n",
        "#y_data.dtypes"
      ],
      "metadata": {
        "id": "GBf4jgpAdmDn",
        "colab": {
          "base_uri": "https://localhost:8080/",
          "height": 502
        },
        "outputId": "01e21587-a242-4f6d-b29d-00fb56b1c5da"
      },
      "execution_count": 6,
      "outputs": [
        {
          "output_type": "execute_result",
          "data": {
            "text/plain": [
              "       yyyymm      ntis      infl     ltr   corpr      svar       d/p       d/y       e/p       d/e     tms     dfy     dfr    b/m_FD   tbl_FD    lty_FD\n",
              "0  1945-12-01  0.025525  0.005525  0.0194  0.0133  0.001538 -3.269684 -3.337063 -2.894991 -0.374693  0.0161  0.0049 -0.0061 -0.216009 -2.99635 -1.507835\n",
              "1  1946-01-01  0.027969  0.000000  0.0025  0.0128  0.002645 -3.327012 -3.255014 -2.983423 -0.343589  0.0161  0.0047  0.0103 -0.264780 -2.99635 -1.486065"
            ],
            "text/html": [
              "\n",
              "  <div id=\"df-e6f5a60a-b6ed-4036-92bb-a709f8f2d789\">\n",
              "    <div class=\"colab-df-container\">\n",
              "      <div>\n",
              "<style scoped>\n",
              "    .dataframe tbody tr th:only-of-type {\n",
              "        vertical-align: middle;\n",
              "    }\n",
              "\n",
              "    .dataframe tbody tr th {\n",
              "        vertical-align: top;\n",
              "    }\n",
              "\n",
              "    .dataframe thead th {\n",
              "        text-align: right;\n",
              "    }\n",
              "</style>\n",
              "<table border=\"1\" class=\"dataframe\">\n",
              "  <thead>\n",
              "    <tr style=\"text-align: right;\">\n",
              "      <th></th>\n",
              "      <th>yyyymm</th>\n",
              "      <th>ntis</th>\n",
              "      <th>infl</th>\n",
              "      <th>ltr</th>\n",
              "      <th>corpr</th>\n",
              "      <th>svar</th>\n",
              "      <th>d/p</th>\n",
              "      <th>d/y</th>\n",
              "      <th>e/p</th>\n",
              "      <th>d/e</th>\n",
              "      <th>tms</th>\n",
              "      <th>dfy</th>\n",
              "      <th>dfr</th>\n",
              "      <th>b/m_FD</th>\n",
              "      <th>tbl_FD</th>\n",
              "      <th>lty_FD</th>\n",
              "    </tr>\n",
              "  </thead>\n",
              "  <tbody>\n",
              "    <tr>\n",
              "      <th>0</th>\n",
              "      <td>1945-12-01</td>\n",
              "      <td>0.025525</td>\n",
              "      <td>0.005525</td>\n",
              "      <td>0.0194</td>\n",
              "      <td>0.0133</td>\n",
              "      <td>0.001538</td>\n",
              "      <td>-3.269684</td>\n",
              "      <td>-3.337063</td>\n",
              "      <td>-2.894991</td>\n",
              "      <td>-0.374693</td>\n",
              "      <td>0.0161</td>\n",
              "      <td>0.0049</td>\n",
              "      <td>-0.0061</td>\n",
              "      <td>-0.216009</td>\n",
              "      <td>-2.99635</td>\n",
              "      <td>-1.507835</td>\n",
              "    </tr>\n",
              "    <tr>\n",
              "      <th>1</th>\n",
              "      <td>1946-01-01</td>\n",
              "      <td>0.027969</td>\n",
              "      <td>0.000000</td>\n",
              "      <td>0.0025</td>\n",
              "      <td>0.0128</td>\n",
              "      <td>0.002645</td>\n",
              "      <td>-3.327012</td>\n",
              "      <td>-3.255014</td>\n",
              "      <td>-2.983423</td>\n",
              "      <td>-0.343589</td>\n",
              "      <td>0.0161</td>\n",
              "      <td>0.0047</td>\n",
              "      <td>0.0103</td>\n",
              "      <td>-0.264780</td>\n",
              "      <td>-2.99635</td>\n",
              "      <td>-1.486065</td>\n",
              "    </tr>\n",
              "  </tbody>\n",
              "</table>\n",
              "</div>\n",
              "      <button class=\"colab-df-convert\" onclick=\"convertToInteractive('df-e6f5a60a-b6ed-4036-92bb-a709f8f2d789')\"\n",
              "              title=\"Convert this dataframe to an interactive table.\"\n",
              "              style=\"display:none;\">\n",
              "        \n",
              "  <svg xmlns=\"http://www.w3.org/2000/svg\" height=\"24px\"viewBox=\"0 0 24 24\"\n",
              "       width=\"24px\">\n",
              "    <path d=\"M0 0h24v24H0V0z\" fill=\"none\"/>\n",
              "    <path d=\"M18.56 5.44l.94 2.06.94-2.06 2.06-.94-2.06-.94-.94-2.06-.94 2.06-2.06.94zm-11 1L8.5 8.5l.94-2.06 2.06-.94-2.06-.94L8.5 2.5l-.94 2.06-2.06.94zm10 10l.94 2.06.94-2.06 2.06-.94-2.06-.94-.94-2.06-.94 2.06-2.06.94z\"/><path d=\"M17.41 7.96l-1.37-1.37c-.4-.4-.92-.59-1.43-.59-.52 0-1.04.2-1.43.59L10.3 9.45l-7.72 7.72c-.78.78-.78 2.05 0 2.83L4 21.41c.39.39.9.59 1.41.59.51 0 1.02-.2 1.41-.59l7.78-7.78 2.81-2.81c.8-.78.8-2.07 0-2.86zM5.41 20L4 18.59l7.72-7.72 1.47 1.35L5.41 20z\"/>\n",
              "  </svg>\n",
              "      </button>\n",
              "      \n",
              "  <style>\n",
              "    .colab-df-container {\n",
              "      display:flex;\n",
              "      flex-wrap:wrap;\n",
              "      gap: 12px;\n",
              "    }\n",
              "\n",
              "    .colab-df-convert {\n",
              "      background-color: #E8F0FE;\n",
              "      border: none;\n",
              "      border-radius: 50%;\n",
              "      cursor: pointer;\n",
              "      display: none;\n",
              "      fill: #1967D2;\n",
              "      height: 32px;\n",
              "      padding: 0 0 0 0;\n",
              "      width: 32px;\n",
              "    }\n",
              "\n",
              "    .colab-df-convert:hover {\n",
              "      background-color: #E2EBFA;\n",
              "      box-shadow: 0px 1px 2px rgba(60, 64, 67, 0.3), 0px 1px 3px 1px rgba(60, 64, 67, 0.15);\n",
              "      fill: #174EA6;\n",
              "    }\n",
              "\n",
              "    [theme=dark] .colab-df-convert {\n",
              "      background-color: #3B4455;\n",
              "      fill: #D2E3FC;\n",
              "    }\n",
              "\n",
              "    [theme=dark] .colab-df-convert:hover {\n",
              "      background-color: #434B5C;\n",
              "      box-shadow: 0px 1px 3px 1px rgba(0, 0, 0, 0.15);\n",
              "      filter: drop-shadow(0px 1px 2px rgba(0, 0, 0, 0.3));\n",
              "      fill: #FFFFFF;\n",
              "    }\n",
              "  </style>\n",
              "\n",
              "      <script>\n",
              "        const buttonEl =\n",
              "          document.querySelector('#df-e6f5a60a-b6ed-4036-92bb-a709f8f2d789 button.colab-df-convert');\n",
              "        buttonEl.style.display =\n",
              "          google.colab.kernel.accessAllowed ? 'block' : 'none';\n",
              "\n",
              "        async function convertToInteractive(key) {\n",
              "          const element = document.querySelector('#df-e6f5a60a-b6ed-4036-92bb-a709f8f2d789');\n",
              "          const dataTable =\n",
              "            await google.colab.kernel.invokeFunction('convertToInteractive',\n",
              "                                                     [key], {});\n",
              "          if (!dataTable) return;\n",
              "\n",
              "          const docLinkHtml = 'Like what you see? Visit the ' +\n",
              "            '<a target=\"_blank\" href=https://colab.research.google.com/notebooks/data_table.ipynb>data table notebook</a>'\n",
              "            + ' to learn more about interactive tables.';\n",
              "          element.innerHTML = '';\n",
              "          dataTable['output_type'] = 'display_data';\n",
              "          await google.colab.output.renderOutput(dataTable, element);\n",
              "          const docLink = document.createElement('div');\n",
              "          docLink.innerHTML = docLinkHtml;\n",
              "          element.appendChild(docLink);\n",
              "        }\n",
              "      </script>\n",
              "    </div>\n",
              "  </div>\n",
              "  "
            ]
          },
          "metadata": {},
          "execution_count": 6
        },
        {
          "output_type": "execute_result",
          "data": {
            "text/plain": [
              "       yyyymm  ret\n",
              "0  1945-12-01  1.0\n",
              "1  1946-01-01 -1.0"
            ],
            "text/html": [
              "\n",
              "  <div id=\"df-11a1b99d-1400-44b7-a603-7ab342038c7e\">\n",
              "    <div class=\"colab-df-container\">\n",
              "      <div>\n",
              "<style scoped>\n",
              "    .dataframe tbody tr th:only-of-type {\n",
              "        vertical-align: middle;\n",
              "    }\n",
              "\n",
              "    .dataframe tbody tr th {\n",
              "        vertical-align: top;\n",
              "    }\n",
              "\n",
              "    .dataframe thead th {\n",
              "        text-align: right;\n",
              "    }\n",
              "</style>\n",
              "<table border=\"1\" class=\"dataframe\">\n",
              "  <thead>\n",
              "    <tr style=\"text-align: right;\">\n",
              "      <th></th>\n",
              "      <th>yyyymm</th>\n",
              "      <th>ret</th>\n",
              "    </tr>\n",
              "  </thead>\n",
              "  <tbody>\n",
              "    <tr>\n",
              "      <th>0</th>\n",
              "      <td>1945-12-01</td>\n",
              "      <td>1.0</td>\n",
              "    </tr>\n",
              "    <tr>\n",
              "      <th>1</th>\n",
              "      <td>1946-01-01</td>\n",
              "      <td>-1.0</td>\n",
              "    </tr>\n",
              "  </tbody>\n",
              "</table>\n",
              "</div>\n",
              "      <button class=\"colab-df-convert\" onclick=\"convertToInteractive('df-11a1b99d-1400-44b7-a603-7ab342038c7e')\"\n",
              "              title=\"Convert this dataframe to an interactive table.\"\n",
              "              style=\"display:none;\">\n",
              "        \n",
              "  <svg xmlns=\"http://www.w3.org/2000/svg\" height=\"24px\"viewBox=\"0 0 24 24\"\n",
              "       width=\"24px\">\n",
              "    <path d=\"M0 0h24v24H0V0z\" fill=\"none\"/>\n",
              "    <path d=\"M18.56 5.44l.94 2.06.94-2.06 2.06-.94-2.06-.94-.94-2.06-.94 2.06-2.06.94zm-11 1L8.5 8.5l.94-2.06 2.06-.94-2.06-.94L8.5 2.5l-.94 2.06-2.06.94zm10 10l.94 2.06.94-2.06 2.06-.94-2.06-.94-.94-2.06-.94 2.06-2.06.94z\"/><path d=\"M17.41 7.96l-1.37-1.37c-.4-.4-.92-.59-1.43-.59-.52 0-1.04.2-1.43.59L10.3 9.45l-7.72 7.72c-.78.78-.78 2.05 0 2.83L4 21.41c.39.39.9.59 1.41.59.51 0 1.02-.2 1.41-.59l7.78-7.78 2.81-2.81c.8-.78.8-2.07 0-2.86zM5.41 20L4 18.59l7.72-7.72 1.47 1.35L5.41 20z\"/>\n",
              "  </svg>\n",
              "      </button>\n",
              "      \n",
              "  <style>\n",
              "    .colab-df-container {\n",
              "      display:flex;\n",
              "      flex-wrap:wrap;\n",
              "      gap: 12px;\n",
              "    }\n",
              "\n",
              "    .colab-df-convert {\n",
              "      background-color: #E8F0FE;\n",
              "      border: none;\n",
              "      border-radius: 50%;\n",
              "      cursor: pointer;\n",
              "      display: none;\n",
              "      fill: #1967D2;\n",
              "      height: 32px;\n",
              "      padding: 0 0 0 0;\n",
              "      width: 32px;\n",
              "    }\n",
              "\n",
              "    .colab-df-convert:hover {\n",
              "      background-color: #E2EBFA;\n",
              "      box-shadow: 0px 1px 2px rgba(60, 64, 67, 0.3), 0px 1px 3px 1px rgba(60, 64, 67, 0.15);\n",
              "      fill: #174EA6;\n",
              "    }\n",
              "\n",
              "    [theme=dark] .colab-df-convert {\n",
              "      background-color: #3B4455;\n",
              "      fill: #D2E3FC;\n",
              "    }\n",
              "\n",
              "    [theme=dark] .colab-df-convert:hover {\n",
              "      background-color: #434B5C;\n",
              "      box-shadow: 0px 1px 3px 1px rgba(0, 0, 0, 0.15);\n",
              "      filter: drop-shadow(0px 1px 2px rgba(0, 0, 0, 0.3));\n",
              "      fill: #FFFFFF;\n",
              "    }\n",
              "  </style>\n",
              "\n",
              "      <script>\n",
              "        const buttonEl =\n",
              "          document.querySelector('#df-11a1b99d-1400-44b7-a603-7ab342038c7e button.colab-df-convert');\n",
              "        buttonEl.style.display =\n",
              "          google.colab.kernel.accessAllowed ? 'block' : 'none';\n",
              "\n",
              "        async function convertToInteractive(key) {\n",
              "          const element = document.querySelector('#df-11a1b99d-1400-44b7-a603-7ab342038c7e');\n",
              "          const dataTable =\n",
              "            await google.colab.kernel.invokeFunction('convertToInteractive',\n",
              "                                                     [key], {});\n",
              "          if (!dataTable) return;\n",
              "\n",
              "          const docLinkHtml = 'Like what you see? Visit the ' +\n",
              "            '<a target=\"_blank\" href=https://colab.research.google.com/notebooks/data_table.ipynb>data table notebook</a>'\n",
              "            + ' to learn more about interactive tables.';\n",
              "          element.innerHTML = '';\n",
              "          dataTable['output_type'] = 'display_data';\n",
              "          await google.colab.output.renderOutput(dataTable, element);\n",
              "          const docLink = document.createElement('div');\n",
              "          docLink.innerHTML = docLinkHtml;\n",
              "          element.appendChild(docLink);\n",
              "        }\n",
              "      </script>\n",
              "    </div>\n",
              "  </div>\n",
              "  "
            ]
          },
          "metadata": {},
          "execution_count": 6
        },
        {
          "output_type": "execute_result",
          "data": {
            "text/plain": [
              "yyyymm     object\n",
              "ntis      float64\n",
              "infl      float64\n",
              "ltr       float64\n",
              "corpr     float64\n",
              "svar      float64\n",
              "d/p       float64\n",
              "d/y       float64\n",
              "e/p       float64\n",
              "d/e       float64\n",
              "tms       float64\n",
              "dfy       float64\n",
              "dfr       float64\n",
              "b/m_FD    float64\n",
              "tbl_FD    float64\n",
              "lty_FD    float64\n",
              "dtype: object"
            ]
          },
          "metadata": {},
          "execution_count": 6
        }
      ]
    },
    {
      "cell_type": "code",
      "source": [
        "\n",
        "# setting the date column as index for the dataset.\n",
        "# X_data = X_data.set_index('yyyymm')\n",
        "# y_data = y_data.set_index('yyyymm')\n",
        "X_data['yyyymm'] = pd.to_datetime(X_data['yyyymm'])\n",
        "y_data['yyyymm'] = pd.to_datetime(y_data['yyyymm'])\n",
        "\n",
        "X_data.set_index('yyyymm', inplace = True)\n",
        "y_data.set_index('yyyymm', inplace = True)"
      ],
      "metadata": {
        "id": "_oXyfmBvGej6"
      },
      "execution_count": 7,
      "outputs": []
    },
    {
      "cell_type": "code",
      "source": [
        "X_data.head()"
      ],
      "metadata": {
        "colab": {
          "base_uri": "https://localhost:8080/",
          "height": 238
        },
        "id": "7PLpv1IU98nC",
        "outputId": "719cb7db-ca74-418d-8af5-0c739814d60a"
      },
      "execution_count": 8,
      "outputs": [
        {
          "output_type": "execute_result",
          "data": {
            "text/plain": [
              "                ntis      infl     ltr   corpr      svar       d/p       d/y       e/p       d/e     tms     dfy     dfr    b/m_FD   tbl_FD    lty_FD\n",
              "yyyymm                                                                                                                                               \n",
              "1945-12-01  0.025525  0.005525  0.0194  0.0133  0.001538 -3.269684 -3.337063 -2.894991 -0.374693  0.0161  0.0049 -0.0061 -0.216009 -2.99635 -1.507835\n",
              "1946-01-01  0.027969  0.000000  0.0025  0.0128  0.002645 -3.327012 -3.255014 -2.983423 -0.343589  0.0161  0.0047  0.0103 -0.264780 -2.99635 -1.486065\n",
              "1946-02-01  0.031091 -0.005495  0.0032  0.0034  0.005942 -3.245065 -3.290322 -2.932931 -0.312134  0.0160  0.0047  0.0002 -0.167204 -2.99635 -1.481915\n",
              "1946-03-01  0.031188  0.011050  0.0010  0.0034  0.001497 -3.280469 -3.317389 -3.000167 -0.280302  0.0160  0.0047  0.0024 -0.190201 -2.99635 -1.474585\n",
              "1946-04-01  0.031307  0.005464 -0.0135 -0.0043  0.001078 -3.317389 -3.339531 -3.059560 -0.257829  0.0169  0.0050  0.0092 -0.222940 -2.99635 -1.425691"
            ],
            "text/html": [
              "\n",
              "  <div id=\"df-453b3c60-9407-4207-875d-68a4e20eba76\">\n",
              "    <div class=\"colab-df-container\">\n",
              "      <div>\n",
              "<style scoped>\n",
              "    .dataframe tbody tr th:only-of-type {\n",
              "        vertical-align: middle;\n",
              "    }\n",
              "\n",
              "    .dataframe tbody tr th {\n",
              "        vertical-align: top;\n",
              "    }\n",
              "\n",
              "    .dataframe thead th {\n",
              "        text-align: right;\n",
              "    }\n",
              "</style>\n",
              "<table border=\"1\" class=\"dataframe\">\n",
              "  <thead>\n",
              "    <tr style=\"text-align: right;\">\n",
              "      <th></th>\n",
              "      <th>ntis</th>\n",
              "      <th>infl</th>\n",
              "      <th>ltr</th>\n",
              "      <th>corpr</th>\n",
              "      <th>svar</th>\n",
              "      <th>d/p</th>\n",
              "      <th>d/y</th>\n",
              "      <th>e/p</th>\n",
              "      <th>d/e</th>\n",
              "      <th>tms</th>\n",
              "      <th>dfy</th>\n",
              "      <th>dfr</th>\n",
              "      <th>b/m_FD</th>\n",
              "      <th>tbl_FD</th>\n",
              "      <th>lty_FD</th>\n",
              "    </tr>\n",
              "    <tr>\n",
              "      <th>yyyymm</th>\n",
              "      <th></th>\n",
              "      <th></th>\n",
              "      <th></th>\n",
              "      <th></th>\n",
              "      <th></th>\n",
              "      <th></th>\n",
              "      <th></th>\n",
              "      <th></th>\n",
              "      <th></th>\n",
              "      <th></th>\n",
              "      <th></th>\n",
              "      <th></th>\n",
              "      <th></th>\n",
              "      <th></th>\n",
              "      <th></th>\n",
              "    </tr>\n",
              "  </thead>\n",
              "  <tbody>\n",
              "    <tr>\n",
              "      <th>1945-12-01</th>\n",
              "      <td>0.025525</td>\n",
              "      <td>0.005525</td>\n",
              "      <td>0.0194</td>\n",
              "      <td>0.0133</td>\n",
              "      <td>0.001538</td>\n",
              "      <td>-3.269684</td>\n",
              "      <td>-3.337063</td>\n",
              "      <td>-2.894991</td>\n",
              "      <td>-0.374693</td>\n",
              "      <td>0.0161</td>\n",
              "      <td>0.0049</td>\n",
              "      <td>-0.0061</td>\n",
              "      <td>-0.216009</td>\n",
              "      <td>-2.99635</td>\n",
              "      <td>-1.507835</td>\n",
              "    </tr>\n",
              "    <tr>\n",
              "      <th>1946-01-01</th>\n",
              "      <td>0.027969</td>\n",
              "      <td>0.000000</td>\n",
              "      <td>0.0025</td>\n",
              "      <td>0.0128</td>\n",
              "      <td>0.002645</td>\n",
              "      <td>-3.327012</td>\n",
              "      <td>-3.255014</td>\n",
              "      <td>-2.983423</td>\n",
              "      <td>-0.343589</td>\n",
              "      <td>0.0161</td>\n",
              "      <td>0.0047</td>\n",
              "      <td>0.0103</td>\n",
              "      <td>-0.264780</td>\n",
              "      <td>-2.99635</td>\n",
              "      <td>-1.486065</td>\n",
              "    </tr>\n",
              "    <tr>\n",
              "      <th>1946-02-01</th>\n",
              "      <td>0.031091</td>\n",
              "      <td>-0.005495</td>\n",
              "      <td>0.0032</td>\n",
              "      <td>0.0034</td>\n",
              "      <td>0.005942</td>\n",
              "      <td>-3.245065</td>\n",
              "      <td>-3.290322</td>\n",
              "      <td>-2.932931</td>\n",
              "      <td>-0.312134</td>\n",
              "      <td>0.0160</td>\n",
              "      <td>0.0047</td>\n",
              "      <td>0.0002</td>\n",
              "      <td>-0.167204</td>\n",
              "      <td>-2.99635</td>\n",
              "      <td>-1.481915</td>\n",
              "    </tr>\n",
              "    <tr>\n",
              "      <th>1946-03-01</th>\n",
              "      <td>0.031188</td>\n",
              "      <td>0.011050</td>\n",
              "      <td>0.0010</td>\n",
              "      <td>0.0034</td>\n",
              "      <td>0.001497</td>\n",
              "      <td>-3.280469</td>\n",
              "      <td>-3.317389</td>\n",
              "      <td>-3.000167</td>\n",
              "      <td>-0.280302</td>\n",
              "      <td>0.0160</td>\n",
              "      <td>0.0047</td>\n",
              "      <td>0.0024</td>\n",
              "      <td>-0.190201</td>\n",
              "      <td>-2.99635</td>\n",
              "      <td>-1.474585</td>\n",
              "    </tr>\n",
              "    <tr>\n",
              "      <th>1946-04-01</th>\n",
              "      <td>0.031307</td>\n",
              "      <td>0.005464</td>\n",
              "      <td>-0.0135</td>\n",
              "      <td>-0.0043</td>\n",
              "      <td>0.001078</td>\n",
              "      <td>-3.317389</td>\n",
              "      <td>-3.339531</td>\n",
              "      <td>-3.059560</td>\n",
              "      <td>-0.257829</td>\n",
              "      <td>0.0169</td>\n",
              "      <td>0.0050</td>\n",
              "      <td>0.0092</td>\n",
              "      <td>-0.222940</td>\n",
              "      <td>-2.99635</td>\n",
              "      <td>-1.425691</td>\n",
              "    </tr>\n",
              "  </tbody>\n",
              "</table>\n",
              "</div>\n",
              "      <button class=\"colab-df-convert\" onclick=\"convertToInteractive('df-453b3c60-9407-4207-875d-68a4e20eba76')\"\n",
              "              title=\"Convert this dataframe to an interactive table.\"\n",
              "              style=\"display:none;\">\n",
              "        \n",
              "  <svg xmlns=\"http://www.w3.org/2000/svg\" height=\"24px\"viewBox=\"0 0 24 24\"\n",
              "       width=\"24px\">\n",
              "    <path d=\"M0 0h24v24H0V0z\" fill=\"none\"/>\n",
              "    <path d=\"M18.56 5.44l.94 2.06.94-2.06 2.06-.94-2.06-.94-.94-2.06-.94 2.06-2.06.94zm-11 1L8.5 8.5l.94-2.06 2.06-.94-2.06-.94L8.5 2.5l-.94 2.06-2.06.94zm10 10l.94 2.06.94-2.06 2.06-.94-2.06-.94-.94-2.06-.94 2.06-2.06.94z\"/><path d=\"M17.41 7.96l-1.37-1.37c-.4-.4-.92-.59-1.43-.59-.52 0-1.04.2-1.43.59L10.3 9.45l-7.72 7.72c-.78.78-.78 2.05 0 2.83L4 21.41c.39.39.9.59 1.41.59.51 0 1.02-.2 1.41-.59l7.78-7.78 2.81-2.81c.8-.78.8-2.07 0-2.86zM5.41 20L4 18.59l7.72-7.72 1.47 1.35L5.41 20z\"/>\n",
              "  </svg>\n",
              "      </button>\n",
              "      \n",
              "  <style>\n",
              "    .colab-df-container {\n",
              "      display:flex;\n",
              "      flex-wrap:wrap;\n",
              "      gap: 12px;\n",
              "    }\n",
              "\n",
              "    .colab-df-convert {\n",
              "      background-color: #E8F0FE;\n",
              "      border: none;\n",
              "      border-radius: 50%;\n",
              "      cursor: pointer;\n",
              "      display: none;\n",
              "      fill: #1967D2;\n",
              "      height: 32px;\n",
              "      padding: 0 0 0 0;\n",
              "      width: 32px;\n",
              "    }\n",
              "\n",
              "    .colab-df-convert:hover {\n",
              "      background-color: #E2EBFA;\n",
              "      box-shadow: 0px 1px 2px rgba(60, 64, 67, 0.3), 0px 1px 3px 1px rgba(60, 64, 67, 0.15);\n",
              "      fill: #174EA6;\n",
              "    }\n",
              "\n",
              "    [theme=dark] .colab-df-convert {\n",
              "      background-color: #3B4455;\n",
              "      fill: #D2E3FC;\n",
              "    }\n",
              "\n",
              "    [theme=dark] .colab-df-convert:hover {\n",
              "      background-color: #434B5C;\n",
              "      box-shadow: 0px 1px 3px 1px rgba(0, 0, 0, 0.15);\n",
              "      filter: drop-shadow(0px 1px 2px rgba(0, 0, 0, 0.3));\n",
              "      fill: #FFFFFF;\n",
              "    }\n",
              "  </style>\n",
              "\n",
              "      <script>\n",
              "        const buttonEl =\n",
              "          document.querySelector('#df-453b3c60-9407-4207-875d-68a4e20eba76 button.colab-df-convert');\n",
              "        buttonEl.style.display =\n",
              "          google.colab.kernel.accessAllowed ? 'block' : 'none';\n",
              "\n",
              "        async function convertToInteractive(key) {\n",
              "          const element = document.querySelector('#df-453b3c60-9407-4207-875d-68a4e20eba76');\n",
              "          const dataTable =\n",
              "            await google.colab.kernel.invokeFunction('convertToInteractive',\n",
              "                                                     [key], {});\n",
              "          if (!dataTable) return;\n",
              "\n",
              "          const docLinkHtml = 'Like what you see? Visit the ' +\n",
              "            '<a target=\"_blank\" href=https://colab.research.google.com/notebooks/data_table.ipynb>data table notebook</a>'\n",
              "            + ' to learn more about interactive tables.';\n",
              "          element.innerHTML = '';\n",
              "          dataTable['output_type'] = 'display_data';\n",
              "          await google.colab.output.renderOutput(dataTable, element);\n",
              "          const docLink = document.createElement('div');\n",
              "          docLink.innerHTML = docLinkHtml;\n",
              "          element.appendChild(docLink);\n",
              "        }\n",
              "      </script>\n",
              "    </div>\n",
              "  </div>\n",
              "  "
            ]
          },
          "metadata": {},
          "execution_count": 8
        }
      ]
    },
    {
      "cell_type": "markdown",
      "source": [
        "## EDA"
      ],
      "metadata": {
        "id": "ohl8TGrmanJz"
      }
    },
    {
      "cell_type": "code",
      "source": [
        "dfq1 = X_data.copy()\n",
        "dfq1.head(2)\n",
        "df_EDA = dfq1.copy()"
      ],
      "metadata": {
        "colab": {
          "base_uri": "https://localhost:8080/",
          "height": 143
        },
        "id": "k_FunvIQbBQ5",
        "outputId": "d626c40f-dd00-44b1-917e-723b9bd0059d"
      },
      "execution_count": 9,
      "outputs": [
        {
          "output_type": "execute_result",
          "data": {
            "text/plain": [
              "                ntis      infl     ltr   corpr      svar       d/p       d/y       e/p       d/e     tms     dfy     dfr    b/m_FD   tbl_FD    lty_FD\n",
              "yyyymm                                                                                                                                               \n",
              "1945-12-01  0.025525  0.005525  0.0194  0.0133  0.001538 -3.269684 -3.337063 -2.894991 -0.374693  0.0161  0.0049 -0.0061 -0.216009 -2.99635 -1.507835\n",
              "1946-01-01  0.027969  0.000000  0.0025  0.0128  0.002645 -3.327012 -3.255014 -2.983423 -0.343589  0.0161  0.0047  0.0103 -0.264780 -2.99635 -1.486065"
            ],
            "text/html": [
              "\n",
              "  <div id=\"df-88399aa6-5c0b-47b3-b969-4482ad053abc\">\n",
              "    <div class=\"colab-df-container\">\n",
              "      <div>\n",
              "<style scoped>\n",
              "    .dataframe tbody tr th:only-of-type {\n",
              "        vertical-align: middle;\n",
              "    }\n",
              "\n",
              "    .dataframe tbody tr th {\n",
              "        vertical-align: top;\n",
              "    }\n",
              "\n",
              "    .dataframe thead th {\n",
              "        text-align: right;\n",
              "    }\n",
              "</style>\n",
              "<table border=\"1\" class=\"dataframe\">\n",
              "  <thead>\n",
              "    <tr style=\"text-align: right;\">\n",
              "      <th></th>\n",
              "      <th>ntis</th>\n",
              "      <th>infl</th>\n",
              "      <th>ltr</th>\n",
              "      <th>corpr</th>\n",
              "      <th>svar</th>\n",
              "      <th>d/p</th>\n",
              "      <th>d/y</th>\n",
              "      <th>e/p</th>\n",
              "      <th>d/e</th>\n",
              "      <th>tms</th>\n",
              "      <th>dfy</th>\n",
              "      <th>dfr</th>\n",
              "      <th>b/m_FD</th>\n",
              "      <th>tbl_FD</th>\n",
              "      <th>lty_FD</th>\n",
              "    </tr>\n",
              "    <tr>\n",
              "      <th>yyyymm</th>\n",
              "      <th></th>\n",
              "      <th></th>\n",
              "      <th></th>\n",
              "      <th></th>\n",
              "      <th></th>\n",
              "      <th></th>\n",
              "      <th></th>\n",
              "      <th></th>\n",
              "      <th></th>\n",
              "      <th></th>\n",
              "      <th></th>\n",
              "      <th></th>\n",
              "      <th></th>\n",
              "      <th></th>\n",
              "      <th></th>\n",
              "    </tr>\n",
              "  </thead>\n",
              "  <tbody>\n",
              "    <tr>\n",
              "      <th>1945-12-01</th>\n",
              "      <td>0.025525</td>\n",
              "      <td>0.005525</td>\n",
              "      <td>0.0194</td>\n",
              "      <td>0.0133</td>\n",
              "      <td>0.001538</td>\n",
              "      <td>-3.269684</td>\n",
              "      <td>-3.337063</td>\n",
              "      <td>-2.894991</td>\n",
              "      <td>-0.374693</td>\n",
              "      <td>0.0161</td>\n",
              "      <td>0.0049</td>\n",
              "      <td>-0.0061</td>\n",
              "      <td>-0.216009</td>\n",
              "      <td>-2.99635</td>\n",
              "      <td>-1.507835</td>\n",
              "    </tr>\n",
              "    <tr>\n",
              "      <th>1946-01-01</th>\n",
              "      <td>0.027969</td>\n",
              "      <td>0.000000</td>\n",
              "      <td>0.0025</td>\n",
              "      <td>0.0128</td>\n",
              "      <td>0.002645</td>\n",
              "      <td>-3.327012</td>\n",
              "      <td>-3.255014</td>\n",
              "      <td>-2.983423</td>\n",
              "      <td>-0.343589</td>\n",
              "      <td>0.0161</td>\n",
              "      <td>0.0047</td>\n",
              "      <td>0.0103</td>\n",
              "      <td>-0.264780</td>\n",
              "      <td>-2.99635</td>\n",
              "      <td>-1.486065</td>\n",
              "    </tr>\n",
              "  </tbody>\n",
              "</table>\n",
              "</div>\n",
              "      <button class=\"colab-df-convert\" onclick=\"convertToInteractive('df-88399aa6-5c0b-47b3-b969-4482ad053abc')\"\n",
              "              title=\"Convert this dataframe to an interactive table.\"\n",
              "              style=\"display:none;\">\n",
              "        \n",
              "  <svg xmlns=\"http://www.w3.org/2000/svg\" height=\"24px\"viewBox=\"0 0 24 24\"\n",
              "       width=\"24px\">\n",
              "    <path d=\"M0 0h24v24H0V0z\" fill=\"none\"/>\n",
              "    <path d=\"M18.56 5.44l.94 2.06.94-2.06 2.06-.94-2.06-.94-.94-2.06-.94 2.06-2.06.94zm-11 1L8.5 8.5l.94-2.06 2.06-.94-2.06-.94L8.5 2.5l-.94 2.06-2.06.94zm10 10l.94 2.06.94-2.06 2.06-.94-2.06-.94-.94-2.06-.94 2.06-2.06.94z\"/><path d=\"M17.41 7.96l-1.37-1.37c-.4-.4-.92-.59-1.43-.59-.52 0-1.04.2-1.43.59L10.3 9.45l-7.72 7.72c-.78.78-.78 2.05 0 2.83L4 21.41c.39.39.9.59 1.41.59.51 0 1.02-.2 1.41-.59l7.78-7.78 2.81-2.81c.8-.78.8-2.07 0-2.86zM5.41 20L4 18.59l7.72-7.72 1.47 1.35L5.41 20z\"/>\n",
              "  </svg>\n",
              "      </button>\n",
              "      \n",
              "  <style>\n",
              "    .colab-df-container {\n",
              "      display:flex;\n",
              "      flex-wrap:wrap;\n",
              "      gap: 12px;\n",
              "    }\n",
              "\n",
              "    .colab-df-convert {\n",
              "      background-color: #E8F0FE;\n",
              "      border: none;\n",
              "      border-radius: 50%;\n",
              "      cursor: pointer;\n",
              "      display: none;\n",
              "      fill: #1967D2;\n",
              "      height: 32px;\n",
              "      padding: 0 0 0 0;\n",
              "      width: 32px;\n",
              "    }\n",
              "\n",
              "    .colab-df-convert:hover {\n",
              "      background-color: #E2EBFA;\n",
              "      box-shadow: 0px 1px 2px rgba(60, 64, 67, 0.3), 0px 1px 3px 1px rgba(60, 64, 67, 0.15);\n",
              "      fill: #174EA6;\n",
              "    }\n",
              "\n",
              "    [theme=dark] .colab-df-convert {\n",
              "      background-color: #3B4455;\n",
              "      fill: #D2E3FC;\n",
              "    }\n",
              "\n",
              "    [theme=dark] .colab-df-convert:hover {\n",
              "      background-color: #434B5C;\n",
              "      box-shadow: 0px 1px 3px 1px rgba(0, 0, 0, 0.15);\n",
              "      filter: drop-shadow(0px 1px 2px rgba(0, 0, 0, 0.3));\n",
              "      fill: #FFFFFF;\n",
              "    }\n",
              "  </style>\n",
              "\n",
              "      <script>\n",
              "        const buttonEl =\n",
              "          document.querySelector('#df-88399aa6-5c0b-47b3-b969-4482ad053abc button.colab-df-convert');\n",
              "        buttonEl.style.display =\n",
              "          google.colab.kernel.accessAllowed ? 'block' : 'none';\n",
              "\n",
              "        async function convertToInteractive(key) {\n",
              "          const element = document.querySelector('#df-88399aa6-5c0b-47b3-b969-4482ad053abc');\n",
              "          const dataTable =\n",
              "            await google.colab.kernel.invokeFunction('convertToInteractive',\n",
              "                                                     [key], {});\n",
              "          if (!dataTable) return;\n",
              "\n",
              "          const docLinkHtml = 'Like what you see? Visit the ' +\n",
              "            '<a target=\"_blank\" href=https://colab.research.google.com/notebooks/data_table.ipynb>data table notebook</a>'\n",
              "            + ' to learn more about interactive tables.';\n",
              "          element.innerHTML = '';\n",
              "          dataTable['output_type'] = 'display_data';\n",
              "          await google.colab.output.renderOutput(dataTable, element);\n",
              "          const docLink = document.createElement('div');\n",
              "          docLink.innerHTML = docLinkHtml;\n",
              "          element.appendChild(docLink);\n",
              "        }\n",
              "      </script>\n",
              "    </div>\n",
              "  </div>\n",
              "  "
            ]
          },
          "metadata": {},
          "execution_count": 9
        }
      ]
    },
    {
      "cell_type": "code",
      "source": [
        "print(\"\\n\\n Duplicates\",df_EDA.duplicated().sum())\n",
        "#my_report = sv.analyze(df_EDA)\n",
        "#my_report.show_html()"
      ],
      "metadata": {
        "colab": {
          "base_uri": "https://localhost:8080/"
        },
        "id": "rm4AgOXkaU39",
        "outputId": "86d384f3-67e6-426a-a75c-158d47b508a2"
      },
      "execution_count": 10,
      "outputs": [
        {
          "output_type": "stream",
          "name": "stdout",
          "text": [
            "\n",
            "\n",
            " Duplicates 0\n"
          ]
        }
      ]
    },
    {
      "cell_type": "code",
      "source": [
        "print(\"\\n\\n Missing Values before dropping/Imputing \\n\",df_EDA.isna().sum())"
      ],
      "metadata": {
        "colab": {
          "base_uri": "https://localhost:8080/"
        },
        "id": "kbHU2tS_8yVM",
        "outputId": "598d8d28-aaa2-4504-a01b-1d4359fe94d0"
      },
      "execution_count": 11,
      "outputs": [
        {
          "output_type": "stream",
          "name": "stdout",
          "text": [
            "\n",
            "\n",
            " Missing Values before dropping/Imputing \n",
            " ntis      0\n",
            "infl      0\n",
            "ltr       0\n",
            "corpr     0\n",
            "svar      0\n",
            "d/p       0\n",
            "d/y       0\n",
            "e/p       0\n",
            "d/e       0\n",
            "tms       0\n",
            "dfy       0\n",
            "dfr       0\n",
            "b/m_FD    0\n",
            "tbl_FD    0\n",
            "lty_FD    0\n",
            "dtype: int64\n"
          ]
        }
      ]
    },
    {
      "cell_type": "markdown",
      "source": [
        "## Preparing training data"
      ],
      "metadata": {
        "id": "L9GrWjYhEdTK"
      }
    },
    {
      "cell_type": "code",
      "source": [
        "y_data.index"
      ],
      "metadata": {
        "colab": {
          "base_uri": "https://localhost:8080/"
        },
        "id": "iZKLG2u0DRU8",
        "outputId": "d676ef4a-d893-4e3b-8d1c-cf920b39e195"
      },
      "execution_count": 12,
      "outputs": [
        {
          "output_type": "execute_result",
          "data": {
            "text/plain": [
              "DatetimeIndex(['1945-12-01', '1946-01-01', '1946-02-01', '1946-03-01', '1946-04-01', '1946-05-01', '1946-06-01', '1946-07-01', '1946-08-01', '1946-09-01',\n",
              "               ...\n",
              "               '2019-02-01', '2019-03-01', '2019-04-01', '2019-05-01', '2019-06-01', '2019-07-01', '2019-08-01', '2019-09-01', '2019-10-01', '2019-11-01'], dtype='datetime64[ns]', name='yyyymm', length=888, freq=None)"
            ]
          },
          "metadata": {},
          "execution_count": 12
        }
      ]
    },
    {
      "cell_type": "code",
      "source": [
        "X_data = X_data[X_data.index.isin(y_data.index)]"
      ],
      "metadata": {
        "id": "a9o1oSGPD3gn"
      },
      "execution_count": 13,
      "outputs": []
    },
    {
      "cell_type": "code",
      "source": [
        "X_data.shape"
      ],
      "metadata": {
        "colab": {
          "base_uri": "https://localhost:8080/"
        },
        "id": "1Zh4qEs3Eq6z",
        "outputId": "2c90dd6b-a581-43a6-d032-84a1daf251fa"
      },
      "execution_count": 14,
      "outputs": [
        {
          "output_type": "execute_result",
          "data": {
            "text/plain": [
              "(888, 15)"
            ]
          },
          "metadata": {},
          "execution_count": 14
        }
      ]
    },
    {
      "cell_type": "code",
      "source": [
        "start_date = '2012-06-01'\n",
        "end_date = '2019-10-01'"
      ],
      "metadata": {
        "id": "BU1lFAKgGLv5"
      },
      "execution_count": 15,
      "outputs": []
    },
    {
      "cell_type": "code",
      "source": [
        "X_train = X_data[:start_date]\n",
        "X_test = X_data[start_date:]\n",
        "y_train = y_data[:start_date]\n",
        "y_test = y_data[start_date:]\n",
        "\n"
      ],
      "metadata": {
        "id": "JjbsF6e0EstM"
      },
      "execution_count": 16,
      "outputs": []
    },
    {
      "cell_type": "code",
      "source": [
        "X_train.shape\n",
        "X_test.shape\n",
        "y_train.shape\n",
        "y_test.shape\n",
        "#X_test = X_test.drop('2019-11-01')\n",
        "X_test.tail()\n"
      ],
      "metadata": {
        "colab": {
          "base_uri": "https://localhost:8080/",
          "height": 255
        },
        "id": "b4ceaDRRE_i9",
        "outputId": "e6688605-e2de-463a-8973-1de17ab38e5c"
      },
      "execution_count": 17,
      "outputs": [
        {
          "output_type": "execute_result",
          "data": {
            "text/plain": [
              "(799, 15)"
            ]
          },
          "metadata": {},
          "execution_count": 17
        },
        {
          "output_type": "execute_result",
          "data": {
            "text/plain": [
              "(90, 15)"
            ]
          },
          "metadata": {},
          "execution_count": 17
        },
        {
          "output_type": "execute_result",
          "data": {
            "text/plain": [
              "(799, 1)"
            ]
          },
          "metadata": {},
          "execution_count": 17
        },
        {
          "output_type": "execute_result",
          "data": {
            "text/plain": [
              "(90, 1)"
            ]
          },
          "metadata": {},
          "execution_count": 17
        },
        {
          "output_type": "execute_result",
          "data": {
            "text/plain": [
              "                ntis      infl     ltr   corpr      svar       d/p       d/y       e/p       d/e     tms     dfy     dfr    b/m_FD    tbl_FD    lty_FD\n",
              "yyyymm                                                                                                                                                \n",
              "2019-07-01 -0.012703  0.001671  0.0024  0.0084  0.000594 -3.966309 -3.948051 -3.098391 -0.867918 -0.0004  0.0099  0.0060 -0.554641 -2.113560 -1.525435\n",
              "2019-08-01 -0.010244 -0.000051  0.0797  0.0738  0.004318 -3.941330 -3.958365 -3.086025 -0.855305 -0.0032  0.0089 -0.0059 -0.531192 -2.175405 -1.735233\n",
              "2019-09-01 -0.010959  0.000783 -0.0192 -0.0190  0.000605 -3.951689 -3.971915 -3.108987 -0.842702 -0.0019  0.0088  0.0002 -0.553503 -2.185571 -1.606937\n",
              "2019-10-01 -0.013267  0.002286 -0.0052  0.0006  0.001510 -3.965984 -3.999464 -3.112869 -0.853115  0.0006  0.0091  0.0058 -0.552792 -2.304826 -1.576943\n",
              "2019-11-01 -0.007907 -0.000536 -0.0059  0.0014  0.000306 -3.993568 -4.021757 -3.130267 -0.863301  0.0027  0.0088  0.0073 -0.585980 -2.337228 -1.503722"
            ],
            "text/html": [
              "\n",
              "  <div id=\"df-932c50dc-0b3c-42eb-be22-ed4f0f9120cd\">\n",
              "    <div class=\"colab-df-container\">\n",
              "      <div>\n",
              "<style scoped>\n",
              "    .dataframe tbody tr th:only-of-type {\n",
              "        vertical-align: middle;\n",
              "    }\n",
              "\n",
              "    .dataframe tbody tr th {\n",
              "        vertical-align: top;\n",
              "    }\n",
              "\n",
              "    .dataframe thead th {\n",
              "        text-align: right;\n",
              "    }\n",
              "</style>\n",
              "<table border=\"1\" class=\"dataframe\">\n",
              "  <thead>\n",
              "    <tr style=\"text-align: right;\">\n",
              "      <th></th>\n",
              "      <th>ntis</th>\n",
              "      <th>infl</th>\n",
              "      <th>ltr</th>\n",
              "      <th>corpr</th>\n",
              "      <th>svar</th>\n",
              "      <th>d/p</th>\n",
              "      <th>d/y</th>\n",
              "      <th>e/p</th>\n",
              "      <th>d/e</th>\n",
              "      <th>tms</th>\n",
              "      <th>dfy</th>\n",
              "      <th>dfr</th>\n",
              "      <th>b/m_FD</th>\n",
              "      <th>tbl_FD</th>\n",
              "      <th>lty_FD</th>\n",
              "    </tr>\n",
              "    <tr>\n",
              "      <th>yyyymm</th>\n",
              "      <th></th>\n",
              "      <th></th>\n",
              "      <th></th>\n",
              "      <th></th>\n",
              "      <th></th>\n",
              "      <th></th>\n",
              "      <th></th>\n",
              "      <th></th>\n",
              "      <th></th>\n",
              "      <th></th>\n",
              "      <th></th>\n",
              "      <th></th>\n",
              "      <th></th>\n",
              "      <th></th>\n",
              "      <th></th>\n",
              "    </tr>\n",
              "  </thead>\n",
              "  <tbody>\n",
              "    <tr>\n",
              "      <th>2019-07-01</th>\n",
              "      <td>-0.012703</td>\n",
              "      <td>0.001671</td>\n",
              "      <td>0.0024</td>\n",
              "      <td>0.0084</td>\n",
              "      <td>0.000594</td>\n",
              "      <td>-3.966309</td>\n",
              "      <td>-3.948051</td>\n",
              "      <td>-3.098391</td>\n",
              "      <td>-0.867918</td>\n",
              "      <td>-0.0004</td>\n",
              "      <td>0.0099</td>\n",
              "      <td>0.0060</td>\n",
              "      <td>-0.554641</td>\n",
              "      <td>-2.113560</td>\n",
              "      <td>-1.525435</td>\n",
              "    </tr>\n",
              "    <tr>\n",
              "      <th>2019-08-01</th>\n",
              "      <td>-0.010244</td>\n",
              "      <td>-0.000051</td>\n",
              "      <td>0.0797</td>\n",
              "      <td>0.0738</td>\n",
              "      <td>0.004318</td>\n",
              "      <td>-3.941330</td>\n",
              "      <td>-3.958365</td>\n",
              "      <td>-3.086025</td>\n",
              "      <td>-0.855305</td>\n",
              "      <td>-0.0032</td>\n",
              "      <td>0.0089</td>\n",
              "      <td>-0.0059</td>\n",
              "      <td>-0.531192</td>\n",
              "      <td>-2.175405</td>\n",
              "      <td>-1.735233</td>\n",
              "    </tr>\n",
              "    <tr>\n",
              "      <th>2019-09-01</th>\n",
              "      <td>-0.010959</td>\n",
              "      <td>0.000783</td>\n",
              "      <td>-0.0192</td>\n",
              "      <td>-0.0190</td>\n",
              "      <td>0.000605</td>\n",
              "      <td>-3.951689</td>\n",
              "      <td>-3.971915</td>\n",
              "      <td>-3.108987</td>\n",
              "      <td>-0.842702</td>\n",
              "      <td>-0.0019</td>\n",
              "      <td>0.0088</td>\n",
              "      <td>0.0002</td>\n",
              "      <td>-0.553503</td>\n",
              "      <td>-2.185571</td>\n",
              "      <td>-1.606937</td>\n",
              "    </tr>\n",
              "    <tr>\n",
              "      <th>2019-10-01</th>\n",
              "      <td>-0.013267</td>\n",
              "      <td>0.002286</td>\n",
              "      <td>-0.0052</td>\n",
              "      <td>0.0006</td>\n",
              "      <td>0.001510</td>\n",
              "      <td>-3.965984</td>\n",
              "      <td>-3.999464</td>\n",
              "      <td>-3.112869</td>\n",
              "      <td>-0.853115</td>\n",
              "      <td>0.0006</td>\n",
              "      <td>0.0091</td>\n",
              "      <td>0.0058</td>\n",
              "      <td>-0.552792</td>\n",
              "      <td>-2.304826</td>\n",
              "      <td>-1.576943</td>\n",
              "    </tr>\n",
              "    <tr>\n",
              "      <th>2019-11-01</th>\n",
              "      <td>-0.007907</td>\n",
              "      <td>-0.000536</td>\n",
              "      <td>-0.0059</td>\n",
              "      <td>0.0014</td>\n",
              "      <td>0.000306</td>\n",
              "      <td>-3.993568</td>\n",
              "      <td>-4.021757</td>\n",
              "      <td>-3.130267</td>\n",
              "      <td>-0.863301</td>\n",
              "      <td>0.0027</td>\n",
              "      <td>0.0088</td>\n",
              "      <td>0.0073</td>\n",
              "      <td>-0.585980</td>\n",
              "      <td>-2.337228</td>\n",
              "      <td>-1.503722</td>\n",
              "    </tr>\n",
              "  </tbody>\n",
              "</table>\n",
              "</div>\n",
              "      <button class=\"colab-df-convert\" onclick=\"convertToInteractive('df-932c50dc-0b3c-42eb-be22-ed4f0f9120cd')\"\n",
              "              title=\"Convert this dataframe to an interactive table.\"\n",
              "              style=\"display:none;\">\n",
              "        \n",
              "  <svg xmlns=\"http://www.w3.org/2000/svg\" height=\"24px\"viewBox=\"0 0 24 24\"\n",
              "       width=\"24px\">\n",
              "    <path d=\"M0 0h24v24H0V0z\" fill=\"none\"/>\n",
              "    <path d=\"M18.56 5.44l.94 2.06.94-2.06 2.06-.94-2.06-.94-.94-2.06-.94 2.06-2.06.94zm-11 1L8.5 8.5l.94-2.06 2.06-.94-2.06-.94L8.5 2.5l-.94 2.06-2.06.94zm10 10l.94 2.06.94-2.06 2.06-.94-2.06-.94-.94-2.06-.94 2.06-2.06.94z\"/><path d=\"M17.41 7.96l-1.37-1.37c-.4-.4-.92-.59-1.43-.59-.52 0-1.04.2-1.43.59L10.3 9.45l-7.72 7.72c-.78.78-.78 2.05 0 2.83L4 21.41c.39.39.9.59 1.41.59.51 0 1.02-.2 1.41-.59l7.78-7.78 2.81-2.81c.8-.78.8-2.07 0-2.86zM5.41 20L4 18.59l7.72-7.72 1.47 1.35L5.41 20z\"/>\n",
              "  </svg>\n",
              "      </button>\n",
              "      \n",
              "  <style>\n",
              "    .colab-df-container {\n",
              "      display:flex;\n",
              "      flex-wrap:wrap;\n",
              "      gap: 12px;\n",
              "    }\n",
              "\n",
              "    .colab-df-convert {\n",
              "      background-color: #E8F0FE;\n",
              "      border: none;\n",
              "      border-radius: 50%;\n",
              "      cursor: pointer;\n",
              "      display: none;\n",
              "      fill: #1967D2;\n",
              "      height: 32px;\n",
              "      padding: 0 0 0 0;\n",
              "      width: 32px;\n",
              "    }\n",
              "\n",
              "    .colab-df-convert:hover {\n",
              "      background-color: #E2EBFA;\n",
              "      box-shadow: 0px 1px 2px rgba(60, 64, 67, 0.3), 0px 1px 3px 1px rgba(60, 64, 67, 0.15);\n",
              "      fill: #174EA6;\n",
              "    }\n",
              "\n",
              "    [theme=dark] .colab-df-convert {\n",
              "      background-color: #3B4455;\n",
              "      fill: #D2E3FC;\n",
              "    }\n",
              "\n",
              "    [theme=dark] .colab-df-convert:hover {\n",
              "      background-color: #434B5C;\n",
              "      box-shadow: 0px 1px 3px 1px rgba(0, 0, 0, 0.15);\n",
              "      filter: drop-shadow(0px 1px 2px rgba(0, 0, 0, 0.3));\n",
              "      fill: #FFFFFF;\n",
              "    }\n",
              "  </style>\n",
              "\n",
              "      <script>\n",
              "        const buttonEl =\n",
              "          document.querySelector('#df-932c50dc-0b3c-42eb-be22-ed4f0f9120cd button.colab-df-convert');\n",
              "        buttonEl.style.display =\n",
              "          google.colab.kernel.accessAllowed ? 'block' : 'none';\n",
              "\n",
              "        async function convertToInteractive(key) {\n",
              "          const element = document.querySelector('#df-932c50dc-0b3c-42eb-be22-ed4f0f9120cd');\n",
              "          const dataTable =\n",
              "            await google.colab.kernel.invokeFunction('convertToInteractive',\n",
              "                                                     [key], {});\n",
              "          if (!dataTable) return;\n",
              "\n",
              "          const docLinkHtml = 'Like what you see? Visit the ' +\n",
              "            '<a target=\"_blank\" href=https://colab.research.google.com/notebooks/data_table.ipynb>data table notebook</a>'\n",
              "            + ' to learn more about interactive tables.';\n",
              "          element.innerHTML = '';\n",
              "          dataTable['output_type'] = 'display_data';\n",
              "          await google.colab.output.renderOutput(dataTable, element);\n",
              "          const docLink = document.createElement('div');\n",
              "          docLink.innerHTML = docLinkHtml;\n",
              "          element.appendChild(docLink);\n",
              "        }\n",
              "      </script>\n",
              "    </div>\n",
              "  </div>\n",
              "  "
            ]
          },
          "metadata": {},
          "execution_count": 17
        }
      ]
    },
    {
      "cell_type": "code",
      "source": [
        "#y_test = y_test.drop('2019-11-01')\n"
      ],
      "metadata": {
        "id": "UZlzQTNuxBW1"
      },
      "execution_count": 18,
      "outputs": []
    },
    {
      "cell_type": "code",
      "source": [
        "# From Scott: Create t1 (Lopez de Prado nomenclature) dataframes of times\n",
        "Ytrain_time = pd.Series(y_train.index,index = X_train.index)\n",
        "Ytest_time = pd.Series(y_test.index, index = X_test.index)"
      ],
      "metadata": {
        "id": "ZruLg4_DFErE"
      },
      "execution_count": 19,
      "outputs": []
    },
    {
      "cell_type": "code",
      "source": [
        "Ytrain_time.head(2)\n",
        "Ytest_time.head(2)"
      ],
      "metadata": {
        "colab": {
          "base_uri": "https://localhost:8080/"
        },
        "id": "APuUTehdFS41",
        "outputId": "bb692e56-70bb-48d5-b02f-db1ba6a05efe"
      },
      "execution_count": 20,
      "outputs": [
        {
          "output_type": "execute_result",
          "data": {
            "text/plain": [
              "yyyymm\n",
              "1945-12-01   1945-12-01\n",
              "1946-01-01   1946-01-01\n",
              "Name: yyyymm, dtype: datetime64[ns]"
            ]
          },
          "metadata": {},
          "execution_count": 20
        },
        {
          "output_type": "execute_result",
          "data": {
            "text/plain": [
              "yyyymm\n",
              "2012-06-01   2012-06-01\n",
              "2012-07-01   2012-07-01\n",
              "Name: yyyymm, dtype: datetime64[ns]"
            ]
          },
          "metadata": {},
          "execution_count": 20
        }
      ]
    },
    {
      "cell_type": "markdown",
      "metadata": {
        "id": "Vt6d_JFmZ0hG"
      },
      "source": [
        "## Backtesting through Cross-Validation \n",
        "--- The Combinatorial Cross-Validation Method: CPCV"
      ]
    },
    {
      "cell_type": "code",
      "execution_count": 21,
      "metadata": {
        "id": "28fir_kIZ0hH"
      },
      "outputs": [],
      "source": [
        "from itertools import combinations\n",
        "\n",
        "def getCPCVtestset(T,N,k):\n",
        "    '''\n",
        "      (isTest, paths)  = getCPCVtestset(T, N, k)\n",
        "      Get train and test sets in LdP's CPCV. \n",
        "    \n",
        "      T = length of data\n",
        "      N=number of groups\n",
        "      k = number of groups in test set. \n",
        "    \n",
        "      isTest is a T x C(N, k) array, where each column is a logical array indicating\n",
        "      which observation is in test set (the false ones are in train set) for a particular split.\n",
        "      paths is a T x k/N C(N, k) array, where each column represents one\n",
        "      backtest path, and each row denotes the column of isTest to be used for\n",
        "      backtest.\n",
        "    '''\n",
        "    groupNum=np.full((T,1),np.nan)\n",
        "    groupSize=np.floor(T/N).astype(np.int)\n",
        "    for g in range(N-1):\n",
        "        groupNum[range(g*groupSize,(g+1)*groupSize)]=g\n",
        "    groupNum[range((g+1)*groupSize,groupNum.shape[0])]=N-1\n",
        "    groupNum=groupNum.ravel().astype(int)\n",
        "\n",
        "    # This block is my rendition of the following short Matlab line:\n",
        "    # testGroups=combnk(1:N, k);\n",
        "    # All of the extra effort is to convert the iterator combinations(range(1,N+1),k)\n",
        "    # into the realized array of groups.\n",
        "    testGroups=np.array([])\n",
        "    for comb in combinations(range(N),k):\n",
        "        testGroups=np.append(testGroups,np.array(comb))\n",
        "    testGroups=testGroups.astype(int).reshape(np.floor(testGroups.shape[0]/k).astype(int),k)\n",
        "\n",
        "    isTestGroup=np.full((N,testGroups.shape[0]),False) #% isTestGroup(g, s)=true denotes group g in split s is a test set.\n",
        "    isTest=np.full((T,testGroups.shape[0]),False)\n",
        "    for s in range(isTest.shape[1]):\n",
        "        for g in range(testGroups.shape[1]):\n",
        "            isTestGroup[testGroups[s,g],s]=True \n",
        "            isTest[groupNum==testGroups[s,g],s]=True\n",
        "\n",
        "    mypaths=np.full((np.unique(groupNum).shape[0],np.floor(k*testGroups.shape[0]/N).astype(int)),np.nan)    \n",
        "\n",
        "    for p in range(mypaths.shape[1]):\n",
        "        for g in range(mypaths.shape[0]):\n",
        "            s=isTestGroup[g,:].argmax()\n",
        "            mypaths[g,p]=s\n",
        "            isTestGroup[g,s]=False\n",
        "    mypaths=mypaths.astype(int)\n",
        "\n",
        "    paths=np.full((T,mypaths.shape[1]),np.nan)\n",
        "    for p in range(mypaths.shape[1]):\n",
        "        for g in range(mypaths.shape[0]):\n",
        "            paths[groupNum==g,p]=mypaths[g,p]\n",
        "    paths=paths.astype(int)\n",
        "\n",
        "    return (isTest,paths)"
      ]
    },
    {
      "cell_type": "markdown",
      "source": [
        "### 2a\n",
        "For our SPX data set, suppose we pick 5 groups of training sets, and with test sets of size 2, create the set of backtest paths using get CPCVtestset function provided and compute their Sharpe ratios. "
      ],
      "metadata": {
        "id": "i6Vq7qhkGbpz"
      }
    },
    {
      "cell_type": "code",
      "execution_count": 22,
      "metadata": {
        "id": "TyqgObK7Z0hI",
        "outputId": "515a8f96-fc3f-4438-dd9a-ed2dbbed0fcc",
        "colab": {
          "base_uri": "https://localhost:8080/"
        }
      },
      "outputs": [
        {
          "output_type": "stream",
          "name": "stdout",
          "text": [
            "isTest: (90, 10) paths: (90, 4)\n",
            "CPCV has 4 paths\n"
          ]
        }
      ],
      "source": [
        "# suppose we pick 5 groups of training sets with test sets of size 2\n",
        "numGroups=5 \n",
        "numGroupsTest=2 # If =1, always gives 1 path: CPCV -> CV\n",
        "trainFrac=1 # Fraction of train set to be added to valid set in CPCV\n",
        "\n",
        "from itertools import combinations\n",
        "numCombs=0\n",
        "for comb in combinations(range(numGroups),numGroupsTest):\n",
        "    numCombs+=1\n",
        "\n",
        "isTest,paths=getCPCVtestset(X_test.shape[0],numGroups,numGroupsTest)\n",
        "print('isTest:',isTest.shape,'paths:',paths.shape)\n",
        "pred=np.full(isTest.shape,np.nan) # OOS prediction on each row. Each column represents a different split of data between train and test.\n",
        "prob=np.full(isTest.shape,np.nan)\n",
        "\n",
        "print('CPCV has',paths.shape[1], 'paths')"
      ]
    },
    {
      "cell_type": "code",
      "source": [
        "isTest.shape\n",
        "isTest[1]"
      ],
      "metadata": {
        "colab": {
          "base_uri": "https://localhost:8080/"
        },
        "id": "CIy2qK-SIw_8",
        "outputId": "8a72ff54-98c5-44f1-9dbc-e280fb3361bc"
      },
      "execution_count": 23,
      "outputs": [
        {
          "output_type": "execute_result",
          "data": {
            "text/plain": [
              "(90, 10)"
            ]
          },
          "metadata": {},
          "execution_count": 23
        },
        {
          "output_type": "execute_result",
          "data": {
            "text/plain": [
              "array([ True,  True,  True,  True, False, False, False, False, False,\n",
              "       False])"
            ]
          },
          "metadata": {},
          "execution_count": 23
        }
      ]
    },
    {
      "cell_type": "code",
      "source": [
        "pred[:,0]"
      ],
      "metadata": {
        "colab": {
          "base_uri": "https://localhost:8080/"
        },
        "id": "dyXO2IXXFdnP",
        "outputId": "f5ba2d19-d592-46ce-a3d1-34e334064084"
      },
      "execution_count": 24,
      "outputs": [
        {
          "output_type": "execute_result",
          "data": {
            "text/plain": [
              "array([nan, nan, nan, nan, nan, nan, nan, nan, nan, nan, nan, nan, nan,\n",
              "       nan, nan, nan, nan, nan, nan, nan, nan, nan, nan, nan, nan, nan,\n",
              "       nan, nan, nan, nan, nan, nan, nan, nan, nan, nan, nan, nan, nan,\n",
              "       nan, nan, nan, nan, nan, nan, nan, nan, nan, nan, nan, nan, nan,\n",
              "       nan, nan, nan, nan, nan, nan, nan, nan, nan, nan, nan, nan, nan,\n",
              "       nan, nan, nan, nan, nan, nan, nan, nan, nan, nan, nan, nan, nan,\n",
              "       nan, nan, nan, nan, nan, nan, nan, nan, nan, nan, nan, nan])"
            ]
          },
          "metadata": {},
          "execution_count": 24
        }
      ]
    },
    {
      "cell_type": "code",
      "source": [
        "prob[:,0]"
      ],
      "metadata": {
        "colab": {
          "base_uri": "https://localhost:8080/"
        },
        "id": "BnlMZ-vGE-32",
        "outputId": "5132a902-0071-42f7-a679-97e5cbcafa6a"
      },
      "execution_count": 25,
      "outputs": [
        {
          "output_type": "execute_result",
          "data": {
            "text/plain": [
              "array([nan, nan, nan, nan, nan, nan, nan, nan, nan, nan, nan, nan, nan,\n",
              "       nan, nan, nan, nan, nan, nan, nan, nan, nan, nan, nan, nan, nan,\n",
              "       nan, nan, nan, nan, nan, nan, nan, nan, nan, nan, nan, nan, nan,\n",
              "       nan, nan, nan, nan, nan, nan, nan, nan, nan, nan, nan, nan, nan,\n",
              "       nan, nan, nan, nan, nan, nan, nan, nan, nan, nan, nan, nan, nan,\n",
              "       nan, nan, nan, nan, nan, nan, nan, nan, nan, nan, nan, nan, nan,\n",
              "       nan, nan, nan, nan, nan, nan, nan, nan, nan, nan, nan, nan])"
            ]
          },
          "metadata": {},
          "execution_count": 25
        }
      ]
    },
    {
      "cell_type": "code",
      "source": [
        "isTest[:,0]"
      ],
      "metadata": {
        "colab": {
          "base_uri": "https://localhost:8080/"
        },
        "id": "BxyQy5m8UQh4",
        "outputId": "d1c1f8c2-132c-44bf-b7af-ec68cea7ac4d"
      },
      "execution_count": 26,
      "outputs": [
        {
          "output_type": "execute_result",
          "data": {
            "text/plain": [
              "array([ True,  True,  True,  True,  True,  True,  True,  True,  True,\n",
              "        True,  True,  True,  True,  True,  True,  True,  True,  True,\n",
              "        True,  True,  True,  True,  True,  True,  True,  True,  True,\n",
              "        True,  True,  True,  True,  True,  True,  True,  True,  True,\n",
              "       False, False, False, False, False, False, False, False, False,\n",
              "       False, False, False, False, False, False, False, False, False,\n",
              "       False, False, False, False, False, False, False, False, False,\n",
              "       False, False, False, False, False, False, False, False, False,\n",
              "       False, False, False, False, False, False, False, False, False,\n",
              "       False, False, False, False, False, False, False, False, False])"
            ]
          },
          "metadata": {},
          "execution_count": 26
        }
      ]
    },
    {
      "cell_type": "code",
      "source": [
        "isTest.shape\n",
        "X_train.shape\n",
        "y_train.shape\n",
        "type(isTest)"
      ],
      "metadata": {
        "colab": {
          "base_uri": "https://localhost:8080/"
        },
        "id": "M64mWPuGVtgD",
        "outputId": "74c5344c-7b68-4f84-cc97-8f779dbde48f"
      },
      "execution_count": 27,
      "outputs": [
        {
          "output_type": "execute_result",
          "data": {
            "text/plain": [
              "(90, 10)"
            ]
          },
          "metadata": {},
          "execution_count": 27
        },
        {
          "output_type": "execute_result",
          "data": {
            "text/plain": [
              "(799, 15)"
            ]
          },
          "metadata": {},
          "execution_count": 27
        },
        {
          "output_type": "execute_result",
          "data": {
            "text/plain": [
              "(799, 1)"
            ]
          },
          "metadata": {},
          "execution_count": 27
        },
        {
          "output_type": "execute_result",
          "data": {
            "text/plain": [
              "numpy.ndarray"
            ]
          },
          "metadata": {},
          "execution_count": 27
        }
      ]
    },
    {
      "cell_type": "code",
      "source": [
        "pred[:,0]\n",
        "pred.shape"
      ],
      "metadata": {
        "colab": {
          "base_uri": "https://localhost:8080/"
        },
        "id": "rojiYZPuWcha",
        "outputId": "ec838baf-fa6b-426b-e436-bbd3172caa17"
      },
      "execution_count": 28,
      "outputs": [
        {
          "output_type": "execute_result",
          "data": {
            "text/plain": [
              "array([nan, nan, nan, nan, nan, nan, nan, nan, nan, nan, nan, nan, nan,\n",
              "       nan, nan, nan, nan, nan, nan, nan, nan, nan, nan, nan, nan, nan,\n",
              "       nan, nan, nan, nan, nan, nan, nan, nan, nan, nan, nan, nan, nan,\n",
              "       nan, nan, nan, nan, nan, nan, nan, nan, nan, nan, nan, nan, nan,\n",
              "       nan, nan, nan, nan, nan, nan, nan, nan, nan, nan, nan, nan, nan,\n",
              "       nan, nan, nan, nan, nan, nan, nan, nan, nan, nan, nan, nan, nan,\n",
              "       nan, nan, nan, nan, nan, nan, nan, nan, nan, nan, nan, nan])"
            ]
          },
          "metadata": {},
          "execution_count": 28
        },
        {
          "output_type": "execute_result",
          "data": {
            "text/plain": [
              "(90, 10)"
            ]
          },
          "metadata": {},
          "execution_count": 28
        }
      ]
    },
    {
      "cell_type": "code",
      "source": [
        "X_test.head(2)\n",
        "y_test.head(2)\n",
        "X_test.shape\n",
        "y_test.shape\n",
        "y_data.shape"
      ],
      "metadata": {
        "colab": {
          "base_uri": "https://localhost:8080/",
          "height": 287
        },
        "id": "vFZy9IxPWcey",
        "outputId": "63c71112-db3d-45ba-ffe4-6d3adcffc54f"
      },
      "execution_count": 29,
      "outputs": [
        {
          "output_type": "execute_result",
          "data": {
            "text/plain": [
              "                ntis      infl     ltr   corpr      svar       d/p       d/y       e/p       d/e     tms     dfy     dfr    b/m_FD    tbl_FD    lty_FD\n",
              "yyyymm                                                                                                                                                \n",
              "2012-06-01 -0.019820 -0.001466 -0.0136  0.0064  0.003437 -3.873259 -3.885778 -2.740400 -1.132859  0.0224  0.0138  0.0200 -0.392624 -3.580049 -1.437708\n",
              "2012-07-01 -0.021091 -0.001630  0.0247  0.0612  0.001553 -3.870940 -3.890511 -2.758317 -1.112623  0.0206  0.0147  0.0365 -0.396861 -3.521716 -1.503595"
            ],
            "text/html": [
              "\n",
              "  <div id=\"df-fa0bc24c-28c1-4f81-812c-59b80419ac9c\">\n",
              "    <div class=\"colab-df-container\">\n",
              "      <div>\n",
              "<style scoped>\n",
              "    .dataframe tbody tr th:only-of-type {\n",
              "        vertical-align: middle;\n",
              "    }\n",
              "\n",
              "    .dataframe tbody tr th {\n",
              "        vertical-align: top;\n",
              "    }\n",
              "\n",
              "    .dataframe thead th {\n",
              "        text-align: right;\n",
              "    }\n",
              "</style>\n",
              "<table border=\"1\" class=\"dataframe\">\n",
              "  <thead>\n",
              "    <tr style=\"text-align: right;\">\n",
              "      <th></th>\n",
              "      <th>ntis</th>\n",
              "      <th>infl</th>\n",
              "      <th>ltr</th>\n",
              "      <th>corpr</th>\n",
              "      <th>svar</th>\n",
              "      <th>d/p</th>\n",
              "      <th>d/y</th>\n",
              "      <th>e/p</th>\n",
              "      <th>d/e</th>\n",
              "      <th>tms</th>\n",
              "      <th>dfy</th>\n",
              "      <th>dfr</th>\n",
              "      <th>b/m_FD</th>\n",
              "      <th>tbl_FD</th>\n",
              "      <th>lty_FD</th>\n",
              "    </tr>\n",
              "    <tr>\n",
              "      <th>yyyymm</th>\n",
              "      <th></th>\n",
              "      <th></th>\n",
              "      <th></th>\n",
              "      <th></th>\n",
              "      <th></th>\n",
              "      <th></th>\n",
              "      <th></th>\n",
              "      <th></th>\n",
              "      <th></th>\n",
              "      <th></th>\n",
              "      <th></th>\n",
              "      <th></th>\n",
              "      <th></th>\n",
              "      <th></th>\n",
              "      <th></th>\n",
              "    </tr>\n",
              "  </thead>\n",
              "  <tbody>\n",
              "    <tr>\n",
              "      <th>2012-06-01</th>\n",
              "      <td>-0.019820</td>\n",
              "      <td>-0.001466</td>\n",
              "      <td>-0.0136</td>\n",
              "      <td>0.0064</td>\n",
              "      <td>0.003437</td>\n",
              "      <td>-3.873259</td>\n",
              "      <td>-3.885778</td>\n",
              "      <td>-2.740400</td>\n",
              "      <td>-1.132859</td>\n",
              "      <td>0.0224</td>\n",
              "      <td>0.0138</td>\n",
              "      <td>0.0200</td>\n",
              "      <td>-0.392624</td>\n",
              "      <td>-3.580049</td>\n",
              "      <td>-1.437708</td>\n",
              "    </tr>\n",
              "    <tr>\n",
              "      <th>2012-07-01</th>\n",
              "      <td>-0.021091</td>\n",
              "      <td>-0.001630</td>\n",
              "      <td>0.0247</td>\n",
              "      <td>0.0612</td>\n",
              "      <td>0.001553</td>\n",
              "      <td>-3.870940</td>\n",
              "      <td>-3.890511</td>\n",
              "      <td>-2.758317</td>\n",
              "      <td>-1.112623</td>\n",
              "      <td>0.0206</td>\n",
              "      <td>0.0147</td>\n",
              "      <td>0.0365</td>\n",
              "      <td>-0.396861</td>\n",
              "      <td>-3.521716</td>\n",
              "      <td>-1.503595</td>\n",
              "    </tr>\n",
              "  </tbody>\n",
              "</table>\n",
              "</div>\n",
              "      <button class=\"colab-df-convert\" onclick=\"convertToInteractive('df-fa0bc24c-28c1-4f81-812c-59b80419ac9c')\"\n",
              "              title=\"Convert this dataframe to an interactive table.\"\n",
              "              style=\"display:none;\">\n",
              "        \n",
              "  <svg xmlns=\"http://www.w3.org/2000/svg\" height=\"24px\"viewBox=\"0 0 24 24\"\n",
              "       width=\"24px\">\n",
              "    <path d=\"M0 0h24v24H0V0z\" fill=\"none\"/>\n",
              "    <path d=\"M18.56 5.44l.94 2.06.94-2.06 2.06-.94-2.06-.94-.94-2.06-.94 2.06-2.06.94zm-11 1L8.5 8.5l.94-2.06 2.06-.94-2.06-.94L8.5 2.5l-.94 2.06-2.06.94zm10 10l.94 2.06.94-2.06 2.06-.94-2.06-.94-.94-2.06-.94 2.06-2.06.94z\"/><path d=\"M17.41 7.96l-1.37-1.37c-.4-.4-.92-.59-1.43-.59-.52 0-1.04.2-1.43.59L10.3 9.45l-7.72 7.72c-.78.78-.78 2.05 0 2.83L4 21.41c.39.39.9.59 1.41.59.51 0 1.02-.2 1.41-.59l7.78-7.78 2.81-2.81c.8-.78.8-2.07 0-2.86zM5.41 20L4 18.59l7.72-7.72 1.47 1.35L5.41 20z\"/>\n",
              "  </svg>\n",
              "      </button>\n",
              "      \n",
              "  <style>\n",
              "    .colab-df-container {\n",
              "      display:flex;\n",
              "      flex-wrap:wrap;\n",
              "      gap: 12px;\n",
              "    }\n",
              "\n",
              "    .colab-df-convert {\n",
              "      background-color: #E8F0FE;\n",
              "      border: none;\n",
              "      border-radius: 50%;\n",
              "      cursor: pointer;\n",
              "      display: none;\n",
              "      fill: #1967D2;\n",
              "      height: 32px;\n",
              "      padding: 0 0 0 0;\n",
              "      width: 32px;\n",
              "    }\n",
              "\n",
              "    .colab-df-convert:hover {\n",
              "      background-color: #E2EBFA;\n",
              "      box-shadow: 0px 1px 2px rgba(60, 64, 67, 0.3), 0px 1px 3px 1px rgba(60, 64, 67, 0.15);\n",
              "      fill: #174EA6;\n",
              "    }\n",
              "\n",
              "    [theme=dark] .colab-df-convert {\n",
              "      background-color: #3B4455;\n",
              "      fill: #D2E3FC;\n",
              "    }\n",
              "\n",
              "    [theme=dark] .colab-df-convert:hover {\n",
              "      background-color: #434B5C;\n",
              "      box-shadow: 0px 1px 3px 1px rgba(0, 0, 0, 0.15);\n",
              "      filter: drop-shadow(0px 1px 2px rgba(0, 0, 0, 0.3));\n",
              "      fill: #FFFFFF;\n",
              "    }\n",
              "  </style>\n",
              "\n",
              "      <script>\n",
              "        const buttonEl =\n",
              "          document.querySelector('#df-fa0bc24c-28c1-4f81-812c-59b80419ac9c button.colab-df-convert');\n",
              "        buttonEl.style.display =\n",
              "          google.colab.kernel.accessAllowed ? 'block' : 'none';\n",
              "\n",
              "        async function convertToInteractive(key) {\n",
              "          const element = document.querySelector('#df-fa0bc24c-28c1-4f81-812c-59b80419ac9c');\n",
              "          const dataTable =\n",
              "            await google.colab.kernel.invokeFunction('convertToInteractive',\n",
              "                                                     [key], {});\n",
              "          if (!dataTable) return;\n",
              "\n",
              "          const docLinkHtml = 'Like what you see? Visit the ' +\n",
              "            '<a target=\"_blank\" href=https://colab.research.google.com/notebooks/data_table.ipynb>data table notebook</a>'\n",
              "            + ' to learn more about interactive tables.';\n",
              "          element.innerHTML = '';\n",
              "          dataTable['output_type'] = 'display_data';\n",
              "          await google.colab.output.renderOutput(dataTable, element);\n",
              "          const docLink = document.createElement('div');\n",
              "          docLink.innerHTML = docLinkHtml;\n",
              "          element.appendChild(docLink);\n",
              "        }\n",
              "      </script>\n",
              "    </div>\n",
              "  </div>\n",
              "  "
            ]
          },
          "metadata": {},
          "execution_count": 29
        },
        {
          "output_type": "execute_result",
          "data": {
            "text/plain": [
              "            ret\n",
              "yyyymm         \n",
              "2012-06-01  1.0\n",
              "2012-07-01  1.0"
            ],
            "text/html": [
              "\n",
              "  <div id=\"df-2e8c1a24-17d1-4f39-9f8f-a2a68ee34159\">\n",
              "    <div class=\"colab-df-container\">\n",
              "      <div>\n",
              "<style scoped>\n",
              "    .dataframe tbody tr th:only-of-type {\n",
              "        vertical-align: middle;\n",
              "    }\n",
              "\n",
              "    .dataframe tbody tr th {\n",
              "        vertical-align: top;\n",
              "    }\n",
              "\n",
              "    .dataframe thead th {\n",
              "        text-align: right;\n",
              "    }\n",
              "</style>\n",
              "<table border=\"1\" class=\"dataframe\">\n",
              "  <thead>\n",
              "    <tr style=\"text-align: right;\">\n",
              "      <th></th>\n",
              "      <th>ret</th>\n",
              "    </tr>\n",
              "    <tr>\n",
              "      <th>yyyymm</th>\n",
              "      <th></th>\n",
              "    </tr>\n",
              "  </thead>\n",
              "  <tbody>\n",
              "    <tr>\n",
              "      <th>2012-06-01</th>\n",
              "      <td>1.0</td>\n",
              "    </tr>\n",
              "    <tr>\n",
              "      <th>2012-07-01</th>\n",
              "      <td>1.0</td>\n",
              "    </tr>\n",
              "  </tbody>\n",
              "</table>\n",
              "</div>\n",
              "      <button class=\"colab-df-convert\" onclick=\"convertToInteractive('df-2e8c1a24-17d1-4f39-9f8f-a2a68ee34159')\"\n",
              "              title=\"Convert this dataframe to an interactive table.\"\n",
              "              style=\"display:none;\">\n",
              "        \n",
              "  <svg xmlns=\"http://www.w3.org/2000/svg\" height=\"24px\"viewBox=\"0 0 24 24\"\n",
              "       width=\"24px\">\n",
              "    <path d=\"M0 0h24v24H0V0z\" fill=\"none\"/>\n",
              "    <path d=\"M18.56 5.44l.94 2.06.94-2.06 2.06-.94-2.06-.94-.94-2.06-.94 2.06-2.06.94zm-11 1L8.5 8.5l.94-2.06 2.06-.94-2.06-.94L8.5 2.5l-.94 2.06-2.06.94zm10 10l.94 2.06.94-2.06 2.06-.94-2.06-.94-.94-2.06-.94 2.06-2.06.94z\"/><path d=\"M17.41 7.96l-1.37-1.37c-.4-.4-.92-.59-1.43-.59-.52 0-1.04.2-1.43.59L10.3 9.45l-7.72 7.72c-.78.78-.78 2.05 0 2.83L4 21.41c.39.39.9.59 1.41.59.51 0 1.02-.2 1.41-.59l7.78-7.78 2.81-2.81c.8-.78.8-2.07 0-2.86zM5.41 20L4 18.59l7.72-7.72 1.47 1.35L5.41 20z\"/>\n",
              "  </svg>\n",
              "      </button>\n",
              "      \n",
              "  <style>\n",
              "    .colab-df-container {\n",
              "      display:flex;\n",
              "      flex-wrap:wrap;\n",
              "      gap: 12px;\n",
              "    }\n",
              "\n",
              "    .colab-df-convert {\n",
              "      background-color: #E8F0FE;\n",
              "      border: none;\n",
              "      border-radius: 50%;\n",
              "      cursor: pointer;\n",
              "      display: none;\n",
              "      fill: #1967D2;\n",
              "      height: 32px;\n",
              "      padding: 0 0 0 0;\n",
              "      width: 32px;\n",
              "    }\n",
              "\n",
              "    .colab-df-convert:hover {\n",
              "      background-color: #E2EBFA;\n",
              "      box-shadow: 0px 1px 2px rgba(60, 64, 67, 0.3), 0px 1px 3px 1px rgba(60, 64, 67, 0.15);\n",
              "      fill: #174EA6;\n",
              "    }\n",
              "\n",
              "    [theme=dark] .colab-df-convert {\n",
              "      background-color: #3B4455;\n",
              "      fill: #D2E3FC;\n",
              "    }\n",
              "\n",
              "    [theme=dark] .colab-df-convert:hover {\n",
              "      background-color: #434B5C;\n",
              "      box-shadow: 0px 1px 3px 1px rgba(0, 0, 0, 0.15);\n",
              "      filter: drop-shadow(0px 1px 2px rgba(0, 0, 0, 0.3));\n",
              "      fill: #FFFFFF;\n",
              "    }\n",
              "  </style>\n",
              "\n",
              "      <script>\n",
              "        const buttonEl =\n",
              "          document.querySelector('#df-2e8c1a24-17d1-4f39-9f8f-a2a68ee34159 button.colab-df-convert');\n",
              "        buttonEl.style.display =\n",
              "          google.colab.kernel.accessAllowed ? 'block' : 'none';\n",
              "\n",
              "        async function convertToInteractive(key) {\n",
              "          const element = document.querySelector('#df-2e8c1a24-17d1-4f39-9f8f-a2a68ee34159');\n",
              "          const dataTable =\n",
              "            await google.colab.kernel.invokeFunction('convertToInteractive',\n",
              "                                                     [key], {});\n",
              "          if (!dataTable) return;\n",
              "\n",
              "          const docLinkHtml = 'Like what you see? Visit the ' +\n",
              "            '<a target=\"_blank\" href=https://colab.research.google.com/notebooks/data_table.ipynb>data table notebook</a>'\n",
              "            + ' to learn more about interactive tables.';\n",
              "          element.innerHTML = '';\n",
              "          dataTable['output_type'] = 'display_data';\n",
              "          await google.colab.output.renderOutput(dataTable, element);\n",
              "          const docLink = document.createElement('div');\n",
              "          docLink.innerHTML = docLinkHtml;\n",
              "          element.appendChild(docLink);\n",
              "        }\n",
              "      </script>\n",
              "    </div>\n",
              "  </div>\n",
              "  "
            ]
          },
          "metadata": {},
          "execution_count": 29
        },
        {
          "output_type": "execute_result",
          "data": {
            "text/plain": [
              "(90, 15)"
            ]
          },
          "metadata": {},
          "execution_count": 29
        },
        {
          "output_type": "execute_result",
          "data": {
            "text/plain": [
              "(90, 1)"
            ]
          },
          "metadata": {},
          "execution_count": 29
        },
        {
          "output_type": "execute_result",
          "data": {
            "text/plain": [
              "(888, 1)"
            ]
          },
          "metadata": {},
          "execution_count": 29
        }
      ]
    },
    {
      "cell_type": "markdown",
      "source": [
        "## Train a model using CPCV"
      ],
      "metadata": {
        "id": "ggFV5Rtah7T4"
      }
    },
    {
      "cell_type": "code",
      "source": [
        "X_train.shape\n",
        "y_train.shape\n",
        "X_test.shape\n",
        "y_test.shape"
      ],
      "metadata": {
        "colab": {
          "base_uri": "https://localhost:8080/"
        },
        "id": "ZGDttoLQiQ68",
        "outputId": "2d457f49-ab9f-453b-f0df-95730ae90bc5"
      },
      "execution_count": 30,
      "outputs": [
        {
          "output_type": "execute_result",
          "data": {
            "text/plain": [
              "(799, 15)"
            ]
          },
          "metadata": {},
          "execution_count": 30
        },
        {
          "output_type": "execute_result",
          "data": {
            "text/plain": [
              "(799, 1)"
            ]
          },
          "metadata": {},
          "execution_count": 30
        },
        {
          "output_type": "execute_result",
          "data": {
            "text/plain": [
              "(90, 15)"
            ]
          },
          "metadata": {},
          "execution_count": 30
        },
        {
          "output_type": "execute_result",
          "data": {
            "text/plain": [
              "(90, 1)"
            ]
          },
          "metadata": {},
          "execution_count": 30
        }
      ]
    },
    {
      "cell_type": "code",
      "source": [
        "from sklearn.model_selection import cross_val_score, KFold\n",
        "\n",
        "# Define the random forest model\n",
        "rf = RandomForestClassifier(n_estimators=100, max_depth=5)\n",
        "\n",
        "# Define the cross-validation strategy (here, we use KFold with 5 folds)\n",
        "cv = KFold(n_splits=5)\n",
        "\n",
        "# Train and test the model using cross-validation\n",
        "scores = cross_val_score(rf, X_train, y_train, cv=cv, scoring='accuracy')\n",
        "\n",
        "# Print the average accuracy score\n",
        "print(f\"Average accuracy: {scores.mean()}\")"
      ],
      "metadata": {
        "colab": {
          "base_uri": "https://localhost:8080/"
        },
        "id": "KjP5xEGGlDRa",
        "outputId": "726e7d20-75a4-428e-f9e3-7173e3201af2"
      },
      "execution_count": 31,
      "outputs": [
        {
          "output_type": "stream",
          "name": "stdout",
          "text": [
            "Average accuracy: 0.5631761006289308\n"
          ]
        }
      ]
    },
    {
      "cell_type": "markdown",
      "source": [
        "## SPY_DATA"
      ],
      "metadata": {
        "id": "MNsnJ5dEp7A4"
      }
    },
    {
      "cell_type": "code",
      "source": [
        "# From A6\n",
        "\n",
        "SPY_data = pd.read_csv(w7_files+ \"/SPY.csv\")\n",
        "SPY_data.head(2)"
      ],
      "metadata": {
        "colab": {
          "base_uri": "https://localhost:8080/",
          "height": 112
        },
        "id": "YAfFr4qFp6xp",
        "outputId": "63b13f2a-7da2-49fa-c440-07f6932bb700"
      },
      "execution_count": 32,
      "outputs": [
        {
          "output_type": "execute_result",
          "data": {
            "text/plain": [
              "         Date      Open      High       Low     Close  Adj Close   Volume\n",
              "0  1993-02-01  43.96875  45.12500  42.81250  44.40625  26.160336  5417600\n",
              "1  1993-03-01  44.56250  45.84375  44.21875  45.18750  26.620569  3019200"
            ],
            "text/html": [
              "\n",
              "  <div id=\"df-1f9c0471-1f1d-42a1-a6de-f25305e747fe\">\n",
              "    <div class=\"colab-df-container\">\n",
              "      <div>\n",
              "<style scoped>\n",
              "    .dataframe tbody tr th:only-of-type {\n",
              "        vertical-align: middle;\n",
              "    }\n",
              "\n",
              "    .dataframe tbody tr th {\n",
              "        vertical-align: top;\n",
              "    }\n",
              "\n",
              "    .dataframe thead th {\n",
              "        text-align: right;\n",
              "    }\n",
              "</style>\n",
              "<table border=\"1\" class=\"dataframe\">\n",
              "  <thead>\n",
              "    <tr style=\"text-align: right;\">\n",
              "      <th></th>\n",
              "      <th>Date</th>\n",
              "      <th>Open</th>\n",
              "      <th>High</th>\n",
              "      <th>Low</th>\n",
              "      <th>Close</th>\n",
              "      <th>Adj Close</th>\n",
              "      <th>Volume</th>\n",
              "    </tr>\n",
              "  </thead>\n",
              "  <tbody>\n",
              "    <tr>\n",
              "      <th>0</th>\n",
              "      <td>1993-02-01</td>\n",
              "      <td>43.96875</td>\n",
              "      <td>45.12500</td>\n",
              "      <td>42.81250</td>\n",
              "      <td>44.40625</td>\n",
              "      <td>26.160336</td>\n",
              "      <td>5417600</td>\n",
              "    </tr>\n",
              "    <tr>\n",
              "      <th>1</th>\n",
              "      <td>1993-03-01</td>\n",
              "      <td>44.56250</td>\n",
              "      <td>45.84375</td>\n",
              "      <td>44.21875</td>\n",
              "      <td>45.18750</td>\n",
              "      <td>26.620569</td>\n",
              "      <td>3019200</td>\n",
              "    </tr>\n",
              "  </tbody>\n",
              "</table>\n",
              "</div>\n",
              "      <button class=\"colab-df-convert\" onclick=\"convertToInteractive('df-1f9c0471-1f1d-42a1-a6de-f25305e747fe')\"\n",
              "              title=\"Convert this dataframe to an interactive table.\"\n",
              "              style=\"display:none;\">\n",
              "        \n",
              "  <svg xmlns=\"http://www.w3.org/2000/svg\" height=\"24px\"viewBox=\"0 0 24 24\"\n",
              "       width=\"24px\">\n",
              "    <path d=\"M0 0h24v24H0V0z\" fill=\"none\"/>\n",
              "    <path d=\"M18.56 5.44l.94 2.06.94-2.06 2.06-.94-2.06-.94-.94-2.06-.94 2.06-2.06.94zm-11 1L8.5 8.5l.94-2.06 2.06-.94-2.06-.94L8.5 2.5l-.94 2.06-2.06.94zm10 10l.94 2.06.94-2.06 2.06-.94-2.06-.94-.94-2.06-.94 2.06-2.06.94z\"/><path d=\"M17.41 7.96l-1.37-1.37c-.4-.4-.92-.59-1.43-.59-.52 0-1.04.2-1.43.59L10.3 9.45l-7.72 7.72c-.78.78-.78 2.05 0 2.83L4 21.41c.39.39.9.59 1.41.59.51 0 1.02-.2 1.41-.59l7.78-7.78 2.81-2.81c.8-.78.8-2.07 0-2.86zM5.41 20L4 18.59l7.72-7.72 1.47 1.35L5.41 20z\"/>\n",
              "  </svg>\n",
              "      </button>\n",
              "      \n",
              "  <style>\n",
              "    .colab-df-container {\n",
              "      display:flex;\n",
              "      flex-wrap:wrap;\n",
              "      gap: 12px;\n",
              "    }\n",
              "\n",
              "    .colab-df-convert {\n",
              "      background-color: #E8F0FE;\n",
              "      border: none;\n",
              "      border-radius: 50%;\n",
              "      cursor: pointer;\n",
              "      display: none;\n",
              "      fill: #1967D2;\n",
              "      height: 32px;\n",
              "      padding: 0 0 0 0;\n",
              "      width: 32px;\n",
              "    }\n",
              "\n",
              "    .colab-df-convert:hover {\n",
              "      background-color: #E2EBFA;\n",
              "      box-shadow: 0px 1px 2px rgba(60, 64, 67, 0.3), 0px 1px 3px 1px rgba(60, 64, 67, 0.15);\n",
              "      fill: #174EA6;\n",
              "    }\n",
              "\n",
              "    [theme=dark] .colab-df-convert {\n",
              "      background-color: #3B4455;\n",
              "      fill: #D2E3FC;\n",
              "    }\n",
              "\n",
              "    [theme=dark] .colab-df-convert:hover {\n",
              "      background-color: #434B5C;\n",
              "      box-shadow: 0px 1px 3px 1px rgba(0, 0, 0, 0.15);\n",
              "      filter: drop-shadow(0px 1px 2px rgba(0, 0, 0, 0.3));\n",
              "      fill: #FFFFFF;\n",
              "    }\n",
              "  </style>\n",
              "\n",
              "      <script>\n",
              "        const buttonEl =\n",
              "          document.querySelector('#df-1f9c0471-1f1d-42a1-a6de-f25305e747fe button.colab-df-convert');\n",
              "        buttonEl.style.display =\n",
              "          google.colab.kernel.accessAllowed ? 'block' : 'none';\n",
              "\n",
              "        async function convertToInteractive(key) {\n",
              "          const element = document.querySelector('#df-1f9c0471-1f1d-42a1-a6de-f25305e747fe');\n",
              "          const dataTable =\n",
              "            await google.colab.kernel.invokeFunction('convertToInteractive',\n",
              "                                                     [key], {});\n",
              "          if (!dataTable) return;\n",
              "\n",
              "          const docLinkHtml = 'Like what you see? Visit the ' +\n",
              "            '<a target=\"_blank\" href=https://colab.research.google.com/notebooks/data_table.ipynb>data table notebook</a>'\n",
              "            + ' to learn more about interactive tables.';\n",
              "          element.innerHTML = '';\n",
              "          dataTable['output_type'] = 'display_data';\n",
              "          await google.colab.output.renderOutput(dataTable, element);\n",
              "          const docLink = document.createElement('div');\n",
              "          docLink.innerHTML = docLinkHtml;\n",
              "          element.appendChild(docLink);\n",
              "        }\n",
              "      </script>\n",
              "    </div>\n",
              "  </div>\n",
              "  "
            ]
          },
          "metadata": {},
          "execution_count": 32
        }
      ]
    },
    {
      "cell_type": "code",
      "source": [
        "SPY_data['Date']= pd.to_datetime(SPY_data['Date'])\n"
      ],
      "metadata": {
        "id": "4H36MAR3qFNa"
      },
      "execution_count": 33,
      "outputs": []
    },
    {
      "cell_type": "code",
      "source": [
        "# From A6 solution code snippet:\n",
        "import datetime\n",
        "\n",
        "SPY_data.head(2)\n",
        "start_date = '2012-06-01'\n",
        "end_date = '2019-10-01'\n",
        "\n",
        "SPY_data_fil = SPY_data.loc[( SPY_data['Date'] >= \n",
        "                             datetime.datetime(2012, 6, 1) )]\n",
        "SPY_data_fil = SPY_data_fil.loc[( SPY_data['Date'] <= \n",
        "                                 datetime.datetime(2019, 10, 1) )]\n",
        "\n",
        "SPY_data_fil.shape\n",
        "SPY_data_fil.tail(5)\n",
        "\n"
      ],
      "metadata": {
        "colab": {
          "base_uri": "https://localhost:8080/",
          "height": 319
        },
        "id": "h-Lb5HPV7CQq",
        "outputId": "63d4cf20-bc3c-4d0a-d831-a369b71aa01c"
      },
      "execution_count": 34,
      "outputs": [
        {
          "output_type": "execute_result",
          "data": {
            "text/plain": [
              "        Date      Open      High       Low     Close  Adj Close   Volume\n",
              "0 1993-02-01  43.96875  45.12500  42.81250  44.40625  26.160336  5417600\n",
              "1 1993-03-01  44.56250  45.84375  44.21875  45.18750  26.620569  3019200"
            ],
            "text/html": [
              "\n",
              "  <div id=\"df-fd4d473f-a771-4ef1-9c16-e48a2bae8682\">\n",
              "    <div class=\"colab-df-container\">\n",
              "      <div>\n",
              "<style scoped>\n",
              "    .dataframe tbody tr th:only-of-type {\n",
              "        vertical-align: middle;\n",
              "    }\n",
              "\n",
              "    .dataframe tbody tr th {\n",
              "        vertical-align: top;\n",
              "    }\n",
              "\n",
              "    .dataframe thead th {\n",
              "        text-align: right;\n",
              "    }\n",
              "</style>\n",
              "<table border=\"1\" class=\"dataframe\">\n",
              "  <thead>\n",
              "    <tr style=\"text-align: right;\">\n",
              "      <th></th>\n",
              "      <th>Date</th>\n",
              "      <th>Open</th>\n",
              "      <th>High</th>\n",
              "      <th>Low</th>\n",
              "      <th>Close</th>\n",
              "      <th>Adj Close</th>\n",
              "      <th>Volume</th>\n",
              "    </tr>\n",
              "  </thead>\n",
              "  <tbody>\n",
              "    <tr>\n",
              "      <th>0</th>\n",
              "      <td>1993-02-01</td>\n",
              "      <td>43.96875</td>\n",
              "      <td>45.12500</td>\n",
              "      <td>42.81250</td>\n",
              "      <td>44.40625</td>\n",
              "      <td>26.160336</td>\n",
              "      <td>5417600</td>\n",
              "    </tr>\n",
              "    <tr>\n",
              "      <th>1</th>\n",
              "      <td>1993-03-01</td>\n",
              "      <td>44.56250</td>\n",
              "      <td>45.84375</td>\n",
              "      <td>44.21875</td>\n",
              "      <td>45.18750</td>\n",
              "      <td>26.620569</td>\n",
              "      <td>3019200</td>\n",
              "    </tr>\n",
              "  </tbody>\n",
              "</table>\n",
              "</div>\n",
              "      <button class=\"colab-df-convert\" onclick=\"convertToInteractive('df-fd4d473f-a771-4ef1-9c16-e48a2bae8682')\"\n",
              "              title=\"Convert this dataframe to an interactive table.\"\n",
              "              style=\"display:none;\">\n",
              "        \n",
              "  <svg xmlns=\"http://www.w3.org/2000/svg\" height=\"24px\"viewBox=\"0 0 24 24\"\n",
              "       width=\"24px\">\n",
              "    <path d=\"M0 0h24v24H0V0z\" fill=\"none\"/>\n",
              "    <path d=\"M18.56 5.44l.94 2.06.94-2.06 2.06-.94-2.06-.94-.94-2.06-.94 2.06-2.06.94zm-11 1L8.5 8.5l.94-2.06 2.06-.94-2.06-.94L8.5 2.5l-.94 2.06-2.06.94zm10 10l.94 2.06.94-2.06 2.06-.94-2.06-.94-.94-2.06-.94 2.06-2.06.94z\"/><path d=\"M17.41 7.96l-1.37-1.37c-.4-.4-.92-.59-1.43-.59-.52 0-1.04.2-1.43.59L10.3 9.45l-7.72 7.72c-.78.78-.78 2.05 0 2.83L4 21.41c.39.39.9.59 1.41.59.51 0 1.02-.2 1.41-.59l7.78-7.78 2.81-2.81c.8-.78.8-2.07 0-2.86zM5.41 20L4 18.59l7.72-7.72 1.47 1.35L5.41 20z\"/>\n",
              "  </svg>\n",
              "      </button>\n",
              "      \n",
              "  <style>\n",
              "    .colab-df-container {\n",
              "      display:flex;\n",
              "      flex-wrap:wrap;\n",
              "      gap: 12px;\n",
              "    }\n",
              "\n",
              "    .colab-df-convert {\n",
              "      background-color: #E8F0FE;\n",
              "      border: none;\n",
              "      border-radius: 50%;\n",
              "      cursor: pointer;\n",
              "      display: none;\n",
              "      fill: #1967D2;\n",
              "      height: 32px;\n",
              "      padding: 0 0 0 0;\n",
              "      width: 32px;\n",
              "    }\n",
              "\n",
              "    .colab-df-convert:hover {\n",
              "      background-color: #E2EBFA;\n",
              "      box-shadow: 0px 1px 2px rgba(60, 64, 67, 0.3), 0px 1px 3px 1px rgba(60, 64, 67, 0.15);\n",
              "      fill: #174EA6;\n",
              "    }\n",
              "\n",
              "    [theme=dark] .colab-df-convert {\n",
              "      background-color: #3B4455;\n",
              "      fill: #D2E3FC;\n",
              "    }\n",
              "\n",
              "    [theme=dark] .colab-df-convert:hover {\n",
              "      background-color: #434B5C;\n",
              "      box-shadow: 0px 1px 3px 1px rgba(0, 0, 0, 0.15);\n",
              "      filter: drop-shadow(0px 1px 2px rgba(0, 0, 0, 0.3));\n",
              "      fill: #FFFFFF;\n",
              "    }\n",
              "  </style>\n",
              "\n",
              "      <script>\n",
              "        const buttonEl =\n",
              "          document.querySelector('#df-fd4d473f-a771-4ef1-9c16-e48a2bae8682 button.colab-df-convert');\n",
              "        buttonEl.style.display =\n",
              "          google.colab.kernel.accessAllowed ? 'block' : 'none';\n",
              "\n",
              "        async function convertToInteractive(key) {\n",
              "          const element = document.querySelector('#df-fd4d473f-a771-4ef1-9c16-e48a2bae8682');\n",
              "          const dataTable =\n",
              "            await google.colab.kernel.invokeFunction('convertToInteractive',\n",
              "                                                     [key], {});\n",
              "          if (!dataTable) return;\n",
              "\n",
              "          const docLinkHtml = 'Like what you see? Visit the ' +\n",
              "            '<a target=\"_blank\" href=https://colab.research.google.com/notebooks/data_table.ipynb>data table notebook</a>'\n",
              "            + ' to learn more about interactive tables.';\n",
              "          element.innerHTML = '';\n",
              "          dataTable['output_type'] = 'display_data';\n",
              "          await google.colab.output.renderOutput(dataTable, element);\n",
              "          const docLink = document.createElement('div');\n",
              "          docLink.innerHTML = docLinkHtml;\n",
              "          element.appendChild(docLink);\n",
              "        }\n",
              "      </script>\n",
              "    </div>\n",
              "  </div>\n",
              "  "
            ]
          },
          "metadata": {},
          "execution_count": 34
        },
        {
          "output_type": "execute_result",
          "data": {
            "text/plain": [
              "(89, 7)"
            ]
          },
          "metadata": {},
          "execution_count": 34
        },
        {
          "output_type": "execute_result",
          "data": {
            "text/plain": [
              "          Date        Open        High         Low       Close   Adj Close      Volume\n",
              "316 2019-06-01  275.309998  296.309998  273.089996  293.000000  282.601105  1340435600\n",
              "317 2019-07-01  296.679993  302.230011  294.329987  297.429993  288.269165  1110102300\n",
              "318 2019-08-01  297.600006  300.869995  281.720001  292.450012  283.442535  2034004800\n",
              "319 2019-09-01  290.570007  302.630005  289.269989  296.769989  287.629486  1303830000\n",
              "320 2019-10-01  297.739990  304.549988  284.820007  303.329987  295.345062  1386748300"
            ],
            "text/html": [
              "\n",
              "  <div id=\"df-2744b429-010d-4cd0-bbd6-43d6d88b6077\">\n",
              "    <div class=\"colab-df-container\">\n",
              "      <div>\n",
              "<style scoped>\n",
              "    .dataframe tbody tr th:only-of-type {\n",
              "        vertical-align: middle;\n",
              "    }\n",
              "\n",
              "    .dataframe tbody tr th {\n",
              "        vertical-align: top;\n",
              "    }\n",
              "\n",
              "    .dataframe thead th {\n",
              "        text-align: right;\n",
              "    }\n",
              "</style>\n",
              "<table border=\"1\" class=\"dataframe\">\n",
              "  <thead>\n",
              "    <tr style=\"text-align: right;\">\n",
              "      <th></th>\n",
              "      <th>Date</th>\n",
              "      <th>Open</th>\n",
              "      <th>High</th>\n",
              "      <th>Low</th>\n",
              "      <th>Close</th>\n",
              "      <th>Adj Close</th>\n",
              "      <th>Volume</th>\n",
              "    </tr>\n",
              "  </thead>\n",
              "  <tbody>\n",
              "    <tr>\n",
              "      <th>316</th>\n",
              "      <td>2019-06-01</td>\n",
              "      <td>275.309998</td>\n",
              "      <td>296.309998</td>\n",
              "      <td>273.089996</td>\n",
              "      <td>293.000000</td>\n",
              "      <td>282.601105</td>\n",
              "      <td>1340435600</td>\n",
              "    </tr>\n",
              "    <tr>\n",
              "      <th>317</th>\n",
              "      <td>2019-07-01</td>\n",
              "      <td>296.679993</td>\n",
              "      <td>302.230011</td>\n",
              "      <td>294.329987</td>\n",
              "      <td>297.429993</td>\n",
              "      <td>288.269165</td>\n",
              "      <td>1110102300</td>\n",
              "    </tr>\n",
              "    <tr>\n",
              "      <th>318</th>\n",
              "      <td>2019-08-01</td>\n",
              "      <td>297.600006</td>\n",
              "      <td>300.869995</td>\n",
              "      <td>281.720001</td>\n",
              "      <td>292.450012</td>\n",
              "      <td>283.442535</td>\n",
              "      <td>2034004800</td>\n",
              "    </tr>\n",
              "    <tr>\n",
              "      <th>319</th>\n",
              "      <td>2019-09-01</td>\n",
              "      <td>290.570007</td>\n",
              "      <td>302.630005</td>\n",
              "      <td>289.269989</td>\n",
              "      <td>296.769989</td>\n",
              "      <td>287.629486</td>\n",
              "      <td>1303830000</td>\n",
              "    </tr>\n",
              "    <tr>\n",
              "      <th>320</th>\n",
              "      <td>2019-10-01</td>\n",
              "      <td>297.739990</td>\n",
              "      <td>304.549988</td>\n",
              "      <td>284.820007</td>\n",
              "      <td>303.329987</td>\n",
              "      <td>295.345062</td>\n",
              "      <td>1386748300</td>\n",
              "    </tr>\n",
              "  </tbody>\n",
              "</table>\n",
              "</div>\n",
              "      <button class=\"colab-df-convert\" onclick=\"convertToInteractive('df-2744b429-010d-4cd0-bbd6-43d6d88b6077')\"\n",
              "              title=\"Convert this dataframe to an interactive table.\"\n",
              "              style=\"display:none;\">\n",
              "        \n",
              "  <svg xmlns=\"http://www.w3.org/2000/svg\" height=\"24px\"viewBox=\"0 0 24 24\"\n",
              "       width=\"24px\">\n",
              "    <path d=\"M0 0h24v24H0V0z\" fill=\"none\"/>\n",
              "    <path d=\"M18.56 5.44l.94 2.06.94-2.06 2.06-.94-2.06-.94-.94-2.06-.94 2.06-2.06.94zm-11 1L8.5 8.5l.94-2.06 2.06-.94-2.06-.94L8.5 2.5l-.94 2.06-2.06.94zm10 10l.94 2.06.94-2.06 2.06-.94-2.06-.94-.94-2.06-.94 2.06-2.06.94z\"/><path d=\"M17.41 7.96l-1.37-1.37c-.4-.4-.92-.59-1.43-.59-.52 0-1.04.2-1.43.59L10.3 9.45l-7.72 7.72c-.78.78-.78 2.05 0 2.83L4 21.41c.39.39.9.59 1.41.59.51 0 1.02-.2 1.41-.59l7.78-7.78 2.81-2.81c.8-.78.8-2.07 0-2.86zM5.41 20L4 18.59l7.72-7.72 1.47 1.35L5.41 20z\"/>\n",
              "  </svg>\n",
              "      </button>\n",
              "      \n",
              "  <style>\n",
              "    .colab-df-container {\n",
              "      display:flex;\n",
              "      flex-wrap:wrap;\n",
              "      gap: 12px;\n",
              "    }\n",
              "\n",
              "    .colab-df-convert {\n",
              "      background-color: #E8F0FE;\n",
              "      border: none;\n",
              "      border-radius: 50%;\n",
              "      cursor: pointer;\n",
              "      display: none;\n",
              "      fill: #1967D2;\n",
              "      height: 32px;\n",
              "      padding: 0 0 0 0;\n",
              "      width: 32px;\n",
              "    }\n",
              "\n",
              "    .colab-df-convert:hover {\n",
              "      background-color: #E2EBFA;\n",
              "      box-shadow: 0px 1px 2px rgba(60, 64, 67, 0.3), 0px 1px 3px 1px rgba(60, 64, 67, 0.15);\n",
              "      fill: #174EA6;\n",
              "    }\n",
              "\n",
              "    [theme=dark] .colab-df-convert {\n",
              "      background-color: #3B4455;\n",
              "      fill: #D2E3FC;\n",
              "    }\n",
              "\n",
              "    [theme=dark] .colab-df-convert:hover {\n",
              "      background-color: #434B5C;\n",
              "      box-shadow: 0px 1px 3px 1px rgba(0, 0, 0, 0.15);\n",
              "      filter: drop-shadow(0px 1px 2px rgba(0, 0, 0, 0.3));\n",
              "      fill: #FFFFFF;\n",
              "    }\n",
              "  </style>\n",
              "\n",
              "      <script>\n",
              "        const buttonEl =\n",
              "          document.querySelector('#df-2744b429-010d-4cd0-bbd6-43d6d88b6077 button.colab-df-convert');\n",
              "        buttonEl.style.display =\n",
              "          google.colab.kernel.accessAllowed ? 'block' : 'none';\n",
              "\n",
              "        async function convertToInteractive(key) {\n",
              "          const element = document.querySelector('#df-2744b429-010d-4cd0-bbd6-43d6d88b6077');\n",
              "          const dataTable =\n",
              "            await google.colab.kernel.invokeFunction('convertToInteractive',\n",
              "                                                     [key], {});\n",
              "          if (!dataTable) return;\n",
              "\n",
              "          const docLinkHtml = 'Like what you see? Visit the ' +\n",
              "            '<a target=\"_blank\" href=https://colab.research.google.com/notebooks/data_table.ipynb>data table notebook</a>'\n",
              "            + ' to learn more about interactive tables.';\n",
              "          element.innerHTML = '';\n",
              "          dataTable['output_type'] = 'display_data';\n",
              "          await google.colab.output.renderOutput(dataTable, element);\n",
              "          const docLink = document.createElement('div');\n",
              "          docLink.innerHTML = docLinkHtml;\n",
              "          element.appendChild(docLink);\n",
              "        }\n",
              "      </script>\n",
              "    </div>\n",
              "  </div>\n",
              "  "
            ]
          },
          "metadata": {},
          "execution_count": 34
        }
      ]
    },
    {
      "cell_type": "code",
      "source": [],
      "metadata": {
        "id": "U5pz9dkv2C-D"
      },
      "execution_count": 34,
      "outputs": []
    },
    {
      "cell_type": "code",
      "source": [
        "perf_func = pf.timeseries.perf_stats\n",
        "\n",
        "def get_monthly_returns(monthly_returns):\n",
        "    \"\"\"\n",
        "    This changes returns into monthly returns that will work using pyfolio. Its not perfect...\n",
        "    \"\"\"\n",
        "    \n",
        "    cum_rets = ((monthly_returns + 1).cumprod())\n",
        "\n",
        "    # Downsample to monthly\n",
        "    monthly_rets = cum_rets.resample('M').last()\n",
        "\n",
        "    # Forward fill, Percent Change, Drop NaN\n",
        "    monthly_rets = monthly_rets.ffill().pct_change().dropna()\n",
        "    \n",
        "    return monthly_rets"
      ],
      "metadata": {
        "id": "BmC2cFREPmD4"
      },
      "execution_count": 35,
      "outputs": []
    },
    {
      "cell_type": "code",
      "source": [
        "SPY_data_SR = SPY_data_fil.copy(deep = True)\n",
        "SPY_data_SR.set_index('Date' , inplace=True)\n"
      ],
      "metadata": {
        "id": "kzHYzEwOxt38"
      },
      "execution_count": 36,
      "outputs": []
    },
    {
      "cell_type": "markdown",
      "source": [
        "## Sharpe Calculation"
      ],
      "metadata": {
        "id": "tG9WitKVOrvL"
      }
    },
    {
      "cell_type": "code",
      "source": [
        "start_date = '2012-06-01'\n",
        "end_date = '2019-10-01'"
      ],
      "metadata": {
        "id": "cQlH5zIkjcgL"
      },
      "execution_count": 37,
      "outputs": []
    },
    {
      "cell_type": "code",
      "source": [
        "X_train = X_data[:start_date]\n",
        "X_test = X_data[start_date:]\n",
        "y_train = y_data[:start_date]\n",
        "y_test = y_data[start_date:]\n",
        "\n"
      ],
      "metadata": {
        "id": "xDJRbPbTjcgL"
      },
      "execution_count": 38,
      "outputs": []
    },
    {
      "cell_type": "code",
      "source": [
        "X_data.shape\n",
        "y_data.shape\n",
        "X_train.shape\n",
        "X_test.shape\n",
        "y_train.shape\n",
        "y_test.shape\n",
        "#X_test = X_test.drop('2019-11-01')\n",
        "X_test.tail()\n"
      ],
      "metadata": {
        "colab": {
          "base_uri": "https://localhost:8080/",
          "height": 255
        },
        "outputId": "3330341d-a4a6-45cd-c684-ad3ff502d688",
        "id": "gSG2t5UpjcgM"
      },
      "execution_count": 39,
      "outputs": [
        {
          "output_type": "execute_result",
          "data": {
            "text/plain": [
              "(888, 15)"
            ]
          },
          "metadata": {},
          "execution_count": 39
        },
        {
          "output_type": "execute_result",
          "data": {
            "text/plain": [
              "(888, 1)"
            ]
          },
          "metadata": {},
          "execution_count": 39
        },
        {
          "output_type": "execute_result",
          "data": {
            "text/plain": [
              "(799, 15)"
            ]
          },
          "metadata": {},
          "execution_count": 39
        },
        {
          "output_type": "execute_result",
          "data": {
            "text/plain": [
              "(90, 15)"
            ]
          },
          "metadata": {},
          "execution_count": 39
        },
        {
          "output_type": "execute_result",
          "data": {
            "text/plain": [
              "(799, 1)"
            ]
          },
          "metadata": {},
          "execution_count": 39
        },
        {
          "output_type": "execute_result",
          "data": {
            "text/plain": [
              "(90, 1)"
            ]
          },
          "metadata": {},
          "execution_count": 39
        },
        {
          "output_type": "execute_result",
          "data": {
            "text/plain": [
              "                ntis      infl     ltr   corpr      svar       d/p       d/y       e/p       d/e     tms     dfy     dfr    b/m_FD    tbl_FD    lty_FD\n",
              "yyyymm                                                                                                                                                \n",
              "2019-07-01 -0.012703  0.001671  0.0024  0.0084  0.000594 -3.966309 -3.948051 -3.098391 -0.867918 -0.0004  0.0099  0.0060 -0.554641 -2.113560 -1.525435\n",
              "2019-08-01 -0.010244 -0.000051  0.0797  0.0738  0.004318 -3.941330 -3.958365 -3.086025 -0.855305 -0.0032  0.0089 -0.0059 -0.531192 -2.175405 -1.735233\n",
              "2019-09-01 -0.010959  0.000783 -0.0192 -0.0190  0.000605 -3.951689 -3.971915 -3.108987 -0.842702 -0.0019  0.0088  0.0002 -0.553503 -2.185571 -1.606937\n",
              "2019-10-01 -0.013267  0.002286 -0.0052  0.0006  0.001510 -3.965984 -3.999464 -3.112869 -0.853115  0.0006  0.0091  0.0058 -0.552792 -2.304826 -1.576943\n",
              "2019-11-01 -0.007907 -0.000536 -0.0059  0.0014  0.000306 -3.993568 -4.021757 -3.130267 -0.863301  0.0027  0.0088  0.0073 -0.585980 -2.337228 -1.503722"
            ],
            "text/html": [
              "\n",
              "  <div id=\"df-f5f7bff2-0b6b-4afe-8bcc-f9381c82b851\">\n",
              "    <div class=\"colab-df-container\">\n",
              "      <div>\n",
              "<style scoped>\n",
              "    .dataframe tbody tr th:only-of-type {\n",
              "        vertical-align: middle;\n",
              "    }\n",
              "\n",
              "    .dataframe tbody tr th {\n",
              "        vertical-align: top;\n",
              "    }\n",
              "\n",
              "    .dataframe thead th {\n",
              "        text-align: right;\n",
              "    }\n",
              "</style>\n",
              "<table border=\"1\" class=\"dataframe\">\n",
              "  <thead>\n",
              "    <tr style=\"text-align: right;\">\n",
              "      <th></th>\n",
              "      <th>ntis</th>\n",
              "      <th>infl</th>\n",
              "      <th>ltr</th>\n",
              "      <th>corpr</th>\n",
              "      <th>svar</th>\n",
              "      <th>d/p</th>\n",
              "      <th>d/y</th>\n",
              "      <th>e/p</th>\n",
              "      <th>d/e</th>\n",
              "      <th>tms</th>\n",
              "      <th>dfy</th>\n",
              "      <th>dfr</th>\n",
              "      <th>b/m_FD</th>\n",
              "      <th>tbl_FD</th>\n",
              "      <th>lty_FD</th>\n",
              "    </tr>\n",
              "    <tr>\n",
              "      <th>yyyymm</th>\n",
              "      <th></th>\n",
              "      <th></th>\n",
              "      <th></th>\n",
              "      <th></th>\n",
              "      <th></th>\n",
              "      <th></th>\n",
              "      <th></th>\n",
              "      <th></th>\n",
              "      <th></th>\n",
              "      <th></th>\n",
              "      <th></th>\n",
              "      <th></th>\n",
              "      <th></th>\n",
              "      <th></th>\n",
              "      <th></th>\n",
              "    </tr>\n",
              "  </thead>\n",
              "  <tbody>\n",
              "    <tr>\n",
              "      <th>2019-07-01</th>\n",
              "      <td>-0.012703</td>\n",
              "      <td>0.001671</td>\n",
              "      <td>0.0024</td>\n",
              "      <td>0.0084</td>\n",
              "      <td>0.000594</td>\n",
              "      <td>-3.966309</td>\n",
              "      <td>-3.948051</td>\n",
              "      <td>-3.098391</td>\n",
              "      <td>-0.867918</td>\n",
              "      <td>-0.0004</td>\n",
              "      <td>0.0099</td>\n",
              "      <td>0.0060</td>\n",
              "      <td>-0.554641</td>\n",
              "      <td>-2.113560</td>\n",
              "      <td>-1.525435</td>\n",
              "    </tr>\n",
              "    <tr>\n",
              "      <th>2019-08-01</th>\n",
              "      <td>-0.010244</td>\n",
              "      <td>-0.000051</td>\n",
              "      <td>0.0797</td>\n",
              "      <td>0.0738</td>\n",
              "      <td>0.004318</td>\n",
              "      <td>-3.941330</td>\n",
              "      <td>-3.958365</td>\n",
              "      <td>-3.086025</td>\n",
              "      <td>-0.855305</td>\n",
              "      <td>-0.0032</td>\n",
              "      <td>0.0089</td>\n",
              "      <td>-0.0059</td>\n",
              "      <td>-0.531192</td>\n",
              "      <td>-2.175405</td>\n",
              "      <td>-1.735233</td>\n",
              "    </tr>\n",
              "    <tr>\n",
              "      <th>2019-09-01</th>\n",
              "      <td>-0.010959</td>\n",
              "      <td>0.000783</td>\n",
              "      <td>-0.0192</td>\n",
              "      <td>-0.0190</td>\n",
              "      <td>0.000605</td>\n",
              "      <td>-3.951689</td>\n",
              "      <td>-3.971915</td>\n",
              "      <td>-3.108987</td>\n",
              "      <td>-0.842702</td>\n",
              "      <td>-0.0019</td>\n",
              "      <td>0.0088</td>\n",
              "      <td>0.0002</td>\n",
              "      <td>-0.553503</td>\n",
              "      <td>-2.185571</td>\n",
              "      <td>-1.606937</td>\n",
              "    </tr>\n",
              "    <tr>\n",
              "      <th>2019-10-01</th>\n",
              "      <td>-0.013267</td>\n",
              "      <td>0.002286</td>\n",
              "      <td>-0.0052</td>\n",
              "      <td>0.0006</td>\n",
              "      <td>0.001510</td>\n",
              "      <td>-3.965984</td>\n",
              "      <td>-3.999464</td>\n",
              "      <td>-3.112869</td>\n",
              "      <td>-0.853115</td>\n",
              "      <td>0.0006</td>\n",
              "      <td>0.0091</td>\n",
              "      <td>0.0058</td>\n",
              "      <td>-0.552792</td>\n",
              "      <td>-2.304826</td>\n",
              "      <td>-1.576943</td>\n",
              "    </tr>\n",
              "    <tr>\n",
              "      <th>2019-11-01</th>\n",
              "      <td>-0.007907</td>\n",
              "      <td>-0.000536</td>\n",
              "      <td>-0.0059</td>\n",
              "      <td>0.0014</td>\n",
              "      <td>0.000306</td>\n",
              "      <td>-3.993568</td>\n",
              "      <td>-4.021757</td>\n",
              "      <td>-3.130267</td>\n",
              "      <td>-0.863301</td>\n",
              "      <td>0.0027</td>\n",
              "      <td>0.0088</td>\n",
              "      <td>0.0073</td>\n",
              "      <td>-0.585980</td>\n",
              "      <td>-2.337228</td>\n",
              "      <td>-1.503722</td>\n",
              "    </tr>\n",
              "  </tbody>\n",
              "</table>\n",
              "</div>\n",
              "      <button class=\"colab-df-convert\" onclick=\"convertToInteractive('df-f5f7bff2-0b6b-4afe-8bcc-f9381c82b851')\"\n",
              "              title=\"Convert this dataframe to an interactive table.\"\n",
              "              style=\"display:none;\">\n",
              "        \n",
              "  <svg xmlns=\"http://www.w3.org/2000/svg\" height=\"24px\"viewBox=\"0 0 24 24\"\n",
              "       width=\"24px\">\n",
              "    <path d=\"M0 0h24v24H0V0z\" fill=\"none\"/>\n",
              "    <path d=\"M18.56 5.44l.94 2.06.94-2.06 2.06-.94-2.06-.94-.94-2.06-.94 2.06-2.06.94zm-11 1L8.5 8.5l.94-2.06 2.06-.94-2.06-.94L8.5 2.5l-.94 2.06-2.06.94zm10 10l.94 2.06.94-2.06 2.06-.94-2.06-.94-.94-2.06-.94 2.06-2.06.94z\"/><path d=\"M17.41 7.96l-1.37-1.37c-.4-.4-.92-.59-1.43-.59-.52 0-1.04.2-1.43.59L10.3 9.45l-7.72 7.72c-.78.78-.78 2.05 0 2.83L4 21.41c.39.39.9.59 1.41.59.51 0 1.02-.2 1.41-.59l7.78-7.78 2.81-2.81c.8-.78.8-2.07 0-2.86zM5.41 20L4 18.59l7.72-7.72 1.47 1.35L5.41 20z\"/>\n",
              "  </svg>\n",
              "      </button>\n",
              "      \n",
              "  <style>\n",
              "    .colab-df-container {\n",
              "      display:flex;\n",
              "      flex-wrap:wrap;\n",
              "      gap: 12px;\n",
              "    }\n",
              "\n",
              "    .colab-df-convert {\n",
              "      background-color: #E8F0FE;\n",
              "      border: none;\n",
              "      border-radius: 50%;\n",
              "      cursor: pointer;\n",
              "      display: none;\n",
              "      fill: #1967D2;\n",
              "      height: 32px;\n",
              "      padding: 0 0 0 0;\n",
              "      width: 32px;\n",
              "    }\n",
              "\n",
              "    .colab-df-convert:hover {\n",
              "      background-color: #E2EBFA;\n",
              "      box-shadow: 0px 1px 2px rgba(60, 64, 67, 0.3), 0px 1px 3px 1px rgba(60, 64, 67, 0.15);\n",
              "      fill: #174EA6;\n",
              "    }\n",
              "\n",
              "    [theme=dark] .colab-df-convert {\n",
              "      background-color: #3B4455;\n",
              "      fill: #D2E3FC;\n",
              "    }\n",
              "\n",
              "    [theme=dark] .colab-df-convert:hover {\n",
              "      background-color: #434B5C;\n",
              "      box-shadow: 0px 1px 3px 1px rgba(0, 0, 0, 0.15);\n",
              "      filter: drop-shadow(0px 1px 2px rgba(0, 0, 0, 0.3));\n",
              "      fill: #FFFFFF;\n",
              "    }\n",
              "  </style>\n",
              "\n",
              "      <script>\n",
              "        const buttonEl =\n",
              "          document.querySelector('#df-f5f7bff2-0b6b-4afe-8bcc-f9381c82b851 button.colab-df-convert');\n",
              "        buttonEl.style.display =\n",
              "          google.colab.kernel.accessAllowed ? 'block' : 'none';\n",
              "\n",
              "        async function convertToInteractive(key) {\n",
              "          const element = document.querySelector('#df-f5f7bff2-0b6b-4afe-8bcc-f9381c82b851');\n",
              "          const dataTable =\n",
              "            await google.colab.kernel.invokeFunction('convertToInteractive',\n",
              "                                                     [key], {});\n",
              "          if (!dataTable) return;\n",
              "\n",
              "          const docLinkHtml = 'Like what you see? Visit the ' +\n",
              "            '<a target=\"_blank\" href=https://colab.research.google.com/notebooks/data_table.ipynb>data table notebook</a>'\n",
              "            + ' to learn more about interactive tables.';\n",
              "          element.innerHTML = '';\n",
              "          dataTable['output_type'] = 'display_data';\n",
              "          await google.colab.output.renderOutput(dataTable, element);\n",
              "          const docLink = document.createElement('div');\n",
              "          docLink.innerHTML = docLinkHtml;\n",
              "          element.appendChild(docLink);\n",
              "        }\n",
              "      </script>\n",
              "    </div>\n",
              "  </div>\n",
              "  "
            ]
          },
          "metadata": {},
          "execution_count": 39
        }
      ]
    },
    {
      "cell_type": "code",
      "source": [
        "X_test3 = X_test.copy(deep = True)\n",
        "#X_test3.dropna(inplace=True)\n",
        "#X_test3.set_index('yyyymm' , inplace=True)\n",
        "X_test3.head()\n"
      ],
      "metadata": {
        "colab": {
          "base_uri": "https://localhost:8080/",
          "height": 238
        },
        "id": "7c8zN7Yemw7O",
        "outputId": "0a853de2-a715-4428-dd28-8142c11e5995"
      },
      "execution_count": 40,
      "outputs": [
        {
          "output_type": "execute_result",
          "data": {
            "text/plain": [
              "                ntis      infl     ltr   corpr      svar       d/p       d/y       e/p       d/e     tms     dfy     dfr    b/m_FD    tbl_FD    lty_FD\n",
              "yyyymm                                                                                                                                                \n",
              "2012-06-01 -0.019820 -0.001466 -0.0136  0.0064  0.003437 -3.873259 -3.885778 -2.740400 -1.132859  0.0224  0.0138  0.0200 -0.392624 -3.580049 -1.437708\n",
              "2012-07-01 -0.021091 -0.001630  0.0247  0.0612  0.001553 -3.870940 -3.890511 -2.758317 -1.112623  0.0206  0.0147  0.0365 -0.396861 -3.521716 -1.503595\n",
              "2012-08-01 -0.020536  0.005565 -0.0068 -0.0093  0.000727 -3.875890 -3.899837 -2.783315 -1.092575  0.0213  0.0143 -0.0025 -0.398770 -3.585436 -1.440500\n",
              "2012-09-01 -0.018153  0.004462 -0.0146 -0.0126  0.001045 -3.885427 -3.865439 -2.812719 -1.072708  0.0224  0.0135  0.0020 -0.420618 -3.526902 -1.384686\n",
              "2012-10-01 -0.016443 -0.000389 -0.0014  0.0206  0.000926 -3.846946 -3.849788 -2.792693 -1.054253  0.0228  0.0111  0.0220 -0.385622 -3.676852 -1.381841"
            ],
            "text/html": [
              "\n",
              "  <div id=\"df-4d2914d5-340e-48ff-afd1-7e3029ef59ce\">\n",
              "    <div class=\"colab-df-container\">\n",
              "      <div>\n",
              "<style scoped>\n",
              "    .dataframe tbody tr th:only-of-type {\n",
              "        vertical-align: middle;\n",
              "    }\n",
              "\n",
              "    .dataframe tbody tr th {\n",
              "        vertical-align: top;\n",
              "    }\n",
              "\n",
              "    .dataframe thead th {\n",
              "        text-align: right;\n",
              "    }\n",
              "</style>\n",
              "<table border=\"1\" class=\"dataframe\">\n",
              "  <thead>\n",
              "    <tr style=\"text-align: right;\">\n",
              "      <th></th>\n",
              "      <th>ntis</th>\n",
              "      <th>infl</th>\n",
              "      <th>ltr</th>\n",
              "      <th>corpr</th>\n",
              "      <th>svar</th>\n",
              "      <th>d/p</th>\n",
              "      <th>d/y</th>\n",
              "      <th>e/p</th>\n",
              "      <th>d/e</th>\n",
              "      <th>tms</th>\n",
              "      <th>dfy</th>\n",
              "      <th>dfr</th>\n",
              "      <th>b/m_FD</th>\n",
              "      <th>tbl_FD</th>\n",
              "      <th>lty_FD</th>\n",
              "    </tr>\n",
              "    <tr>\n",
              "      <th>yyyymm</th>\n",
              "      <th></th>\n",
              "      <th></th>\n",
              "      <th></th>\n",
              "      <th></th>\n",
              "      <th></th>\n",
              "      <th></th>\n",
              "      <th></th>\n",
              "      <th></th>\n",
              "      <th></th>\n",
              "      <th></th>\n",
              "      <th></th>\n",
              "      <th></th>\n",
              "      <th></th>\n",
              "      <th></th>\n",
              "      <th></th>\n",
              "    </tr>\n",
              "  </thead>\n",
              "  <tbody>\n",
              "    <tr>\n",
              "      <th>2012-06-01</th>\n",
              "      <td>-0.019820</td>\n",
              "      <td>-0.001466</td>\n",
              "      <td>-0.0136</td>\n",
              "      <td>0.0064</td>\n",
              "      <td>0.003437</td>\n",
              "      <td>-3.873259</td>\n",
              "      <td>-3.885778</td>\n",
              "      <td>-2.740400</td>\n",
              "      <td>-1.132859</td>\n",
              "      <td>0.0224</td>\n",
              "      <td>0.0138</td>\n",
              "      <td>0.0200</td>\n",
              "      <td>-0.392624</td>\n",
              "      <td>-3.580049</td>\n",
              "      <td>-1.437708</td>\n",
              "    </tr>\n",
              "    <tr>\n",
              "      <th>2012-07-01</th>\n",
              "      <td>-0.021091</td>\n",
              "      <td>-0.001630</td>\n",
              "      <td>0.0247</td>\n",
              "      <td>0.0612</td>\n",
              "      <td>0.001553</td>\n",
              "      <td>-3.870940</td>\n",
              "      <td>-3.890511</td>\n",
              "      <td>-2.758317</td>\n",
              "      <td>-1.112623</td>\n",
              "      <td>0.0206</td>\n",
              "      <td>0.0147</td>\n",
              "      <td>0.0365</td>\n",
              "      <td>-0.396861</td>\n",
              "      <td>-3.521716</td>\n",
              "      <td>-1.503595</td>\n",
              "    </tr>\n",
              "    <tr>\n",
              "      <th>2012-08-01</th>\n",
              "      <td>-0.020536</td>\n",
              "      <td>0.005565</td>\n",
              "      <td>-0.0068</td>\n",
              "      <td>-0.0093</td>\n",
              "      <td>0.000727</td>\n",
              "      <td>-3.875890</td>\n",
              "      <td>-3.899837</td>\n",
              "      <td>-2.783315</td>\n",
              "      <td>-1.092575</td>\n",
              "      <td>0.0213</td>\n",
              "      <td>0.0143</td>\n",
              "      <td>-0.0025</td>\n",
              "      <td>-0.398770</td>\n",
              "      <td>-3.585436</td>\n",
              "      <td>-1.440500</td>\n",
              "    </tr>\n",
              "    <tr>\n",
              "      <th>2012-09-01</th>\n",
              "      <td>-0.018153</td>\n",
              "      <td>0.004462</td>\n",
              "      <td>-0.0146</td>\n",
              "      <td>-0.0126</td>\n",
              "      <td>0.001045</td>\n",
              "      <td>-3.885427</td>\n",
              "      <td>-3.865439</td>\n",
              "      <td>-2.812719</td>\n",
              "      <td>-1.072708</td>\n",
              "      <td>0.0224</td>\n",
              "      <td>0.0135</td>\n",
              "      <td>0.0020</td>\n",
              "      <td>-0.420618</td>\n",
              "      <td>-3.526902</td>\n",
              "      <td>-1.384686</td>\n",
              "    </tr>\n",
              "    <tr>\n",
              "      <th>2012-10-01</th>\n",
              "      <td>-0.016443</td>\n",
              "      <td>-0.000389</td>\n",
              "      <td>-0.0014</td>\n",
              "      <td>0.0206</td>\n",
              "      <td>0.000926</td>\n",
              "      <td>-3.846946</td>\n",
              "      <td>-3.849788</td>\n",
              "      <td>-2.792693</td>\n",
              "      <td>-1.054253</td>\n",
              "      <td>0.0228</td>\n",
              "      <td>0.0111</td>\n",
              "      <td>0.0220</td>\n",
              "      <td>-0.385622</td>\n",
              "      <td>-3.676852</td>\n",
              "      <td>-1.381841</td>\n",
              "    </tr>\n",
              "  </tbody>\n",
              "</table>\n",
              "</div>\n",
              "      <button class=\"colab-df-convert\" onclick=\"convertToInteractive('df-4d2914d5-340e-48ff-afd1-7e3029ef59ce')\"\n",
              "              title=\"Convert this dataframe to an interactive table.\"\n",
              "              style=\"display:none;\">\n",
              "        \n",
              "  <svg xmlns=\"http://www.w3.org/2000/svg\" height=\"24px\"viewBox=\"0 0 24 24\"\n",
              "       width=\"24px\">\n",
              "    <path d=\"M0 0h24v24H0V0z\" fill=\"none\"/>\n",
              "    <path d=\"M18.56 5.44l.94 2.06.94-2.06 2.06-.94-2.06-.94-.94-2.06-.94 2.06-2.06.94zm-11 1L8.5 8.5l.94-2.06 2.06-.94-2.06-.94L8.5 2.5l-.94 2.06-2.06.94zm10 10l.94 2.06.94-2.06 2.06-.94-2.06-.94-.94-2.06-.94 2.06-2.06.94z\"/><path d=\"M17.41 7.96l-1.37-1.37c-.4-.4-.92-.59-1.43-.59-.52 0-1.04.2-1.43.59L10.3 9.45l-7.72 7.72c-.78.78-.78 2.05 0 2.83L4 21.41c.39.39.9.59 1.41.59.51 0 1.02-.2 1.41-.59l7.78-7.78 2.81-2.81c.8-.78.8-2.07 0-2.86zM5.41 20L4 18.59l7.72-7.72 1.47 1.35L5.41 20z\"/>\n",
              "  </svg>\n",
              "      </button>\n",
              "      \n",
              "  <style>\n",
              "    .colab-df-container {\n",
              "      display:flex;\n",
              "      flex-wrap:wrap;\n",
              "      gap: 12px;\n",
              "    }\n",
              "\n",
              "    .colab-df-convert {\n",
              "      background-color: #E8F0FE;\n",
              "      border: none;\n",
              "      border-radius: 50%;\n",
              "      cursor: pointer;\n",
              "      display: none;\n",
              "      fill: #1967D2;\n",
              "      height: 32px;\n",
              "      padding: 0 0 0 0;\n",
              "      width: 32px;\n",
              "    }\n",
              "\n",
              "    .colab-df-convert:hover {\n",
              "      background-color: #E2EBFA;\n",
              "      box-shadow: 0px 1px 2px rgba(60, 64, 67, 0.3), 0px 1px 3px 1px rgba(60, 64, 67, 0.15);\n",
              "      fill: #174EA6;\n",
              "    }\n",
              "\n",
              "    [theme=dark] .colab-df-convert {\n",
              "      background-color: #3B4455;\n",
              "      fill: #D2E3FC;\n",
              "    }\n",
              "\n",
              "    [theme=dark] .colab-df-convert:hover {\n",
              "      background-color: #434B5C;\n",
              "      box-shadow: 0px 1px 3px 1px rgba(0, 0, 0, 0.15);\n",
              "      filter: drop-shadow(0px 1px 2px rgba(0, 0, 0, 0.3));\n",
              "      fill: #FFFFFF;\n",
              "    }\n",
              "  </style>\n",
              "\n",
              "      <script>\n",
              "        const buttonEl =\n",
              "          document.querySelector('#df-4d2914d5-340e-48ff-afd1-7e3029ef59ce button.colab-df-convert');\n",
              "        buttonEl.style.display =\n",
              "          google.colab.kernel.accessAllowed ? 'block' : 'none';\n",
              "\n",
              "        async function convertToInteractive(key) {\n",
              "          const element = document.querySelector('#df-4d2914d5-340e-48ff-afd1-7e3029ef59ce');\n",
              "          const dataTable =\n",
              "            await google.colab.kernel.invokeFunction('convertToInteractive',\n",
              "                                                     [key], {});\n",
              "          if (!dataTable) return;\n",
              "\n",
              "          const docLinkHtml = 'Like what you see? Visit the ' +\n",
              "            '<a target=\"_blank\" href=https://colab.research.google.com/notebooks/data_table.ipynb>data table notebook</a>'\n",
              "            + ' to learn more about interactive tables.';\n",
              "          element.innerHTML = '';\n",
              "          dataTable['output_type'] = 'display_data';\n",
              "          await google.colab.output.renderOutput(dataTable, element);\n",
              "          const docLink = document.createElement('div');\n",
              "          docLink.innerHTML = docLinkHtml;\n",
              "          element.appendChild(docLink);\n",
              "        }\n",
              "      </script>\n",
              "    </div>\n",
              "  </div>\n",
              "  "
            ]
          },
          "metadata": {},
          "execution_count": 40
        }
      ]
    },
    {
      "cell_type": "code",
      "source": [
        "numGroups=5\n",
        "numGroupsTest=2 # If =1, always gives 1 path: CPCV -> CV\n",
        "trainFrac=1 # Fraction of train set to be added to valid set in CPCV\n",
        "\n",
        "from itertools import combinations\n",
        "numCombs=0\n",
        "for comb in combinations(range(numGroups),numGroupsTest):\n",
        "    numCombs+=1\n",
        "\n",
        "isTest,paths=getCPCVtestset(X_test3.shape[0],numGroups,numGroupsTest)\n",
        "print('isTest:',isTest.shape,'paths:',paths.shape)\n",
        "pred=np.full(isTest.shape,np.nan) # OOS prediction on each row. Each column represents a different split of data between train and test.\n",
        "prob=np.full(isTest.shape,np.nan)\n",
        "\n",
        "print('CPCV has',paths.shape[1], 'paths')"
      ],
      "metadata": {
        "colab": {
          "base_uri": "https://localhost:8080/"
        },
        "id": "YfLSDTqJ5gDS",
        "outputId": "fb69fc1a-4bbb-4465-bb61-9c67c89ddd52"
      },
      "execution_count": 41,
      "outputs": [
        {
          "output_type": "stream",
          "name": "stdout",
          "text": [
            "isTest: (90, 10) paths: (90, 4)\n",
            "CPCV has 4 paths\n"
          ]
        }
      ]
    },
    {
      "cell_type": "code",
      "source": [
        "paths.shape[1]\n",
        "isTest.shape\n",
        "isTest[:,2]"
      ],
      "metadata": {
        "colab": {
          "base_uri": "https://localhost:8080/"
        },
        "id": "eimqUwW152-Q",
        "outputId": "9ac416bd-9465-4ac3-d719-5e4c519f200a"
      },
      "execution_count": 42,
      "outputs": [
        {
          "output_type": "execute_result",
          "data": {
            "text/plain": [
              "4"
            ]
          },
          "metadata": {},
          "execution_count": 42
        },
        {
          "output_type": "execute_result",
          "data": {
            "text/plain": [
              "(90, 10)"
            ]
          },
          "metadata": {},
          "execution_count": 42
        },
        {
          "output_type": "execute_result",
          "data": {
            "text/plain": [
              "array([ True,  True,  True,  True,  True,  True,  True,  True,  True,\n",
              "        True,  True,  True,  True,  True,  True,  True,  True,  True,\n",
              "       False, False, False, False, False, False, False, False, False,\n",
              "       False, False, False, False, False, False, False, False, False,\n",
              "       False, False, False, False, False, False, False, False, False,\n",
              "       False, False, False, False, False, False, False, False, False,\n",
              "        True,  True,  True,  True,  True,  True,  True,  True,  True,\n",
              "        True,  True,  True,  True,  True,  True,  True,  True,  True,\n",
              "       False, False, False, False, False, False, False, False, False,\n",
              "       False, False, False, False, False, False, False, False, False])"
            ]
          },
          "metadata": {},
          "execution_count": 42
        }
      ]
    },
    {
      "cell_type": "code",
      "source": [
        "SPY_data_SR.head(10)\n",
        "SPY_data_SR.shape\n",
        "X_test3.head(10)"
      ],
      "metadata": {
        "colab": {
          "base_uri": "https://localhost:8080/",
          "height": 789
        },
        "id": "Dh-I_IW5Kp3r",
        "outputId": "72c37eef-628d-43f1-979e-db033fa8f0d6"
      },
      "execution_count": 43,
      "outputs": [
        {
          "output_type": "execute_result",
          "data": {
            "text/plain": [
              "                  Open        High         Low       Close   Adj Close      Volume\n",
              "Date                                                                              \n",
              "2012-06-01  129.410004  136.270004  127.139999  136.100006  114.001549  3644886200\n",
              "2012-07-01  136.479996  139.339996  132.600006  137.710007  115.947792  2864743300\n",
              "2012-08-01  138.699997  143.089996  135.580002  141.160004  118.852539  2413590900\n",
              "2012-09-01  141.039993  148.110001  140.130005  143.970001  121.218559  2391233500\n",
              "2012-10-01  144.520004  147.160004  140.389999  141.350006  119.647865  2719915500\n",
              "2012-11-01  141.649994  143.720001  134.699997  142.149994  120.325035  3032769100\n",
              "2012-12-01  142.800003  145.580002  139.539993  142.410004  120.545143  2889875900\n",
              "2013-01-01  145.110001  150.940002  144.729996  149.699997  127.614578  2587140200\n",
              "2013-02-01  150.649994  153.279999  148.729996  151.610001  129.242783  2581459300\n",
              "2013-03-01  151.089996  156.850006  150.410004  156.669998  133.556305  2330972300"
            ],
            "text/html": [
              "\n",
              "  <div id=\"df-44df4bf9-5cf1-4e00-9e75-9330cda92ced\">\n",
              "    <div class=\"colab-df-container\">\n",
              "      <div>\n",
              "<style scoped>\n",
              "    .dataframe tbody tr th:only-of-type {\n",
              "        vertical-align: middle;\n",
              "    }\n",
              "\n",
              "    .dataframe tbody tr th {\n",
              "        vertical-align: top;\n",
              "    }\n",
              "\n",
              "    .dataframe thead th {\n",
              "        text-align: right;\n",
              "    }\n",
              "</style>\n",
              "<table border=\"1\" class=\"dataframe\">\n",
              "  <thead>\n",
              "    <tr style=\"text-align: right;\">\n",
              "      <th></th>\n",
              "      <th>Open</th>\n",
              "      <th>High</th>\n",
              "      <th>Low</th>\n",
              "      <th>Close</th>\n",
              "      <th>Adj Close</th>\n",
              "      <th>Volume</th>\n",
              "    </tr>\n",
              "    <tr>\n",
              "      <th>Date</th>\n",
              "      <th></th>\n",
              "      <th></th>\n",
              "      <th></th>\n",
              "      <th></th>\n",
              "      <th></th>\n",
              "      <th></th>\n",
              "    </tr>\n",
              "  </thead>\n",
              "  <tbody>\n",
              "    <tr>\n",
              "      <th>2012-06-01</th>\n",
              "      <td>129.410004</td>\n",
              "      <td>136.270004</td>\n",
              "      <td>127.139999</td>\n",
              "      <td>136.100006</td>\n",
              "      <td>114.001549</td>\n",
              "      <td>3644886200</td>\n",
              "    </tr>\n",
              "    <tr>\n",
              "      <th>2012-07-01</th>\n",
              "      <td>136.479996</td>\n",
              "      <td>139.339996</td>\n",
              "      <td>132.600006</td>\n",
              "      <td>137.710007</td>\n",
              "      <td>115.947792</td>\n",
              "      <td>2864743300</td>\n",
              "    </tr>\n",
              "    <tr>\n",
              "      <th>2012-08-01</th>\n",
              "      <td>138.699997</td>\n",
              "      <td>143.089996</td>\n",
              "      <td>135.580002</td>\n",
              "      <td>141.160004</td>\n",
              "      <td>118.852539</td>\n",
              "      <td>2413590900</td>\n",
              "    </tr>\n",
              "    <tr>\n",
              "      <th>2012-09-01</th>\n",
              "      <td>141.039993</td>\n",
              "      <td>148.110001</td>\n",
              "      <td>140.130005</td>\n",
              "      <td>143.970001</td>\n",
              "      <td>121.218559</td>\n",
              "      <td>2391233500</td>\n",
              "    </tr>\n",
              "    <tr>\n",
              "      <th>2012-10-01</th>\n",
              "      <td>144.520004</td>\n",
              "      <td>147.160004</td>\n",
              "      <td>140.389999</td>\n",
              "      <td>141.350006</td>\n",
              "      <td>119.647865</td>\n",
              "      <td>2719915500</td>\n",
              "    </tr>\n",
              "    <tr>\n",
              "      <th>2012-11-01</th>\n",
              "      <td>141.649994</td>\n",
              "      <td>143.720001</td>\n",
              "      <td>134.699997</td>\n",
              "      <td>142.149994</td>\n",
              "      <td>120.325035</td>\n",
              "      <td>3032769100</td>\n",
              "    </tr>\n",
              "    <tr>\n",
              "      <th>2012-12-01</th>\n",
              "      <td>142.800003</td>\n",
              "      <td>145.580002</td>\n",
              "      <td>139.539993</td>\n",
              "      <td>142.410004</td>\n",
              "      <td>120.545143</td>\n",
              "      <td>2889875900</td>\n",
              "    </tr>\n",
              "    <tr>\n",
              "      <th>2013-01-01</th>\n",
              "      <td>145.110001</td>\n",
              "      <td>150.940002</td>\n",
              "      <td>144.729996</td>\n",
              "      <td>149.699997</td>\n",
              "      <td>127.614578</td>\n",
              "      <td>2587140200</td>\n",
              "    </tr>\n",
              "    <tr>\n",
              "      <th>2013-02-01</th>\n",
              "      <td>150.649994</td>\n",
              "      <td>153.279999</td>\n",
              "      <td>148.729996</td>\n",
              "      <td>151.610001</td>\n",
              "      <td>129.242783</td>\n",
              "      <td>2581459300</td>\n",
              "    </tr>\n",
              "    <tr>\n",
              "      <th>2013-03-01</th>\n",
              "      <td>151.089996</td>\n",
              "      <td>156.850006</td>\n",
              "      <td>150.410004</td>\n",
              "      <td>156.669998</td>\n",
              "      <td>133.556305</td>\n",
              "      <td>2330972300</td>\n",
              "    </tr>\n",
              "  </tbody>\n",
              "</table>\n",
              "</div>\n",
              "      <button class=\"colab-df-convert\" onclick=\"convertToInteractive('df-44df4bf9-5cf1-4e00-9e75-9330cda92ced')\"\n",
              "              title=\"Convert this dataframe to an interactive table.\"\n",
              "              style=\"display:none;\">\n",
              "        \n",
              "  <svg xmlns=\"http://www.w3.org/2000/svg\" height=\"24px\"viewBox=\"0 0 24 24\"\n",
              "       width=\"24px\">\n",
              "    <path d=\"M0 0h24v24H0V0z\" fill=\"none\"/>\n",
              "    <path d=\"M18.56 5.44l.94 2.06.94-2.06 2.06-.94-2.06-.94-.94-2.06-.94 2.06-2.06.94zm-11 1L8.5 8.5l.94-2.06 2.06-.94-2.06-.94L8.5 2.5l-.94 2.06-2.06.94zm10 10l.94 2.06.94-2.06 2.06-.94-2.06-.94-.94-2.06-.94 2.06-2.06.94z\"/><path d=\"M17.41 7.96l-1.37-1.37c-.4-.4-.92-.59-1.43-.59-.52 0-1.04.2-1.43.59L10.3 9.45l-7.72 7.72c-.78.78-.78 2.05 0 2.83L4 21.41c.39.39.9.59 1.41.59.51 0 1.02-.2 1.41-.59l7.78-7.78 2.81-2.81c.8-.78.8-2.07 0-2.86zM5.41 20L4 18.59l7.72-7.72 1.47 1.35L5.41 20z\"/>\n",
              "  </svg>\n",
              "      </button>\n",
              "      \n",
              "  <style>\n",
              "    .colab-df-container {\n",
              "      display:flex;\n",
              "      flex-wrap:wrap;\n",
              "      gap: 12px;\n",
              "    }\n",
              "\n",
              "    .colab-df-convert {\n",
              "      background-color: #E8F0FE;\n",
              "      border: none;\n",
              "      border-radius: 50%;\n",
              "      cursor: pointer;\n",
              "      display: none;\n",
              "      fill: #1967D2;\n",
              "      height: 32px;\n",
              "      padding: 0 0 0 0;\n",
              "      width: 32px;\n",
              "    }\n",
              "\n",
              "    .colab-df-convert:hover {\n",
              "      background-color: #E2EBFA;\n",
              "      box-shadow: 0px 1px 2px rgba(60, 64, 67, 0.3), 0px 1px 3px 1px rgba(60, 64, 67, 0.15);\n",
              "      fill: #174EA6;\n",
              "    }\n",
              "\n",
              "    [theme=dark] .colab-df-convert {\n",
              "      background-color: #3B4455;\n",
              "      fill: #D2E3FC;\n",
              "    }\n",
              "\n",
              "    [theme=dark] .colab-df-convert:hover {\n",
              "      background-color: #434B5C;\n",
              "      box-shadow: 0px 1px 3px 1px rgba(0, 0, 0, 0.15);\n",
              "      filter: drop-shadow(0px 1px 2px rgba(0, 0, 0, 0.3));\n",
              "      fill: #FFFFFF;\n",
              "    }\n",
              "  </style>\n",
              "\n",
              "      <script>\n",
              "        const buttonEl =\n",
              "          document.querySelector('#df-44df4bf9-5cf1-4e00-9e75-9330cda92ced button.colab-df-convert');\n",
              "        buttonEl.style.display =\n",
              "          google.colab.kernel.accessAllowed ? 'block' : 'none';\n",
              "\n",
              "        async function convertToInteractive(key) {\n",
              "          const element = document.querySelector('#df-44df4bf9-5cf1-4e00-9e75-9330cda92ced');\n",
              "          const dataTable =\n",
              "            await google.colab.kernel.invokeFunction('convertToInteractive',\n",
              "                                                     [key], {});\n",
              "          if (!dataTable) return;\n",
              "\n",
              "          const docLinkHtml = 'Like what you see? Visit the ' +\n",
              "            '<a target=\"_blank\" href=https://colab.research.google.com/notebooks/data_table.ipynb>data table notebook</a>'\n",
              "            + ' to learn more about interactive tables.';\n",
              "          element.innerHTML = '';\n",
              "          dataTable['output_type'] = 'display_data';\n",
              "          await google.colab.output.renderOutput(dataTable, element);\n",
              "          const docLink = document.createElement('div');\n",
              "          docLink.innerHTML = docLinkHtml;\n",
              "          element.appendChild(docLink);\n",
              "        }\n",
              "      </script>\n",
              "    </div>\n",
              "  </div>\n",
              "  "
            ]
          },
          "metadata": {},
          "execution_count": 43
        },
        {
          "output_type": "execute_result",
          "data": {
            "text/plain": [
              "(89, 6)"
            ]
          },
          "metadata": {},
          "execution_count": 43
        },
        {
          "output_type": "execute_result",
          "data": {
            "text/plain": [
              "                ntis      infl     ltr   corpr      svar       d/p       d/y       e/p       d/e     tms     dfy     dfr    b/m_FD    tbl_FD    lty_FD\n",
              "yyyymm                                                                                                                                                \n",
              "2012-06-01 -0.019820 -0.001466 -0.0136  0.0064  0.003437 -3.873259 -3.885778 -2.740400 -1.132859  0.0224  0.0138  0.0200 -0.392624 -3.580049 -1.437708\n",
              "2012-07-01 -0.021091 -0.001630  0.0247  0.0612  0.001553 -3.870940 -3.890511 -2.758317 -1.112623  0.0206  0.0147  0.0365 -0.396861 -3.521716 -1.503595\n",
              "2012-08-01 -0.020536  0.005565 -0.0068 -0.0093  0.000727 -3.875890 -3.899837 -2.783315 -1.092575  0.0213  0.0143 -0.0025 -0.398770 -3.585436 -1.440500\n",
              "2012-09-01 -0.018153  0.004462 -0.0146 -0.0126  0.001045 -3.885427 -3.865439 -2.812719 -1.072708  0.0224  0.0135  0.0020 -0.420618 -3.526902 -1.384686\n",
              "2012-10-01 -0.016443 -0.000389 -0.0014  0.0206  0.000926 -3.846946 -3.849788 -2.792693 -1.054253  0.0228  0.0111  0.0220 -0.385622 -3.676852 -1.381841\n",
              "2012-11-01 -0.012811 -0.004738  0.0144 -0.0092  0.001903 -3.831631 -3.838674 -2.795497 -1.036134  0.0219  0.0101 -0.0236 -0.384276 -3.800781 -1.429669\n",
              "2012-12-01 -0.012258 -0.002693 -0.0202 -0.0062  0.001036 -3.820840 -3.870038 -2.802502 -1.018338  0.0239  0.0098  0.0140 -0.392551 -4.043244 -1.342220\n",
              "2013-01-01 -0.008679  0.002957 -0.0332 -0.0313  0.000907 -3.860853 -3.871853 -2.847125 -1.013728  0.0284  0.0093  0.0019 -0.447843 -3.985734 -1.193066\n",
              "2013-02-01 -0.009526  0.008190  0.0114  0.0093  0.001243 -3.862751 -3.898106 -2.853571 -1.009180  0.0275  0.0095 -0.0021 -0.445050 -3.606380 -1.269018\n",
              "2013-03-01 -0.009550  0.002615 -0.0062 -0.0018  0.000484 -3.889087 -3.907011 -2.884393 -1.004694  0.0278  0.0092  0.0044 -0.373298 -3.769794 -1.274579"
            ],
            "text/html": [
              "\n",
              "  <div id=\"df-f28003f3-1103-431c-80c6-23a9027829b1\">\n",
              "    <div class=\"colab-df-container\">\n",
              "      <div>\n",
              "<style scoped>\n",
              "    .dataframe tbody tr th:only-of-type {\n",
              "        vertical-align: middle;\n",
              "    }\n",
              "\n",
              "    .dataframe tbody tr th {\n",
              "        vertical-align: top;\n",
              "    }\n",
              "\n",
              "    .dataframe thead th {\n",
              "        text-align: right;\n",
              "    }\n",
              "</style>\n",
              "<table border=\"1\" class=\"dataframe\">\n",
              "  <thead>\n",
              "    <tr style=\"text-align: right;\">\n",
              "      <th></th>\n",
              "      <th>ntis</th>\n",
              "      <th>infl</th>\n",
              "      <th>ltr</th>\n",
              "      <th>corpr</th>\n",
              "      <th>svar</th>\n",
              "      <th>d/p</th>\n",
              "      <th>d/y</th>\n",
              "      <th>e/p</th>\n",
              "      <th>d/e</th>\n",
              "      <th>tms</th>\n",
              "      <th>dfy</th>\n",
              "      <th>dfr</th>\n",
              "      <th>b/m_FD</th>\n",
              "      <th>tbl_FD</th>\n",
              "      <th>lty_FD</th>\n",
              "    </tr>\n",
              "    <tr>\n",
              "      <th>yyyymm</th>\n",
              "      <th></th>\n",
              "      <th></th>\n",
              "      <th></th>\n",
              "      <th></th>\n",
              "      <th></th>\n",
              "      <th></th>\n",
              "      <th></th>\n",
              "      <th></th>\n",
              "      <th></th>\n",
              "      <th></th>\n",
              "      <th></th>\n",
              "      <th></th>\n",
              "      <th></th>\n",
              "      <th></th>\n",
              "      <th></th>\n",
              "    </tr>\n",
              "  </thead>\n",
              "  <tbody>\n",
              "    <tr>\n",
              "      <th>2012-06-01</th>\n",
              "      <td>-0.019820</td>\n",
              "      <td>-0.001466</td>\n",
              "      <td>-0.0136</td>\n",
              "      <td>0.0064</td>\n",
              "      <td>0.003437</td>\n",
              "      <td>-3.873259</td>\n",
              "      <td>-3.885778</td>\n",
              "      <td>-2.740400</td>\n",
              "      <td>-1.132859</td>\n",
              "      <td>0.0224</td>\n",
              "      <td>0.0138</td>\n",
              "      <td>0.0200</td>\n",
              "      <td>-0.392624</td>\n",
              "      <td>-3.580049</td>\n",
              "      <td>-1.437708</td>\n",
              "    </tr>\n",
              "    <tr>\n",
              "      <th>2012-07-01</th>\n",
              "      <td>-0.021091</td>\n",
              "      <td>-0.001630</td>\n",
              "      <td>0.0247</td>\n",
              "      <td>0.0612</td>\n",
              "      <td>0.001553</td>\n",
              "      <td>-3.870940</td>\n",
              "      <td>-3.890511</td>\n",
              "      <td>-2.758317</td>\n",
              "      <td>-1.112623</td>\n",
              "      <td>0.0206</td>\n",
              "      <td>0.0147</td>\n",
              "      <td>0.0365</td>\n",
              "      <td>-0.396861</td>\n",
              "      <td>-3.521716</td>\n",
              "      <td>-1.503595</td>\n",
              "    </tr>\n",
              "    <tr>\n",
              "      <th>2012-08-01</th>\n",
              "      <td>-0.020536</td>\n",
              "      <td>0.005565</td>\n",
              "      <td>-0.0068</td>\n",
              "      <td>-0.0093</td>\n",
              "      <td>0.000727</td>\n",
              "      <td>-3.875890</td>\n",
              "      <td>-3.899837</td>\n",
              "      <td>-2.783315</td>\n",
              "      <td>-1.092575</td>\n",
              "      <td>0.0213</td>\n",
              "      <td>0.0143</td>\n",
              "      <td>-0.0025</td>\n",
              "      <td>-0.398770</td>\n",
              "      <td>-3.585436</td>\n",
              "      <td>-1.440500</td>\n",
              "    </tr>\n",
              "    <tr>\n",
              "      <th>2012-09-01</th>\n",
              "      <td>-0.018153</td>\n",
              "      <td>0.004462</td>\n",
              "      <td>-0.0146</td>\n",
              "      <td>-0.0126</td>\n",
              "      <td>0.001045</td>\n",
              "      <td>-3.885427</td>\n",
              "      <td>-3.865439</td>\n",
              "      <td>-2.812719</td>\n",
              "      <td>-1.072708</td>\n",
              "      <td>0.0224</td>\n",
              "      <td>0.0135</td>\n",
              "      <td>0.0020</td>\n",
              "      <td>-0.420618</td>\n",
              "      <td>-3.526902</td>\n",
              "      <td>-1.384686</td>\n",
              "    </tr>\n",
              "    <tr>\n",
              "      <th>2012-10-01</th>\n",
              "      <td>-0.016443</td>\n",
              "      <td>-0.000389</td>\n",
              "      <td>-0.0014</td>\n",
              "      <td>0.0206</td>\n",
              "      <td>0.000926</td>\n",
              "      <td>-3.846946</td>\n",
              "      <td>-3.849788</td>\n",
              "      <td>-2.792693</td>\n",
              "      <td>-1.054253</td>\n",
              "      <td>0.0228</td>\n",
              "      <td>0.0111</td>\n",
              "      <td>0.0220</td>\n",
              "      <td>-0.385622</td>\n",
              "      <td>-3.676852</td>\n",
              "      <td>-1.381841</td>\n",
              "    </tr>\n",
              "    <tr>\n",
              "      <th>2012-11-01</th>\n",
              "      <td>-0.012811</td>\n",
              "      <td>-0.004738</td>\n",
              "      <td>0.0144</td>\n",
              "      <td>-0.0092</td>\n",
              "      <td>0.001903</td>\n",
              "      <td>-3.831631</td>\n",
              "      <td>-3.838674</td>\n",
              "      <td>-2.795497</td>\n",
              "      <td>-1.036134</td>\n",
              "      <td>0.0219</td>\n",
              "      <td>0.0101</td>\n",
              "      <td>-0.0236</td>\n",
              "      <td>-0.384276</td>\n",
              "      <td>-3.800781</td>\n",
              "      <td>-1.429669</td>\n",
              "    </tr>\n",
              "    <tr>\n",
              "      <th>2012-12-01</th>\n",
              "      <td>-0.012258</td>\n",
              "      <td>-0.002693</td>\n",
              "      <td>-0.0202</td>\n",
              "      <td>-0.0062</td>\n",
              "      <td>0.001036</td>\n",
              "      <td>-3.820840</td>\n",
              "      <td>-3.870038</td>\n",
              "      <td>-2.802502</td>\n",
              "      <td>-1.018338</td>\n",
              "      <td>0.0239</td>\n",
              "      <td>0.0098</td>\n",
              "      <td>0.0140</td>\n",
              "      <td>-0.392551</td>\n",
              "      <td>-4.043244</td>\n",
              "      <td>-1.342220</td>\n",
              "    </tr>\n",
              "    <tr>\n",
              "      <th>2013-01-01</th>\n",
              "      <td>-0.008679</td>\n",
              "      <td>0.002957</td>\n",
              "      <td>-0.0332</td>\n",
              "      <td>-0.0313</td>\n",
              "      <td>0.000907</td>\n",
              "      <td>-3.860853</td>\n",
              "      <td>-3.871853</td>\n",
              "      <td>-2.847125</td>\n",
              "      <td>-1.013728</td>\n",
              "      <td>0.0284</td>\n",
              "      <td>0.0093</td>\n",
              "      <td>0.0019</td>\n",
              "      <td>-0.447843</td>\n",
              "      <td>-3.985734</td>\n",
              "      <td>-1.193066</td>\n",
              "    </tr>\n",
              "    <tr>\n",
              "      <th>2013-02-01</th>\n",
              "      <td>-0.009526</td>\n",
              "      <td>0.008190</td>\n",
              "      <td>0.0114</td>\n",
              "      <td>0.0093</td>\n",
              "      <td>0.001243</td>\n",
              "      <td>-3.862751</td>\n",
              "      <td>-3.898106</td>\n",
              "      <td>-2.853571</td>\n",
              "      <td>-1.009180</td>\n",
              "      <td>0.0275</td>\n",
              "      <td>0.0095</td>\n",
              "      <td>-0.0021</td>\n",
              "      <td>-0.445050</td>\n",
              "      <td>-3.606380</td>\n",
              "      <td>-1.269018</td>\n",
              "    </tr>\n",
              "    <tr>\n",
              "      <th>2013-03-01</th>\n",
              "      <td>-0.009550</td>\n",
              "      <td>0.002615</td>\n",
              "      <td>-0.0062</td>\n",
              "      <td>-0.0018</td>\n",
              "      <td>0.000484</td>\n",
              "      <td>-3.889087</td>\n",
              "      <td>-3.907011</td>\n",
              "      <td>-2.884393</td>\n",
              "      <td>-1.004694</td>\n",
              "      <td>0.0278</td>\n",
              "      <td>0.0092</td>\n",
              "      <td>0.0044</td>\n",
              "      <td>-0.373298</td>\n",
              "      <td>-3.769794</td>\n",
              "      <td>-1.274579</td>\n",
              "    </tr>\n",
              "  </tbody>\n",
              "</table>\n",
              "</div>\n",
              "      <button class=\"colab-df-convert\" onclick=\"convertToInteractive('df-f28003f3-1103-431c-80c6-23a9027829b1')\"\n",
              "              title=\"Convert this dataframe to an interactive table.\"\n",
              "              style=\"display:none;\">\n",
              "        \n",
              "  <svg xmlns=\"http://www.w3.org/2000/svg\" height=\"24px\"viewBox=\"0 0 24 24\"\n",
              "       width=\"24px\">\n",
              "    <path d=\"M0 0h24v24H0V0z\" fill=\"none\"/>\n",
              "    <path d=\"M18.56 5.44l.94 2.06.94-2.06 2.06-.94-2.06-.94-.94-2.06-.94 2.06-2.06.94zm-11 1L8.5 8.5l.94-2.06 2.06-.94-2.06-.94L8.5 2.5l-.94 2.06-2.06.94zm10 10l.94 2.06.94-2.06 2.06-.94-2.06-.94-.94-2.06-.94 2.06-2.06.94z\"/><path d=\"M17.41 7.96l-1.37-1.37c-.4-.4-.92-.59-1.43-.59-.52 0-1.04.2-1.43.59L10.3 9.45l-7.72 7.72c-.78.78-.78 2.05 0 2.83L4 21.41c.39.39.9.59 1.41.59.51 0 1.02-.2 1.41-.59l7.78-7.78 2.81-2.81c.8-.78.8-2.07 0-2.86zM5.41 20L4 18.59l7.72-7.72 1.47 1.35L5.41 20z\"/>\n",
              "  </svg>\n",
              "      </button>\n",
              "      \n",
              "  <style>\n",
              "    .colab-df-container {\n",
              "      display:flex;\n",
              "      flex-wrap:wrap;\n",
              "      gap: 12px;\n",
              "    }\n",
              "\n",
              "    .colab-df-convert {\n",
              "      background-color: #E8F0FE;\n",
              "      border: none;\n",
              "      border-radius: 50%;\n",
              "      cursor: pointer;\n",
              "      display: none;\n",
              "      fill: #1967D2;\n",
              "      height: 32px;\n",
              "      padding: 0 0 0 0;\n",
              "      width: 32px;\n",
              "    }\n",
              "\n",
              "    .colab-df-convert:hover {\n",
              "      background-color: #E2EBFA;\n",
              "      box-shadow: 0px 1px 2px rgba(60, 64, 67, 0.3), 0px 1px 3px 1px rgba(60, 64, 67, 0.15);\n",
              "      fill: #174EA6;\n",
              "    }\n",
              "\n",
              "    [theme=dark] .colab-df-convert {\n",
              "      background-color: #3B4455;\n",
              "      fill: #D2E3FC;\n",
              "    }\n",
              "\n",
              "    [theme=dark] .colab-df-convert:hover {\n",
              "      background-color: #434B5C;\n",
              "      box-shadow: 0px 1px 3px 1px rgba(0, 0, 0, 0.15);\n",
              "      filter: drop-shadow(0px 1px 2px rgba(0, 0, 0, 0.3));\n",
              "      fill: #FFFFFF;\n",
              "    }\n",
              "  </style>\n",
              "\n",
              "      <script>\n",
              "        const buttonEl =\n",
              "          document.querySelector('#df-f28003f3-1103-431c-80c6-23a9027829b1 button.colab-df-convert');\n",
              "        buttonEl.style.display =\n",
              "          google.colab.kernel.accessAllowed ? 'block' : 'none';\n",
              "\n",
              "        async function convertToInteractive(key) {\n",
              "          const element = document.querySelector('#df-f28003f3-1103-431c-80c6-23a9027829b1');\n",
              "          const dataTable =\n",
              "            await google.colab.kernel.invokeFunction('convertToInteractive',\n",
              "                                                     [key], {});\n",
              "          if (!dataTable) return;\n",
              "\n",
              "          const docLinkHtml = 'Like what you see? Visit the ' +\n",
              "            '<a target=\"_blank\" href=https://colab.research.google.com/notebooks/data_table.ipynb>data table notebook</a>'\n",
              "            + ' to learn more about interactive tables.';\n",
              "          element.innerHTML = '';\n",
              "          dataTable['output_type'] = 'display_data';\n",
              "          await google.colab.output.renderOutput(dataTable, element);\n",
              "          const docLink = document.createElement('div');\n",
              "          docLink.innerHTML = docLinkHtml;\n",
              "          element.appendChild(docLink);\n",
              "        }\n",
              "      </script>\n",
              "    </div>\n",
              "  </div>\n",
              "  "
            ]
          },
          "metadata": {},
          "execution_count": 43
        }
      ]
    },
    {
      "cell_type": "code",
      "source": [
        "Sharpe_Ratio=np.full((paths.shape[1]),np.nan)\n",
        "\n",
        "for i in range(paths.shape[1]):\n",
        "  X_train11 = X_test3[~isTest[:,i]]\n",
        "  X_test11 = X_test3[isTest[:,i]]\n",
        "  y_train11 = y_test[~isTest[:,i]]\n",
        "  y_test11 = y_test[isTest[:,i]]\n",
        "  X_train11.shape\n",
        "  y_train11.shape\n",
        "\n",
        "  #X_train11.head(2)\n",
        "  #y_train11.head(2)\n",
        "\n",
        "  # clf = RandomForestClassifier(n_estimators = 100 ,\n",
        "  #                              n_jobs = 4, \n",
        "  #                              max_depth=5,\n",
        "  #                              criterion = 'entropy',\n",
        "  #                              random_state = 1)\n",
        "  \n",
        "  base_est = DecisionTreeClassifier(criterion='entropy', \n",
        "                                      max_features='auto', \n",
        "                                      class_weight='balanced', \n",
        "                                      min_weight_fraction_leaf=0.05)\n",
        "  clf = BaggingClassifier(base_estimator=base_est, \n",
        "                          n_estimators=50, \n",
        "                          max_features=.99)\n",
        "  \n",
        "\n",
        "\n",
        "  # clf = RandomForestClassifier(n_estimators=100, max_depth=5,\n",
        "  #                              random_state = 1)\n",
        "\n",
        "  # clf_random = RandomizedSearchCV(estimator = ctree, \n",
        "  #                                 param_distributions = param_distributions,\n",
        "  #                                 scoring = 'f1', \n",
        "  #                                 cv = cv_a7, n_jobs = jobs, \n",
        "  #                                 pre_dispatch = jobs,\n",
        "  #                                 n_iter = iter,\n",
        "  #                                 verbose=10, random_state = 1)\n",
        "  clf.fit(X_train11, y_train11)\n",
        "  pred = clf.predict(X_test11)\n",
        "\n",
        "  X_test11['side'] = pred\n",
        "  #joined_df1 = SPY_data_SR.join(X_test11)\n",
        "  #joined_df1.shape\n",
        "  sigs = X_test11[X_test11.side.shift(1)!=X_test11.side]\n",
        "  sigs=sigs.iloc[1:,:]\n",
        "  sigs['close'] = np.nan\n",
        "  for j in sigs.index:\n",
        "    sigs.loc[j, 'close'] = SPY_data_SR.loc[j,'Adj Close']\n",
        "\n",
        "  #sigs.head()\n",
        "  sigs['ret']=(sigs.close.shift(-1)-sigs.close)/sigs.close*sigs.side\n",
        "  monthly_rets = get_monthly_returns(sigs['ret'])\n",
        "  Sharpe_Ratio[i]=np.mean(monthly_rets)/np.std(monthly_rets)*np.sqrt(12)\n",
        "  #pf.show_perf_stats(monthly_rets)\n",
        "\n",
        "\n",
        "Sharpe_Ratio "
      ],
      "metadata": {
        "colab": {
          "base_uri": "https://localhost:8080/",
          "height": 506
        },
        "outputId": "462e34ab-f532-4e41-c1c7-b03cce62a346",
        "id": "-979THi7jAnG"
      },
      "execution_count": 49,
      "outputs": [
        {
          "output_type": "execute_result",
          "data": {
            "text/plain": [
              "(54, 15)"
            ]
          },
          "metadata": {},
          "execution_count": 49
        },
        {
          "output_type": "execute_result",
          "data": {
            "text/plain": [
              "(54, 1)"
            ]
          },
          "metadata": {},
          "execution_count": 49
        },
        {
          "output_type": "execute_result",
          "data": {
            "text/plain": [
              "BaggingClassifier(base_estimator=DecisionTreeClassifier(class_weight='balanced',\n",
              "                                                        criterion='entropy',\n",
              "                                                        max_features='auto',\n",
              "                                                        min_weight_fraction_leaf=0.05),\n",
              "                  max_features=0.99, n_estimators=50)"
            ],
            "text/html": [
              "<style>#sk-container-id-9 {color: black;background-color: white;}#sk-container-id-9 pre{padding: 0;}#sk-container-id-9 div.sk-toggleable {background-color: white;}#sk-container-id-9 label.sk-toggleable__label {cursor: pointer;display: block;width: 100%;margin-bottom: 0;padding: 0.3em;box-sizing: border-box;text-align: center;}#sk-container-id-9 label.sk-toggleable__label-arrow:before {content: \"▸\";float: left;margin-right: 0.25em;color: #696969;}#sk-container-id-9 label.sk-toggleable__label-arrow:hover:before {color: black;}#sk-container-id-9 div.sk-estimator:hover label.sk-toggleable__label-arrow:before {color: black;}#sk-container-id-9 div.sk-toggleable__content {max-height: 0;max-width: 0;overflow: hidden;text-align: left;background-color: #f0f8ff;}#sk-container-id-9 div.sk-toggleable__content pre {margin: 0.2em;color: black;border-radius: 0.25em;background-color: #f0f8ff;}#sk-container-id-9 input.sk-toggleable__control:checked~div.sk-toggleable__content {max-height: 200px;max-width: 100%;overflow: auto;}#sk-container-id-9 input.sk-toggleable__control:checked~label.sk-toggleable__label-arrow:before {content: \"▾\";}#sk-container-id-9 div.sk-estimator input.sk-toggleable__control:checked~label.sk-toggleable__label {background-color: #d4ebff;}#sk-container-id-9 div.sk-label input.sk-toggleable__control:checked~label.sk-toggleable__label {background-color: #d4ebff;}#sk-container-id-9 input.sk-hidden--visually {border: 0;clip: rect(1px 1px 1px 1px);clip: rect(1px, 1px, 1px, 1px);height: 1px;margin: -1px;overflow: hidden;padding: 0;position: absolute;width: 1px;}#sk-container-id-9 div.sk-estimator {font-family: monospace;background-color: #f0f8ff;border: 1px dotted black;border-radius: 0.25em;box-sizing: border-box;margin-bottom: 0.5em;}#sk-container-id-9 div.sk-estimator:hover {background-color: #d4ebff;}#sk-container-id-9 div.sk-parallel-item::after {content: \"\";width: 100%;border-bottom: 1px solid gray;flex-grow: 1;}#sk-container-id-9 div.sk-label:hover label.sk-toggleable__label {background-color: #d4ebff;}#sk-container-id-9 div.sk-serial::before {content: \"\";position: absolute;border-left: 1px solid gray;box-sizing: border-box;top: 0;bottom: 0;left: 50%;z-index: 0;}#sk-container-id-9 div.sk-serial {display: flex;flex-direction: column;align-items: center;background-color: white;padding-right: 0.2em;padding-left: 0.2em;position: relative;}#sk-container-id-9 div.sk-item {position: relative;z-index: 1;}#sk-container-id-9 div.sk-parallel {display: flex;align-items: stretch;justify-content: center;background-color: white;position: relative;}#sk-container-id-9 div.sk-item::before, #sk-container-id-9 div.sk-parallel-item::before {content: \"\";position: absolute;border-left: 1px solid gray;box-sizing: border-box;top: 0;bottom: 0;left: 50%;z-index: -1;}#sk-container-id-9 div.sk-parallel-item {display: flex;flex-direction: column;z-index: 1;position: relative;background-color: white;}#sk-container-id-9 div.sk-parallel-item:first-child::after {align-self: flex-end;width: 50%;}#sk-container-id-9 div.sk-parallel-item:last-child::after {align-self: flex-start;width: 50%;}#sk-container-id-9 div.sk-parallel-item:only-child::after {width: 0;}#sk-container-id-9 div.sk-dashed-wrapped {border: 1px dashed gray;margin: 0 0.4em 0.5em 0.4em;box-sizing: border-box;padding-bottom: 0.4em;background-color: white;}#sk-container-id-9 div.sk-label label {font-family: monospace;font-weight: bold;display: inline-block;line-height: 1.2em;}#sk-container-id-9 div.sk-label-container {text-align: center;}#sk-container-id-9 div.sk-container {/* jupyter's `normalize.less` sets `[hidden] { display: none; }` but bootstrap.min.css set `[hidden] { display: none !important; }` so we also need the `!important` here to be able to override the default hidden behavior on the sphinx rendered scikit-learn.org. See: https://github.com/scikit-learn/scikit-learn/issues/21755 */display: inline-block !important;position: relative;}#sk-container-id-9 div.sk-text-repr-fallback {display: none;}</style><div id=\"sk-container-id-9\" class=\"sk-top-container\"><div class=\"sk-text-repr-fallback\"><pre>BaggingClassifier(base_estimator=DecisionTreeClassifier(class_weight=&#x27;balanced&#x27;,\n",
              "                                                        criterion=&#x27;entropy&#x27;,\n",
              "                                                        max_features=&#x27;auto&#x27;,\n",
              "                                                        min_weight_fraction_leaf=0.05),\n",
              "                  max_features=0.99, n_estimators=50)</pre><b>In a Jupyter environment, please rerun this cell to show the HTML representation or trust the notebook. <br />On GitHub, the HTML representation is unable to render, please try loading this page with nbviewer.org.</b></div><div class=\"sk-container\" hidden><div class=\"sk-item sk-dashed-wrapped\"><div class=\"sk-label-container\"><div class=\"sk-label sk-toggleable\"><input class=\"sk-toggleable__control sk-hidden--visually\" id=\"sk-estimator-id-17\" type=\"checkbox\" ><label for=\"sk-estimator-id-17\" class=\"sk-toggleable__label sk-toggleable__label-arrow\">BaggingClassifier</label><div class=\"sk-toggleable__content\"><pre>BaggingClassifier(base_estimator=DecisionTreeClassifier(class_weight=&#x27;balanced&#x27;,\n",
              "                                                        criterion=&#x27;entropy&#x27;,\n",
              "                                                        max_features=&#x27;auto&#x27;,\n",
              "                                                        min_weight_fraction_leaf=0.05),\n",
              "                  max_features=0.99, n_estimators=50)</pre></div></div></div><div class=\"sk-parallel\"><div class=\"sk-parallel-item\"><div class=\"sk-item\"><div class=\"sk-label-container\"><div class=\"sk-label sk-toggleable\"><input class=\"sk-toggleable__control sk-hidden--visually\" id=\"sk-estimator-id-18\" type=\"checkbox\" ><label for=\"sk-estimator-id-18\" class=\"sk-toggleable__label sk-toggleable__label-arrow\">base_estimator: DecisionTreeClassifier</label><div class=\"sk-toggleable__content\"><pre>DecisionTreeClassifier(class_weight=&#x27;balanced&#x27;, criterion=&#x27;entropy&#x27;,\n",
              "                       max_features=&#x27;auto&#x27;, min_weight_fraction_leaf=0.05)</pre></div></div></div><div class=\"sk-serial\"><div class=\"sk-item\"><div class=\"sk-estimator sk-toggleable\"><input class=\"sk-toggleable__control sk-hidden--visually\" id=\"sk-estimator-id-19\" type=\"checkbox\" ><label for=\"sk-estimator-id-19\" class=\"sk-toggleable__label sk-toggleable__label-arrow\">DecisionTreeClassifier</label><div class=\"sk-toggleable__content\"><pre>DecisionTreeClassifier(class_weight=&#x27;balanced&#x27;, criterion=&#x27;entropy&#x27;,\n",
              "                       max_features=&#x27;auto&#x27;, min_weight_fraction_leaf=0.05)</pre></div></div></div></div></div></div></div></div></div></div>"
            ]
          },
          "metadata": {},
          "execution_count": 49
        },
        {
          "output_type": "execute_result",
          "data": {
            "text/plain": [
              "(54, 15)"
            ]
          },
          "metadata": {},
          "execution_count": 49
        },
        {
          "output_type": "execute_result",
          "data": {
            "text/plain": [
              "(54, 1)"
            ]
          },
          "metadata": {},
          "execution_count": 49
        },
        {
          "output_type": "execute_result",
          "data": {
            "text/plain": [
              "BaggingClassifier(base_estimator=DecisionTreeClassifier(class_weight='balanced',\n",
              "                                                        criterion='entropy',\n",
              "                                                        max_features='auto',\n",
              "                                                        min_weight_fraction_leaf=0.05),\n",
              "                  max_features=0.99, n_estimators=50)"
            ],
            "text/html": [
              "<style>#sk-container-id-10 {color: black;background-color: white;}#sk-container-id-10 pre{padding: 0;}#sk-container-id-10 div.sk-toggleable {background-color: white;}#sk-container-id-10 label.sk-toggleable__label {cursor: pointer;display: block;width: 100%;margin-bottom: 0;padding: 0.3em;box-sizing: border-box;text-align: center;}#sk-container-id-10 label.sk-toggleable__label-arrow:before {content: \"▸\";float: left;margin-right: 0.25em;color: #696969;}#sk-container-id-10 label.sk-toggleable__label-arrow:hover:before {color: black;}#sk-container-id-10 div.sk-estimator:hover label.sk-toggleable__label-arrow:before {color: black;}#sk-container-id-10 div.sk-toggleable__content {max-height: 0;max-width: 0;overflow: hidden;text-align: left;background-color: #f0f8ff;}#sk-container-id-10 div.sk-toggleable__content pre {margin: 0.2em;color: black;border-radius: 0.25em;background-color: #f0f8ff;}#sk-container-id-10 input.sk-toggleable__control:checked~div.sk-toggleable__content {max-height: 200px;max-width: 100%;overflow: auto;}#sk-container-id-10 input.sk-toggleable__control:checked~label.sk-toggleable__label-arrow:before {content: \"▾\";}#sk-container-id-10 div.sk-estimator input.sk-toggleable__control:checked~label.sk-toggleable__label {background-color: #d4ebff;}#sk-container-id-10 div.sk-label input.sk-toggleable__control:checked~label.sk-toggleable__label {background-color: #d4ebff;}#sk-container-id-10 input.sk-hidden--visually {border: 0;clip: rect(1px 1px 1px 1px);clip: rect(1px, 1px, 1px, 1px);height: 1px;margin: -1px;overflow: hidden;padding: 0;position: absolute;width: 1px;}#sk-container-id-10 div.sk-estimator {font-family: monospace;background-color: #f0f8ff;border: 1px dotted black;border-radius: 0.25em;box-sizing: border-box;margin-bottom: 0.5em;}#sk-container-id-10 div.sk-estimator:hover {background-color: #d4ebff;}#sk-container-id-10 div.sk-parallel-item::after {content: \"\";width: 100%;border-bottom: 1px solid gray;flex-grow: 1;}#sk-container-id-10 div.sk-label:hover label.sk-toggleable__label {background-color: #d4ebff;}#sk-container-id-10 div.sk-serial::before {content: \"\";position: absolute;border-left: 1px solid gray;box-sizing: border-box;top: 0;bottom: 0;left: 50%;z-index: 0;}#sk-container-id-10 div.sk-serial {display: flex;flex-direction: column;align-items: center;background-color: white;padding-right: 0.2em;padding-left: 0.2em;position: relative;}#sk-container-id-10 div.sk-item {position: relative;z-index: 1;}#sk-container-id-10 div.sk-parallel {display: flex;align-items: stretch;justify-content: center;background-color: white;position: relative;}#sk-container-id-10 div.sk-item::before, #sk-container-id-10 div.sk-parallel-item::before {content: \"\";position: absolute;border-left: 1px solid gray;box-sizing: border-box;top: 0;bottom: 0;left: 50%;z-index: -1;}#sk-container-id-10 div.sk-parallel-item {display: flex;flex-direction: column;z-index: 1;position: relative;background-color: white;}#sk-container-id-10 div.sk-parallel-item:first-child::after {align-self: flex-end;width: 50%;}#sk-container-id-10 div.sk-parallel-item:last-child::after {align-self: flex-start;width: 50%;}#sk-container-id-10 div.sk-parallel-item:only-child::after {width: 0;}#sk-container-id-10 div.sk-dashed-wrapped {border: 1px dashed gray;margin: 0 0.4em 0.5em 0.4em;box-sizing: border-box;padding-bottom: 0.4em;background-color: white;}#sk-container-id-10 div.sk-label label {font-family: monospace;font-weight: bold;display: inline-block;line-height: 1.2em;}#sk-container-id-10 div.sk-label-container {text-align: center;}#sk-container-id-10 div.sk-container {/* jupyter's `normalize.less` sets `[hidden] { display: none; }` but bootstrap.min.css set `[hidden] { display: none !important; }` so we also need the `!important` here to be able to override the default hidden behavior on the sphinx rendered scikit-learn.org. See: https://github.com/scikit-learn/scikit-learn/issues/21755 */display: inline-block !important;position: relative;}#sk-container-id-10 div.sk-text-repr-fallback {display: none;}</style><div id=\"sk-container-id-10\" class=\"sk-top-container\"><div class=\"sk-text-repr-fallback\"><pre>BaggingClassifier(base_estimator=DecisionTreeClassifier(class_weight=&#x27;balanced&#x27;,\n",
              "                                                        criterion=&#x27;entropy&#x27;,\n",
              "                                                        max_features=&#x27;auto&#x27;,\n",
              "                                                        min_weight_fraction_leaf=0.05),\n",
              "                  max_features=0.99, n_estimators=50)</pre><b>In a Jupyter environment, please rerun this cell to show the HTML representation or trust the notebook. <br />On GitHub, the HTML representation is unable to render, please try loading this page with nbviewer.org.</b></div><div class=\"sk-container\" hidden><div class=\"sk-item sk-dashed-wrapped\"><div class=\"sk-label-container\"><div class=\"sk-label sk-toggleable\"><input class=\"sk-toggleable__control sk-hidden--visually\" id=\"sk-estimator-id-20\" type=\"checkbox\" ><label for=\"sk-estimator-id-20\" class=\"sk-toggleable__label sk-toggleable__label-arrow\">BaggingClassifier</label><div class=\"sk-toggleable__content\"><pre>BaggingClassifier(base_estimator=DecisionTreeClassifier(class_weight=&#x27;balanced&#x27;,\n",
              "                                                        criterion=&#x27;entropy&#x27;,\n",
              "                                                        max_features=&#x27;auto&#x27;,\n",
              "                                                        min_weight_fraction_leaf=0.05),\n",
              "                  max_features=0.99, n_estimators=50)</pre></div></div></div><div class=\"sk-parallel\"><div class=\"sk-parallel-item\"><div class=\"sk-item\"><div class=\"sk-label-container\"><div class=\"sk-label sk-toggleable\"><input class=\"sk-toggleable__control sk-hidden--visually\" id=\"sk-estimator-id-21\" type=\"checkbox\" ><label for=\"sk-estimator-id-21\" class=\"sk-toggleable__label sk-toggleable__label-arrow\">base_estimator: DecisionTreeClassifier</label><div class=\"sk-toggleable__content\"><pre>DecisionTreeClassifier(class_weight=&#x27;balanced&#x27;, criterion=&#x27;entropy&#x27;,\n",
              "                       max_features=&#x27;auto&#x27;, min_weight_fraction_leaf=0.05)</pre></div></div></div><div class=\"sk-serial\"><div class=\"sk-item\"><div class=\"sk-estimator sk-toggleable\"><input class=\"sk-toggleable__control sk-hidden--visually\" id=\"sk-estimator-id-22\" type=\"checkbox\" ><label for=\"sk-estimator-id-22\" class=\"sk-toggleable__label sk-toggleable__label-arrow\">DecisionTreeClassifier</label><div class=\"sk-toggleable__content\"><pre>DecisionTreeClassifier(class_weight=&#x27;balanced&#x27;, criterion=&#x27;entropy&#x27;,\n",
              "                       max_features=&#x27;auto&#x27;, min_weight_fraction_leaf=0.05)</pre></div></div></div></div></div></div></div></div></div></div>"
            ]
          },
          "metadata": {},
          "execution_count": 49
        },
        {
          "output_type": "execute_result",
          "data": {
            "text/plain": [
              "(54, 15)"
            ]
          },
          "metadata": {},
          "execution_count": 49
        },
        {
          "output_type": "execute_result",
          "data": {
            "text/plain": [
              "(54, 1)"
            ]
          },
          "metadata": {},
          "execution_count": 49
        },
        {
          "output_type": "execute_result",
          "data": {
            "text/plain": [
              "BaggingClassifier(base_estimator=DecisionTreeClassifier(class_weight='balanced',\n",
              "                                                        criterion='entropy',\n",
              "                                                        max_features='auto',\n",
              "                                                        min_weight_fraction_leaf=0.05),\n",
              "                  max_features=0.99, n_estimators=50)"
            ],
            "text/html": [
              "<style>#sk-container-id-11 {color: black;background-color: white;}#sk-container-id-11 pre{padding: 0;}#sk-container-id-11 div.sk-toggleable {background-color: white;}#sk-container-id-11 label.sk-toggleable__label {cursor: pointer;display: block;width: 100%;margin-bottom: 0;padding: 0.3em;box-sizing: border-box;text-align: center;}#sk-container-id-11 label.sk-toggleable__label-arrow:before {content: \"▸\";float: left;margin-right: 0.25em;color: #696969;}#sk-container-id-11 label.sk-toggleable__label-arrow:hover:before {color: black;}#sk-container-id-11 div.sk-estimator:hover label.sk-toggleable__label-arrow:before {color: black;}#sk-container-id-11 div.sk-toggleable__content {max-height: 0;max-width: 0;overflow: hidden;text-align: left;background-color: #f0f8ff;}#sk-container-id-11 div.sk-toggleable__content pre {margin: 0.2em;color: black;border-radius: 0.25em;background-color: #f0f8ff;}#sk-container-id-11 input.sk-toggleable__control:checked~div.sk-toggleable__content {max-height: 200px;max-width: 100%;overflow: auto;}#sk-container-id-11 input.sk-toggleable__control:checked~label.sk-toggleable__label-arrow:before {content: \"▾\";}#sk-container-id-11 div.sk-estimator input.sk-toggleable__control:checked~label.sk-toggleable__label {background-color: #d4ebff;}#sk-container-id-11 div.sk-label input.sk-toggleable__control:checked~label.sk-toggleable__label {background-color: #d4ebff;}#sk-container-id-11 input.sk-hidden--visually {border: 0;clip: rect(1px 1px 1px 1px);clip: rect(1px, 1px, 1px, 1px);height: 1px;margin: -1px;overflow: hidden;padding: 0;position: absolute;width: 1px;}#sk-container-id-11 div.sk-estimator {font-family: monospace;background-color: #f0f8ff;border: 1px dotted black;border-radius: 0.25em;box-sizing: border-box;margin-bottom: 0.5em;}#sk-container-id-11 div.sk-estimator:hover {background-color: #d4ebff;}#sk-container-id-11 div.sk-parallel-item::after {content: \"\";width: 100%;border-bottom: 1px solid gray;flex-grow: 1;}#sk-container-id-11 div.sk-label:hover label.sk-toggleable__label {background-color: #d4ebff;}#sk-container-id-11 div.sk-serial::before {content: \"\";position: absolute;border-left: 1px solid gray;box-sizing: border-box;top: 0;bottom: 0;left: 50%;z-index: 0;}#sk-container-id-11 div.sk-serial {display: flex;flex-direction: column;align-items: center;background-color: white;padding-right: 0.2em;padding-left: 0.2em;position: relative;}#sk-container-id-11 div.sk-item {position: relative;z-index: 1;}#sk-container-id-11 div.sk-parallel {display: flex;align-items: stretch;justify-content: center;background-color: white;position: relative;}#sk-container-id-11 div.sk-item::before, #sk-container-id-11 div.sk-parallel-item::before {content: \"\";position: absolute;border-left: 1px solid gray;box-sizing: border-box;top: 0;bottom: 0;left: 50%;z-index: -1;}#sk-container-id-11 div.sk-parallel-item {display: flex;flex-direction: column;z-index: 1;position: relative;background-color: white;}#sk-container-id-11 div.sk-parallel-item:first-child::after {align-self: flex-end;width: 50%;}#sk-container-id-11 div.sk-parallel-item:last-child::after {align-self: flex-start;width: 50%;}#sk-container-id-11 div.sk-parallel-item:only-child::after {width: 0;}#sk-container-id-11 div.sk-dashed-wrapped {border: 1px dashed gray;margin: 0 0.4em 0.5em 0.4em;box-sizing: border-box;padding-bottom: 0.4em;background-color: white;}#sk-container-id-11 div.sk-label label {font-family: monospace;font-weight: bold;display: inline-block;line-height: 1.2em;}#sk-container-id-11 div.sk-label-container {text-align: center;}#sk-container-id-11 div.sk-container {/* jupyter's `normalize.less` sets `[hidden] { display: none; }` but bootstrap.min.css set `[hidden] { display: none !important; }` so we also need the `!important` here to be able to override the default hidden behavior on the sphinx rendered scikit-learn.org. See: https://github.com/scikit-learn/scikit-learn/issues/21755 */display: inline-block !important;position: relative;}#sk-container-id-11 div.sk-text-repr-fallback {display: none;}</style><div id=\"sk-container-id-11\" class=\"sk-top-container\"><div class=\"sk-text-repr-fallback\"><pre>BaggingClassifier(base_estimator=DecisionTreeClassifier(class_weight=&#x27;balanced&#x27;,\n",
              "                                                        criterion=&#x27;entropy&#x27;,\n",
              "                                                        max_features=&#x27;auto&#x27;,\n",
              "                                                        min_weight_fraction_leaf=0.05),\n",
              "                  max_features=0.99, n_estimators=50)</pre><b>In a Jupyter environment, please rerun this cell to show the HTML representation or trust the notebook. <br />On GitHub, the HTML representation is unable to render, please try loading this page with nbviewer.org.</b></div><div class=\"sk-container\" hidden><div class=\"sk-item sk-dashed-wrapped\"><div class=\"sk-label-container\"><div class=\"sk-label sk-toggleable\"><input class=\"sk-toggleable__control sk-hidden--visually\" id=\"sk-estimator-id-23\" type=\"checkbox\" ><label for=\"sk-estimator-id-23\" class=\"sk-toggleable__label sk-toggleable__label-arrow\">BaggingClassifier</label><div class=\"sk-toggleable__content\"><pre>BaggingClassifier(base_estimator=DecisionTreeClassifier(class_weight=&#x27;balanced&#x27;,\n",
              "                                                        criterion=&#x27;entropy&#x27;,\n",
              "                                                        max_features=&#x27;auto&#x27;,\n",
              "                                                        min_weight_fraction_leaf=0.05),\n",
              "                  max_features=0.99, n_estimators=50)</pre></div></div></div><div class=\"sk-parallel\"><div class=\"sk-parallel-item\"><div class=\"sk-item\"><div class=\"sk-label-container\"><div class=\"sk-label sk-toggleable\"><input class=\"sk-toggleable__control sk-hidden--visually\" id=\"sk-estimator-id-24\" type=\"checkbox\" ><label for=\"sk-estimator-id-24\" class=\"sk-toggleable__label sk-toggleable__label-arrow\">base_estimator: DecisionTreeClassifier</label><div class=\"sk-toggleable__content\"><pre>DecisionTreeClassifier(class_weight=&#x27;balanced&#x27;, criterion=&#x27;entropy&#x27;,\n",
              "                       max_features=&#x27;auto&#x27;, min_weight_fraction_leaf=0.05)</pre></div></div></div><div class=\"sk-serial\"><div class=\"sk-item\"><div class=\"sk-estimator sk-toggleable\"><input class=\"sk-toggleable__control sk-hidden--visually\" id=\"sk-estimator-id-25\" type=\"checkbox\" ><label for=\"sk-estimator-id-25\" class=\"sk-toggleable__label sk-toggleable__label-arrow\">DecisionTreeClassifier</label><div class=\"sk-toggleable__content\"><pre>DecisionTreeClassifier(class_weight=&#x27;balanced&#x27;, criterion=&#x27;entropy&#x27;,\n",
              "                       max_features=&#x27;auto&#x27;, min_weight_fraction_leaf=0.05)</pre></div></div></div></div></div></div></div></div></div></div>"
            ]
          },
          "metadata": {},
          "execution_count": 49
        },
        {
          "output_type": "execute_result",
          "data": {
            "text/plain": [
              "(54, 15)"
            ]
          },
          "metadata": {},
          "execution_count": 49
        },
        {
          "output_type": "execute_result",
          "data": {
            "text/plain": [
              "(54, 1)"
            ]
          },
          "metadata": {},
          "execution_count": 49
        },
        {
          "output_type": "execute_result",
          "data": {
            "text/plain": [
              "BaggingClassifier(base_estimator=DecisionTreeClassifier(class_weight='balanced',\n",
              "                                                        criterion='entropy',\n",
              "                                                        max_features='auto',\n",
              "                                                        min_weight_fraction_leaf=0.05),\n",
              "                  max_features=0.99, n_estimators=50)"
            ],
            "text/html": [
              "<style>#sk-container-id-12 {color: black;background-color: white;}#sk-container-id-12 pre{padding: 0;}#sk-container-id-12 div.sk-toggleable {background-color: white;}#sk-container-id-12 label.sk-toggleable__label {cursor: pointer;display: block;width: 100%;margin-bottom: 0;padding: 0.3em;box-sizing: border-box;text-align: center;}#sk-container-id-12 label.sk-toggleable__label-arrow:before {content: \"▸\";float: left;margin-right: 0.25em;color: #696969;}#sk-container-id-12 label.sk-toggleable__label-arrow:hover:before {color: black;}#sk-container-id-12 div.sk-estimator:hover label.sk-toggleable__label-arrow:before {color: black;}#sk-container-id-12 div.sk-toggleable__content {max-height: 0;max-width: 0;overflow: hidden;text-align: left;background-color: #f0f8ff;}#sk-container-id-12 div.sk-toggleable__content pre {margin: 0.2em;color: black;border-radius: 0.25em;background-color: #f0f8ff;}#sk-container-id-12 input.sk-toggleable__control:checked~div.sk-toggleable__content {max-height: 200px;max-width: 100%;overflow: auto;}#sk-container-id-12 input.sk-toggleable__control:checked~label.sk-toggleable__label-arrow:before {content: \"▾\";}#sk-container-id-12 div.sk-estimator input.sk-toggleable__control:checked~label.sk-toggleable__label {background-color: #d4ebff;}#sk-container-id-12 div.sk-label input.sk-toggleable__control:checked~label.sk-toggleable__label {background-color: #d4ebff;}#sk-container-id-12 input.sk-hidden--visually {border: 0;clip: rect(1px 1px 1px 1px);clip: rect(1px, 1px, 1px, 1px);height: 1px;margin: -1px;overflow: hidden;padding: 0;position: absolute;width: 1px;}#sk-container-id-12 div.sk-estimator {font-family: monospace;background-color: #f0f8ff;border: 1px dotted black;border-radius: 0.25em;box-sizing: border-box;margin-bottom: 0.5em;}#sk-container-id-12 div.sk-estimator:hover {background-color: #d4ebff;}#sk-container-id-12 div.sk-parallel-item::after {content: \"\";width: 100%;border-bottom: 1px solid gray;flex-grow: 1;}#sk-container-id-12 div.sk-label:hover label.sk-toggleable__label {background-color: #d4ebff;}#sk-container-id-12 div.sk-serial::before {content: \"\";position: absolute;border-left: 1px solid gray;box-sizing: border-box;top: 0;bottom: 0;left: 50%;z-index: 0;}#sk-container-id-12 div.sk-serial {display: flex;flex-direction: column;align-items: center;background-color: white;padding-right: 0.2em;padding-left: 0.2em;position: relative;}#sk-container-id-12 div.sk-item {position: relative;z-index: 1;}#sk-container-id-12 div.sk-parallel {display: flex;align-items: stretch;justify-content: center;background-color: white;position: relative;}#sk-container-id-12 div.sk-item::before, #sk-container-id-12 div.sk-parallel-item::before {content: \"\";position: absolute;border-left: 1px solid gray;box-sizing: border-box;top: 0;bottom: 0;left: 50%;z-index: -1;}#sk-container-id-12 div.sk-parallel-item {display: flex;flex-direction: column;z-index: 1;position: relative;background-color: white;}#sk-container-id-12 div.sk-parallel-item:first-child::after {align-self: flex-end;width: 50%;}#sk-container-id-12 div.sk-parallel-item:last-child::after {align-self: flex-start;width: 50%;}#sk-container-id-12 div.sk-parallel-item:only-child::after {width: 0;}#sk-container-id-12 div.sk-dashed-wrapped {border: 1px dashed gray;margin: 0 0.4em 0.5em 0.4em;box-sizing: border-box;padding-bottom: 0.4em;background-color: white;}#sk-container-id-12 div.sk-label label {font-family: monospace;font-weight: bold;display: inline-block;line-height: 1.2em;}#sk-container-id-12 div.sk-label-container {text-align: center;}#sk-container-id-12 div.sk-container {/* jupyter's `normalize.less` sets `[hidden] { display: none; }` but bootstrap.min.css set `[hidden] { display: none !important; }` so we also need the `!important` here to be able to override the default hidden behavior on the sphinx rendered scikit-learn.org. See: https://github.com/scikit-learn/scikit-learn/issues/21755 */display: inline-block !important;position: relative;}#sk-container-id-12 div.sk-text-repr-fallback {display: none;}</style><div id=\"sk-container-id-12\" class=\"sk-top-container\"><div class=\"sk-text-repr-fallback\"><pre>BaggingClassifier(base_estimator=DecisionTreeClassifier(class_weight=&#x27;balanced&#x27;,\n",
              "                                                        criterion=&#x27;entropy&#x27;,\n",
              "                                                        max_features=&#x27;auto&#x27;,\n",
              "                                                        min_weight_fraction_leaf=0.05),\n",
              "                  max_features=0.99, n_estimators=50)</pre><b>In a Jupyter environment, please rerun this cell to show the HTML representation or trust the notebook. <br />On GitHub, the HTML representation is unable to render, please try loading this page with nbviewer.org.</b></div><div class=\"sk-container\" hidden><div class=\"sk-item sk-dashed-wrapped\"><div class=\"sk-label-container\"><div class=\"sk-label sk-toggleable\"><input class=\"sk-toggleable__control sk-hidden--visually\" id=\"sk-estimator-id-26\" type=\"checkbox\" ><label for=\"sk-estimator-id-26\" class=\"sk-toggleable__label sk-toggleable__label-arrow\">BaggingClassifier</label><div class=\"sk-toggleable__content\"><pre>BaggingClassifier(base_estimator=DecisionTreeClassifier(class_weight=&#x27;balanced&#x27;,\n",
              "                                                        criterion=&#x27;entropy&#x27;,\n",
              "                                                        max_features=&#x27;auto&#x27;,\n",
              "                                                        min_weight_fraction_leaf=0.05),\n",
              "                  max_features=0.99, n_estimators=50)</pre></div></div></div><div class=\"sk-parallel\"><div class=\"sk-parallel-item\"><div class=\"sk-item\"><div class=\"sk-label-container\"><div class=\"sk-label sk-toggleable\"><input class=\"sk-toggleable__control sk-hidden--visually\" id=\"sk-estimator-id-27\" type=\"checkbox\" ><label for=\"sk-estimator-id-27\" class=\"sk-toggleable__label sk-toggleable__label-arrow\">base_estimator: DecisionTreeClassifier</label><div class=\"sk-toggleable__content\"><pre>DecisionTreeClassifier(class_weight=&#x27;balanced&#x27;, criterion=&#x27;entropy&#x27;,\n",
              "                       max_features=&#x27;auto&#x27;, min_weight_fraction_leaf=0.05)</pre></div></div></div><div class=\"sk-serial\"><div class=\"sk-item\"><div class=\"sk-estimator sk-toggleable\"><input class=\"sk-toggleable__control sk-hidden--visually\" id=\"sk-estimator-id-28\" type=\"checkbox\" ><label for=\"sk-estimator-id-28\" class=\"sk-toggleable__label sk-toggleable__label-arrow\">DecisionTreeClassifier</label><div class=\"sk-toggleable__content\"><pre>DecisionTreeClassifier(class_weight=&#x27;balanced&#x27;, criterion=&#x27;entropy&#x27;,\n",
              "                       max_features=&#x27;auto&#x27;, min_weight_fraction_leaf=0.05)</pre></div></div></div></div></div></div></div></div></div></div>"
            ]
          },
          "metadata": {},
          "execution_count": 49
        },
        {
          "output_type": "execute_result",
          "data": {
            "text/plain": [
              "array([0.73330692, 0.62355747, 0.51532897, 0.49333411])"
            ]
          },
          "metadata": {},
          "execution_count": 49
        }
      ]
    },
    {
      "cell_type": "code",
      "source": [
        "pd.Series(Sharpe_Ratio).describe()"
      ],
      "metadata": {
        "colab": {
          "base_uri": "https://localhost:8080/"
        },
        "id": "bCd8bSV7nMvh",
        "outputId": "17af20e4-04ec-4520-9818-23c6d9c8016e"
      },
      "execution_count": 45,
      "outputs": [
        {
          "output_type": "execute_result",
          "data": {
            "text/plain": [
              "count    3.000000\n",
              "mean     0.858499\n",
              "std      0.578424\n",
              "min      0.367814\n",
              "25%      0.539616\n",
              "50%      0.711418\n",
              "75%      1.103841\n",
              "max      1.496265\n",
              "dtype: float64"
            ]
          },
          "metadata": {},
          "execution_count": 45
        }
      ]
    },
    {
      "cell_type": "markdown",
      "source": [
        "# With IMP features"
      ],
      "metadata": {
        "id": "IoBWgbbL7wqp"
      }
    },
    {
      "cell_type": "code",
      "source": [
        "np.random.seed(1)\n",
        "\n",
        "X_test4 = X_test3[['ntis', 'd/p', 'ltr', 'corpr','b/m_FD']]\n",
        "X_test4.head()\n",
        "\n",
        "#X_test4 = X_test3[['ntis', 'tms', 'dfr', 'corpr','b/m_FD']]\n",
        "y_test.head()"
      ],
      "metadata": {
        "colab": {
          "base_uri": "https://localhost:8080/",
          "height": 458
        },
        "id": "NuQkLxE976BN",
        "outputId": "b82413c3-df9f-4281-9344-5e4acecd4085"
      },
      "execution_count": 46,
      "outputs": [
        {
          "output_type": "execute_result",
          "data": {
            "text/plain": [
              "                ntis       d/p     ltr   corpr    b/m_FD\n",
              "yyyymm                                                  \n",
              "2012-06-01 -0.019820 -3.873259 -0.0136  0.0064 -0.392624\n",
              "2012-07-01 -0.021091 -3.870940  0.0247  0.0612 -0.396861\n",
              "2012-08-01 -0.020536 -3.875890 -0.0068 -0.0093 -0.398770\n",
              "2012-09-01 -0.018153 -3.885427 -0.0146 -0.0126 -0.420618\n",
              "2012-10-01 -0.016443 -3.846946 -0.0014  0.0206 -0.385622"
            ],
            "text/html": [
              "\n",
              "  <div id=\"df-17f6b88b-d0e0-4a25-9ecb-cde8f0c7c6d9\">\n",
              "    <div class=\"colab-df-container\">\n",
              "      <div>\n",
              "<style scoped>\n",
              "    .dataframe tbody tr th:only-of-type {\n",
              "        vertical-align: middle;\n",
              "    }\n",
              "\n",
              "    .dataframe tbody tr th {\n",
              "        vertical-align: top;\n",
              "    }\n",
              "\n",
              "    .dataframe thead th {\n",
              "        text-align: right;\n",
              "    }\n",
              "</style>\n",
              "<table border=\"1\" class=\"dataframe\">\n",
              "  <thead>\n",
              "    <tr style=\"text-align: right;\">\n",
              "      <th></th>\n",
              "      <th>ntis</th>\n",
              "      <th>d/p</th>\n",
              "      <th>ltr</th>\n",
              "      <th>corpr</th>\n",
              "      <th>b/m_FD</th>\n",
              "    </tr>\n",
              "    <tr>\n",
              "      <th>yyyymm</th>\n",
              "      <th></th>\n",
              "      <th></th>\n",
              "      <th></th>\n",
              "      <th></th>\n",
              "      <th></th>\n",
              "    </tr>\n",
              "  </thead>\n",
              "  <tbody>\n",
              "    <tr>\n",
              "      <th>2012-06-01</th>\n",
              "      <td>-0.019820</td>\n",
              "      <td>-3.873259</td>\n",
              "      <td>-0.0136</td>\n",
              "      <td>0.0064</td>\n",
              "      <td>-0.392624</td>\n",
              "    </tr>\n",
              "    <tr>\n",
              "      <th>2012-07-01</th>\n",
              "      <td>-0.021091</td>\n",
              "      <td>-3.870940</td>\n",
              "      <td>0.0247</td>\n",
              "      <td>0.0612</td>\n",
              "      <td>-0.396861</td>\n",
              "    </tr>\n",
              "    <tr>\n",
              "      <th>2012-08-01</th>\n",
              "      <td>-0.020536</td>\n",
              "      <td>-3.875890</td>\n",
              "      <td>-0.0068</td>\n",
              "      <td>-0.0093</td>\n",
              "      <td>-0.398770</td>\n",
              "    </tr>\n",
              "    <tr>\n",
              "      <th>2012-09-01</th>\n",
              "      <td>-0.018153</td>\n",
              "      <td>-3.885427</td>\n",
              "      <td>-0.0146</td>\n",
              "      <td>-0.0126</td>\n",
              "      <td>-0.420618</td>\n",
              "    </tr>\n",
              "    <tr>\n",
              "      <th>2012-10-01</th>\n",
              "      <td>-0.016443</td>\n",
              "      <td>-3.846946</td>\n",
              "      <td>-0.0014</td>\n",
              "      <td>0.0206</td>\n",
              "      <td>-0.385622</td>\n",
              "    </tr>\n",
              "  </tbody>\n",
              "</table>\n",
              "</div>\n",
              "      <button class=\"colab-df-convert\" onclick=\"convertToInteractive('df-17f6b88b-d0e0-4a25-9ecb-cde8f0c7c6d9')\"\n",
              "              title=\"Convert this dataframe to an interactive table.\"\n",
              "              style=\"display:none;\">\n",
              "        \n",
              "  <svg xmlns=\"http://www.w3.org/2000/svg\" height=\"24px\"viewBox=\"0 0 24 24\"\n",
              "       width=\"24px\">\n",
              "    <path d=\"M0 0h24v24H0V0z\" fill=\"none\"/>\n",
              "    <path d=\"M18.56 5.44l.94 2.06.94-2.06 2.06-.94-2.06-.94-.94-2.06-.94 2.06-2.06.94zm-11 1L8.5 8.5l.94-2.06 2.06-.94-2.06-.94L8.5 2.5l-.94 2.06-2.06.94zm10 10l.94 2.06.94-2.06 2.06-.94-2.06-.94-.94-2.06-.94 2.06-2.06.94z\"/><path d=\"M17.41 7.96l-1.37-1.37c-.4-.4-.92-.59-1.43-.59-.52 0-1.04.2-1.43.59L10.3 9.45l-7.72 7.72c-.78.78-.78 2.05 0 2.83L4 21.41c.39.39.9.59 1.41.59.51 0 1.02-.2 1.41-.59l7.78-7.78 2.81-2.81c.8-.78.8-2.07 0-2.86zM5.41 20L4 18.59l7.72-7.72 1.47 1.35L5.41 20z\"/>\n",
              "  </svg>\n",
              "      </button>\n",
              "      \n",
              "  <style>\n",
              "    .colab-df-container {\n",
              "      display:flex;\n",
              "      flex-wrap:wrap;\n",
              "      gap: 12px;\n",
              "    }\n",
              "\n",
              "    .colab-df-convert {\n",
              "      background-color: #E8F0FE;\n",
              "      border: none;\n",
              "      border-radius: 50%;\n",
              "      cursor: pointer;\n",
              "      display: none;\n",
              "      fill: #1967D2;\n",
              "      height: 32px;\n",
              "      padding: 0 0 0 0;\n",
              "      width: 32px;\n",
              "    }\n",
              "\n",
              "    .colab-df-convert:hover {\n",
              "      background-color: #E2EBFA;\n",
              "      box-shadow: 0px 1px 2px rgba(60, 64, 67, 0.3), 0px 1px 3px 1px rgba(60, 64, 67, 0.15);\n",
              "      fill: #174EA6;\n",
              "    }\n",
              "\n",
              "    [theme=dark] .colab-df-convert {\n",
              "      background-color: #3B4455;\n",
              "      fill: #D2E3FC;\n",
              "    }\n",
              "\n",
              "    [theme=dark] .colab-df-convert:hover {\n",
              "      background-color: #434B5C;\n",
              "      box-shadow: 0px 1px 3px 1px rgba(0, 0, 0, 0.15);\n",
              "      filter: drop-shadow(0px 1px 2px rgba(0, 0, 0, 0.3));\n",
              "      fill: #FFFFFF;\n",
              "    }\n",
              "  </style>\n",
              "\n",
              "      <script>\n",
              "        const buttonEl =\n",
              "          document.querySelector('#df-17f6b88b-d0e0-4a25-9ecb-cde8f0c7c6d9 button.colab-df-convert');\n",
              "        buttonEl.style.display =\n",
              "          google.colab.kernel.accessAllowed ? 'block' : 'none';\n",
              "\n",
              "        async function convertToInteractive(key) {\n",
              "          const element = document.querySelector('#df-17f6b88b-d0e0-4a25-9ecb-cde8f0c7c6d9');\n",
              "          const dataTable =\n",
              "            await google.colab.kernel.invokeFunction('convertToInteractive',\n",
              "                                                     [key], {});\n",
              "          if (!dataTable) return;\n",
              "\n",
              "          const docLinkHtml = 'Like what you see? Visit the ' +\n",
              "            '<a target=\"_blank\" href=https://colab.research.google.com/notebooks/data_table.ipynb>data table notebook</a>'\n",
              "            + ' to learn more about interactive tables.';\n",
              "          element.innerHTML = '';\n",
              "          dataTable['output_type'] = 'display_data';\n",
              "          await google.colab.output.renderOutput(dataTable, element);\n",
              "          const docLink = document.createElement('div');\n",
              "          docLink.innerHTML = docLinkHtml;\n",
              "          element.appendChild(docLink);\n",
              "        }\n",
              "      </script>\n",
              "    </div>\n",
              "  </div>\n",
              "  "
            ]
          },
          "metadata": {},
          "execution_count": 46
        },
        {
          "output_type": "execute_result",
          "data": {
            "text/plain": [
              "            ret\n",
              "yyyymm         \n",
              "2012-06-01  1.0\n",
              "2012-07-01  1.0\n",
              "2012-08-01  1.0\n",
              "2012-09-01 -1.0\n",
              "2012-10-01  1.0"
            ],
            "text/html": [
              "\n",
              "  <div id=\"df-d38394f6-f7d9-48ea-9124-e4dcbe30e5a6\">\n",
              "    <div class=\"colab-df-container\">\n",
              "      <div>\n",
              "<style scoped>\n",
              "    .dataframe tbody tr th:only-of-type {\n",
              "        vertical-align: middle;\n",
              "    }\n",
              "\n",
              "    .dataframe tbody tr th {\n",
              "        vertical-align: top;\n",
              "    }\n",
              "\n",
              "    .dataframe thead th {\n",
              "        text-align: right;\n",
              "    }\n",
              "</style>\n",
              "<table border=\"1\" class=\"dataframe\">\n",
              "  <thead>\n",
              "    <tr style=\"text-align: right;\">\n",
              "      <th></th>\n",
              "      <th>ret</th>\n",
              "    </tr>\n",
              "    <tr>\n",
              "      <th>yyyymm</th>\n",
              "      <th></th>\n",
              "    </tr>\n",
              "  </thead>\n",
              "  <tbody>\n",
              "    <tr>\n",
              "      <th>2012-06-01</th>\n",
              "      <td>1.0</td>\n",
              "    </tr>\n",
              "    <tr>\n",
              "      <th>2012-07-01</th>\n",
              "      <td>1.0</td>\n",
              "    </tr>\n",
              "    <tr>\n",
              "      <th>2012-08-01</th>\n",
              "      <td>1.0</td>\n",
              "    </tr>\n",
              "    <tr>\n",
              "      <th>2012-09-01</th>\n",
              "      <td>-1.0</td>\n",
              "    </tr>\n",
              "    <tr>\n",
              "      <th>2012-10-01</th>\n",
              "      <td>1.0</td>\n",
              "    </tr>\n",
              "  </tbody>\n",
              "</table>\n",
              "</div>\n",
              "      <button class=\"colab-df-convert\" onclick=\"convertToInteractive('df-d38394f6-f7d9-48ea-9124-e4dcbe30e5a6')\"\n",
              "              title=\"Convert this dataframe to an interactive table.\"\n",
              "              style=\"display:none;\">\n",
              "        \n",
              "  <svg xmlns=\"http://www.w3.org/2000/svg\" height=\"24px\"viewBox=\"0 0 24 24\"\n",
              "       width=\"24px\">\n",
              "    <path d=\"M0 0h24v24H0V0z\" fill=\"none\"/>\n",
              "    <path d=\"M18.56 5.44l.94 2.06.94-2.06 2.06-.94-2.06-.94-.94-2.06-.94 2.06-2.06.94zm-11 1L8.5 8.5l.94-2.06 2.06-.94-2.06-.94L8.5 2.5l-.94 2.06-2.06.94zm10 10l.94 2.06.94-2.06 2.06-.94-2.06-.94-.94-2.06-.94 2.06-2.06.94z\"/><path d=\"M17.41 7.96l-1.37-1.37c-.4-.4-.92-.59-1.43-.59-.52 0-1.04.2-1.43.59L10.3 9.45l-7.72 7.72c-.78.78-.78 2.05 0 2.83L4 21.41c.39.39.9.59 1.41.59.51 0 1.02-.2 1.41-.59l7.78-7.78 2.81-2.81c.8-.78.8-2.07 0-2.86zM5.41 20L4 18.59l7.72-7.72 1.47 1.35L5.41 20z\"/>\n",
              "  </svg>\n",
              "      </button>\n",
              "      \n",
              "  <style>\n",
              "    .colab-df-container {\n",
              "      display:flex;\n",
              "      flex-wrap:wrap;\n",
              "      gap: 12px;\n",
              "    }\n",
              "\n",
              "    .colab-df-convert {\n",
              "      background-color: #E8F0FE;\n",
              "      border: none;\n",
              "      border-radius: 50%;\n",
              "      cursor: pointer;\n",
              "      display: none;\n",
              "      fill: #1967D2;\n",
              "      height: 32px;\n",
              "      padding: 0 0 0 0;\n",
              "      width: 32px;\n",
              "    }\n",
              "\n",
              "    .colab-df-convert:hover {\n",
              "      background-color: #E2EBFA;\n",
              "      box-shadow: 0px 1px 2px rgba(60, 64, 67, 0.3), 0px 1px 3px 1px rgba(60, 64, 67, 0.15);\n",
              "      fill: #174EA6;\n",
              "    }\n",
              "\n",
              "    [theme=dark] .colab-df-convert {\n",
              "      background-color: #3B4455;\n",
              "      fill: #D2E3FC;\n",
              "    }\n",
              "\n",
              "    [theme=dark] .colab-df-convert:hover {\n",
              "      background-color: #434B5C;\n",
              "      box-shadow: 0px 1px 3px 1px rgba(0, 0, 0, 0.15);\n",
              "      filter: drop-shadow(0px 1px 2px rgba(0, 0, 0, 0.3));\n",
              "      fill: #FFFFFF;\n",
              "    }\n",
              "  </style>\n",
              "\n",
              "      <script>\n",
              "        const buttonEl =\n",
              "          document.querySelector('#df-d38394f6-f7d9-48ea-9124-e4dcbe30e5a6 button.colab-df-convert');\n",
              "        buttonEl.style.display =\n",
              "          google.colab.kernel.accessAllowed ? 'block' : 'none';\n",
              "\n",
              "        async function convertToInteractive(key) {\n",
              "          const element = document.querySelector('#df-d38394f6-f7d9-48ea-9124-e4dcbe30e5a6');\n",
              "          const dataTable =\n",
              "            await google.colab.kernel.invokeFunction('convertToInteractive',\n",
              "                                                     [key], {});\n",
              "          if (!dataTable) return;\n",
              "\n",
              "          const docLinkHtml = 'Like what you see? Visit the ' +\n",
              "            '<a target=\"_blank\" href=https://colab.research.google.com/notebooks/data_table.ipynb>data table notebook</a>'\n",
              "            + ' to learn more about interactive tables.';\n",
              "          element.innerHTML = '';\n",
              "          dataTable['output_type'] = 'display_data';\n",
              "          await google.colab.output.renderOutput(dataTable, element);\n",
              "          const docLink = document.createElement('div');\n",
              "          docLink.innerHTML = docLinkHtml;\n",
              "          element.appendChild(docLink);\n",
              "        }\n",
              "      </script>\n",
              "    </div>\n",
              "  </div>\n",
              "  "
            ]
          },
          "metadata": {},
          "execution_count": 46
        }
      ]
    },
    {
      "cell_type": "code",
      "source": [
        "Sharpe_Ratio=np.full((paths.shape[1]),np.nan)\n",
        "\n",
        "for i in range(paths.shape[1]):\n",
        "  X_train11 = X_test4[~isTest[:,i]]\n",
        "  X_test11 = X_test4[isTest[:,i]]\n",
        "  y_train11 = y_test[~isTest[:,i]]\n",
        "  y_test11 = y_test[isTest[:,i]]\n",
        "  X_train11.shape\n",
        "  y_train11.shape\n",
        "\n",
        "  #X_train11.head(2)\n",
        "  #y_train11.head(2)\n",
        "\n",
        "  # clf = RandomForestClassifier(n_estimators = 100 ,\n",
        "  #                              n_jobs = 4, \n",
        "  #                              max_depth=5,\n",
        "  #                              criterion = 'entropy')\n",
        "  \n",
        "  base_est = DecisionTreeClassifier(criterion='entropy', \n",
        "                                      max_features='auto', \n",
        "                                      class_weight='balanced', \n",
        "                                      min_weight_fraction_leaf=0.05)\n",
        "  clf = BaggingClassifier(base_estimator=base_est, n_estimators=50, max_features=.99)\n",
        "  \n",
        "  clf.fit(X_train11, y_train11)\n",
        "  pred = clf.predict(X_test11)\n",
        "\n",
        "  X_test11['side'] = pred\n",
        "  #joined_df1 = SPY_data_SR.join(X_test11)\n",
        "  #joined_df1.shape\n",
        "  sigs = X_test11[X_test11.side.shift(1)!=X_test11.side]\n",
        "  sigs=sigs.iloc[1:,:]\n",
        "  sigs['close'] = np.nan\n",
        "  for j in sigs.index:\n",
        "    sigs.loc[j, 'close'] = SPY_data_SR.loc[j,'Adj Close']\n",
        "\n",
        "  #sigs.head()\n",
        "  sigs['ret']=(sigs.close.shift(-1)-sigs.close)/sigs.close*sigs.side\n",
        "  monthly_rets = get_monthly_returns(sigs['ret'])\n",
        "  Sharpe_Ratio[i]=np.mean(monthly_rets)/np.std(monthly_rets)*np.sqrt(12)\n",
        "  #pf.show_perf_stats(monthly_rets)\n",
        "\n",
        "\n",
        "Sharpe_Ratio "
      ],
      "metadata": {
        "colab": {
          "base_uri": "https://localhost:8080/",
          "height": 506
        },
        "id": "G1WtheSI6iz5",
        "outputId": "1dd8f40e-49be-4830-c746-dbe0ca760b05"
      },
      "execution_count": 47,
      "outputs": [
        {
          "output_type": "execute_result",
          "data": {
            "text/plain": [
              "(54, 5)"
            ]
          },
          "metadata": {},
          "execution_count": 47
        },
        {
          "output_type": "execute_result",
          "data": {
            "text/plain": [
              "(54, 1)"
            ]
          },
          "metadata": {},
          "execution_count": 47
        },
        {
          "output_type": "execute_result",
          "data": {
            "text/plain": [
              "BaggingClassifier(base_estimator=DecisionTreeClassifier(class_weight='balanced',\n",
              "                                                        criterion='entropy',\n",
              "                                                        max_features='auto',\n",
              "                                                        min_weight_fraction_leaf=0.05),\n",
              "                  max_features=0.99, n_estimators=50)"
            ],
            "text/html": [
              "<style>#sk-container-id-5 {color: black;background-color: white;}#sk-container-id-5 pre{padding: 0;}#sk-container-id-5 div.sk-toggleable {background-color: white;}#sk-container-id-5 label.sk-toggleable__label {cursor: pointer;display: block;width: 100%;margin-bottom: 0;padding: 0.3em;box-sizing: border-box;text-align: center;}#sk-container-id-5 label.sk-toggleable__label-arrow:before {content: \"▸\";float: left;margin-right: 0.25em;color: #696969;}#sk-container-id-5 label.sk-toggleable__label-arrow:hover:before {color: black;}#sk-container-id-5 div.sk-estimator:hover label.sk-toggleable__label-arrow:before {color: black;}#sk-container-id-5 div.sk-toggleable__content {max-height: 0;max-width: 0;overflow: hidden;text-align: left;background-color: #f0f8ff;}#sk-container-id-5 div.sk-toggleable__content pre {margin: 0.2em;color: black;border-radius: 0.25em;background-color: #f0f8ff;}#sk-container-id-5 input.sk-toggleable__control:checked~div.sk-toggleable__content {max-height: 200px;max-width: 100%;overflow: auto;}#sk-container-id-5 input.sk-toggleable__control:checked~label.sk-toggleable__label-arrow:before {content: \"▾\";}#sk-container-id-5 div.sk-estimator input.sk-toggleable__control:checked~label.sk-toggleable__label {background-color: #d4ebff;}#sk-container-id-5 div.sk-label input.sk-toggleable__control:checked~label.sk-toggleable__label {background-color: #d4ebff;}#sk-container-id-5 input.sk-hidden--visually {border: 0;clip: rect(1px 1px 1px 1px);clip: rect(1px, 1px, 1px, 1px);height: 1px;margin: -1px;overflow: hidden;padding: 0;position: absolute;width: 1px;}#sk-container-id-5 div.sk-estimator {font-family: monospace;background-color: #f0f8ff;border: 1px dotted black;border-radius: 0.25em;box-sizing: border-box;margin-bottom: 0.5em;}#sk-container-id-5 div.sk-estimator:hover {background-color: #d4ebff;}#sk-container-id-5 div.sk-parallel-item::after {content: \"\";width: 100%;border-bottom: 1px solid gray;flex-grow: 1;}#sk-container-id-5 div.sk-label:hover label.sk-toggleable__label {background-color: #d4ebff;}#sk-container-id-5 div.sk-serial::before {content: \"\";position: absolute;border-left: 1px solid gray;box-sizing: border-box;top: 0;bottom: 0;left: 50%;z-index: 0;}#sk-container-id-5 div.sk-serial {display: flex;flex-direction: column;align-items: center;background-color: white;padding-right: 0.2em;padding-left: 0.2em;position: relative;}#sk-container-id-5 div.sk-item {position: relative;z-index: 1;}#sk-container-id-5 div.sk-parallel {display: flex;align-items: stretch;justify-content: center;background-color: white;position: relative;}#sk-container-id-5 div.sk-item::before, #sk-container-id-5 div.sk-parallel-item::before {content: \"\";position: absolute;border-left: 1px solid gray;box-sizing: border-box;top: 0;bottom: 0;left: 50%;z-index: -1;}#sk-container-id-5 div.sk-parallel-item {display: flex;flex-direction: column;z-index: 1;position: relative;background-color: white;}#sk-container-id-5 div.sk-parallel-item:first-child::after {align-self: flex-end;width: 50%;}#sk-container-id-5 div.sk-parallel-item:last-child::after {align-self: flex-start;width: 50%;}#sk-container-id-5 div.sk-parallel-item:only-child::after {width: 0;}#sk-container-id-5 div.sk-dashed-wrapped {border: 1px dashed gray;margin: 0 0.4em 0.5em 0.4em;box-sizing: border-box;padding-bottom: 0.4em;background-color: white;}#sk-container-id-5 div.sk-label label {font-family: monospace;font-weight: bold;display: inline-block;line-height: 1.2em;}#sk-container-id-5 div.sk-label-container {text-align: center;}#sk-container-id-5 div.sk-container {/* jupyter's `normalize.less` sets `[hidden] { display: none; }` but bootstrap.min.css set `[hidden] { display: none !important; }` so we also need the `!important` here to be able to override the default hidden behavior on the sphinx rendered scikit-learn.org. See: https://github.com/scikit-learn/scikit-learn/issues/21755 */display: inline-block !important;position: relative;}#sk-container-id-5 div.sk-text-repr-fallback {display: none;}</style><div id=\"sk-container-id-5\" class=\"sk-top-container\"><div class=\"sk-text-repr-fallback\"><pre>BaggingClassifier(base_estimator=DecisionTreeClassifier(class_weight=&#x27;balanced&#x27;,\n",
              "                                                        criterion=&#x27;entropy&#x27;,\n",
              "                                                        max_features=&#x27;auto&#x27;,\n",
              "                                                        min_weight_fraction_leaf=0.05),\n",
              "                  max_features=0.99, n_estimators=50)</pre><b>In a Jupyter environment, please rerun this cell to show the HTML representation or trust the notebook. <br />On GitHub, the HTML representation is unable to render, please try loading this page with nbviewer.org.</b></div><div class=\"sk-container\" hidden><div class=\"sk-item sk-dashed-wrapped\"><div class=\"sk-label-container\"><div class=\"sk-label sk-toggleable\"><input class=\"sk-toggleable__control sk-hidden--visually\" id=\"sk-estimator-id-5\" type=\"checkbox\" ><label for=\"sk-estimator-id-5\" class=\"sk-toggleable__label sk-toggleable__label-arrow\">BaggingClassifier</label><div class=\"sk-toggleable__content\"><pre>BaggingClassifier(base_estimator=DecisionTreeClassifier(class_weight=&#x27;balanced&#x27;,\n",
              "                                                        criterion=&#x27;entropy&#x27;,\n",
              "                                                        max_features=&#x27;auto&#x27;,\n",
              "                                                        min_weight_fraction_leaf=0.05),\n",
              "                  max_features=0.99, n_estimators=50)</pre></div></div></div><div class=\"sk-parallel\"><div class=\"sk-parallel-item\"><div class=\"sk-item\"><div class=\"sk-label-container\"><div class=\"sk-label sk-toggleable\"><input class=\"sk-toggleable__control sk-hidden--visually\" id=\"sk-estimator-id-6\" type=\"checkbox\" ><label for=\"sk-estimator-id-6\" class=\"sk-toggleable__label sk-toggleable__label-arrow\">base_estimator: DecisionTreeClassifier</label><div class=\"sk-toggleable__content\"><pre>DecisionTreeClassifier(class_weight=&#x27;balanced&#x27;, criterion=&#x27;entropy&#x27;,\n",
              "                       max_features=&#x27;auto&#x27;, min_weight_fraction_leaf=0.05)</pre></div></div></div><div class=\"sk-serial\"><div class=\"sk-item\"><div class=\"sk-estimator sk-toggleable\"><input class=\"sk-toggleable__control sk-hidden--visually\" id=\"sk-estimator-id-7\" type=\"checkbox\" ><label for=\"sk-estimator-id-7\" class=\"sk-toggleable__label sk-toggleable__label-arrow\">DecisionTreeClassifier</label><div class=\"sk-toggleable__content\"><pre>DecisionTreeClassifier(class_weight=&#x27;balanced&#x27;, criterion=&#x27;entropy&#x27;,\n",
              "                       max_features=&#x27;auto&#x27;, min_weight_fraction_leaf=0.05)</pre></div></div></div></div></div></div></div></div></div></div>"
            ]
          },
          "metadata": {},
          "execution_count": 47
        },
        {
          "output_type": "execute_result",
          "data": {
            "text/plain": [
              "(54, 5)"
            ]
          },
          "metadata": {},
          "execution_count": 47
        },
        {
          "output_type": "execute_result",
          "data": {
            "text/plain": [
              "(54, 1)"
            ]
          },
          "metadata": {},
          "execution_count": 47
        },
        {
          "output_type": "execute_result",
          "data": {
            "text/plain": [
              "BaggingClassifier(base_estimator=DecisionTreeClassifier(class_weight='balanced',\n",
              "                                                        criterion='entropy',\n",
              "                                                        max_features='auto',\n",
              "                                                        min_weight_fraction_leaf=0.05),\n",
              "                  max_features=0.99, n_estimators=50)"
            ],
            "text/html": [
              "<style>#sk-container-id-6 {color: black;background-color: white;}#sk-container-id-6 pre{padding: 0;}#sk-container-id-6 div.sk-toggleable {background-color: white;}#sk-container-id-6 label.sk-toggleable__label {cursor: pointer;display: block;width: 100%;margin-bottom: 0;padding: 0.3em;box-sizing: border-box;text-align: center;}#sk-container-id-6 label.sk-toggleable__label-arrow:before {content: \"▸\";float: left;margin-right: 0.25em;color: #696969;}#sk-container-id-6 label.sk-toggleable__label-arrow:hover:before {color: black;}#sk-container-id-6 div.sk-estimator:hover label.sk-toggleable__label-arrow:before {color: black;}#sk-container-id-6 div.sk-toggleable__content {max-height: 0;max-width: 0;overflow: hidden;text-align: left;background-color: #f0f8ff;}#sk-container-id-6 div.sk-toggleable__content pre {margin: 0.2em;color: black;border-radius: 0.25em;background-color: #f0f8ff;}#sk-container-id-6 input.sk-toggleable__control:checked~div.sk-toggleable__content {max-height: 200px;max-width: 100%;overflow: auto;}#sk-container-id-6 input.sk-toggleable__control:checked~label.sk-toggleable__label-arrow:before {content: \"▾\";}#sk-container-id-6 div.sk-estimator input.sk-toggleable__control:checked~label.sk-toggleable__label {background-color: #d4ebff;}#sk-container-id-6 div.sk-label input.sk-toggleable__control:checked~label.sk-toggleable__label {background-color: #d4ebff;}#sk-container-id-6 input.sk-hidden--visually {border: 0;clip: rect(1px 1px 1px 1px);clip: rect(1px, 1px, 1px, 1px);height: 1px;margin: -1px;overflow: hidden;padding: 0;position: absolute;width: 1px;}#sk-container-id-6 div.sk-estimator {font-family: monospace;background-color: #f0f8ff;border: 1px dotted black;border-radius: 0.25em;box-sizing: border-box;margin-bottom: 0.5em;}#sk-container-id-6 div.sk-estimator:hover {background-color: #d4ebff;}#sk-container-id-6 div.sk-parallel-item::after {content: \"\";width: 100%;border-bottom: 1px solid gray;flex-grow: 1;}#sk-container-id-6 div.sk-label:hover label.sk-toggleable__label {background-color: #d4ebff;}#sk-container-id-6 div.sk-serial::before {content: \"\";position: absolute;border-left: 1px solid gray;box-sizing: border-box;top: 0;bottom: 0;left: 50%;z-index: 0;}#sk-container-id-6 div.sk-serial {display: flex;flex-direction: column;align-items: center;background-color: white;padding-right: 0.2em;padding-left: 0.2em;position: relative;}#sk-container-id-6 div.sk-item {position: relative;z-index: 1;}#sk-container-id-6 div.sk-parallel {display: flex;align-items: stretch;justify-content: center;background-color: white;position: relative;}#sk-container-id-6 div.sk-item::before, #sk-container-id-6 div.sk-parallel-item::before {content: \"\";position: absolute;border-left: 1px solid gray;box-sizing: border-box;top: 0;bottom: 0;left: 50%;z-index: -1;}#sk-container-id-6 div.sk-parallel-item {display: flex;flex-direction: column;z-index: 1;position: relative;background-color: white;}#sk-container-id-6 div.sk-parallel-item:first-child::after {align-self: flex-end;width: 50%;}#sk-container-id-6 div.sk-parallel-item:last-child::after {align-self: flex-start;width: 50%;}#sk-container-id-6 div.sk-parallel-item:only-child::after {width: 0;}#sk-container-id-6 div.sk-dashed-wrapped {border: 1px dashed gray;margin: 0 0.4em 0.5em 0.4em;box-sizing: border-box;padding-bottom: 0.4em;background-color: white;}#sk-container-id-6 div.sk-label label {font-family: monospace;font-weight: bold;display: inline-block;line-height: 1.2em;}#sk-container-id-6 div.sk-label-container {text-align: center;}#sk-container-id-6 div.sk-container {/* jupyter's `normalize.less` sets `[hidden] { display: none; }` but bootstrap.min.css set `[hidden] { display: none !important; }` so we also need the `!important` here to be able to override the default hidden behavior on the sphinx rendered scikit-learn.org. See: https://github.com/scikit-learn/scikit-learn/issues/21755 */display: inline-block !important;position: relative;}#sk-container-id-6 div.sk-text-repr-fallback {display: none;}</style><div id=\"sk-container-id-6\" class=\"sk-top-container\"><div class=\"sk-text-repr-fallback\"><pre>BaggingClassifier(base_estimator=DecisionTreeClassifier(class_weight=&#x27;balanced&#x27;,\n",
              "                                                        criterion=&#x27;entropy&#x27;,\n",
              "                                                        max_features=&#x27;auto&#x27;,\n",
              "                                                        min_weight_fraction_leaf=0.05),\n",
              "                  max_features=0.99, n_estimators=50)</pre><b>In a Jupyter environment, please rerun this cell to show the HTML representation or trust the notebook. <br />On GitHub, the HTML representation is unable to render, please try loading this page with nbviewer.org.</b></div><div class=\"sk-container\" hidden><div class=\"sk-item sk-dashed-wrapped\"><div class=\"sk-label-container\"><div class=\"sk-label sk-toggleable\"><input class=\"sk-toggleable__control sk-hidden--visually\" id=\"sk-estimator-id-8\" type=\"checkbox\" ><label for=\"sk-estimator-id-8\" class=\"sk-toggleable__label sk-toggleable__label-arrow\">BaggingClassifier</label><div class=\"sk-toggleable__content\"><pre>BaggingClassifier(base_estimator=DecisionTreeClassifier(class_weight=&#x27;balanced&#x27;,\n",
              "                                                        criterion=&#x27;entropy&#x27;,\n",
              "                                                        max_features=&#x27;auto&#x27;,\n",
              "                                                        min_weight_fraction_leaf=0.05),\n",
              "                  max_features=0.99, n_estimators=50)</pre></div></div></div><div class=\"sk-parallel\"><div class=\"sk-parallel-item\"><div class=\"sk-item\"><div class=\"sk-label-container\"><div class=\"sk-label sk-toggleable\"><input class=\"sk-toggleable__control sk-hidden--visually\" id=\"sk-estimator-id-9\" type=\"checkbox\" ><label for=\"sk-estimator-id-9\" class=\"sk-toggleable__label sk-toggleable__label-arrow\">base_estimator: DecisionTreeClassifier</label><div class=\"sk-toggleable__content\"><pre>DecisionTreeClassifier(class_weight=&#x27;balanced&#x27;, criterion=&#x27;entropy&#x27;,\n",
              "                       max_features=&#x27;auto&#x27;, min_weight_fraction_leaf=0.05)</pre></div></div></div><div class=\"sk-serial\"><div class=\"sk-item\"><div class=\"sk-estimator sk-toggleable\"><input class=\"sk-toggleable__control sk-hidden--visually\" id=\"sk-estimator-id-10\" type=\"checkbox\" ><label for=\"sk-estimator-id-10\" class=\"sk-toggleable__label sk-toggleable__label-arrow\">DecisionTreeClassifier</label><div class=\"sk-toggleable__content\"><pre>DecisionTreeClassifier(class_weight=&#x27;balanced&#x27;, criterion=&#x27;entropy&#x27;,\n",
              "                       max_features=&#x27;auto&#x27;, min_weight_fraction_leaf=0.05)</pre></div></div></div></div></div></div></div></div></div></div>"
            ]
          },
          "metadata": {},
          "execution_count": 47
        },
        {
          "output_type": "execute_result",
          "data": {
            "text/plain": [
              "(54, 5)"
            ]
          },
          "metadata": {},
          "execution_count": 47
        },
        {
          "output_type": "execute_result",
          "data": {
            "text/plain": [
              "(54, 1)"
            ]
          },
          "metadata": {},
          "execution_count": 47
        },
        {
          "output_type": "execute_result",
          "data": {
            "text/plain": [
              "BaggingClassifier(base_estimator=DecisionTreeClassifier(class_weight='balanced',\n",
              "                                                        criterion='entropy',\n",
              "                                                        max_features='auto',\n",
              "                                                        min_weight_fraction_leaf=0.05),\n",
              "                  max_features=0.99, n_estimators=50)"
            ],
            "text/html": [
              "<style>#sk-container-id-7 {color: black;background-color: white;}#sk-container-id-7 pre{padding: 0;}#sk-container-id-7 div.sk-toggleable {background-color: white;}#sk-container-id-7 label.sk-toggleable__label {cursor: pointer;display: block;width: 100%;margin-bottom: 0;padding: 0.3em;box-sizing: border-box;text-align: center;}#sk-container-id-7 label.sk-toggleable__label-arrow:before {content: \"▸\";float: left;margin-right: 0.25em;color: #696969;}#sk-container-id-7 label.sk-toggleable__label-arrow:hover:before {color: black;}#sk-container-id-7 div.sk-estimator:hover label.sk-toggleable__label-arrow:before {color: black;}#sk-container-id-7 div.sk-toggleable__content {max-height: 0;max-width: 0;overflow: hidden;text-align: left;background-color: #f0f8ff;}#sk-container-id-7 div.sk-toggleable__content pre {margin: 0.2em;color: black;border-radius: 0.25em;background-color: #f0f8ff;}#sk-container-id-7 input.sk-toggleable__control:checked~div.sk-toggleable__content {max-height: 200px;max-width: 100%;overflow: auto;}#sk-container-id-7 input.sk-toggleable__control:checked~label.sk-toggleable__label-arrow:before {content: \"▾\";}#sk-container-id-7 div.sk-estimator input.sk-toggleable__control:checked~label.sk-toggleable__label {background-color: #d4ebff;}#sk-container-id-7 div.sk-label input.sk-toggleable__control:checked~label.sk-toggleable__label {background-color: #d4ebff;}#sk-container-id-7 input.sk-hidden--visually {border: 0;clip: rect(1px 1px 1px 1px);clip: rect(1px, 1px, 1px, 1px);height: 1px;margin: -1px;overflow: hidden;padding: 0;position: absolute;width: 1px;}#sk-container-id-7 div.sk-estimator {font-family: monospace;background-color: #f0f8ff;border: 1px dotted black;border-radius: 0.25em;box-sizing: border-box;margin-bottom: 0.5em;}#sk-container-id-7 div.sk-estimator:hover {background-color: #d4ebff;}#sk-container-id-7 div.sk-parallel-item::after {content: \"\";width: 100%;border-bottom: 1px solid gray;flex-grow: 1;}#sk-container-id-7 div.sk-label:hover label.sk-toggleable__label {background-color: #d4ebff;}#sk-container-id-7 div.sk-serial::before {content: \"\";position: absolute;border-left: 1px solid gray;box-sizing: border-box;top: 0;bottom: 0;left: 50%;z-index: 0;}#sk-container-id-7 div.sk-serial {display: flex;flex-direction: column;align-items: center;background-color: white;padding-right: 0.2em;padding-left: 0.2em;position: relative;}#sk-container-id-7 div.sk-item {position: relative;z-index: 1;}#sk-container-id-7 div.sk-parallel {display: flex;align-items: stretch;justify-content: center;background-color: white;position: relative;}#sk-container-id-7 div.sk-item::before, #sk-container-id-7 div.sk-parallel-item::before {content: \"\";position: absolute;border-left: 1px solid gray;box-sizing: border-box;top: 0;bottom: 0;left: 50%;z-index: -1;}#sk-container-id-7 div.sk-parallel-item {display: flex;flex-direction: column;z-index: 1;position: relative;background-color: white;}#sk-container-id-7 div.sk-parallel-item:first-child::after {align-self: flex-end;width: 50%;}#sk-container-id-7 div.sk-parallel-item:last-child::after {align-self: flex-start;width: 50%;}#sk-container-id-7 div.sk-parallel-item:only-child::after {width: 0;}#sk-container-id-7 div.sk-dashed-wrapped {border: 1px dashed gray;margin: 0 0.4em 0.5em 0.4em;box-sizing: border-box;padding-bottom: 0.4em;background-color: white;}#sk-container-id-7 div.sk-label label {font-family: monospace;font-weight: bold;display: inline-block;line-height: 1.2em;}#sk-container-id-7 div.sk-label-container {text-align: center;}#sk-container-id-7 div.sk-container {/* jupyter's `normalize.less` sets `[hidden] { display: none; }` but bootstrap.min.css set `[hidden] { display: none !important; }` so we also need the `!important` here to be able to override the default hidden behavior on the sphinx rendered scikit-learn.org. See: https://github.com/scikit-learn/scikit-learn/issues/21755 */display: inline-block !important;position: relative;}#sk-container-id-7 div.sk-text-repr-fallback {display: none;}</style><div id=\"sk-container-id-7\" class=\"sk-top-container\"><div class=\"sk-text-repr-fallback\"><pre>BaggingClassifier(base_estimator=DecisionTreeClassifier(class_weight=&#x27;balanced&#x27;,\n",
              "                                                        criterion=&#x27;entropy&#x27;,\n",
              "                                                        max_features=&#x27;auto&#x27;,\n",
              "                                                        min_weight_fraction_leaf=0.05),\n",
              "                  max_features=0.99, n_estimators=50)</pre><b>In a Jupyter environment, please rerun this cell to show the HTML representation or trust the notebook. <br />On GitHub, the HTML representation is unable to render, please try loading this page with nbviewer.org.</b></div><div class=\"sk-container\" hidden><div class=\"sk-item sk-dashed-wrapped\"><div class=\"sk-label-container\"><div class=\"sk-label sk-toggleable\"><input class=\"sk-toggleable__control sk-hidden--visually\" id=\"sk-estimator-id-11\" type=\"checkbox\" ><label for=\"sk-estimator-id-11\" class=\"sk-toggleable__label sk-toggleable__label-arrow\">BaggingClassifier</label><div class=\"sk-toggleable__content\"><pre>BaggingClassifier(base_estimator=DecisionTreeClassifier(class_weight=&#x27;balanced&#x27;,\n",
              "                                                        criterion=&#x27;entropy&#x27;,\n",
              "                                                        max_features=&#x27;auto&#x27;,\n",
              "                                                        min_weight_fraction_leaf=0.05),\n",
              "                  max_features=0.99, n_estimators=50)</pre></div></div></div><div class=\"sk-parallel\"><div class=\"sk-parallel-item\"><div class=\"sk-item\"><div class=\"sk-label-container\"><div class=\"sk-label sk-toggleable\"><input class=\"sk-toggleable__control sk-hidden--visually\" id=\"sk-estimator-id-12\" type=\"checkbox\" ><label for=\"sk-estimator-id-12\" class=\"sk-toggleable__label sk-toggleable__label-arrow\">base_estimator: DecisionTreeClassifier</label><div class=\"sk-toggleable__content\"><pre>DecisionTreeClassifier(class_weight=&#x27;balanced&#x27;, criterion=&#x27;entropy&#x27;,\n",
              "                       max_features=&#x27;auto&#x27;, min_weight_fraction_leaf=0.05)</pre></div></div></div><div class=\"sk-serial\"><div class=\"sk-item\"><div class=\"sk-estimator sk-toggleable\"><input class=\"sk-toggleable__control sk-hidden--visually\" id=\"sk-estimator-id-13\" type=\"checkbox\" ><label for=\"sk-estimator-id-13\" class=\"sk-toggleable__label sk-toggleable__label-arrow\">DecisionTreeClassifier</label><div class=\"sk-toggleable__content\"><pre>DecisionTreeClassifier(class_weight=&#x27;balanced&#x27;, criterion=&#x27;entropy&#x27;,\n",
              "                       max_features=&#x27;auto&#x27;, min_weight_fraction_leaf=0.05)</pre></div></div></div></div></div></div></div></div></div></div>"
            ]
          },
          "metadata": {},
          "execution_count": 47
        },
        {
          "output_type": "execute_result",
          "data": {
            "text/plain": [
              "(54, 5)"
            ]
          },
          "metadata": {},
          "execution_count": 47
        },
        {
          "output_type": "execute_result",
          "data": {
            "text/plain": [
              "(54, 1)"
            ]
          },
          "metadata": {},
          "execution_count": 47
        },
        {
          "output_type": "execute_result",
          "data": {
            "text/plain": [
              "BaggingClassifier(base_estimator=DecisionTreeClassifier(class_weight='balanced',\n",
              "                                                        criterion='entropy',\n",
              "                                                        max_features='auto',\n",
              "                                                        min_weight_fraction_leaf=0.05),\n",
              "                  max_features=0.99, n_estimators=50)"
            ],
            "text/html": [
              "<style>#sk-container-id-8 {color: black;background-color: white;}#sk-container-id-8 pre{padding: 0;}#sk-container-id-8 div.sk-toggleable {background-color: white;}#sk-container-id-8 label.sk-toggleable__label {cursor: pointer;display: block;width: 100%;margin-bottom: 0;padding: 0.3em;box-sizing: border-box;text-align: center;}#sk-container-id-8 label.sk-toggleable__label-arrow:before {content: \"▸\";float: left;margin-right: 0.25em;color: #696969;}#sk-container-id-8 label.sk-toggleable__label-arrow:hover:before {color: black;}#sk-container-id-8 div.sk-estimator:hover label.sk-toggleable__label-arrow:before {color: black;}#sk-container-id-8 div.sk-toggleable__content {max-height: 0;max-width: 0;overflow: hidden;text-align: left;background-color: #f0f8ff;}#sk-container-id-8 div.sk-toggleable__content pre {margin: 0.2em;color: black;border-radius: 0.25em;background-color: #f0f8ff;}#sk-container-id-8 input.sk-toggleable__control:checked~div.sk-toggleable__content {max-height: 200px;max-width: 100%;overflow: auto;}#sk-container-id-8 input.sk-toggleable__control:checked~label.sk-toggleable__label-arrow:before {content: \"▾\";}#sk-container-id-8 div.sk-estimator input.sk-toggleable__control:checked~label.sk-toggleable__label {background-color: #d4ebff;}#sk-container-id-8 div.sk-label input.sk-toggleable__control:checked~label.sk-toggleable__label {background-color: #d4ebff;}#sk-container-id-8 input.sk-hidden--visually {border: 0;clip: rect(1px 1px 1px 1px);clip: rect(1px, 1px, 1px, 1px);height: 1px;margin: -1px;overflow: hidden;padding: 0;position: absolute;width: 1px;}#sk-container-id-8 div.sk-estimator {font-family: monospace;background-color: #f0f8ff;border: 1px dotted black;border-radius: 0.25em;box-sizing: border-box;margin-bottom: 0.5em;}#sk-container-id-8 div.sk-estimator:hover {background-color: #d4ebff;}#sk-container-id-8 div.sk-parallel-item::after {content: \"\";width: 100%;border-bottom: 1px solid gray;flex-grow: 1;}#sk-container-id-8 div.sk-label:hover label.sk-toggleable__label {background-color: #d4ebff;}#sk-container-id-8 div.sk-serial::before {content: \"\";position: absolute;border-left: 1px solid gray;box-sizing: border-box;top: 0;bottom: 0;left: 50%;z-index: 0;}#sk-container-id-8 div.sk-serial {display: flex;flex-direction: column;align-items: center;background-color: white;padding-right: 0.2em;padding-left: 0.2em;position: relative;}#sk-container-id-8 div.sk-item {position: relative;z-index: 1;}#sk-container-id-8 div.sk-parallel {display: flex;align-items: stretch;justify-content: center;background-color: white;position: relative;}#sk-container-id-8 div.sk-item::before, #sk-container-id-8 div.sk-parallel-item::before {content: \"\";position: absolute;border-left: 1px solid gray;box-sizing: border-box;top: 0;bottom: 0;left: 50%;z-index: -1;}#sk-container-id-8 div.sk-parallel-item {display: flex;flex-direction: column;z-index: 1;position: relative;background-color: white;}#sk-container-id-8 div.sk-parallel-item:first-child::after {align-self: flex-end;width: 50%;}#sk-container-id-8 div.sk-parallel-item:last-child::after {align-self: flex-start;width: 50%;}#sk-container-id-8 div.sk-parallel-item:only-child::after {width: 0;}#sk-container-id-8 div.sk-dashed-wrapped {border: 1px dashed gray;margin: 0 0.4em 0.5em 0.4em;box-sizing: border-box;padding-bottom: 0.4em;background-color: white;}#sk-container-id-8 div.sk-label label {font-family: monospace;font-weight: bold;display: inline-block;line-height: 1.2em;}#sk-container-id-8 div.sk-label-container {text-align: center;}#sk-container-id-8 div.sk-container {/* jupyter's `normalize.less` sets `[hidden] { display: none; }` but bootstrap.min.css set `[hidden] { display: none !important; }` so we also need the `!important` here to be able to override the default hidden behavior on the sphinx rendered scikit-learn.org. See: https://github.com/scikit-learn/scikit-learn/issues/21755 */display: inline-block !important;position: relative;}#sk-container-id-8 div.sk-text-repr-fallback {display: none;}</style><div id=\"sk-container-id-8\" class=\"sk-top-container\"><div class=\"sk-text-repr-fallback\"><pre>BaggingClassifier(base_estimator=DecisionTreeClassifier(class_weight=&#x27;balanced&#x27;,\n",
              "                                                        criterion=&#x27;entropy&#x27;,\n",
              "                                                        max_features=&#x27;auto&#x27;,\n",
              "                                                        min_weight_fraction_leaf=0.05),\n",
              "                  max_features=0.99, n_estimators=50)</pre><b>In a Jupyter environment, please rerun this cell to show the HTML representation or trust the notebook. <br />On GitHub, the HTML representation is unable to render, please try loading this page with nbviewer.org.</b></div><div class=\"sk-container\" hidden><div class=\"sk-item sk-dashed-wrapped\"><div class=\"sk-label-container\"><div class=\"sk-label sk-toggleable\"><input class=\"sk-toggleable__control sk-hidden--visually\" id=\"sk-estimator-id-14\" type=\"checkbox\" ><label for=\"sk-estimator-id-14\" class=\"sk-toggleable__label sk-toggleable__label-arrow\">BaggingClassifier</label><div class=\"sk-toggleable__content\"><pre>BaggingClassifier(base_estimator=DecisionTreeClassifier(class_weight=&#x27;balanced&#x27;,\n",
              "                                                        criterion=&#x27;entropy&#x27;,\n",
              "                                                        max_features=&#x27;auto&#x27;,\n",
              "                                                        min_weight_fraction_leaf=0.05),\n",
              "                  max_features=0.99, n_estimators=50)</pre></div></div></div><div class=\"sk-parallel\"><div class=\"sk-parallel-item\"><div class=\"sk-item\"><div class=\"sk-label-container\"><div class=\"sk-label sk-toggleable\"><input class=\"sk-toggleable__control sk-hidden--visually\" id=\"sk-estimator-id-15\" type=\"checkbox\" ><label for=\"sk-estimator-id-15\" class=\"sk-toggleable__label sk-toggleable__label-arrow\">base_estimator: DecisionTreeClassifier</label><div class=\"sk-toggleable__content\"><pre>DecisionTreeClassifier(class_weight=&#x27;balanced&#x27;, criterion=&#x27;entropy&#x27;,\n",
              "                       max_features=&#x27;auto&#x27;, min_weight_fraction_leaf=0.05)</pre></div></div></div><div class=\"sk-serial\"><div class=\"sk-item\"><div class=\"sk-estimator sk-toggleable\"><input class=\"sk-toggleable__control sk-hidden--visually\" id=\"sk-estimator-id-16\" type=\"checkbox\" ><label for=\"sk-estimator-id-16\" class=\"sk-toggleable__label sk-toggleable__label-arrow\">DecisionTreeClassifier</label><div class=\"sk-toggleable__content\"><pre>DecisionTreeClassifier(class_weight=&#x27;balanced&#x27;, criterion=&#x27;entropy&#x27;,\n",
              "                       max_features=&#x27;auto&#x27;, min_weight_fraction_leaf=0.05)</pre></div></div></div></div></div></div></div></div></div></div>"
            ]
          },
          "metadata": {},
          "execution_count": 47
        },
        {
          "output_type": "execute_result",
          "data": {
            "text/plain": [
              "array([ 0.68151809, -0.21468898, -0.02544191,  0.35736059])"
            ]
          },
          "metadata": {},
          "execution_count": 47
        }
      ]
    },
    {
      "cell_type": "code",
      "source": [
        "pd.Series(Sharpe_Ratio).describe()"
      ],
      "metadata": {
        "colab": {
          "base_uri": "https://localhost:8080/"
        },
        "id": "lcLtcf068_t2",
        "outputId": "4e455d49-9d10-495e-82b4-a444648857ca"
      },
      "execution_count": 48,
      "outputs": [
        {
          "output_type": "execute_result",
          "data": {
            "text/plain": [
              "count    4.000000\n",
              "mean     0.199687\n",
              "std      0.399755\n",
              "min     -0.214689\n",
              "25%     -0.072754\n",
              "50%      0.165959\n",
              "75%      0.438400\n",
              "max      0.681518\n",
              "dtype: float64"
            ]
          },
          "metadata": {},
          "execution_count": 48
        }
      ]
    },
    {
      "cell_type": "code",
      "source": [],
      "metadata": {
        "id": "gBtJMhPJF5Wn"
      },
      "execution_count": 48,
      "outputs": []
    }
  ]
}