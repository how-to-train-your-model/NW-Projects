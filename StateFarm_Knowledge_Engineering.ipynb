{
  "nbformat": 4,
  "nbformat_minor": 0,
  "metadata": {
    "colab": {
      "name": "StateFarm_Knowledge_Engineering.ipynb",
      "provenance": [],
      "collapsed_sections": [],
      "authorship_tag": "ABX9TyMwtq3yNPOcXW8GIVj7xc0I",
      "include_colab_link": true
    },
    "kernelspec": {
      "name": "python3",
      "display_name": "Python 3"
    },
    "language_info": {
      "name": "python"
    }
  },
  "cells": [
    {
      "cell_type": "markdown",
      "metadata": {
        "id": "view-in-github",
        "colab_type": "text"
      },
      "source": [
        "<a href=\"https://colab.research.google.com/github/how-to-train-your-model/data-science-portfolio/blob/main/StateFarm_Knowledge_Engineering.ipynb\" target=\"_parent\"><img src=\"https://colab.research.google.com/assets/colab-badge.svg\" alt=\"Open In Colab\"/></a>"
      ]
    },
    {
      "cell_type": "code",
      "source": [
        "!pip install -r requirements.txt\n",
        "import warnings\n",
        "import pandas as pd\n",
        "warnings.filterwarnings('ignore')\n",
        "# Allows for muliple output in one cell window\n",
        "from IPython.core.interactiveshell import InteractiveShell\n",
        "InteractiveShell.ast_node_interactivity = \"all\"\n",
        "\n",
        "#Allows for viewing the complete data in a single window \n",
        "pd.set_option('display.max_rows', 500)\n",
        "pd.set_option('display.max_columns', 500)\n",
        "pd.set_option('display.width', 1000)"
      ],
      "metadata": {
        "colab": {
          "base_uri": "https://localhost:8080/"
        },
        "id": "HY7LRSKCwpUJ",
        "outputId": "5e695162-9c06-4da7-ebd0-945d99e008a0"
      },
      "execution_count": 1,
      "outputs": [
        {
          "output_type": "stream",
          "name": "stdout",
          "text": [
            "Requirement already satisfied: wikipedia-api==0.5.4 in /usr/local/lib/python3.7/dist-packages (from -r requirements.txt (line 1)) (0.5.4)\n",
            "Requirement already satisfied: pandas in /usr/local/lib/python3.7/dist-packages (from -r requirements.txt (line 2)) (1.3.5)\n",
            "Requirement already satisfied: tqdm in /usr/local/lib/python3.7/dist-packages (from -r requirements.txt (line 3)) (4.64.0)\n",
            "Requirement already satisfied: html5lib in /usr/local/lib/python3.7/dist-packages (from -r requirements.txt (line 4)) (1.0.1)\n",
            "Requirement already satisfied: lxml in /usr/local/lib/python3.7/dist-packages (from -r requirements.txt (line 5)) (4.2.6)\n",
            "Requirement already satisfied: requests in /usr/local/lib/python3.7/dist-packages (from wikipedia-api==0.5.4->-r requirements.txt (line 1)) (2.23.0)\n",
            "Requirement already satisfied: pytz>=2017.3 in /usr/local/lib/python3.7/dist-packages (from pandas->-r requirements.txt (line 2)) (2022.1)\n",
            "Requirement already satisfied: python-dateutil>=2.7.3 in /usr/local/lib/python3.7/dist-packages (from pandas->-r requirements.txt (line 2)) (2.8.2)\n",
            "Requirement already satisfied: numpy>=1.17.3 in /usr/local/lib/python3.7/dist-packages (from pandas->-r requirements.txt (line 2)) (1.21.6)\n",
            "Requirement already satisfied: six>=1.5 in /usr/local/lib/python3.7/dist-packages (from python-dateutil>=2.7.3->pandas->-r requirements.txt (line 2)) (1.15.0)\n",
            "Requirement already satisfied: webencodings in /usr/local/lib/python3.7/dist-packages (from html5lib->-r requirements.txt (line 4)) (0.5.1)\n",
            "Requirement already satisfied: certifi>=2017.4.17 in /usr/local/lib/python3.7/dist-packages (from requests->wikipedia-api==0.5.4->-r requirements.txt (line 1)) (2021.10.8)\n",
            "Requirement already satisfied: chardet<4,>=3.0.2 in /usr/local/lib/python3.7/dist-packages (from requests->wikipedia-api==0.5.4->-r requirements.txt (line 1)) (3.0.4)\n",
            "Requirement already satisfied: idna<3,>=2.5 in /usr/local/lib/python3.7/dist-packages (from requests->wikipedia-api==0.5.4->-r requirements.txt (line 1)) (2.10)\n",
            "Requirement already satisfied: urllib3!=1.25.0,!=1.25.1,<1.26,>=1.21.1 in /usr/local/lib/python3.7/dist-packages (from requests->wikipedia-api==0.5.4->-r requirements.txt (line 1)) (1.24.3)\n"
          ]
        }
      ]
    },
    {
      "cell_type": "code",
      "source": [
        "import json\n",
        "from sourceLists import buyerList, competitorList, newEntrantList, supplierList\n",
        "import wikipedia as wiki\n",
        "import wikiInfobox as infobox"
      ],
      "metadata": {
        "id": "_0hzt9VXtb4V"
      },
      "execution_count": 2,
      "outputs": []
    },
    {
      "cell_type": "code",
      "source": [
        "\n",
        "\n",
        "\n",
        "# def get_company_info(url):\n",
        "#     # ask user to tell us who that url is for\n",
        "#     co_name = input(f'Please enter a name for {url}: ')\n",
        "\n",
        "#     # check for wiki\n",
        "#     page_name = wiki.check_for_wiki(co_name)\n",
        "#     if not page_name:\n",
        "#         # set these in cases wiki not found\n",
        "#         founded = \"\"\n",
        "#         num_emp = \"\"\n",
        "#         name = co_name\n",
        "#     else:\n",
        "#         name = page_name.title\n",
        "#         # if wiki exists get some info about the company\n",
        "#         # TODO: CLEAN THESE BABIES UP\n",
        "#         # print(\"fullurl: \", page_name.fullurl)\n",
        "#         founded = infobox.get_founded(page_name.fullurl)\n",
        "#         # print(founded)\n",
        "#         num_emp = infobox.get_emp(page_name.fullurl)\n",
        "\n",
        "#     company_json = {\n",
        "#         \"type\": \"company\",\n",
        "#         \"name\": name,\n",
        "#         \"url\": url,\n",
        "#         \"attributes\": {\n",
        "#             \"founded\": founded,\n",
        "#             \"numberEmployees\": num_emp,\n",
        "#         }\n",
        "#     }\n",
        "#     return company_json\n",
        "\n",
        "\n",
        "# if __name__ == '__main__':\n",
        "#     # create the company objects\n",
        "#     # TODO: add a check to see if the nodes file already includes this company so we don't loop through the whole\n",
        "#     #  list when we iterate\n",
        "#     # buyers\n",
        "#     for buyer in buyerList.buyer_list:\n",
        "#         json_buyer = get_company_info(buyer)\n",
        "#         with open('StateFarm-nodes-company.jl', 'a') as f:\n",
        "#             f.write(json.dumps(json_buyer) + '\\n')\n",
        "#     # competitors\n",
        "#     for competitor in competitorList.competitor_list:\n",
        "#         json_competitor = get_company_info(competitor)\n",
        "#         with open('StateFarm-nodes-company.jl', 'a') as f:\n",
        "#             f.write(json.dumps(json_competitor) + '\\n')\n",
        "#     # potential new entrants\n",
        "#     for ne in newEntrantList.new_entrants_list:\n",
        "#         json_ne = get_company_info(ne)\n",
        "#         with open('StateFarm-nodes-company.jl', 'a') as f:\n",
        "#             f.write(json.dumps(json_ne) + '\\n')\n",
        "#     # other companies\n",
        "#     # for other in otherUrlList.other_url_list:\n",
        "#     #     json_other = get_company_info(other)\n",
        "#     #     with open('StateFarm-nodes-company.jl', 'a') as f:\n",
        "#     #         f.write(json.dumps(json_other) + '\\n')\n",
        "#     # substitutes\n",
        "#     # for sub in substituteList.substitute_list:\n",
        "#     #     json_sub = get_company_info(sub)\n",
        "#     #     with open('StateFarm-nodes-company.jl', 'a') as f:\n",
        "#     #         f.write(json.dumps(json_sub) + '\\n')\n",
        "#     # suppliers\n",
        "#     for supplier in supplierList.supplier_list:\n",
        "#         json_supplier = get_company_info(supplier)\n",
        "#         with open('StateFarm-nodes-company.jl', 'a') as f:\n",
        "#             f.write(json.dumps(json_supplier) + '\\n')"
      ],
      "metadata": {
        "id": "Az0bPmmAdtZw"
      },
      "execution_count": 3,
      "outputs": []
    },
    {
      "cell_type": "code",
      "source": [
        "\n",
        "\n",
        "\n",
        "# takes a company url\n",
        "def get_company_info(url):\n",
        "    # ask user to tell us who that url is for\n",
        "    co_name = input(f'Please enter a name for {url}: ')\n",
        "\n",
        "    # check for wiki\n",
        "    page_name = wiki.check_for_wiki(co_name)\n",
        "    if not page_name:\n",
        "        # set these in cases wiki not found\n",
        "        founded = \"\"\n",
        "        num_emp = \"\"\n",
        "        name = co_name\n",
        "    else:\n",
        "        name = page_name.title\n",
        "        # if wiki exists get some info about the company\n",
        "        # TODO: CLEAN THESE BABIES UP\n",
        "        # print(\"fullurl: \", page_name.fullurl)\n",
        "        founded = infobox.get_founded(page_name.fullurl)\n",
        "        # print(founded)\n",
        "        num_emp = infobox.get_emp(page_name.fullurl)\n",
        "        industry = infobox.get_industry(page_name.fullurl)\n",
        "        make_industry(industry, name)\n",
        "\n",
        "    company_json = {\n",
        "        \"type\": \"company\",\n",
        "        \"name\": name,\n",
        "        \"url\": url,\n",
        "        \"attributes\": {\n",
        "            \"founded\": founded,\n",
        "            \"numberEmployees\": num_emp,\n",
        "        }\n",
        "    }\n",
        "    return company_json, name\n",
        "\n",
        "\n",
        "# create edge object\n",
        "# class edge list example has duplicate keys...not sure that's valid json?\n",
        "def get_edge_company(co1, co2, relation):\n",
        "    edge = {\n",
        "        \"company1\": co1,\n",
        "        \"relation\": relation,\n",
        "        \"company2\": co2\n",
        "    }\n",
        "    return edge\n",
        "\n",
        "\n",
        "# create edge object\n",
        "def get_edge_service(co, serv, relation):\n",
        "    edge = {\n",
        "        \"company\": co,\n",
        "        \"relation\": relation,\n",
        "        \"service\": serv\n",
        "    }\n",
        "    return edge\n",
        "\n",
        "\n",
        "# create service object\n",
        "def get_service_info(ser):\n",
        "    service = {\n",
        "        \"type\": \"service\",\n",
        "        \"name\": ser,\n",
        "        \"description\": \"\"\n",
        "    }\n",
        "    return service\n",
        "\n",
        "\n",
        "# create industry object\n",
        "def make_industry(industry, name):\n",
        "    # make industry object\n",
        "    ind = {\n",
        "        \"type\": \"industry\",\n",
        "        \"name\": industry,\n",
        "        \"attributes\": {\n",
        "            \"NAICScode\": \"\",\n",
        "            \"NAICStitle\": \"\",\n",
        "            \"description\": \"\"\n",
        "        }\n",
        "    }\n",
        "    # write industry object\n",
        "    with open('StateFarm-nodes-other.jl', 'a') as file:\n",
        "        file.write(json.dumps(ind) + '\\n')\n",
        "\n",
        "    # create edge\n",
        "    rel = {\n",
        "        \"company\": name,\n",
        "        \"relation\": \"is_in\",\n",
        "        \"industry\": industry\n",
        "    }\n",
        "    with open('StateFarm-edges.jl', 'a') as f:\n",
        "        f.write(json.dumps(rel) + '\\n')\n",
        "\n",
        "\n",
        "if __name__ == '__main__':\n",
        "    # # Ask the user what's up\n",
        "    # while True:\n",
        "    #     try:\n",
        "    #         menu = int(input(f'Press 1 for companies, and 2 for relationships: '))\n",
        "    #     except ValueError:\n",
        "    #         print('Sorry, I didn\\'t understand that. Please try again')\n",
        "    #         continue\n",
        "    #     else:\n",
        "    #         break\n",
        "\n",
        "    # create the company objects\n",
        "    # if menu == 1:\n",
        "    my_co = \"StateFarm\"\n",
        "    # TODO: add a check to see if the nodes file already includes this company so we don't loop through the whole\n",
        "    #  list when we iterate\n",
        "    # buyers\n",
        "    # create advertising node\n",
        "    ads_json = get_service_info('advertising')\n",
        "    with open('StateFarm-nodes-other.jl', 'a') as f:\n",
        "        f.write(json.dumps(ads_json) + '\\n')\n",
        "    # create advertising edge\n",
        "    ads_edge = get_edge_service(my_co, 'advertising', 'sells')\n",
        "    with open('StateFarm-edges.jl', 'a') as f:\n",
        "        f.write(json.dumps(ads_edge) + '\\n')\n",
        "    print('Staring buyers')\n",
        "    for buyer in buyerList.buyer_list:\n",
        "        # create company obj\n",
        "        json_buyer, name = get_company_info(buyer)\n",
        "        with open('StateFarm-nodes-company.jl', 'a') as f:\n",
        "            f.write(json.dumps(json_buyer) + '\\n')\n",
        "        # create service node\n",
        "        # rel = input(f'What service does {name} buy from StateFarm?: ')\n",
        "        # json_service = get_service_info(rel)\n",
        "        # with open('StateFarm-nodes-other.jl', 'a') as f:\n",
        "        #     f.write(json.dumps(json_service) + '\\n')\n",
        "        # create buyer relationship (edge)\n",
        "\n",
        "        # we don't have any other services right now\n",
        "        rel = 'advertising'\n",
        "        buyer_edge = get_edge_service(name, rel, 'buys')\n",
        "        with open('StateFarm-edges.jl', 'a') as f:\n",
        "            f.write(json.dumps(buyer_edge) + '\\n')\n",
        "    # competitors\n",
        "    print('Staring competitors')\n",
        "    for competitor in competitorList.competitor_list:\n",
        "        json_competitor, name = get_company_info(competitor)\n",
        "        with open('StateFarm-nodes-company.jl', 'a') as f:\n",
        "            f.write(json.dumps(json_competitor) + '\\n')\n",
        "        # create edge object\n",
        "        competitor_edge = get_edge_company(my_co, name, 'competes_with')\n",
        "        with open('StateFarm-edges.jl', 'a') as f:\n",
        "            f.write(json.dumps(competitor_edge) + '\\n')\n",
        "    # potential new entrants\n",
        "    print('Staring new entrants')\n",
        "    for ne in newEntrantList.new_entrants_list:\n",
        "        json_ne, name = get_company_info(ne)\n",
        "        with open('StateFarm-nodes-company.jl', 'a') as f:\n",
        "            f.write(json.dumps(json_ne) + '\\n')\n",
        "        # create edge object\n",
        "        ne_edge = get_edge_company(my_co, name, 'has_potential_entrant')\n",
        "        with open('StateFarm-edges.jl', 'a') as f:\n",
        "            f.write(json.dumps(ne_edge) + '\\n')\n",
        "    # StateFarm itself\n",
        "    print('Let us not forget StateFarm')\n",
        "    # for other in otherUrlList.other_url_list:\n",
        "    #     json_other, name = get_company_info(other)\n",
        "    #     with open('StateFarm-nodes-company.jl', 'a') as f:\n",
        "    #         f.write(json.dumps(json_other) + '\\n')\n",
        "    # # substitutes\n",
        "    # print('Staring substitutes')\n",
        "    # for sub in substituteList.substitute_list:\n",
        "    #     json_sub, name = get_company_info(sub)\n",
        "    #     with open('StateFarm-nodes-company.jl', 'a') as f:\n",
        "    #         f.write(json.dumps(json_sub) + '\\n')\n",
        "    #     # create edge object\n",
        "    #     sub_edge = get_edge_company(my_co, name, 'has_substitute')\n",
        "    #     with open('StateFarm-edges.jl', 'a') as f:\n",
        "    #         f.write(json.dumps(sub_edge) + '\\n')\n",
        "    # suppliers\n",
        "    print('Staring suppliers')\n",
        "    for supplier in supplierList.supplier_list:\n",
        "        json_supplier, name = get_company_info(supplier)\n",
        "        with open('StateFarm-nodes-company.jl', 'a') as f:\n",
        "            f.write(json.dumps(json_supplier) + '\\n')\n",
        "\n",
        "# elif menu == 2:\n",
        "#     print(\"menu 2\")\n",
        "#\n",
        "# # leave this place!\n",
        "# else:\n",
        "#     print(\"You didn't chose a valid option. Goodbye\")"
      ],
      "metadata": {
        "colab": {
          "base_uri": "https://localhost:8080/"
        },
        "id": "5oo9Y2C2TXba",
        "outputId": "3cc51cac-2527-4479-f5a8-54b9d3bcf991"
      },
      "execution_count": 4,
      "outputs": [
        {
          "output_type": "execute_result",
          "data": {
            "text/plain": [
              "62"
            ]
          },
          "metadata": {},
          "execution_count": 4
        },
        {
          "output_type": "execute_result",
          "data": {
            "text/plain": [
              "72"
            ]
          },
          "metadata": {},
          "execution_count": 4
        },
        {
          "name": "stdout",
          "output_type": "stream",
          "text": [
            "Staring buyers\n",
            "Please enter a name for https://www.cadillac.com: General Motors\n"
          ]
        },
        {
          "output_type": "execute_result",
          "data": {
            "text/plain": [
              "225"
            ]
          },
          "metadata": {},
          "execution_count": 4
        },
        {
          "output_type": "execute_result",
          "data": {
            "text/plain": [
              "76"
            ]
          },
          "metadata": {},
          "execution_count": 4
        },
        {
          "name": "stdout",
          "output_type": "stream",
          "text": [
            "Please enter a name for https://en.wikipedia.org/wiki/The_Hertz_Corporation: The Hertz Corporation\n"
          ]
        },
        {
          "output_type": "execute_result",
          "data": {
            "text/plain": [
              "243"
            ]
          },
          "metadata": {},
          "execution_count": 4
        },
        {
          "output_type": "execute_result",
          "data": {
            "text/plain": [
              "83"
            ]
          },
          "metadata": {},
          "execution_count": 4
        },
        {
          "name": "stdout",
          "output_type": "stream",
          "text": [
            "Please enter a name for https://en.wikipedia.org/wiki/Chrysler: Chrysler\n"
          ]
        },
        {
          "output_type": "execute_result",
          "data": {
            "text/plain": [
              "205"
            ]
          },
          "metadata": {},
          "execution_count": 4
        },
        {
          "output_type": "execute_result",
          "data": {
            "text/plain": [
              "70"
            ]
          },
          "metadata": {},
          "execution_count": 4
        },
        {
          "name": "stdout",
          "output_type": "stream",
          "text": [
            "Staring competitors\n",
            "Please enter a name for https://www.statefarm.com/: State Farm\n"
          ]
        },
        {
          "output_type": "execute_result",
          "data": {
            "text/plain": [
              "193"
            ]
          },
          "metadata": {},
          "execution_count": 4
        },
        {
          "output_type": "execute_result",
          "data": {
            "text/plain": [
              "81"
            ]
          },
          "metadata": {},
          "execution_count": 4
        },
        {
          "name": "stdout",
          "output_type": "stream",
          "text": [
            "Please enter a name for https://www.berkshirehathaway.com/: Berkshire Hathaway\n"
          ]
        },
        {
          "output_type": "execute_result",
          "data": {
            "text/plain": [
              "230"
            ]
          },
          "metadata": {},
          "execution_count": 4
        },
        {
          "output_type": "execute_result",
          "data": {
            "text/plain": [
              "89"
            ]
          },
          "metadata": {},
          "execution_count": 4
        },
        {
          "name": "stdout",
          "output_type": "stream",
          "text": [
            "Please enter a name for https://www.progressive.com/: Progressive Corporation\n"
          ]
        },
        {
          "output_type": "execute_result",
          "data": {
            "text/plain": [
              "205"
            ]
          },
          "metadata": {},
          "execution_count": 4
        },
        {
          "output_type": "execute_result",
          "data": {
            "text/plain": [
              "94"
            ]
          },
          "metadata": {},
          "execution_count": 4
        },
        {
          "name": "stdout",
          "output_type": "stream",
          "text": [
            "Please enter a name for https://www.libertymutual.com/: Liberty Mutual\n"
          ]
        },
        {
          "output_type": "execute_result",
          "data": {
            "text/plain": [
              "218"
            ]
          },
          "metadata": {},
          "execution_count": 4
        },
        {
          "output_type": "execute_result",
          "data": {
            "text/plain": [
              "85"
            ]
          },
          "metadata": {},
          "execution_count": 4
        },
        {
          "name": "stdout",
          "output_type": "stream",
          "text": [
            "Please enter a name for https://www.allstate.com/: Allstate\n"
          ]
        },
        {
          "output_type": "execute_result",
          "data": {
            "text/plain": [
              "192"
            ]
          },
          "metadata": {},
          "execution_count": 4
        },
        {
          "output_type": "execute_result",
          "data": {
            "text/plain": [
              "79"
            ]
          },
          "metadata": {},
          "execution_count": 4
        },
        {
          "name": "stdout",
          "output_type": "stream",
          "text": [
            "Please enter a name for https://www.travelers.com/: The Travelers Companies\n"
          ]
        },
        {
          "output_type": "execute_result",
          "data": {
            "text/plain": [
              "236"
            ]
          },
          "metadata": {},
          "execution_count": 4
        },
        {
          "output_type": "execute_result",
          "data": {
            "text/plain": [
              "94"
            ]
          },
          "metadata": {},
          "execution_count": 4
        },
        {
          "name": "stdout",
          "output_type": "stream",
          "text": [
            "Please enter a name for https://www.usaa.com/ : USAA\n"
          ]
        },
        {
          "output_type": "execute_result",
          "data": {
            "text/plain": [
              "181"
            ]
          },
          "metadata": {},
          "execution_count": 4
        },
        {
          "output_type": "execute_result",
          "data": {
            "text/plain": [
              "75"
            ]
          },
          "metadata": {},
          "execution_count": 4
        },
        {
          "name": "stdout",
          "output_type": "stream",
          "text": [
            "Please enter a name for https://www.farmers.com/: Farmers Insurance Group\n"
          ]
        },
        {
          "output_type": "execute_result",
          "data": {
            "text/plain": [
              "221"
            ]
          },
          "metadata": {},
          "execution_count": 4
        },
        {
          "output_type": "execute_result",
          "data": {
            "text/plain": [
              "94"
            ]
          },
          "metadata": {},
          "execution_count": 4
        },
        {
          "name": "stdout",
          "output_type": "stream",
          "text": [
            "Please enter a name for https://www.nationwide.com: Nationwide Mutual Insurance Company\n"
          ]
        },
        {
          "output_type": "execute_result",
          "data": {
            "text/plain": [
              "196"
            ]
          },
          "metadata": {},
          "execution_count": 4
        },
        {
          "output_type": "execute_result",
          "data": {
            "text/plain": [
              "106"
            ]
          },
          "metadata": {},
          "execution_count": 4
        },
        {
          "name": "stdout",
          "output_type": "stream",
          "text": [
            "Please enter a name for https://www.aig.com/business: American International Group\n"
          ]
        },
        {
          "output_type": "execute_result",
          "data": {
            "text/plain": [
              "230"
            ]
          },
          "metadata": {},
          "execution_count": 4
        },
        {
          "output_type": "execute_result",
          "data": {
            "text/plain": [
              "99"
            ]
          },
          "metadata": {},
          "execution_count": 4
        },
        {
          "name": "stdout",
          "output_type": "stream",
          "text": [
            "Please enter a name for https://www.zurich.com: Zurich Insurance Group\n"
          ]
        },
        {
          "output_type": "execute_result",
          "data": {
            "text/plain": [
              "191"
            ]
          },
          "metadata": {},
          "execution_count": 4
        },
        {
          "output_type": "execute_result",
          "data": {
            "text/plain": [
              "93"
            ]
          },
          "metadata": {},
          "execution_count": 4
        },
        {
          "name": "stdout",
          "output_type": "stream",
          "text": [
            "Please enter a name for https://www.thehartford.com: The Hartford\n"
          ]
        },
        {
          "output_type": "execute_result",
          "data": {
            "text/plain": [
              "184"
            ]
          },
          "metadata": {},
          "execution_count": 4
        },
        {
          "output_type": "execute_result",
          "data": {
            "text/plain": [
              "83"
            ]
          },
          "metadata": {},
          "execution_count": 4
        },
        {
          "name": "stdout",
          "output_type": "stream",
          "text": [
            "Please enter a name for https://www.assurant.com: Assurant\n"
          ]
        },
        {
          "output_type": "execute_result",
          "data": {
            "text/plain": [
              "193"
            ]
          },
          "metadata": {},
          "execution_count": 4
        },
        {
          "output_type": "execute_result",
          "data": {
            "text/plain": [
              "79"
            ]
          },
          "metadata": {},
          "execution_count": 4
        },
        {
          "name": "stdout",
          "output_type": "stream",
          "text": [
            "Please enter a name for https://www.erieinsurance.com: Erie Insurance Group\n"
          ]
        },
        {
          "output_type": "execute_result",
          "data": {
            "text/plain": [
              "206"
            ]
          },
          "metadata": {},
          "execution_count": 4
        },
        {
          "output_type": "execute_result",
          "data": {
            "text/plain": [
              "91"
            ]
          },
          "metadata": {},
          "execution_count": 4
        },
        {
          "name": "stdout",
          "output_type": "stream",
          "text": [
            "Please enter a name for https://www.fairfax.ca/: Fairfax Financial\n"
          ]
        },
        {
          "output_type": "execute_result",
          "data": {
            "text/plain": [
              "213"
            ]
          },
          "metadata": {},
          "execution_count": 4
        },
        {
          "output_type": "execute_result",
          "data": {
            "text/plain": [
              "88"
            ]
          },
          "metadata": {},
          "execution_count": 4
        },
        {
          "name": "stdout",
          "output_type": "stream",
          "text": [
            "Please enter a name for https://www.berkley.com: W. R. Berkley Corporation\n"
          ]
        },
        {
          "output_type": "execute_result",
          "data": {
            "text/plain": [
              "190"
            ]
          },
          "metadata": {},
          "execution_count": 4
        },
        {
          "output_type": "execute_result",
          "data": {
            "text/plain": [
              "96"
            ]
          },
          "metadata": {},
          "execution_count": 4
        },
        {
          "name": "stdout",
          "output_type": "stream",
          "text": [
            "Please enter a name for https://www.markel.com/: Markel Corporation\n"
          ]
        },
        {
          "output_type": "execute_result",
          "data": {
            "text/plain": [
              "192"
            ]
          },
          "metadata": {},
          "execution_count": 4
        },
        {
          "output_type": "execute_result",
          "data": {
            "text/plain": [
              "89"
            ]
          },
          "metadata": {},
          "execution_count": 4
        },
        {
          "name": "stdout",
          "output_type": "stream",
          "text": [
            "Please enter a name for https://www.axa.com/: Axa\n"
          ]
        },
        {
          "output_type": "execute_result",
          "data": {
            "text/plain": [
              "174"
            ]
          },
          "metadata": {},
          "execution_count": 4
        },
        {
          "output_type": "execute_result",
          "data": {
            "text/plain": [
              "74"
            ]
          },
          "metadata": {},
          "execution_count": 4
        },
        {
          "name": "stdout",
          "output_type": "stream",
          "text": [
            "Please enter a name for https://www.amfam.com: American Family Insurance\n"
          ]
        },
        {
          "output_type": "execute_result",
          "data": {
            "text/plain": [
              "198"
            ]
          },
          "metadata": {},
          "execution_count": 4
        },
        {
          "output_type": "execute_result",
          "data": {
            "text/plain": [
              "96"
            ]
          },
          "metadata": {},
          "execution_count": 4
        },
        {
          "name": "stdout",
          "output_type": "stream",
          "text": [
            "Staring new entrants\n",
            "Please enter a name for https://www.lemonade.com/?f=1: Lemonade, Inc.\n"
          ]
        },
        {
          "output_type": "execute_result",
          "data": {
            "text/plain": [
              "199"
            ]
          },
          "metadata": {},
          "execution_count": 4
        },
        {
          "output_type": "execute_result",
          "data": {
            "text/plain": [
              "93"
            ]
          },
          "metadata": {},
          "execution_count": 4
        },
        {
          "name": "stdout",
          "output_type": "stream",
          "text": [
            "Please enter a name for https://www.joinroot.com/: Root, Inc.\n"
          ]
        },
        {
          "output_type": "execute_result",
          "data": {
            "text/plain": [
              "174"
            ]
          },
          "metadata": {},
          "execution_count": 4
        },
        {
          "output_type": "execute_result",
          "data": {
            "text/plain": [
              "89"
            ]
          },
          "metadata": {},
          "execution_count": 4
        },
        {
          "name": "stdout",
          "output_type": "stream",
          "text": [
            "Let us not forget StateFarm\n",
            "Staring suppliers\n",
            "Please enter a name for https://en.wikipedia.org/wiki/Munich_Re: Munich Re\n"
          ]
        },
        {
          "output_type": "execute_result",
          "data": {
            "text/plain": [
              "206"
            ]
          },
          "metadata": {},
          "execution_count": 4
        },
        {
          "name": "stdout",
          "output_type": "stream",
          "text": [
            "Please enter a name for https://en.wikipedia.org/wiki/Swiss_Re: Swiss Re\n"
          ]
        },
        {
          "output_type": "execute_result",
          "data": {
            "text/plain": [
              "209"
            ]
          },
          "metadata": {},
          "execution_count": 4
        },
        {
          "name": "stdout",
          "output_type": "stream",
          "text": [
            "Please enter a name for https://en.wikipedia.org/wiki/Hannover_Re: Hannover Re\n"
          ]
        },
        {
          "output_type": "execute_result",
          "data": {
            "text/plain": [
              "191"
            ]
          },
          "metadata": {},
          "execution_count": 4
        }
      ]
    }
  ]
}