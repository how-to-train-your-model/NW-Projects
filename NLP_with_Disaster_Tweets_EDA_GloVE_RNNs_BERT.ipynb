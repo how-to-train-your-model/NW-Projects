{
  "cells": [
    {
      "cell_type": "markdown",
      "metadata": {
        "id": "view-in-github",
        "colab_type": "text"
      },
      "source": [
        "<a href=\"https://colab.research.google.com/github/how-to-train-your-model/data-science-portfolio/blob/main/NLP_with_Disaster_Tweets_EDA_GloVE_RNNs_BERT.ipynb\" target=\"_parent\"><img src=\"https://colab.research.google.com/assets/colab-badge.svg\" alt=\"Open In Colab\"/></a>"
      ]
    },
    {
      "cell_type": "markdown",
      "metadata": {
        "papermill": {
          "duration": 0.018432,
          "end_time": "2020-09-05T15:56:03.435858",
          "exception": false,
          "start_time": "2020-09-05T15:56:03.417426",
          "status": "completed"
        },
        "tags": [],
        "id": "MrU00WS5h6Gg"
      },
      "source": [
        "# Real or Not? NLP with Twitter\n",
        "\n",
        "**In this notebook, we will explore natural language processing (NLP) by analyzing 10,000 hand classified tweets. These tweets have been labeled as those about disasters, and those not. As an example, consider two hypothetical tweets:**\n",
        "\n",
        "> That concert last night was FIRE!  \n",
        "> There's a huge forest fire in Malibu right now!!!\n",
        "\n",
        "**Both of these tweets invoke the notion of 'fire' but only the second is about a real natural disaster. Can we train a model to distinguish between the two? Let's find out. If you have any questions or suggestions, please comment below. Enjoy:**"
      ]
    },
    {
      "cell_type": "code",
      "execution_count": 1,
      "metadata": {
        "_cell_guid": "b1076dfc-b9ad-4769-8c92-a6c4dae69d19",
        "_uuid": "8f2839f25d086af736a60e9eeb907d3b93b6e0e5",
        "execution": {
          "iopub.execute_input": "2020-09-05T15:56:03.476823Z",
          "iopub.status.busy": "2020-09-05T15:56:03.476119Z",
          "iopub.status.idle": "2020-09-05T15:56:09.271136Z",
          "shell.execute_reply": "2020-09-05T15:56:09.269906Z"
        },
        "papermill": {
          "duration": 5.818537,
          "end_time": "2020-09-05T15:56:09.271297",
          "exception": false,
          "start_time": "2020-09-05T15:56:03.452760",
          "status": "completed"
        },
        "tags": [],
        "id": "h8xgEl8jh6Gi"
      },
      "outputs": [],
      "source": [
        "#python basics\n",
        "from matplotlib import pyplot as plt\n",
        "import math, os, re, time, random, string\n",
        "import numpy as np, pandas as pd, seaborn as sns\n",
        "\n",
        "#this is just cool\n",
        "from tqdm import tqdm\n",
        "\n",
        "#visualization\n",
        "import matplotlib.pyplot as plt\n",
        "plt.style.use('ggplot')   #for optimum aesthetics \n",
        "import seaborn as sns\n",
        "\n",
        "#natural language processing\n",
        "from collections import defaultdict\n",
        "import wordcloud\n",
        "\n",
        "#ignore warnings because they are annoying\n",
        "import warnings\n",
        "warnings.filterwarnings('ignore')\n",
        "\n",
        "#for neural nets\n",
        "import tensorflow as tf"
      ]
    },
    {
      "cell_type": "markdown",
      "metadata": {
        "papermill": {
          "duration": 0.016704,
          "end_time": "2020-09-05T15:56:09.305906",
          "exception": false,
          "start_time": "2020-09-05T15:56:09.289202",
          "status": "completed"
        },
        "tags": [],
        "id": "ecYRWah9h6Gj"
      },
      "source": [
        "**Before we start, it is good practice to seed everything at the beginning of a project for more reproducible results. We can do this now:**"
      ]
    },
    {
      "cell_type": "code",
      "execution_count": 2,
      "metadata": {
        "execution": {
          "iopub.execute_input": "2020-09-05T15:56:09.364691Z",
          "iopub.status.busy": "2020-09-05T15:56:09.363864Z",
          "iopub.status.idle": "2020-09-05T15:56:09.367527Z",
          "shell.execute_reply": "2020-09-05T15:56:09.368173Z"
        },
        "papermill": {
          "duration": 0.035093,
          "end_time": "2020-09-05T15:56:09.368364",
          "exception": false,
          "start_time": "2020-09-05T15:56:09.333271",
          "status": "completed"
        },
        "tags": [],
        "id": "4Nj5_dimh6Gk"
      },
      "outputs": [],
      "source": [
        "def seed_everything(seed):\n",
        "    os.environ['PYTHONHASHSEED']=str(seed)\n",
        "    tf.random.set_seed(seed)\n",
        "    np.random.seed(seed)\n",
        "    random.seed(seed)\n",
        "    \n",
        "seed_everything(34)"
      ]
    },
    {
      "cell_type": "markdown",
      "metadata": {
        "papermill": {
          "duration": 0.021987,
          "end_time": "2020-09-05T15:56:09.412363",
          "exception": false,
          "start_time": "2020-09-05T15:56:09.390376",
          "status": "completed"
        },
        "tags": [],
        "id": "G9U-NKzlh6Gl"
      },
      "source": [
        "# I. EDA"
      ]
    },
    {
      "cell_type": "code",
      "metadata": {
        "colab": {
          "base_uri": "https://localhost:8080/"
        },
        "id": "sQ4p_aRsEQoh",
        "outputId": "b4ae2778-b8d4-4049-c3a1-27d8161c2423"
      },
      "source": [
        "from google.colab import drive\n",
        "drive.mount('/content/drive')"
      ],
      "execution_count": 3,
      "outputs": [
        {
          "output_type": "stream",
          "name": "stdout",
          "text": [
            "Mounted at /content/drive\n"
          ]
        }
      ]
    },
    {
      "cell_type": "code",
      "metadata": {
        "colab": {
          "base_uri": "https://localhost:8080/"
        },
        "id": "oenwXERTGI1B",
        "outputId": "8707591f-f749-4955-820d-9e10350fda2d"
      },
      "source": [
        "!ls -l \"/content/drive/My Drive/Colab_Notebooks/MSDS-422/W9\""
      ],
      "execution_count": 4,
      "outputs": [
        {
          "output_type": "stream",
          "name": "stdout",
          "text": [
            "total 681011\n",
            "-rw------- 1 root root    841429 Mar  6 03:27  disaster-tweets-eda-glove-rnns-bert.ipynb\n",
            "-rw------- 1 root root 693432828 Sep 28  2019  glove.6B.200d.txt\n",
            "-rw------- 1 root root    730265 Mar  5 14:36  Module9_Assignment1_Group5.ipynb\n",
            "-rw------- 1 root root       143 Mar  6 00:59 'Module 9: Natural Language Processing with Disaster Tweets.gdoc'\n",
            "-rw------- 1 root root    917446 Mar  6 01:01 'Module 9: Natural Language Processing with Disaster Tweets.ipynb'\n",
            "-rw------- 1 root root     22746 Dec 17  2019  sample_submission.csv\n",
            "-rw------- 1 root root    420783 Dec 17  2019  test.csv\n",
            "-rw------- 1 root root    987712 Dec 17  2019  train.csv\n"
          ]
        }
      ]
    },
    {
      "cell_type": "code",
      "metadata": {
        "id": "SLNbE05LLipp"
      },
      "source": [
        "#Generalize the file path \n",
        "w9_files = \"/content/drive/My Drive/Colab_Notebooks/MSDS-422/W9\""
      ],
      "execution_count": 5,
      "outputs": []
    },
    {
      "cell_type": "code",
      "source": [
        "#Create dataframe\n",
        "train = pd.read_csv(w9_files+\"/train.csv\")\n",
        "test = pd.read_csv(w9_files+\"/test.csv\")\n",
        "\n",
        "print(\"Shape of train and test dataset :\" , train.shape ,test.shape)"
      ],
      "metadata": {
        "colab": {
          "base_uri": "https://localhost:8080/"
        },
        "id": "FvfZ7EfT3Ei7",
        "outputId": "dc91f1ed-43ed-458a-9790-fd989dfd56e8"
      },
      "execution_count": 6,
      "outputs": [
        {
          "output_type": "stream",
          "name": "stdout",
          "text": [
            "Shape of train and test dataset : (7613, 5) (3263, 4)\n"
          ]
        }
      ]
    },
    {
      "cell_type": "markdown",
      "metadata": {
        "papermill": {
          "duration": 0.016868,
          "end_time": "2020-09-05T15:56:09.725637",
          "exception": false,
          "start_time": "2020-09-05T15:56:09.708769",
          "status": "completed"
        },
        "tags": [],
        "id": "Zt1QisWOh6Gm"
      },
      "source": [
        "**We see that we have three features in this dataset: keyword, location, and text**\n",
        "\n",
        "**We will save the ID column now for our final submission and combine data sets into a single DataFrame. We can drop location because it is missing too many values to be useful. But keyword contains information that we can add to our text data after filling missing values:**"
      ]
    },
    {
      "cell_type": "code",
      "execution_count": 7,
      "metadata": {
        "execution": {
          "iopub.execute_input": "2020-09-05T15:56:09.781214Z",
          "iopub.status.busy": "2020-09-05T15:56:09.777297Z",
          "iopub.status.idle": "2020-09-05T15:56:09.810960Z",
          "shell.execute_reply": "2020-09-05T15:56:09.810395Z"
        },
        "papermill": {
          "duration": 0.06815,
          "end_time": "2020-09-05T15:56:09.811079",
          "exception": false,
          "start_time": "2020-09-05T15:56:09.742929",
          "status": "completed"
        },
        "tags": [],
        "id": "HRTPYJS4h6Gm"
      },
      "outputs": [],
      "source": [
        "#save ID\n",
        "test_id = test['id']\n",
        "\n",
        "#drop from train and test\n",
        "columns = {'id', 'location'}\n",
        "train = train.drop(columns = columns)\n",
        "test = test.drop(columns = columns)\n",
        "\n",
        "#fill missing with unknown\n",
        "train['keyword'] = train['keyword'].fillna('unknown')\n",
        "test['keyword'] = test['keyword'].fillna('unknown')\n",
        "\n",
        "#add keyword to tweets\n",
        "train['text'] = train['text'] + ' ' + train['keyword']\n",
        "test['text'] = test['text'] + ' ' + test['keyword']\n",
        "\n",
        "#drop fkeyword rom train and test\n",
        "columns = {'keyword'}\n",
        "train = train.drop(columns = columns)\n",
        "test = test.drop(columns = columns)\n",
        "\n",
        "#combine so we work smarter, not harder\n",
        "total = train.append(test)"
      ]
    },
    {
      "cell_type": "code",
      "execution_count": 8,
      "metadata": {
        "execution": {
          "iopub.execute_input": "2020-09-05T15:56:09.856985Z",
          "iopub.status.busy": "2020-09-05T15:56:09.855868Z",
          "iopub.status.idle": "2020-09-05T15:56:09.859880Z",
          "shell.execute_reply": "2020-09-05T15:56:09.857637Z"
        },
        "papermill": {
          "duration": 0.030713,
          "end_time": "2020-09-05T15:56:09.860050",
          "exception": false,
          "start_time": "2020-09-05T15:56:09.829337",
          "status": "completed"
        },
        "tags": [],
        "colab": {
          "base_uri": "https://localhost:8080/"
        },
        "id": "yC8G6Zhmh6Gn",
        "outputId": "2bdcfe88-4d29-4b30-e0f9-3b4b462bf0e6"
      },
      "outputs": [
        {
          "output_type": "stream",
          "name": "stdout",
          "text": [
            "There are 7613 rows in the train set\n",
            "There are 3263 rows in the test set\n"
          ]
        }
      ],
      "source": [
        "print('There are', len(train), 'rows in the train set')\n",
        "print('There are', len(test), 'rows in the test set')"
      ]
    },
    {
      "cell_type": "code",
      "execution_count": 9,
      "metadata": {
        "execution": {
          "iopub.execute_input": "2020-09-05T15:56:09.901186Z",
          "iopub.status.busy": "2020-09-05T15:56:09.900346Z",
          "iopub.status.idle": "2020-09-05T15:56:10.082620Z",
          "shell.execute_reply": "2020-09-05T15:56:10.083266Z"
        },
        "papermill": {
          "duration": 0.205742,
          "end_time": "2020-09-05T15:56:10.083425",
          "exception": false,
          "start_time": "2020-09-05T15:56:09.877683",
          "status": "completed"
        },
        "tags": [],
        "colab": {
          "base_uri": "https://localhost:8080/",
          "height": 354
        },
        "id": "9zgfclOwh6Go",
        "outputId": "ec7c9507-65ee-414f-9a50-81174ba697f8"
      },
      "outputs": [
        {
          "output_type": "display_data",
          "data": {
            "image/png": "[encoded data removed]",
            "text/plain": [
              "<Figure size 720x360 with 1 Axes>"
            ]
          },
          "metadata": {
            "needs_background": "light"
          }
        }
      ],
      "source": [
        "#set figure size\n",
        "fig, ax = plt.subplots(figsize = (10, 5))\n",
        "\n",
        "#create graphs\n",
        "graph1 = sns.countplot(x = 'target', data = total)\n",
        "\n",
        "#give title and plot\n",
        "plt.title('Distribution of Classification Groups')\n",
        "plt.show(graph1)"
      ]
    },
    {
      "cell_type": "markdown",
      "metadata": {
        "papermill": {
          "duration": 0.020643,
          "end_time": "2020-09-05T15:56:10.123931",
          "exception": false,
          "start_time": "2020-09-05T15:56:10.103288",
          "status": "completed"
        },
        "tags": [],
        "id": "G3ai0NPth6Gp"
      },
      "source": [
        "**So we have more tweets in class 0 (not a disaster tweet) than class 1 (disaster tweet)**"
      ]
    },
    {
      "cell_type": "markdown",
      "metadata": {
        "papermill": {
          "duration": 0.019127,
          "end_time": "2020-09-05T15:56:10.163593",
          "exception": false,
          "start_time": "2020-09-05T15:56:10.144466",
          "status": "completed"
        },
        "tags": [],
        "id": "rNWgRP5Eh6Gq"
      },
      "source": [
        "## Adding basic features\n",
        "\n",
        "**We can easily add some new features to help us explore the attributes of tweets that are about disasters. If we think these new features are useful, we can add them as input for our neural network along with the text data**"
      ]
    },
    {
      "cell_type": "code",
      "execution_count": 10,
      "metadata": {
        "execution": {
          "iopub.execute_input": "2020-09-05T15:56:10.238111Z",
          "iopub.status.busy": "2020-09-05T15:56:10.237123Z",
          "iopub.status.idle": "2020-09-05T15:56:10.469845Z",
          "shell.execute_reply": "2020-09-05T15:56:10.470441Z"
        },
        "papermill": {
          "duration": 0.288855,
          "end_time": "2020-09-05T15:56:10.470609",
          "exception": false,
          "start_time": "2020-09-05T15:56:10.181754",
          "status": "completed"
        },
        "tags": [],
        "colab": {
          "base_uri": "https://localhost:8080/",
          "height": 354
        },
        "id": "bgfXCiIYh6Gr",
        "outputId": "b2680dd0-e0e2-4fd8-b8c3-87858a63fde0"
      },
      "outputs": [
        {
          "output_type": "display_data",
          "data": {
            "image/png": "[encoded data removed]",
            "text/plain": [
              "<Figure size 720x360 with 1 Axes>"
            ]
          },
          "metadata": {
            "needs_background": "light"
          }
        }
      ],
      "source": [
        "#create column for the number of words in tweet\n",
        "total['word count'] = total['text'].apply(lambda x: len(x.split()))\n",
        "\n",
        "#split so we can use updated train set with new feature\n",
        "train = total[:len(train)]\n",
        "\n",
        "#define subplot to see graphs side by side\n",
        "fig, ax = plt.subplots(figsize = (10, 5))\n",
        "\n",
        "#create graphs\n",
        "sns.kdeplot(train['word count'][train['target'] == 0], shade = True, label = 'Not disaster tweet')\n",
        "sns.kdeplot(train['word count'][train['target'] == 1], shade = True, label = 'Disaster tweet')\n",
        "\n",
        "#set title and plot\n",
        "plt.title('Distribution of Tweet Word Count')\n",
        "plt.show()"
      ]
    },
    {
      "cell_type": "code",
      "execution_count": 11,
      "metadata": {
        "execution": {
          "iopub.execute_input": "2020-09-05T15:56:10.521289Z",
          "iopub.status.busy": "2020-09-05T15:56:10.520113Z",
          "iopub.status.idle": "2020-09-05T15:56:10.757346Z",
          "shell.execute_reply": "2020-09-05T15:56:10.757882Z"
        },
        "papermill": {
          "duration": 0.266738,
          "end_time": "2020-09-05T15:56:10.758021",
          "exception": false,
          "start_time": "2020-09-05T15:56:10.491283",
          "status": "completed"
        },
        "tags": [],
        "colab": {
          "base_uri": "https://localhost:8080/",
          "height": 352
        },
        "id": "am5gX_qRh6Gs",
        "outputId": "c5543b2d-0737-4c59-97f5-9fa67306c6c8"
      },
      "outputs": [
        {
          "output_type": "display_data",
          "data": {
            "image/png": "[encoded data removed]",
            "text/plain": [
              "<Figure size 720x360 with 1 Axes>"
            ]
          },
          "metadata": {
            "needs_background": "light"
          }
        }
      ],
      "source": [
        "#create column for the number of characters in a tweet\n",
        "total['character count'] = total['text'].apply(lambda x: len(x))\n",
        "\n",
        "#split so we can use updated train set with new feature\n",
        "train = total[:len(train)]\n",
        "\n",
        "#define subplot to see graphs side by side\n",
        "fig, ax = plt.subplots(figsize = (10, 5))\n",
        "\n",
        "#create graphs\n",
        "sns.kdeplot(train['character count'][train['target'] == 0], shade = True, label = 'Not disaster tweet')\n",
        "sns.kdeplot(train['character count'][train['target'] == 1], shade = True, label = 'Disaster tweet')\n",
        "\n",
        "#set title and plot\n",
        "plt.title('Distribution of Tweet Character Count')\n",
        "plt.show()"
      ]
    },
    {
      "cell_type": "markdown",
      "metadata": {
        "papermill": {
          "duration": 0.017931,
          "end_time": "2020-09-05T15:56:10.793969",
          "exception": false,
          "start_time": "2020-09-05T15:56:10.776038",
          "status": "completed"
        },
        "tags": [],
        "id": "-nPAz8LPh6Gs"
      },
      "source": [
        "**This is insightful as it tells us that very few disaster tweets are less than 50 characters and that the majority of them are more than 125 characters long. What else can we explore?**"
      ]
    },
    {
      "cell_type": "code",
      "execution_count": 12,
      "metadata": {
        "execution": {
          "iopub.execute_input": "2020-09-05T15:56:10.849669Z",
          "iopub.status.busy": "2020-09-05T15:56:10.844342Z",
          "iopub.status.idle": "2020-09-05T15:56:11.305591Z",
          "shell.execute_reply": "2020-09-05T15:56:11.306198Z"
        },
        "papermill": {
          "duration": 0.493961,
          "end_time": "2020-09-05T15:56:11.306352",
          "exception": false,
          "start_time": "2020-09-05T15:56:10.812391",
          "status": "completed"
        },
        "tags": [],
        "colab": {
          "base_uri": "https://localhost:8080/",
          "height": 354
        },
        "id": "_xFcKqSSh6Gt",
        "outputId": "ef31443f-43bd-423f-df75-f446d4236620"
      },
      "outputs": [
        {
          "output_type": "display_data",
          "data": {
            "image/png": "[encoded data removed]",
            "text/plain": [
              "<Figure size 720x360 with 1 Axes>"
            ]
          },
          "metadata": {
            "needs_background": "light"
          }
        }
      ],
      "source": [
        "#define function to find average word length \n",
        "def average_word_length(x):\n",
        "    x = x.split()\n",
        "    return np.mean([len(i) for i in x])\n",
        "\n",
        "#broadcast to text column\n",
        "total['average word length'] = total['text'].apply(average_word_length)\n",
        "\n",
        "#split so we can use updated train set with new feature\n",
        "train = total[:len(train)]\n",
        "\n",
        "#define subplot to see graphs side by side\n",
        "fig, ax = plt.subplots(figsize = (10, 5))\n",
        "\n",
        "#create graphs\n",
        "sns.kdeplot(train['average word length'][train['target'] == 0], shade = True, label = 'Not disaster tweet')\n",
        "sns.kdeplot(train['average word length'][train['target'] == 1], shade = True, label = 'Disaster tweet')\n",
        "\n",
        "#set title\n",
        "plt.title('Distribution of Tweet Average Word Length')\n",
        "\n",
        "#splot graphs\n",
        "plt.show()"
      ]
    },
    {
      "cell_type": "markdown",
      "metadata": {
        "papermill": {
          "duration": 0.018283,
          "end_time": "2020-09-05T15:56:11.345372",
          "exception": false,
          "start_time": "2020-09-05T15:56:11.327089",
          "status": "completed"
        },
        "tags": [],
        "id": "3nQVokZvh6Gt"
      },
      "source": [
        "**Now that we have an idea of what new features to construct and how they might be useful, let's add the rest of them and visualize them:**"
      ]
    },
    {
      "cell_type": "code",
      "execution_count": 13,
      "metadata": {
        "execution": {
          "iopub.execute_input": "2020-09-05T15:56:11.429507Z",
          "iopub.status.busy": "2020-09-05T15:56:11.419162Z",
          "iopub.status.idle": "2020-09-05T15:56:12.711946Z",
          "shell.execute_reply": "2020-09-05T15:56:12.712628Z"
        },
        "papermill": {
          "duration": 1.348256,
          "end_time": "2020-09-05T15:56:12.712813",
          "exception": false,
          "start_time": "2020-09-05T15:56:11.364557",
          "status": "completed"
        },
        "tags": [],
        "colab": {
          "base_uri": "https://localhost:8080/",
          "height": 961
        },
        "id": "UauYWQ7Jh6Gu",
        "outputId": "ead591ab-b595-4641-85e9-89f4ceeb8957"
      },
      "outputs": [
        {
          "output_type": "display_data",
          "data": {
            "image/png": "[encoded data removed]",
            "text/plain": [
              "<Figure size 1440x2160 with 4 Axes>"
            ]
          },
          "metadata": {
            "needs_background": "light"
          }
        }
      ],
      "source": [
        "#add unique word count\n",
        "total['unique word count'] = total['text'].apply(lambda x: len(set(x.split())))\n",
        "\n",
        "#add stopword count\n",
        "total['stopword count'] = total['text'].apply(lambda x: len([i for i in x.lower().split() if i in wordcloud.STOPWORDS]))\n",
        "\n",
        "#add url count\n",
        "#total['url count'] = total['text'].apply(lambda x: len([i for i in x.lower().split() if 'http' in i or 'https' in i]))\n",
        "\n",
        "#add mention count\n",
        "#total['mention count'] = total['text'].apply(lambda x: len([i for i in str(x) if i == '@']))\n",
        "\n",
        "#add hashtag count\n",
        "#total['hashtag count'] = total['text'].apply(lambda x: len([i for i in str(x) if i == '#']))\n",
        "\n",
        "#add stopword ratio\n",
        "total['stopword ratio'] = total['stopword count'] / total['word count']\n",
        "\n",
        "#add punctuation count\n",
        "total['punctuation count'] = total['text'].apply(lambda x: len([i for i in str(x) if i in string.punctuation]))\n",
        "\n",
        "#split so we can use updated train set\n",
        "train = total[:len(train)]\n",
        "\n",
        "disaster = train['target'] == 1\n",
        "\n",
        "#produce graphs to visualize newly added features\n",
        "fig, axes = plt.subplots(4, figsize=(20, 30))\n",
        "\n",
        "graph1 = sns.kdeplot(train.loc[~disaster]['unique word count'], shade = True, label = 'Not Disaster', ax=axes[0])\n",
        "graph1 = sns.kdeplot(train.loc[disaster]['unique word count'], shade = True, label = 'Disaster', ax=axes[0])\n",
        "graph1.set_title('Distribution of Unique Word Count')\n",
        "\n",
        "graph2 = sns.kdeplot(train.loc[~disaster]['stopword count'], shade = True, label = 'Not Disaster', ax=axes[1])\n",
        "graph2 = sns.kdeplot(train.loc[disaster]['stopword count'], shade = True, label = 'Disaster', ax=axes[1])\n",
        "graph2.set_title('Distribution of Stopword Word Count')\n",
        "\n",
        "graph3 = sns.kdeplot(train.loc[~disaster]['punctuation count'], shade = True, label = 'Not Disaster', ax=axes[2], bw = 1)\n",
        "graph3 = sns.kdeplot(train.loc[disaster]['punctuation count'], shade = True, label = 'Disaster', ax=axes[2], bw = 1)\n",
        "graph3.set_title('Distribution of Punctuation Count')\n",
        "\n",
        "graph4 = sns.kdeplot(train.loc[~disaster]['stopword ratio'], shade = True, label = 'Not Disaster', ax=axes[3], bw = .05)\n",
        "graph4 = sns.kdeplot(train.loc[disaster]['stopword ratio'], shade = True, label = 'Disaster', ax=axes[3], bw = .05)\n",
        "graph4.set_title('Distribution of Stopword Ratio')\n",
        "\n",
        "fig.tight_layout()\n",
        "plt.show()"
      ]
    },
    {
      "cell_type": "markdown",
      "metadata": {
        "papermill": {
          "duration": 0.021037,
          "end_time": "2020-09-05T15:56:12.756299",
          "exception": false,
          "start_time": "2020-09-05T15:56:12.735262",
          "status": "completed"
        },
        "tags": [],
        "id": "wg9jDbGMh6Gu"
      },
      "source": [
        "# II. Cleaning\n",
        "\n",
        "**Now that we have explored our data, we need to prepare it for machine learning. In general, to process text we need to apply the following procedure:** \n",
        "\n",
        "> raw text corpus -> processing text -> tokenized text -> corpus vocabulary -> text representation \n",
        "\n",
        "**We can do most of the hard work with Keras's Tokenize object, which automatically converts all words to lowercase and filters out punctuation**  \n",
        "\n",
        "**This tokenizer has many arguements that allow you to do most of the cleaning with one line of code, so we do not need to much processing ourselves. I have included some examples of how one would manually clean text for reference:**"
      ]
    },
    {
      "cell_type": "code",
      "execution_count": 14,
      "metadata": {
        "execution": {
          "iopub.execute_input": "2020-09-05T15:56:12.809828Z",
          "iopub.status.busy": "2020-09-05T15:56:12.808860Z",
          "iopub.status.idle": "2020-09-05T15:56:12.811722Z",
          "shell.execute_reply": "2020-09-05T15:56:12.812261Z"
        },
        "papermill": {
          "duration": 0.035001,
          "end_time": "2020-09-05T15:56:12.812395",
          "exception": false,
          "start_time": "2020-09-05T15:56:12.777394",
          "status": "completed"
        },
        "tags": [],
        "id": "P-cdOlaHh6Gv"
      },
      "outputs": [],
      "source": [
        "#remove punctuation\n",
        "def remove_punctuation(x):\n",
        "    return x.translate(str.maketrans('', '', string.punctuation))\n",
        "\n",
        "#remove stopwords\n",
        "def remove_stopwords(x):\n",
        "    return ' '.join([i for i in x.split() if i not in wordcloud.STOPWORDS])\n",
        "\n",
        "#remove words less than 4 \n",
        "def remove_less_than(x):\n",
        "    return ' '.join([i for i in x.split() if len(i) > 3])\n",
        "\n",
        "#remove words with non-alphabet characters\n",
        "def remove_non_alphabet(x):\n",
        "    return ' '.join([i for i in x.split() if i.isalpha()])\n",
        "\n",
        "def strip_all_entities(x):\n",
        "    return ' '.join(re.sub(\"(@[A-Za-z0-9]+)|([^0-9A-Za-z \\t])|(\\w+:\\/\\/\\S+)\",\" \",x).split())"
      ]
    },
    {
      "cell_type": "code",
      "execution_count": 15,
      "metadata": {
        "execution": {
          "iopub.execute_input": "2020-09-05T15:56:12.859773Z",
          "iopub.status.busy": "2020-09-05T15:56:12.858865Z",
          "iopub.status.idle": "2020-09-05T15:56:12.864596Z",
          "shell.execute_reply": "2020-09-05T15:56:12.865105Z"
        },
        "papermill": {
          "duration": 0.031891,
          "end_time": "2020-09-05T15:56:12.865259",
          "exception": false,
          "start_time": "2020-09-05T15:56:12.833368",
          "status": "completed"
        },
        "tags": [],
        "colab": {
          "base_uri": "https://localhost:8080/",
          "height": 1000
        },
        "id": "c3dz7cuXh6Gv",
        "outputId": "47ea6373-ee57-4868-87ee-755a017b7664"
      },
      "outputs": [
        {
          "output_type": "execute_result",
          "data": {
            "application/vnd.google.colaboratory.intrinsic+json": {
              "type": "string"
            },
            "text/plain": [
              "'Titanic tragedy could have been prevented Economic Times Telegraph co ukTitanic tragedy could have been preve'"
            ]
          },
          "metadata": {},
          "execution_count": 15
        }
      ],
      "source": [
        "#check strip_all_entities functionality\n",
        "strip_all_entities('@shawn Titanic #tragedy could have been prevented Economic \\\n",
        "                   Times: Telegraph.co.ukTitanic tragedy could have been preve... http://bet.ly/tuN2wx')"
      ]
    },
    {
      "cell_type": "markdown",
      "metadata": {
        "papermill": {
          "duration": 0.020454,
          "end_time": "2020-09-05T15:56:12.905767",
          "exception": false,
          "start_time": "2020-09-05T15:56:12.885313",
          "status": "completed"
        },
        "tags": [],
        "id": "VNvAH-Y2h6Gv"
      },
      "source": [
        "**Trick: we can even spell check words, although this is very computationally expensive:**"
      ]
    },
    {
      "cell_type": "code",
      "execution_count": 16,
      "metadata": {
        "execution": {
          "iopub.execute_input": "2020-09-05T15:56:12.957409Z",
          "iopub.status.busy": "2020-09-05T15:56:12.956519Z",
          "iopub.status.idle": "2020-09-05T15:56:25.114444Z",
          "shell.execute_reply": "2020-09-05T15:56:25.113769Z"
        },
        "papermill": {
          "duration": 12.187624,
          "end_time": "2020-09-05T15:56:25.114574",
          "exception": false,
          "start_time": "2020-09-05T15:56:12.926950",
          "status": "completed"
        },
        "tags": [],
        "colab": {
          "base_uri": "https://localhost:8080/",
          "height": 827
        },
        "id": "BjKKck15h6Gv",
        "outputId": "33f45102-2711-4df1-b6a9-c0fad53eae8f"
      },
      "outputs": [
        {
          "output_type": "stream",
          "name": "stdout",
          "text": [
            "Collecting autocorrect\n",
            "  Downloading autocorrect-2.6.1.tar.gz (622 kB)\n",
            "\u001b[K     |████████████████████████████████| 622 kB 3.8 MB/s \n",
            "\u001b[?25hBuilding wheels for collected packages: autocorrect\n",
            "  Building wheel for autocorrect (setup.py) ... \u001b[?25l\u001b[?25hdone\n",
            "  Created wheel for autocorrect: filename=autocorrect-2.6.1-py3-none-any.whl size=622382 sha256=dc44f073c4afe8e01fa71e3078147dd93a2c06c8abef04d352a6e0c4c05ddc2e\n",
            "  Stored in directory: /root/.cache/pip/wheels/54/d4/37/8244101ad50b0f7d9bffd93ce58ed7991ee1753b290923934b\n",
            "Successfully built autocorrect\n",
            "Installing collected packages: autocorrect\n",
            "Successfully installed autocorrect-2.6.1\n"
          ]
        },
        {
          "output_type": "execute_result",
          "data": {
            "application/vnd.google.colaboratory.intrinsic+json": {
              "type": "string"
            },
            "text/plain": [
              "'Please spelcheck this sentence'"
            ]
          },
          "metadata": {},
          "execution_count": 16
        }
      ],
      "source": [
        "#install autocorrect\n",
        "!pip install autocorrect\n",
        "from autocorrect import Speller \n",
        "\n",
        "#create function to spell check strings\n",
        "def spell_check(x):\n",
        "    spell = Speller(lang='en')\n",
        "    return \" \".join([spell(i) for i in x.split()])\n",
        "\n",
        "#showcase spellcheck \n",
        "mispelled = 'Pleaze spelcheck this sentince'\n",
        "spell_check(mispelled)"
      ]
    },
    {
      "cell_type": "code",
      "execution_count": 17,
      "metadata": {
        "execution": {
          "iopub.execute_input": "2020-09-05T15:56:25.172855Z",
          "iopub.status.busy": "2020-09-05T15:56:25.171923Z",
          "iopub.status.idle": "2020-09-05T15:56:25.174370Z",
          "shell.execute_reply": "2020-09-05T15:56:25.174812Z"
        },
        "papermill": {
          "duration": 0.035705,
          "end_time": "2020-09-05T15:56:25.174935",
          "exception": false,
          "start_time": "2020-09-05T15:56:25.139230",
          "status": "completed"
        },
        "tags": [],
        "id": "MDr-DOQph6Gw"
      },
      "outputs": [],
      "source": [
        "PROCESS_TWEETS = False\n",
        "if PROCESS_TWEETS:\n",
        "    #apply all of above functions\n",
        "    total['text'] = total['text'].apply(lambda x: x.lower())\n",
        "    total['text'] = total['text'].apply(lambda x: re.sub(r'https?://\\S+|www\\.\\S+', '', x, flags = re.MULTILINE))\n",
        "    total['text'] = total['text'].apply(remove_punctuation)\n",
        "    total['text'] = total['text'].apply(remove_stopwords)\n",
        "    total['text'] = total['text'].apply(remove_less_than)\n",
        "    total['text'] = total['text'].apply(remove_non_alphabet)\n",
        "    total['text'] = total['text'].apply(spell_check)"
      ]
    },
    {
      "cell_type": "markdown",
      "metadata": {
        "papermill": {
          "duration": 0.025033,
          "end_time": "2020-09-05T15:56:25.224416",
          "exception": false,
          "start_time": "2020-09-05T15:56:25.199383",
          "status": "completed"
        },
        "tags": [],
        "id": "mTBOqxHzh6Gw"
      },
      "source": [
        "**We should expand all the contractions in our vocabulary to ensure that we do not lose meaning when we tokenize everything. The below is taken from:**\n",
        "\n",
        "> https://stackoverflow.com/questions/19790188/expanding-english-language-contractions-in-python"
      ]
    },
    {
      "cell_type": "code",
      "execution_count": 18,
      "metadata": {
        "execution": {
          "iopub.execute_input": "2020-09-05T15:56:25.309698Z",
          "iopub.status.busy": "2020-09-05T15:56:25.301026Z",
          "iopub.status.idle": "2020-09-05T15:56:25.312876Z",
          "shell.execute_reply": "2020-09-05T15:56:25.313427Z"
        },
        "papermill": {
          "duration": 0.065024,
          "end_time": "2020-09-05T15:56:25.313555",
          "exception": false,
          "start_time": "2020-09-05T15:56:25.248531",
          "status": "completed"
        },
        "tags": [],
        "colab": {
          "base_uri": "https://localhost:8080/",
          "height": 552
        },
        "id": "RrioDoYjh6Gw",
        "outputId": "442c207b-514f-4d86-95f8-d0b8cc6c8ca5"
      },
      "outputs": [
        {
          "output_type": "execute_result",
          "data": {
            "application/vnd.google.colaboratory.intrinsic+json": {
              "type": "string"
            },
            "text/plain": [
              "'cannot stop will not stop'"
            ]
          },
          "metadata": {},
          "execution_count": 18
        }
      ],
      "source": [
        "contractions = { \n",
        "\"ain't\": \"am not / are not / is not / has not / have not\",\n",
        "\"aren't\": \"are not / am not\",\n",
        "\"can't\": \"cannot\",\n",
        "\"can't've\": \"cannot have\",\n",
        "\"'cause\": \"because\",\n",
        "\"could've\": \"could have\",\n",
        "\"couldn't\": \"could not\",\n",
        "\"couldn't've\": \"could not have\",\n",
        "\"didn't\": \"did not\",\n",
        "\"doesn't\": \"does not\",\n",
        "\"don't\": \"do not\",\n",
        "\"hadn't\": \"had not\",\n",
        "\"hadn't've\": \"had not have\",\n",
        "\"hasn't\": \"has not\",\n",
        "\"haven't\": \"have not\",\n",
        "\"he'd\": \"he had / he would\",\n",
        "\"he'd've\": \"he would have\",\n",
        "\"he'll\": \"he shall / he will\",\n",
        "\"he'll've\": \"he shall have / he will have\",\n",
        "\"he's\": \"he has / he is\",\n",
        "\"how'd\": \"how did\",\n",
        "\"how'd'y\": \"how do you\",\n",
        "\"how'll\": \"how will\",\n",
        "\"how's\": \"how has / how is / how does\",\n",
        "\"I'd\": \"I had / I would\",\n",
        "\"I'd've\": \"I would have\",\n",
        "\"I'll\": \"I shall / I will\",\n",
        "\"I'll've\": \"I shall have / I will have\",\n",
        "\"I'm\": \"I am\",\n",
        "\"I've\": \"I have\",\n",
        "\"isn't\": \"is not\",\n",
        "\"it'd\": \"it had / it would\",\n",
        "\"it'd've\": \"it would have\",\n",
        "\"it'll\": \"it shall / it will\",\n",
        "\"it'll've\": \"it shall have / it will have\",\n",
        "\"it's\": \"it has / it is\",\n",
        "\"let's\": \"let us\",\n",
        "\"ma'am\": \"madam\",\n",
        "\"mayn't\": \"may not\",\n",
        "\"might've\": \"might have\",\n",
        "\"mightn't\": \"might not\",\n",
        "\"mightn't've\": \"might not have\",\n",
        "\"must've\": \"must have\",\n",
        "\"mustn't\": \"must not\",\n",
        "\"mustn't've\": \"must not have\",\n",
        "\"needn't\": \"need not\",\n",
        "\"needn't've\": \"need not have\",\n",
        "\"o'clock\": \"of the clock\",\n",
        "\"oughtn't\": \"ought not\",\n",
        "\"oughtn't've\": \"ought not have\",\n",
        "\"shan't\": \"shall not\",\n",
        "\"sha'n't\": \"shall not\",\n",
        "\"shan't've\": \"shall not have\",\n",
        "\"she'd\": \"she had / she would\",\n",
        "\"she'd've\": \"she would have\",\n",
        "\"she'll\": \"she shall / she will\",\n",
        "\"she'll've\": \"she shall have / she will have\",\n",
        "\"she's\": \"she has / she is\",\n",
        "\"should've\": \"should have\",\n",
        "\"shouldn't\": \"should not\",\n",
        "\"shouldn't've\": \"should not have\",\n",
        "\"so've\": \"so have\",\n",
        "\"so's\": \"so as / so is\",\n",
        "\"that'd\": \"that would / that had\",\n",
        "\"that'd've\": \"that would have\",\n",
        "\"that's\": \"that has / that is\",\n",
        "\"there'd\": \"there had / there would\",\n",
        "\"there'd've\": \"there would have\",\n",
        "\"there's\": \"there has / there is\",\n",
        "\"they'd\": \"they had / they would\",\n",
        "\"they'd've\": \"they would have\",\n",
        "\"they'll\": \"they shall / they will\",\n",
        "\"they'll've\": \"they shall have / they will have\",\n",
        "\"they're\": \"they are\",\n",
        "\"they've\": \"they have\",\n",
        "\"to've\": \"to have\",\n",
        "\"wasn't\": \"was not\",\n",
        "\"we'd\": \"we had / we would\",\n",
        "\"we'd've\": \"we would have\",\n",
        "\"we'll\": \"we will\",\n",
        "\"we'll've\": \"we will have\",\n",
        "\"we're\": \"we are\",\n",
        "\"we've\": \"we have\",\n",
        "\"weren't\": \"were not\",\n",
        "\"what'll\": \"what shall / what will\",\n",
        "\"what'll've\": \"what shall have / what will have\",\n",
        "\"what're\": \"what are\",\n",
        "\"what's\": \"what has / what is\",\n",
        "\"what've\": \"what have\",\n",
        "\"when's\": \"when has / when is\",\n",
        "\"when've\": \"when have\",\n",
        "\"where'd\": \"where did\",\n",
        "\"where's\": \"where has / where is\",\n",
        "\"where've\": \"where have\",\n",
        "\"who'll\": \"who shall / who will\",\n",
        "\"who'll've\": \"who shall have / who will have\",\n",
        "\"who's\": \"who has / who is\",\n",
        "\"who've\": \"who have\",\n",
        "\"why's\": \"why has / why is\",\n",
        "\"why've\": \"why have\",\n",
        "\"will've\": \"will have\",\n",
        "\"won't\": \"will not\",\n",
        "\"won't've\": \"will not have\",\n",
        "\"would've\": \"would have\",\n",
        "\"wouldn't\": \"would not\",\n",
        "\"wouldn't've\": \"would not have\",\n",
        "\"y'all\": \"you all\",\n",
        "\"y'all'd\": \"you all would\",\n",
        "\"y'all'd've\": \"you all would have\",\n",
        "\"y'all're\": \"you all are\",\n",
        "\"y'all've\": \"you all have\",\n",
        "\"you'd\": \"you had / you would\",\n",
        "\"you'd've\": \"you would have\",\n",
        "\"you'll\": \"you shall / you will\",\n",
        "\"you'll've\": \"you shall have / you will have\",\n",
        "\"you're\": \"you are\",\n",
        "\"you've\": \"you have\"\n",
        "}\n",
        "\n",
        "contractions_re = re.compile('(%s)' % '|'.join(contractions.keys()))\n",
        "def expand_contractions(s, contractions = contractions):\n",
        "    def replace(match):\n",
        "        return contractions[match.group(0)]\n",
        "    return contractions_re.sub(replace, s)\n",
        "\n",
        "expand_contractions(\"can't stop won't stop\")"
      ]
    },
    {
      "cell_type": "code",
      "execution_count": 19,
      "metadata": {
        "execution": {
          "iopub.execute_input": "2020-09-05T15:56:25.398027Z",
          "iopub.status.busy": "2020-09-05T15:56:25.381930Z",
          "iopub.status.idle": "2020-09-05T15:56:25.638471Z",
          "shell.execute_reply": "2020-09-05T15:56:25.638954Z"
        },
        "papermill": {
          "duration": 0.301811,
          "end_time": "2020-09-05T15:56:25.639098",
          "exception": false,
          "start_time": "2020-09-05T15:56:25.337287",
          "status": "completed"
        },
        "tags": [],
        "id": "6diAt7QWh6Gx"
      },
      "outputs": [],
      "source": [
        "#apply to whole text column\n",
        "total['text'] = total['text'].apply(expand_contractions)"
      ]
    },
    {
      "cell_type": "markdown",
      "metadata": {
        "papermill": {
          "duration": 0.023198,
          "end_time": "2020-09-05T15:56:25.685924",
          "exception": false,
          "start_time": "2020-09-05T15:56:25.662726",
          "status": "completed"
        },
        "tags": [],
        "id": "Rgarpz0wh6Gx"
      },
      "source": [
        "**If you have the patience, it is also useful to correct as much text as you possibly can just to feed our model the best data possible. We can go through and separate hashtags/usernames, correct slang, and even spell check to ensure that our data is as clean as possible**\n",
        "\n",
        "**Hint: try to come up with queries that allow you to view these hashtags, mispellings, etc. to expedite this process (or just steal the code below)**"
      ]
    },
    {
      "cell_type": "code",
      "execution_count": 20,
      "metadata": {
        "execution": {
          "iopub.execute_input": "2020-09-05T15:56:25.768373Z",
          "iopub.status.busy": "2020-09-05T15:56:25.747186Z",
          "iopub.status.idle": "2020-09-05T15:56:28.218070Z",
          "shell.execute_reply": "2020-09-05T15:56:28.217506Z"
        },
        "papermill": {
          "duration": 2.508709,
          "end_time": "2020-09-05T15:56:28.218213",
          "exception": false,
          "start_time": "2020-09-05T15:56:25.709504",
          "status": "completed"
        },
        "tags": [],
        "id": "Uzih0PIAh6Gy"
      },
      "outputs": [],
      "source": [
        " def clean(tweet):\n",
        "\n",
        "    #correct some acronyms while we are at it\n",
        "    tweet = re.sub(r\"tnwx\", \"Tennessee Weather\", tweet)\n",
        "    tweet = re.sub(r\"azwx\", \"Arizona Weather\", tweet)  \n",
        "    tweet = re.sub(r\"alwx\", \"Alabama Weather\", tweet)\n",
        "    tweet = re.sub(r\"wordpressdotcom\", \"wordpress\", tweet)      \n",
        "    tweet = re.sub(r\"gawx\", \"Georgia Weather\", tweet)  \n",
        "    tweet = re.sub(r\"scwx\", \"South Carolina Weather\", tweet)  \n",
        "    tweet = re.sub(r\"cawx\", \"California Weather\", tweet)\n",
        "    tweet = re.sub(r\"usNWSgov\", \"United States National Weather Service\", tweet) \n",
        "    tweet = re.sub(r\"MH370\", \"Malaysia Airlines Flight 370\", tweet)\n",
        "    tweet = re.sub(r\"okwx\", \"Oklahoma City Weather\", tweet)\n",
        "    tweet = re.sub(r\"arwx\", \"Arkansas Weather\", tweet)  \n",
        "    tweet = re.sub(r\"lmao\", \"laughing my ass off\", tweet)  \n",
        "    tweet = re.sub(r\"amirite\", \"am I right\", tweet)\n",
        "    \n",
        "    #and some typos/abbreviations\n",
        "    tweet = re.sub(r\"w/e\", \"whatever\", tweet)\n",
        "    tweet = re.sub(r\"w/\", \"with\", tweet)\n",
        "    tweet = re.sub(r\"USAgov\", \"USA government\", tweet)\n",
        "    tweet = re.sub(r\"recentlu\", \"recently\", tweet)\n",
        "    tweet = re.sub(r\"Ph0tos\", \"Photos\", tweet)\n",
        "    tweet = re.sub(r\"exp0sed\", \"exposed\", tweet)\n",
        "    tweet = re.sub(r\"<3\", \"love\", tweet)\n",
        "    tweet = re.sub(r\"amageddon\", \"armageddon\", tweet)\n",
        "    tweet = re.sub(r\"Trfc\", \"Traffic\", tweet)\n",
        "    tweet = re.sub(r\"WindStorm\", \"Wind Storm\", tweet)\n",
        "    tweet = re.sub(r\"16yr\", \"16 year\", tweet)\n",
        "    tweet = re.sub(r\"TRAUMATISED\", \"traumatized\", tweet)\n",
        "    \n",
        "    #hashtags and usernames\n",
        "    tweet = re.sub(r\"IranDeal\", \"Iran Deal\", tweet)\n",
        "    tweet = re.sub(r\"ArianaGrande\", \"Ariana Grande\", tweet)\n",
        "    tweet = re.sub(r\"camilacabello97\", \"camila cabello\", tweet) \n",
        "    tweet = re.sub(r\"RondaRousey\", \"Ronda Rousey\", tweet)     \n",
        "    tweet = re.sub(r\"MTVHottest\", \"MTV Hottest\", tweet)\n",
        "    tweet = re.sub(r\"TrapMusic\", \"Trap Music\", tweet)\n",
        "    tweet = re.sub(r\"ProphetMuhammad\", \"Prophet Muhammad\", tweet)\n",
        "    tweet = re.sub(r\"PantherAttack\", \"Panther Attack\", tweet)\n",
        "    tweet = re.sub(r\"StrategicPatience\", \"Strategic Patience\", tweet)\n",
        "    tweet = re.sub(r\"socialnews\", \"social news\", tweet)\n",
        "    tweet = re.sub(r\"IDPs:\", \"Internally Displaced People :\", tweet)\n",
        "    tweet = re.sub(r\"ArtistsUnited\", \"Artists United\", tweet)\n",
        "    tweet = re.sub(r\"ClaytonBryant\", \"Clayton Bryant\", tweet)\n",
        "    tweet = re.sub(r\"jimmyfallon\", \"jimmy fallon\", tweet)\n",
        "    tweet = re.sub(r\"justinbieber\", \"justin bieber\", tweet)  \n",
        "    tweet = re.sub(r\"Time2015\", \"Time 2015\", tweet)\n",
        "    tweet = re.sub(r\"djicemoon\", \"dj icemoon\", tweet)\n",
        "    tweet = re.sub(r\"LivingSafely\", \"Living Safely\", tweet)\n",
        "    tweet = re.sub(r\"FIFA16\", \"Fifa 2016\", tweet)\n",
        "    tweet = re.sub(r\"thisiswhywecanthavenicethings\", \"this is why we cannot have nice things\", tweet)\n",
        "    tweet = re.sub(r\"bbcnews\", \"bbc news\", tweet)\n",
        "    tweet = re.sub(r\"UndergroundRailraod\", \"Underground Railraod\", tweet)\n",
        "    tweet = re.sub(r\"c4news\", \"c4 news\", tweet)\n",
        "    tweet = re.sub(r\"MUDSLIDE\", \"mudslide\", tweet)\n",
        "    tweet = re.sub(r\"NoSurrender\", \"No Surrender\", tweet)\n",
        "    tweet = re.sub(r\"NotExplained\", \"Not Explained\", tweet)\n",
        "    tweet = re.sub(r\"greatbritishbakeoff\", \"great british bake off\", tweet)\n",
        "    tweet = re.sub(r\"LondonFire\", \"London Fire\", tweet)\n",
        "    tweet = re.sub(r\"KOTAWeather\", \"KOTA Weather\", tweet)\n",
        "    tweet = re.sub(r\"LuchaUnderground\", \"Lucha Underground\", tweet)\n",
        "    tweet = re.sub(r\"KOIN6News\", \"KOIN 6 News\", tweet)\n",
        "    tweet = re.sub(r\"LiveOnK2\", \"Live On K2\", tweet)\n",
        "    tweet = re.sub(r\"9NewsGoldCoast\", \"9 News Gold Coast\", tweet)\n",
        "    tweet = re.sub(r\"nikeplus\", \"nike plus\", tweet)\n",
        "    tweet = re.sub(r\"david_cameron\", \"David Cameron\", tweet)\n",
        "    tweet = re.sub(r\"peterjukes\", \"Peter Jukes\", tweet)\n",
        "    tweet = re.sub(r\"MikeParrActor\", \"Michael Parr\", tweet)\n",
        "    tweet = re.sub(r\"4PlayThursdays\", \"Foreplay Thursdays\", tweet)\n",
        "    tweet = re.sub(r\"TGF2015\", \"Tontitown Grape Festival\", tweet)\n",
        "    tweet = re.sub(r\"realmandyrain\", \"Mandy Rain\", tweet)\n",
        "    tweet = re.sub(r\"GraysonDolan\", \"Grayson Dolan\", tweet)\n",
        "    tweet = re.sub(r\"ApolloBrown\", \"Apollo Brown\", tweet)\n",
        "    tweet = re.sub(r\"saddlebrooke\", \"Saddlebrooke\", tweet)\n",
        "    tweet = re.sub(r\"TontitownGrape\", \"Tontitown Grape\", tweet)\n",
        "    tweet = re.sub(r\"AbbsWinston\", \"Abbs Winston\", tweet)\n",
        "    tweet = re.sub(r\"ShaunKing\", \"Shaun King\", tweet)\n",
        "    tweet = re.sub(r\"MeekMill\", \"Meek Mill\", tweet)\n",
        "    tweet = re.sub(r\"TornadoGiveaway\", \"Tornado Giveaway\", tweet)\n",
        "    tweet = re.sub(r\"GRupdates\", \"GR updates\", tweet)\n",
        "    tweet = re.sub(r\"SouthDowns\", \"South Downs\", tweet)\n",
        "    tweet = re.sub(r\"braininjury\", \"brain injury\", tweet)\n",
        "    tweet = re.sub(r\"auspol\", \"Australian politics\", tweet)\n",
        "    tweet = re.sub(r\"PlannedParenthood\", \"Planned Parenthood\", tweet)\n",
        "    tweet = re.sub(r\"calgaryweather\", \"Calgary Weather\", tweet)\n",
        "    tweet = re.sub(r\"weallheartonedirection\", \"we all heart one direction\", tweet)\n",
        "    tweet = re.sub(r\"edsheeran\", \"Ed Sheeran\", tweet)\n",
        "    tweet = re.sub(r\"TrueHeroes\", \"True Heroes\", tweet)\n",
        "    tweet = re.sub(r\"ComplexMag\", \"Complex Magazine\", tweet)\n",
        "    tweet = re.sub(r\"TheAdvocateMag\", \"The Advocate Magazine\", tweet)\n",
        "    tweet = re.sub(r\"CityofCalgary\", \"City of Calgary\", tweet)\n",
        "    tweet = re.sub(r\"EbolaOutbreak\", \"Ebola Outbreak\", tweet)\n",
        "    tweet = re.sub(r\"SummerFate\", \"Summer Fate\", tweet)\n",
        "    tweet = re.sub(r\"RAmag\", \"Royal Academy Magazine\", tweet)\n",
        "    tweet = re.sub(r\"offers2go\", \"offers to go\", tweet)\n",
        "    tweet = re.sub(r\"ModiMinistry\", \"Modi Ministry\", tweet)\n",
        "    tweet = re.sub(r\"TAXIWAYS\", \"taxi ways\", tweet)\n",
        "    tweet = re.sub(r\"Calum5SOS\", \"Calum Hood\", tweet)\n",
        "    tweet = re.sub(r\"JamesMelville\", \"James Melville\", tweet)\n",
        "    tweet = re.sub(r\"JamaicaObserver\", \"Jamaica Observer\", tweet)\n",
        "    tweet = re.sub(r\"TweetLikeItsSeptember11th2001\", \"Tweet like it is september 11th 2001\", tweet)\n",
        "    tweet = re.sub(r\"cbplawyers\", \"cbp lawyers\", tweet)\n",
        "    tweet = re.sub(r\"fewmoretweets\", \"few more tweets\", tweet)\n",
        "    tweet = re.sub(r\"BlackLivesMatter\", \"Black Lives Matter\", tweet)\n",
        "    tweet = re.sub(r\"NASAHurricane\", \"NASA Hurricane\", tweet)\n",
        "    tweet = re.sub(r\"onlinecommunities\", \"online communities\", tweet)\n",
        "    tweet = re.sub(r\"humanconsumption\", \"human consumption\", tweet)\n",
        "    tweet = re.sub(r\"Typhoon-Devastated\", \"Typhoon Devastated\", tweet)\n",
        "    tweet = re.sub(r\"Meat-Loving\", \"Meat Loving\", tweet)\n",
        "    tweet = re.sub(r\"facialabuse\", \"facial abuse\", tweet)\n",
        "    tweet = re.sub(r\"LakeCounty\", \"Lake County\", tweet)\n",
        "    tweet = re.sub(r\"BeingAuthor\", \"Being Author\", tweet)\n",
        "    tweet = re.sub(r\"withheavenly\", \"with heavenly\", tweet)\n",
        "    tweet = re.sub(r\"thankU\", \"thank you\", tweet)\n",
        "    tweet = re.sub(r\"iTunesMusic\", \"iTunes Music\", tweet)\n",
        "    tweet = re.sub(r\"OffensiveContent\", \"Offensive Content\", tweet)\n",
        "    tweet = re.sub(r\"WorstSummerJob\", \"Worst Summer Job\", tweet)\n",
        "    tweet = re.sub(r\"HarryBeCareful\", \"Harry Be Careful\", tweet)\n",
        "    tweet = re.sub(r\"NASASolarSystem\", \"NASA Solar System\", tweet)\n",
        "    tweet = re.sub(r\"animalrescue\", \"animal rescue\", tweet)\n",
        "    tweet = re.sub(r\"KurtSchlichter\", \"Kurt Schlichter\", tweet)\n",
        "    tweet = re.sub(r\"Throwingknifes\", \"Throwing knives\", tweet)\n",
        "    tweet = re.sub(r\"GodsLove\", \"God's Love\", tweet)\n",
        "    tweet = re.sub(r\"bookboost\", \"book boost\", tweet)\n",
        "    tweet = re.sub(r\"ibooklove\", \"I book love\", tweet)\n",
        "    tweet = re.sub(r\"NestleIndia\", \"Nestle India\", tweet)\n",
        "    tweet = re.sub(r\"realDonaldTrump\", \"Donald Trump\", tweet)\n",
        "    tweet = re.sub(r\"DavidVonderhaar\", \"David Vonderhaar\", tweet)\n",
        "    tweet = re.sub(r\"CecilTheLion\", \"Cecil The Lion\", tweet)\n",
        "    tweet = re.sub(r\"weathernetwork\", \"weather network\", tweet)\n",
        "    tweet = re.sub(r\"GOPDebate\", \"GOP Debate\", tweet)\n",
        "    tweet = re.sub(r\"RickPerry\", \"Rick Perry\", tweet)\n",
        "    tweet = re.sub(r\"frontpage\", \"front page\", tweet)\n",
        "    tweet = re.sub(r\"NewsInTweets\", \"News In Tweets\", tweet)\n",
        "    tweet = re.sub(r\"ViralSpell\", \"Viral Spell\", tweet)\n",
        "    tweet = re.sub(r\"til_now\", \"until now\", tweet)\n",
        "    tweet = re.sub(r\"volcanoinRussia\", \"volcano in Russia\", tweet)\n",
        "    tweet = re.sub(r\"ZippedNews\", \"Zipped News\", tweet)\n",
        "    tweet = re.sub(r\"MicheleBachman\", \"Michele Bachman\", tweet)\n",
        "    tweet = re.sub(r\"53inch\", \"53 inch\", tweet)\n",
        "    tweet = re.sub(r\"KerrickTrial\", \"Kerrick Trial\", tweet)\n",
        "    tweet = re.sub(r\"abstorm\", \"Alberta Storm\", tweet)\n",
        "    tweet = re.sub(r\"Beyhive\", \"Beyonce hive\", tweet)\n",
        "    tweet = re.sub(r\"RockyFire\", \"Rocky Fire\", tweet)\n",
        "    tweet = re.sub(r\"Listen/Buy\", \"Listen / Buy\", tweet)\n",
        "    tweet = re.sub(r\"ArtistsUnited\", \"Artists United\", tweet)\n",
        "    tweet = re.sub(r\"ENGvAUS\", \"England vs Australia\", tweet)\n",
        "    tweet = re.sub(r\"ScottWalker\", \"Scott Walker\", tweet)\n",
        "\n",
        "    return tweet\n",
        "\n",
        "total['text'] = total['text'].apply(clean)"
      ]
    },
    {
      "cell_type": "markdown",
      "metadata": {
        "papermill": {
          "duration": 0.02465,
          "end_time": "2020-09-05T15:56:28.267501",
          "exception": false,
          "start_time": "2020-09-05T15:56:28.242851",
          "status": "completed"
        },
        "tags": [],
        "id": "GpQxrU17h6Gy"
      },
      "source": [
        "## N-Gram Analysis"
      ]
    },
    {
      "cell_type": "code",
      "execution_count": 21,
      "metadata": {
        "execution": {
          "iopub.execute_input": "2020-09-05T15:56:28.330219Z",
          "iopub.status.busy": "2020-09-05T15:56:28.329134Z",
          "iopub.status.idle": "2020-09-05T15:56:28.335006Z",
          "shell.execute_reply": "2020-09-05T15:56:28.334519Z"
        },
        "papermill": {
          "duration": 0.043581,
          "end_time": "2020-09-05T15:56:28.335108",
          "exception": false,
          "start_time": "2020-09-05T15:56:28.291527",
          "status": "completed"
        },
        "tags": [],
        "id": "-jUgp-Udh6Gz"
      },
      "outputs": [],
      "source": [
        "tweets = [tweet for tweet in total['text']]\n",
        "\n",
        "#split data to update changes\n",
        "train = total[:len(train)]\n",
        "test = total[len(train):]"
      ]
    },
    {
      "cell_type": "code",
      "execution_count": 22,
      "metadata": {
        "execution": {
          "iopub.execute_input": "2020-09-05T15:56:28.416350Z",
          "iopub.status.busy": "2020-09-05T15:56:28.408489Z",
          "iopub.status.idle": "2020-09-05T15:56:29.377364Z",
          "shell.execute_reply": "2020-09-05T15:56:29.376765Z"
        },
        "papermill": {
          "duration": 1.01809,
          "end_time": "2020-09-05T15:56:29.377495",
          "exception": false,
          "start_time": "2020-09-05T15:56:28.359405",
          "status": "completed"
        },
        "tags": [],
        "id": "TeWmrttZh6Gz"
      },
      "outputs": [],
      "source": [
        "def generate_ngrams(text, n_gram=1):\n",
        "    token = [token for token in text.lower().split(' ') if token != '' if token not in wordcloud.STOPWORDS]\n",
        "    ngrams = zip(*[token[i:] for i in range(n_gram)])\n",
        "    return [' '.join(ngram) for ngram in ngrams]\n",
        "\n",
        "###################################################\n",
        "#### Unigrams\n",
        "###################################################\n",
        "\n",
        "disaster_unigrams = defaultdict(int)\n",
        "for word in total[train['target'] == 1]['text']:\n",
        "    for word in generate_ngrams(word, n_gram = 1):\n",
        "        disaster_unigrams[word] += 1\n",
        "disaster_unigrams = pd.DataFrame(sorted(disaster_unigrams.items(), key=lambda x: x[1])[::-1])\n",
        "\n",
        "nondisaster_unigrams = defaultdict(int)\n",
        "for word in total[train['target'] == 0]['text']:\n",
        "    for word in generate_ngrams(word, n_gram = 1):\n",
        "        nondisaster_unigrams[word] += 1\n",
        "nondisaster_unigrams = pd.DataFrame(sorted(nondisaster_unigrams.items(), key=lambda x: x[1])[::-1])\n",
        "\n",
        "###################################################\n",
        "#### Bigrams\n",
        "###################################################\n",
        "\n",
        "disaster_bigrams = defaultdict(int)\n",
        "for word in total[train['target'] == 1]['text']:\n",
        "    for word in generate_ngrams(word, n_gram = 2):\n",
        "        disaster_bigrams[word] += 1\n",
        "disaster_bigrams = pd.DataFrame(sorted(disaster_bigrams.items(), key=lambda x: x[1])[::-1])\n",
        "\n",
        "nondisaster_bigrams = defaultdict(int)\n",
        "for word in total[train['target'] == 0]['text']:\n",
        "    for word in generate_ngrams(word, n_gram = 2):\n",
        "        nondisaster_bigrams[word] += 1\n",
        "nondisaster_bigrams = pd.DataFrame(sorted(nondisaster_bigrams.items(), key=lambda x: x[1])[::-1])\n",
        "\n",
        "###################################################\n",
        "#### Trigrams\n",
        "###################################################\n",
        "\n",
        "disaster_trigrams = defaultdict(int)\n",
        "for word in total[train['target'] == 1]['text']:\n",
        "    for word in generate_ngrams(word, n_gram = 3):\n",
        "        disaster_trigrams[word] += 1\n",
        "disaster_trigrams = pd.DataFrame(sorted(disaster_trigrams.items(), key=lambda x: x[1])[::-1])\n",
        "\n",
        "nondisaster_trigrams = defaultdict(int)\n",
        "for word in total[train['target'] == 0]['text']:\n",
        "    for word in generate_ngrams(word, n_gram = 3):\n",
        "        nondisaster_trigrams[word] += 1\n",
        "nondisaster_trigrams = pd.DataFrame(sorted(nondisaster_trigrams.items(), key=lambda x: x[1])[::-1])\n",
        "\n",
        "###################################################\n",
        "#### 4-grams\n",
        "###################################################\n",
        "\n",
        "disaster_4grams = defaultdict(int)\n",
        "for word in total[train['target'] == 1]['text']:\n",
        "    for word in generate_ngrams(word, n_gram = 4):\n",
        "        disaster_4grams[word] += 1\n",
        "disaster_4grams = pd.DataFrame(sorted(disaster_4grams.items(), key=lambda x: x[1])[::-1])\n",
        "\n",
        "nondisaster_4grams = defaultdict(int)\n",
        "for word in total[train['target'] == 0]['text']:\n",
        "    for word in generate_ngrams(word, n_gram = 4):\n",
        "        nondisaster_4grams[word] += 1\n",
        "nondisaster_4grams = pd.DataFrame(sorted(nondisaster_4grams.items(), key=lambda x: x[1])[::-1])"
      ]
    },
    {
      "cell_type": "code",
      "execution_count": 23,
      "metadata": {
        "execution": {
          "iopub.execute_input": "2020-09-05T15:56:29.447790Z",
          "iopub.status.busy": "2020-09-05T15:56:29.442708Z",
          "iopub.status.idle": "2020-09-05T15:56:32.127448Z",
          "shell.execute_reply": "2020-09-05T15:56:32.128022Z"
        },
        "papermill": {
          "duration": 2.724299,
          "end_time": "2020-09-05T15:56:32.128188",
          "exception": false,
          "start_time": "2020-09-05T15:56:29.403889",
          "status": "completed"
        },
        "tags": [],
        "colab": {
          "base_uri": "https://localhost:8080/",
          "height": 54
        },
        "id": "t1CMMBSPh6G0",
        "outputId": "c828a8f2-af17-49f3-d82b-c1f7bc4bcd66"
      },
      "outputs": [
        {
          "output_type": "display_data",
          "data": {
            "image/png": "[encoded data removed]",
            "text/plain": [
              "<Figure size 1080x1080 with 8 Axes>"
            ]
          },
          "metadata": {
            "needs_background": "light"
          }
        }
      ],
      "source": [
        "N = 10\n",
        "\n",
        "fig, ax = plt.subplots(4, 2, figsize = (15, 15))\n",
        "plt.tight_layout()\n",
        "\n",
        "sns.barplot(y = disaster_unigrams[0].values[:N], x = disaster_unigrams[1].values[:N], ax = ax[0, 0], color='#171820')\n",
        "sns.barplot(y = nondisaster_unigrams[0].values[:N], x = nondisaster_unigrams[1].values[:N], ax = ax[0, 1], color = '#fdc029')\n",
        "\n",
        "sns.barplot(y = disaster_bigrams[0].values[:N], x = disaster_bigrams[1].values[:N], ax = ax[1, 0], color='#171820')\n",
        "sns.barplot(y = nondisaster_bigrams[0].values[:N], x = nondisaster_bigrams[1].values[:N], ax = ax[1, 1], color = '#fdc029')\n",
        "\n",
        "sns.barplot(y = disaster_trigrams[0].values[:N], x = disaster_trigrams[1].values[:N], ax = ax[2, 0], color='#171820')\n",
        "sns.barplot(y = nondisaster_trigrams[0].values[:N], x = nondisaster_trigrams[1].values[:N], ax = ax[2, 1], color = '#fdc029')\n",
        "\n",
        "sns.barplot(y = disaster_4grams[0].values[:N], x = disaster_4grams[1].values[:N], ax = ax[3, 0], color='#171820')\n",
        "sns.barplot(y = nondisaster_4grams[0].values[:N], x = nondisaster_4grams[1].values[:N], ax = ax[3, 1], color = '#fdc029')\n",
        "\n",
        "for i in range(0, 4):\n",
        "    for j in range(0, 2):\n",
        "        ax[i, j].spines['right'].set_visible(False)\n",
        "        ax[i, j].spines['left'].set_visible(False)\n",
        "        ax[i, j].spines['top'].set_visible(False)\n",
        "        ax[i, j].set_xlabel('')\n",
        "        ax[i, j].set_ylabel('')\n",
        "        ax[i, j].tick_params(axis='x', labelsize=12)\n",
        "        ax[i, j].tick_params(axis='y', labelsize=12)\n",
        "    \n",
        "\n",
        "plt.tight_layout()\n",
        "plt.show()"
      ]
    },
    {
      "cell_type": "markdown",
      "metadata": {
        "papermill": {
          "duration": 0.029172,
          "end_time": "2020-09-05T15:56:32.187002",
          "exception": false,
          "start_time": "2020-09-05T15:56:32.157830",
          "status": "completed"
        },
        "tags": [],
        "id": "If_5u9wlh6G1"
      },
      "source": [
        "# III. Base Model\n",
        "\n",
        "**In this section we will explore simple recurrent neural networks and word embeddings to see how well these 'shallow' networks perform for binary sentiment extraction. After experimenting with LSTMs, we will see how the infamous [BERT](https://arxiv.org/abs/1810.04805) transformer**\n",
        "\n",
        "## 1. Word Embeddings\n",
        "\n",
        "**The following reference takes you step by step through the process of using word embeddings with Keras. I highly recommend you read it if just beginning with embeddings: https://blog.keras.io/using-pre-trained-word-embeddings-in-a-keras-model.html**\n",
        "\n",
        "**One way to feed our model text data is to treat each word in our vocabulary as a separate feature and one hot encode them (Bag of Words encoding). This works and performs decently, but there is a major drawback to this approach**\n",
        "\n",
        "### Mathematical intuition:\n",
        "\n",
        "**We are interested in constructing a vector space to represent our words. Suppose our vocabulary is: 'cat', 'dog', 'plant', 'leaf', 'man', woman'. Then we can form a vector space via:**\n",
        "\n",
        "$$ cat = (1, 0, 0, 0, 0, 0) $$\n",
        "$$ dog = (0, 1, 0, 0, 0, 0) $$\n",
        "$$ plant = (0, 0, 1, 0, 0, 0) $$\n",
        "$$ leaf = (0, 0, 0, 1, 0, 0) $$\n",
        "$$ man = (0, 0, 0, 0, 1, 0) $$\n",
        "$$ woman = (0, 0, 0, 0, 0, 1) $$\n",
        "\n",
        "**But these vectors form an orthogonal basis, so when we take the dot product of them, we get 0:**\n",
        "\n",
        "$$ cat \\cdot dog = (1, 0, 0, 0, 0, 0) \\cdot (0, 1, 0, 0, 0, 0) = 0$$\n",
        "\n",
        "**This means that all of these vectors are as far as possible from each other in the vector space, i.e., they are not similar. But words like cat and dog are similar in meaning, so it would be great if our word encoddings could somehow capture this similarity**\n",
        "\n",
        "**So, instead of following the Bag of Word approach, we will import the pre-trained words from GloVe and use them to construct our word embeddings. But what is GloVe?**  \n",
        "\n",
        "> \"GloVe is an unsupervised learning algorithm for obtaining vector representations for words. Training is performed on aggregated global word-word co-occurrence statistics from a corpus, and the resulting representations showcase interesting linear substructures of the word vector space.\"\n",
        "\n",
        "**For example, we can take the vector for King and subtract the vector for Man and the resulting vector is remarkably close to the vector for Queen. Using these word encodings as opposed to the Bag of Word encodings will substantially improve our classification accuracy**\n",
        "\n",
        "**Now, some of the GloVe embeddings actually have tokens for punctuation, so for completeness, I will show you how to include punctuation in your embeddings if you think it will improve the accuracy of your model:**"
      ]
    },
    {
      "cell_type": "code",
      "execution_count": 24,
      "metadata": {
        "execution": {
          "iopub.execute_input": "2020-09-05T15:56:32.249426Z",
          "iopub.status.busy": "2020-09-05T15:56:32.248489Z",
          "iopub.status.idle": "2020-09-05T15:56:32.532377Z",
          "shell.execute_reply": "2020-09-05T15:56:32.532900Z"
        },
        "papermill": {
          "duration": 0.317315,
          "end_time": "2020-09-05T15:56:32.533037",
          "exception": false,
          "start_time": "2020-09-05T15:56:32.215722",
          "status": "completed"
        },
        "tags": [],
        "colab": {
          "base_uri": "https://localhost:8080/"
        },
        "id": "srHSqjtFh6G1",
        "outputId": "be912f6e-8e6f-49ca-9418-21848820f13c"
      },
      "outputs": [
        {
          "output_type": "stream",
          "name": "stdout",
          "text": [
            "{'why': 1, 'are': 2, 'you': 3, 'so': 4, 'f': 5, '#': 6, '@': 7, 'ing': 8, 'angry': 9, 'all': 10, 'the': 11, 'time': 12, '?': 13, '!': 14}\n"
          ]
        }
      ],
      "source": [
        "from keras.preprocessing.text import Tokenizer\n",
        "\n",
        "#find way to tokenize punctuation\n",
        "to_exclude = '*+-/()%\\n[\\\\]{|}^_`~\\t'\n",
        "to_tokenize = '!\"#$&?:;<=>@'\n",
        "tokenizer = Tokenizer(filters = to_exclude)\n",
        "text = 'Why are you so f%#@ing angry all the time?!'\n",
        "text = re.sub(r'(['+to_tokenize+'])', r' \\1 ', text)\n",
        "tokenizer.fit_on_texts([text])\n",
        "\n",
        "#view new text\n",
        "print(tokenizer.word_index)"
      ]
    },
    {
      "cell_type": "markdown",
      "metadata": {
        "papermill": {
          "duration": 0.025597,
          "end_time": "2020-09-05T15:56:32.584666",
          "exception": false,
          "start_time": "2020-09-05T15:56:32.559069",
          "status": "completed"
        },
        "tags": [],
        "id": "9X6VFXGGh6G2"
      },
      "source": [
        "**That did the trick! We won't be using punctuation embedding for this notebook, but it is worth playing around to see if doing so improves your model's performance**"
      ]
    },
    {
      "cell_type": "code",
      "execution_count": 25,
      "metadata": {
        "execution": {
          "iopub.execute_input": "2020-09-05T15:56:32.676712Z",
          "iopub.status.busy": "2020-09-05T15:56:32.676008Z",
          "iopub.status.idle": "2020-09-05T15:56:32.680735Z",
          "shell.execute_reply": "2020-09-05T15:56:32.680171Z"
        },
        "papermill": {
          "duration": 0.071086,
          "end_time": "2020-09-05T15:56:32.680840",
          "exception": false,
          "start_time": "2020-09-05T15:56:32.609754",
          "status": "completed"
        },
        "tags": [],
        "id": "J-3SPLdEh6G2"
      },
      "outputs": [],
      "source": [
        "#broadcast to entire text column\n",
        "#total['text'] = total['text'].apply(lambda x: re.sub(r'(['+to_tokenize+'])', r' \\1 ', x))"
      ]
    },
    {
      "cell_type": "markdown",
      "metadata": {
        "papermill": {
          "duration": 0.025863,
          "end_time": "2020-09-05T15:56:32.734044",
          "exception": false,
          "start_time": "2020-09-05T15:56:32.708181",
          "status": "completed"
        },
        "tags": [],
        "id": "MMgsNDzZh6G2"
      },
      "source": [
        "**We can also include the `oov_token` parameter in the Keras Tokenizer object so that when the tokenizer finds words that our out of vocabulary in the test set, instead of skipping them, it includes them as a token of our choosing, we just need to ensure our token does not resemble any other words in our vocabulary. However, since we will ultimately embed our words as GloVe vectors, this step is useless. But if you were using your own embeddings, it could prove useful, so I will include it below:**"
      ]
    },
    {
      "cell_type": "code",
      "execution_count": 26,
      "metadata": {
        "execution": {
          "iopub.execute_input": "2020-09-05T15:56:32.821497Z",
          "iopub.status.busy": "2020-09-05T15:56:32.806021Z",
          "iopub.status.idle": "2020-09-05T15:56:33.522704Z",
          "shell.execute_reply": "2020-09-05T15:56:33.521970Z"
        },
        "papermill": {
          "duration": 0.762304,
          "end_time": "2020-09-05T15:56:33.522843",
          "exception": false,
          "start_time": "2020-09-05T15:56:32.760539",
          "status": "completed"
        },
        "tags": [],
        "colab": {
          "base_uri": "https://localhost:8080/"
        },
        "id": "l5LGpCfOh6G3",
        "outputId": "46674b8e-be27-46d4-bb9d-6dce9cca9b3a"
      },
      "outputs": [
        {
          "output_type": "stream",
          "name": "stdout",
          "text": [
            "Found 29279 unique tokens.\n",
            "Shape of data tensor: (10876, 40)\n",
            "Shape of label tensor: (7613,)\n"
          ]
        }
      ],
      "source": [
        "from keras.preprocessing.sequence import pad_sequences\n",
        "from keras import Input\n",
        "\n",
        "#define tokenizer options\n",
        "tokenizer = Tokenizer()     \n",
        "#tokenizer = Tokenizer(oov_token = '<OOV>')           #if you wanted to tokenized OOV words\n",
        "#tokenizer = Tokenizer(filters = to_exclude)          #if you wanted to include punctuation\n",
        "tokenizer.fit_on_texts(tweets)\n",
        "sequences = tokenizer.texts_to_sequences(tweets)\n",
        "\n",
        "word_index = tokenizer.word_index\n",
        "print('Found %s unique tokens.' % len(word_index))\n",
        "\n",
        "data = pad_sequences(sequences)\n",
        "labels = train['target']\n",
        "print('Shape of data tensor:', data.shape)\n",
        "print('Shape of label tensor:', labels.shape)\n",
        "\n",
        "nlp_train = data[:len(train)]\n",
        "labels = labels\n",
        "nlp_test = data[len(train):]\n",
        "\n",
        "MAX_SEQUENCE_LENGTH = data.shape[1]"
      ]
    },
    {
      "cell_type": "markdown",
      "metadata": {
        "papermill": {
          "duration": 0.02576,
          "end_time": "2020-09-05T15:56:33.574821",
          "exception": false,
          "start_time": "2020-09-05T15:56:33.549061",
          "status": "completed"
        },
        "tags": [],
        "id": "rN_P9I0xh6G3"
      },
      "source": [
        "**Note: there are several variants of the GloVe vectors. Some are trained on different sources (Wikipedia vs. Twitter) and they all come in different dimensions. We will try both Wikipedia and Twitter based embeddings, typically using the higher dimensional representations, either 200D or 300D**\n",
        "\n",
        "**The main difference between the Wikipedia and Twitter GloVe vectors is that there are only 400,000 words in the former's vocabulary whereas there are over a million words in the latter's. For more information:**\n",
        "\n",
        "> https://nlp.stanford.edu/projects/glove/\n",
        "\n",
        "**Note: After tinkering around, I concluded that the Wikipedia GloVe embeddings worked best for my model. That being said, I am sure one could leverage the Twitter corpus to create a model that outperforms mine**"
      ]
    },
    {
      "cell_type": "code",
      "execution_count": 27,
      "metadata": {
        "execution": {
          "iopub.execute_input": "2020-09-05T15:56:33.631468Z",
          "iopub.status.busy": "2020-09-05T15:56:33.630844Z",
          "iopub.status.idle": "2020-09-05T15:57:14.442933Z",
          "shell.execute_reply": "2020-09-05T15:57:14.443581Z"
        },
        "papermill": {
          "duration": 40.844064,
          "end_time": "2020-09-05T15:57:14.443744",
          "exception": false,
          "start_time": "2020-09-05T15:56:33.599680",
          "status": "completed"
        },
        "tags": [],
        "colab": {
          "base_uri": "https://localhost:8080/"
        },
        "id": "I161gDgDh6G4",
        "outputId": "90501ccd-3e18-4217-8ee6-6c8b86bf39d3"
      },
      "outputs": [
        {
          "output_type": "stream",
          "name": "stderr",
          "text": [
            "400000it [00:21, 18428.33it/s]"
          ]
        },
        {
          "output_type": "stream",
          "name": "stdout",
          "text": [
            "Found 400000 word vectors in the GloVe library\n"
          ]
        },
        {
          "output_type": "stream",
          "name": "stderr",
          "text": [
            "\n"
          ]
        }
      ],
      "source": [
        "#get GloVe vector embeddings\n",
        "embeddings_index = {}\n",
        "with open(w9_files+\"/glove.6B.200d.txt\",'r') as f:\n",
        "    for line in tqdm(f):\n",
        "        values = line.split()\n",
        "        word = values[0]\n",
        "        coefs = np.asarray(values[1:], dtype='float32')\n",
        "        embeddings_index[word] = coefs\n",
        "f.close()\n",
        "\n",
        "print('Found %s word vectors in the GloVe library' % len(embeddings_index))"
      ]
    },
    {
      "cell_type": "code",
      "execution_count": 28,
      "metadata": {
        "execution": {
          "iopub.execute_input": "2020-09-05T15:57:14.546125Z",
          "iopub.status.busy": "2020-09-05T15:57:14.545500Z",
          "iopub.status.idle": "2020-09-05T15:57:14.550012Z",
          "shell.execute_reply": "2020-09-05T15:57:14.549494Z"
        },
        "papermill": {
          "duration": 0.056803,
          "end_time": "2020-09-05T15:57:14.550128",
          "exception": false,
          "start_time": "2020-09-05T15:57:14.493325",
          "status": "completed"
        },
        "tags": [],
        "id": "pySTNbq-h6G4"
      },
      "outputs": [],
      "source": [
        "EMBEDDING_DIM = 200   #defined by size of GloVe word vector dimensions"
      ]
    },
    {
      "cell_type": "code",
      "execution_count": 29,
      "metadata": {
        "execution": {
          "iopub.execute_input": "2020-09-05T15:57:14.654179Z",
          "iopub.status.busy": "2020-09-05T15:57:14.653241Z",
          "iopub.status.idle": "2020-09-05T15:57:14.750258Z",
          "shell.execute_reply": "2020-09-05T15:57:14.749668Z"
        },
        "papermill": {
          "duration": 0.153651,
          "end_time": "2020-09-05T15:57:14.750373",
          "exception": false,
          "start_time": "2020-09-05T15:57:14.596722",
          "status": "completed"
        },
        "tags": [],
        "colab": {
          "base_uri": "https://localhost:8080/"
        },
        "id": "PGFDgOpBh6G4",
        "outputId": "143caaed-ed6f-46db-ec1e-a8fde8c9017f"
      },
      "outputs": [
        {
          "output_type": "stream",
          "name": "stderr",
          "text": [
            "100%|██████████| 29279/29279 [00:00<00:00, 665310.60it/s]"
          ]
        },
        {
          "output_type": "stream",
          "name": "stdout",
          "text": [
            "Our embedded matrix is of dimension (29280, 200)\n"
          ]
        },
        {
          "output_type": "stream",
          "name": "stderr",
          "text": [
            "\n"
          ]
        }
      ],
      "source": [
        "#initialize embedding matrix with zeros\n",
        "embedding_matrix = np.zeros((len(word_index) + 1, EMBEDDING_DIM))\n",
        "\n",
        "#add glove word encodings to our library\n",
        "for word, i in tqdm(word_index.items()):\n",
        "    embedding_vector = embeddings_index.get(word)\n",
        "    if embedding_vector is not None:\n",
        "        \n",
        "        #words not found in embedding index will be all-zeros.\n",
        "        embedding_matrix[i] = embedding_vector\n",
        "        \n",
        "print(\"Our embedded matrix is of dimension\", embedding_matrix.shape)"
      ]
    },
    {
      "cell_type": "code",
      "execution_count": 30,
      "metadata": {
        "execution": {
          "iopub.execute_input": "2020-09-05T15:57:14.910910Z",
          "iopub.status.busy": "2020-09-05T15:57:14.909684Z",
          "iopub.status.idle": "2020-09-05T15:57:14.923737Z",
          "shell.execute_reply": "2020-09-05T15:57:14.924914Z"
        },
        "papermill": {
          "duration": 0.109862,
          "end_time": "2020-09-05T15:57:14.925097",
          "exception": false,
          "start_time": "2020-09-05T15:57:14.815235",
          "status": "completed"
        },
        "tags": [],
        "id": "fn3vmkXzh6G5"
      },
      "outputs": [],
      "source": [
        "#import neural network basic\n",
        "from keras.layers import Embedding, LSTM, Dense, SpatialDropout1D, Bidirectional, Dropout, Concatenate, LeakyReLU, GRU\n",
        "from keras import Input, Model, regularizers\n",
        "#from keras.optimizers import Adam\n",
        "from tensorflow.keras.optimizers import Adam\n",
        "from keras.models import Sequential\n",
        "from keras.callbacks import EarlyStopping\n",
        "\n",
        "embedding = Embedding(len(word_index) + 1, EMBEDDING_DIM, weights = [embedding_matrix],\n",
        "                     input_length = MAX_SEQUENCE_LENGTH, trainable = False)  \n",
        "\n",
        "#we do not want embedding layer to train since it has been pretrained"
      ]
    },
    {
      "cell_type": "markdown",
      "metadata": {
        "papermill": {
          "duration": 0.071113,
          "end_time": "2020-09-05T15:57:15.075330",
          "exception": false,
          "start_time": "2020-09-05T15:57:15.004217",
          "status": "completed"
        },
        "tags": [],
        "id": "A-sVGFPLh6G5"
      },
      "source": [
        "**Now, we could just feed our model our word embeddings, but we could also add the features we added during our initial exploration to improve performance**\n",
        "\n",
        "**This 'meta input' contains information about the tweets that is no longer available to our model because of how we processed and cleaned the text, such as number of the URLs in a tweet.**  \n",
        "\n",
        "**To include these features in our model, we pass our NLP data through our LSTM layer and then add the scaled meta input to it before the final layer:**"
      ]
    },
    {
      "cell_type": "code",
      "execution_count": 31,
      "metadata": {
        "execution": {
          "iopub.execute_input": "2020-09-05T15:57:15.223761Z",
          "iopub.status.busy": "2020-09-05T15:57:15.222904Z",
          "iopub.status.idle": "2020-09-05T15:57:15.304398Z",
          "shell.execute_reply": "2020-09-05T15:57:15.305519Z"
        },
        "papermill": {
          "duration": 0.161094,
          "end_time": "2020-09-05T15:57:15.305703",
          "exception": false,
          "start_time": "2020-09-05T15:57:15.144609",
          "status": "completed"
        },
        "tags": [],
        "id": "qFbp-mBTh6G6"
      },
      "outputs": [],
      "source": [
        "from sklearn.preprocessing import StandardScaler, MinMaxScaler, RobustScaler\n",
        "\n",
        "def scale(df, scaler):\n",
        "    return scaler.fit_transform(df.iloc[:, 2:])\n",
        "\n",
        "#and scal\n",
        "meta_train = scale(train, StandardScaler())\n",
        "meta_test = scale(test, StandardScaler())"
      ]
    },
    {
      "cell_type": "markdown",
      "metadata": {
        "papermill": {
          "duration": 0.070518,
          "end_time": "2020-09-05T15:57:15.465779",
          "exception": false,
          "start_time": "2020-09-05T15:57:15.395261",
          "status": "completed"
        },
        "tags": [],
        "id": "Wtu7qIgrh6G6"
      },
      "source": [
        "## 2. Simple LSTM Model\n",
        "\n",
        "**We will now design a Long Short-Term Memory (LSTM) recurrent neural network to classify our tweets to see how it performs on the leaderboard**  \n",
        "\n",
        "**For those who want to learn more about Reccurent Neural Networks (RNN), the following video from MIT is an excellent resource:**  \n",
        "\n",
        "> https://www.youtube.com/watch?v=SEnXr6v2ifU\n",
        "\n",
        "**We will add various levels of dropouts and a regularizer to our LSTM layer to control overfitting (as LSTM models are prone to do). For more information, see the below articles:**\n",
        "\n",
        "> https://machinelearningmastery.com/how-to-reduce-overfitting-with-dropout-regularization-in-keras/\n",
        "> https://machinelearningmastery.com/use-dropout-lstm-networks-time-series-forecasting/  \n",
        "> https://machinelearningmastery.com/use-weight-regularization-lstm-networks-time-series-forecasting/"
      ]
    },
    {
      "cell_type": "code",
      "execution_count": 32,
      "metadata": {
        "execution": {
          "iopub.execute_input": "2020-09-05T15:57:15.619809Z",
          "iopub.status.busy": "2020-09-05T15:57:15.618972Z",
          "iopub.status.idle": "2020-09-05T15:57:15.623215Z",
          "shell.execute_reply": "2020-09-05T15:57:15.622630Z"
        },
        "papermill": {
          "duration": 0.090636,
          "end_time": "2020-09-05T15:57:15.623324",
          "exception": false,
          "start_time": "2020-09-05T15:57:15.532688",
          "status": "completed"
        },
        "tags": [],
        "id": "2dG2cm-Oh6G6"
      },
      "outputs": [],
      "source": [
        "#function to create lstm model\n",
        "def create_lstm(spatial_dropout, dropout, recurrent_dropout, learning_rate, bidirectional = False):\n",
        "    #define activation\n",
        "    activation = LeakyReLU(alpha = 0.01)\n",
        "    \n",
        "    #define inputs\n",
        "    nlp_input = Input(shape = (MAX_SEQUENCE_LENGTH,), name = 'nlp_input')\n",
        "    meta_input_train = Input(shape = (7, ), name = 'meta_train')\n",
        "    emb = embedding(nlp_input)\n",
        "    emb = SpatialDropout1D(dropout)(emb)\n",
        "\n",
        "    #add LSTM layer\n",
        "    if bidirectional:\n",
        "        nlp_out = (Bidirectional(LSTM(100, dropout = dropout, recurrent_dropout = recurrent_dropout,\n",
        "                                 kernel_initializer = 'orthogonal')))(emb)\n",
        "    else:\n",
        "        nlp_out = (LSTM(100, dropout = dropout, recurrent_dropout = recurrent_dropout,\n",
        "                                 kernel_initializer = 'orthogonal'))(emb)        \n",
        "     \n",
        "    #add meta data    \n",
        "    x = Concatenate()([nlp_out, meta_input_train])\n",
        "    \n",
        "    #add output layer\n",
        "    x = Dropout(dropout)(x)\n",
        "    preds = Dense(1, activation='sigmoid', kernel_regularizer = regularizers.l2(1e-4))(x)\n",
        "    \n",
        "    #compile model\n",
        "    model = Model(inputs=[nlp_input , meta_input_train], outputs = preds)\n",
        "    optimizer = Adam(learning_rate = learning_rate)\n",
        "    model.compile(loss = 'binary_crossentropy', optimizer = optimizer, metrics = ['accuracy'])\n",
        "    \n",
        "    return model"
      ]
    },
    {
      "cell_type": "code",
      "execution_count": 33,
      "metadata": {
        "execution": {
          "iopub.execute_input": "2020-09-05T15:57:15.787379Z",
          "iopub.status.busy": "2020-09-05T15:57:15.786586Z",
          "iopub.status.idle": "2020-09-05T15:57:15.794698Z",
          "shell.execute_reply": "2020-09-05T15:57:15.795777Z"
        },
        "papermill": {
          "duration": 0.112519,
          "end_time": "2020-09-05T15:57:15.795942",
          "exception": false,
          "start_time": "2020-09-05T15:57:15.683423",
          "status": "completed"
        },
        "tags": [],
        "id": "yN4Rf_90h6G7"
      },
      "outputs": [],
      "source": [
        "#define conveient training function to visualize learning curves\n",
        "def plot_learning_curves(history): \n",
        "    fig, ax = plt.subplots(1, 2, figsize = (20, 10))\n",
        "\n",
        "    ax[0].plot(history.history['accuracy'])\n",
        "    ax[0].plot(history.history['val_accuracy'])\n",
        "\n",
        "    ax[1].plot(history.history['loss'])\n",
        "    ax[1].plot(history.history['val_loss'])\n",
        "\n",
        "    ax[0].legend(['train', 'validation'], loc = 'upper left')\n",
        "    ax[1].legend(['train', 'validation'], loc = 'upper left')\n",
        "\n",
        "    fig.suptitle(\"Model Accuracy\", fontsize=14)\n",
        "\n",
        "    ax[0].set_ylabel('Accuracy')\n",
        "    ax[0].set_xlabel('Epoch')\n",
        "    ax[1].set_ylabel('Loss')\n",
        "    ax[1].set_xlabel('Epoch')\n",
        "\n",
        "    return plt.show()"
      ]
    },
    {
      "cell_type": "code",
      "execution_count": 34,
      "metadata": {
        "execution": {
          "iopub.execute_input": "2020-09-05T15:57:15.950059Z",
          "iopub.status.busy": "2020-09-05T15:57:15.948831Z",
          "iopub.status.idle": "2020-09-05T15:57:19.646747Z",
          "shell.execute_reply": "2020-09-05T15:57:19.646088Z"
        },
        "papermill": {
          "duration": 3.780966,
          "end_time": "2020-09-05T15:57:19.646863",
          "exception": false,
          "start_time": "2020-09-05T15:57:15.865897",
          "status": "completed"
        },
        "tags": [],
        "colab": {
          "base_uri": "https://localhost:8080/"
        },
        "id": "SaZdJw9vh6G7",
        "outputId": "16c5602d-210b-4627-dee4-31c501dde534"
      },
      "outputs": [
        {
          "output_type": "stream",
          "name": "stdout",
          "text": [
            "WARNING:tensorflow:Layer lstm will not use cuDNN kernels since it doesn't meet the criteria. It will use a generic GPU kernel as fallback when running on GPU.\n",
            "WARNING:tensorflow:Layer lstm will not use cuDNN kernels since it doesn't meet the criteria. It will use a generic GPU kernel as fallback when running on GPU.\n",
            "WARNING:tensorflow:Layer lstm will not use cuDNN kernels since it doesn't meet the criteria. It will use a generic GPU kernel as fallback when running on GPU.\n",
            "Model: \"model\"\n",
            "__________________________________________________________________________________________________\n",
            " Layer (type)                   Output Shape         Param #     Connected to                     \n",
            "==================================================================================================\n",
            " nlp_input (InputLayer)         [(None, 40)]         0           []                               \n",
            "                                                                                                  \n",
            " embedding (Embedding)          (None, 40, 200)      5856000     ['nlp_input[0][0]']              \n",
            "                                                                                                  \n",
            " spatial_dropout1d (SpatialDrop  (None, 40, 200)     0           ['embedding[0][0]']              \n",
            " out1D)                                                                                           \n",
            "                                                                                                  \n",
            " bidirectional (Bidirectional)  (None, 200)          240800      ['spatial_dropout1d[0][0]']      \n",
            "                                                                                                  \n",
            " meta_train (InputLayer)        [(None, 7)]          0           []                               \n",
            "                                                                                                  \n",
            " concatenate (Concatenate)      (None, 207)          0           ['bidirectional[0][0]',          \n",
            "                                                                  'meta_train[0][0]']             \n",
            "                                                                                                  \n",
            " dropout (Dropout)              (None, 207)          0           ['concatenate[0][0]']            \n",
            "                                                                                                  \n",
            " dense (Dense)                  (None, 1)            208         ['dropout[0][0]']                \n",
            "                                                                                                  \n",
            "==================================================================================================\n",
            "Total params: 6,097,008\n",
            "Trainable params: 241,008\n",
            "Non-trainable params: 5,856,000\n",
            "__________________________________________________________________________________________________\n"
          ]
        }
      ],
      "source": [
        "#create our first model\n",
        "lstm = create_lstm(spatial_dropout = .2, dropout = .2, recurrent_dropout = .2,\n",
        "                     learning_rate = 3e-4, bidirectional = True)\n",
        "lstm.summary()"
      ]
    },
    {
      "cell_type": "code",
      "execution_count": 35,
      "metadata": {
        "execution": {
          "iopub.execute_input": "2020-09-05T15:57:19.769982Z",
          "iopub.status.busy": "2020-09-05T15:57:19.768338Z",
          "iopub.status.idle": "2020-09-05T16:01:53.685739Z",
          "shell.execute_reply": "2020-09-05T16:01:53.686547Z"
        },
        "papermill": {
          "duration": 273.981142,
          "end_time": "2020-09-05T16:01:53.686800",
          "exception": false,
          "start_time": "2020-09-05T15:57:19.705658",
          "status": "completed"
        },
        "tags": [],
        "colab": {
          "base_uri": "https://localhost:8080/"
        },
        "id": "t0xbmh49h6G8",
        "outputId": "c9047f69-0112-4ad1-a90d-252c13bca0cf"
      },
      "outputs": [
        {
          "output_type": "stream",
          "name": "stdout",
          "text": [
            "Epoch 1/5\n",
            "290/290 [==============================] - 36s 104ms/step - loss: 0.5223 - accuracy: 0.7411 - val_loss: 0.4270 - val_accuracy: 0.8043\n",
            "Epoch 2/5\n",
            "290/290 [==============================] - 30s 105ms/step - loss: 0.4534 - accuracy: 0.8015 - val_loss: 0.4161 - val_accuracy: 0.8201\n",
            "Epoch 3/5\n",
            "290/290 [==============================] - 30s 102ms/step - loss: 0.4385 - accuracy: 0.8099 - val_loss: 0.4130 - val_accuracy: 0.8162\n",
            "Epoch 4/5\n",
            "290/290 [==============================] - 30s 103ms/step - loss: 0.4304 - accuracy: 0.8103 - val_loss: 0.4054 - val_accuracy: 0.8155\n",
            "Epoch 5/5\n",
            "290/290 [==============================] - 29s 102ms/step - loss: 0.4183 - accuracy: 0.8213 - val_loss: 0.4022 - val_accuracy: 0.8201\n"
          ]
        }
      ],
      "source": [
        "#fit model\n",
        "history1 = lstm.fit([nlp_train, meta_train], labels, validation_split = .2,\n",
        "                       epochs = 5, batch_size = 21, verbose = 1)"
      ]
    },
    {
      "cell_type": "code",
      "execution_count": 36,
      "metadata": {
        "execution": {
          "iopub.execute_input": "2020-09-05T16:01:53.972956Z",
          "iopub.status.busy": "2020-09-05T16:01:53.966928Z",
          "iopub.status.idle": "2020-09-05T16:01:54.415380Z",
          "shell.execute_reply": "2020-09-05T16:01:54.415866Z"
        },
        "papermill": {
          "duration": 0.591228,
          "end_time": "2020-09-05T16:01:54.415997",
          "exception": false,
          "start_time": "2020-09-05T16:01:53.824769",
          "status": "completed"
        },
        "tags": [],
        "colab": {
          "base_uri": "https://localhost:8080/",
          "height": 54
        },
        "id": "0X5PLRGwh6G8",
        "outputId": "a2e6ed87-129e-4b46-bcc6-f19a9c162187"
      },
      "outputs": [
        {
          "output_type": "display_data",
          "data": {
            "image/png": "[encoded data removed]",
            "text/plain": [
              "<Figure size 1440x720 with 2 Axes>"
            ]
          },
          "metadata": {
            "needs_background": "light"
          }
        }
      ],
      "source": [
        "#view model 1 learning curves\n",
        "plot_learning_curves(history1)"
      ]
    },
    {
      "cell_type": "markdown",
      "metadata": {
        "papermill": {
          "duration": 0.133995,
          "end_time": "2020-09-05T16:01:54.685350",
          "exception": false,
          "start_time": "2020-09-05T16:01:54.551355",
          "status": "completed"
        },
        "tags": [],
        "id": "cPOx-Y7Lh6G9"
      },
      "source": [
        "## 3. A Note on  Overfitting\n",
        "\n",
        "**Dropout layers can help reduce overfitting, but there is no obvious way to add them and where to add them, so we will just have to experiment a bit**\n",
        "\n",
        "**For the curious reader, the article below is very informative:**\n",
        "\n",
        "> https://arxiv.org/pdf/1512.05287.pdf\n",
        "\n",
        "**Hint: you can also implement a callback that automatically halts model training when your performance decreases. This can also serve as a layman's grid search for epochs, seeing as you will be able to see at which epoch your model is optimized. I have already determined the optimal epoch range by trial and error, but I would recommend including a call back during your first pass of model training. Below is an easy way to include it:**"
      ]
    },
    {
      "cell_type": "code",
      "execution_count": 37,
      "metadata": {
        "execution": {
          "iopub.execute_input": "2020-09-05T16:01:54.966717Z",
          "iopub.status.busy": "2020-09-05T16:01:54.964796Z",
          "iopub.status.idle": "2020-09-05T16:01:54.967567Z",
          "shell.execute_reply": "2020-09-05T16:01:54.968097Z"
        },
        "papermill": {
          "duration": 0.145494,
          "end_time": "2020-09-05T16:01:54.968258",
          "exception": false,
          "start_time": "2020-09-05T16:01:54.822764",
          "status": "completed"
        },
        "tags": [],
        "id": "dCobsO6vh6G9"
      },
      "outputs": [],
      "source": [
        "#define early stopping callback\n",
        "callback = EarlyStopping(monitor = 'val_loss', patience = 4)\n",
        "\n",
        "#include it in your models training\n",
        "#history = model.fit(train, labels, validation_split = .2, epochs = 100, callbacks = [callback])"
      ]
    },
    {
      "cell_type": "markdown",
      "metadata": {
        "papermill": {
          "duration": 0.139028,
          "end_time": "2020-09-05T16:01:55.244640",
          "exception": false,
          "start_time": "2020-09-05T16:01:55.105612",
          "status": "completed"
        },
        "tags": [],
        "id": "9PnG1OBah6G9"
      },
      "source": [
        "**You can monitor by different metrics, the most important being val_accuracy and val_loss. To prevent overfitting, I recommend selecting val_loss as your monitoring parameter. The patience arguement is just the number of epochs before stopping once the monitoring parameter stops improving**\n",
        "\n",
        "**Note: if you use a smaller batch size (or a larger learning rate), the val_loss will be noisier (zig-zag more) so you need to set a larger patience arguement to ensure your model does not prematurely end it's training**"
      ]
    },
    {
      "cell_type": "markdown",
      "metadata": {
        "papermill": {
          "duration": 0.135101,
          "end_time": "2020-09-05T16:01:55.554013",
          "exception": false,
          "start_time": "2020-09-05T16:01:55.418912",
          "status": "completed"
        },
        "tags": [],
        "id": "DfBaeyQmh6G-"
      },
      "source": [
        "# IV. More Complex Model(s)\n",
        "\n",
        "**In this section we will see if adding additional layers improves performance. We also changed the model's optimizer to LeakyRelu which allows the model to retain some information about the negative values that propogate through it. It is more computationally expensive and its performance is not consistent, so in practice it is not used much, but let's experiment with it here:**"
      ]
    },
    {
      "cell_type": "markdown",
      "metadata": {
        "papermill": {
          "duration": 0.13488,
          "end_time": "2020-09-05T16:01:55.825917",
          "exception": false,
          "start_time": "2020-09-05T16:01:55.691037",
          "status": "completed"
        },
        "tags": [],
        "id": "0DY2KN76h6G-"
      },
      "source": [
        "## 1. Adding Hidden Layers\n",
        "\n",
        "**We will now add a fully connected hidden layer after our LSTM layer. We will use ReLu activation for this layer, so it is best to use orthogonal initialization. See below links for more on LSTMs and optimal initializers:**\n",
        "\n",
        "> https://arxiv.org/pdf/1702.00071.pdf\n",
        "> https://smerity.com/articles/2016/orthogonal_init.html"
      ]
    },
    {
      "cell_type": "code",
      "execution_count": 38,
      "metadata": {
        "execution": {
          "iopub.execute_input": "2020-09-05T16:01:56.112014Z",
          "iopub.status.busy": "2020-09-05T16:01:56.111045Z",
          "iopub.status.idle": "2020-09-05T16:01:56.115549Z",
          "shell.execute_reply": "2020-09-05T16:01:56.114963Z"
        },
        "papermill": {
          "duration": 0.155432,
          "end_time": "2020-09-05T16:01:56.115657",
          "exception": false,
          "start_time": "2020-09-05T16:01:55.960225",
          "status": "completed"
        },
        "tags": [],
        "id": "pzJg3Pqjh6G-"
      },
      "outputs": [],
      "source": [
        "#function to create lstm model\n",
        "def create_lstm_2(spatial_dropout, dropout, recurrent_dropout, learning_rate, bidirectional = False):\n",
        "    #define activation\n",
        "    activation = LeakyReLU(alpha = 0.01)\n",
        "    \n",
        "    #define inputs\n",
        "    nlp_input = Input(shape = (MAX_SEQUENCE_LENGTH,), name = 'nlp_input')\n",
        "    meta_input_train = Input(shape = (7, ), name = 'meta_train')\n",
        "    emb = embedding(nlp_input)\n",
        "    emb = SpatialDropout1D(dropout)(emb)\n",
        "\n",
        "    #add LSTM layer\n",
        "    if bidirectional:\n",
        "        nlp_out = (Bidirectional(LSTM(100, dropout = dropout, recurrent_dropout = recurrent_dropout,\n",
        "                                kernel_initializer = 'orthogonal')))(emb)\n",
        "    else:\n",
        "        nlp_out = (LSTM(100, dropout = dropout, recurrent_dropout = recurrent_dropout,\n",
        "                      kernel_initializer = 'orthogonal'))(emb)\n",
        "     \n",
        "    #add meta data    \n",
        "    x = Concatenate()([nlp_out, meta_input_train])\n",
        "    \n",
        "    #add second hidden layer\n",
        "    x = Dropout(dropout)(x)\n",
        "    x = (Dense(100, activation = activation, kernel_regularizer = regularizers.l2(1e-4),\n",
        "              kernel_initializer = 'he_normal'))(x)\n",
        "    \n",
        "    #add output layer\n",
        "    x = Dropout(dropout)(x)\n",
        "    preds = Dense(1, activation='sigmoid', kernel_regularizer = regularizers.l2(1e-4))(x)\n",
        "    \n",
        "    #compile model\n",
        "    model = Model(inputs=[nlp_input , meta_input_train], outputs = preds)\n",
        "    optimizer = Adam(learning_rate = learning_rate)\n",
        "    model.compile(loss = 'binary_crossentropy', optimizer = optimizer, metrics = ['accuracy'])\n",
        "    \n",
        "    return model"
      ]
    },
    {
      "cell_type": "code",
      "execution_count": 39,
      "metadata": {
        "execution": {
          "iopub.execute_input": "2020-09-05T16:01:56.456992Z",
          "iopub.status.busy": "2020-09-05T16:01:56.455895Z",
          "iopub.status.idle": "2020-09-05T16:01:56.949647Z",
          "shell.execute_reply": "2020-09-05T16:01:56.948436Z"
        },
        "papermill": {
          "duration": 0.670951,
          "end_time": "2020-09-05T16:01:56.949770",
          "exception": false,
          "start_time": "2020-09-05T16:01:56.278819",
          "status": "completed"
        },
        "tags": [],
        "colab": {
          "base_uri": "https://localhost:8080/"
        },
        "id": "HA9JmFYBh6G_",
        "outputId": "4d3b8a9a-147d-4aa8-a076-d18040438059"
      },
      "outputs": [
        {
          "output_type": "stream",
          "name": "stdout",
          "text": [
            "WARNING:tensorflow:Layer lstm_1 will not use cuDNN kernels since it doesn't meet the criteria. It will use a generic GPU kernel as fallback when running on GPU.\n",
            "WARNING:tensorflow:Layer lstm_1 will not use cuDNN kernels since it doesn't meet the criteria. It will use a generic GPU kernel as fallback when running on GPU.\n",
            "WARNING:tensorflow:Layer lstm_1 will not use cuDNN kernels since it doesn't meet the criteria. It will use a generic GPU kernel as fallback when running on GPU.\n",
            "Model: \"model_1\"\n",
            "__________________________________________________________________________________________________\n",
            " Layer (type)                   Output Shape         Param #     Connected to                     \n",
            "==================================================================================================\n",
            " nlp_input (InputLayer)         [(None, 40)]         0           []                               \n",
            "                                                                                                  \n",
            " embedding (Embedding)          (None, 40, 200)      5856000     ['nlp_input[0][0]']              \n",
            "                                                                                                  \n",
            " spatial_dropout1d_1 (SpatialDr  (None, 40, 200)     0           ['embedding[1][0]']              \n",
            " opout1D)                                                                                         \n",
            "                                                                                                  \n",
            " bidirectional_1 (Bidirectional  (None, 200)         240800      ['spatial_dropout1d_1[0][0]']    \n",
            " )                                                                                                \n",
            "                                                                                                  \n",
            " meta_train (InputLayer)        [(None, 7)]          0           []                               \n",
            "                                                                                                  \n",
            " concatenate_1 (Concatenate)    (None, 207)          0           ['bidirectional_1[0][0]',        \n",
            "                                                                  'meta_train[0][0]']             \n",
            "                                                                                                  \n",
            " dropout_1 (Dropout)            (None, 207)          0           ['concatenate_1[0][0]']          \n",
            "                                                                                                  \n",
            " dense_1 (Dense)                (None, 100)          20800       ['dropout_1[0][0]']              \n",
            "                                                                                                  \n",
            " dropout_2 (Dropout)            (None, 100)          0           ['dense_1[0][0]']                \n",
            "                                                                                                  \n",
            " dense_2 (Dense)                (None, 1)            101         ['dropout_2[0][0]']              \n",
            "                                                                                                  \n",
            "==================================================================================================\n",
            "Total params: 6,117,701\n",
            "Trainable params: 261,701\n",
            "Non-trainable params: 5,856,000\n",
            "__________________________________________________________________________________________________\n"
          ]
        }
      ],
      "source": [
        "#define new model\n",
        "lstm_2 = create_lstm_2(spatial_dropout = .4, dropout = .4, recurrent_dropout = .4,\n",
        "                       learning_rate = 3e-4, bidirectional = True)\n",
        "\n",
        "lstm_2.summary()"
      ]
    },
    {
      "cell_type": "code",
      "execution_count": 40,
      "metadata": {
        "execution": {
          "iopub.execute_input": "2020-09-05T16:01:57.235916Z",
          "iopub.status.busy": "2020-09-05T16:01:57.234939Z",
          "iopub.status.idle": "2020-09-05T16:29:22.141071Z",
          "shell.execute_reply": "2020-09-05T16:29:22.141636Z"
        },
        "papermill": {
          "duration": 1645.053062,
          "end_time": "2020-09-05T16:29:22.141788",
          "exception": false,
          "start_time": "2020-09-05T16:01:57.088726",
          "status": "completed"
        },
        "tags": [],
        "colab": {
          "base_uri": "https://localhost:8080/"
        },
        "id": "0qZMtNhvh6G_",
        "outputId": "5ac4aaad-daea-4ccf-e530-1862ea708aa8"
      },
      "outputs": [
        {
          "output_type": "stream",
          "name": "stdout",
          "text": [
            "Epoch 1/30\n",
            "290/290 [==============================] - 34s 105ms/step - loss: 0.6031 - accuracy: 0.6929 - val_loss: 0.4778 - val_accuracy: 0.7853\n",
            "Epoch 2/30\n",
            "290/290 [==============================] - 30s 104ms/step - loss: 0.5235 - accuracy: 0.7668 - val_loss: 0.4514 - val_accuracy: 0.7997\n",
            "Epoch 3/30\n",
            "290/290 [==============================] - 30s 104ms/step - loss: 0.5014 - accuracy: 0.7810 - val_loss: 0.4451 - val_accuracy: 0.8129\n",
            "Epoch 4/30\n",
            "290/290 [==============================] - 30s 104ms/step - loss: 0.5059 - accuracy: 0.7719 - val_loss: 0.4398 - val_accuracy: 0.8070\n",
            "Epoch 5/30\n",
            "290/290 [==============================] - 30s 104ms/step - loss: 0.4841 - accuracy: 0.7877 - val_loss: 0.4296 - val_accuracy: 0.8181\n",
            "Epoch 6/30\n",
            "290/290 [==============================] - 30s 104ms/step - loss: 0.4905 - accuracy: 0.7905 - val_loss: 0.4459 - val_accuracy: 0.8102\n",
            "Epoch 7/30\n",
            "290/290 [==============================] - 30s 105ms/step - loss: 0.4806 - accuracy: 0.7895 - val_loss: 0.4346 - val_accuracy: 0.8135\n",
            "Epoch 8/30\n",
            "290/290 [==============================] - 30s 105ms/step - loss: 0.4685 - accuracy: 0.7949 - val_loss: 0.4206 - val_accuracy: 0.8076\n",
            "Epoch 9/30\n",
            "290/290 [==============================] - 30s 103ms/step - loss: 0.4703 - accuracy: 0.7989 - val_loss: 0.4233 - val_accuracy: 0.8162\n",
            "Epoch 10/30\n",
            "290/290 [==============================] - 30s 104ms/step - loss: 0.4572 - accuracy: 0.8056 - val_loss: 0.4260 - val_accuracy: 0.8102\n",
            "Epoch 11/30\n",
            "290/290 [==============================] - 30s 103ms/step - loss: 0.4588 - accuracy: 0.8049 - val_loss: 0.4322 - val_accuracy: 0.8083\n",
            "Epoch 12/30\n",
            "290/290 [==============================] - 30s 104ms/step - loss: 0.4493 - accuracy: 0.8049 - val_loss: 0.4336 - val_accuracy: 0.8181\n",
            "Epoch 13/30\n",
            "290/290 [==============================] - 30s 104ms/step - loss: 0.4568 - accuracy: 0.8021 - val_loss: 0.4242 - val_accuracy: 0.8214\n",
            "Epoch 14/30\n",
            "290/290 [==============================] - 30s 103ms/step - loss: 0.4435 - accuracy: 0.8095 - val_loss: 0.4318 - val_accuracy: 0.8122\n",
            "Epoch 15/30\n",
            "290/290 [==============================] - 30s 104ms/step - loss: 0.4424 - accuracy: 0.8128 - val_loss: 0.4182 - val_accuracy: 0.8168\n",
            "Epoch 16/30\n",
            "290/290 [==============================] - 30s 104ms/step - loss: 0.4447 - accuracy: 0.8112 - val_loss: 0.4262 - val_accuracy: 0.8155\n",
            "Epoch 17/30\n",
            "290/290 [==============================] - 30s 103ms/step - loss: 0.4309 - accuracy: 0.8190 - val_loss: 0.4438 - val_accuracy: 0.8175\n",
            "Epoch 18/30\n",
            "290/290 [==============================] - 30s 105ms/step - loss: 0.4358 - accuracy: 0.8167 - val_loss: 0.4212 - val_accuracy: 0.8155\n",
            "Epoch 19/30\n",
            "290/290 [==============================] - 30s 103ms/step - loss: 0.4292 - accuracy: 0.8164 - val_loss: 0.4185 - val_accuracy: 0.8043\n",
            "Epoch 20/30\n",
            "290/290 [==============================] - 30s 104ms/step - loss: 0.4288 - accuracy: 0.8156 - val_loss: 0.4308 - val_accuracy: 0.8175\n",
            "Epoch 21/30\n",
            "290/290 [==============================] - 30s 104ms/step - loss: 0.4234 - accuracy: 0.8266 - val_loss: 0.4280 - val_accuracy: 0.8148\n",
            "Epoch 22/30\n",
            "290/290 [==============================] - 30s 104ms/step - loss: 0.4156 - accuracy: 0.8248 - val_loss: 0.4311 - val_accuracy: 0.8194\n",
            "Epoch 23/30\n",
            "290/290 [==============================] - 30s 105ms/step - loss: 0.4091 - accuracy: 0.8238 - val_loss: 0.4324 - val_accuracy: 0.8083\n",
            "Epoch 24/30\n",
            "290/290 [==============================] - 30s 104ms/step - loss: 0.4163 - accuracy: 0.8251 - val_loss: 0.4334 - val_accuracy: 0.8070\n",
            "Epoch 25/30\n",
            "290/290 [==============================] - 30s 104ms/step - loss: 0.4071 - accuracy: 0.8284 - val_loss: 0.4309 - val_accuracy: 0.8162\n",
            "Epoch 26/30\n",
            "290/290 [==============================] - 30s 105ms/step - loss: 0.4080 - accuracy: 0.8296 - val_loss: 0.4547 - val_accuracy: 0.8076\n",
            "Epoch 27/30\n",
            "290/290 [==============================] - 30s 104ms/step - loss: 0.4028 - accuracy: 0.8325 - val_loss: 0.5000 - val_accuracy: 0.8102\n",
            "Epoch 28/30\n",
            "290/290 [==============================] - 30s 105ms/step - loss: 0.3981 - accuracy: 0.8340 - val_loss: 0.4391 - val_accuracy: 0.8155\n",
            "Epoch 29/30\n",
            "290/290 [==============================] - 30s 104ms/step - loss: 0.3961 - accuracy: 0.8384 - val_loss: 0.4321 - val_accuracy: 0.8142\n",
            "Epoch 30/30\n",
            "290/290 [==============================] - 30s 104ms/step - loss: 0.3949 - accuracy: 0.8328 - val_loss: 0.4283 - val_accuracy: 0.8122\n"
          ]
        }
      ],
      "source": [
        "#fit model\n",
        "history2 = lstm_2.fit([nlp_train, meta_train], labels, validation_split = .2,\n",
        "                       epochs = 30, batch_size = 21, verbose = 1)"
      ]
    },
    {
      "cell_type": "code",
      "execution_count": 41,
      "metadata": {
        "execution": {
          "iopub.execute_input": "2020-09-05T16:29:23.538618Z",
          "iopub.status.busy": "2020-09-05T16:29:23.537481Z",
          "iopub.status.idle": "2020-09-05T16:29:23.922673Z",
          "shell.execute_reply": "2020-09-05T16:29:23.923323Z"
        },
        "papermill": {
          "duration": 1.107944,
          "end_time": "2020-09-05T16:29:23.923494",
          "exception": false,
          "start_time": "2020-09-05T16:29:22.815550",
          "status": "completed"
        },
        "tags": [],
        "colab": {
          "base_uri": "https://localhost:8080/",
          "height": 54
        },
        "id": "-aBniZwyh6G_",
        "outputId": "dcfa5840-280b-471e-b38d-545d96dbbf9b"
      },
      "outputs": [
        {
          "output_type": "display_data",
          "data": {
            "image/png": "[encoded data removed]",
            "text/plain": [
              "<Figure size 1440x720 with 2 Axes>"
            ]
          },
          "metadata": {
            "needs_background": "light"
          }
        }
      ],
      "source": [
        "plot_learning_curves(history2)"
      ]
    },
    {
      "cell_type": "code",
      "execution_count": 42,
      "metadata": {
        "execution": {
          "iopub.execute_input": "2020-09-05T16:29:25.339009Z",
          "iopub.status.busy": "2020-09-05T16:29:25.337287Z",
          "iopub.status.idle": "2020-09-05T16:29:27.136504Z",
          "shell.execute_reply": "2020-09-05T16:29:27.135556Z"
        },
        "papermill": {
          "duration": 2.525476,
          "end_time": "2020-09-05T16:29:27.136633",
          "exception": false,
          "start_time": "2020-09-05T16:29:24.611157",
          "status": "completed"
        },
        "tags": [],
        "colab": {
          "base_uri": "https://localhost:8080/",
          "height": 427
        },
        "id": "LZnfs1hNh6G_",
        "outputId": "761a6c40-e718-45df-b936-13b4a8647048"
      },
      "outputs": [
        {
          "output_type": "execute_result",
          "data": {
            "text/html": [
              "\n",
              "  <div id=\"df-b7f30ccf-7648-435e-9523-986a69154958\">\n",
              "    <div class=\"colab-df-container\">\n",
              "      <div>\n",
              "<style scoped>\n",
              "    .dataframe tbody tr th:only-of-type {\n",
              "        vertical-align: middle;\n",
              "    }\n",
              "\n",
              "    .dataframe tbody tr th {\n",
              "        vertical-align: top;\n",
              "    }\n",
              "\n",
              "    .dataframe thead th {\n",
              "        text-align: right;\n",
              "    }\n",
              "</style>\n",
              "<table border=\"1\" class=\"dataframe\">\n",
              "  <thead>\n",
              "    <tr style=\"text-align: right;\">\n",
              "      <th></th>\n",
              "      <th>id</th>\n",
              "      <th>prob</th>\n",
              "      <th>target</th>\n",
              "    </tr>\n",
              "  </thead>\n",
              "  <tbody>\n",
              "    <tr>\n",
              "      <th>0</th>\n",
              "      <td>0</td>\n",
              "      <td>0.448229</td>\n",
              "      <td>0</td>\n",
              "    </tr>\n",
              "    <tr>\n",
              "      <th>1</th>\n",
              "      <td>2</td>\n",
              "      <td>0.837442</td>\n",
              "      <td>1</td>\n",
              "    </tr>\n",
              "    <tr>\n",
              "      <th>2</th>\n",
              "      <td>3</td>\n",
              "      <td>0.743369</td>\n",
              "      <td>1</td>\n",
              "    </tr>\n",
              "    <tr>\n",
              "      <th>3</th>\n",
              "      <td>9</td>\n",
              "      <td>0.460224</td>\n",
              "      <td>0</td>\n",
              "    </tr>\n",
              "    <tr>\n",
              "      <th>4</th>\n",
              "      <td>11</td>\n",
              "      <td>0.995497</td>\n",
              "      <td>1</td>\n",
              "    </tr>\n",
              "    <tr>\n",
              "      <th>5</th>\n",
              "      <td>12</td>\n",
              "      <td>0.400714</td>\n",
              "      <td>0</td>\n",
              "    </tr>\n",
              "    <tr>\n",
              "      <th>6</th>\n",
              "      <td>21</td>\n",
              "      <td>0.160536</td>\n",
              "      <td>0</td>\n",
              "    </tr>\n",
              "    <tr>\n",
              "      <th>7</th>\n",
              "      <td>22</td>\n",
              "      <td>0.087565</td>\n",
              "      <td>0</td>\n",
              "    </tr>\n",
              "    <tr>\n",
              "      <th>8</th>\n",
              "      <td>27</td>\n",
              "      <td>0.099038</td>\n",
              "      <td>0</td>\n",
              "    </tr>\n",
              "    <tr>\n",
              "      <th>9</th>\n",
              "      <td>29</td>\n",
              "      <td>0.065869</td>\n",
              "      <td>0</td>\n",
              "    </tr>\n",
              "  </tbody>\n",
              "</table>\n",
              "</div>\n",
              "      <button class=\"colab-df-convert\" onclick=\"convertToInteractive('df-b7f30ccf-7648-435e-9523-986a69154958')\"\n",
              "              title=\"Convert this dataframe to an interactive table.\"\n",
              "              style=\"display:none;\">\n",
              "        \n",
              "  <svg xmlns=\"http://www.w3.org/2000/svg\" height=\"24px\"viewBox=\"0 0 24 24\"\n",
              "       width=\"24px\">\n",
              "    <path d=\"M0 0h24v24H0V0z\" fill=\"none\"/>\n",
              "    <path d=\"M18.56 5.44l.94 2.06.94-2.06 2.06-.94-2.06-.94-.94-2.06-.94 2.06-2.06.94zm-11 1L8.5 8.5l.94-2.06 2.06-.94-2.06-.94L8.5 2.5l-.94 2.06-2.06.94zm10 10l.94 2.06.94-2.06 2.06-.94-2.06-.94-.94-2.06-.94 2.06-2.06.94z\"/><path d=\"M17.41 7.96l-1.37-1.37c-.4-.4-.92-.59-1.43-.59-.52 0-1.04.2-1.43.59L10.3 9.45l-7.72 7.72c-.78.78-.78 2.05 0 2.83L4 21.41c.39.39.9.59 1.41.59.51 0 1.02-.2 1.41-.59l7.78-7.78 2.81-2.81c.8-.78.8-2.07 0-2.86zM5.41 20L4 18.59l7.72-7.72 1.47 1.35L5.41 20z\"/>\n",
              "  </svg>\n",
              "      </button>\n",
              "      \n",
              "  <style>\n",
              "    .colab-df-container {\n",
              "      display:flex;\n",
              "      flex-wrap:wrap;\n",
              "      gap: 12px;\n",
              "    }\n",
              "\n",
              "    .colab-df-convert {\n",
              "      background-color: #E8F0FE;\n",
              "      border: none;\n",
              "      border-radius: 50%;\n",
              "      cursor: pointer;\n",
              "      display: none;\n",
              "      fill: #1967D2;\n",
              "      height: 32px;\n",
              "      padding: 0 0 0 0;\n",
              "      width: 32px;\n",
              "    }\n",
              "\n",
              "    .colab-df-convert:hover {\n",
              "      background-color: #E2EBFA;\n",
              "      box-shadow: 0px 1px 2px rgba(60, 64, 67, 0.3), 0px 1px 3px 1px rgba(60, 64, 67, 0.15);\n",
              "      fill: #174EA6;\n",
              "    }\n",
              "\n",
              "    [theme=dark] .colab-df-convert {\n",
              "      background-color: #3B4455;\n",
              "      fill: #D2E3FC;\n",
              "    }\n",
              "\n",
              "    [theme=dark] .colab-df-convert:hover {\n",
              "      background-color: #434B5C;\n",
              "      box-shadow: 0px 1px 3px 1px rgba(0, 0, 0, 0.15);\n",
              "      filter: drop-shadow(0px 1px 2px rgba(0, 0, 0, 0.3));\n",
              "      fill: #FFFFFF;\n",
              "    }\n",
              "  </style>\n",
              "\n",
              "      <script>\n",
              "        const buttonEl =\n",
              "          document.querySelector('#df-b7f30ccf-7648-435e-9523-986a69154958 button.colab-df-convert');\n",
              "        buttonEl.style.display =\n",
              "          google.colab.kernel.accessAllowed ? 'block' : 'none';\n",
              "\n",
              "        async function convertToInteractive(key) {\n",
              "          const element = document.querySelector('#df-b7f30ccf-7648-435e-9523-986a69154958');\n",
              "          const dataTable =\n",
              "            await google.colab.kernel.invokeFunction('convertToInteractive',\n",
              "                                                     [key], {});\n",
              "          if (!dataTable) return;\n",
              "\n",
              "          const docLinkHtml = 'Like what you see? Visit the ' +\n",
              "            '<a target=\"_blank\" href=https://colab.research.google.com/notebooks/data_table.ipynb>data table notebook</a>'\n",
              "            + ' to learn more about interactive tables.';\n",
              "          element.innerHTML = '';\n",
              "          dataTable['output_type'] = 'display_data';\n",
              "          await google.colab.output.renderOutput(dataTable, element);\n",
              "          const docLink = document.createElement('div');\n",
              "          docLink.innerHTML = docLinkHtml;\n",
              "          element.appendChild(docLink);\n",
              "        }\n",
              "      </script>\n",
              "    </div>\n",
              "  </div>\n",
              "  "
            ],
            "text/plain": [
              "   id      prob  target\n",
              "0   0  0.448229       0\n",
              "1   2  0.837442       1\n",
              "2   3  0.743369       1\n",
              "3   9  0.460224       0\n",
              "4  11  0.995497       1\n",
              "5  12  0.400714       0\n",
              "6  21  0.160536       0\n",
              "7  22  0.087565       0\n",
              "8  27  0.099038       0\n",
              "9  29  0.065869       0"
            ]
          },
          "metadata": {},
          "execution_count": 42
        }
      ],
      "source": [
        "#create submission for complex lstm model\n",
        "submission_lstm = pd.DataFrame()\n",
        "submission_lstm['id'] = test_id\n",
        "submission_lstm['prob'] = lstm_2.predict([nlp_test, meta_test])\n",
        "submission_lstm['target'] = submission_lstm['prob'].apply(lambda x: 0 if x < .5 else 1)\n",
        "submission_lstm.head(10)"
      ]
    },
    {
      "cell_type": "markdown",
      "metadata": {
        "papermill": {
          "duration": 0.718088,
          "end_time": "2020-09-05T16:29:28.564197",
          "exception": false,
          "start_time": "2020-09-05T16:29:27.846109",
          "status": "completed"
        },
        "tags": [],
        "id": "9hGjBL4oh6G_"
      },
      "source": [
        "## 2. Dual LSTM Layers\n",
        "\n",
        "**Now we will take the output of one LSTM layer and feed it directly into another LSTM layer. This is easy to do, the only change being we need to set `return_sequences` = True on the first layer:**"
      ]
    },
    {
      "cell_type": "code",
      "execution_count": 43,
      "metadata": {
        "execution": {
          "iopub.execute_input": "2020-09-05T16:29:29.974664Z",
          "iopub.status.busy": "2020-09-05T16:29:29.972425Z",
          "iopub.status.idle": "2020-09-05T16:29:29.975507Z",
          "shell.execute_reply": "2020-09-05T16:29:29.976042Z"
        },
        "papermill": {
          "duration": 0.739957,
          "end_time": "2020-09-05T16:29:29.976200",
          "exception": false,
          "start_time": "2020-09-05T16:29:29.236243",
          "status": "completed"
        },
        "tags": [],
        "id": "cNgBQgH4h6G_"
      },
      "outputs": [],
      "source": [
        "#function to create dual lstm model\n",
        "def create_dual_lstm(spatial_dropout, dropout, recurrent_dropout, learning_rate, bidirectional = False):\n",
        "    #define activation\n",
        "    activation = LeakyReLU(alpha = 0.01)\n",
        "    \n",
        "    #define inputs\n",
        "    nlp_input = Input(shape = (MAX_SEQUENCE_LENGTH,), name = 'nlp_input')\n",
        "    meta_input_train = Input(shape = (7, ), name = 'meta_train')\n",
        "    emb = embedding(nlp_input)\n",
        "    emb = SpatialDropout1D(dropout)(emb)\n",
        "\n",
        "    #add dual LSTM layers\n",
        "    if bidirectional:\n",
        "        nlp_out = (Bidirectional(LSTM(100, dropout = dropout, recurrent_dropout = recurrent_dropout,\n",
        "                                 kernel_initializer = 'orthogonal', return_sequences = True)))(emb)\n",
        "        nlp_out = SpatialDropout1D(dropout)(nlp_out)\n",
        "        nlp_out = (Bidirectional(LSTM(100, dropout = dropout, recurrent_dropout = recurrent_dropout,\n",
        "                                 kernel_initializer = 'orthogonal')))(emb)\n",
        "    else:\n",
        "        nlp_out = (LSTM(100, dropout = dropout, recurrent_dropout = recurrent_dropout,\n",
        "                                 kernel_initializer = 'orthogonal', return_sequences = True))(emb)\n",
        "        nlp_out = SpatialDropout1D(dropout)(nlp_out)\n",
        "        nlp_out = (LSTM(100, dropout = dropout, recurrent_dropout = recurrent_dropout,\n",
        "                                 kernel_initializer = 'orthogonal'))(emb)\n",
        "     \n",
        "     \n",
        "    #add meta data    \n",
        "    x = Concatenate()([nlp_out, meta_input_train])\n",
        "    \n",
        "    #add second hidden layer\n",
        "    #x = Dropout(dropout)(x)\n",
        "    #x = (Dense(100, activation = activation, kernel_regularizer = regularizers.l2(1e-4),\n",
        "              #kernel_initializer = 'he_normal'))(x)\n",
        "    \n",
        "    #add output layer\n",
        "    x = Dropout(dropout)(x)\n",
        "    preds = Dense(1, activation='sigmoid', kernel_regularizer = regularizers.l2(1e-4))(x)\n",
        "    \n",
        "    #compile model\n",
        "    model = Model(inputs=[nlp_input , meta_input_train], outputs = preds)\n",
        "    optimizer = Adam(learning_rate = learning_rate)\n",
        "    model.compile(loss = 'binary_crossentropy', optimizer = optimizer, metrics = ['accuracy'])\n",
        "    \n",
        "    return model"
      ]
    },
    {
      "cell_type": "code",
      "execution_count": 44,
      "metadata": {
        "execution": {
          "iopub.execute_input": "2020-09-05T16:29:31.601926Z",
          "iopub.status.busy": "2020-09-05T16:29:31.600721Z",
          "iopub.status.idle": "2020-09-05T16:29:32.557059Z",
          "shell.execute_reply": "2020-09-05T16:29:32.558203Z"
        },
        "papermill": {
          "duration": 1.924256,
          "end_time": "2020-09-05T16:29:32.558434",
          "exception": false,
          "start_time": "2020-09-05T16:29:30.634178",
          "status": "completed"
        },
        "tags": [],
        "colab": {
          "base_uri": "https://localhost:8080/"
        },
        "id": "OuSqyehfh6HA",
        "outputId": "fd620570-e4fb-4249-ed99-fc95abf9ba50"
      },
      "outputs": [
        {
          "output_type": "stream",
          "name": "stdout",
          "text": [
            "WARNING:tensorflow:Layer lstm_2 will not use cuDNN kernels since it doesn't meet the criteria. It will use a generic GPU kernel as fallback when running on GPU.\n",
            "WARNING:tensorflow:Layer lstm_2 will not use cuDNN kernels since it doesn't meet the criteria. It will use a generic GPU kernel as fallback when running on GPU.\n",
            "WARNING:tensorflow:Layer lstm_2 will not use cuDNN kernels since it doesn't meet the criteria. It will use a generic GPU kernel as fallback when running on GPU.\n",
            "WARNING:tensorflow:Layer lstm_3 will not use cuDNN kernels since it doesn't meet the criteria. It will use a generic GPU kernel as fallback when running on GPU.\n",
            "WARNING:tensorflow:Layer lstm_3 will not use cuDNN kernels since it doesn't meet the criteria. It will use a generic GPU kernel as fallback when running on GPU.\n",
            "WARNING:tensorflow:Layer lstm_3 will not use cuDNN kernels since it doesn't meet the criteria. It will use a generic GPU kernel as fallback when running on GPU.\n",
            "Model: \"model_2\"\n",
            "__________________________________________________________________________________________________\n",
            " Layer (type)                   Output Shape         Param #     Connected to                     \n",
            "==================================================================================================\n",
            " nlp_input (InputLayer)         [(None, 40)]         0           []                               \n",
            "                                                                                                  \n",
            " embedding (Embedding)          (None, 40, 200)      5856000     ['nlp_input[0][0]']              \n",
            "                                                                                                  \n",
            " spatial_dropout1d_2 (SpatialDr  (None, 40, 200)     0           ['embedding[2][0]']              \n",
            " opout1D)                                                                                         \n",
            "                                                                                                  \n",
            " bidirectional_3 (Bidirectional  (None, 200)         240800      ['spatial_dropout1d_2[0][0]']    \n",
            " )                                                                                                \n",
            "                                                                                                  \n",
            " meta_train (InputLayer)        [(None, 7)]          0           []                               \n",
            "                                                                                                  \n",
            " concatenate_2 (Concatenate)    (None, 207)          0           ['bidirectional_3[0][0]',        \n",
            "                                                                  'meta_train[0][0]']             \n",
            "                                                                                                  \n",
            " dropout_3 (Dropout)            (None, 207)          0           ['concatenate_2[0][0]']          \n",
            "                                                                                                  \n",
            " dense_3 (Dense)                (None, 1)            208         ['dropout_3[0][0]']              \n",
            "                                                                                                  \n",
            "==================================================================================================\n",
            "Total params: 6,097,008\n",
            "Trainable params: 241,008\n",
            "Non-trainable params: 5,856,000\n",
            "__________________________________________________________________________________________________\n"
          ]
        }
      ],
      "source": [
        "#define new model\n",
        "dual_lstm = create_dual_lstm(spatial_dropout = .4, dropout = .4, recurrent_dropout = .4,\n",
        "                       learning_rate = 3e-4, bidirectional = True)\n",
        "\n",
        "dual_lstm.summary()"
      ]
    },
    {
      "cell_type": "code",
      "execution_count": 45,
      "metadata": {
        "execution": {
          "iopub.execute_input": "2020-09-05T16:29:33.933439Z",
          "iopub.status.busy": "2020-09-05T16:29:33.932623Z",
          "iopub.status.idle": "2020-09-05T16:53:09.746706Z",
          "shell.execute_reply": "2020-09-05T16:53:09.745668Z"
        },
        "papermill": {
          "duration": 1416.514408,
          "end_time": "2020-09-05T16:53:09.746826",
          "exception": false,
          "start_time": "2020-09-05T16:29:33.232418",
          "status": "completed"
        },
        "tags": [],
        "colab": {
          "base_uri": "https://localhost:8080/"
        },
        "id": "vhL8-4NAh6HA",
        "outputId": "fad3050b-7d65-4e57-f029-d05504b8422a"
      },
      "outputs": [
        {
          "output_type": "stream",
          "name": "stdout",
          "text": [
            "Epoch 1/25\n",
            "290/290 [==============================] - 33s 104ms/step - loss: 0.5662 - accuracy: 0.7049 - val_loss: 0.4691 - val_accuracy: 0.7827\n",
            "Epoch 2/25\n",
            "290/290 [==============================] - 30s 102ms/step - loss: 0.4919 - accuracy: 0.7775 - val_loss: 0.4233 - val_accuracy: 0.8070\n",
            "Epoch 3/25\n",
            "290/290 [==============================] - 30s 102ms/step - loss: 0.4740 - accuracy: 0.7852 - val_loss: 0.4171 - val_accuracy: 0.8148\n",
            "Epoch 4/25\n",
            "290/290 [==============================] - 29s 102ms/step - loss: 0.4707 - accuracy: 0.7844 - val_loss: 0.4108 - val_accuracy: 0.8221\n",
            "Epoch 5/25\n",
            "290/290 [==============================] - 29s 101ms/step - loss: 0.4561 - accuracy: 0.7985 - val_loss: 0.4078 - val_accuracy: 0.8155\n",
            "Epoch 6/25\n",
            "290/290 [==============================] - 30s 102ms/step - loss: 0.4589 - accuracy: 0.7941 - val_loss: 0.4336 - val_accuracy: 0.7991\n",
            "Epoch 7/25\n",
            "290/290 [==============================] - 30s 102ms/step - loss: 0.4508 - accuracy: 0.7947 - val_loss: 0.4163 - val_accuracy: 0.8240\n",
            "Epoch 8/25\n",
            "290/290 [==============================] - 30s 102ms/step - loss: 0.4415 - accuracy: 0.8026 - val_loss: 0.4037 - val_accuracy: 0.8188\n",
            "Epoch 9/25\n",
            "290/290 [==============================] - 29s 102ms/step - loss: 0.4452 - accuracy: 0.8021 - val_loss: 0.4098 - val_accuracy: 0.8181\n",
            "Epoch 10/25\n",
            "290/290 [==============================] - 29s 102ms/step - loss: 0.4375 - accuracy: 0.8069 - val_loss: 0.4092 - val_accuracy: 0.8175\n",
            "Epoch 11/25\n",
            "290/290 [==============================] - 30s 102ms/step - loss: 0.4349 - accuracy: 0.8072 - val_loss: 0.4065 - val_accuracy: 0.8227\n",
            "Epoch 12/25\n",
            "290/290 [==============================] - 29s 101ms/step - loss: 0.4271 - accuracy: 0.8130 - val_loss: 0.4187 - val_accuracy: 0.8135\n",
            "Epoch 13/25\n",
            "290/290 [==============================] - 30s 102ms/step - loss: 0.4322 - accuracy: 0.8057 - val_loss: 0.4117 - val_accuracy: 0.8175\n",
            "Epoch 14/25\n",
            "290/290 [==============================] - 30s 102ms/step - loss: 0.4188 - accuracy: 0.8158 - val_loss: 0.4232 - val_accuracy: 0.8076\n",
            "Epoch 15/25\n",
            "290/290 [==============================] - 29s 102ms/step - loss: 0.4185 - accuracy: 0.8154 - val_loss: 0.4062 - val_accuracy: 0.8194\n",
            "Epoch 16/25\n",
            "290/290 [==============================] - 30s 102ms/step - loss: 0.4177 - accuracy: 0.8144 - val_loss: 0.4198 - val_accuracy: 0.8155\n",
            "Epoch 17/25\n",
            "290/290 [==============================] - 29s 102ms/step - loss: 0.4117 - accuracy: 0.8159 - val_loss: 0.4278 - val_accuracy: 0.8194\n",
            "Epoch 18/25\n",
            "290/290 [==============================] - 30s 102ms/step - loss: 0.4144 - accuracy: 0.8171 - val_loss: 0.4061 - val_accuracy: 0.8142\n",
            "Epoch 19/25\n",
            "290/290 [==============================] - 29s 102ms/step - loss: 0.4124 - accuracy: 0.8182 - val_loss: 0.4053 - val_accuracy: 0.8129\n",
            "Epoch 20/25\n",
            "290/290 [==============================] - 30s 102ms/step - loss: 0.4058 - accuracy: 0.8213 - val_loss: 0.4173 - val_accuracy: 0.8214\n",
            "Epoch 21/25\n",
            "290/290 [==============================] - 30s 102ms/step - loss: 0.4036 - accuracy: 0.8261 - val_loss: 0.4196 - val_accuracy: 0.8155\n",
            "Epoch 22/25\n",
            "290/290 [==============================] - 29s 102ms/step - loss: 0.3972 - accuracy: 0.8263 - val_loss: 0.4133 - val_accuracy: 0.8227\n",
            "Epoch 23/25\n",
            "290/290 [==============================] - 30s 102ms/step - loss: 0.3930 - accuracy: 0.8304 - val_loss: 0.4131 - val_accuracy: 0.8188\n",
            "Epoch 24/25\n",
            "290/290 [==============================] - 29s 101ms/step - loss: 0.3930 - accuracy: 0.8291 - val_loss: 0.4377 - val_accuracy: 0.8043\n",
            "Epoch 25/25\n",
            "290/290 [==============================] - 29s 101ms/step - loss: 0.3900 - accuracy: 0.8317 - val_loss: 0.4222 - val_accuracy: 0.8201\n"
          ]
        }
      ],
      "source": [
        "history3 = dual_lstm.fit([nlp_train, meta_train], labels, validation_split = .2,\n",
        "         epochs = 25, batch_size = 21, verbose = 1) #callbacks = [callback]"
      ]
    },
    {
      "cell_type": "code",
      "execution_count": 46,
      "metadata": {
        "execution": {
          "iopub.execute_input": "2020-09-05T16:53:12.396713Z",
          "iopub.status.busy": "2020-09-05T16:53:12.393429Z",
          "iopub.status.idle": "2020-09-05T16:53:14.105471Z",
          "shell.execute_reply": "2020-09-05T16:53:14.104285Z"
        },
        "papermill": {
          "duration": 2.829336,
          "end_time": "2020-09-05T16:53:14.105610",
          "exception": false,
          "start_time": "2020-09-05T16:53:11.276274",
          "status": "completed"
        },
        "tags": [],
        "colab": {
          "base_uri": "https://localhost:8080/",
          "height": 427
        },
        "id": "Vg5H7U2ch6HA",
        "outputId": "277ec7a2-2413-4cc9-da0e-bbd076df33df"
      },
      "outputs": [
        {
          "output_type": "execute_result",
          "data": {
            "text/html": [
              "\n",
              "  <div id=\"df-e1306e80-fba6-4713-b733-e3c2df3e965c\">\n",
              "    <div class=\"colab-df-container\">\n",
              "      <div>\n",
              "<style scoped>\n",
              "    .dataframe tbody tr th:only-of-type {\n",
              "        vertical-align: middle;\n",
              "    }\n",
              "\n",
              "    .dataframe tbody tr th {\n",
              "        vertical-align: top;\n",
              "    }\n",
              "\n",
              "    .dataframe thead th {\n",
              "        text-align: right;\n",
              "    }\n",
              "</style>\n",
              "<table border=\"1\" class=\"dataframe\">\n",
              "  <thead>\n",
              "    <tr style=\"text-align: right;\">\n",
              "      <th></th>\n",
              "      <th>id</th>\n",
              "      <th>prob</th>\n",
              "      <th>target</th>\n",
              "    </tr>\n",
              "  </thead>\n",
              "  <tbody>\n",
              "    <tr>\n",
              "      <th>0</th>\n",
              "      <td>0</td>\n",
              "      <td>0.512076</td>\n",
              "      <td>1</td>\n",
              "    </tr>\n",
              "    <tr>\n",
              "      <th>1</th>\n",
              "      <td>2</td>\n",
              "      <td>0.930176</td>\n",
              "      <td>1</td>\n",
              "    </tr>\n",
              "    <tr>\n",
              "      <th>2</th>\n",
              "      <td>3</td>\n",
              "      <td>0.839000</td>\n",
              "      <td>1</td>\n",
              "    </tr>\n",
              "    <tr>\n",
              "      <th>3</th>\n",
              "      <td>9</td>\n",
              "      <td>0.562705</td>\n",
              "      <td>1</td>\n",
              "    </tr>\n",
              "    <tr>\n",
              "      <th>4</th>\n",
              "      <td>11</td>\n",
              "      <td>0.992065</td>\n",
              "      <td>1</td>\n",
              "    </tr>\n",
              "    <tr>\n",
              "      <th>5</th>\n",
              "      <td>12</td>\n",
              "      <td>0.497555</td>\n",
              "      <td>0</td>\n",
              "    </tr>\n",
              "    <tr>\n",
              "      <th>6</th>\n",
              "      <td>21</td>\n",
              "      <td>0.095327</td>\n",
              "      <td>0</td>\n",
              "    </tr>\n",
              "    <tr>\n",
              "      <th>7</th>\n",
              "      <td>22</td>\n",
              "      <td>0.048405</td>\n",
              "      <td>0</td>\n",
              "    </tr>\n",
              "    <tr>\n",
              "      <th>8</th>\n",
              "      <td>27</td>\n",
              "      <td>0.056063</td>\n",
              "      <td>0</td>\n",
              "    </tr>\n",
              "    <tr>\n",
              "      <th>9</th>\n",
              "      <td>29</td>\n",
              "      <td>0.046142</td>\n",
              "      <td>0</td>\n",
              "    </tr>\n",
              "  </tbody>\n",
              "</table>\n",
              "</div>\n",
              "      <button class=\"colab-df-convert\" onclick=\"convertToInteractive('df-e1306e80-fba6-4713-b733-e3c2df3e965c')\"\n",
              "              title=\"Convert this dataframe to an interactive table.\"\n",
              "              style=\"display:none;\">\n",
              "        \n",
              "  <svg xmlns=\"http://www.w3.org/2000/svg\" height=\"24px\"viewBox=\"0 0 24 24\"\n",
              "       width=\"24px\">\n",
              "    <path d=\"M0 0h24v24H0V0z\" fill=\"none\"/>\n",
              "    <path d=\"M18.56 5.44l.94 2.06.94-2.06 2.06-.94-2.06-.94-.94-2.06-.94 2.06-2.06.94zm-11 1L8.5 8.5l.94-2.06 2.06-.94-2.06-.94L8.5 2.5l-.94 2.06-2.06.94zm10 10l.94 2.06.94-2.06 2.06-.94-2.06-.94-.94-2.06-.94 2.06-2.06.94z\"/><path d=\"M17.41 7.96l-1.37-1.37c-.4-.4-.92-.59-1.43-.59-.52 0-1.04.2-1.43.59L10.3 9.45l-7.72 7.72c-.78.78-.78 2.05 0 2.83L4 21.41c.39.39.9.59 1.41.59.51 0 1.02-.2 1.41-.59l7.78-7.78 2.81-2.81c.8-.78.8-2.07 0-2.86zM5.41 20L4 18.59l7.72-7.72 1.47 1.35L5.41 20z\"/>\n",
              "  </svg>\n",
              "      </button>\n",
              "      \n",
              "  <style>\n",
              "    .colab-df-container {\n",
              "      display:flex;\n",
              "      flex-wrap:wrap;\n",
              "      gap: 12px;\n",
              "    }\n",
              "\n",
              "    .colab-df-convert {\n",
              "      background-color: #E8F0FE;\n",
              "      border: none;\n",
              "      border-radius: 50%;\n",
              "      cursor: pointer;\n",
              "      display: none;\n",
              "      fill: #1967D2;\n",
              "      height: 32px;\n",
              "      padding: 0 0 0 0;\n",
              "      width: 32px;\n",
              "    }\n",
              "\n",
              "    .colab-df-convert:hover {\n",
              "      background-color: #E2EBFA;\n",
              "      box-shadow: 0px 1px 2px rgba(60, 64, 67, 0.3), 0px 1px 3px 1px rgba(60, 64, 67, 0.15);\n",
              "      fill: #174EA6;\n",
              "    }\n",
              "\n",
              "    [theme=dark] .colab-df-convert {\n",
              "      background-color: #3B4455;\n",
              "      fill: #D2E3FC;\n",
              "    }\n",
              "\n",
              "    [theme=dark] .colab-df-convert:hover {\n",
              "      background-color: #434B5C;\n",
              "      box-shadow: 0px 1px 3px 1px rgba(0, 0, 0, 0.15);\n",
              "      filter: drop-shadow(0px 1px 2px rgba(0, 0, 0, 0.3));\n",
              "      fill: #FFFFFF;\n",
              "    }\n",
              "  </style>\n",
              "\n",
              "      <script>\n",
              "        const buttonEl =\n",
              "          document.querySelector('#df-e1306e80-fba6-4713-b733-e3c2df3e965c button.colab-df-convert');\n",
              "        buttonEl.style.display =\n",
              "          google.colab.kernel.accessAllowed ? 'block' : 'none';\n",
              "\n",
              "        async function convertToInteractive(key) {\n",
              "          const element = document.querySelector('#df-e1306e80-fba6-4713-b733-e3c2df3e965c');\n",
              "          const dataTable =\n",
              "            await google.colab.kernel.invokeFunction('convertToInteractive',\n",
              "                                                     [key], {});\n",
              "          if (!dataTable) return;\n",
              "\n",
              "          const docLinkHtml = 'Like what you see? Visit the ' +\n",
              "            '<a target=\"_blank\" href=https://colab.research.google.com/notebooks/data_table.ipynb>data table notebook</a>'\n",
              "            + ' to learn more about interactive tables.';\n",
              "          element.innerHTML = '';\n",
              "          dataTable['output_type'] = 'display_data';\n",
              "          await google.colab.output.renderOutput(dataTable, element);\n",
              "          const docLink = document.createElement('div');\n",
              "          docLink.innerHTML = docLinkHtml;\n",
              "          element.appendChild(docLink);\n",
              "        }\n",
              "      </script>\n",
              "    </div>\n",
              "  </div>\n",
              "  "
            ],
            "text/plain": [
              "   id      prob  target\n",
              "0   0  0.512076       1\n",
              "1   2  0.930176       1\n",
              "2   3  0.839000       1\n",
              "3   9  0.562705       1\n",
              "4  11  0.992065       1\n",
              "5  12  0.497555       0\n",
              "6  21  0.095327       0\n",
              "7  22  0.048405       0\n",
              "8  27  0.056063       0\n",
              "9  29  0.046142       0"
            ]
          },
          "metadata": {},
          "execution_count": 46
        }
      ],
      "source": [
        "#create submission for complex lstm model\n",
        "submission_lstm2 = pd.DataFrame()\n",
        "submission_lstm2['id'] = test_id\n",
        "submission_lstm2['prob'] = dual_lstm.predict([nlp_test, meta_test])\n",
        "submission_lstm2['target'] = submission_lstm2['prob'].apply(lambda x: 0 if x < .5 else 1)\n",
        "submission_lstm2.head(10)"
      ]
    },
    {
      "cell_type": "code",
      "execution_count": 47,
      "metadata": {
        "execution": {
          "iopub.execute_input": "2020-09-05T16:53:16.442356Z",
          "iopub.status.busy": "2020-09-05T16:53:16.441263Z",
          "iopub.status.idle": "2020-09-05T16:53:16.878400Z",
          "shell.execute_reply": "2020-09-05T16:53:16.877784Z"
        },
        "papermill": {
          "duration": 1.606195,
          "end_time": "2020-09-05T16:53:16.878528",
          "exception": false,
          "start_time": "2020-09-05T16:53:15.272333",
          "status": "completed"
        },
        "tags": [],
        "colab": {
          "base_uri": "https://localhost:8080/",
          "height": 54
        },
        "id": "jcgUbucMh6HB",
        "outputId": "af5d649e-bc66-4256-c86b-1442dafca683"
      },
      "outputs": [
        {
          "output_type": "display_data",
          "data": {
            "image/png": "[encoded data removed]",
            "text/plain": [
              "<Figure size 1440x720 with 2 Axes>"
            ]
          },
          "metadata": {
            "needs_background": "light"
          }
        }
      ],
      "source": [
        "plot_learning_curves(history3)"
      ]
    },
    {
      "cell_type": "markdown",
      "metadata": {
        "papermill": {
          "duration": 1.084252,
          "end_time": "2020-09-05T16:53:19.158894",
          "exception": false,
          "start_time": "2020-09-05T16:53:18.074642",
          "status": "completed"
        },
        "tags": [],
        "id": "aN-nuQeJh6HB"
      },
      "source": [
        "## 3. BERT\n",
        "\n",
        "**And now we will test the infamous BERT to see how it performs compared to RNNs. We don't actually need to clean our tweets at all, we can just feed them to BERT (after encoding).**\n",
        "\n",
        "**HuggingFace Transformers makes it unbelievable easy to use transformers. In fact, you don't even need to specify the transformer or tokenizer: its architecture can be guessed from the name or path of the pretrained model you specify in the `from_pretrained` method. To read more about AutoModels/Tokenizers, see [this](https://huggingface.co/transformers/model_doc/auto.html)**"
      ]
    },
    {
      "cell_type": "code",
      "execution_count": 48,
      "metadata": {
        "execution": {
          "iopub.execute_input": "2020-09-05T16:53:21.674053Z",
          "iopub.status.busy": "2020-09-05T16:53:21.670953Z",
          "iopub.status.idle": "2020-09-05T16:53:21.677842Z",
          "shell.execute_reply": "2020-09-05T16:53:21.676804Z"
        },
        "papermill": {
          "duration": 1.366166,
          "end_time": "2020-09-05T16:53:21.678027",
          "exception": false,
          "start_time": "2020-09-05T16:53:20.311861",
          "status": "completed"
        },
        "tags": [],
        "id": "oMFzqpyfh6HB"
      },
      "outputs": [],
      "source": [
        "#choose batch size\n",
        "BATCH_SIZE = 32\n",
        "\n",
        "#how many epochs?\n",
        "EPOCHS = 2\n",
        "\n",
        "#use meta data?\n",
        "USE_META = True\n",
        "\n",
        "#add dense layer?\n",
        "ADD_DENSE = False\n",
        "DENSE_DIM = 64\n",
        "\n",
        "#add dropout?\n",
        "ADD_DROPOUT = False\n",
        "DROPOUT = .2"
      ]
    },
    {
      "cell_type": "code",
      "execution_count": 49,
      "metadata": {
        "execution": {
          "iopub.execute_input": "2020-09-05T16:53:23.945106Z",
          "iopub.status.busy": "2020-09-05T16:53:23.944214Z",
          "iopub.status.idle": "2020-09-05T16:53:33.002243Z",
          "shell.execute_reply": "2020-09-05T16:53:33.001135Z"
        },
        "papermill": {
          "duration": 10.153751,
          "end_time": "2020-09-05T16:53:33.002368",
          "exception": false,
          "start_time": "2020-09-05T16:53:22.848617",
          "status": "completed"
        },
        "tags": [],
        "colab": {
          "base_uri": "https://localhost:8080/"
        },
        "id": "pQSnznlJh6HC",
        "outputId": "c562ecad-e0cb-4e4a-9f4e-c1c199d8b7ec"
      },
      "outputs": [
        {
          "output_type": "stream",
          "name": "stdout",
          "text": [
            "\u001b[K     |████████████████████████████████| 3.8 MB 4.1 MB/s \n",
            "\u001b[K     |████████████████████████████████| 596 kB 62.2 MB/s \n",
            "\u001b[K     |████████████████████████████████| 895 kB 69.8 MB/s \n",
            "\u001b[K     |████████████████████████████████| 6.5 MB 62.6 MB/s \n",
            "\u001b[K     |████████████████████████████████| 67 kB 7.0 MB/s \n",
            "\u001b[?25h"
          ]
        }
      ],
      "source": [
        "!pip install --quiet transformers\n",
        "#import model and Tokenizer\n",
        "from transformers import TFAutoModel, AutoTokenizer"
      ]
    },
    {
      "cell_type": "code",
      "execution_count": 50,
      "metadata": {
        "execution": {
          "iopub.execute_input": "2020-09-05T16:53:35.336240Z",
          "iopub.status.busy": "2020-09-05T16:53:35.333220Z",
          "iopub.status.idle": "2020-09-05T16:53:37.209712Z",
          "shell.execute_reply": "2020-09-05T16:53:37.208907Z"
        },
        "papermill": {
          "duration": 3.048606,
          "end_time": "2020-09-05T16:53:37.209841",
          "exception": false,
          "start_time": "2020-09-05T16:53:34.161235",
          "status": "completed"
        },
        "tags": [],
        "colab": {
          "base_uri": "https://localhost:8080/",
          "height": 182,
          "referenced_widgets": [
            "450893b3af4441febe51e51f3690004b",
            "64d305646fe54ed890589c4373d35edf",
            "c64a0a771d5b4f808d3cb1f0a9b0e01a",
            "3de538581d1c4e48b993936a27a8f5fa",
            "bc957f2f2701499d81e02d52d1986eb9",
            "4f76f7d3d62d40a8aa8dff89e3117415",
            "9ce724822bf64064a21b46503b4e8af1",
            "c38c440ae4114add9964a2a798585928",
            "e0259dcf216046ea854fb4797db13966",
            "f057dc9d7e324e1bbc1dc8c04ca15fe3",
            "2115731a2b834800b7d8dba51dcd8689",
            "d7268c1378bf4f54a99a9bfbc10268b6",
            "74bc4b4fc0a14a8ea3cbc7c6acdebedf",
            "95ec9fb1028347a69fbda71be7ee58ff",
            "e57eca7845a945629d75302e97cf0704",
            "508d1d0115914e63b15e1501335305c5",
            "e6cd2a5ca33c404b9278a9233d328fe4",
            "54a6eeb1e7c642b7a4c1e3959d7bd57e",
            "67e36f1a630f40e484e38ae0f73d13b7",
            "40412bc4f09d4c709109e6a07816c7d9",
            "a76a428bc8af4353b46b61a7847d1871",
            "03298758fdbc404ebed21333f1e0b015",
            "b29d507f3828469fac1dc991ebeb0e95",
            "a006d0d3f5dd4577b73a68138a10ddbc",
            "53a083cf54ce470c851086deb2252f97",
            "ac1deac23dea427b94b1f90ec2df44c3",
            "41c34e6916634a5094293116df67390b",
            "68556600fe7f497fbbb04a46c47e9ce0",
            "233f2f0b695c46a8a50019ff6179b724",
            "ec9b670f4ff345c4acdff25c4ca47e1e",
            "25d0dc721ca64d2790ffb9a1a86b11f1",
            "15d78fb19b3640859af959976d072db7",
            "94b39b0fe3624393ad25b81e778f5d0d",
            "efc8d7f31f334f1ca4834296071a97d6",
            "520e9d5e0aab43f4a0080dfef6e0c188",
            "3d82e595e8ff4b0eaf44e6bd87055d38",
            "9bacce167d3f4555b89d263acf7adc5d",
            "4e806837beb14320a7c2a776e56d7e1b",
            "953e67c087014085a0ecf36315473705",
            "6d5c4647f74549a9a04f9f8b88238e1a",
            "3d37e97f956f45da80902fbac0889765",
            "43aa5dc901a848c7b32f4971f175c0f0",
            "86ca3f168bba46a88e42360decb16df6",
            "e5cd7d84817a4fda80cfc8465ed9d7e1"
          ]
        },
        "id": "ImMRXWlwh6HC",
        "outputId": "2deda5ea-7e9a-4510-ddec-64bbcb5b0a76"
      },
      "outputs": [
        {
          "output_type": "display_data",
          "data": {
            "application/vnd.jupyter.widget-view+json": {
              "model_id": "450893b3af4441febe51e51f3690004b",
              "version_minor": 0,
              "version_major": 2
            },
            "text/plain": [
              "Downloading:   0%|          | 0.00/28.0 [00:00<?, ?B/s]"
            ]
          },
          "metadata": {}
        },
        {
          "output_type": "display_data",
          "data": {
            "application/vnd.jupyter.widget-view+json": {
              "model_id": "d7268c1378bf4f54a99a9bfbc10268b6",
              "version_minor": 0,
              "version_major": 2
            },
            "text/plain": [
              "Downloading:   0%|          | 0.00/571 [00:00<?, ?B/s]"
            ]
          },
          "metadata": {}
        },
        {
          "output_type": "display_data",
          "data": {
            "application/vnd.jupyter.widget-view+json": {
              "model_id": "b29d507f3828469fac1dc991ebeb0e95",
              "version_minor": 0,
              "version_major": 2
            },
            "text/plain": [
              "Downloading:   0%|          | 0.00/226k [00:00<?, ?B/s]"
            ]
          },
          "metadata": {}
        },
        {
          "output_type": "display_data",
          "data": {
            "application/vnd.jupyter.widget-view+json": {
              "model_id": "efc8d7f31f334f1ca4834296071a97d6",
              "version_minor": 0,
              "version_major": 2
            },
            "text/plain": [
              "Downloading:   0%|          | 0.00/455k [00:00<?, ?B/s]"
            ]
          },
          "metadata": {}
        },
        {
          "output_type": "stream",
          "name": "stdout",
          "text": [
            "Encode: [101, 4372, 16044, 2033, 999, 102]\n",
            "Decode: [CLS] encode me! [SEP]\n"
          ]
        }
      ],
      "source": [
        "#BERT\n",
        "TOKENIZER = AutoTokenizer.from_pretrained(\"bert-large-uncased\")\n",
        "enc = TOKENIZER.encode(\"Encode me!\")\n",
        "dec = TOKENIZER.decode(enc)\n",
        "print(\"Encode: \" + str(enc))\n",
        "print(\"Decode: \" + str(dec))"
      ]
    },
    {
      "cell_type": "code",
      "execution_count": 51,
      "metadata": {
        "execution": {
          "iopub.execute_input": "2020-09-05T16:53:39.495570Z",
          "iopub.status.busy": "2020-09-05T16:53:39.494576Z",
          "iopub.status.idle": "2020-09-05T16:53:39.497807Z",
          "shell.execute_reply": "2020-09-05T16:53:39.497278Z"
        },
        "papermill": {
          "duration": 1.120638,
          "end_time": "2020-09-05T16:53:39.497922",
          "exception": false,
          "start_time": "2020-09-05T16:53:38.377284",
          "status": "completed"
        },
        "tags": [],
        "id": "4O3G-_Trh6HC"
      },
      "outputs": [],
      "source": [
        "def bert_encode(data,maximum_len) :\n",
        "    input_ids = []\n",
        "    attention_masks = []\n",
        "  \n",
        "\n",
        "    for i in range(len(data.text)):\n",
        "        encoded = TOKENIZER.encode_plus(data.text[i],\n",
        "                                        add_special_tokens=True,\n",
        "                                        max_length=maximum_len,\n",
        "                                        pad_to_max_length=True,\n",
        "                                        return_attention_mask=True)\n",
        "      \n",
        "        input_ids.append(encoded['input_ids'])\n",
        "        attention_masks.append(encoded['attention_mask'])\n",
        "        \n",
        "    return np.array(input_ids),np.array(attention_masks)"
      ]
    },
    {
      "cell_type": "code",
      "execution_count": 52,
      "metadata": {
        "execution": {
          "iopub.execute_input": "2020-09-05T16:53:41.857003Z",
          "iopub.status.busy": "2020-09-05T16:53:41.856051Z",
          "iopub.status.idle": "2020-09-05T16:53:41.859282Z",
          "shell.execute_reply": "2020-09-05T16:53:41.858724Z"
        },
        "papermill": {
          "duration": 1.172427,
          "end_time": "2020-09-05T16:53:41.859417",
          "exception": false,
          "start_time": "2020-09-05T16:53:40.686990",
          "status": "completed"
        },
        "tags": [],
        "id": "eILz893ah6HD"
      },
      "outputs": [],
      "source": [
        "def build_model(model_layer, learning_rate, use_meta = USE_META, add_dense = ADD_DENSE,\n",
        "               dense_dim = DENSE_DIM, add_dropout = ADD_DROPOUT, dropout = DROPOUT):\n",
        "    \n",
        "    #define inputs\n",
        "    input_ids = tf.keras.Input(shape=(60,),dtype='int32')\n",
        "    attention_masks = tf.keras.Input(shape=(60,),dtype='int32')\n",
        "    meta_input = tf.keras.Input(shape = (meta_train.shape[1], ))\n",
        "    \n",
        "    #insert BERT layer\n",
        "    transformer_layer = model_layer([input_ids,attention_masks])\n",
        "    \n",
        "    #choose only last hidden-state\n",
        "    output = transformer_layer[1]\n",
        "    \n",
        "    #add meta data\n",
        "    if use_meta:\n",
        "        output = tf.keras.layers.Concatenate()([output, meta_input])\n",
        "    \n",
        "    #add dense relu layer\n",
        "    if add_dense:\n",
        "        print(\"Training with additional dense layer...\")\n",
        "        output = tf.keras.layers.Dense(dense_dim,activation='relu')(output)\n",
        "    \n",
        "    #add dropout\n",
        "    if add_dropout:\n",
        "        print(\"Training with dropout...\")\n",
        "        output = tf.keras.layers.Dropout(dropout)(output)\n",
        "    \n",
        "    #add final node for binary classification\n",
        "    output = tf.keras.layers.Dense(1,activation='sigmoid')(output)\n",
        "    \n",
        "    #assemble and compile\n",
        "    if use_meta:\n",
        "        print(\"Training with meta-data...\")\n",
        "        model = tf.keras.models.Model(inputs = [input_ids,attention_masks, meta_input],outputs = output)\n",
        "    \n",
        "    else:\n",
        "        print(\"Training without meta-data...\")\n",
        "        model = tf.keras.models.Model(inputs = [input_ids,attention_masks],outputs = output)\n",
        "\n",
        "    model.compile(tf.keras.optimizers.Adam(lr=learning_rate), loss='binary_crossentropy', metrics=['accuracy'])\n",
        "    \n",
        "    return model"
      ]
    },
    {
      "cell_type": "code",
      "execution_count": 53,
      "metadata": {
        "execution": {
          "iopub.execute_input": "2020-09-05T16:53:44.479297Z",
          "iopub.status.busy": "2020-09-05T16:53:44.478342Z",
          "iopub.status.idle": "2020-09-05T16:53:44.513987Z",
          "shell.execute_reply": "2020-09-05T16:53:44.513401Z"
        },
        "papermill": {
          "duration": 1.413018,
          "end_time": "2020-09-05T16:53:44.514113",
          "exception": false,
          "start_time": "2020-09-05T16:53:43.101095",
          "status": "completed"
        },
        "tags": [],
        "colab": {
          "base_uri": "https://localhost:8080/"
        },
        "id": "AQOs0CvFh6HD",
        "outputId": "29dc9d38-e3bc-4f9c-89d9-56bde3a429d8"
      },
      "outputs": [
        {
          "output_type": "stream",
          "name": "stdout",
          "text": [
            "Shape of train and test dataset : (7613, 5) (3263, 4)\n"
          ]
        }
      ],
      "source": [
        "#Create dataframe\n",
        "train = pd.read_csv(w9_files+\"/train.csv\")\n",
        "test = pd.read_csv(w9_files+\"/test.csv\")\n",
        "\n",
        "print(\"Shape of train and test dataset :\" , train.shape ,test.shape)"
      ]
    },
    {
      "cell_type": "code",
      "execution_count": 54,
      "metadata": {
        "execution": {
          "iopub.execute_input": "2020-09-05T16:53:46.889521Z",
          "iopub.status.busy": "2020-09-05T16:53:46.888693Z",
          "iopub.status.idle": "2020-09-05T16:55:01.053616Z",
          "shell.execute_reply": "2020-09-05T16:55:01.054279Z"
        },
        "papermill": {
          "duration": 75.352474,
          "end_time": "2020-09-05T16:55:01.054467",
          "exception": false,
          "start_time": "2020-09-05T16:53:45.701993",
          "status": "completed"
        },
        "tags": [],
        "colab": {
          "base_uri": "https://localhost:8080/",
          "height": 868,
          "referenced_widgets": [
            "ddd97e9385ee4c0c98ca66765a3cd1c7",
            "7e2e318277ea46a69e470dcb613d12ad",
            "2de91833783f4f309ff2ec053038bbf9",
            "957515a4450c49bda9a77e193b30ab3d",
            "ff535999161240b6a41cddea5c52e237",
            "2ad20c98c4a846fe9e65853b302935f3",
            "56cca93812e04cd388322845cf2c6eb1",
            "89da845f2d7e4990a3f6eaf3c4ffcbc7",
            "ba6bd288d9344f10b7e4a47c0ab2be5f",
            "fed8614c703248d0bbd7c335eb5ca2a7",
            "56048107696c4556a51ef1092127347a"
          ]
        },
        "id": "WIIn3LF4h6HE",
        "outputId": "0308f971-8aa5-4cbe-a71c-1e0ec201ef58"
      },
      "outputs": [
        {
          "output_type": "display_data",
          "data": {
            "application/vnd.jupyter.widget-view+json": {
              "model_id": "ddd97e9385ee4c0c98ca66765a3cd1c7",
              "version_minor": 0,
              "version_major": 2
            },
            "text/plain": [
              "Downloading:   0%|          | 0.00/1.37G [00:00<?, ?B/s]"
            ]
          },
          "metadata": {}
        },
        {
          "output_type": "stream",
          "name": "stderr",
          "text": [
            "Some layers from the model checkpoint at bert-large-uncased were not used when initializing TFBertModel: ['mlm___cls', 'nsp___cls']\n",
            "- This IS expected if you are initializing TFBertModel from the checkpoint of a model trained on another task or with another architecture (e.g. initializing a BertForSequenceClassification model from a BertForPreTraining model).\n",
            "- This IS NOT expected if you are initializing TFBertModel from the checkpoint of a model that you expect to be exactly identical (initializing a BertForSequenceClassification model from a BertForSequenceClassification model).\n",
            "All the layers of TFBertModel were initialized from the model checkpoint at bert-large-uncased.\n",
            "If your task is similar to the task the model of the checkpoint was trained on, you can already use TFBertModel for predictions without further training.\n",
            "Truncation was not explicitly activated but `max_length` is provided a specific value, please use `truncation=True` to explicitly truncate examples to max length. Defaulting to 'longest_first' truncation strategy. If you encode pairs of sequences (GLUE-style) with the tokenizer you can select this strategy more precisely by providing a specific strategy to `truncation`.\n"
          ]
        },
        {
          "output_type": "stream",
          "name": "stdout",
          "text": [
            "Train length: 7613\n",
            "Test length: 3263\n",
            "Training with meta-data...\n",
            "Model: \"model_3\"\n",
            "__________________________________________________________________________________________________\n",
            " Layer (type)                   Output Shape         Param #     Connected to                     \n",
            "==================================================================================================\n",
            " input_1 (InputLayer)           [(None, 60)]         0           []                               \n",
            "                                                                                                  \n",
            " input_2 (InputLayer)           [(None, 60)]         0           []                               \n",
            "                                                                                                  \n",
            " tf_bert_model (TFBertModel)    TFBaseModelOutputWi  335141888   ['input_1[0][0]',                \n",
            "                                thPoolingAndCrossAt               'input_2[0][0]']                \n",
            "                                tentions(last_hidde                                               \n",
            "                                n_state=(None, 60,                                                \n",
            "                                1024),                                                            \n",
            "                                 pooler_output=(Non                                               \n",
            "                                e, 1024),                                                         \n",
            "                                 past_key_values=No                                               \n",
            "                                ne, hidden_states=N                                               \n",
            "                                one, attentions=Non                                               \n",
            "                                e, cross_attentions                                               \n",
            "                                =None)                                                            \n",
            "                                                                                                  \n",
            " input_3 (InputLayer)           [(None, 7)]          0           []                               \n",
            "                                                                                                  \n",
            " concatenate_3 (Concatenate)    (None, 1031)         0           ['tf_bert_model[0][1]',          \n",
            "                                                                  'input_3[0][0]']                \n",
            "                                                                                                  \n",
            " dense_4 (Dense)                (None, 1)            1032        ['concatenate_3[0][0]']          \n",
            "                                                                                                  \n",
            "==================================================================================================\n",
            "Total params: 335,142,920\n",
            "Trainable params: 335,142,920\n",
            "Non-trainable params: 0\n",
            "__________________________________________________________________________________________________\n"
          ]
        }
      ],
      "source": [
        "#get BERT layer\n",
        "bert_large = TFAutoModel.from_pretrained('bert-large-uncased')\n",
        "\n",
        "#get BERT tokenizer\n",
        "TOKENIZER = AutoTokenizer.from_pretrained(\"bert-large-uncased\")\n",
        "\n",
        "#get our inputs\n",
        "train_input_ids,train_attention_masks = bert_encode(train,60)\n",
        "test_input_ids,test_attention_masks = bert_encode(test,60)\n",
        "\n",
        "#debugging step\n",
        "print('Train length:', len(train_input_ids))\n",
        "print('Test length:', len(test_input_ids))\n",
        "\n",
        "#and build and view parameters\n",
        "BERT_large = build_model(bert_large, learning_rate = 1e-5)\n",
        "BERT_large.summary()"
      ]
    },
    {
      "cell_type": "code",
      "execution_count": 55,
      "metadata": {
        "execution": {
          "iopub.execute_input": "2020-09-05T16:55:03.409806Z",
          "iopub.status.busy": "2020-09-05T16:55:03.408532Z",
          "iopub.status.idle": "2020-09-05T16:55:03.410569Z",
          "shell.execute_reply": "2020-09-05T16:55:03.411088Z"
        },
        "papermill": {
          "duration": 1.197936,
          "end_time": "2020-09-05T16:55:03.411264",
          "exception": false,
          "start_time": "2020-09-05T16:55:02.213328",
          "status": "completed"
        },
        "tags": [],
        "id": "UmWD0_WZh6HE"
      },
      "outputs": [],
      "source": [
        "checkpoint = tf.keras.callbacks.ModelCheckpoint('large_model.h5', monitor='val_loss', save_best_only = True, save_weights_only = True)"
      ]
    },
    {
      "cell_type": "code",
      "execution_count": 56,
      "metadata": {
        "execution": {
          "iopub.execute_input": "2020-09-05T16:55:05.711077Z",
          "iopub.status.busy": "2020-09-05T16:55:05.710390Z",
          "iopub.status.idle": "2020-09-05T17:01:21.452467Z",
          "shell.execute_reply": "2020-09-05T17:01:21.453327Z"
        },
        "papermill": {
          "duration": 376.886313,
          "end_time": "2020-09-05T17:01:21.453561",
          "exception": false,
          "start_time": "2020-09-05T16:55:04.567248",
          "status": "completed"
        },
        "tags": [],
        "colab": {
          "base_uri": "https://localhost:8080/"
        },
        "id": "shC3l5x5h6HE",
        "outputId": "52b4f528-a82c-4502-ec47-3a841bf0441e"
      },
      "outputs": [
        {
          "output_type": "stream",
          "name": "stdout",
          "text": [
            "Epoch 1/2\n",
            "191/191 [==============================] - 202s 902ms/step - loss: 0.4811 - accuracy: 0.7744 - val_loss: 0.4314 - val_accuracy: 0.8162\n",
            "Epoch 2/2\n",
            "191/191 [==============================] - 167s 873ms/step - loss: 0.3576 - accuracy: 0.8578 - val_loss: 0.3751 - val_accuracy: 0.8444\n"
          ]
        }
      ],
      "source": [
        "#train BERT\n",
        "history_bert = BERT_large.fit([train_input_ids,train_attention_masks, meta_train], train.target,\n",
        "                         validation_split = .2, epochs = EPOCHS, callbacks = [checkpoint], batch_size = BATCH_SIZE)"
      ]
    },
    {
      "cell_type": "code",
      "execution_count": 57,
      "metadata": {
        "execution": {
          "iopub.execute_input": "2020-09-05T17:01:24.110985Z",
          "iopub.status.busy": "2020-09-05T17:01:24.087411Z",
          "iopub.status.idle": "2020-09-05T17:02:01.097721Z",
          "shell.execute_reply": "2020-09-05T17:02:01.096554Z"
        },
        "papermill": {
          "duration": 38.348996,
          "end_time": "2020-09-05T17:02:01.097862",
          "exception": false,
          "start_time": "2020-09-05T17:01:22.748866",
          "status": "completed"
        },
        "tags": [],
        "id": "6h2aW6Vth6HE"
      },
      "outputs": [],
      "source": [
        "#load model with best losses\n",
        "BERT_large.load_weights('large_model.h5')\n",
        "\n",
        "preds_bert = BERT_large.predict([test_input_ids,test_attention_masks,meta_test])"
      ]
    },
    {
      "cell_type": "code",
      "execution_count": 58,
      "metadata": {
        "execution": {
          "iopub.execute_input": "2020-09-05T17:02:03.504387Z",
          "iopub.status.busy": "2020-09-05T17:02:03.503452Z",
          "iopub.status.idle": "2020-09-05T17:02:03.507124Z",
          "shell.execute_reply": "2020-09-05T17:02:03.507689Z"
        },
        "papermill": {
          "duration": 1.209431,
          "end_time": "2020-09-05T17:02:03.507828",
          "exception": false,
          "start_time": "2020-09-05T17:02:02.298397",
          "status": "completed"
        },
        "tags": [],
        "colab": {
          "base_uri": "https://localhost:8080/",
          "height": 363
        },
        "id": "d3RG4rZHh6HF",
        "outputId": "f7daedf4-e2f9-407b-e9a9-dd04a70e676d"
      },
      "outputs": [
        {
          "output_type": "execute_result",
          "data": {
            "text/html": [
              "\n",
              "  <div id=\"df-b8f1802d-1473-422a-8629-f9364a210018\">\n",
              "    <div class=\"colab-df-container\">\n",
              "      <div>\n",
              "<style scoped>\n",
              "    .dataframe tbody tr th:only-of-type {\n",
              "        vertical-align: middle;\n",
              "    }\n",
              "\n",
              "    .dataframe tbody tr th {\n",
              "        vertical-align: top;\n",
              "    }\n",
              "\n",
              "    .dataframe thead th {\n",
              "        text-align: right;\n",
              "    }\n",
              "</style>\n",
              "<table border=\"1\" class=\"dataframe\">\n",
              "  <thead>\n",
              "    <tr style=\"text-align: right;\">\n",
              "      <th></th>\n",
              "      <th>id</th>\n",
              "      <th>prob</th>\n",
              "      <th>target</th>\n",
              "    </tr>\n",
              "  </thead>\n",
              "  <tbody>\n",
              "    <tr>\n",
              "      <th>0</th>\n",
              "      <td>0</td>\n",
              "      <td>0.946030</td>\n",
              "      <td>1</td>\n",
              "    </tr>\n",
              "    <tr>\n",
              "      <th>1</th>\n",
              "      <td>2</td>\n",
              "      <td>0.975866</td>\n",
              "      <td>1</td>\n",
              "    </tr>\n",
              "    <tr>\n",
              "      <th>2</th>\n",
              "      <td>3</td>\n",
              "      <td>0.946028</td>\n",
              "      <td>1</td>\n",
              "    </tr>\n",
              "    <tr>\n",
              "      <th>3</th>\n",
              "      <td>9</td>\n",
              "      <td>0.962574</td>\n",
              "      <td>1</td>\n",
              "    </tr>\n",
              "    <tr>\n",
              "      <th>4</th>\n",
              "      <td>11</td>\n",
              "      <td>0.989296</td>\n",
              "      <td>1</td>\n",
              "    </tr>\n",
              "    <tr>\n",
              "      <th>5</th>\n",
              "      <td>12</td>\n",
              "      <td>0.835160</td>\n",
              "      <td>1</td>\n",
              "    </tr>\n",
              "    <tr>\n",
              "      <th>6</th>\n",
              "      <td>21</td>\n",
              "      <td>0.140627</td>\n",
              "      <td>0</td>\n",
              "    </tr>\n",
              "    <tr>\n",
              "      <th>7</th>\n",
              "      <td>22</td>\n",
              "      <td>0.073215</td>\n",
              "      <td>0</td>\n",
              "    </tr>\n",
              "    <tr>\n",
              "      <th>8</th>\n",
              "      <td>27</td>\n",
              "      <td>0.094029</td>\n",
              "      <td>0</td>\n",
              "    </tr>\n",
              "    <tr>\n",
              "      <th>9</th>\n",
              "      <td>29</td>\n",
              "      <td>0.112965</td>\n",
              "      <td>0</td>\n",
              "    </tr>\n",
              "  </tbody>\n",
              "</table>\n",
              "</div>\n",
              "      <button class=\"colab-df-convert\" onclick=\"convertToInteractive('df-b8f1802d-1473-422a-8629-f9364a210018')\"\n",
              "              title=\"Convert this dataframe to an interactive table.\"\n",
              "              style=\"display:none;\">\n",
              "        \n",
              "  <svg xmlns=\"http://www.w3.org/2000/svg\" height=\"24px\"viewBox=\"0 0 24 24\"\n",
              "       width=\"24px\">\n",
              "    <path d=\"M0 0h24v24H0V0z\" fill=\"none\"/>\n",
              "    <path d=\"M18.56 5.44l.94 2.06.94-2.06 2.06-.94-2.06-.94-.94-2.06-.94 2.06-2.06.94zm-11 1L8.5 8.5l.94-2.06 2.06-.94-2.06-.94L8.5 2.5l-.94 2.06-2.06.94zm10 10l.94 2.06.94-2.06 2.06-.94-2.06-.94-.94-2.06-.94 2.06-2.06.94z\"/><path d=\"M17.41 7.96l-1.37-1.37c-.4-.4-.92-.59-1.43-.59-.52 0-1.04.2-1.43.59L10.3 9.45l-7.72 7.72c-.78.78-.78 2.05 0 2.83L4 21.41c.39.39.9.59 1.41.59.51 0 1.02-.2 1.41-.59l7.78-7.78 2.81-2.81c.8-.78.8-2.07 0-2.86zM5.41 20L4 18.59l7.72-7.72 1.47 1.35L5.41 20z\"/>\n",
              "  </svg>\n",
              "      </button>\n",
              "      \n",
              "  <style>\n",
              "    .colab-df-container {\n",
              "      display:flex;\n",
              "      flex-wrap:wrap;\n",
              "      gap: 12px;\n",
              "    }\n",
              "\n",
              "    .colab-df-convert {\n",
              "      background-color: #E8F0FE;\n",
              "      border: none;\n",
              "      border-radius: 50%;\n",
              "      cursor: pointer;\n",
              "      display: none;\n",
              "      fill: #1967D2;\n",
              "      height: 32px;\n",
              "      padding: 0 0 0 0;\n",
              "      width: 32px;\n",
              "    }\n",
              "\n",
              "    .colab-df-convert:hover {\n",
              "      background-color: #E2EBFA;\n",
              "      box-shadow: 0px 1px 2px rgba(60, 64, 67, 0.3), 0px 1px 3px 1px rgba(60, 64, 67, 0.15);\n",
              "      fill: #174EA6;\n",
              "    }\n",
              "\n",
              "    [theme=dark] .colab-df-convert {\n",
              "      background-color: #3B4455;\n",
              "      fill: #D2E3FC;\n",
              "    }\n",
              "\n",
              "    [theme=dark] .colab-df-convert:hover {\n",
              "      background-color: #434B5C;\n",
              "      box-shadow: 0px 1px 3px 1px rgba(0, 0, 0, 0.15);\n",
              "      filter: drop-shadow(0px 1px 2px rgba(0, 0, 0, 0.3));\n",
              "      fill: #FFFFFF;\n",
              "    }\n",
              "  </style>\n",
              "\n",
              "      <script>\n",
              "        const buttonEl =\n",
              "          document.querySelector('#df-b8f1802d-1473-422a-8629-f9364a210018 button.colab-df-convert');\n",
              "        buttonEl.style.display =\n",
              "          google.colab.kernel.accessAllowed ? 'block' : 'none';\n",
              "\n",
              "        async function convertToInteractive(key) {\n",
              "          const element = document.querySelector('#df-b8f1802d-1473-422a-8629-f9364a210018');\n",
              "          const dataTable =\n",
              "            await google.colab.kernel.invokeFunction('convertToInteractive',\n",
              "                                                     [key], {});\n",
              "          if (!dataTable) return;\n",
              "\n",
              "          const docLinkHtml = 'Like what you see? Visit the ' +\n",
              "            '<a target=\"_blank\" href=https://colab.research.google.com/notebooks/data_table.ipynb>data table notebook</a>'\n",
              "            + ' to learn more about interactive tables.';\n",
              "          element.innerHTML = '';\n",
              "          dataTable['output_type'] = 'display_data';\n",
              "          await google.colab.output.renderOutput(dataTable, element);\n",
              "          const docLink = document.createElement('div');\n",
              "          docLink.innerHTML = docLinkHtml;\n",
              "          element.appendChild(docLink);\n",
              "        }\n",
              "      </script>\n",
              "    </div>\n",
              "  </div>\n",
              "  "
            ],
            "text/plain": [
              "   id      prob  target\n",
              "0   0  0.946030       1\n",
              "1   2  0.975866       1\n",
              "2   3  0.946028       1\n",
              "3   9  0.962574       1\n",
              "4  11  0.989296       1\n",
              "5  12  0.835160       1\n",
              "6  21  0.140627       0\n",
              "7  22  0.073215       0\n",
              "8  27  0.094029       0\n",
              "9  29  0.112965       0"
            ]
          },
          "metadata": {},
          "execution_count": 58
        }
      ],
      "source": [
        "#save as dataframe\n",
        "submission_bert = pd.DataFrame()\n",
        "submission_bert['id'] = test_id\n",
        "submission_bert['prob'] = preds_bert\n",
        "submission_bert['target'] = np.round(submission_bert['prob']).astype(int)\n",
        "submission_bert.head(10)"
      ]
    },
    {
      "cell_type": "markdown",
      "metadata": {
        "papermill": {
          "duration": 1.220693,
          "end_time": "2020-09-05T17:02:06.101072",
          "exception": false,
          "start_time": "2020-09-05T17:02:04.880379",
          "status": "completed"
        },
        "tags": [],
        "id": "n8BBbJZTh6HF"
      },
      "source": [
        "# V. Submission\n",
        "\n",
        "**Now we are finally ready to submit our predictions:**"
      ]
    },
    {
      "cell_type": "code",
      "execution_count": 59,
      "metadata": {
        "execution": {
          "iopub.execute_input": "2020-09-05T17:02:08.442535Z",
          "iopub.status.busy": "2020-09-05T17:02:08.441555Z",
          "iopub.status.idle": "2020-09-05T17:02:08.539493Z",
          "shell.execute_reply": "2020-09-05T17:02:08.540228Z"
        },
        "papermill": {
          "duration": 1.239151,
          "end_time": "2020-09-05T17:02:08.540455",
          "exception": false,
          "start_time": "2020-09-05T17:02:07.301304",
          "status": "completed"
        },
        "tags": [],
        "colab": {
          "base_uri": "https://localhost:8080/"
        },
        "id": "PIEF4xwbh6HF",
        "outputId": "a5c4da1c-dee0-4722-c373-220e50b8f956"
      },
      "outputs": [
        {
          "output_type": "stream",
          "name": "stdout",
          "text": [
            "Blended submission has been saved to disk\n"
          ]
        }
      ],
      "source": [
        "#and last but not least, submit\n",
        "submission_bert = submission_bert[['id', 'target']]\n",
        "submission_bert.to_csv('submission_bert.csv', index = False)\n",
        "print('Blended submission has been saved to disk')"
      ]
    }
  ],
  "metadata": {
    "kernelspec": {
      "display_name": "Python 3",
      "language": "python",
      "name": "python3"
    },
    "language_info": {
      "codemirror_mode": {
        "name": "ipython",
        "version": 3
      },
      "file_extension": ".py",
      "mimetype": "text/x-python",
      "name": "python",
      "nbconvert_exporter": "python",
      "pygments_lexer": "ipython3",
      "version": "3.7.6"
    },
    "papermill": {
      "duration": 3972.282276,
      "end_time": "2020-09-05T17:02:11.827131",
      "environment_variables": {},
      "exception": null,
      "input_path": "__notebook__.ipynb",
      "output_path": "__notebook__.ipynb",
      "parameters": {},
      "start_time": "2020-09-05T15:55:59.544855",
      "version": "2.1.0"
    },
    "widgets": {
      "application/vnd.jupyter.widget-state+json": {
        "450893b3af4441febe51e51f3690004b": {
          "model_module": "@jupyter-widgets/controls",
          "model_name": "HBoxModel",
          "model_module_version": "1.5.0",
          "state": {
            "_view_name": "HBoxView",
            "_dom_classes": [],
            "_model_name": "HBoxModel",
            "_view_module": "@jupyter-widgets/controls",
            "_model_module_version": "1.5.0",
            "_view_count": null,
            "_view_module_version": "1.5.0",
            "box_style": "",
            "layout": "IPY_MODEL_64d305646fe54ed890589c4373d35edf",
            "_model_module": "@jupyter-widgets/controls",
            "children": [
              "IPY_MODEL_c64a0a771d5b4f808d3cb1f0a9b0e01a",
              "IPY_MODEL_3de538581d1c4e48b993936a27a8f5fa",
              "IPY_MODEL_bc957f2f2701499d81e02d52d1986eb9"
            ]
          }
        },
        "64d305646fe54ed890589c4373d35edf": {
          "model_module": "@jupyter-widgets/base",
          "model_name": "LayoutModel",
          "model_module_version": "1.2.0",
          "state": {
            "_view_name": "LayoutView",
            "grid_template_rows": null,
            "right": null,
            "justify_content": null,
            "_view_module": "@jupyter-widgets/base",
            "overflow": null,
            "_model_module_version": "1.2.0",
            "_view_count": null,
            "flex_flow": null,
            "width": null,
            "min_width": null,
            "border": null,
            "align_items": null,
            "bottom": null,
            "_model_module": "@jupyter-widgets/base",
            "top": null,
            "grid_column": null,
            "overflow_y": null,
            "overflow_x": null,
            "grid_auto_flow": null,
            "grid_area": null,
            "grid_template_columns": null,
            "flex": null,
            "_model_name": "LayoutModel",
            "justify_items": null,
            "grid_row": null,
            "max_height": null,
            "align_content": null,
            "visibility": null,
            "align_self": null,
            "height": null,
            "min_height": null,
            "padding": null,
            "grid_auto_rows": null,
            "grid_gap": null,
            "max_width": null,
            "order": null,
            "_view_module_version": "1.2.0",
            "grid_template_areas": null,
            "object_position": null,
            "object_fit": null,
            "grid_auto_columns": null,
            "margin": null,
            "display": null,
            "left": null
          }
        },
        "c64a0a771d5b4f808d3cb1f0a9b0e01a": {
          "model_module": "@jupyter-widgets/controls",
          "model_name": "HTMLModel",
          "model_module_version": "1.5.0",
          "state": {
            "_view_name": "HTMLView",
            "style": "IPY_MODEL_4f76f7d3d62d40a8aa8dff89e3117415",
            "_dom_classes": [],
            "description": "",
            "_model_name": "HTMLModel",
            "placeholder": "​",
            "_view_module": "@jupyter-widgets/controls",
            "_model_module_version": "1.5.0",
            "value": "Downloading: 100%",
            "_view_count": null,
            "_view_module_version": "1.5.0",
            "description_tooltip": null,
            "_model_module": "@jupyter-widgets/controls",
            "layout": "IPY_MODEL_9ce724822bf64064a21b46503b4e8af1"
          }
        },
        "3de538581d1c4e48b993936a27a8f5fa": {
          "model_module": "@jupyter-widgets/controls",
          "model_name": "FloatProgressModel",
          "model_module_version": "1.5.0",
          "state": {
            "_view_name": "ProgressView",
            "style": "IPY_MODEL_c38c440ae4114add9964a2a798585928",
            "_dom_classes": [],
            "description": "",
            "_model_name": "FloatProgressModel",
            "bar_style": "success",
            "max": 28,
            "_view_module": "@jupyter-widgets/controls",
            "_model_module_version": "1.5.0",
            "value": 28,
            "_view_count": null,
            "_view_module_version": "1.5.0",
            "orientation": "horizontal",
            "min": 0,
            "description_tooltip": null,
            "_model_module": "@jupyter-widgets/controls",
            "layout": "IPY_MODEL_e0259dcf216046ea854fb4797db13966"
          }
        },
        "bc957f2f2701499d81e02d52d1986eb9": {
          "model_module": "@jupyter-widgets/controls",
          "model_name": "HTMLModel",
          "model_module_version": "1.5.0",
          "state": {
            "_view_name": "HTMLView",
            "style": "IPY_MODEL_f057dc9d7e324e1bbc1dc8c04ca15fe3",
            "_dom_classes": [],
            "description": "",
            "_model_name": "HTMLModel",
            "placeholder": "​",
            "_view_module": "@jupyter-widgets/controls",
            "_model_module_version": "1.5.0",
            "value": " 28.0/28.0 [00:00&lt;00:00, 935B/s]",
            "_view_count": null,
            "_view_module_version": "1.5.0",
            "description_tooltip": null,
            "_model_module": "@jupyter-widgets/controls",
            "layout": "IPY_MODEL_2115731a2b834800b7d8dba51dcd8689"
          }
        },
        "4f76f7d3d62d40a8aa8dff89e3117415": {
          "model_module": "@jupyter-widgets/controls",
          "model_name": "DescriptionStyleModel",
          "model_module_version": "1.5.0",
          "state": {
            "_view_name": "StyleView",
            "_model_name": "DescriptionStyleModel",
            "description_width": "",
            "_view_module": "@jupyter-widgets/base",
            "_model_module_version": "1.5.0",
            "_view_count": null,
            "_view_module_version": "1.2.0",
            "_model_module": "@jupyter-widgets/controls"
          }
        },
        "9ce724822bf64064a21b46503b4e8af1": {
          "model_module": "@jupyter-widgets/base",
          "model_name": "LayoutModel",
          "model_module_version": "1.2.0",
          "state": {
            "_view_name": "LayoutView",
            "grid_template_rows": null,
            "right": null,
            "justify_content": null,
            "_view_module": "@jupyter-widgets/base",
            "overflow": null,
            "_model_module_version": "1.2.0",
            "_view_count": null,
            "flex_flow": null,
            "width": null,
            "min_width": null,
            "border": null,
            "align_items": null,
            "bottom": null,
            "_model_module": "@jupyter-widgets/base",
            "top": null,
            "grid_column": null,
            "overflow_y": null,
            "overflow_x": null,
            "grid_auto_flow": null,
            "grid_area": null,
            "grid_template_columns": null,
            "flex": null,
            "_model_name": "LayoutModel",
            "justify_items": null,
            "grid_row": null,
            "max_height": null,
            "align_content": null,
            "visibility": null,
            "align_self": null,
            "height": null,
            "min_height": null,
            "padding": null,
            "grid_auto_rows": null,
            "grid_gap": null,
            "max_width": null,
            "order": null,
            "_view_module_version": "1.2.0",
            "grid_template_areas": null,
            "object_position": null,
            "object_fit": null,
            "grid_auto_columns": null,
            "margin": null,
            "display": null,
            "left": null
          }
        },
        "c38c440ae4114add9964a2a798585928": {
          "model_module": "@jupyter-widgets/controls",
          "model_name": "ProgressStyleModel",
          "model_module_version": "1.5.0",
          "state": {
            "_view_name": "StyleView",
            "_model_name": "ProgressStyleModel",
            "description_width": "",
            "_view_module": "@jupyter-widgets/base",
            "_model_module_version": "1.5.0",
            "_view_count": null,
            "_view_module_version": "1.2.0",
            "bar_color": null,
            "_model_module": "@jupyter-widgets/controls"
          }
        },
        "e0259dcf216046ea854fb4797db13966": {
          "model_module": "@jupyter-widgets/base",
          "model_name": "LayoutModel",
          "model_module_version": "1.2.0",
          "state": {
            "_view_name": "LayoutView",
            "grid_template_rows": null,
            "right": null,
            "justify_content": null,
            "_view_module": "@jupyter-widgets/base",
            "overflow": null,
            "_model_module_version": "1.2.0",
            "_view_count": null,
            "flex_flow": null,
            "width": null,
            "min_width": null,
            "border": null,
            "align_items": null,
            "bottom": null,
            "_model_module": "@jupyter-widgets/base",
            "top": null,
            "grid_column": null,
            "overflow_y": null,
            "overflow_x": null,
            "grid_auto_flow": null,
            "grid_area": null,
            "grid_template_columns": null,
            "flex": null,
            "_model_name": "LayoutModel",
            "justify_items": null,
            "grid_row": null,
            "max_height": null,
            "align_content": null,
            "visibility": null,
            "align_self": null,
            "height": null,
            "min_height": null,
            "padding": null,
            "grid_auto_rows": null,
            "grid_gap": null,
            "max_width": null,
            "order": null,
            "_view_module_version": "1.2.0",
            "grid_template_areas": null,
            "object_position": null,
            "object_fit": null,
            "grid_auto_columns": null,
            "margin": null,
            "display": null,
            "left": null
          }
        },
        "f057dc9d7e324e1bbc1dc8c04ca15fe3": {
          "model_module": "@jupyter-widgets/controls",
          "model_name": "DescriptionStyleModel",
          "model_module_version": "1.5.0",
          "state": {
            "_view_name": "StyleView",
            "_model_name": "DescriptionStyleModel",
            "description_width": "",
            "_view_module": "@jupyter-widgets/base",
            "_model_module_version": "1.5.0",
            "_view_count": null,
            "_view_module_version": "1.2.0",
            "_model_module": "@jupyter-widgets/controls"
          }
        },
        "2115731a2b834800b7d8dba51dcd8689": {
          "model_module": "@jupyter-widgets/base",
          "model_name": "LayoutModel",
          "model_module_version": "1.2.0",
          "state": {
            "_view_name": "LayoutView",
            "grid_template_rows": null,
            "right": null,
            "justify_content": null,
            "_view_module": "@jupyter-widgets/base",
            "overflow": null,
            "_model_module_version": "1.2.0",
            "_view_count": null,
            "flex_flow": null,
            "width": null,
            "min_width": null,
            "border": null,
            "align_items": null,
            "bottom": null,
            "_model_module": "@jupyter-widgets/base",
            "top": null,
            "grid_column": null,
            "overflow_y": null,
            "overflow_x": null,
            "grid_auto_flow": null,
            "grid_area": null,
            "grid_template_columns": null,
            "flex": null,
            "_model_name": "LayoutModel",
            "justify_items": null,
            "grid_row": null,
            "max_height": null,
            "align_content": null,
            "visibility": null,
            "align_self": null,
            "height": null,
            "min_height": null,
            "padding": null,
            "grid_auto_rows": null,
            "grid_gap": null,
            "max_width": null,
            "order": null,
            "_view_module_version": "1.2.0",
            "grid_template_areas": null,
            "object_position": null,
            "object_fit": null,
            "grid_auto_columns": null,
            "margin": null,
            "display": null,
            "left": null
          }
        },
        "d7268c1378bf4f54a99a9bfbc10268b6": {
          "model_module": "@jupyter-widgets/controls",
          "model_name": "HBoxModel",
          "model_module_version": "1.5.0",
          "state": {
            "_view_name": "HBoxView",
            "_dom_classes": [],
            "_model_name": "HBoxModel",
            "_view_module": "@jupyter-widgets/controls",
            "_model_module_version": "1.5.0",
            "_view_count": null,
            "_view_module_version": "1.5.0",
            "box_style": "",
            "layout": "IPY_MODEL_74bc4b4fc0a14a8ea3cbc7c6acdebedf",
            "_model_module": "@jupyter-widgets/controls",
            "children": [
              "IPY_MODEL_95ec9fb1028347a69fbda71be7ee58ff",
              "IPY_MODEL_e57eca7845a945629d75302e97cf0704",
              "IPY_MODEL_508d1d0115914e63b15e1501335305c5"
            ]
          }
        },
        "74bc4b4fc0a14a8ea3cbc7c6acdebedf": {
          "model_module": "@jupyter-widgets/base",
          "model_name": "LayoutModel",
          "model_module_version": "1.2.0",
          "state": {
            "_view_name": "LayoutView",
            "grid_template_rows": null,
            "right": null,
            "justify_content": null,
            "_view_module": "@jupyter-widgets/base",
            "overflow": null,
            "_model_module_version": "1.2.0",
            "_view_count": null,
            "flex_flow": null,
            "width": null,
            "min_width": null,
            "border": null,
            "align_items": null,
            "bottom": null,
            "_model_module": "@jupyter-widgets/base",
            "top": null,
            "grid_column": null,
            "overflow_y": null,
            "overflow_x": null,
            "grid_auto_flow": null,
            "grid_area": null,
            "grid_template_columns": null,
            "flex": null,
            "_model_name": "LayoutModel",
            "justify_items": null,
            "grid_row": null,
            "max_height": null,
            "align_content": null,
            "visibility": null,
            "align_self": null,
            "height": null,
            "min_height": null,
            "padding": null,
            "grid_auto_rows": null,
            "grid_gap": null,
            "max_width": null,
            "order": null,
            "_view_module_version": "1.2.0",
            "grid_template_areas": null,
            "object_position": null,
            "object_fit": null,
            "grid_auto_columns": null,
            "margin": null,
            "display": null,
            "left": null
          }
        },
        "95ec9fb1028347a69fbda71be7ee58ff": {
          "model_module": "@jupyter-widgets/controls",
          "model_name": "HTMLModel",
          "model_module_version": "1.5.0",
          "state": {
            "_view_name": "HTMLView",
            "style": "IPY_MODEL_e6cd2a5ca33c404b9278a9233d328fe4",
            "_dom_classes": [],
            "description": "",
            "_model_name": "HTMLModel",
            "placeholder": "​",
            "_view_module": "@jupyter-widgets/controls",
            "_model_module_version": "1.5.0",
            "value": "Downloading: 100%",
            "_view_count": null,
            "_view_module_version": "1.5.0",
            "description_tooltip": null,
            "_model_module": "@jupyter-widgets/controls",
            "layout": "IPY_MODEL_54a6eeb1e7c642b7a4c1e3959d7bd57e"
          }
        },
        "e57eca7845a945629d75302e97cf0704": {
          "model_module": "@jupyter-widgets/controls",
          "model_name": "FloatProgressModel",
          "model_module_version": "1.5.0",
          "state": {
            "_view_name": "ProgressView",
            "style": "IPY_MODEL_67e36f1a630f40e484e38ae0f73d13b7",
            "_dom_classes": [],
            "description": "",
            "_model_name": "FloatProgressModel",
            "bar_style": "success",
            "max": 571,
            "_view_module": "@jupyter-widgets/controls",
            "_model_module_version": "1.5.0",
            "value": 571,
            "_view_count": null,
            "_view_module_version": "1.5.0",
            "orientation": "horizontal",
            "min": 0,
            "description_tooltip": null,
            "_model_module": "@jupyter-widgets/controls",
            "layout": "IPY_MODEL_40412bc4f09d4c709109e6a07816c7d9"
          }
        },
        "508d1d0115914e63b15e1501335305c5": {
          "model_module": "@jupyter-widgets/controls",
          "model_name": "HTMLModel",
          "model_module_version": "1.5.0",
          "state": {
            "_view_name": "HTMLView",
            "style": "IPY_MODEL_a76a428bc8af4353b46b61a7847d1871",
            "_dom_classes": [],
            "description": "",
            "_model_name": "HTMLModel",
            "placeholder": "​",
            "_view_module": "@jupyter-widgets/controls",
            "_model_module_version": "1.5.0",
            "value": " 571/571 [00:00&lt;00:00, 22.2kB/s]",
            "_view_count": null,
            "_view_module_version": "1.5.0",
            "description_tooltip": null,
            "_model_module": "@jupyter-widgets/controls",
            "layout": "IPY_MODEL_03298758fdbc404ebed21333f1e0b015"
          }
        },
        "e6cd2a5ca33c404b9278a9233d328fe4": {
          "model_module": "@jupyter-widgets/controls",
          "model_name": "DescriptionStyleModel",
          "model_module_version": "1.5.0",
          "state": {
            "_view_name": "StyleView",
            "_model_name": "DescriptionStyleModel",
            "description_width": "",
            "_view_module": "@jupyter-widgets/base",
            "_model_module_version": "1.5.0",
            "_view_count": null,
            "_view_module_version": "1.2.0",
            "_model_module": "@jupyter-widgets/controls"
          }
        },
        "54a6eeb1e7c642b7a4c1e3959d7bd57e": {
          "model_module": "@jupyter-widgets/base",
          "model_name": "LayoutModel",
          "model_module_version": "1.2.0",
          "state": {
            "_view_name": "LayoutView",
            "grid_template_rows": null,
            "right": null,
            "justify_content": null,
            "_view_module": "@jupyter-widgets/base",
            "overflow": null,
            "_model_module_version": "1.2.0",
            "_view_count": null,
            "flex_flow": null,
            "width": null,
            "min_width": null,
            "border": null,
            "align_items": null,
            "bottom": null,
            "_model_module": "@jupyter-widgets/base",
            "top": null,
            "grid_column": null,
            "overflow_y": null,
            "overflow_x": null,
            "grid_auto_flow": null,
            "grid_area": null,
            "grid_template_columns": null,
            "flex": null,
            "_model_name": "LayoutModel",
            "justify_items": null,
            "grid_row": null,
            "max_height": null,
            "align_content": null,
            "visibility": null,
            "align_self": null,
            "height": null,
            "min_height": null,
            "padding": null,
            "grid_auto_rows": null,
            "grid_gap": null,
            "max_width": null,
            "order": null,
            "_view_module_version": "1.2.0",
            "grid_template_areas": null,
            "object_position": null,
            "object_fit": null,
            "grid_auto_columns": null,
            "margin": null,
            "display": null,
            "left": null
          }
        },
        "67e36f1a630f40e484e38ae0f73d13b7": {
          "model_module": "@jupyter-widgets/controls",
          "model_name": "ProgressStyleModel",
          "model_module_version": "1.5.0",
          "state": {
            "_view_name": "StyleView",
            "_model_name": "ProgressStyleModel",
            "description_width": "",
            "_view_module": "@jupyter-widgets/base",
            "_model_module_version": "1.5.0",
            "_view_count": null,
            "_view_module_version": "1.2.0",
            "bar_color": null,
            "_model_module": "@jupyter-widgets/controls"
          }
        },
        "40412bc4f09d4c709109e6a07816c7d9": {
          "model_module": "@jupyter-widgets/base",
          "model_name": "LayoutModel",
          "model_module_version": "1.2.0",
          "state": {
            "_view_name": "LayoutView",
            "grid_template_rows": null,
            "right": null,
            "justify_content": null,
            "_view_module": "@jupyter-widgets/base",
            "overflow": null,
            "_model_module_version": "1.2.0",
            "_view_count": null,
            "flex_flow": null,
            "width": null,
            "min_width": null,
            "border": null,
            "align_items": null,
            "bottom": null,
            "_model_module": "@jupyter-widgets/base",
            "top": null,
            "grid_column": null,
            "overflow_y": null,
            "overflow_x": null,
            "grid_auto_flow": null,
            "grid_area": null,
            "grid_template_columns": null,
            "flex": null,
            "_model_name": "LayoutModel",
            "justify_items": null,
            "grid_row": null,
            "max_height": null,
            "align_content": null,
            "visibility": null,
            "align_self": null,
            "height": null,
            "min_height": null,
            "padding": null,
            "grid_auto_rows": null,
            "grid_gap": null,
            "max_width": null,
            "order": null,
            "_view_module_version": "1.2.0",
            "grid_template_areas": null,
            "object_position": null,
            "object_fit": null,
            "grid_auto_columns": null,
            "margin": null,
            "display": null,
            "left": null
          }
        },
        "a76a428bc8af4353b46b61a7847d1871": {
          "model_module": "@jupyter-widgets/controls",
          "model_name": "DescriptionStyleModel",
          "model_module_version": "1.5.0",
          "state": {
            "_view_name": "StyleView",
            "_model_name": "DescriptionStyleModel",
            "description_width": "",
            "_view_module": "@jupyter-widgets/base",
            "_model_module_version": "1.5.0",
            "_view_count": null,
            "_view_module_version": "1.2.0",
            "_model_module": "@jupyter-widgets/controls"
          }
        },
        "03298758fdbc404ebed21333f1e0b015": {
          "model_module": "@jupyter-widgets/base",
          "model_name": "LayoutModel",
          "model_module_version": "1.2.0",
          "state": {
            "_view_name": "LayoutView",
            "grid_template_rows": null,
            "right": null,
            "justify_content": null,
            "_view_module": "@jupyter-widgets/base",
            "overflow": null,
            "_model_module_version": "1.2.0",
            "_view_count": null,
            "flex_flow": null,
            "width": null,
            "min_width": null,
            "border": null,
            "align_items": null,
            "bottom": null,
            "_model_module": "@jupyter-widgets/base",
            "top": null,
            "grid_column": null,
            "overflow_y": null,
            "overflow_x": null,
            "grid_auto_flow": null,
            "grid_area": null,
            "grid_template_columns": null,
            "flex": null,
            "_model_name": "LayoutModel",
            "justify_items": null,
            "grid_row": null,
            "max_height": null,
            "align_content": null,
            "visibility": null,
            "align_self": null,
            "height": null,
            "min_height": null,
            "padding": null,
            "grid_auto_rows": null,
            "grid_gap": null,
            "max_width": null,
            "order": null,
            "_view_module_version": "1.2.0",
            "grid_template_areas": null,
            "object_position": null,
            "object_fit": null,
            "grid_auto_columns": null,
            "margin": null,
            "display": null,
            "left": null
          }
        },
        "b29d507f3828469fac1dc991ebeb0e95": {
          "model_module": "@jupyter-widgets/controls",
          "model_name": "HBoxModel",
          "model_module_version": "1.5.0",
          "state": {
            "_view_name": "HBoxView",
            "_dom_classes": [],
            "_model_name": "HBoxModel",
            "_view_module": "@jupyter-widgets/controls",
            "_model_module_version": "1.5.0",
            "_view_count": null,
            "_view_module_version": "1.5.0",
            "box_style": "",
            "layout": "IPY_MODEL_a006d0d3f5dd4577b73a68138a10ddbc",
            "_model_module": "@jupyter-widgets/controls",
            "children": [
              "IPY_MODEL_53a083cf54ce470c851086deb2252f97",
              "IPY_MODEL_ac1deac23dea427b94b1f90ec2df44c3",
              "IPY_MODEL_41c34e6916634a5094293116df67390b"
            ]
          }
        },
        "a006d0d3f5dd4577b73a68138a10ddbc": {
          "model_module": "@jupyter-widgets/base",
          "model_name": "LayoutModel",
          "model_module_version": "1.2.0",
          "state": {
            "_view_name": "LayoutView",
            "grid_template_rows": null,
            "right": null,
            "justify_content": null,
            "_view_module": "@jupyter-widgets/base",
            "overflow": null,
            "_model_module_version": "1.2.0",
            "_view_count": null,
            "flex_flow": null,
            "width": null,
            "min_width": null,
            "border": null,
            "align_items": null,
            "bottom": null,
            "_model_module": "@jupyter-widgets/base",
            "top": null,
            "grid_column": null,
            "overflow_y": null,
            "overflow_x": null,
            "grid_auto_flow": null,
            "grid_area": null,
            "grid_template_columns": null,
            "flex": null,
            "_model_name": "LayoutModel",
            "justify_items": null,
            "grid_row": null,
            "max_height": null,
            "align_content": null,
            "visibility": null,
            "align_self": null,
            "height": null,
            "min_height": null,
            "padding": null,
            "grid_auto_rows": null,
            "grid_gap": null,
            "max_width": null,
            "order": null,
            "_view_module_version": "1.2.0",
            "grid_template_areas": null,
            "object_position": null,
            "object_fit": null,
            "grid_auto_columns": null,
            "margin": null,
            "display": null,
            "left": null
          }
        },
        "53a083cf54ce470c851086deb2252f97": {
          "model_module": "@jupyter-widgets/controls",
          "model_name": "HTMLModel",
          "model_module_version": "1.5.0",
          "state": {
            "_view_name": "HTMLView",
            "style": "IPY_MODEL_68556600fe7f497fbbb04a46c47e9ce0",
            "_dom_classes": [],
            "description": "",
            "_model_name": "HTMLModel",
            "placeholder": "​",
            "_view_module": "@jupyter-widgets/controls",
            "_model_module_version": "1.5.0",
            "value": "Downloading: 100%",
            "_view_count": null,
            "_view_module_version": "1.5.0",
            "description_tooltip": null,
            "_model_module": "@jupyter-widgets/controls",
            "layout": "IPY_MODEL_233f2f0b695c46a8a50019ff6179b724"
          }
        },
        "ac1deac23dea427b94b1f90ec2df44c3": {
          "model_module": "@jupyter-widgets/controls",
          "model_name": "FloatProgressModel",
          "model_module_version": "1.5.0",
          "state": {
            "_view_name": "ProgressView",
            "style": "IPY_MODEL_ec9b670f4ff345c4acdff25c4ca47e1e",
            "_dom_classes": [],
            "description": "",
            "_model_name": "FloatProgressModel",
            "bar_style": "success",
            "max": 231508,
            "_view_module": "@jupyter-widgets/controls",
            "_model_module_version": "1.5.0",
            "value": 231508,
            "_view_count": null,
            "_view_module_version": "1.5.0",
            "orientation": "horizontal",
            "min": 0,
            "description_tooltip": null,
            "_model_module": "@jupyter-widgets/controls",
            "layout": "IPY_MODEL_25d0dc721ca64d2790ffb9a1a86b11f1"
          }
        },
        "41c34e6916634a5094293116df67390b": {
          "model_module": "@jupyter-widgets/controls",
          "model_name": "HTMLModel",
          "model_module_version": "1.5.0",
          "state": {
            "_view_name": "HTMLView",
            "style": "IPY_MODEL_15d78fb19b3640859af959976d072db7",
            "_dom_classes": [],
            "description": "",
            "_model_name": "HTMLModel",
            "placeholder": "​",
            "_view_module": "@jupyter-widgets/controls",
            "_model_module_version": "1.5.0",
            "value": " 226k/226k [00:00&lt;00:00, 276kB/s]",
            "_view_count": null,
            "_view_module_version": "1.5.0",
            "description_tooltip": null,
            "_model_module": "@jupyter-widgets/controls",
            "layout": "IPY_MODEL_94b39b0fe3624393ad25b81e778f5d0d"
          }
        },
        "68556600fe7f497fbbb04a46c47e9ce0": {
          "model_module": "@jupyter-widgets/controls",
          "model_name": "DescriptionStyleModel",
          "model_module_version": "1.5.0",
          "state": {
            "_view_name": "StyleView",
            "_model_name": "DescriptionStyleModel",
            "description_width": "",
            "_view_module": "@jupyter-widgets/base",
            "_model_module_version": "1.5.0",
            "_view_count": null,
            "_view_module_version": "1.2.0",
            "_model_module": "@jupyter-widgets/controls"
          }
        },
        "233f2f0b695c46a8a50019ff6179b724": {
          "model_module": "@jupyter-widgets/base",
          "model_name": "LayoutModel",
          "model_module_version": "1.2.0",
          "state": {
            "_view_name": "LayoutView",
            "grid_template_rows": null,
            "right": null,
            "justify_content": null,
            "_view_module": "@jupyter-widgets/base",
            "overflow": null,
            "_model_module_version": "1.2.0",
            "_view_count": null,
            "flex_flow": null,
            "width": null,
            "min_width": null,
            "border": null,
            "align_items": null,
            "bottom": null,
            "_model_module": "@jupyter-widgets/base",
            "top": null,
            "grid_column": null,
            "overflow_y": null,
            "overflow_x": null,
            "grid_auto_flow": null,
            "grid_area": null,
            "grid_template_columns": null,
            "flex": null,
            "_model_name": "LayoutModel",
            "justify_items": null,
            "grid_row": null,
            "max_height": null,
            "align_content": null,
            "visibility": null,
            "align_self": null,
            "height": null,
            "min_height": null,
            "padding": null,
            "grid_auto_rows": null,
            "grid_gap": null,
            "max_width": null,
            "order": null,
            "_view_module_version": "1.2.0",
            "grid_template_areas": null,
            "object_position": null,
            "object_fit": null,
            "grid_auto_columns": null,
            "margin": null,
            "display": null,
            "left": null
          }
        },
        "ec9b670f4ff345c4acdff25c4ca47e1e": {
          "model_module": "@jupyter-widgets/controls",
          "model_name": "ProgressStyleModel",
          "model_module_version": "1.5.0",
          "state": {
            "_view_name": "StyleView",
            "_model_name": "ProgressStyleModel",
            "description_width": "",
            "_view_module": "@jupyter-widgets/base",
            "_model_module_version": "1.5.0",
            "_view_count": null,
            "_view_module_version": "1.2.0",
            "bar_color": null,
            "_model_module": "@jupyter-widgets/controls"
          }
        },
        "25d0dc721ca64d2790ffb9a1a86b11f1": {
          "model_module": "@jupyter-widgets/base",
          "model_name": "LayoutModel",
          "model_module_version": "1.2.0",
          "state": {
            "_view_name": "LayoutView",
            "grid_template_rows": null,
            "right": null,
            "justify_content": null,
            "_view_module": "@jupyter-widgets/base",
            "overflow": null,
            "_model_module_version": "1.2.0",
            "_view_count": null,
            "flex_flow": null,
            "width": null,
            "min_width": null,
            "border": null,
            "align_items": null,
            "bottom": null,
            "_model_module": "@jupyter-widgets/base",
            "top": null,
            "grid_column": null,
            "overflow_y": null,
            "overflow_x": null,
            "grid_auto_flow": null,
            "grid_area": null,
            "grid_template_columns": null,
            "flex": null,
            "_model_name": "LayoutModel",
            "justify_items": null,
            "grid_row": null,
            "max_height": null,
            "align_content": null,
            "visibility": null,
            "align_self": null,
            "height": null,
            "min_height": null,
            "padding": null,
            "grid_auto_rows": null,
            "grid_gap": null,
            "max_width": null,
            "order": null,
            "_view_module_version": "1.2.0",
            "grid_template_areas": null,
            "object_position": null,
            "object_fit": null,
            "grid_auto_columns": null,
            "margin": null,
            "display": null,
            "left": null
          }
        },
        "15d78fb19b3640859af959976d072db7": {
          "model_module": "@jupyter-widgets/controls",
          "model_name": "DescriptionStyleModel",
          "model_module_version": "1.5.0",
          "state": {
            "_view_name": "StyleView",
            "_model_name": "DescriptionStyleModel",
            "description_width": "",
            "_view_module": "@jupyter-widgets/base",
            "_model_module_version": "1.5.0",
            "_view_count": null,
            "_view_module_version": "1.2.0",
            "_model_module": "@jupyter-widgets/controls"
          }
        },
        "94b39b0fe3624393ad25b81e778f5d0d": {
          "model_module": "@jupyter-widgets/base",
          "model_name": "LayoutModel",
          "model_module_version": "1.2.0",
          "state": {
            "_view_name": "LayoutView",
            "grid_template_rows": null,
            "right": null,
            "justify_content": null,
            "_view_module": "@jupyter-widgets/base",
            "overflow": null,
            "_model_module_version": "1.2.0",
            "_view_count": null,
            "flex_flow": null,
            "width": null,
            "min_width": null,
            "border": null,
            "align_items": null,
            "bottom": null,
            "_model_module": "@jupyter-widgets/base",
            "top": null,
            "grid_column": null,
            "overflow_y": null,
            "overflow_x": null,
            "grid_auto_flow": null,
            "grid_area": null,
            "grid_template_columns": null,
            "flex": null,
            "_model_name": "LayoutModel",
            "justify_items": null,
            "grid_row": null,
            "max_height": null,
            "align_content": null,
            "visibility": null,
            "align_self": null,
            "height": null,
            "min_height": null,
            "padding": null,
            "grid_auto_rows": null,
            "grid_gap": null,
            "max_width": null,
            "order": null,
            "_view_module_version": "1.2.0",
            "grid_template_areas": null,
            "object_position": null,
            "object_fit": null,
            "grid_auto_columns": null,
            "margin": null,
            "display": null,
            "left": null
          }
        },
        "efc8d7f31f334f1ca4834296071a97d6": {
          "model_module": "@jupyter-widgets/controls",
          "model_name": "HBoxModel",
          "model_module_version": "1.5.0",
          "state": {
            "_view_name": "HBoxView",
            "_dom_classes": [],
            "_model_name": "HBoxModel",
            "_view_module": "@jupyter-widgets/controls",
            "_model_module_version": "1.5.0",
            "_view_count": null,
            "_view_module_version": "1.5.0",
            "box_style": "",
            "layout": "IPY_MODEL_520e9d5e0aab43f4a0080dfef6e0c188",
            "_model_module": "@jupyter-widgets/controls",
            "children": [
              "IPY_MODEL_3d82e595e8ff4b0eaf44e6bd87055d38",
              "IPY_MODEL_9bacce167d3f4555b89d263acf7adc5d",
              "IPY_MODEL_4e806837beb14320a7c2a776e56d7e1b"
            ]
          }
        },
        "520e9d5e0aab43f4a0080dfef6e0c188": {
          "model_module": "@jupyter-widgets/base",
          "model_name": "LayoutModel",
          "model_module_version": "1.2.0",
          "state": {
            "_view_name": "LayoutView",
            "grid_template_rows": null,
            "right": null,
            "justify_content": null,
            "_view_module": "@jupyter-widgets/base",
            "overflow": null,
            "_model_module_version": "1.2.0",
            "_view_count": null,
            "flex_flow": null,
            "width": null,
            "min_width": null,
            "border": null,
            "align_items": null,
            "bottom": null,
            "_model_module": "@jupyter-widgets/base",
            "top": null,
            "grid_column": null,
            "overflow_y": null,
            "overflow_x": null,
            "grid_auto_flow": null,
            "grid_area": null,
            "grid_template_columns": null,
            "flex": null,
            "_model_name": "LayoutModel",
            "justify_items": null,
            "grid_row": null,
            "max_height": null,
            "align_content": null,
            "visibility": null,
            "align_self": null,
            "height": null,
            "min_height": null,
            "padding": null,
            "grid_auto_rows": null,
            "grid_gap": null,
            "max_width": null,
            "order": null,
            "_view_module_version": "1.2.0",
            "grid_template_areas": null,
            "object_position": null,
            "object_fit": null,
            "grid_auto_columns": null,
            "margin": null,
            "display": null,
            "left": null
          }
        },
        "3d82e595e8ff4b0eaf44e6bd87055d38": {
          "model_module": "@jupyter-widgets/controls",
          "model_name": "HTMLModel",
          "model_module_version": "1.5.0",
          "state": {
            "_view_name": "HTMLView",
            "style": "IPY_MODEL_953e67c087014085a0ecf36315473705",
            "_dom_classes": [],
            "description": "",
            "_model_name": "HTMLModel",
            "placeholder": "​",
            "_view_module": "@jupyter-widgets/controls",
            "_model_module_version": "1.5.0",
            "value": "Downloading: 100%",
            "_view_count": null,
            "_view_module_version": "1.5.0",
            "description_tooltip": null,
            "_model_module": "@jupyter-widgets/controls",
            "layout": "IPY_MODEL_6d5c4647f74549a9a04f9f8b88238e1a"
          }
        },
        "9bacce167d3f4555b89d263acf7adc5d": {
          "model_module": "@jupyter-widgets/controls",
          "model_name": "FloatProgressModel",
          "model_module_version": "1.5.0",
          "state": {
            "_view_name": "ProgressView",
            "style": "IPY_MODEL_3d37e97f956f45da80902fbac0889765",
            "_dom_classes": [],
            "description": "",
            "_model_name": "FloatProgressModel",
            "bar_style": "success",
            "max": 466062,
            "_view_module": "@jupyter-widgets/controls",
            "_model_module_version": "1.5.0",
            "value": 466062,
            "_view_count": null,
            "_view_module_version": "1.5.0",
            "orientation": "horizontal",
            "min": 0,
            "description_tooltip": null,
            "_model_module": "@jupyter-widgets/controls",
            "layout": "IPY_MODEL_43aa5dc901a848c7b32f4971f175c0f0"
          }
        },
        "4e806837beb14320a7c2a776e56d7e1b": {
          "model_module": "@jupyter-widgets/controls",
          "model_name": "HTMLModel",
          "model_module_version": "1.5.0",
          "state": {
            "_view_name": "HTMLView",
            "style": "IPY_MODEL_86ca3f168bba46a88e42360decb16df6",
            "_dom_classes": [],
            "description": "",
            "_model_name": "HTMLModel",
            "placeholder": "​",
            "_view_module": "@jupyter-widgets/controls",
            "_model_module_version": "1.5.0",
            "value": " 455k/455k [00:00&lt;00:00, 626kB/s]",
            "_view_count": null,
            "_view_module_version": "1.5.0",
            "description_tooltip": null,
            "_model_module": "@jupyter-widgets/controls",
            "layout": "IPY_MODEL_e5cd7d84817a4fda80cfc8465ed9d7e1"
          }
        },
        "953e67c087014085a0ecf36315473705": {
          "model_module": "@jupyter-widgets/controls",
          "model_name": "DescriptionStyleModel",
          "model_module_version": "1.5.0",
          "state": {
            "_view_name": "StyleView",
            "_model_name": "DescriptionStyleModel",
            "description_width": "",
            "_view_module": "@jupyter-widgets/base",
            "_model_module_version": "1.5.0",
            "_view_count": null,
            "_view_module_version": "1.2.0",
            "_model_module": "@jupyter-widgets/controls"
          }
        },
        "6d5c4647f74549a9a04f9f8b88238e1a": {
          "model_module": "@jupyter-widgets/base",
          "model_name": "LayoutModel",
          "model_module_version": "1.2.0",
          "state": {
            "_view_name": "LayoutView",
            "grid_template_rows": null,
            "right": null,
            "justify_content": null,
            "_view_module": "@jupyter-widgets/base",
            "overflow": null,
            "_model_module_version": "1.2.0",
            "_view_count": null,
            "flex_flow": null,
            "width": null,
            "min_width": null,
            "border": null,
            "align_items": null,
            "bottom": null,
            "_model_module": "@jupyter-widgets/base",
            "top": null,
            "grid_column": null,
            "overflow_y": null,
            "overflow_x": null,
            "grid_auto_flow": null,
            "grid_area": null,
            "grid_template_columns": null,
            "flex": null,
            "_model_name": "LayoutModel",
            "justify_items": null,
            "grid_row": null,
            "max_height": null,
            "align_content": null,
            "visibility": null,
            "align_self": null,
            "height": null,
            "min_height": null,
            "padding": null,
            "grid_auto_rows": null,
            "grid_gap": null,
            "max_width": null,
            "order": null,
            "_view_module_version": "1.2.0",
            "grid_template_areas": null,
            "object_position": null,
            "object_fit": null,
            "grid_auto_columns": null,
            "margin": null,
            "display": null,
            "left": null
          }
        },
        "3d37e97f956f45da80902fbac0889765": {
          "model_module": "@jupyter-widgets/controls",
          "model_name": "ProgressStyleModel",
          "model_module_version": "1.5.0",
          "state": {
            "_view_name": "StyleView",
            "_model_name": "ProgressStyleModel",
            "description_width": "",
            "_view_module": "@jupyter-widgets/base",
            "_model_module_version": "1.5.0",
            "_view_count": null,
            "_view_module_version": "1.2.0",
            "bar_color": null,
            "_model_module": "@jupyter-widgets/controls"
          }
        },
        "43aa5dc901a848c7b32f4971f175c0f0": {
          "model_module": "@jupyter-widgets/base",
          "model_name": "LayoutModel",
          "model_module_version": "1.2.0",
          "state": {
            "_view_name": "LayoutView",
            "grid_template_rows": null,
            "right": null,
            "justify_content": null,
            "_view_module": "@jupyter-widgets/base",
            "overflow": null,
            "_model_module_version": "1.2.0",
            "_view_count": null,
            "flex_flow": null,
            "width": null,
            "min_width": null,
            "border": null,
            "align_items": null,
            "bottom": null,
            "_model_module": "@jupyter-widgets/base",
            "top": null,
            "grid_column": null,
            "overflow_y": null,
            "overflow_x": null,
            "grid_auto_flow": null,
            "grid_area": null,
            "grid_template_columns": null,
            "flex": null,
            "_model_name": "LayoutModel",
            "justify_items": null,
            "grid_row": null,
            "max_height": null,
            "align_content": null,
            "visibility": null,
            "align_self": null,
            "height": null,
            "min_height": null,
            "padding": null,
            "grid_auto_rows": null,
            "grid_gap": null,
            "max_width": null,
            "order": null,
            "_view_module_version": "1.2.0",
            "grid_template_areas": null,
            "object_position": null,
            "object_fit": null,
            "grid_auto_columns": null,
            "margin": null,
            "display": null,
            "left": null
          }
        },
        "86ca3f168bba46a88e42360decb16df6": {
          "model_module": "@jupyter-widgets/controls",
          "model_name": "DescriptionStyleModel",
          "model_module_version": "1.5.0",
          "state": {
            "_view_name": "StyleView",
            "_model_name": "DescriptionStyleModel",
            "description_width": "",
            "_view_module": "@jupyter-widgets/base",
            "_model_module_version": "1.5.0",
            "_view_count": null,
            "_view_module_version": "1.2.0",
            "_model_module": "@jupyter-widgets/controls"
          }
        },
        "e5cd7d84817a4fda80cfc8465ed9d7e1": {
          "model_module": "@jupyter-widgets/base",
          "model_name": "LayoutModel",
          "model_module_version": "1.2.0",
          "state": {
            "_view_name": "LayoutView",
            "grid_template_rows": null,
            "right": null,
            "justify_content": null,
            "_view_module": "@jupyter-widgets/base",
            "overflow": null,
            "_model_module_version": "1.2.0",
            "_view_count": null,
            "flex_flow": null,
            "width": null,
            "min_width": null,
            "border": null,
            "align_items": null,
            "bottom": null,
            "_model_module": "@jupyter-widgets/base",
            "top": null,
            "grid_column": null,
            "overflow_y": null,
            "overflow_x": null,
            "grid_auto_flow": null,
            "grid_area": null,
            "grid_template_columns": null,
            "flex": null,
            "_model_name": "LayoutModel",
            "justify_items": null,
            "grid_row": null,
            "max_height": null,
            "align_content": null,
            "visibility": null,
            "align_self": null,
            "height": null,
            "min_height": null,
            "padding": null,
            "grid_auto_rows": null,
            "grid_gap": null,
            "max_width": null,
            "order": null,
            "_view_module_version": "1.2.0",
            "grid_template_areas": null,
            "object_position": null,
            "object_fit": null,
            "grid_auto_columns": null,
            "margin": null,
            "display": null,
            "left": null
          }
        },
        "ddd97e9385ee4c0c98ca66765a3cd1c7": {
          "model_module": "@jupyter-widgets/controls",
          "model_name": "HBoxModel",
          "model_module_version": "1.5.0",
          "state": {
            "_view_name": "HBoxView",
            "_dom_classes": [],
            "_model_name": "HBoxModel",
            "_view_module": "@jupyter-widgets/controls",
            "_model_module_version": "1.5.0",
            "_view_count": null,
            "_view_module_version": "1.5.0",
            "box_style": "",
            "layout": "IPY_MODEL_7e2e318277ea46a69e470dcb613d12ad",
            "_model_module": "@jupyter-widgets/controls",
            "children": [
              "IPY_MODEL_2de91833783f4f309ff2ec053038bbf9",
              "IPY_MODEL_957515a4450c49bda9a77e193b30ab3d",
              "IPY_MODEL_ff535999161240b6a41cddea5c52e237"
            ]
          }
        },
        "7e2e318277ea46a69e470dcb613d12ad": {
          "model_module": "@jupyter-widgets/base",
          "model_name": "LayoutModel",
          "model_module_version": "1.2.0",
          "state": {
            "_view_name": "LayoutView",
            "grid_template_rows": null,
            "right": null,
            "justify_content": null,
            "_view_module": "@jupyter-widgets/base",
            "overflow": null,
            "_model_module_version": "1.2.0",
            "_view_count": null,
            "flex_flow": null,
            "width": null,
            "min_width": null,
            "border": null,
            "align_items": null,
            "bottom": null,
            "_model_module": "@jupyter-widgets/base",
            "top": null,
            "grid_column": null,
            "overflow_y": null,
            "overflow_x": null,
            "grid_auto_flow": null,
            "grid_area": null,
            "grid_template_columns": null,
            "flex": null,
            "_model_name": "LayoutModel",
            "justify_items": null,
            "grid_row": null,
            "max_height": null,
            "align_content": null,
            "visibility": null,
            "align_self": null,
            "height": null,
            "min_height": null,
            "padding": null,
            "grid_auto_rows": null,
            "grid_gap": null,
            "max_width": null,
            "order": null,
            "_view_module_version": "1.2.0",
            "grid_template_areas": null,
            "object_position": null,
            "object_fit": null,
            "grid_auto_columns": null,
            "margin": null,
            "display": null,
            "left": null
          }
        },
        "2de91833783f4f309ff2ec053038bbf9": {
          "model_module": "@jupyter-widgets/controls",
          "model_name": "HTMLModel",
          "model_module_version": "1.5.0",
          "state": {
            "_view_name": "HTMLView",
            "style": "IPY_MODEL_2ad20c98c4a846fe9e65853b302935f3",
            "_dom_classes": [],
            "description": "",
            "_model_name": "HTMLModel",
            "placeholder": "​",
            "_view_module": "@jupyter-widgets/controls",
            "_model_module_version": "1.5.0",
            "value": "Downloading: 100%",
            "_view_count": null,
            "_view_module_version": "1.5.0",
            "description_tooltip": null,
            "_model_module": "@jupyter-widgets/controls",
            "layout": "IPY_MODEL_56cca93812e04cd388322845cf2c6eb1"
          }
        },
        "957515a4450c49bda9a77e193b30ab3d": {
          "model_module": "@jupyter-widgets/controls",
          "model_name": "FloatProgressModel",
          "model_module_version": "1.5.0",
          "state": {
            "_view_name": "ProgressView",
            "style": "IPY_MODEL_89da845f2d7e4990a3f6eaf3c4ffcbc7",
            "_dom_classes": [],
            "description": "",
            "_model_name": "FloatProgressModel",
            "bar_style": "success",
            "max": 1472569832,
            "_view_module": "@jupyter-widgets/controls",
            "_model_module_version": "1.5.0",
            "value": 1472569832,
            "_view_count": null,
            "_view_module_version": "1.5.0",
            "orientation": "horizontal",
            "min": 0,
            "description_tooltip": null,
            "_model_module": "@jupyter-widgets/controls",
            "layout": "IPY_MODEL_ba6bd288d9344f10b7e4a47c0ab2be5f"
          }
        },
        "ff535999161240b6a41cddea5c52e237": {
          "model_module": "@jupyter-widgets/controls",
          "model_name": "HTMLModel",
          "model_module_version": "1.5.0",
          "state": {
            "_view_name": "HTMLView",
            "style": "IPY_MODEL_fed8614c703248d0bbd7c335eb5ca2a7",
            "_dom_classes": [],
            "description": "",
            "_model_name": "HTMLModel",
            "placeholder": "​",
            "_view_module": "@jupyter-widgets/controls",
            "_model_module_version": "1.5.0",
            "value": " 1.37G/1.37G [01:07&lt;00:00, 22.8MB/s]",
            "_view_count": null,
            "_view_module_version": "1.5.0",
            "description_tooltip": null,
            "_model_module": "@jupyter-widgets/controls",
            "layout": "IPY_MODEL_56048107696c4556a51ef1092127347a"
          }
        },
        "2ad20c98c4a846fe9e65853b302935f3": {
          "model_module": "@jupyter-widgets/controls",
          "model_name": "DescriptionStyleModel",
          "model_module_version": "1.5.0",
          "state": {
            "_view_name": "StyleView",
            "_model_name": "DescriptionStyleModel",
            "description_width": "",
            "_view_module": "@jupyter-widgets/base",
            "_model_module_version": "1.5.0",
            "_view_count": null,
            "_view_module_version": "1.2.0",
            "_model_module": "@jupyter-widgets/controls"
          }
        },
        "56cca93812e04cd388322845cf2c6eb1": {
          "model_module": "@jupyter-widgets/base",
          "model_name": "LayoutModel",
          "model_module_version": "1.2.0",
          "state": {
            "_view_name": "LayoutView",
            "grid_template_rows": null,
            "right": null,
            "justify_content": null,
            "_view_module": "@jupyter-widgets/base",
            "overflow": null,
            "_model_module_version": "1.2.0",
            "_view_count": null,
            "flex_flow": null,
            "width": null,
            "min_width": null,
            "border": null,
            "align_items": null,
            "bottom": null,
            "_model_module": "@jupyter-widgets/base",
            "top": null,
            "grid_column": null,
            "overflow_y": null,
            "overflow_x": null,
            "grid_auto_flow": null,
            "grid_area": null,
            "grid_template_columns": null,
            "flex": null,
            "_model_name": "LayoutModel",
            "justify_items": null,
            "grid_row": null,
            "max_height": null,
            "align_content": null,
            "visibility": null,
            "align_self": null,
            "height": null,
            "min_height": null,
            "padding": null,
            "grid_auto_rows": null,
            "grid_gap": null,
            "max_width": null,
            "order": null,
            "_view_module_version": "1.2.0",
            "grid_template_areas": null,
            "object_position": null,
            "object_fit": null,
            "grid_auto_columns": null,
            "margin": null,
            "display": null,
            "left": null
          }
        },
        "89da845f2d7e4990a3f6eaf3c4ffcbc7": {
          "model_module": "@jupyter-widgets/controls",
          "model_name": "ProgressStyleModel",
          "model_module_version": "1.5.0",
          "state": {
            "_view_name": "StyleView",
            "_model_name": "ProgressStyleModel",
            "description_width": "",
            "_view_module": "@jupyter-widgets/base",
            "_model_module_version": "1.5.0",
            "_view_count": null,
            "_view_module_version": "1.2.0",
            "bar_color": null,
            "_model_module": "@jupyter-widgets/controls"
          }
        },
        "ba6bd288d9344f10b7e4a47c0ab2be5f": {
          "model_module": "@jupyter-widgets/base",
          "model_name": "LayoutModel",
          "model_module_version": "1.2.0",
          "state": {
            "_view_name": "LayoutView",
            "grid_template_rows": null,
            "right": null,
            "justify_content": null,
            "_view_module": "@jupyter-widgets/base",
            "overflow": null,
            "_model_module_version": "1.2.0",
            "_view_count": null,
            "flex_flow": null,
            "width": null,
            "min_width": null,
            "border": null,
            "align_items": null,
            "bottom": null,
            "_model_module": "@jupyter-widgets/base",
            "top": null,
            "grid_column": null,
            "overflow_y": null,
            "overflow_x": null,
            "grid_auto_flow": null,
            "grid_area": null,
            "grid_template_columns": null,
            "flex": null,
            "_model_name": "LayoutModel",
            "justify_items": null,
            "grid_row": null,
            "max_height": null,
            "align_content": null,
            "visibility": null,
            "align_self": null,
            "height": null,
            "min_height": null,
            "padding": null,
            "grid_auto_rows": null,
            "grid_gap": null,
            "max_width": null,
            "order": null,
            "_view_module_version": "1.2.0",
            "grid_template_areas": null,
            "object_position": null,
            "object_fit": null,
            "grid_auto_columns": null,
            "margin": null,
            "display": null,
            "left": null
          }
        },
        "fed8614c703248d0bbd7c335eb5ca2a7": {
          "model_module": "@jupyter-widgets/controls",
          "model_name": "DescriptionStyleModel",
          "model_module_version": "1.5.0",
          "state": {
            "_view_name": "StyleView",
            "_model_name": "DescriptionStyleModel",
            "description_width": "",
            "_view_module": "@jupyter-widgets/base",
            "_model_module_version": "1.5.0",
            "_view_count": null,
            "_view_module_version": "1.2.0",
            "_model_module": "@jupyter-widgets/controls"
          }
        },
        "56048107696c4556a51ef1092127347a": {
          "model_module": "@jupyter-widgets/base",
          "model_name": "LayoutModel",
          "model_module_version": "1.2.0",
          "state": {
            "_view_name": "LayoutView",
            "grid_template_rows": null,
            "right": null,
            "justify_content": null,
            "_view_module": "@jupyter-widgets/base",
            "overflow": null,
            "_model_module_version": "1.2.0",
            "_view_count": null,
            "flex_flow": null,
            "width": null,
            "min_width": null,
            "border": null,
            "align_items": null,
            "bottom": null,
            "_model_module": "@jupyter-widgets/base",
            "top": null,
            "grid_column": null,
            "overflow_y": null,
            "overflow_x": null,
            "grid_auto_flow": null,
            "grid_area": null,
            "grid_template_columns": null,
            "flex": null,
            "_model_name": "LayoutModel",
            "justify_items": null,
            "grid_row": null,
            "max_height": null,
            "align_content": null,
            "visibility": null,
            "align_self": null,
            "height": null,
            "min_height": null,
            "padding": null,
            "grid_auto_rows": null,
            "grid_gap": null,
            "max_width": null,
            "order": null,
            "_view_module_version": "1.2.0",
            "grid_template_areas": null,
            "object_position": null,
            "object_fit": null,
            "grid_auto_columns": null,
            "margin": null,
            "display": null,
            "left": null
          }
        }
      }
    },
    "colab": {
      "name": "NLP with Disaster Tweets-EDA-GloVE-RNNs-BERT.ipynb",
      "provenance": [],
      "collapsed_sections": [
        "wg9jDbGMh6Gu",
        "GpQxrU17h6Gy",
        "Wtu7qIgrh6G6",
        "cPOx-Y7Lh6G9",
        "0DY2KN76h6G-",
        "9hGjBL4oh6G_"
      ],
      "machine_shape": "hm",
      "include_colab_link": true
    },
    "accelerator": "GPU"
  },
  "nbformat": 4,
  "nbformat_minor": 0
}